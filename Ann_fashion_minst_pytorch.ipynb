{
  "nbformat": 4,
  "nbformat_minor": 0,
  "metadata": {
    "colab": {
      "provenance": []
    },
    "kernelspec": {
      "name": "python3",
      "display_name": "Python 3"
    },
    "language_info": {
      "name": "python"
    }
  },
  "cells": [
    {
      "cell_type": "code",
      "execution_count": 10,
      "metadata": {
        "id": "obhOtW2J8-6M"
      },
      "outputs": [],
      "source": [
        "import torch\n",
        "import pandas as pd\n",
        "import torch.nn as nn\n",
        "import torch.optim as optim\n",
        "import matplotlib.pyplot as plt\n",
        "from torch.utils.data import Dataset, DataLoader\n",
        "from sklearn.model_selection import train_test_split"
      ]
    },
    {
      "cell_type": "code",
      "source": [
        "# Set random seeds for reproducibility\n",
        "torch.manual_seed(42)"
      ],
      "metadata": {
        "id": "9uw_PBMO-inm",
        "colab": {
          "base_uri": "https://localhost:8080/"
        },
        "outputId": "aeaec0f1-5540-4dae-878b-7075c8830599"
      },
      "execution_count": 11,
      "outputs": [
        {
          "output_type": "execute_result",
          "data": {
            "text/plain": [
              "<torch._C.Generator at 0x7e58a4ed6a30>"
            ]
          },
          "metadata": {},
          "execution_count": 11
        }
      ]
    },
    {
      "cell_type": "code",
      "source": [
        "df = pd.read_csv('/content/fmnist_small.csv')\n",
        "df.head()"
      ],
      "metadata": {
        "colab": {
          "base_uri": "https://localhost:8080/",
          "height": 256
        },
        "id": "Jo_gTA0XDUO-",
        "outputId": "3a7ef6ad-9c58-47bc-f5bc-83519251cdbc"
      },
      "execution_count": 12,
      "outputs": [
        {
          "output_type": "execute_result",
          "data": {
            "text/plain": [
              "   label  pixel1  pixel2  pixel3  pixel4  pixel5  pixel6  pixel7  pixel8  \\\n",
              "0      9       0       0       0       0       0       0       0       0   \n",
              "1      7       0       0       0       0       0       0       0       0   \n",
              "2      0       0       0       0       0       0       1       0       0   \n",
              "3      8       0       0       0       0       0       0       0       0   \n",
              "4      8       0       0       0       0       0       0       0       0   \n",
              "\n",
              "   pixel9  ...  pixel775  pixel776  pixel777  pixel778  pixel779  pixel780  \\\n",
              "0       0  ...         0         7         0        50       205       196   \n",
              "1       0  ...         0         0         0         0         0         0   \n",
              "2       0  ...       142       142       142        21         0         3   \n",
              "3       0  ...         0         0         0         0         0         0   \n",
              "4       0  ...       213       203       174       151       188        10   \n",
              "\n",
              "   pixel781  pixel782  pixel783  pixel784  \n",
              "0       213       165         0         0  \n",
              "1         0         0         0         0  \n",
              "2         0         0         0         0  \n",
              "3         0         0         0         0  \n",
              "4         0         0         0         0  \n",
              "\n",
              "[5 rows x 785 columns]"
            ],
            "text/html": [
              "\n",
              "  <div id=\"df-46f57bfa-e736-41af-a71e-596662969a3b\" class=\"colab-df-container\">\n",
              "    <div>\n",
              "<style scoped>\n",
              "    .dataframe tbody tr th:only-of-type {\n",
              "        vertical-align: middle;\n",
              "    }\n",
              "\n",
              "    .dataframe tbody tr th {\n",
              "        vertical-align: top;\n",
              "    }\n",
              "\n",
              "    .dataframe thead th {\n",
              "        text-align: right;\n",
              "    }\n",
              "</style>\n",
              "<table border=\"1\" class=\"dataframe\">\n",
              "  <thead>\n",
              "    <tr style=\"text-align: right;\">\n",
              "      <th></th>\n",
              "      <th>label</th>\n",
              "      <th>pixel1</th>\n",
              "      <th>pixel2</th>\n",
              "      <th>pixel3</th>\n",
              "      <th>pixel4</th>\n",
              "      <th>pixel5</th>\n",
              "      <th>pixel6</th>\n",
              "      <th>pixel7</th>\n",
              "      <th>pixel8</th>\n",
              "      <th>pixel9</th>\n",
              "      <th>...</th>\n",
              "      <th>pixel775</th>\n",
              "      <th>pixel776</th>\n",
              "      <th>pixel777</th>\n",
              "      <th>pixel778</th>\n",
              "      <th>pixel779</th>\n",
              "      <th>pixel780</th>\n",
              "      <th>pixel781</th>\n",
              "      <th>pixel782</th>\n",
              "      <th>pixel783</th>\n",
              "      <th>pixel784</th>\n",
              "    </tr>\n",
              "  </thead>\n",
              "  <tbody>\n",
              "    <tr>\n",
              "      <th>0</th>\n",
              "      <td>9</td>\n",
              "      <td>0</td>\n",
              "      <td>0</td>\n",
              "      <td>0</td>\n",
              "      <td>0</td>\n",
              "      <td>0</td>\n",
              "      <td>0</td>\n",
              "      <td>0</td>\n",
              "      <td>0</td>\n",
              "      <td>0</td>\n",
              "      <td>...</td>\n",
              "      <td>0</td>\n",
              "      <td>7</td>\n",
              "      <td>0</td>\n",
              "      <td>50</td>\n",
              "      <td>205</td>\n",
              "      <td>196</td>\n",
              "      <td>213</td>\n",
              "      <td>165</td>\n",
              "      <td>0</td>\n",
              "      <td>0</td>\n",
              "    </tr>\n",
              "    <tr>\n",
              "      <th>1</th>\n",
              "      <td>7</td>\n",
              "      <td>0</td>\n",
              "      <td>0</td>\n",
              "      <td>0</td>\n",
              "      <td>0</td>\n",
              "      <td>0</td>\n",
              "      <td>0</td>\n",
              "      <td>0</td>\n",
              "      <td>0</td>\n",
              "      <td>0</td>\n",
              "      <td>...</td>\n",
              "      <td>0</td>\n",
              "      <td>0</td>\n",
              "      <td>0</td>\n",
              "      <td>0</td>\n",
              "      <td>0</td>\n",
              "      <td>0</td>\n",
              "      <td>0</td>\n",
              "      <td>0</td>\n",
              "      <td>0</td>\n",
              "      <td>0</td>\n",
              "    </tr>\n",
              "    <tr>\n",
              "      <th>2</th>\n",
              "      <td>0</td>\n",
              "      <td>0</td>\n",
              "      <td>0</td>\n",
              "      <td>0</td>\n",
              "      <td>0</td>\n",
              "      <td>0</td>\n",
              "      <td>1</td>\n",
              "      <td>0</td>\n",
              "      <td>0</td>\n",
              "      <td>0</td>\n",
              "      <td>...</td>\n",
              "      <td>142</td>\n",
              "      <td>142</td>\n",
              "      <td>142</td>\n",
              "      <td>21</td>\n",
              "      <td>0</td>\n",
              "      <td>3</td>\n",
              "      <td>0</td>\n",
              "      <td>0</td>\n",
              "      <td>0</td>\n",
              "      <td>0</td>\n",
              "    </tr>\n",
              "    <tr>\n",
              "      <th>3</th>\n",
              "      <td>8</td>\n",
              "      <td>0</td>\n",
              "      <td>0</td>\n",
              "      <td>0</td>\n",
              "      <td>0</td>\n",
              "      <td>0</td>\n",
              "      <td>0</td>\n",
              "      <td>0</td>\n",
              "      <td>0</td>\n",
              "      <td>0</td>\n",
              "      <td>...</td>\n",
              "      <td>0</td>\n",
              "      <td>0</td>\n",
              "      <td>0</td>\n",
              "      <td>0</td>\n",
              "      <td>0</td>\n",
              "      <td>0</td>\n",
              "      <td>0</td>\n",
              "      <td>0</td>\n",
              "      <td>0</td>\n",
              "      <td>0</td>\n",
              "    </tr>\n",
              "    <tr>\n",
              "      <th>4</th>\n",
              "      <td>8</td>\n",
              "      <td>0</td>\n",
              "      <td>0</td>\n",
              "      <td>0</td>\n",
              "      <td>0</td>\n",
              "      <td>0</td>\n",
              "      <td>0</td>\n",
              "      <td>0</td>\n",
              "      <td>0</td>\n",
              "      <td>0</td>\n",
              "      <td>...</td>\n",
              "      <td>213</td>\n",
              "      <td>203</td>\n",
              "      <td>174</td>\n",
              "      <td>151</td>\n",
              "      <td>188</td>\n",
              "      <td>10</td>\n",
              "      <td>0</td>\n",
              "      <td>0</td>\n",
              "      <td>0</td>\n",
              "      <td>0</td>\n",
              "    </tr>\n",
              "  </tbody>\n",
              "</table>\n",
              "<p>5 rows × 785 columns</p>\n",
              "</div>\n",
              "    <div class=\"colab-df-buttons\">\n",
              "\n",
              "  <div class=\"colab-df-container\">\n",
              "    <button class=\"colab-df-convert\" onclick=\"convertToInteractive('df-46f57bfa-e736-41af-a71e-596662969a3b')\"\n",
              "            title=\"Convert this dataframe to an interactive table.\"\n",
              "            style=\"display:none;\">\n",
              "\n",
              "  <svg xmlns=\"http://www.w3.org/2000/svg\" height=\"24px\" viewBox=\"0 -960 960 960\">\n",
              "    <path d=\"M120-120v-720h720v720H120Zm60-500h600v-160H180v160Zm220 220h160v-160H400v160Zm0 220h160v-160H400v160ZM180-400h160v-160H180v160Zm440 0h160v-160H620v160ZM180-180h160v-160H180v160Zm440 0h160v-160H620v160Z\"/>\n",
              "  </svg>\n",
              "    </button>\n",
              "\n",
              "  <style>\n",
              "    .colab-df-container {\n",
              "      display:flex;\n",
              "      gap: 12px;\n",
              "    }\n",
              "\n",
              "    .colab-df-convert {\n",
              "      background-color: #E8F0FE;\n",
              "      border: none;\n",
              "      border-radius: 50%;\n",
              "      cursor: pointer;\n",
              "      display: none;\n",
              "      fill: #1967D2;\n",
              "      height: 32px;\n",
              "      padding: 0 0 0 0;\n",
              "      width: 32px;\n",
              "    }\n",
              "\n",
              "    .colab-df-convert:hover {\n",
              "      background-color: #E2EBFA;\n",
              "      box-shadow: 0px 1px 2px rgba(60, 64, 67, 0.3), 0px 1px 3px 1px rgba(60, 64, 67, 0.15);\n",
              "      fill: #174EA6;\n",
              "    }\n",
              "\n",
              "    .colab-df-buttons div {\n",
              "      margin-bottom: 4px;\n",
              "    }\n",
              "\n",
              "    [theme=dark] .colab-df-convert {\n",
              "      background-color: #3B4455;\n",
              "      fill: #D2E3FC;\n",
              "    }\n",
              "\n",
              "    [theme=dark] .colab-df-convert:hover {\n",
              "      background-color: #434B5C;\n",
              "      box-shadow: 0px 1px 3px 1px rgba(0, 0, 0, 0.15);\n",
              "      filter: drop-shadow(0px 1px 2px rgba(0, 0, 0, 0.3));\n",
              "      fill: #FFFFFF;\n",
              "    }\n",
              "  </style>\n",
              "\n",
              "    <script>\n",
              "      const buttonEl =\n",
              "        document.querySelector('#df-46f57bfa-e736-41af-a71e-596662969a3b button.colab-df-convert');\n",
              "      buttonEl.style.display =\n",
              "        google.colab.kernel.accessAllowed ? 'block' : 'none';\n",
              "\n",
              "      async function convertToInteractive(key) {\n",
              "        const element = document.querySelector('#df-46f57bfa-e736-41af-a71e-596662969a3b');\n",
              "        const dataTable =\n",
              "          await google.colab.kernel.invokeFunction('convertToInteractive',\n",
              "                                                    [key], {});\n",
              "        if (!dataTable) return;\n",
              "\n",
              "        const docLinkHtml = 'Like what you see? Visit the ' +\n",
              "          '<a target=\"_blank\" href=https://colab.research.google.com/notebooks/data_table.ipynb>data table notebook</a>'\n",
              "          + ' to learn more about interactive tables.';\n",
              "        element.innerHTML = '';\n",
              "        dataTable['output_type'] = 'display_data';\n",
              "        await google.colab.output.renderOutput(dataTable, element);\n",
              "        const docLink = document.createElement('div');\n",
              "        docLink.innerHTML = docLinkHtml;\n",
              "        element.appendChild(docLink);\n",
              "      }\n",
              "    </script>\n",
              "  </div>\n",
              "\n",
              "\n",
              "    <div id=\"df-948bdd4d-3870-4833-8913-8ab7d038c6d3\">\n",
              "      <button class=\"colab-df-quickchart\" onclick=\"quickchart('df-948bdd4d-3870-4833-8913-8ab7d038c6d3')\"\n",
              "                title=\"Suggest charts\"\n",
              "                style=\"display:none;\">\n",
              "\n",
              "<svg xmlns=\"http://www.w3.org/2000/svg\" height=\"24px\"viewBox=\"0 0 24 24\"\n",
              "     width=\"24px\">\n",
              "    <g>\n",
              "        <path d=\"M19 3H5c-1.1 0-2 .9-2 2v14c0 1.1.9 2 2 2h14c1.1 0 2-.9 2-2V5c0-1.1-.9-2-2-2zM9 17H7v-7h2v7zm4 0h-2V7h2v10zm4 0h-2v-4h2v4z\"/>\n",
              "    </g>\n",
              "</svg>\n",
              "      </button>\n",
              "\n",
              "<style>\n",
              "  .colab-df-quickchart {\n",
              "      --bg-color: #E8F0FE;\n",
              "      --fill-color: #1967D2;\n",
              "      --hover-bg-color: #E2EBFA;\n",
              "      --hover-fill-color: #174EA6;\n",
              "      --disabled-fill-color: #AAA;\n",
              "      --disabled-bg-color: #DDD;\n",
              "  }\n",
              "\n",
              "  [theme=dark] .colab-df-quickchart {\n",
              "      --bg-color: #3B4455;\n",
              "      --fill-color: #D2E3FC;\n",
              "      --hover-bg-color: #434B5C;\n",
              "      --hover-fill-color: #FFFFFF;\n",
              "      --disabled-bg-color: #3B4455;\n",
              "      --disabled-fill-color: #666;\n",
              "  }\n",
              "\n",
              "  .colab-df-quickchart {\n",
              "    background-color: var(--bg-color);\n",
              "    border: none;\n",
              "    border-radius: 50%;\n",
              "    cursor: pointer;\n",
              "    display: none;\n",
              "    fill: var(--fill-color);\n",
              "    height: 32px;\n",
              "    padding: 0;\n",
              "    width: 32px;\n",
              "  }\n",
              "\n",
              "  .colab-df-quickchart:hover {\n",
              "    background-color: var(--hover-bg-color);\n",
              "    box-shadow: 0 1px 2px rgba(60, 64, 67, 0.3), 0 1px 3px 1px rgba(60, 64, 67, 0.15);\n",
              "    fill: var(--button-hover-fill-color);\n",
              "  }\n",
              "\n",
              "  .colab-df-quickchart-complete:disabled,\n",
              "  .colab-df-quickchart-complete:disabled:hover {\n",
              "    background-color: var(--disabled-bg-color);\n",
              "    fill: var(--disabled-fill-color);\n",
              "    box-shadow: none;\n",
              "  }\n",
              "\n",
              "  .colab-df-spinner {\n",
              "    border: 2px solid var(--fill-color);\n",
              "    border-color: transparent;\n",
              "    border-bottom-color: var(--fill-color);\n",
              "    animation:\n",
              "      spin 1s steps(1) infinite;\n",
              "  }\n",
              "\n",
              "  @keyframes spin {\n",
              "    0% {\n",
              "      border-color: transparent;\n",
              "      border-bottom-color: var(--fill-color);\n",
              "      border-left-color: var(--fill-color);\n",
              "    }\n",
              "    20% {\n",
              "      border-color: transparent;\n",
              "      border-left-color: var(--fill-color);\n",
              "      border-top-color: var(--fill-color);\n",
              "    }\n",
              "    30% {\n",
              "      border-color: transparent;\n",
              "      border-left-color: var(--fill-color);\n",
              "      border-top-color: var(--fill-color);\n",
              "      border-right-color: var(--fill-color);\n",
              "    }\n",
              "    40% {\n",
              "      border-color: transparent;\n",
              "      border-right-color: var(--fill-color);\n",
              "      border-top-color: var(--fill-color);\n",
              "    }\n",
              "    60% {\n",
              "      border-color: transparent;\n",
              "      border-right-color: var(--fill-color);\n",
              "    }\n",
              "    80% {\n",
              "      border-color: transparent;\n",
              "      border-right-color: var(--fill-color);\n",
              "      border-bottom-color: var(--fill-color);\n",
              "    }\n",
              "    90% {\n",
              "      border-color: transparent;\n",
              "      border-bottom-color: var(--fill-color);\n",
              "    }\n",
              "  }\n",
              "</style>\n",
              "\n",
              "      <script>\n",
              "        async function quickchart(key) {\n",
              "          const quickchartButtonEl =\n",
              "            document.querySelector('#' + key + ' button');\n",
              "          quickchartButtonEl.disabled = true;  // To prevent multiple clicks.\n",
              "          quickchartButtonEl.classList.add('colab-df-spinner');\n",
              "          try {\n",
              "            const charts = await google.colab.kernel.invokeFunction(\n",
              "                'suggestCharts', [key], {});\n",
              "          } catch (error) {\n",
              "            console.error('Error during call to suggestCharts:', error);\n",
              "          }\n",
              "          quickchartButtonEl.classList.remove('colab-df-spinner');\n",
              "          quickchartButtonEl.classList.add('colab-df-quickchart-complete');\n",
              "        }\n",
              "        (() => {\n",
              "          let quickchartButtonEl =\n",
              "            document.querySelector('#df-948bdd4d-3870-4833-8913-8ab7d038c6d3 button');\n",
              "          quickchartButtonEl.style.display =\n",
              "            google.colab.kernel.accessAllowed ? 'block' : 'none';\n",
              "        })();\n",
              "      </script>\n",
              "    </div>\n",
              "\n",
              "    </div>\n",
              "  </div>\n"
            ],
            "application/vnd.google.colaboratory.intrinsic+json": {
              "type": "dataframe",
              "variable_name": "df"
            }
          },
          "metadata": {},
          "execution_count": 12
        }
      ]
    },
    {
      "cell_type": "code",
      "source": [
        "#create the 4x4 grid images\n",
        "fig, axe = plt.subplots(4,4, figsize=(10,10))\n",
        "fig.suptitle(\"First 16 images:\", fontsize = 20)\n",
        "\n",
        "#Plot the first 16 images from the dataset\n",
        "for i, ax in enumerate(axe.flat):\n",
        "  img = df.iloc[i, 1:].values.reshape(28, 28) #Reshape to 28x28\n",
        "  ax.imshow(img) #Dispalay the grayscale\n",
        "  ax.axis('off') #Remove axis for the cleaner look\n",
        "  ax.set_title(f\"label: {df.iloc[i, 0]}\") #show thw label\n",
        "\n",
        "plt.tight_layout(rect = [0, 0, 1, 0.96]) #adjust the layout to fit the title\n",
        "plt.show()"
      ],
      "metadata": {
        "colab": {
          "base_uri": "https://localhost:8080/",
          "height": 1000
        },
        "id": "U1ltWeRBDtzM",
        "outputId": "cfa49d2e-948d-4734-f92e-8dd64262336a"
      },
      "execution_count": 16,
      "outputs": [
        {
          "output_type": "display_data",
          "data": {
            "text/plain": [
              "<Figure size 1000x1000 with 16 Axes>"
            ],
            "image/png": "[encoded data removed]"
          },
          "metadata": {}
        }
      ]
    },
    {
      "cell_type": "code",
      "source": [
        "#train test split\n",
        "\n",
        "X = df.iloc [:, 1:].values\n",
        "y = df.iloc [:, 0].values"
      ],
      "metadata": {
        "id": "OEYpiyiZc4Rb"
      },
      "execution_count": 17,
      "outputs": []
    },
    {
      "cell_type": "code",
      "source": [
        "X_train, X_test, y_train, y_test = train_test_split(X, y, test_size = 0.2, random_state= 42)"
      ],
      "metadata": {
        "id": "NjalMzDfdKH-"
      },
      "execution_count": 18,
      "outputs": []
    },
    {
      "cell_type": "code",
      "source": [
        "X_train"
      ],
      "metadata": {
        "colab": {
          "base_uri": "https://localhost:8080/"
        },
        "id": "rHLdkgYiddZW",
        "outputId": "25c2cb80-1107-4d7b-9a04-a6b3899ab676"
      },
      "execution_count": 19,
      "outputs": [
        {
          "output_type": "execute_result",
          "data": {
            "text/plain": [
              "array([[ 0,  0,  0, ...,  0,  0,  0],\n",
              "       [ 0,  0,  0, ...,  0,  0,  0],\n",
              "       [ 0,  0,  0, ...,  0,  0,  0],\n",
              "       ...,\n",
              "       [ 0,  0,  0, ...,  0,  0,  0],\n",
              "       [ 0,  0,  0, ...,  0,  0,  0],\n",
              "       [ 0,  0,  0, ..., 16,  0,  0]])"
            ]
          },
          "metadata": {},
          "execution_count": 19
        }
      ]
    },
    {
      "cell_type": "code",
      "source": [
        "y_train"
      ],
      "metadata": {
        "colab": {
          "base_uri": "https://localhost:8080/"
        },
        "id": "uSAHjcnkdmGm",
        "outputId": "9132b7c2-dd0c-4fd5-a655-9022bb15071c"
      },
      "execution_count": 22,
      "outputs": [
        {
          "output_type": "execute_result",
          "data": {
            "text/plain": [
              "array([7, 6, 7, ..., 0, 8, 6])"
            ]
          },
          "metadata": {},
          "execution_count": 22
        }
      ]
    },
    {
      "cell_type": "code",
      "source": [
        "#scaling the features\n",
        "X_train = X_train / 255.0\n",
        "X_test = X_test / 255.0"
      ],
      "metadata": {
        "id": "Vaf8YOUUdsx2"
      },
      "execution_count": 23,
      "outputs": []
    },
    {
      "cell_type": "code",
      "source": [
        "X_train"
      ],
      "metadata": {
        "colab": {
          "base_uri": "https://localhost:8080/"
        },
        "id": "BikJa5NrdzlX",
        "outputId": "d2ef5aec-8113-4960-b84c-9d07ee80c860"
      },
      "execution_count": 24,
      "outputs": [
        {
          "output_type": "execute_result",
          "data": {
            "text/plain": [
              "array([[0.       , 0.       , 0.       , ..., 0.       , 0.       ,\n",
              "        0.       ],\n",
              "       [0.       , 0.       , 0.       , ..., 0.       , 0.       ,\n",
              "        0.       ],\n",
              "       [0.       , 0.       , 0.       , ..., 0.       , 0.       ,\n",
              "        0.       ],\n",
              "       ...,\n",
              "       [0.       , 0.       , 0.       , ..., 0.       , 0.       ,\n",
              "        0.       ],\n",
              "       [0.       , 0.       , 0.       , ..., 0.       , 0.       ,\n",
              "        0.       ],\n",
              "       [0.       , 0.       , 0.       , ..., 0.0627451, 0.       ,\n",
              "        0.       ]])"
            ]
          },
          "metadata": {},
          "execution_count": 24
        }
      ]
    },
    {
      "cell_type": "code",
      "source": [
        "#Create customDataeset class\n",
        "\n",
        "class customDataeset(Dataset):\n",
        "  def __init__(self, features, labels):\n",
        "    self.features = torch.tensor(features, dtype = torch.float32)\n",
        "    self.labels = torch.tensor(labels, dtype = torch.long)\n",
        "\n",
        "  def __len__(self):\n",
        "    return len(self.features)\n",
        "\n",
        "  def __getitem__(self, index):\n",
        "    return self.features[index], self.labels[index]"
      ],
      "metadata": {
        "id": "D7E_ikJHd21g"
      },
      "execution_count": 28,
      "outputs": []
    },
    {
      "cell_type": "code",
      "source": [
        "#create train_dataset object\n",
        "train_dataset = customDataeset(X_train, y_train)"
      ],
      "metadata": {
        "id": "YaenmiA2e5CH"
      },
      "execution_count": 29,
      "outputs": []
    },
    {
      "cell_type": "code",
      "source": [
        "train_dataset[0]"
      ],
      "metadata": {
        "colab": {
          "base_uri": "https://localhost:8080/"
        },
        "id": "U2gQCVDufRqx",
        "outputId": "ab5f9208-0ea8-4c5a-db63-32ba406978da"
      },
      "execution_count": 31,
      "outputs": [
        {
          "output_type": "execute_result",
          "data": {
            "text/plain": [
              "(tensor([0.0000, 0.0000, 0.0000, 0.0000, 0.0000, 0.0000, 0.0000, 0.0000, 0.0000,\n",
              "         0.0000, 0.0000, 0.0000, 0.0000, 0.0000, 0.0000, 0.0000, 0.0000, 0.0000,\n",
              "         0.0000, 0.0000, 0.0000, 0.0000, 0.0000, 0.0000, 0.0000, 0.0000, 0.0000,\n",
              "         0.0000, 0.0000, 0.0000, 0.0000, 0.0000, 0.0000, 0.0000, 0.0000, 0.0000,\n",
              "         0.0000, 0.0000, 0.0000, 0.0000, 0.0000, 0.0000, 0.0000, 0.0000, 0.0000,\n",
              "         0.0000, 0.0000, 0.0000, 0.0000, 0.0000, 0.0000, 0.0000, 0.0000, 0.0000,\n",
              "         0.0000, 0.0000, 0.0000, 0.0000, 0.0000, 0.0000, 0.0000, 0.0000, 0.0000,\n",
              "         0.0000, 0.0000, 0.0000, 0.0000, 0.0000, 0.0000, 0.0000, 0.0000, 0.0000,\n",
              "         0.0000, 0.0000, 0.0000, 0.0000, 0.0000, 0.0000, 0.0000, 0.0000, 0.0000,\n",
              "         0.0000, 0.0000, 0.0000, 0.0000, 0.0000, 0.0000, 0.0000, 0.0000, 0.0000,\n",
              "         0.0000, 0.0000, 0.0000, 0.0000, 0.0000, 0.0000, 0.0000, 0.0000, 0.0000,\n",
              "         0.0000, 0.0000, 0.0000, 0.0000, 0.0000, 0.0000, 0.0000, 0.0000, 0.0000,\n",
              "         0.0000, 0.0000, 0.0000, 0.0000, 0.0000, 0.0000, 0.0000, 0.0000, 0.0000,\n",
              "         0.0000, 0.0000, 0.0000, 0.0000, 0.0000, 0.0000, 0.0000, 0.0000, 0.0000,\n",
              "         0.0000, 0.0000, 0.0000, 0.0000, 0.0000, 0.0000, 0.0000, 0.0000, 0.0000,\n",
              "         0.0000, 0.0000, 0.0000, 0.0000, 0.0000, 0.0000, 0.0000, 0.0000, 0.0000,\n",
              "         0.0000, 0.0000, 0.0000, 0.0000, 0.0000, 0.0000, 0.0000, 0.0000, 0.0000,\n",
              "         0.0000, 0.0000, 0.0000, 0.0000, 0.0000, 0.0000, 0.0000, 0.0000, 0.0000,\n",
              "         0.0000, 0.0000, 0.0000, 0.0000, 0.0000, 0.0000, 0.0000, 0.0000, 0.0000,\n",
              "         0.0000, 0.0000, 0.0000, 0.0000, 0.0000, 0.0000, 0.0000, 0.0000, 0.0000,\n",
              "         0.0000, 0.0000, 0.0000, 0.0000, 0.0000, 0.0000, 0.0000, 0.0000, 0.0000,\n",
              "         0.0000, 0.0000, 0.0000, 0.0000, 0.0000, 0.0000, 0.0000, 0.0000, 0.0000,\n",
              "         0.0000, 0.0000, 0.0000, 0.0000, 0.0000, 0.0000, 0.0000, 0.0000, 0.0000,\n",
              "         0.0000, 0.0000, 0.0000, 0.0000, 0.0000, 0.0000, 0.0000, 0.0000, 0.0000,\n",
              "         0.0000, 0.0000, 0.0000, 0.0000, 0.0000, 0.0000, 0.0000, 0.0000, 0.0000,\n",
              "         0.0000, 0.0000, 0.0000, 0.0000, 0.0000, 0.0000, 0.0000, 0.0000, 0.0000,\n",
              "         0.0000, 0.0000, 0.0000, 0.0000, 0.0000, 0.0000, 0.0000, 0.0000, 0.0000,\n",
              "         0.0000, 0.0000, 0.0000, 0.0000, 0.0000, 0.0000, 0.0000, 0.0000, 0.0000,\n",
              "         0.0000, 0.0000, 0.0000, 0.0000, 0.0000, 0.0000, 0.0000, 0.0000, 0.0000,\n",
              "         0.0000, 0.0000, 0.0000, 0.0000, 0.0000, 0.0627, 0.2196, 0.2039, 0.0784,\n",
              "         0.1569, 0.2196, 0.0000, 0.0000, 0.0314, 0.0000, 0.0000, 0.0000, 0.0000,\n",
              "         0.0000, 0.0000, 0.0000, 0.0000, 0.0000, 0.0000, 0.0000, 0.0000, 0.0000,\n",
              "         0.0157, 0.0000, 0.0000, 0.0000, 0.0157, 0.0627, 0.3333, 0.5216, 0.4118,\n",
              "         0.2667, 0.2667, 0.4745, 0.0000, 0.0000, 0.0157, 0.0157, 0.0157, 0.0000,\n",
              "         0.0000, 0.0000, 0.0000, 0.0000, 0.0000, 0.0000, 0.0000, 0.0000, 0.0000,\n",
              "         0.0000, 0.0000, 0.0000, 0.0471, 0.2039, 0.3137, 0.3647, 0.0314, 0.0627,\n",
              "         0.2196, 0.1098, 0.3490, 1.0000, 0.0000, 0.0000, 0.0000, 0.0000, 0.0000,\n",
              "         0.0000, 0.6824, 0.1098, 0.0000, 0.0157, 0.0000, 0.0000, 0.0000, 0.0000,\n",
              "         0.0000, 0.0000, 0.1255, 0.2667, 0.3137, 0.2510, 0.1098, 0.0627, 0.1569,\n",
              "         0.1098, 0.0471, 0.1098, 0.0000, 0.4275, 0.6824, 0.2353, 0.0314, 0.0000,\n",
              "         0.0157, 0.4275, 0.6824, 0.1098, 0.0000, 0.0000, 0.0000, 0.0000, 0.0000,\n",
              "         0.0000, 0.1882, 0.2667, 0.1882, 0.0627, 0.1098, 0.0941, 0.0314, 0.0471,\n",
              "         0.0000, 0.0000, 0.0000, 0.1569, 0.8078, 0.0941, 0.0000, 0.1255, 0.6667,\n",
              "         0.6824, 0.6157, 0.6824, 0.6824, 0.2039, 0.0157, 0.1569, 0.1882, 0.2039,\n",
              "         0.1725, 0.3804, 0.1255, 0.0000, 0.1098, 0.1255, 0.0627, 0.0157, 0.0157,\n",
              "         0.0000, 0.0314, 0.3647, 0.6157, 0.5843, 0.7608, 0.8549, 0.4745, 0.1882,\n",
              "         0.7765, 0.6667, 0.4745, 0.6314, 0.6314, 0.4118, 0.2980, 0.4118, 0.1255,\n",
              "         0.0000, 0.1412, 0.5686, 0.0000, 0.2667, 0.1255, 0.0000, 0.0471, 0.1412,\n",
              "         0.1725, 0.3333, 0.5216, 0.7765, 0.9176, 0.8392, 0.7137, 0.8078, 0.8549,\n",
              "         0.6824, 0.8863, 0.6824, 0.3961, 0.5529, 0.6824, 0.4588, 0.2510, 0.2510,\n",
              "         0.3804, 0.2980, 0.3804, 0.5529, 0.2510, 0.4431, 0.2353, 0.1569, 0.0157,\n",
              "         0.1412, 0.3804, 0.8392, 0.7137, 0.6980, 0.6157, 0.4588, 0.4431, 0.5686,\n",
              "         0.7294, 0.6471, 0.7765, 0.7765, 0.5373, 0.5843, 0.6667, 0.4588, 0.4588,\n",
              "         0.4431, 0.3333, 0.2667, 0.2824, 0.3137, 0.3490, 0.3804, 0.3333, 0.3961,\n",
              "         0.3333, 0.2980, 0.3137, 0.2980, 0.2824, 0.2824, 0.2510, 0.2039, 0.2196,\n",
              "         0.2510, 0.2667, 0.3490, 0.3647, 0.3333, 0.2980, 0.2980, 0.3647, 0.4118,\n",
              "         0.1098, 0.2667, 0.4588, 0.5529, 0.4431, 0.4275, 0.3804, 0.3647, 0.3137,\n",
              "         0.3961, 0.4745, 0.4431, 0.4275, 0.3647, 0.3804, 0.3961, 0.4275, 0.4118,\n",
              "         0.3804, 0.3961, 0.3804, 0.3647, 0.3490, 0.3804, 0.4118, 0.3961, 0.3804,\n",
              "         0.4118, 0.0000, 0.0000, 0.0000, 0.1255, 0.3137, 0.2980, 0.3804, 0.3961,\n",
              "         0.4431, 0.4275, 0.3804, 0.3137, 0.3647, 0.4118, 0.3647, 0.3490, 0.3333,\n",
              "         0.3490, 0.3647, 0.3804, 0.3804, 0.3804, 0.3961, 0.4275, 0.4588, 0.3961,\n",
              "         0.4118, 0.3804, 0.0000, 0.0000, 0.0000, 0.0000, 0.0000, 0.0000, 0.0000,\n",
              "         0.0000, 0.0000, 0.0000, 0.0000, 0.0000, 0.0000, 0.0000, 0.0000, 0.0000,\n",
              "         0.0000, 0.0000, 0.0000, 0.0000, 0.0000, 0.0000, 0.0000, 0.0000, 0.0000,\n",
              "         0.0000, 0.0000, 0.0000, 0.0000, 0.0000, 0.0000, 0.0000, 0.0000, 0.0000,\n",
              "         0.0000, 0.0000, 0.0000, 0.0000, 0.0000, 0.0000, 0.0000, 0.0000, 0.0000,\n",
              "         0.0000, 0.0000, 0.0000, 0.0000, 0.0000, 0.0000, 0.0000, 0.0000, 0.0000,\n",
              "         0.0000, 0.0000, 0.0000, 0.0000, 0.0000, 0.0000, 0.0000, 0.0000, 0.0000,\n",
              "         0.0000, 0.0000, 0.0000, 0.0000, 0.0000, 0.0000, 0.0000, 0.0000, 0.0000,\n",
              "         0.0000, 0.0000, 0.0000, 0.0000, 0.0000, 0.0000, 0.0000, 0.0000, 0.0000,\n",
              "         0.0000, 0.0000, 0.0000, 0.0000, 0.0000, 0.0000, 0.0000, 0.0000, 0.0000,\n",
              "         0.0000, 0.0000, 0.0000, 0.0000, 0.0000, 0.0000, 0.0000, 0.0000, 0.0000,\n",
              "         0.0000, 0.0000, 0.0000, 0.0000, 0.0000, 0.0000, 0.0000, 0.0000, 0.0000,\n",
              "         0.0000, 0.0000, 0.0000, 0.0000, 0.0000, 0.0000, 0.0000, 0.0000, 0.0000,\n",
              "         0.0000, 0.0000, 0.0000, 0.0000, 0.0000, 0.0000, 0.0000, 0.0000, 0.0000,\n",
              "         0.0000, 0.0000, 0.0000, 0.0000, 0.0000, 0.0000, 0.0000, 0.0000, 0.0000,\n",
              "         0.0000, 0.0000, 0.0000, 0.0000, 0.0000, 0.0000, 0.0000, 0.0000, 0.0000,\n",
              "         0.0000, 0.0000, 0.0000, 0.0000, 0.0000, 0.0000, 0.0000, 0.0000, 0.0000,\n",
              "         0.0000, 0.0000, 0.0000, 0.0000, 0.0000, 0.0000, 0.0000, 0.0000, 0.0000,\n",
              "         0.0000, 0.0000, 0.0000, 0.0000, 0.0000, 0.0000, 0.0000, 0.0000, 0.0000,\n",
              "         0.0000, 0.0000, 0.0000, 0.0000, 0.0000, 0.0000, 0.0000, 0.0000, 0.0000,\n",
              "         0.0000, 0.0000, 0.0000, 0.0000, 0.0000, 0.0000, 0.0000, 0.0000, 0.0000,\n",
              "         0.0000, 0.0000, 0.0000, 0.0000, 0.0000, 0.0000, 0.0000, 0.0000, 0.0000,\n",
              "         0.0000, 0.0000, 0.0000, 0.0000, 0.0000, 0.0000, 0.0000, 0.0000, 0.0000,\n",
              "         0.0000, 0.0000, 0.0000, 0.0000, 0.0000, 0.0000, 0.0000, 0.0000, 0.0000,\n",
              "         0.0000, 0.0000, 0.0000, 0.0000, 0.0000, 0.0000, 0.0000, 0.0000, 0.0000,\n",
              "         0.0000]),\n",
              " tensor(7))"
            ]
          },
          "metadata": {},
          "execution_count": 31
        }
      ]
    },
    {
      "cell_type": "code",
      "source": [
        "#create test_dataset object\n",
        "test_dataset = customDataeset(X_test, y_test)"
      ],
      "metadata": {
        "id": "hqDRKNqGfWJJ"
      },
      "execution_count": 32,
      "outputs": []
    },
    {
      "cell_type": "code",
      "source": [
        "test_dataset[0]"
      ],
      "metadata": {
        "colab": {
          "base_uri": "https://localhost:8080/"
        },
        "id": "q2I992fsfmF-",
        "outputId": "662bf226-829c-420d-d8b6-abbe828aea9e"
      },
      "execution_count": 34,
      "outputs": [
        {
          "output_type": "execute_result",
          "data": {
            "text/plain": [
              "(tensor([0.0000, 0.0000, 0.0000, 0.0000, 0.0000, 0.0000, 0.0000, 0.0000, 0.0000,\n",
              "         0.0000, 0.0000, 0.0000, 0.0000, 0.0000, 0.0000, 0.0000, 0.0000, 0.0000,\n",
              "         0.0000, 0.0000, 0.0000, 0.0000, 0.0000, 0.0000, 0.0000, 0.0000, 0.0000,\n",
              "         0.0000, 0.0000, 0.0000, 0.0000, 0.0000, 0.0000, 0.0000, 0.0000, 0.0000,\n",
              "         0.0000, 0.0000, 0.0000, 0.0000, 0.0000, 0.0000, 0.0000, 0.0000, 0.0000,\n",
              "         0.0000, 0.0000, 0.0000, 0.0000, 0.0000, 0.0000, 0.0000, 0.0000, 0.0000,\n",
              "         0.0000, 0.0000, 0.0000, 0.0000, 0.0000, 0.0000, 0.0000, 0.0000, 0.0000,\n",
              "         0.0000, 0.0000, 0.0000, 0.0000, 0.0000, 0.0000, 0.0000, 0.0000, 0.0000,\n",
              "         0.0000, 0.0000, 0.0000, 0.0000, 0.0000, 0.0000, 0.0000, 0.0000, 0.0000,\n",
              "         0.0000, 0.0000, 0.0000, 0.0000, 0.0000, 0.0000, 0.0000, 0.0000, 0.0000,\n",
              "         0.0000, 0.0000, 0.0000, 0.0000, 0.0000, 0.0000, 0.0000, 0.0000, 0.0000,\n",
              "         0.0000, 0.0000, 0.0000, 0.0000, 0.0000, 0.0000, 0.0000, 0.0000, 0.0000,\n",
              "         0.0000, 0.0000, 0.0000, 0.0000, 0.0000, 0.0000, 0.0000, 0.0000, 0.0000,\n",
              "         0.0000, 0.0000, 0.0000, 0.0000, 0.0000, 0.0000, 0.0000, 0.0000, 0.0000,\n",
              "         0.0000, 0.0000, 0.0000, 0.0000, 0.0000, 0.0000, 0.0000, 0.0000, 0.0000,\n",
              "         0.0000, 0.0000, 0.0000, 0.0000, 0.0000, 0.0000, 0.0000, 0.0000, 0.0000,\n",
              "         0.0000, 0.0000, 0.0000, 0.0000, 0.0000, 0.0000, 0.0000, 0.0000, 0.0000,\n",
              "         0.0000, 0.0000, 0.0000, 0.0000, 0.0000, 0.0000, 0.0000, 0.0000, 0.0000,\n",
              "         0.0000, 0.0000, 0.0000, 0.0000, 0.0000, 0.0000, 0.0000, 0.0000, 0.0000,\n",
              "         0.0000, 0.0000, 0.0000, 0.0000, 0.0000, 0.0000, 0.0000, 0.0000, 0.0000,\n",
              "         0.0000, 0.0000, 0.0000, 0.0000, 0.0000, 0.0000, 0.0000, 0.0000, 0.0000,\n",
              "         0.0000, 0.0000, 0.0000, 0.0000, 0.0000, 0.0000, 0.0000, 0.0000, 0.0000,\n",
              "         0.0000, 0.0000, 0.0000, 0.0000, 0.0000, 0.0000, 0.0000, 0.0000, 0.0000,\n",
              "         0.0000, 0.0000, 0.0000, 0.0000, 0.0000, 0.0000, 0.0000, 0.0000, 0.0000,\n",
              "         0.0000, 0.0000, 0.0000, 0.0000, 0.0000, 0.0000, 0.0000, 0.0000, 0.0000,\n",
              "         0.0000, 0.0000, 0.0000, 0.0000, 0.0000, 0.0000, 0.0000, 0.0000, 0.0000,\n",
              "         0.0000, 0.0000, 0.0000, 0.0000, 0.0000, 0.0000, 0.0000, 0.7569, 0.2941,\n",
              "         0.0000, 0.0000, 0.0000, 0.0000, 0.0000, 0.0078, 0.0000, 0.0000, 0.0000,\n",
              "         0.0000, 0.0000, 0.0000, 0.0000, 0.0000, 0.0000, 0.0000, 0.0000, 0.0000,\n",
              "         0.0000, 0.0039, 0.0000, 0.0000, 0.0000, 0.1686, 0.5765, 0.7020, 0.9098,\n",
              "         0.9176, 0.3255, 0.0000, 0.0078, 0.0000, 0.0000, 0.0000, 0.0039, 0.0235,\n",
              "         0.0000, 0.0000, 0.0000, 0.0000, 0.0000, 0.0000, 0.0000, 0.0000, 0.0000,\n",
              "         0.0000, 0.0000, 0.0000, 0.0000, 0.0706, 0.6314, 0.9961, 0.9059, 0.8549,\n",
              "         0.7725, 0.9569, 0.5725, 0.0000, 0.0000, 0.0000, 0.0000, 0.0000, 0.8431,\n",
              "         0.8706, 0.0000, 0.0000, 0.0000, 0.0000, 0.0000, 0.0000, 0.0000, 0.0039,\n",
              "         0.0000, 0.0000, 0.0000, 0.0000, 0.4392, 0.9843, 0.8941, 0.8157, 0.8000,\n",
              "         0.8431, 0.8118, 0.8549, 0.7176, 0.0000, 0.0000, 0.0000, 0.0000, 0.3529,\n",
              "         0.9137, 0.7412, 0.0000, 0.0039, 0.0039, 0.0118, 0.0118, 0.0431, 0.0000,\n",
              "         0.0000, 0.0000, 0.0000, 0.4980, 0.9569, 0.8941, 0.8314, 0.8196, 1.0000,\n",
              "         0.9882, 0.8863, 0.8824, 0.8863, 0.9608, 0.8549, 0.5922, 0.7765, 0.9804,\n",
              "         0.9176, 0.8471, 0.8549, 0.0235, 0.0000, 0.0000, 0.0000, 0.0000, 0.0000,\n",
              "         0.0000, 0.0863, 0.5451, 0.9294, 0.9020, 0.8431, 0.8118, 0.8549, 0.7647,\n",
              "         0.2118, 0.0745, 0.5137, 0.8588, 0.8902, 0.8627, 0.9216, 0.9804, 0.9373,\n",
              "         0.8588, 0.8392, 0.8588, 0.9216, 0.5569, 0.0000, 0.0000, 0.1843, 0.4784,\n",
              "         0.5961, 0.7961, 0.9804, 0.8784, 0.8392, 0.8078, 0.8392, 0.8588, 0.8667,\n",
              "         0.8510, 0.7686, 0.8353, 0.9569, 0.9294, 0.8627, 0.8784, 0.8784, 0.8588,\n",
              "         0.8471, 0.8549, 0.8667, 0.8431, 0.8824, 0.6667, 0.0235, 0.6706, 0.8588,\n",
              "         0.8588, 0.8667, 0.8510, 0.8118, 0.7882, 0.8039, 0.8235, 0.8314, 0.8431,\n",
              "         0.8510, 0.8588, 0.8941, 0.8902, 0.8863, 0.8902, 0.9098, 0.9020, 0.9098,\n",
              "         0.9412, 0.9294, 0.9176, 0.9333, 0.9098, 0.9529, 0.7922, 0.2588, 0.8627,\n",
              "         0.9020, 0.9098, 0.9098, 0.9098, 0.9098, 0.8980, 0.9059, 0.9294, 0.9294,\n",
              "         0.9255, 0.9373, 0.9373, 0.9255, 0.9255, 0.9961, 0.9961, 0.9882, 0.9608,\n",
              "         0.9216, 0.9098, 0.8745, 0.8627, 0.8275, 0.7216, 0.7373, 0.3098, 0.0784,\n",
              "         0.1412, 0.2824, 0.4118, 0.4863, 0.5216, 0.5882, 0.6314, 0.6510, 0.6314,\n",
              "         0.5843, 0.5255, 0.4941, 0.4157, 0.3608, 0.2627, 0.1686, 0.1176, 0.0824,\n",
              "         0.0549, 0.0314, 0.0235, 0.0275, 0.0118, 0.0000, 0.0000, 0.0157, 0.0000,\n",
              "         0.1098, 0.2431, 0.1843, 0.1098, 0.0627, 0.0627, 0.0510, 0.0157, 0.0078,\n",
              "         0.0235, 0.0118, 0.0078, 0.0039, 0.0275, 0.0510, 0.0824, 0.1059, 0.1294,\n",
              "         0.1569, 0.1529, 0.1647, 0.1765, 0.1804, 0.1922, 0.2118, 0.2510, 0.3098,\n",
              "         0.1569, 0.0000, 0.0000, 0.0157, 0.0941, 0.0863, 0.0980, 0.1216, 0.1490,\n",
              "         0.1451, 0.1294, 0.1373, 0.1412, 0.1451, 0.1569, 0.1490, 0.1333, 0.1216,\n",
              "         0.1255, 0.1373, 0.1294, 0.1294, 0.1255, 0.1137, 0.1059, 0.0863, 0.0745,\n",
              "         0.0706, 0.0000, 0.0000, 0.0000, 0.0000, 0.0000, 0.0000, 0.0000, 0.0000,\n",
              "         0.0000, 0.0000, 0.0000, 0.0000, 0.0000, 0.0000, 0.0000, 0.0000, 0.0000,\n",
              "         0.0000, 0.0000, 0.0000, 0.0000, 0.0000, 0.0000, 0.0000, 0.0000, 0.0000,\n",
              "         0.0000, 0.0000, 0.0000, 0.0000, 0.0000, 0.0000, 0.0000, 0.0000, 0.0000,\n",
              "         0.0000, 0.0000, 0.0000, 0.0000, 0.0000, 0.0000, 0.0000, 0.0000, 0.0000,\n",
              "         0.0000, 0.0000, 0.0000, 0.0000, 0.0000, 0.0000, 0.0000, 0.0000, 0.0000,\n",
              "         0.0000, 0.0000, 0.0000, 0.0000, 0.0000, 0.0000, 0.0000, 0.0000, 0.0000,\n",
              "         0.0000, 0.0000, 0.0000, 0.0000, 0.0000, 0.0000, 0.0000, 0.0000, 0.0000,\n",
              "         0.0000, 0.0000, 0.0000, 0.0000, 0.0000, 0.0000, 0.0000, 0.0000, 0.0000,\n",
              "         0.0000, 0.0000, 0.0000, 0.0000, 0.0000, 0.0000, 0.0000, 0.0000, 0.0000,\n",
              "         0.0000, 0.0000, 0.0000, 0.0000, 0.0000, 0.0000, 0.0000, 0.0000, 0.0000,\n",
              "         0.0000, 0.0000, 0.0000, 0.0000, 0.0000, 0.0000, 0.0000, 0.0000, 0.0000,\n",
              "         0.0000, 0.0000, 0.0000, 0.0000, 0.0000, 0.0000, 0.0000, 0.0000, 0.0000,\n",
              "         0.0000, 0.0000, 0.0000, 0.0000, 0.0000, 0.0000, 0.0000, 0.0000, 0.0000,\n",
              "         0.0000, 0.0000, 0.0000, 0.0000, 0.0000, 0.0000, 0.0000, 0.0000, 0.0000,\n",
              "         0.0000, 0.0000, 0.0000, 0.0000, 0.0000, 0.0000, 0.0000, 0.0000, 0.0000,\n",
              "         0.0000, 0.0000, 0.0000, 0.0000, 0.0000, 0.0000, 0.0000, 0.0000, 0.0000,\n",
              "         0.0000, 0.0000, 0.0000, 0.0000, 0.0000, 0.0000, 0.0000, 0.0000, 0.0000,\n",
              "         0.0000, 0.0000, 0.0000, 0.0000, 0.0000, 0.0000, 0.0000, 0.0000, 0.0000,\n",
              "         0.0000, 0.0000, 0.0000, 0.0000, 0.0000, 0.0000, 0.0000, 0.0000, 0.0000,\n",
              "         0.0000, 0.0000, 0.0000, 0.0000, 0.0000, 0.0000, 0.0000, 0.0000, 0.0000,\n",
              "         0.0000, 0.0000, 0.0000, 0.0000, 0.0000, 0.0000, 0.0000, 0.0000, 0.0000,\n",
              "         0.0000, 0.0000, 0.0000, 0.0000, 0.0000, 0.0000, 0.0000, 0.0000, 0.0000,\n",
              "         0.0000, 0.0000, 0.0000, 0.0000, 0.0000, 0.0000, 0.0000, 0.0000, 0.0000,\n",
              "         0.0000, 0.0000, 0.0000, 0.0000, 0.0000, 0.0000, 0.0000, 0.0000, 0.0000,\n",
              "         0.0000]),\n",
              " tensor(7))"
            ]
          },
          "metadata": {},
          "execution_count": 34
        }
      ]
    },
    {
      "cell_type": "code",
      "source": [
        "#create train and test loader\n",
        "train_loader = DataLoader(train_dataset, batch_size = 32, shuffle=True)\n",
        "test_loader = DataLoader(test_dataset, batch_size = 32, shuffle=False)"
      ],
      "metadata": {
        "id": "dgTJIjz5fsHN"
      },
      "execution_count": 35,
      "outputs": []
    },
    {
      "cell_type": "code",
      "source": [
        "#Define NN Class\n",
        "class MyNN(nn.Module):\n",
        "  def __init__(self, num_features):\n",
        "    super().__init__()\n",
        "    self.model = nn.Sequential(\n",
        "        nn.Linear(num_features, 128), #input 12\n",
        "        nn.ReLU(), #Activation function\n",
        "        nn.Linear(128, 64), #128 layer to 64\n",
        "        nn.ReLU(),\n",
        "        nn.Linear(64, 10) #64 layer to 10 output\n",
        "    )\n",
        "\n",
        "  def forward(self, x):\n",
        "    return self.model(x)"
      ],
      "metadata": {
        "id": "X53pSG0lgKBz"
      },
      "execution_count": 43,
      "outputs": []
    },
    {
      "cell_type": "code",
      "source": [
        "# set learning rate and epochs\n",
        "epochs = 100\n",
        "learning_rate = 0.1"
      ],
      "metadata": {
        "id": "i8-KuXb4iVR9"
      },
      "execution_count": 44,
      "outputs": []
    },
    {
      "cell_type": "code",
      "source": [
        "#instatiate the model\n",
        "model = MyNN(X_train.shape[1])\n",
        "\n",
        "#loss function\n",
        "criterion = nn.CrossEntropyLoss()\n",
        "\n",
        "#optimizer\n",
        "optimizer = optim.SGD(model.parameters(), lr = learning_rate)"
      ],
      "metadata": {
        "id": "EREOoWW2ikNg"
      },
      "execution_count": 46,
      "outputs": []
    },
    {
      "cell_type": "code",
      "source": [
        "len(train_loader)"
      ],
      "metadata": {
        "colab": {
          "base_uri": "https://localhost:8080/"
        },
        "id": "6Uahtz21mY7n",
        "outputId": "4a22ee52-5aab-463c-a063-6721bc35182f"
      },
      "execution_count": 47,
      "outputs": [
        {
          "output_type": "execute_result",
          "data": {
            "text/plain": [
              "150"
            ]
          },
          "metadata": {},
          "execution_count": 47
        }
      ]
    },
    {
      "cell_type": "code",
      "source": [
        "#traning loop\n",
        "for epoch in range(epochs):\n",
        "  total_epoch_loss = 0\n",
        "\n",
        "  for batch_features, batch_labels in train_loader:\n",
        "\n",
        "    #forward pass\n",
        "    outputs = model(batch_features)\n",
        "\n",
        "    #loss calculation\n",
        "    loss = criterion(outputs, batch_labels)\n",
        "\n",
        "    #back pass\n",
        "    optimizer.zero_grad()\n",
        "    loss.backward()\n",
        "\n",
        "    #update weights\n",
        "    optimizer.step()\n",
        "\n",
        "    total_epoch_loss = total_epoch_loss + loss.item()\n",
        "\n",
        "  avg_loss = total_epoch_loss/len(train_loader)\n",
        "  print(f'Epoch: {epoch + 1}, Loss: {avg_loss}')"
      ],
      "metadata": {
        "colab": {
          "base_uri": "https://localhost:8080/"
        },
        "id": "CNajWO49meMS",
        "outputId": "22aa334d-bc3c-49f7-aff3-12d4ea06b853"
      },
      "execution_count": 50,
      "outputs": [
        {
          "output_type": "stream",
          "name": "stdout",
          "text": [
            "Epoch: 1, Loss: 0.00029969201748220563\n",
            "Epoch: 2, Loss: 0.000297859866162374\n",
            "Epoch: 3, Loss: 0.00029466639998039073\n",
            "Epoch: 4, Loss: 0.0002916794701256246\n",
            "Epoch: 5, Loss: 0.00028785506901234234\n",
            "Epoch: 6, Loss: 0.0002864291048414695\n",
            "Epoch: 7, Loss: 0.00028419244115260274\n",
            "Epoch: 8, Loss: 0.0002795038234277551\n",
            "Epoch: 9, Loss: 0.0002785491004275779\n",
            "Epoch: 10, Loss: 0.0002773744284180187\n",
            "Epoch: 11, Loss: 0.0002738038530272509\n",
            "Epoch: 12, Loss: 0.0002716609469401495\n",
            "Epoch: 13, Loss: 0.00027107658900301127\n",
            "Epoch: 14, Loss: 0.0002680820718038982\n",
            "Epoch: 15, Loss: 0.000265808676352511\n",
            "Epoch: 16, Loss: 0.00026117160902989177\n",
            "Epoch: 17, Loss: 0.00026148203472985186\n",
            "Epoch: 18, Loss: 0.00025963971337963204\n",
            "Epoch: 19, Loss: 0.0002565832338344383\n",
            "Epoch: 20, Loss: 0.00025620225048138913\n",
            "Epoch: 21, Loss: 0.0002534947841468238\n",
            "Epoch: 22, Loss: 0.0002514490019287526\n",
            "Epoch: 23, Loss: 0.00024912231663014\n",
            "Epoch: 24, Loss: 0.00024786365243623245\n",
            "Epoch: 25, Loss: 0.0002460943879123079\n",
            "Epoch: 26, Loss: 0.00024381706590550795\n",
            "Epoch: 27, Loss: 0.00024224979681700159\n",
            "Epoch: 28, Loss: 0.0002401134918666988\n",
            "Epoch: 29, Loss: 0.00023811576550845833\n",
            "Epoch: 30, Loss: 0.0002359147750757984\n",
            "Epoch: 31, Loss: 0.00023575476467764626\n",
            "Epoch: 32, Loss: 0.00023346977826198175\n",
            "Epoch: 33, Loss: 0.00023185248537629377\n",
            "Epoch: 34, Loss: 0.00022934988134844995\n",
            "Epoch: 35, Loss: 0.00022719858276104788\n",
            "Epoch: 36, Loss: 0.0002272413829875101\n",
            "Epoch: 37, Loss: 0.0002246583509016394\n",
            "Epoch: 38, Loss: 0.00022412462369175045\n",
            "Epoch: 39, Loss: 0.00022189009783081323\n",
            "Epoch: 40, Loss: 0.00022083370264833018\n",
            "Epoch: 41, Loss: 0.00021956734972870131\n",
            "Epoch: 42, Loss: 0.0002183768564039686\n",
            "Epoch: 43, Loss: 0.00021586948098653618\n",
            "Epoch: 44, Loss: 0.0002146301411873234\n",
            "Epoch: 45, Loss: 0.0002137491462296263\n",
            "Epoch: 46, Loss: 0.000211252332640773\n",
            "Epoch: 47, Loss: 0.00021035109219762186\n",
            "Epoch: 48, Loss: 0.00020904658236152804\n",
            "Epoch: 49, Loss: 0.00020735749579519808\n",
            "Epoch: 50, Loss: 0.00020693862574868642\n",
            "Epoch: 51, Loss: 0.00020568183306446977\n",
            "Epoch: 52, Loss: 0.0002042353472885831\n",
            "Epoch: 53, Loss: 0.00020281175098110302\n",
            "Epoch: 54, Loss: 0.000201076996405997\n",
            "Epoch: 55, Loss: 0.00020055260584437442\n",
            "Epoch: 56, Loss: 0.00019873380077721473\n",
            "Epoch: 57, Loss: 0.0001973753812732563\n",
            "Epoch: 58, Loss: 0.00019638612766963585\n",
            "Epoch: 59, Loss: 0.00019492821345920675\n",
            "Epoch: 60, Loss: 0.00019406782640241243\n",
            "Epoch: 61, Loss: 0.00019299475106284567\n",
            "Epoch: 62, Loss: 0.00019195870188923436\n",
            "Epoch: 63, Loss: 0.00019113613473261163\n",
            "Epoch: 64, Loss: 0.00018959845746697586\n",
            "Epoch: 65, Loss: 0.00018853233178864077\n",
            "Epoch: 66, Loss: 0.00018725505730193012\n",
            "Epoch: 67, Loss: 0.00018644742286899903\n",
            "Epoch: 68, Loss: 0.0001854420782425829\n",
            "Epoch: 69, Loss: 0.00018445863306017904\n",
            "Epoch: 70, Loss: 0.0001829950331133053\n",
            "Epoch: 71, Loss: 0.00018189692098530941\n",
            "Epoch: 72, Loss: 0.00018070963532712387\n",
            "Epoch: 73, Loss: 0.000179885999726442\n",
            "Epoch: 74, Loss: 0.00017904927125831212\n",
            "Epoch: 75, Loss: 0.00017804770002840086\n",
            "Epoch: 76, Loss: 0.00017672228562635913\n",
            "Epoch: 77, Loss: 0.0001763594275689684\n",
            "Epoch: 78, Loss: 0.00017475923659124722\n",
            "Epoch: 79, Loss: 0.00017432450823131755\n",
            "Epoch: 80, Loss: 0.00017317975756062272\n",
            "Epoch: 81, Loss: 0.00017192715730440493\n",
            "Epoch: 82, Loss: 0.00017131808723812962\n",
            "Epoch: 83, Loss: 0.00017058787529094843\n",
            "Epoch: 84, Loss: 0.00016979729755500254\n",
            "Epoch: 85, Loss: 0.00016873330685484688\n",
            "Epoch: 86, Loss: 0.00016782845839770743\n",
            "Epoch: 87, Loss: 0.00016739871052171414\n",
            "Epoch: 88, Loss: 0.0001662752481206553\n",
            "Epoch: 89, Loss: 0.00016511583574356338\n",
            "Epoch: 90, Loss: 0.00016422630399271534\n",
            "Epoch: 91, Loss: 0.0001635494581326687\n",
            "Epoch: 92, Loss: 0.00016235842063906604\n",
            "Epoch: 93, Loss: 0.00016196388324412207\n",
            "Epoch: 94, Loss: 0.00016088320768176345\n",
            "Epoch: 95, Loss: 0.0001601566027845062\n",
            "Epoch: 96, Loss: 0.00015948934660021526\n",
            "Epoch: 97, Loss: 0.0001586948508338537\n",
            "Epoch: 98, Loss: 0.00015766563860476404\n",
            "Epoch: 99, Loss: 0.00015702762168681754\n",
            "Epoch: 100, Loss: 0.00015621161064094242\n"
          ]
        }
      ]
    },
    {
      "cell_type": "code",
      "source": [
        "#Evaluation code\n",
        "\n",
        "total = 0\n",
        "correct = 0\n",
        "\n",
        "with torch.no_grad():\n",
        "  for batch_features, batch_labels in test_loader:\n",
        "    outputs = model(batch_features)\n",
        "    _, predicted = torch.max(outputs.data, 1)\n",
        "    total = total + batch_labels.shape[0]\n",
        "    correct = correct + (predicted == batch_labels).sum().item()\n",
        "\n",
        "  accuracy = correct/total\n",
        "  print(f'Accuracy: {accuracy}')"
      ],
      "metadata": {
        "colab": {
          "base_uri": "https://localhost:8080/"
        },
        "id": "9Ol9_GHNnztC",
        "outputId": "edd793ac-2935-4d32-a074-eec56da4163f"
      },
      "execution_count": 52,
      "outputs": [
        {
          "output_type": "stream",
          "name": "stdout",
          "text": [
            "Accuracy: 0.845\n"
          ]
        }
      ]
    },
    {
      "cell_type": "code",
      "source": [
        "len(test_loader)"
      ],
      "metadata": {
        "colab": {
          "base_uri": "https://localhost:8080/"
        },
        "id": "YfgwP1ylpJLZ",
        "outputId": "6c5c2f13-685a-40b1-bf9a-a667aba788e8"
      },
      "execution_count": 53,
      "outputs": [
        {
          "output_type": "execute_result",
          "data": {
            "text/plain": [
              "38"
            ]
          },
          "metadata": {},
          "execution_count": 53
        }
      ]
    }
  ]
}