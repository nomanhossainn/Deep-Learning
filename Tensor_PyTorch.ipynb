{
  "nbformat": 4,
  "nbformat_minor": 0,
  "metadata": {
    "colab": {
      "provenance": [],
      "gpuType": "T4"
    },
    "kernelspec": {
      "name": "python3",
      "display_name": "Python 3"
    },
    "language_info": {
      "name": "python"
    },
    "accelerator": "GPU"
  },
  "cells": [
    {
      "cell_type": "code",
      "execution_count": null,
      "metadata": {
        "colab": {
          "base_uri": "https://localhost:8080/"
        },
        "id": "CCsBqaX7OpNN",
        "outputId": "61038a3c-6153-4515-c0b1-c5217eba6c7f"
      },
      "outputs": [
        {
          "output_type": "stream",
          "name": "stdout",
          "text": [
            "2.6.0+cu124\n"
          ]
        }
      ],
      "source": [
        "import torch\n",
        "print(torch.__version__)"
      ]
    },
    {
      "cell_type": "code",
      "source": [
        "if torch.cuda.is_available():\n",
        "  print(\"GPU is avaiable\")\n",
        "  print(f\"Using GPU: {torch.cuda.get_device_name(0)}\")\n",
        "else:\n",
        "  print(\"GPU not avaiable. Using CPU\")"
      ],
      "metadata": {
        "colab": {
          "base_uri": "https://localhost:8080/"
        },
        "id": "0j548I5aUPKy",
        "outputId": "41bf8739-940f-4bea-ea5f-e01158dab6d7"
      },
      "execution_count": null,
      "outputs": [
        {
          "output_type": "stream",
          "name": "stdout",
          "text": [
            "GPU is avaiable\n",
            "Using GPU: Tesla T4\n"
          ]
        }
      ]
    },
    {
      "cell_type": "markdown",
      "source": [
        "##Creating a Tensor"
      ],
      "metadata": {
        "id": "clX0xoU4WPlv"
      }
    },
    {
      "cell_type": "code",
      "source": [
        "#using empty\n",
        "a = torch.empty(2,3)\n",
        "print(a)"
      ],
      "metadata": {
        "colab": {
          "base_uri": "https://localhost:8080/"
        },
        "id": "PvCBFXCaWOQF",
        "outputId": "1c357a82-30ea-4ff2-8ee5-44ea4c8e5a54"
      },
      "execution_count": null,
      "outputs": [
        {
          "output_type": "stream",
          "name": "stdout",
          "text": [
            "tensor([[-4.0429e-39,  1.5862e-36,  2.2056e-38],\n",
            "        [-2.1045e+29,  1.1459e-13,  2.4990e-38]])\n"
          ]
        }
      ]
    },
    {
      "cell_type": "code",
      "source": [
        "# Check type\n",
        "type(a)"
      ],
      "metadata": {
        "colab": {
          "base_uri": "https://localhost:8080/"
        },
        "id": "1oZ4eFF1Wd8S",
        "outputId": "d8c5c2da-a95d-4219-e6e2-fe87af9cb2bd"
      },
      "execution_count": null,
      "outputs": [
        {
          "output_type": "execute_result",
          "data": {
            "text/plain": [
              "torch.Tensor"
            ]
          },
          "metadata": {},
          "execution_count": 4
        }
      ]
    },
    {
      "cell_type": "code",
      "source": [
        "#Using Zero\n",
        "torch.zeros(2,3)"
      ],
      "metadata": {
        "colab": {
          "base_uri": "https://localhost:8080/"
        },
        "id": "G-44LrXkWrl9",
        "outputId": "9a2b170f-7097-4289-bb69-53c177e708a1"
      },
      "execution_count": null,
      "outputs": [
        {
          "output_type": "execute_result",
          "data": {
            "text/plain": [
              "tensor([[0., 0., 0.],\n",
              "        [0., 0., 0.]])"
            ]
          },
          "metadata": {},
          "execution_count": 5
        }
      ]
    },
    {
      "cell_type": "code",
      "source": [
        "#Using ones\n",
        "torch.ones(2,3)"
      ],
      "metadata": {
        "colab": {
          "base_uri": "https://localhost:8080/"
        },
        "id": "zV46lspOXbFD",
        "outputId": "816486b5-7582-4f78-fbab-42e270ce2212"
      },
      "execution_count": null,
      "outputs": [
        {
          "output_type": "execute_result",
          "data": {
            "text/plain": [
              "tensor([[1., 1., 1.],\n",
              "        [1., 1., 1.]])"
            ]
          },
          "metadata": {},
          "execution_count": 6
        }
      ]
    },
    {
      "cell_type": "code",
      "source": [
        "#using rand.  --for random\n",
        "torch.rand(2,3)"
      ],
      "metadata": {
        "colab": {
          "base_uri": "https://localhost:8080/"
        },
        "id": "nGh8efe7Xhmk",
        "outputId": "87591c95-ee5d-4161-ee21-9206a1df99fe"
      },
      "execution_count": null,
      "outputs": [
        {
          "output_type": "execute_result",
          "data": {
            "text/plain": [
              "tensor([[0.6124, 0.1492, 0.5826],\n",
              "        [0.4965, 0.1618, 0.8637]])"
            ]
          },
          "metadata": {},
          "execution_count": 7
        }
      ]
    },
    {
      "cell_type": "code",
      "source": [
        "# using seed        --For always same rand\n",
        "torch.manual_seed(100)\n",
        "torch.rand(2,3)"
      ],
      "metadata": {
        "colab": {
          "base_uri": "https://localhost:8080/"
        },
        "id": "L69INZWvXnEf",
        "outputId": "b73fd42c-21b6-4e2f-ee72-dd822e65bc47"
      },
      "execution_count": null,
      "outputs": [
        {
          "output_type": "execute_result",
          "data": {
            "text/plain": [
              "tensor([[0.1117, 0.8158, 0.2626],\n",
              "        [0.4839, 0.6765, 0.7539]])"
            ]
          },
          "metadata": {},
          "execution_count": 8
        }
      ]
    },
    {
      "cell_type": "code",
      "source": [
        "torch.manual_seed(100)\n",
        "torch.rand(2,3)"
      ],
      "metadata": {
        "colab": {
          "base_uri": "https://localhost:8080/"
        },
        "id": "_GWH6VNlX_ER",
        "outputId": "8cbc5065-93b5-4fdc-e27e-b7e98b62a92a"
      },
      "execution_count": null,
      "outputs": [
        {
          "output_type": "execute_result",
          "data": {
            "text/plain": [
              "tensor([[0.1117, 0.8158, 0.2626],\n",
              "        [0.4839, 0.6765, 0.7539]])"
            ]
          },
          "metadata": {},
          "execution_count": 9
        }
      ]
    },
    {
      "cell_type": "code",
      "source": [
        "#using tensor\n",
        "torch.tensor([[1,2,3],[4,5,6]])"
      ],
      "metadata": {
        "colab": {
          "base_uri": "https://localhost:8080/"
        },
        "id": "VHX1cGkPYBsc",
        "outputId": "96df27ad-ca00-490e-d4e4-cd01c3c0c9ee"
      },
      "execution_count": null,
      "outputs": [
        {
          "output_type": "execute_result",
          "data": {
            "text/plain": [
              "tensor([[1, 2, 3],\n",
              "        [4, 5, 6]])"
            ]
          },
          "metadata": {},
          "execution_count": 10
        }
      ]
    },
    {
      "cell_type": "code",
      "source": [
        "#other ways\n",
        "\n",
        "#arange\n",
        "print(\"using arange: \",torch.arange(0,10,2))\n",
        "\n",
        "#using linspace\n",
        "print(\"using linespace: \",torch.linspace(0,10,10))\n",
        "\n",
        "#using eye\n",
        "print(\"using eye: \", torch.eye(5))\n",
        "\n",
        "#using full\n",
        "print(\"using full: \", torch.full((3,3),5))"
      ],
      "metadata": {
        "colab": {
          "base_uri": "https://localhost:8080/"
        },
        "id": "WSmwVRRhYQIY",
        "outputId": "69956828-5b43-40fe-c4e5-a09a4f7c76a0"
      },
      "execution_count": null,
      "outputs": [
        {
          "output_type": "stream",
          "name": "stdout",
          "text": [
            "using arange:  tensor([0, 2, 4, 6, 8])\n",
            "using linespace:  tensor([ 0.0000,  1.1111,  2.2222,  3.3333,  4.4444,  5.5556,  6.6667,  7.7778,\n",
            "         8.8889, 10.0000])\n",
            "using eye:  tensor([[1., 0., 0., 0., 0.],\n",
            "        [0., 1., 0., 0., 0.],\n",
            "        [0., 0., 1., 0., 0.],\n",
            "        [0., 0., 0., 1., 0.],\n",
            "        [0., 0., 0., 0., 1.]])\n",
            "using full:  tensor([[5, 5, 5],\n",
            "        [5, 5, 5],\n",
            "        [5, 5, 5]])\n"
          ]
        }
      ]
    },
    {
      "cell_type": "markdown",
      "source": [
        "##Tensor Shape\n"
      ],
      "metadata": {
        "id": "LqU6TwPeaU6Q"
      }
    },
    {
      "cell_type": "code",
      "source": [
        "x = torch.tensor([[1,2,3], [4,5,6]])\n",
        "x"
      ],
      "metadata": {
        "colab": {
          "base_uri": "https://localhost:8080/"
        },
        "id": "veSwCSKwaaJw",
        "outputId": "86613c26-e797-4c16-f021-0eaa4613f779"
      },
      "execution_count": null,
      "outputs": [
        {
          "output_type": "execute_result",
          "data": {
            "text/plain": [
              "tensor([[1, 2, 3],\n",
              "        [4, 5, 6]])"
            ]
          },
          "metadata": {},
          "execution_count": 20
        }
      ]
    },
    {
      "cell_type": "code",
      "source": [
        "x.shape # for shape"
      ],
      "metadata": {
        "colab": {
          "base_uri": "https://localhost:8080/"
        },
        "id": "5oPkGKqVaqwi",
        "outputId": "da7c47b5-1d1b-4479-d346-de166b63b4a8"
      },
      "execution_count": null,
      "outputs": [
        {
          "output_type": "execute_result",
          "data": {
            "text/plain": [
              "torch.Size([2, 3])"
            ]
          },
          "metadata": {},
          "execution_count": 21
        }
      ]
    },
    {
      "cell_type": "code",
      "source": [
        "#for copy shape:\n",
        "\n",
        "torch.empty_like(x)"
      ],
      "metadata": {
        "colab": {
          "base_uri": "https://localhost:8080/"
        },
        "id": "eyENEFmkauEh",
        "outputId": "e380784f-70e4-4a13-de85-4c990520f61e"
      },
      "execution_count": null,
      "outputs": [
        {
          "output_type": "execute_result",
          "data": {
            "text/plain": [
              "tensor([[    140654104329616,          1163274464,                   0],\n",
              "        [                  0,                   0, 7310593858020254331]])"
            ]
          },
          "metadata": {},
          "execution_count": 22
        }
      ]
    },
    {
      "cell_type": "code",
      "source": [
        "#for copy zero shape\n",
        "\n",
        "torch.zeros_like(x)"
      ],
      "metadata": {
        "colab": {
          "base_uri": "https://localhost:8080/"
        },
        "id": "jtAkltJ1bGAc",
        "outputId": "90af7fd8-61c7-4071-9326-cd310e9caeec"
      },
      "execution_count": null,
      "outputs": [
        {
          "output_type": "execute_result",
          "data": {
            "text/plain": [
              "tensor([[0, 0, 0],\n",
              "        [0, 0, 0]])"
            ]
          },
          "metadata": {},
          "execution_count": 23
        }
      ]
    },
    {
      "cell_type": "code",
      "source": [
        "#for copy one shape\n",
        "\n",
        "torch.ones_like(x)"
      ],
      "metadata": {
        "colab": {
          "base_uri": "https://localhost:8080/"
        },
        "id": "DgqWjh1-bQh0",
        "outputId": "3ac10de6-1bca-4b32-b895-f5ceba2d2020"
      },
      "execution_count": null,
      "outputs": [
        {
          "output_type": "execute_result",
          "data": {
            "text/plain": [
              "tensor([[1, 1, 1],\n",
              "        [1, 1, 1]])"
            ]
          },
          "metadata": {},
          "execution_count": 24
        }
      ]
    },
    {
      "source": [
        "#for random copy shape:\n",
        "torch.rand_like(x.type(torch.float32)) # Change the data type of x to torch.float32 before calling rand_like"
      ],
      "cell_type": "code",
      "metadata": {
        "colab": {
          "base_uri": "https://localhost:8080/"
        },
        "id": "L0DWO6stsLxO",
        "outputId": "97654e77-e421-49d2-f8d6-f9e1adbe3640"
      },
      "execution_count": null,
      "outputs": [
        {
          "output_type": "execute_result",
          "data": {
            "text/plain": [
              "tensor([[0.2627, 0.0428, 0.2080],\n",
              "        [0.1180, 0.1217, 0.7356]])"
            ]
          },
          "metadata": {},
          "execution_count": 25
        }
      ]
    },
    {
      "cell_type": "markdown",
      "source": [
        "## Tensor Data type"
      ],
      "metadata": {
        "id": "co1ruLf9behN"
      }
    },
    {
      "cell_type": "code",
      "source": [
        "#Find Data type:\n",
        "\n",
        "x.dtype"
      ],
      "metadata": {
        "colab": {
          "base_uri": "https://localhost:8080/"
        },
        "id": "9yTHKnYMbjB3",
        "outputId": "8c8206b0-a4f7-4aaa-c9b7-9aa4c07e3e02"
      },
      "execution_count": null,
      "outputs": [
        {
          "output_type": "execute_result",
          "data": {
            "text/plain": [
              "torch.int64"
            ]
          },
          "metadata": {},
          "execution_count": 26
        }
      ]
    },
    {
      "cell_type": "code",
      "source": [
        "# Assign data type:\n",
        "\n",
        "torch.tensor([1.0,2.0,3.0], dtype=torch.int32)"
      ],
      "metadata": {
        "colab": {
          "base_uri": "https://localhost:8080/"
        },
        "id": "Ed5nuAcabstI",
        "outputId": "aaaf6a02-10be-4f1a-d9db-fcc2beb5b7d6"
      },
      "execution_count": null,
      "outputs": [
        {
          "output_type": "execute_result",
          "data": {
            "text/plain": [
              "tensor([1, 2, 3], dtype=torch.int32)"
            ]
          },
          "metadata": {},
          "execution_count": 27
        }
      ]
    },
    {
      "cell_type": "code",
      "source": [
        "torch.tensor([1,2,3], dtype=torch.float64)"
      ],
      "metadata": {
        "colab": {
          "base_uri": "https://localhost:8080/"
        },
        "id": "MzbEcPL2cRz4",
        "outputId": "f36b3394-eba6-4c5f-fc71-c727c22e98f4"
      },
      "execution_count": null,
      "outputs": [
        {
          "output_type": "execute_result",
          "data": {
            "text/plain": [
              "tensor([1., 2., 3.], dtype=torch.float64)"
            ]
          },
          "metadata": {},
          "execution_count": 28
        }
      ]
    },
    {
      "cell_type": "code",
      "source": [
        "#using to\n",
        "x.to(torch.float32)"
      ],
      "metadata": {
        "colab": {
          "base_uri": "https://localhost:8080/"
        },
        "id": "G7niBx_hcUmy",
        "outputId": "f8ee27a2-178d-48e8-e2c1-18746a69fd63"
      },
      "execution_count": null,
      "outputs": [
        {
          "output_type": "execute_result",
          "data": {
            "text/plain": [
              "tensor([[1., 2., 3.],\n",
              "        [4., 5., 6.]])"
            ]
          },
          "metadata": {},
          "execution_count": 29
        }
      ]
    },
    {
      "cell_type": "markdown",
      "source": [
        "![Screenshot 2025-03-30 at 1.52.26 AM.png](data:image/png;base64,iVBORw0KGgoAAAANSUhEUgAACFwAAAM9CAYAAACrbPV/AAAMTGlDQ1BJQ0MgUHJvZmlsZQAASImVVwdYU8kWnltSIQQIREBK6E0QkRJASggt9I4gKiEJEEqMCUHFjiyu4NpFBMuKrlIU2wrIYkNddWVR7H2xoKKsi+tiV96EALrsK9+b75s7//3nzD/nnJlbBgB6F18qzUU1AciT5Mtig/1Zk5NTWKQegAEmIAEqoPEFciknOjocwDLc/r28vgYQZXvZQan1z/7/WrSEIrkAACQa4nShXJAH8Y8A4K0CqSwfAKIU8uaz8qVKvA5iHRl0EOIaJc5U4VYlTlfhi4M28bFciB8BQFbn82WZAGj0QZ5VIMiEOnQYLXCSCMUSiP0g9snLmyGEeBHENtAGzklX6rPTv9LJ/Jtm+ogmn585glWxDBZygFguzeXP+T/T8b9LXq5ieA5rWNWzZCGxyphh3h7lzAhTYnWI30rSI6Mg1gYAxcXCQXslZmYpQhJU9qiNQM6FOYMrDdBJ8tw43hAfK+QHhEFsCHGGJDcyfMimKEMcpLSB+UMrxPm8eIj1IK4RyQPjhmyOy2bEDs97LUPG5QzxT/myQR+U+p8VOQkclT6mnSXiDeljjoVZ8UkQUyEOKBAnRkKsAXGkPCcubMgmtTCLGzlsI1PEKmOxgFgmkgT7q/Sx8gxZUOyQfV2efDh27HiWmBc5hC/lZ8WHqHKFPRLwB/2HsWB9IgknYVhHJJ8cPhyLUBQQqIodJ4skCXEqHteT5vvHqsbidtLc6CF73F+UG6zkzSCOlxfEDY8tyIebU6WPl0jzo+NVfuKV2fzQaJU/+D4QDrggALCAAtZ0MANkA3FHb1MvvFP1BAE+kIFMIAIOQ8zwiKTBHgm8xoFC8DtEIiAfGec/2CsCBZD/NIpVcuIRTnV1ABlDfUqVHPAY4jwQBnLhvWJQSTLiQSJ4BBnxPzziwyqAMeTCquz/9/ww+4XhQCZ8iFEMz8iiD1sSA4kBxBBiENEWN8B9cC88HF79YHXG2bjHcBxf7AmPCZ2EB4SrhC7CzeniItkoLyNAF9QPGspP+tf5wa2gpivuj3tDdaiMM3ED4IC7wHk4uC+c2RWy3CG/lVlhjdL+WwRfrdCQHcWJglLGUPwoNqNHathpuI6oKHP9dX5UvqaP5Js70jN6fu5X2RfCNmy0JfYtdhA7g53AzmGtWBNgYcewZqwdO6LEIzvu0eCOG54tdtCfHKgzes98WVllJuVO9U49Th9Vffmi2fnKh5E7QzpHJs7Mymdx4BdDxOJJBI7jWM5Ozq4AKL8/qtfbq5jB7wrCbP/CLfkNAO9jAwMDP33hQo8BsN8dvhIOf+Fs2PDTogbA2cMChaxAxeHKCwG+Oejw6dMHxsAc2MB4nIEb8AJ+IBCEgigQD5LBNOh9FtznMjALzAOLQQkoA6vAelAJtoLtoAbsAQdAE2gFJ8DP4Dy4CK6C23D3dIPnoA+8Bh8QBCEhNISB6CMmiCVijzgjbMQHCUTCkVgkGUlDMhEJokDmIUuQMmQNUolsQ2qR/chh5ARyDulEbiL3kR7kT+Q9iqHqqA5qhFqh41E2ykHD0Hh0KpqJzkQL0WJ0BVqBVqO70Ub0BHoevYp2oc/RfgxgahgTM8UcMDbGxaKwFCwDk2ELsFKsHKvGGrAWuM6XsS6sF3uHE3EGzsId4A4OwRNwAT4TX4AvxyvxGrwRP4Vfxu/jffhnAo1gSLAneBJ4hMmETMIsQgmhnLCTcIhwGj5L3YTXRCKRSbQmusNnMZmYTZxLXE7cTNxLPE7sJD4k9pNIJH2SPcmbFEXik/JJJaSNpN2kY6RLpG7SW7Ia2YTsTA4ip5Al5CJyObmOfJR8ifyE/IGiSbGkeFKiKELKHMpKyg5KC+UCpZvygapFtaZ6U+Op2dTF1ApqA/U09Q71lZqampmah1qMmlhtkVqF2j61s2r31d6pa6vbqXPVU9UV6ivUd6kfV7+p/opGo1nR/GgptHzaClot7STtHu2tBkPDUYOnIdRYqFGl0ahxSeMFnUK3pHPo0+iF9HL6QfoFeq8mRdNKk6vJ11ygWaV5WPO6Zr8WQ2uCVpRWntZyrTqtc1pPtUnaVtqB2kLtYu3t2ie1HzIwhjmDyxAwljB2ME4zunWIOtY6PJ1snTKdPTodOn262rouuom6s3WrdI/odjExphWTx8xlrmQeYF5jvh9jNIYzRjRm2ZiGMZfGvNEbq+enJ9Ir1durd1XvvT5LP1A/R3+1fpP+XQPcwM4gxmCWwRaD0wa9Y3XGeo0VjC0de2DsLUPU0M4w1nCu4XbDdsN+I2OjYCOp0Uajk0a9xkxjP+Ns43XGR417TBgmPiZik3Umx0yesXRZHFYuq4J1itVnamgaYqow3WbaYfrBzNoswazIbK/ZXXOqOds8w3ydeZt5n4WJRYTFPIt6i1uWFEu2ZZblBsszlm+srK2SrJZaNVk9tdaz5lkXWtdb37Gh2fjazLSptrliS7Rl2+bYbra9aIfaudpl2VXZXbBH7d3sxfab7TvHEcZ5jJOMqx533UHdgeNQ4FDvcN+R6RjuWOTY5PhivMX4lPGrx58Z/9nJ1SnXaYfT7QnaE0InFE1omfCns52zwLnK+cpE2sSgiQsnNk986WLvInLZ4nLDleEa4brUtc31k5u7m8ytwa3H3cI9zX2T+3W2DjuavZx91oPg4e+x0KPV452nm2e+5wHPP7wcvHK86ryeTrKeJJq0Y9JDbzNvvvc27y4flk+az/c+Xb6mvnzfat8HfuZ+Qr+dfk84tpxszm7OC38nf5n/If83XE/ufO7xACwgOKA0oCNQOzAhsDLwXpBZUGZQfVBfsGvw3ODjIYSQsJDVIdd5RjwBr5bXF+oeOj/0VJh6WFxYZdiDcLtwWXhLBBoRGrE24k6kZaQksikKRPGi1kbdjbaOnhn9UwwxJjqmKuZx7ITYebFn4hhx0+Pq4l7H+8evjL+dYJOgSGhLpCemJtYmvkkKSFqT1DV5/OT5k88nGySLk5tTSCmJKTtT+qcETlk/pTvVNbUk9dpU66mzp56bZjAtd9qR6fTp/OkH0whpSWl1aR/5Ufxqfn86L31Tep+AK9ggeC70E64T9oi8RWtETzK8M9ZkPM30zlyb2ZPlm1We1SvmiivFL7NDsrdmv8mJytmVM5CblLs3j5yXlndYoi3JkZyaYTxj9oxOqb20RNo103Pm+pl9sjDZTjkinypvzteBP/rtChvFN4r7BT4FVQVvZyXOOjhba7ZkdvscuznL5jwpDCr8YS4+VzC3bZ7pvMXz7s/nzN+2AFmQvqBtofnC4oXdi4IX1SymLs5Z/GuRU9Gaor+WJC1pKTYqXlT88Jvgb+pLNEpkJdeXei3d+i3+rfjbjmUTl21c9rlUWPpLmVNZednH5YLlv3w34buK7wZWZKzoWOm2cssq4irJqmurfVfXrNFaU7jm4dqItY3rWOtK1/21fvr6c+Uu5Vs3UDcoNnRVhFc0b7TYuGrjx8qsyqtV/lV7NxluWrbpzWbh5ktb/LY0bDXaWrb1/ffi729sC97WWG1VXb6duL1g++MdiTvO/MD+oXanwc6ynZ92SXZ11cTWnKp1r62tM6xbWY/WK+p7dqfuvrgnYE9zg0PDtr3MvWX7wD7Fvmf70/ZfOxB2oO0g+2DDj5Y/bjrEOFTaiDTOaexrymrqak5u7jwceritxavl0E+OP+1qNW2tOqJ7ZOVR6tHiowPHCo/1H5ce7z2ReeJh2/S22ycnn7xyKuZUx+mw02d/Dvr55BnOmWNnvc+2nvM8d/gX9i9N593ON7a7th/61fXXQx1uHY0X3C80X/S42NI5qfPoJd9LJy4HXP75Cu/K+auRVzuvJVy7cT31etcN4Y2nN3NvvrxVcOvD7UV3CHdK72reLb9neK/6N9vf9na5dR25H3C//UHcg9sPBQ+fP5I/+thd/Jj2uPyJyZPap85PW3uCei4+m/Ks+7n0+Yfekt+1ft/0wubFj3/4/dHeN7mv+6Xs5cCfy1/pv9r1l8tfbf3R/fde573+8Kb0rf7bmnfsd2feJ71/8mHWR9LHik+2n1o+h32+M5A3MCDly/iDvwIYUB5tMgD4cxcAtGQAGPDcSJ2iOh8OFkR1ph1E4D9h1RlysLgB0AD/6WN64d/NdQD27QDACurTUwGIpgEQ7wHQiRNH6vBZbvDcqSxEeDb4nvcpPS8d/JuiOpN+5ffoFihVXcDo9l8LZYLkv8Jz0QAAAJZlWElmTU0AKgAAAAgABQESAAMAAAABAAEAAAEaAAUAAAABAAAASgEbAAUAAAABAAAAUgEoAAMAAAABAAIAAIdpAAQAAAABAAAAWgAAAAAAAACQAAAAAQAAAJAAAAABAAOShgAHAAAAEgAAAISgAgAEAAAAAQAACFygAwAEAAAAAQAAAz0AAAAAQVNDSUkAAABTY3JlZW5zaG90Mls7wAAAAAlwSFlzAAAWJQAAFiUBSVIk8AAAAt1pVFh0WE1MOmNvbS5hZG9iZS54bXAAAAAAADx4OnhtcG1ldGEgeG1sbnM6eD0iYWRvYmU6bnM6bWV0YS8iIHg6eG1wdGs9IlhNUCBDb3JlIDYuMC4wIj4KICAgPHJkZjpSREYgeG1sbnM6cmRmPSJodHRwOi8vd3d3LnczLm9yZy8xOTk5LzAyLzIyLXJkZi1zeW50YXgtbnMjIj4KICAgICAgPHJkZjpEZXNjcmlwdGlvbiByZGY6YWJvdXQ9IiIKICAgICAgICAgICAgeG1sbnM6ZXhpZj0iaHR0cDovL25zLmFkb2JlLmNvbS9leGlmLzEuMC8iCiAgICAgICAgICAgIHhtbG5zOnRpZmY9Imh0dHA6Ly9ucy5hZG9iZS5jb20vdGlmZi8xLjAvIj4KICAgICAgICAgPGV4aWY6VXNlckNvbW1lbnQ+U2NyZWVuc2hvdDwvZXhpZjpVc2VyQ29tbWVudD4KICAgICAgICAgPGV4aWY6UGl4ZWxYRGltZW5zaW9uPjI4ODA8L2V4aWY6UGl4ZWxYRGltZW5zaW9uPgogICAgICAgICA8ZXhpZjpQaXhlbFlEaW1lbnNpb24+MTgwMDwvZXhpZjpQaXhlbFlEaW1lbnNpb24+CiAgICAgICAgIDx0aWZmOlJlc29sdXRpb25Vbml0PjI8L3RpZmY6UmVzb2x1dGlvblVuaXQ+CiAgICAgICAgIDx0aWZmOlhSZXNvbHV0aW9uPjE0NC8xPC90aWZmOlhSZXNvbHV0aW9uPgogICAgICAgICA8dGlmZjpZUmVzb2x1dGlvbj4xNDQvMTwvdGlmZjpZUmVzb2x1dGlvbj4KICAgICAgICAgPHRpZmY6T3JpZW50YXRpb24+MTwvdGlmZjpPcmllbnRhdGlvbj4KICAgICAgPC9yZGY6RGVzY3JpcHRpb24+CiAgIDwvcmRmOlJERj4KPC94OnhtcG1ldGE+CovGAWkAAEAASURBVHgB7J0HnCRF9ccLOCVIFkGSHIqC4mEiHBwCIihKkKBIUDgQFBAElKTkLCKg5BxFgoABQeBPRg5EBCQpOYugSD6i8O9vcW98U9s9090zszu7+3ufz25Pp6rqb1dXePXq1VTjx49/O0hEQAREQAREQAREQAREQAREQAREQAREQAREQAREQAREQAREQAREQAREQAREQAREQARKE5i69JW6UAREQAREQAREQAREQAREQAREQAREQAREQAREQAREQAREQAREQAREQAREQAREQAREIBKQwYUyggiIgAiIgAiIgAiIgAiIgAiIgAiIgAiIgAiIgAiIgAiIgAiIgAiIgAiIgAiIgAhUJCCDi4rAdLkIiIAIiIAIiIAIiIAIiIAIiIAIiIAIiIAIiIAIiIAIiIAIiIAIiIAIiIAIiIAIyOBCeUAEREAEREAEREAEREAEREAEREAEREAEREAEREAEREAEREAEREAEREAEREAEREAEKhKQwUVFYLpcBERABERABERABERABERABERABERABERABERABERABERABERABERABERABERABGRwoTwgAiIgAiIgAiIgAiIgAiIgAiIgAiIgAiIgAiIgAiIgAiIgAiIgAiIgAiIgAiIgAhUJyOCiIjBdLgIiIAIiIAIiIAIiIAIiIAIiIAIiIAIiIAIiIAIiIAIiIAIiIAIiIAIiIAIiIAIyuFAeEAEREAEREAEREAEREAEREAEREAEREAEREAEREAEREAEREAEREAEREAEREAEREIGKBGRwURGYLhcBERABERABERABERABERABERABERABERABERABERABERABERABERABERABERABGVwoD4iACIiACIiACIiACIiACIiACIiACIiACIiACIiACIiACIiACIiACIiACIiACIhARQIyuKgITJeLgAiIgAiIgAiIgAiIgAiIgAiIgAiIgAiIgAiIgAiIgAiIgAiIgAiIgAiIgAiIgAwulAdEQAREQAREQAREQAREQAREQAREQAREQAREQAREQAREQAREQAREQAREQAREQAREoCIBGVxUBKbLRUAEREAEREAEREAEREAEREAEREAEREAEREAEREAEREAEREAEREAEREAEREAEREAGF8oDIiACIiACIiACIiACIiACIiACIiACIiACIiACIiACIiACIiACIiACIiACIiACIlCRwBi7/u2337af2oqACIiACIiACIiACIiACIiACIiACIiACIiACIiACIiACIiACIiACIiACIiACIiACLQgMEaGFi3o6JQIiIAIiIAIiIAIiIAIiIAIiIAIiIAIiIAIiIAIiIAIiIAIiIAIiIAIiIAIiIAI5BCQh4scKDokAiIgAiIgAiIgAiIgAiIgAiIgAiIgAiIgAiIgAiIgAiIgAiIgAiIgAiIgAiIgAq0INHm4kLeLVqh0TgREQAREQAREQAREQAREQAREQAREQAREQAREQAREQAREQAREQAREQAREQAREQATeIRA9XJihBVv7LUAiIAIiIAIiIAIiIAIiIAIiIAIiIAIiIAIiIAIiIAIiIAIiIAIiIAIiIAIiIAIiIAL5BKKHC29okWdwkXcsPzgdFQEREAEREAEREAEREAEREAEREAEREAEREAEREAEREAEREAEREAEREAEREAEREIGRT2DMNNNMM/KfUk8oAiIgAiIgAiIgAiIgAiIgAiIgAiIgAiIgAiIgAiIgAiIgAiIgAiIgAiIgAiIgAl0kMHUXw1JQIiACIiACIiACIiACIiACIiACIiACIiACIiACIiACIiACIiACIiACIiACIiACIjAqCMjgYlS8Zj2kCIiACIiACIiACIiACIiACIiACIiACIiACIiACIiACIiACIiACIiACIiACIhANwnI4KKbNBWWCIiACIiACIiACIiACIiACIiACIiACIiACIiACIiACIiACIiACIiACIiACIjAqCAgg4tR8Zr1kCIgAiIgAiIgAiIgAiIgAiIgAiIgAiIgAiIgAiIgAiIgAiIgAiIgAiIgAiIgAt0kIIOLbtJUWCIgAiIgAiIgAiIgAiIgAiIgAiIgAiIgAiIgAiIgAiIgAiIgAiIgAiIgAiIgAqOCgAwuRsVr1kOKgAiIgAiIgAiIgAiIgAiIgAiIgAiIgAiIgAiIgAiIgAiIgAiIgAiIgAiIgAh0k4AMLrpJU2GJgAiIgAiIgAiIgAiIgAiIgAiIgAiIgAiIgAiIgAiIgAiIgAiIgAiIgAiIgAiMCgIyuBgVr1kPKQIiIAIiIAIiIAIiIAIiIAIiIAIiIAIiIAIiIAIiIAIiIAIiIAIiIAIiIAIi0E0CMrjoJk2FJQIiIAIiIAIiIAIiIAIiIAIiIAIiIAIiIAIiIAIiIAIiIAIiIAIiIAIiIAIiMCoIyOBiVLxmPaQIiIAIiIAIiIAIiIAIiIAIiIAIiIAIiIAIiIAIiIAIiIAIiIAIiIAIiIAIiEA3Ccjgops0FZYIiIAIiIAIiIAIiIAIiIAIiIAIiIAIiIAIiIAIiIAIiIAIiIAIiIAIiIAIiMCoICCDi1HxmvWQIiACIiACIiACIiACIiACIiACIiACIiACIiACIiACIiACIiACIiACIiACIiAC3SQgg4tu0lRYIiACIiACIiACIiACIiACIiACIiACIiACIiACIiACIiACIiACIiACIiACIiACo4LAmFHxlHrIrhJYcMEFw/illhoQ5suTJ4fHH3883HPPPeHll18ecL7fD0yYMCF8YP75KyfzjjvvDHdmfxIREIHhRWC11VYLM804Y1Oi3872/vnPf4ZHHnkkPPTQQ03ntCMCIiACIiACIiACIiACIiACI43AUpl+54OZnieVZ597Ljz66KNRx/Pf//43PT3s9+ebb76wxx57hFlnnTX2AXfaaafw6quv9uy5Bju+nj2IAhYBERABERABERABERABERhAQAYXA5DoQDsCyy23XGCgskjefvvtOFh54oknxo550XVVjk877bRh5plnbtzyzDPPhLfeequx340fG2ywQZhzzjkrB/WhhRaSwUVlarpBBIaewIYbbhjGjCmuBlG2XX311eHkk08OlGupzDbbbI37ufbFF19ML9G+CIiACIiACIiACIiACIiACPQ1gXXXXTd84AMfKEwjxhZ33HFHOPzww0dUn4f+IH06ZO655w5rr712+OUvf1nIod2JqaaaKswxxxyNy+gfegOObsfXiEg/REAEREAEREAEREAEREAEhpxA8UjTkCdNCRiuBOhkjh07Nuy7777h7LPPDhdccEHHj/Ktb30rfO5zn2uEc8wxx4Qrr7yysa8fIiACItBtAtNNN11YZZVVwhJLLBF23nnn8PzzzzdFceyxx4app35nZS6UaZtuumnTee2IgAiIgAiIgAiIgAiIgAiIwHAnMM0004RPfvKT4fjjjw/77bdfuOuuu4b7I8X0pwbz6X7Vhxw3blzYfffdG7fdcsst4cADD2zsp+Gn+40L9UMEREAEREAEREAEREAERGDYEXhnpGjYJVsJ7icCzHZ45ZVXQupiEsOL9ddfPyyzzDL9lNzCtLCMAM/h/1IvGm+++WbTea596qmnCsPUCREQgeFDgO/59ddfH5Dg9773veEnP/nJgOM6IAIiIAIiIAIiIAIiIAIiIAIjjcAbb7wRPTOkXv7wDohBAf2jkSBnnHFGuP3228NLL70UJk2aFH7/+9/39LEGO76ePowCFwEREAEREAEREAEREAERaCIgDxdNOLRTh8B1110XjjrqqHjr/PPP31gD08LaZpttws0335w7kMk1M800U1gwWy/0iSeeCCwV0g2pEyYeOVJBmbDYYos1DtNBvvjiixv73fzBTPmPfOQjkcG//vWvtkFz/QILLBBmmGGGcN999xXybRuQLhABEYhLhmy00UaRxLve9a6AW92vfOUrAcMxZPbZZw942jnppJPi/mD9Q5k511xzhb///e+lllFi6SU8DD399NNxHeLBSqfiEQEREAEREAEREAEREAERGBkEMDa/7bbb4sMwgQadji3FiLeL3XbbLWy//faFD0v/5f3vf3948MEHSy1BMssss8Q+zL///e+oFyoM2J2Yfvrpw4c//OHw5JNPhjL6E7sVHQrPYmnL0wPZtem2at8svR+PFmXigzFLvLznPe+Jup7XXnstDarlvunDHnjggfDyyy+3vFYnRUAEREAEREAEREAEREAEukNABhfd4ahQphB47LHHwre//e1w2mmnBTrACJ3Z1VZbrWlpETqOu+66azS0sI471+JR4qabbgpHH3109CSx0korhe985zucapItt9wy8HfJJZc0BkDLhtkUUIc70047bcAIwwZlSf83vvGNwIwQk7POOquhnGCGyOabbx6OOOKIBp9HH300TJ48OSy88MKNcPCk8dvf/jYuyWLh2JYB1V122SUstNBCjes5x9qgcL/88svtUm1FQARqEOD7PfPMM+MSIhtvvHEjBJY1wuDixBNOCLPMOmvjOD9Qav3qV78KfLu33nprXIbELvjjH/8Yfv7zn9tuNNxgqRKTO++8M66JjEcgk3POOSestdZa4d3vfrcdiopEjMDyDNMoYzESsXKXmyiPUCTi9leKtgZG/RABERABERABERABERABEShJAM8PDNwfeeSRjTvmm2++aBSeevv83ve+Fz2cYjBgQv+ISTosC+s9ZtDP2WyzzcJyyy0X/PXch46E6++//34LprHdZJNNwsorrxwwkjeh38PyHfS50Isga6+9dvS4ategl/nqV7/auO/73/9++MIXvhCXkLRrbOna9N52fTPSQv/R9EIW3qc//enYR3zi8cfDdpmBCgb8vh9o8dn1GKnssMMOcWKNHWOLF8bzzz+/SafG8cMOOyzwLhCMMtCjbbXVVgE9lQnLYu6///7hoYceskPaioAIiIAIiIAIiIAIiIAI9ICAlhTpAdTRHiSd6AsuuKAJw4orrtjYZxYCa3+y9cYWXIDXhvHjx4ef/exn8fr0fCOQKT+sk10lzDSMTvbp1P7nP/9pBEH6V1hhhcb+Ekss0fSMuKqkw+ufi5kLiyyySFPnnPPrrLNO2HrrrRth8YOO86GHHhrZpZ356aabLhqnbLfddk33aEcERKAeAVzKmsKOEPj+Pv7xj4d3OSOINGTKgCuvvLLpMOsde6Fc8HLNNdc0GVZw7utf//qAY+973/uiopOtly9/+csBwxBvbMF50oJh1oknnhgVov4e/RYBERABERABERABERABERCBMgQwrMDjnheMw73g9eKzn/3sAOMJdBsYrptXVO6hn4LOh+OpsQXn0ZEccMABUU/CvgkGFfR9TA9kxwlv8cUXD8cee2wjPG+4znUYt/v7MATx+1xjepr03nZ9M3QzqX6G8EzGTDEOKYqP65hYc/DBBw8wtuAc6SH9hxxyCLsNsfRygL4qXke8sQXH8R6CV41W6eM6iQiIgAiIgAiIgAiIgAiIQGcEZHDRGT/dXUDg+uuvbzozq5sNvsUWWzQNJP73v/+Na2b6G3Dfv95660XjBAY8ucYLnWOO43ISqRKmD6cbv6+5+uqmYJihYfL5z3/efsbtDTfc0LTfboewZptttngZHWQ64HSYW8mECRPCBz/4wVaX6JwIiEBJAnjt8cKyP5Q73hDDznPsxRdeiEsoUUaZzDjjjI11jjGK8GseU7ZhcFEkfhYY16BU815/MFCbOHFi0e3xOPf84Ac/aHmNToqACIiACIiACIiACIiACIhAEYG//vWvTadYTtYEfcwnPvEJ283dYjS+fqbjQVZdddXgjcjpE+EFwnsKRf+x0047NcLacMMNwzzzzNPY50faV8LradkJKKmOqSnggp00PuubERZ9Qd8HJAg8b3C83ZInGElggMIkGi9pfBiifPOb3/SXlPpN+HgFkYiACIiACIiACIiACIiACPSOgAwuesd2VIdMh9J3Ds2Sn5kHvmNOh3SDDTYIuIU8++yzm5iNGzcuYKBAh/Laa69tOndC5tKf4+edd16cHVElzKaAurDzuwsvbHpWZpSbfOxjH7OfcZt6/rCTF198cZzRjotJPGCYoGSwwVQUGHPPPbedim4lMcDYaKONBiwj4gdkGzfohwiIQGUCqXIMN68YL1D+oEAzYT1ejm2WLRmE3H777XYqbs11bGqEdd999zWVH3bTK6+8EtdKZpkQ3NN6WWyxxRpGa3z/frbSjTfeGDbddNOw1157xWWZ7L4FF1yw4W7WjmkrAiIgAiIgAiIgAiIgAiIgAmUIpIboflKN92iKHoj+C3oePE54vdDqa6wRo8Jo3AveLFhyA6MKb7TAso14wKC/s/rqqzduIUyW08DzBLohL60MP5599tloHM8ytvTfykq7vhlppC944IEHNgV52223xeN777130/F0B08fPKsJy0GyNAh9QZYz8cJSkkVyzz33xPhY5pdlWbwwcUAiAiIgAiIgAiIgAiIgAiLQOwIyuOgd21Efsh+MxNAC4dguu+wSfvjDH8a/bbfdNh7DIOPyyy9vYjbHHHM07Rft9CLMorjyjtMZfvLJJxunmOXAEiEYR3gX/yw98swzzzSusx/M4jjllFMihxey2fEoDrwwiwFJlyG46KKLAooCOv/HHXdck2Jirrnm8kHotwiIQE0CLAPkJXXR6s/537/+9a/9blhqqaXiPm52vVyYGWzlCcuZ/POf/4ynfvOb3zR+cwCF4wILLBDP4Q3IBOUkbmZRHt51113h0ksvtVNxy3IoEhEQAREQAREQAREQAREQARGoSsBPDOFem1STLo/68MMPB/ov6DmuuOKK8MgjjzSi4h76U+ap1E4wAYe+CoYU6Iv222+/+MdSGHiPQCfilx556KGHwqRJk+L1l112WXjiiScsqAFeIuzEvffeGzBEOOigg6LnUPQoZaVs36xseOl1qZHIkUce2fCKwSQj3ydFtwbzPNljjz2iRw0MS9LJPtIR5RHTMREQAREQAREQAREQARHoHoEx3QtKIYnA/wjQGfYdYu+u8cEHH4xeLvDm8KEPfSjO1DaDjP+F8M6got9v9bsXYbaKLz2HsQgzzU2YzY7xhJfUS4ed8zM+OMZAKUYkxsRmjqSdamZ44IrTxPP2hh52XlsREIHqBPzyH9ydftdFIbLGMUo8+xbxjIGC0QwluA8DCYym8iQtF+6+++5AGCZjx46NXm78d4+xl/eGYWWIv8d+aysCIiACIiACIiACIiACIiACZQn4vgj3MPEEWXLJJePW/tFP8X0S+ihe8AiKkcQyyyzTODzffPOFPffcM/aP8KSB7gQjB5OFF17Yfsbt/fff37S/4447NgwtvIcMfxHeJupKmb4Zngvril8SlrhuvvnmpqAeeOCBpiVbmIxDfzMVn05v6MJ1vt+Y3qd9ERABERABERABERABERCBzgnIw0XnDBVCDgE/qMjp119/vXEV7iYPPfTQsOiii8ZOcToo2Liwwo9ehFkh+jiT3HdumaGw+OKLNwXxu9/9rmm/1Y4Py9bx9Gucci+Ki3e/+92NP7+sQDeYtkqfzonAaCGQzgTy3mzaMbjlllsal/B9MqPKK7ruvPPOxvl2PyZPntx0CeVBnscKXyakyk0z3moKSDsiIAIiIAIiIAIiIAIiIAIi0IYASxR6MY8X3liA8/R7fJ8k1U3Qj2GSyUknndS03Aj30n8hno033jgcccQR4T3veQ+HQ9onw3uoF7xp4OWPvyqeK3wYVX7n9c2q3J9eO/PMMzcO+clKdjDtN84444x2SlsREAEREAEREAEREAEREIE+ISCDiz55ESMtGeuss07TIz3++ONxH/eRW2yxRdM5vFNgjHDUUUc1HS+704swy8Zt12FQgutMEzrA3kCCpQGqrBHqjSdee+21GOyrr75qwcctigRmleT9VYmrKVDtiIAINAiwju4888zT2OfHX/7yl6b9Vjvnn39+0+kVVlihaT9ddqTpZLJjykY7jBvedIkiDLXyygM7VsVYxOLRVgREQAREQAREQAREQAREQAS8Rwpo3HHHHRGKGV4YIQwGrP+Rt2W5C+SSSy4Jm2++ebj44ovD8889Z7c3tnjU2D9bWgSxpRbt5FAbkuf1zSxtdbbeSCQ1UCE8b5DB/lNPPcVGIgIiIAIiIAIiIAIiIAIi0EcEmn379VHClJThS+DDH/5wwMWhF9bwRD71qU/FGQ927tFHHw0777yz7Ybvfve7jd+tfniDhG6F2Sq+MucuvfTSAcYkdh9rl5YVlg7xneznpigf/vGPf4TZZputEcyf/vSnAUYqs88+e2C2RWqc0bhJP0RABEoT2GmnnZq+RWZSFSm3fJlkEeAOl/V282Yg8Y2yTEhZSZcUwkWsGbJZGCxFhEFb+v3PPffcQcYWRklbERABERABERABERABERCBKgTWXHPN4I0cMPS2JT/uvffepuVB/vPMM2GrRK/D0orc/69//StGu9pqq0UvGOz89a9/DaecckqcsEI8X/jCFxpJm2feeWN/jDi8pF41WK4WvRCCt4vtt9/eX97133l9s7xI8vqIeddhTI+xP4IuiPD9kiHjxo1ruu2ee+5p2teOCIiACIiACIiACIiACIjA0BOQh4uhfwfDPgWzzDJLYM3NZZddNnzve98L+++/f5NRBZ3qm266KT5nuu6nX2oEt5FefOeUgUQvvsNZN0wfXjd+X3XVVSHP/SPKiD/84Q+FUeBuc7311ovn+b3ddts1XWtrb6Zrjn72s58Na6+9dsDDBwL/o48+OhxyyCFNg8RNgWlHBESgkADlGMotvqvjjjsu/vYXn3rqqX636fcMM8wQpp9++qZj7EyaNGnAMQ745UbyLkAJaTOZ8IyB0YQJZcpDDz0UZ46ZBxzOsVzJPvvsEzB6Q1DaHXDAAeHwww9vUoLGk/onAiIgAiIgAiIgAiIgAiIgAjkE0LGwtMcqq6wS9t1337Dhhhs2XXXdddcF64ekHgDfN+eccSLNe9/73ngPy80ef/zxsU9iXkDRf6y//vrxDyN39CDojU444YQmbxfohAiHiTpe10J/h2VckYUXXjgaabDsCH/eMCRe0IV/ZfpmRJPqrT7wgQ806caKksISK152+MEPGgYYK6+8chg7dmzjNHHcd999jX39EAEREAEREAEREAEREAER6A8C8nDRH+9hWKeCmQQ2myB9EDrFe+65Z+Pw7bff3tRZX2ihhcKZZ54Zz9PJ9sIsCBNminuZMGFCWHrppcPNN98ccNvvFQBlw/ThdeO3dXzT2Q4oB0wZURQPS7CstdZasTPuDU0YWD355JPjbXgJWXXVVRsKBAZXUVKYsYbdN2em4Nh1112jYqQoPh0XARFoJsD3c9hhhzUfdHsYTtxwww3uSIjftRlZMBPp9NNPj4rATTbZpLF2MN+tn6VlAZjXH9tPtxhwsK4xZSjfupdbb701mLEaysttttmmcRrFKEYW6X3bbrttVFSmXjEaN+qHCIiACIiACIiACIiACIiACGQE8BhRJHj9O/LIIxunWe7jxhtvDOPHj28cw2Ccv7RPcvDBB4eJEycG9ELmFZW+zmmnnRYNyjGWmCX7M2GpDfOKgUfRL3/5y/EUfbfddtstGjh476CctKVOLIxubMv2zTCK94KxyDnnnBNgli6t668744wzwkorrRSmm266eBgG6IFSfpxkKRbrC/ow9FsEREAEREAEREAEREAERGBoCcjDxdDyH9Gxs5Yng3zWQeZhH3zwwTjo5x8cQ4vU2ILz1tnkN4Od6WwBOta46q8bJuF2W8ytpg/3sssu87uFv3keM5qwi/Ca4ddEZSD1zTfftNNxyz3+PjrlF154YdM12hEBEahPgO8pzxjjzjvvHBAoCkOv9KP8Q8HmhWVGUmWcP+9/p8YWfP943zC59tprGx6E7Bjb9L6//e1vgWWJJCIgAiIgAiIgAiIgAiIgAiJQhwBLWWy99daBiSFefvazn4VnsqVEUkn7JBgLICeeeGKwpVPZHzNmTPTSZx4wOEYc6D9M8DaYxuH7XVzH+WOOOcZu6fo2fZ60b/byyy83eeggAehqMNhoJei6jjjiiAE6rzQ+jFtaeV1sFYfOiYAIiIAIiIAIiIAIiIAI9JaADC56y3dEhp4aPviHpMP55JNPRleQm2++eXjqqaf86fibmQjMaEiFNSqffvrpxmE6lx/72Mfi/rPPPtuY7d24IPthaakTpg+n6HeqSLD4iq7/05/+1GQQwfWXX3550eXxOMzSwVeMJi7IPHekygKuY/Y8/LjGC/tPPP54nO2eLj/ir9NvERCB1gT4bidPnhw9WqBQxHNFnrBUBx5s2sn111/fdAnlRDvBTWz6jaNAJD2pAQczxX76058GDDlSQen361//Ouy1116N8jK9RvsiIAIiIAIiIAIiIAIiIAKjl0Cq9zASHMdbJ32TvffeO3qVeOONN+x0Y0u/BQ8OePFDv+GFMDCuOOigg8LZZ58dT5nHB/QWeeFhtE7/Bh2RCeEQxxVXXDGgn0Sc6Ei22mqrhqfBVHeT7hNu+tzpvsVdpW924I9/HJd+tHt9PGn4fp9leOnrYSTvj3M/z8fkHjwb+nP+t4+P32lfMu/503u0LwIiIAIiIAIiIAIiIAIiUJ/AVJnbv2bT9Pph6U4RqEQArxasvTnttNMGZoqXcYuIEQYu81k244EHHhhg0FEnzEqJbnMxywvgDtM8TtAx/9GPfjTgrl/+8pfBlkzhuVkSBY8e48aNi0YnjzzyyIB78g7gohIeLLmSZ9ySd4+OiYAIdJfAbLPNFssyjBvuv//+AUsIbb/99mGZZZZpRIoiLf1eWRqIpYVMzj333PCrX/0qzD///GHuueeOCsRXX33VThduKSMpV5klxgy0PAVm4c06IQIiIAIiIAIiIAIiIAIiIAIdEkAvQp+EJUHQibSTmWaaKSy66KLRMINJJu2WZCU8+mALL7xw1At5r6rt4ipzvht9s3nnnTcssMACAa8UPFMr44i8NJne6+677w4vvvhi3iU6JgIiIAIiIAIiIAIiIAIi0EcExvRRWpSUUUYAQ4O77rqr0lNjpc+AJn95UifMvHDqHHv/+98fdtxxx4axBWHkLTFSFDaDqX/+85+LTuceZ8Z76lYz90IdFAER6BkBPPAwIykVjKomTJgQll566cYpZnelxhaNkzk/MKbir6xQRvqZYGXv03UiIAIiIAIiIAIiIAIiIAIi0A0CGFrkeTUtChuDghtvvLHodO5x+mBV78kNqMLBKn2zJ554IvBXVzDS4E8iAiIgAiIgAiIgAiIgAiIwPAjI4GJ4vCelss8JHHfccWH22WdvSiUGFJMmTWo6ph0REIHRQWDZZZcN22677YCHveiiiwYc0wEREAEREAEREAEREAEREAEREAEREAEREAEREAEREAEREAEREIHhSWDq4ZlspVoE+osAS5l4wV3k/vvv7w/ptwiIwCgigBvdVHCny7rGEhEQAREQAREQAREQAREQAREQAREQAREQAREQAREQAREQAREQgZFBQB4uRsZ71FMMMYE333yzkQKWDDjrrLNauvWf/PLLYcZsnVJk8uTJjXv1QwREYGQQeOONNxoPQvnAMkj77LNP41j646WXXgosB2LyclZGSERABERABERABERABERABERABAaXgPpmg8tbsYmACIiACIiACIiACIjASCAw1fjx498eCQ+iZxCBoSYw55xzhhdeeCGwlIhEBERABKaddtow66yzhqeeekowREAEREAEREAEREAEREAEREAEREAEREAEREAEREAEREAEREAERiABebgYgS9VjzQ0BJ5++umhiVixioAI9CWB1157TcYWfflmlCgREAEREAEREAEREAEREAEREAEREAEREAEREAEREAEREAER6A6BqbsTjEIRAREQAREQAREQAREQAREQAREQAREQAREQAREQAREQAREQAREQAREQAREQAREQgdFDQAYXo+dd60lFQAREQAREQAREQAREQAREQAREQAREQAREQAREQAREQAREQAREQAREQAREQAS6REAGF10CqWBEQAREQAREQAREQAREQAREQAREQAREQAREQAREQAREQAREQAREQAREQAREQARGDwEZXIyed60nFQEREAEREAEREAEREAEREAEREAEREAEREAEREAEREAEREAEREAEREAEREAER6BIBGVx0CaSCEQEREAEREAEREAEREAEREAEREAEREAEREAEREAEREAEREAEREAEREAEREAERGD0EZHAxet61nlQEREAEREAEREAEREAEREAEREAEREAEREAEREAEREAEREAEREAEREAEREAERKBLBGRw0SWQCkYEREAEREAEREAEREAEREAEREAEREAEREAEREAEREAEREAEREAEREAEREAERGD0EJDBxeh513pSERABERABERABERABERABERABERABERABERABERABERABERABERABERABERCBLhGQwUWXQCoYERABERABERABERABERABERABERABERABERABERABERABERABERABERABERCB0UNgzFA/6o033jjUSVD8IiACIiACIiACIiACIiACIiACIiACIiACIiACIiACIiACIiACIiACIiACIiACQ0Rg/PjxQxRzZ9HKw0Vn/HS3CIiACIiACIiACIiACIiACIiACIiACIiACIiACIiACIiACIiACIiACIiACIjAKCQw5B4uVl555VGIXY8sAiIgAiIgAiIgAiIgAiIgAiIgAiIgAiIgAiIgAiIgAiIgAiIgAiIgAiIgAiIAgRdffHFYgpCHi2H52pRoERABERABERABERABERABERABERABERABERABERABERABERABERABERABERCBoSQgg4uhpK+4RUAEREAEREAEREAEREAEREAEREAEREAEREAEREAEREAEREAEREAEREAEREAEhiUBGVwMy9emRIuACIiACIiACIiACIiACIiACIiACIiACIiACIiACIiACIiACIiACIiACIiACAwlARlcDCV9xS0CIiACIiACIiACIiACIiACIiACIiACIiACIiACIiACIiACIiACIiACIiACIjAsCcjgYli+NiVaBERABERABERABERABERABERABERABERABERABERABERABERABERABERABERgKAnI4GIo6StuERABERABERABERABERABERABERABERABERABERABERABERABERABERABERCBYUlABhfD8rUp0SIgAiIgAiIgAiIgAiIgAiIgAiIgAiIgAiIgAiIgAiIgAiIgAiIgAiIgAiIgAkNJQAYXQ0lfcYuACIiACIiACIiACIiACIiACIiACIiACIiACIiACIiACIiACIiACIiACIiACAxLAjK4GJavTYkWAREQAREQAREQAREQAREQAREQAREQAREQAREQAREQAREQAREQAREQAREQAREYSgIyuBhK+opbBERABERABERABERABERABERABERABERABERABERABERABERABERABERABERgWBKQwcWwfG1KtAiIgAiIgAiIgAiIgAiIgAiIgAiIgAiIgAiIgAiIgAiIgAiIgAiIgAiIgAiIwFASGDOUkStuERABERCBzgi8+uqr4ZlnngkvvfRSZwHpbhEYIgIzzjhjeO973xumm266IUqBohUBERABERABERABERABERABERABERABERABERABERABERCBegRkcFGPW9NdY8aMCSussEKYaqqp4vFHHnkk3HvvvU3X9PPOxz/+8TD33HPHJL711lvhiiuu6OfkKm0iIAJTCGBsQXkjEYHhTABjIf4WWGABGV0M5xdZIu2zzDJLWHLJJeOVN9xww5Aain3605+Ohj5PPfVUuP3220uk/p1LaOstv/zy4UMf+lDgeZ599tnwxBNPhLvuuituSwekC0VABIaMQCdl0dixY8P48eNj3+mFF14IF154YXj66aeH7FkU8TsE6pbp/cZvjjnmCJ/61Kdisq699trw2muv9VsSlZ4uE7C8+69//SvcdtttXQ5dwVUhsOKKK4Zpppkm3HPPPeHRRx+tcmvfX7vggguGhRZaKLz++uvhmmuu6Wl6aetTz9I+vvvuu3saV78FPpic++3ZlR4RGE4ERnJ5P5zeg9IqAiIgAiORwLA2uKAz9NGPfjR84hOfCB/4wAcCSq9//OMf4frrr2+r+PrgBz8Ylf40iJ977rl431VXXRXDqPqiZ5999rDBBhs0bnvooYfCvvvu29gv+jHPPPOEHXbYIXZGUNTttddeHStVvvCFLwRmC5cROpIMEHzzm98M73vf+xq3XH311eG///1vY78ffmyyySZhmWWWCRiE/Pa3vw0XX3xxPyQrpoG8t/jii+em58033wx/+9vfwv333x/efvvt3GvqHOxF3qmTDt0ztATwbCERgZFCgPw877zzjpTH6fg5FltssYBBJOU9dTL19V/+8pfo0abjwIcoAJ5p/fXXj7H/5z//ic8zREkJEydOjO0lDCZ+8IMflErGnHPOGXbffffwnve8J/d66nnO0xbtN6ENNWHChPCHP/wh3Hnnnf2WvEFLD+3+tddeO9xxxx3hsssuG7R4FVF/EahbFlFuLLfcck0Pw/ckg4smJEOyU6dMH5KEtokUYx7KKOSBBx4IDz74YJs7+v80ugn0DRiKn3766X2nZxhqghtttFGYeeaZw/OZTqpfDC4YMJ9vvvly0dBeR9/12GOPdVW/kRtZzYN16/pvfOMbMcabbropHHvssTVj78/b1lxzzTBu3Lj4znptcIHubtpppw1PPvlk2HXXXfsTSI9SNZice/QICnYICay77rrh/e9/fzjrrLMCRnh1Rf2+9uRGcnnf/ul1hQiIgAiIQC8JDFuDCwwttt9++4B3CS+f+cxnwmqrrRYtqX/2s58N6NAzePG9731vwH2EscYaa4TrrrsunHrqqT7Inv3+6le/GmadddYY/lxzzRXTff7558f9d7/73bHjbZEzMIGxQTshzJRJ0T0YnTCA0w/S6nk5t+yyy0YPIhjZ0InpJ4OLpZdeOnzxi18sxEh6GYR58cUXo5LplltuKby27IlWeadsGP46Zuzi0t+EtGpGldHo3+1oWkbk85//fNhiiy2igdzmm28+qC+FuKkfKKcpg5DvfOc7gXLZ5MQTT4znbZ8txmEcH65C/bTIIovEWbwMJlFfYKDYSlgW5CMf+UigfsFzAANRlCdlZDTl51Y8mD393e9+t6lM5nqUpOutt17Mdxhopryo+8mfGGdg7CfpPoHvf//7DWML6nWMNeCOAQbsqUvLtsG6n7oQlduEm1d/b5opv6fO0ognma233roX0Q+LMDfbbLNYpi266KJh0qRJA76jqg9BG5X3/sYbb5Rqp1v4DEQgee/KrtG2vwh87GMfazK2YPD45ZdfjgNK/ZXS/k9N3e+m/59MKcwj8JWvfCUsscQS8RReA/rNm6bK44FvDaMfjExbyVtZe/P/Lr88nHvuuX1neNHtur4VB50TgaEioL7fUJHvTbzoT1ZZZZUYOO2kn/70p7UjUr+vNjrdKAIiIAIiIAIdE2i2Vug4uMEJ4LOf/WyYmM0wQsGZJxxHkYpBhm+k4K6RQYxW9zFr6d///nf4/e9/nxd0V4+lgyUo7UywtsTIwOSUU06JxiC2P9K2rZ43NTTBDeJwE/IcM1fIf1grX54pJzqRVnmnTrgokf0MX9yrY7AkGRkEUDrhxeaiiy6q5Dq/n55+/vnnjzP92yn/up1mBljXWWedAcHOMMMMTQYXuGh917ve1XQdA5v9JGXzAR6bvvWtb+Uu7/FkNnN/n8yDU7oEA0Znm266ae5sOJa92W233UbELM1ev8/ZZpst/OhHP2oatKe85w+jOPIYXrUOPvjgsPfee4d//vOfjSRxDPe9zz//fGz/NE7oR1cIwN7Kn1deeSXstNNOcbCVwBlM4m8oZamlloqGYKSBWZnMzvTySjY4jGFIO6Mpf89I/M3MXJbRwyhp8uTJHT+izYDF+8xRRx1VKrx276pUILpo0AngRdDkvPPO6yvjb0vXcNnW+W6Gy7MpnQMJ+LbK448/PvCCITyi8rg9fIzLvGCggm4DI07a/0yEwhC4n6TbdX0/PZvSIgJGQH0/IzEythjyY9BP+dqpt0T1+0ZGntBTiIAIiIAIDE8Cw9LgYq211moymkBpiktDZh8zCGbCIDLLPdj6i1ttuWXTfVjlP5ENHs2bueumw2iC0nwwDC6YDcDACWlk2YlLL73UktC1LYMCRTJc3N/yfn/xi1+EL3/5y3EGIdz6WchXr00xCmGAxs92pfHMYCZKgFtvvbX2YwxG3qmdON3YdwQwaCIv0olLB8r7LrF9liDqGwRvFnggwoUuZVKqMMazknm/wKiKge9+k7L5AMUpnioQDN4wcrP9ubP6kkFFyjHqXRNcx3rXw8z2Js8hGJ5gNIhnnk5cY1pcI3mLFxerMxjAPe200xoz8Kk/cMm9wgorRE8G3/72t8M+++zTwMF5Se8IfOhDH2oE/te//rVhbNE4OMQ//Pv3vy1Z2267bcDFNi7qR7MceuihYWzmRYZ1xVOD3k645DEvCs9f638XXa/j/UHADK5Qhl9yySX9kahhngrl/2H+AksmH48WLOOERx+MQvtJfB70v/spjUOZFrymbbXVVgOSgFdZPA4yCxtdFrOy+6lc7FVdPwCEDojAEBJQmTWE8HsQNbo6vHHjZZR+Sieifl8n9HSvCIiACIiACHRGYNgZXDA7z5bh4NGtE8gAGLLffvvFWdBxJ/v3iU98Ihpc4PHCG1WwRuaO2exE7mNw47jjjmsYYzBoZrNELZw62+mnnz4qtxmgyzN8YMaq98BRJ45W96AQxKNCt4TnYUANZg8//HBp15Gs28qAG1a6NCLryFVXXRX4KysWJ+n0nkPy7ud9f/jDH47u7+umz4d7w403hpNOOqlxiLV4N9xww4Ybck4wYFZkcIFClz9mhRe54q+ad8jjPCODnXhwkYiACLQnMA/GeFNPHS9kBsm1115beBPfpEk3B/EszMHc3nDDDVEh/qtf/SqWQ8SNcSAeLDBAgQneFdj3ghIdw4rf/OY30TgOryTbbbddoAykDDrggAOictbfo9/NBGCGMCiRzpanTmftc4xJqSPs2uYQyu2hIMcrC3VCFSMYu481mcvUl9TFpJNB/ireqWiD0d6gHvTfVquns3oOBdULL7ww4FLctDJLs+6MIZ7d5L777rOflbZ4KcG7Am2Tss9FBJRFsOS+Khx94iiXyhhboLwlb9B2KsPKuGOEVtRm8eko85s0YBxC25m8VkYsr2HQ2s6gGI5lBO70Ox588MEBSxSWuX+ormHtZ0s35UY7IW/Dm/dX5p23C6/Ked41nPECx3vJ6y+l4VEHMcCHUR95ukyda/mjalnk4zYjQjyjtIvT4iuTH30c9j0VlWP+2vT3HHPMEetqyqe8946hEcJEhHbp57o65RX5jj4fnnT4dvPSQdjdkDplep28PtNMM8X8RhlX1ligThlWlQme6/gjT5ddmqhOXUJepny4//77C79Pvl/q7CKdB8/Wrly25y8Tll3LlvYQ74hyupf5jbh4r9SP8CY/VPmO+KbLtJuIp4pQZvB+SAttJtOJVQmjzrUYBfM8eLBD8EBbZHDRqlzzdQB5DIPtbkm7ur5VulqloWqZ0M13ZO3wqu33oufh+6Y+hX3Z9mWdcqQo/rphcZ+1c9AHtxPqb3Rh1H9l2t916opWaajKuU47p1X83TxXNf8Td536ivuqvmfuyZO6dTLG9rT58voidTiUyYf0v1rpr32Z2ardTJ3Qrt9Hevj+qTupv6vUoVYWldUJ5L0Xjlk4Vcs0q4+r9lfrtK+L0m5t3qLyk3Y5bWnYlilf6+Qp0tYP7X/SQf8Tb6333HNPqfYR9wyGWH+mSjusTt1Ev6SK7oJnr/vOB4Ob4hABEeiMwLAzuKBiveQPf2g89QNZ59p3LG+77bYmgws64cjSSy/duIcfN/7pT437uB9XlyjBTShgyypV7B7bUvEecsghsbKxYyj5cZ/qZ5czCP/5z3/eLokDVTSuN95448Yx+8HsYf6YIXLmmWfa4UHZMoPhG1laZ8ksbb0woHHiiSeGO++80x+Ov2HAki404OhkmtCIu+WWW8LJJ58cK6Pll1++1PMef/zxjXB4L4SNeAMblB8M9sHJ1mLlGtLJLAfzdMIxhAbBjjvu2PSeyAsoC5itboJ3jSuvvNJ2K29vzAwwSI9/r1TGXjD62GabbcK4ceMahj+cpwPJTFryjs/neXnnuuuui7POV1pppUbQLAsyceLEJiMlwmHW9PXXXx+ZemMju3GxxRaL74gG9K677mqHtR1GBOjYpkJn3x+n4V9UzjHAvuSSS0ZFJuUq33krxSJhY5RFWWeDbgwM46qXb++aa65pysM+bXhP+OQnPxld0jI4QRmRepDw1/ObsnLChAlRyXjzzTeHu+++O72k1j7h0ihH8PRgQkfJsyOdrXjYfWW2VVnTMGeJLMpX3iFKTzp6eeLTbOfb5YOLL754gKt0PHxgIIjrYDxJEbcXZmOkynQ8YFDGXn311dH7xwczhbCkNQEb0PPlfXoHdcKKK64YDzOwtcceezTVGxgrUMciLHvhjezWW2+9QL3r60jqZb4hDAW9MgCDTep/6lbqUOoo8o4J1xJPunQF57mPJWx8PCg4MeYpEp6dup3BDN9uQPl+4YUXDvA8dliWJtol1FOEzX20EcmHu+yyS4yGcMiDdo6DPO+fsjZgWcFg1y+5xX14GuGPsFh+p52wFjrfjr1frucdw4N2S57QRsFgiW+Y5zKhTQN3a0/CjLaDl+985ztxeREGXg888MB46ogjjojKacrjvfbaKx6jbcwMVYTraC8Qr8XH89Hu/OUvfxmv8f9oX8PZG0HzTGeffXb0ZkO5DmfaGO2EvEecv/3tb8Piiy8e2/GWBryGwemkKXk6DYu8xrtgkM6Eex7JnpMyKx3A55tYZJFF4qAOnEwsDXi4m3feecMnsnaQN9S+9957w2GHHRa/h8997nMxTruXLWUy74U6MG82MNe0e1e0F3kWBAO/U089Nf62f3zbfIuwYXCRNrB9B3jK4zv4TJYOSzfvj3KYd5s3IIuCjrLbeyfiHsKGXd49lhbb8m3wjfDu8bqTCuFQx1Fn8i2a8L7w6LPwwgs38hvniBNvUnlL71E/Uw7RRrX8wT0M+tHvyjMWqVMWEaYXjAX5Lkzo41gZyzujj2JSNT/a+2tVjlnYfkteJD+gTOe5l1lmmYaXLd4h5SAekOhfkOfnyfq4li8I5+9//3ugTEi/D87VKa+oV77+9a83vGERDumgbUIfhndU97shLJO6ZXqdvE67lDLRly30y/g2zzjjDEtS3Fr5UacMawqoxA6eOFddddWmepLvhr4d+TGVsnWJ3WfPQlgfzcpK6/9bmWR5lnbxn//852iI6+u2vO+R5XhofyDUP9YnrxOWpZO+8AorrNCU7/kW6LPAh/zXqn5uVx5b3Ul8SyyxRCyb+fZ92cNzHH300QPav5RVeJXDCIFv0IS66fpJk2L+adXOs+vpj1DO05bieShrrP3CQCB1GHnbC2Ut+hkGPHot1BUMdsHF+k7Eae+1VbkGI2Zgf/zjH29iSh2Kp0D0Gib7ZksZUi/DjGeGhRf0NpRbCMbK9IuK6nquoV1F+4WBIRPCJt5WUqVMIJxuvqMq7fdWz2DnqDM22mijONhpx2hDUGfb92nH2VYtR/y96e+qYVmZVKZ9lsbFM34qK8tnzupL+3bpV1BW099NpU5dkYbh96tyLtPOoTyg3LHnIb6070fdhR6GOou2mf9m+OZYMhXZf//9mwblif+EE06IYeOViLaGSdX8z31V6qtO3rOl0bYWVpU62fq9lAWXXXZZ+NKXvhQ5pHVJHQ5l8yE6np///OfxMdBJe8/OVdvNef0+40MfjvY/Yx4mPCfGssSflgHGhrZGVZ2AhZ9uq5RpnfRX65b3aXrpf3zqU5+K/RT6xbRBMBYxoS7ke6Fe3HrrrWPf3LeNqJvRzTPon0qVPNUv7X//Tn7961/H8RN73sMPPzz21yijGGdjudxULH+Sp7bMPNEXSd1+Zp12WNW6iTTTL9l5550D4ztWJvMt0T6mjYGhX9oH5r4q75zrJSIgAsOPwP9GwodJ2ukInJvNui0SPFp4YVAZodPmFXHpTGWvTKGARLFaV8zIw9+P4hnFOY0/S5OvoLmWwpqKoZWk97S6thvnaJCjOLbKw4cJMxrrKEW9Mp7Khk5uXloJB2Uk11B58sytxMLwygp/j/9N5wPlbSqk84c//GF8Dt4tQgf4h1lH2ysfOU543tjCjrHtRBgs8AYXKCa8MGCWN1uZ50aJT4MEpjaQbVwsDOOQHifPpcK1KKBQlGFJnPdu7R4L1/a1HT4E8DKQCt4JbIkMzjFwR2fSCwOqKKsYoPRCh/0nP/nJgEFPuwYFDYN+DO6gsEKRaY1urkG5wbdFGW5CXHafHbMtjXOUlXmDAeuvv3703mN5F+Ubgw7k605nRrFURl6jn0FELwwstDMK8dfn/a7KGmUmg7NeqWnh8n5g+bvf/c4OxW3dfNAUiNvh/TJARnxeUmMLO4dRysMPPxzL3He5Tqmd17aZAIoO3i91RJF7Zr4vUwpT79l30BzSwL29skGO1FCGq7ifwQSUjCi1Taw+IQ4U02k8nOfbQ7HgjTowJEUJkQr5feWVV04Px33iJn1+WTi7kHIERTr1IYozk2myugzxxrJ2ji3tKb4J377jOM+B15Wy0qpdljLJC5O0p+0KrqN+ZTAGhSh8/TdFO6lV24tBCpSksPftozR+X4fbb18u2zHuy3vHPB9GnE899VQ0vLDwyUe77777gLgJj3LbxMdlx/K2xhHFbCq00yYsu2x4X6Yc/PGPf9x0GsOJPE7cw4xfFFtw8opDS9M0SXvb0sBAnf32kX3kIx+JyiPyVKs80epcu3dF/wB+xE/bLzW44PuxtKHIQew78AaClm6u5V1hjEB70A/wYSC5V843xz20kVHocY83wrJw/bbBM2OeJ5bHbMs13MN7SdvCnKO8oR5G6YwCzwt5NG2bcB6FFmUXbRQ/yFinLPLx2W+fdjtmW/9O6+RHe39F5ZjFk24tTbwr/rzwDllmE0MReNqSYP4a0oqy/aCDDvKHY1lbtbziu837dkkHikbSQX+x1bfR6pwlkGvqlOl18jpMUa7zDF543xiOYOy4XzYQbmLX5XFoVYbZ/WW3vJu8OHjPDKqRj/x3U6UusTTYsxTVk5Znx2YeUyhnU+F7RLnOgIOJtSfYt7zL7zphcV+esQTpZlCeP8SeI+7k/PPfbnrap5HyyE9m8NdSvuLxjTrZl5XoHdLvkvvIC9T7GLn59pYP035TBnIN7xZh6VkztiBeGOc9I21IdAbUl3W9cVkaymxNt+J52nttVa7hGYM8lArlFZNn0EEdc8wx8TT1He+V94Ihf2pYxKA2gkELRvtIo25K6vr5M/Z77LlnbvvFDB5jAMm/qmVCN98RdTXhpcL7z2u/p9el+9yHUXQqtNP3zNhQL3hdaJ1yJA3b9uuEZfm8TPvM4mFL+xAj3lTIGyxzCVMMAk3q1BV2b962KmfCKNPOeTjrVxuTvHg5hrEE/Qu+S/QzZqTNOTPa5zdlm/eCwICyhY2Bv0nV/M99Vesri7fqe7Y0+q2FlVdfFtXJVk9RzrCUdZ7U4VAlH/q2kJVhpKNOu9nqMR8OYfGdU6akbUOYUX9TBjDh0HuXNjbUR3n9xSKdAPHlSdUyzZ6FsPLiJ+15/dW65X1emj0D6qhU6NOQNiYFWvvjAABAAElEQVQp5Y0HUTczkRHjFas3CaNqnjIW3MefFzgMVvvf0kH8Xr/MPoaTTOpjUgZGDLDxXluoz60PSHnWSiz/+jaGv97SYVs7V7UdVqduIk0YIPFNeeE9MHHRxJ7B9qu+c7tPWxEQgeFFYMzwSu7A1DLwgzKH2VMoJ71inYKeGTwICjivhPMhMVPKCnyOM+DhFd/+2iq/qUgpbL0wUGgGF/64/WYAFCu/d2UNPRqDJihJSRPWcVUkr7LnfgYxbfC+KLyxWSd4u0yBkD5Dej2NGzrC1qmfOHFik7EF6eZdeMY05qiYGbDs5vOmabN9GocrZLNgrOFIJ9Pz5bq892X3d7pNFTU+f+2www4DjC3StJB+rqMB3C0hLzIYAX8aC76RQvwojvwgWrfiVTiDQ4ABcPt2GczkN+/Ue7TwHWxLFYYFfJ8I107OrLXnzBT35BEarggzTIqEGRbkVTqMGD/w7dMIpaFpHRXuRanB4Kl19nDXSJpRMFKe0zjnvtTggnyKEpcykbKaZ0NouDL4e+SRR8b9uv8YWLQlFkgvz4PwLfBdIHy/nmM8WONfVdakxYwt6LRQH2DQQKcFvlhX07Fh2QmTuvnA7vdbOg7Ut0iq7PTXpb/Ny0bV+isNZzTsX3DBBQ2PA+uuu25YbrnlwkUXXRQmZTMiLf95DpTftrQL5TltIPImgxFeeHemrOU9YPxJm4jZCRhH8D0ycML7tbrc30/5gaEqCn++ua997WtxwIDj1CUYBSJ89xgjmeAdiu+cMgXFW57ik2u5x4wtUArybfAc1J1rrrlmLL9Wz+73BhcWB1u+SZTseOLhG0YwdLA2IYZezAbD0JA0MKhtgxjx4hb/UFrCmLaiGTEyu9naEy1ujQMrNnhJWcisIbgzo4h3xPfMHzOfvKcLG3QnbIym8DLBO+KZGASDO+0YBlwYgEQ4bh4G8CphAzPxZIl/hMlsdOKjbCXdNuC2+uqrNxlcELcpPlCUMJuWMol21hprrNGoe0pEO+ASjCMwKGJL/uc7IG0YPPj8yUAOhruc49vA+xuelGhr0g5l5gjlIvUFg09lhfDIe3yL5EWMHFbJvJPQZkR5TR3E++APMU8H5L929U+Zd4VRG98q9R/1IMaHJgysIDyvxW/n2PIOyJvM8GZAHeNB8jnfFhzNOJpnZJCQ44RFGcO3xbNxD3mdupmywedLH1cnv9fKvmnrE/BNnpoZEj6b5TlmwZuinfxHXrRy71vZN2jGFni0wjCU8g+lOP0JngmjS3vXdcuivOeyMFlajO8VzgzGe+lGfswrx3wcRb/JryjHKVswMsGQ1rdf8DiAMeYf//jH+G5R/vP90ofmPfA8CAPBVcsruNs9vCvaH9RXhE05Rj+UPMhvZs1avq3y3dhz1ynT6+R13jHtKe6lrUl5yox56j6U6bRRmTjAIBb1Qyply7D0vnb71OMwQCijyY94ECAd5Ee+31Wz74FZ23wbSJW6JN6Q/CNv0Menbkg9qRkfPFBR9qKsJn3kKcoW2hetvFr5qKqERVuFZ0YYYD8zm2lKnqOOoD1CuVlGypTH5F2+KYS8YF5E6HNQb1OXcw3lK98gQvpsEAR+5Pu77rorfl+0dbieayhn/SBovHnKP+p7jNKsj4TuyM90pqyDGcI3xTugzlhnnXXiDFzO0R7wXoWmBN3VjQ2kECh5Mk/yyjXq5bGZnglBF8RsWNqm1NtMnqHupr6jzOIbo+3JwCnPhcGT74NQ1jHAhNxbsJxSPDnl32aZVy9rv9APpo7jPbVqv9QpE7r1jjptv/tn978pry/NZtBfmS3ZS33JxCAMN2FMG8rPSO60HPHxdhIWaWvXPuM7Rcgv1ucgbzEoRl8eY3baDXyHsKXswkMYYfeiXVSFc5V2Tru+H302649RFvuyhvahCYZNXnw7k+8PqZP/69RXlo4q79nuabWtWyeTL2hPM4CO1OFQNR8WPUeddnNeWJR9+2bezxp1S/aOzz7nnKizwxOj9bkxNKScTfVwhMn7KaMTyIufY52WacRfur9ao7wvSrc/Tr2GroK+NhN+4Ub+oB1GuxcdKF5SaI+hA9kx043iLQzu1GHmPbtOnvLpGMr2v08Hv2mP4jEVPQwTQmi30KdD6N95Y2D2TeDUbanTDqtTN2G4R9sLoR2BrolnJ4/zDVHPpNLpO0/D074IiED/EmjtTqF/091IGY0YOvd0kkyxzkkqnzJLITCA5WdgcO///d//selI6LzR0doz81xgDX8CRAGBZX6RoNRA2TkpcbuNApXj6ezlonA4TmOE2Q15f3hUaCdUIN4ogcqDzjvup82QxcLgWRE6bDazhH2enUFQFEG+kuUciutuPi9h0viCEwMZ6exzU36gsLeOOffQEWLwyd6Xn6HC+apCo4q4+KOyZUAgtfo0V2IoVOBgQloYNCMtKIJQJJngAQMFZhWh4kdRzDu4+uqrm25FSUJjEV7mus4uQLnBcZR5kuFJgDxH458/K4POyTpUdowtedMLx8zYApfeKCS+mg2sMrj6amakhWCV3UoohzECoPylXEaxwaApbhF9p20vZ1mP4p1BLQZ3GKwjvoezQTzyZ56gOCFtlP+UU2Y8RlydCuW/MfIGTigt7DgKTYuzbnx1WPM9s3wDM7DoqKBYhhl8OYew76VOPrD7USQzgEh9RvnBjGfKeDqRKJDLCAMxVjeb4qbMfaP1GgYn6HhSFyCU09QHJ2RupFF+MqBRRxic4L1RvzHbnTqcOBik8Gtup17CLC6MrE499dTYmaZ+IAwTP4ORbxJlA8L7ZgCCbwVlF51QFFd5QruB9KHUoj5ikJnygkEEBmQR2iPe9amFw3OQHmZC4s3MZuWZNw3qUQYdeGYGoVAA8G37+tXC6vbWBsdII3WxGf7icY19DM2QZTMPDtZhZ/CAtgE8mF1Gu4/vG0Ux7sStjWLGZt1KM2u/MxOdwWzSR1wYiSAzZgNoJrwDW4KC98WyBVxPu5tBextIteurbDEQo26AE++fQRZf1lDmmVAO26AJMxRRXlFnYLjM4I21U+HUqt1t4dmWPMLMW/ISz3TeeefFQRw7z8z2XopXPHkPVOQLe+cYZVi9bmlhn3qXOoI8gnKdPGZlCUs+mDCoZWHxvWBcAjuenTaohW2zhu2+bm0XmmK4R3jUMY9lA24YRZEOWx6MPgyD2gi/l8mWEEPIk7SPyR+0NSib4IHwTGOnDOLVLYtiQDX+dZofi8qxdknhXdGnwyAAhnyDV04xBuJewsUTA4NKvONbb721wZjz1jfid53yCsWhfYf0E4mHsgvjN2ZJW/5D+dmp1CnT6+R13qXVY7SFYYtQBtMOMmGQPZUqZVh6b7t9Hx+D8Si3EepkKzeoJ63P2WldQnmAgYkZ0fBsXizPUk9T7mKEyG8Tn7fsWNG2SlgYOpgclbUriJe0wgHPS5Tb3RLyD98YefpXmYdV2g98R5Sb1DMmZgzGPoYUJtRhlMXcQzvaG0346+x6thgbHJC9X2sTcD96Ci82oYbnxtgQ/tTDGL9af2C2bHCnl8JSUtSVlM8IZUsq9l59+4zygklSyPOZkQbllxm1Ewb1mJUbNqjMc1o5b/WCxcXglaXhD27ZYTvvt7RfzKMocfId+fZLytnurVMmdOsdddp+t2dIt5RteA2GA9+2GXBxHX0PM9LutBzx8XYaFvmgbPvMJjvx7dIWorzkN2WUNyTFsBepU1f4Zyv6XZZznXZOUZwcp43E94Us4vSHzPi3wXbOYSBn7UH2MVxDaN9bf6NO/q9aX8VIp/yr8p79fXm/69bJDJTzTaAXsjZAHQ5V82HeM3Csaru5KByMkGyZMPTwLNdIncG75tvAiAChnEb/kCdldQJ593Ks0zKtSn+1TnlflG5/nLoWY0fa3bQLDp+yDIxdw8QBvn2+Q+qYC5zHPt82qpOnLI6hbv9bOthSP1N3M96Dbon8xDdkdTlGX16s/cMz5LUd/LV1flv43FumHVa3bjJvQTwn9QxGWpRf6BAw4MvTNXXyzuuw0D0iIAJDR2DYG1wUoaPjaYriomtoSNDJM6UK12GR5wcfGPyj85X3h/vIPKERQCGLoEQ0JYhdW3XQ3O4b7K0p1ImXSgRXvVSKKA1sNqulaY5M4Yag/MT9pf0xQMQxGKOE88IMoW4LxiVUcihbmLHnxWZZ+wqY8ygFaSghvK9OBwUxoKDBwR+zNFBIkNdMYGmNWVM42Dksic0CHaXz3Vml7QUDjipCQ4+ONB1MGn7W6CEMU+RUCU/XjmwCNhMC4wpmgphQLp42xWsCg+fpbAi7zrYopFEsmlAWUybQ6UAYtJ8wZfCEWV+pggulCIYDNqPAwrEtg4KmUORaK7OHU56uw5r3gDEZgxpeKJdttr3NGvbn6/5mBgyuRVG+oABGGCBmICs1aMuLA4NGm11HmewHKvKu17F3CFA/0Emj82plNoMoKPQxeGJA1Bs5lOHGN4bhHXWSnzHPvb6NYgZXPkzSwECoF94nSgbEf3fWvuEeDLxSKepU01YgfXjHsWe2e72nBq8UtPPMqrTBdTtGmizP3pHV8bQLvKCAmzylPPLHu/kb5akZG1GvGy+Lg+c0b0FcS1sBQUnBe4JHagzJefv+fbuC452KHyizsMzbiTe+9eV/2s7iPmtPWRhsGSjF/Wr6h+LXixnX+GO0i8wwxdpxnDfDB7iiNEzFG37YjL30mrx9jIKsfrHzPg/mGf3Ydd3YYnRFOxuh/DXBYMIGlcxLgJ1ji2ETfR8vHEP5g/A9oFBCvGEVg4ip2D3kMYx/ui02cEa4EydObOqHUb6x1AV/ltcpV+zZ89roVv8RnnlhqlsWEUYd6TQ/5pVjZdJBWZwagF6SDfKa8E3h4cKL/0atLqlbXtHHMIUixi5ekUy8TGrgXVKndSJ1y/Q6ed0GdPkO00kYGMxbWZ7Xj61ShlXlYfUz7V4Mj71YO5hjNlDaaV2SVxb6OMmzZkRox31fP6++tuvSbZWwbNIE5XTapuCd5b2DNL6y+5T91MX8pXmBdoT1a3zb24zGiANjAHtv7FNWWflmugCOe+FbsQExPDBQJqZi3zSzJ80Qya7BmJ44ts1ZVtSuqbKlHsBgwv/RpiQeJhIhpMeWuvNh55Vr1tbhuvMyPUUqlCnW9qAfYWW/8Sc9Xh9i/UnyO0Y3rcTrgPI8pjFQlCd1yoRuvaNO2u95z8Ix2p8MhqXimdgyZZ2WIz6OTsPKK5Py2mfkEfsmaUOm/QoMU/m2KEetf1CnrvDPlve7Cuc67Zy8OP0xdJzIzNl3ZH2ilbL2OEJ7Ef0BYrPN4cY3h/hvqU7+t3KvbH0VI53yr+x79vcU/c6rD4r6FRYG7w1j61SqcqiTD9M4bb9qu9nuS7dWBvKMTOhMhXLWxlB8e86u476yOgG7J912WqaV7a/asxK/L9ssPUXlvZ0v2sLA9PV2DWMIxo1yzutBuYa4uA/xbceqeSoGMOXfULf/fVry+NI+4vtHaA9amYxuxMoZ317y4XX624dbph1Wp27ieaxcJT5rD1ra0be9NGVCnB1j28k79+HotwiIQP8TeGcaYv+nszCFKAVRwlDgWcOOi7FmpINKZ9AUIz4QOm/MyvP30OD267FyPcpJ6+j5++1ceox9DAy8MEOR2dgmZvFu+0OxtQq/KG4GRHHtb0KHhIrIhAoFRYdVnCjjmaGKIoqZ6fxmwJQZTUUMi7haHHW2/rl8w5SweCYkVZZ7xWO8oIf/SB8KFhscMpeoFmXqehWLaj+44WfQ2D2ttp4HRhcooryBUat7dW70EbDyMDX0gQTGOygcEZQC1omPB9w/8hluwFsJ+di+f2bNVxU6yl4wckOGU97uhDWKEWY+U5dQ/8HSBtL4DQdTonhOVX+jjGLWOGEzKEMHAeUqA3QsL2MzPvLCpbxlBhFpoRzCUCStG/Pu07F3COARAi8MDHbijpGZAZZn6KiikMfwiPq2iqyQeZ0h7xBGUd1cNjzfJrB7TInAuXTQ2q4p2tJpxWMNinTyGXnHyomie4qOM/BnYop72x+sLYZKln4bwE7j5huyWWC0l7zimJnjtKMoL5mNNhTlW9479F7MvEI2fTa/T55juaNUmPWDkqqdYGwGn+kzDiaW14qMv8zYlHxlA3R2b9WtN2SwtmTVMMpeT3lJG5FBKcp3ZpqitLFBJQa384wOisIn/5snNYwC2PdK1NTTFeGYAonf3GNtVva7Icw2YvkK8jTtYJZsYCkvDGc4l/bbmHlqwn3Gwo7Zd8a+5U/LH3XKIgu3ytbiG4z82C5dPr+mxhjcyyCoibHrpLy6OSvHKLcZXMDYnP40gxwonBnY6obULdPr5HXKXoRvPZ1gwHGbHWxbjrWTvDKs3T3+PEYU9q7mytp+LKlTJJYX7fxg1iW8e8ow0mrptXRU3RaFZS6aMXgYLKHfg6E0dcm0WZvYGyGmaaCMZbCdNht/eODim8QrBh4Y8gYALQwMLd4Z7nzHSyjtvDwhHFtDHs9PeAZEB4Obd/7SMjQvjCrHjHl6D+96UjZp5YzMmxm/y4g3JGRgNU8w5LGZ9uj0aBMzYDUxM9CjnGGZF8oWfluZnw6A5YU7b+bhwqRs+4Xr65QJ3X5H3Wy/G4N06wepUn1ZN8uRbobl6ztrn3mjnnQpJHtmvJt4qVNX+Pur/M7jXKed0y7Oq7I6eELmQY+ymDoanacZlvC9UFfQPmQCGEvOsbVy2xv2Vs3/ndRXRc+U956Lri1zvE6dXJVDnXxYlPaq7eaicCyfU78W1RP0OWhz0QcpK3k6gXb3drNMy+2v1izv26W76DxMaRfmsTBDeu61b4zfVfMU97QS/50MRvu/VVo4RzmCZ14Eby8YZpjXF47lTdzgeKdStx1WpW4yQ3vSWlTP5D1Ht995Xhw6JgIi0B8Ehr3BBRaOZuXIwASuL811FApDLNrsvEeOQshm9XCcShBji7SybtV5bHXOx4X1oRdvyOCPd/s36WOd3jxpNxiHgtc3Bsxi04eFxaI3AMBSkc4+ylBTAvjr++W3WVRaevIaI3auG1tYMzuTiv/UbHDZ5zGfB4krndHPmuCsqWnSi5mGFra2ImAzlRj4SIV8S5lCuUAnrEjKfE++A+qVDkVh+uN5ZRcdHMSXWf6efvxdlzWGL5TPrYTOXlEnutV96TkMWXDPbEJ5hUIGQztchWP4UWREwexyG+REYZzOgrQwtW1NAONGZtnwh4ENdTqKLAYqt8tmL/JXRvg2DjzwwBiGXc/3bN9TtwbzrY6yb9Liarel80n6fDosfVNnaW81uJEXtjdsTdtgedf34pjNtCfsdDayxYdRgIlPM/fSnvVlGgPtb2XvjAEGf9zuH6ytV8D59LeKnwF7r5iwazG4KCM2a8TyAe04Y9CqziEf0hcYrHZ3mWcpcw2eT6yexFiFtuN8mSEz8kDm4Yhvo6z4ugAPIbRFTdlDGPbNFoXnry26pupxBkox2vv+978f6zPeJfkf4zL+MCTDY50pLW3GPvEUDfxZGsyrjD1X1bLIwqmyHQn5sZPyiiV9GLwgr1KG847wkMXfZpttFvNv3ZmE9h58+VilTPf51/KEhZluuZb2DWUsQr5sdY+VQWk4eftpGZZ3TatjsDShHGyVLm8I0s91iT1P1a1xN89HVe+vej2GoH7iDPejN6Ic9m0WHy6upfEywaQJ0ku5hCt3/hgQwWtou/qPsDG6ZGm2VGzJK5bcIGyupY5lYIN1yDlPvdEN4TlTQ3r0FY9mfYTHM71PlfqI9HgPql4n4tPq2xZmcEE8ZoxoM0RZjs3yw4XZ8mvtZDbnXdUPTLW6r26Z0K13xPMNRvsdBr69YEbeHO9mOdLNsEhbnvg8lqfTyLunal2RF0bZY3mc67Rz2sWHlzD6eZQPGFwwWcbaSP+XLV85Z2ZAhsEFhhfkc8onhHYTOl2kTv6vW1/FCAfpX9U6uQ6HOvmw6PGrtpuLwjE9+GtTlozMu876VdYWyrumk2ODVabVKe87ea6q99bJU1XjKHN9J+3/duHj9WzDDTaIehyWqcTggrIIoZyhT9orqdoOq1o32bdE+sv2S/rlnfeKucIVARFoJjDsDS7849BwYuYtCjwTGo6pwQXnraPGdXTgUOxZw9LuZUsH8/LLL/eHGr+todY4UPDDKz64pKhzWXB7R4frKhrTWSM2e9onJn0uDDC4bmI2+8ALg3Z/y9wsPZEp1ovWgvPX9/q3n9lFXMygKJp9WictWI/jKq2MMAPGDIS4Ph0UmHWKWz8Lq2xlbtdrKwJVCJjSzJRXRffadXnny5Rv/v5edeby0tZPx4xBFdbf/va3G8YWzHBmnURmfVHOo3SkY4H0iill/AknnBCXtUDZT9mZN/OZda2t83b88cfnuq3tp3fRL2lhMNRmnmBsZ4ONlj7q5b322isqXjFmQWnGwFaZep661was8FyCG1HyDsKMsBNPPNGi6WhLu4jOpJ8hXyZAjAts4ILOOe5KTeHDDBi/ZnuZ8HwbxoybytzXzWv4XkzSut2Om1ES+zb4wvtgyTrKBgZ1aNfiacaMY/BIYIPxFs5gbn07hDxYZtCCcqATIU8hVm6SBn7DqNX7tXZq2u7rJC2DcS8Gahg6k35mA7P0lhmb+CWAyqTFlOtca4NYlBmETZ7KW1LEh1tlFrC/r91vjJAwfqcMwzh+/Pjx0aiE5xybGXX+9Kc/jQOWhOMHVs8999z4XRSFb8q7umVRUbitjo+E/Fi3vDIutEf4Y4bsUkstFT2hkfco1zG6IL9RjtWVumV61bzu+/Z8L7aMQV66/YzFvPP+WFqG+XNlfvtyl5nJlAlFYgZ+/V6XFKW/3XGMDykn2hlftQunzHlm+WNIhFDXnZ4tr0j7zAQPKPZu7Rhb8gbL6JH/l1tuufCZz3wmtu/Qk/BdsMwi5V+6xBv3Eg9h0pZfccUVA14g8rwKkg8wusVVNwbQzFynHUm9SJx4lcpbjoQ4qgiG1akurcr96bXkT2vr0lbEM2Iqfvkw7xHEjBFhw1JhPCfCAHYZb1nPZoYiJvRj/Pdux9Otv6ZqmdCNdzRY7Xee27cXnp/iCamb5Ug3w0rfk9/3RhbekMJfk/6uWlek91fZz+Ncp51TJk6+H/rk6L5t+SGele+FP8oqvifaYR/JrkPoJ5rUyf916iuLb7C2Vm5bv6JdvHU41MmHrdJRpd1cFA75jLpzTFb2FokNJFu/s+i6uscHq0yrU97XfaY699XJU3XiaXdPp+3/VuHTfrjv/vtjn4B6HUM+q9/xAt9LqdIOq1M3WZ+aZ2ili/DP2C/v3KdJv0VABHpHYNgZXDDDgJkGJnR6jzzySNsdsE1ngOAS3y/RQCMLV4++YekDoaD2jUZ/ruh3OoDm1w/jHq80KgpjqI/TwOLPBkDorNAYhwfCM/pZ1nDEeACFgn9+jFj8ur00sIZaGNRAIWiCC7+8dcfsfC+3DHj5/IGS0s8EXypTQHvJMwry57v127/DboWpcIaeQLv3SicMJYA1hH2KbekKjnnll7+m7G+vOGTgEPe3vRTKfF/2oABjuYteiXXeWymD67DeILMQR67OXISiqPVSVqHEPe3ygQ83/e3fPcqb1OACT1HUAwgDY6eddloahPYLCKAwx00ygtFe0XJXGAjaQD0zk9I1zPOCXzS7DsEgKnWjm3d93WMog1D+M7jGwEJqNJIXLp1cc4HOIFI38szDbqkVFPutBs3y0tSNY7gPN2G2F99tKr7+t0EcBlis445HGdZ87yfx7RDyX7rEUy/SSp5CvKKCvEUZm7q9tvhR6lgb1gbh7dxw2JIfmA1E3bvaaqvFJNMub7WUU95zYbxgYstvoSRCoUq7nkFwa9vbdVW25uWIeqVo8CwNj3qfuFHyoZC+5JJL4h9lBjN5eXc894LZMjLUOXzP1m4n/5UxAqlTFqXprLI/3PNj3fKKb5NvkHxA2458a2UZS2FtvvnmESN1WycGF3XL9Dp5ncEoyhbydLfqjrwyrEr+8u8HY8Qy6er3uqTK8/trX83eD3WkGZH6c93+jYcJazPT7i5jVE6ZS1+K90T5Rb63vL/11ls33PbzfqjjvVCO7LzzzlFX9d3vfjee2mabbeJkIosb3ZYZNaO/Io8TDn/03w7MvMphkDKUhpn+mdLf6D5shittoLw6zTyoYlxjxqiE440RKVMWyDy+IX45tnig4B8eOUxov+TFbedtS9lWtUzo5jsarPY7z/vRj37UHjtOlGKnm+VIN8NqJDTnh3fvzveY15+ir0pbgzYF/ao6dUVO1KUO5XGu084pExltdMoLDAxoUyJ+ohnx0k/i3MxTJnp5j1R18n+d+qrMs3Tzmqp1ch0OdfJh0TNWbTcXhUM+J99Th9LOoWxLxepWbzCSXtPJ/mCVaXXK+06eq+q9dfJU1TjKXO+/1yr6ijJhcw3La7EsG4KRqLWpLsq8OZYROCFV+plV22F16iabuETa/GRu9oukX955Ufp0XAREoLsEpu5ucL0PzTdciI2ZX9ZpwxWbX36B84899hibKLhYZEDbhEGxo48+Og4YofD3f1YR2LVVtrh0tHX4aMytscYaTbcXGXf4i6xisWN0Cgdb/KwLFKPbb799Iwm4NTdFNgdtKQwbBLIL/WALa596mcrtDObzpopa8g1rSCMMWqIgHCxJB8pYjsWUKKSLATgvpsT0x7rxO+XPeqidfAPdSJPC6B4Bmz3kO/h5odt3nKek89+vNwrKC6fdMVxcmlHCYCw/RCOfesL+0jK5XXqrnrcZ396lZhpGHdZW5uK6O5UvfvGL6aEB+2XzwYAb3QHKKBM/8MoxvBQwQwahc/Xzn/88/ta/cgT8jNXVV1+98CZTRHOBbxPZN0V9ncoMUzwE5BkBrbnmmo3LOy33zQCHcLxxrEXg1+62YxhbWLx5niDwcGFCO62MMNvR8jsDtfbt2L0ok2bIBi16KQy2mCJr8Uyxm8feBtJ5d5SLiGdghiiWTgahbWaoHbOtvX/2Gbjulfh8+pWvfGVANKbQHXCixIF0mTVuoX1mM9G88u/xbGYeguLQG1LHg9k/7xWl17NoiDPNY5aOvG2Zd/U75x7d3BLb95UXJsrT9L2zb2z4Hiw/mgEK391Et2ydhctx+MG2naC8NcFLhRcG/2acUvb449tPWQ5pjz328IejgdYNN9zQOGYKOm+kaWsBNy6a8gODfGvLc8hYVSmL0jCr7PdbfqySdq6tW17BHQUq3iOt/re4eZc2QzIty+yast9N3TK9Tl63coY+oTeKszRjrIS+Ia8+qlKGWXhltkxqMJZ8Z1Ym+ntpu/ulL+rWJT7MfvxtszExakjb2bR/MNSqIq3KYz9xB48RXuhTmXGktWE4jzc6vonddtutafkmzp199tlsouSl85XM8J1yGkOA6zNPdgiGbD/60Y/ib/5RHxA+f1tssUXjOD/IuzbIBAvaDP0meOww8X1LO8Z7tbL/P1m+T8WMJPCyZ56f8HxRRrwOaO211x5wy4QJEwYc40DVMqGb76gX7Xfyq3k78A/s+8e25Gc3y5FuhuXTnf725SUeIFMZmxlhYNDERAYzdK9TV6ThpvtVONdp5xCflV95fT/OY2xi11gZZgZgnL96ijG4LSfNtakBU9X87/mXra9ISy+km3VyJxzK5sMiBlXbzUXhWBlI3rSJPP5aykAmTSAPOk8n/ppOf/eiTMtLkz0r56qU93lh9epY1TzVi3TUbf+XTQsT3WxMyDx7Y0BaxisVcdTpZ1Zth9Wpm2irWb8aD2Opd1d0TXl94H5452Xfna4TARHojEA5zXVncXT1bhrDVrARMI0FOpvMBsXVdjrL12aAYLCA5ZoX7qWxjSvt9A83kHWFcFm388TM9TprdHplEmlnTcd2kg5kYSjCMzIzYrDkuOOOazTQiROGpIE/m8FsacHNPGKdMzuOMoG1fflLBwS9K7PBfF7ykB+w5H1hTMIzHHzwwS3XxbXn6taWmS9+wIzOEuta436b/OzzDjM8aLD0QryFJuGjGOWbwKWzZPgTMLegDEaYEivvqc4666x4mEEa70GBxjEGawgef9LvPJ6o8A8DH5u1jcIMpaEXFFUoJc2loT83HH7bwCnfUZ4ykWeow9rW21xllVWaGvXUNzYg14pP2XzAUlqUiSn/9ddfv2FAyOCdH8SkHjYjgZtvvjngZpn7079W6Rvt51BCo6RC6KQddNBBcQDRBnU4tuOOOzbeNZ1VOskmNgjBQMzYTJlI3WZi4VKn8L0xI5mB+y233LIxe55rbcaP3Vd1i9tpGxRaaaWVwlprrRUHgRl4ZaazGaP6cOlImzIQQ8N11lkn5hvcRe+zzz6BYyZF3gzsvN9a+49nPjhri82flSvUsYRL/WqKen9Pt3/bcg3ERfvC0k/HnmezwZA///nPjaj9zDMU4gxicj08mf1vijDeLwMTJv4+DKN4bp8H7LpOtxjjWpsBI1vyJN85+Y6yyXsTqhoX75rZvPZc1Fnsm/jZwL6Nul22BIsZX6PwwJAP5QeCcZs3ErGwurVl6Q+E74l0l2Fe5l3hDc/KbEvrxRdfbD8HbDHowXsNBrMI3/JB2XKJlh7vSer8889v9KUmZIMRm266aaNOweiXfIahE2VQasSRRuyNyFFo8o2TFoyX8XCX9509OsUYnjyDAbd9F7QHll9++UYU1uZlBqbVqzwX36/lEcpF+kYYeFFvmYFJnbKoEXGNH/2SH2skvXFLnfLKL3Gz7rrrBsoeG+hFmW/9GD9LnQjrfDd1yvQ6ed0vsfW9rPyhDOY74rkoZ/guyKcsC5FKlTIsvbfdvg0qkw6WQjXjO+oRBkoxeuE7wCsD4suZKnVJu3QM9XmWRDNhiS3qdN4PZRdlQ9p2tWuLtp5TWndaXce9LPWFAQ5lEJx32GGHRvnqDWCsPidNfgkwBjRpc5n4AVY75rcnnXxyY6CBQUPa4Ah6DDMoRTdD25s8QL5AX2QDGrTFMFQyoZwk76Y6HDs/WFvKAutHwhJjEuM3Nmu7kret3qI/koo3RuQcbciy3miJ2yZjwZT349sv1IV5UrVMqPuO8uLuVft9vfXWCxjN0r7kj/xtg9O0Pyzv+++j03Kkm2HlsfLHLr300rhLewTvizwjQhnu9Q6Wn+rUFTHANv/Kcq7TziHqVn0/zjPQaZM82Kdc8GUPhpHWB+M87z71elY1/xNO1fqKe3oh3ayT63Comg+LGFRtNxeFw3sxb0nUd+RP6g7KXNo1VgaST36X9el7Ib0q09K01i3v03B6uV8nT/UiPXXa/1XS4XWG3GeGk2XCqNPPrNoOq1s3XX755fER+IYY96O84XcrXVOdd44+hL457XxrH5Vhp2tEQASGlsCYoY2+euw0CFFaMxjoCxv/20LFRa3NcKra+bYBDgurzjZPyUhjvozcdNNNsQHkn4vf1iEtE0an12AEccUVV0Qlv4Xl02PHsJw2V1R0Fpjl5Qf/ipS100+xniWcwX5eKrofZrOx/TuichwKOeqoo5oGUUiDKSgtPXSWDj/8cNvt+paGN7PyTYFNBLxrm7nT9QgV4KASuCBbVxvjMr7FkzMFHoo6OlJ8494rEJ0wLIIxXGOWHAMuKOtQiFmZyEB6NwRFNbMeyGNf+9rXotLnmUxp9p5MaYhShPxXVHZ0I/5ehsGaybCDGcYQKDmpuxj0M2VrHdZXZbNQWEua+gyDFVymw48/ws8rn/1zls0HpkxGoUw+4Y93YXmAMFPvFQysmyy++OKhaGCQfFVWMWrhjaYtimeM7uiwYaRgnqXS98v+TzLFuRfqYmZ7kg9s5jgDsHRUzznnnMbANQMGebN2CYs4OxGMqVhKxmbNMBBghjitwv1jNpMTxQ+y6qqrxr+86zHiLCsXXHBBYEYR9dos2czUvTMDh8EWZpEx8MzAGAMiKH3Td8lAMkapJrRbGUDgO+S7Y0Z/0ax+3jftJ4Q6nPKaePCCguEmilhvPGdxdLqlHtlj991jG4pZvp0YKadpwQsKfyknBjD4M4ER5Qz5hbYcRl8sG+jLQZYg2XPPPWNYdl+3t3h8wriD9jllP4pqW0ahKK6y7+r6SZMaM9Yx2LY+TVG41N3UrSk7OPBdmpBG2sEYO8CL74S/9L6LLrqoMSvJ7k2311xzTazDqYeom6jz2gkDppRztHWpL/hL48Yg2Q/S0wZmsJDBE8pHWKf30BexgYS6ZVG7tBed75f8WJS+MsfrlFcYYOF9D09CvBuMnSZOnNj0HbIsQNpmqPPd1CnT6+R1BhphwUQNyhbKXzM6tvKFZ/rFL36Ri7VsGZZ7c4uDDAyixMWoivKGsj39BqgDbACxbl3SIgl9cYr3w8xVFND03a1dXTdxrcpj8hxemyirqJP9QK2Pj7xP3uB9oH/iHspjjCwY1E/fEwOgZZYzpQ2H3ov4GezGMJeBAQZHMMAgTtrf/KVx4GnOhDLTlmXCIKfKYIeF0c0tbR4MK6g3aK/Qt0zTDx+/tIHFz+zQ5557LthsfW9MaNe02jJxaPes/ULewStMmfZLnTKh6jsqSnOv2u/kHQwuUk9lvAfaeCbdLEe6GZalr2jLt4uege8Qo07qoDSP0fcww5I6dUVR3P54Wc7cU7Wdwz2t+n6cRzBeNQ9UtK280FbCCIkyArk1q89TqZP/q9ZXaZzd3O9WnVyHQ9V8WPTcddrNRWFhIIyhOu0bvCnz578NfjPpzmbiF4VT93ivyrS89NQp7/PC6dWxOnmqF2mp0/6vkg4rD+weM8iy/VbbOv3Mqu2wunXTrzMdO4ZK6F7oA++VGf22kzrvHIN2JrnwR1tuqNtw7Z5R50VABN4hMPVwBIFyGtflNBhpEKSC1SSKOK9cpDFZRapcn16LkQKddy8MWKH8Nis4zqX3+X0GpFDk0Pj34q/xxzv5ncfQwmM2ISzNEtaOs0WBS4eZhowXrO9s5oI/jqIchaQJjTybbV/3eVulPWXlr2UAao9MCZ/3nrwVOGm1WSSW7nT7dpK3fDzptXn7PDsKapRHKPC8EBYNAGYdYHFukj6b7du26Do7nrfNe89peHn36Vj/E7C1fSdnrmrJU8wAxk1u3uAqDbq7M8MABEUYs0cZaOc7YBDXK/D8k1PGVRGMiBiINQtkBhbnzhQiNkOYxqifmWVhV/2+uK9uPjb3dxZ32S2GEBi4sCW98EOx5w2aCKsq6wOydZmtgY0CB+Uv74gyy7sbLkpn2XxA+Wh1D0peZtSbsQVlJrOW6WB4qcvYh6HfIc46p7NGR5G6wfI77xthnzqBNlDqipF1em3WiLG098byVaeddtqA+ozv+pRTTon1Ofd4o85279TSZnHZlnYObYO07mRGs5+Z6sMnDSjN0zDJb4cccogFnVtmpffYxYSP94W0rcj1zLSwJQCK7rdwbOvT639z3u+nbQIGTPxse/8uMcLiu04F7xfe+5Wdx6jVz/g0BamdR6Hhn8fisvPp1qfb/7brfFh2jC3l8+5ZfZC2oWjDlBlE8mH53+Rtyk3E0k4aqCdoW6aCETNtF+o2xO7hNwPBGFuk7Vd7zoG9B+76n3vmd/be+W/lIXt2v53neX399z+/MnZF/rbMu/L1rXl7yA/tHe9TDMTBy3PA6IaZ2On3SF2C0YNvl9t91L2nn3566XdJHk69cZAOU2DFNGf7JnyTpIm0WR6zuNmnLEu/C/IabWH6F+k9GKMw6MAAnpc6ZZG/P/1t8abHbb9OfrR724Vt19m27PV51/ljaX6uU14deeSRgUEF80Bp75K00j45NPMamZYVdb4b0lqnTK+T1+mD81z0dRGeiT/YUUbtkxk2+Rlx8aLsX9UyzO7zW/9O/G+uYaAYQzMrc4w1+3xX8PGer+rWJcTl8wn7qVQ575/D/7Ywq4TFPQySo4RP76M8M284FnaZbVF5TL6l7knbVsSLx1Let4l5ByDP7LTTTrGdkb4nrqWNnVefce4tV06yTzvQG2SaQRtlGwNipM8YWF7gO0QH5tvpePa0eqwsHwvXtqSnqhTdSx2D8QptILvG0g8zjP1atSUYKEe413vZ8emzfPa/mueds7H9kn1HaZkEn/POO6/xbdn9FmbVMqHqO7J40m2d9nsahu3bM5FHzjzzzMaz2nnaUhht2kQqO95JOWJh2LaTsCyvWFhsLV/z256P31xLeYjRjunXLI/xjeJJ0xuWcE+duoL7UrF0VOVMnqzazmnV97N0MZhqkmegZN8T11yZTejIk6r5nzCq1lcWb5X3bPcUbavUyfbeisLieFUOVfOhf3b/u067ueg5MEzeJWv/o1u2OOzboGxmyfW0DGjHxsIpitMfr1Om+fj9bwu3KP665b2F67d58frzGcy4W3Sd6QfS83XyVFO8BTt5TPyxNB1V2//+fv87LzlM8rO+Ov1F3/fMuz49VrWfWacdVqdu4rkxqn3kkUca3xJphzNjO6aD8Nw5X/WdW7uNcOw34UhEQAT6m8BUmeVv2g8Z1BSbe7dOIsVqGY8K5v6uXYHfSVxV7uXZcI9LoZh21MuGwyAdCnUGRmlo9crStEx6GHjDXSdpYmZSqrxNw2BQl1mdDKSilGp3PfcP5vPyLFT2DALhkhPFL7PpUGyQZhNmGKPwGCxhEHXBbBYvFbc3shis+FEY4Y6UuNPGw2ClQfGUI8B32CvBIINZpxhcoIBgoK9XwqAwM7VxBc43yQyu1PCpV3H3Q7hVWfNOmK1BeckgU6/KJ+ovygLio3ykHPfLMfWCnRnh9SLs4Rom9QHL01Ael+mgsnQGxksoGRh0ToUZl7QrUPrb4HZ6Tbf2qc8WWGCB2GbIM6BK46Es4Hqel4FVG+xKr6u6z7dCPU/Hl7ZU2vGtGl7d6zG6Io9TvvE+bTCmKDxmzTL7E0Fp6BXLRfdQnhAHil7an2x7KcQHW9pPlBPkV5SsCAODDGC0E1N6s240M69og/EMtM+8V4tW4XAP9QiMqK9MydHqnm6dI3/xnjCA47tKB3KK4mn3rnD9jvEegiEW33QqzIhkZg39DJQ+KE15BxzjG2qXxwiPe0g/7XyUrGXyWZoO9q3fQ/7mHZT9zqwfxyxLyqwy99FWpW8E7zLvumpZlPd8VY4NZX6sks5W11YtrwiL56Y8oNwhD7Qqw+t+N8RTt0yvk9d5JvqzlEfUH3nSjTIsL9xWx3g/Y7MlGCh727UN6tQlreLup3OUd5Q91JEYSjNoQPlA2YfXvrLSrjyGN7oD2k3k7bLCfdRN6HAo48qUyWXD5jryNOnCYJZ0FemcaF/NNttsPW/3VUm7XWt1AIaw3hDPzvdqa+0X3ksVnUuZMsGnuew78vfk/e5F+x0PEJQj6BTatdO7WY50M6w8VukxawNQTpRpM9SpK9I4/X4VznZflXZOu76fhdmNbdX8T5xV6qtupHEw6uQ6HKrmwyIWVmZWaTfnhWX5nDqUfmmv9QJpGnpRpqVx2H7d8t7uH4xtnTzVi3TxvVbRV7RLA+U9hjzkNyYV+YnR7e715+v2M6u0w+rWTdYvwbAE/Qt9WZas5zj9d/rxeVL2ndN+Q79Qt4+eF7eOicBwIeAnEwyXNJPOEWFwMZyAK639QYBKl5khVPq4fMT6HYUNrqkZZDRBuYbLZYkI9COBXhpc9OPzKk0jnwCdO4kIiEB/E0DRt80220QXzalRDzMKWWYEwTsJM1jbSaoYbXf9aDmP9w7aqwwOwDtPUoOLvGt0TAREoLcEVIb1lm8aOktIMTjMLEEvDN5gcEH/HiMUPE1IREAEREAERhcB1cmj633rafubAN65PvnJT8ZE4sVnuA6eppSZqIAHaJZIsSVe7ZqVVlqpscTu9ZlXrpPcUl12jbYiIALlCAzXMmNMucfTVSIwsggwIEAFiay33nrxL+8JmW0pEYF+JcAM1nazUfo17UqXCKQEyM8SERCB/ifAIBaGALiexj3xLdmaz3g1+9KXvhRn2vIEzMIoY2zR/087uCmkHMTwbOWVV24sQ1XGS8jgplKxiYAIiMDQEFhmmWXCkksuGSPHswNLezCbEM8qLFWIsQXCMjcSERABERABERABERCBwSWAXoAJrUsvvXTD2IJlNobrwGkevS233DJ62scIOFs5IC6Jiedh2qnLLrtsvAVPFxckSzHnhaVjIiACI4+ADC5G3jvVE5UgwLrYm2yySXTxVHT5FVdcEde3LDqv4yIw1ARwTymDi6F+C4q/WwTIzxIREIH+J3DMMcfE5SswXP3c5z4X/3yqcZl+6KGH+kP6XZLAbrvtFpdxsstxF3zNNdfYrrYiIAIiMKoJ3HDDDWGppZYK48aNi8vebbDBBgN4sDThjTfeOOC4DoiACIiACIiACIiACPSWAG2z5ZdfvhEJy8sfddRRjf2R8OO0005rLIWLBw/z4mHPhrHF2WefXbjUm12nrQiIwMgkIIOLkfle9VRtCLCECDMvN95441hJzjrrrPEOLC5ZC5cZm1LUtIGo00NOYLrppov5l/UWZXgx5K9DCahJgBndGFuQnyUiIAL9T4DlrHbYYYcwceLEMDZb+3uWWWaJibZ1S4899tjwyiuvlH4QDDSYlTySZr2UfvjkwrfeeiseYY3W++67Lxx33HHJFc271P2sSyx2zVy0JwKDSUBl2ODRRoF92GGHhRVXXDEst9xyYa655gqsuc07YGYhS4Wmrp0HL3WKSQREQAREYKgJqE4e6jeg+Ec7AevP0mZ78skn4xJwr7/++ojCgjdPPKdvuOGGYdFFFw1zzDFHnND72muvhaeffjr24RlbkoiACIxOAlNlrm/eHspHn2mmmYYyesX9/+ydCdx1U/XHT1JpRBkqpbd5JkVmXiQayBTNJEOkSCoaRKQ0ak5UhmggQ5IGlTkiKkNIoqRBA2lSqv/5Hu/v/tez33PuPefcc+9z7/P+1ufzPOfcc/bZe5/f2Xvttddae20jYASMgBEwAkbACBgBI2AEjMCsI7DYYotlD37wgwvlFEoqkxEwAkbACBgBI2AEjIARMAJGwAgYgWlBYNllly0WBTZZhDEt7+Z6GgEjMD4EpnVhkSNcjK+NuCQjYASMgBEwAkbACBgBI2AEjEApAqwI8mqYUmh80QgYASNgBIyAETACRsAIGAEjYAQmHIFbbrllwmvo6hkBI2AERofAYqPL2jkbASNgBIyAETACRsAIGAEjYASMgBEwAkbACBgBI2AEjIARMAJGwAgYASNgBIyAETACRmBuImCHi7n5Xf1WRsAIGAEjYASMgBEwAkbACBgBI2AEjIARMAJGwAgYASNgBIyAETACRsAIGAEjYASMwAgRsMPFCMF11kbACBgBI2AEjIARMAJGwAgYASNgBIyAETACRsAIGAEjYASMgBEwAkbACBgBI2AEjMDcRMAOF3Pzu/qtjIARMAJGwAgYASNgBIyAETACRsAIGAEjYASMgBEwAkbACBgBI2AEjIARMAJGwAgYgREiYIeLEYLrrI2AETACRsAIGAEjYASMgBEwAkbACBgBI2AEjIARMAJGwAgYASNgBIyAETACRsAIGIG5iYAdLubmd/VbGQEjYASMgBEwAkbACBgBI2AEjIARMAJGwAgYASNgBIyAETACRsAIGAEjYASMgBEwAiNEwA4XIwTXWRsBI2AEjIARMAJGwAgYASNgBIyAETACRsAIGAEjYASMgBEwAkbACBgBI2AEjIARMAJzEwE7XMzN7+q3MgJGwAgYASNgBIyAETACRsAIGAEjYASMgBEwAkbACBgBI2AEjIARMAJGwAgYASNgBEaIgB0uRgiuszYCRsAIGAEjYASMgBEwAkbACBgBI2AEjIARMAJGwAgYASNgBIyAETACRsAIGAEjYATmJgKLz/Zr3X777bNdBZdvBIyAETACRsAIGAEjYASMgBEwAkbACBgBI2AEjIARMAJGwAgYASNgBIyAETACRsAIGIFGCDjCRSO4nNgIGAEjYASMgBEwAkbACBgBI2AEjIARMAJGwAgYASNgBIyAETACRsAIGAEjYASMgBEwAllmhwu3AiNgBIyAETACRsAIGAEjYASMgBEwAkbACBgBI2AEjIARMAJGwAgYASNgBIyAETACRsAINETADhcNAXNyI2AEjIARMAJGwAgYASNgBIyAETACRsAIGAEjYASMgBEwAkbACBgBI2AEjIARMAJGwAjY4cJtwAgYASNgBIyAETACRsAIGAEjYASMgBEwAkbACBgBI2AEjIARMAJGwAgYASNgBIyAETACDRGww0VDwJzcCBgBI2AEjIARMAJGwAgYASNgBIyAETACRsAIGAEjYASMgBEwAkbACBgBI2AEjIARMAJ2uHAbMAJGwAgYASNgBIyAETACRsAIGAEjYASMgBEwAkbACBgBI2AEjIARMAJGwAgYASNgBIxAQwTscNEQMCc3AkbACBgBI2AEjIARMAJGwAgYASNgBIyAETACRsAIGAEjYASMgBEwAkbACBgBI2AEjIAdLtwGjIARMAJGwAgYASNgBIyAETACRsAIGAEjYASMgBEwAkbACBgBI2AEjIARMAJGwAgYASPQEAE7XDQEzMmNgBEwAkbACBgBI2AEjIARMAJGwAgYASNgBIyAETACRsAIGAEjYASMgBEwAkbACBgBI2CHC7cBI2AEjIARMAJGwAgYASNgBIyAETACRsAIGAEjYASMgBEwAkbACBgBI2AEjIARMAJGwAg0RMAOFw0Bc3IjYASMgBEwAkbACBgBI2AEjIARMAJGwAgYASNgBIyAETACRsAIGAEjYASMgBEwAkbACCxuCIyAETACRmB6Efj3v/+d3X777dk///nP6X0J13yRRmCJJZbI7n//+2f3uMc9Fmkc/PJGwAgYASNgBIyAETACRsAIGAEjYASMgBEwAkbACBgBI2AEjMD0IWCHiw6+GUaijTfeuJfT9ddfn1199dW935N+svLKK2crrLBCUc3//ve/2Te+8Y1Jr7LrZwSMQI4Azha33HKLsTACU40AzkL8Lbvssna6mKIvuemmm2aLLbZY9tOf/jT7xS9+UavmfOPVVlutSPvd737XjmK1UJu7iR72sIdlG2ywQcbxX//6VzGeIT//5Cc/cduYu5/dbxYQgIfCSx/3uMdlOB9efvnl2emnnx5S1D8dhr8+6lGPytZdd92iL956663ZV77yley3v/1t/cI7SPnMZz4zW2aZZbLf/e532Q9/+MMOcmyWxdJLL52tueaaxUPnnntu4czcLAenNgJGoC0Ca621VrbUUktlN910UyEDtM1nnM89+9nPzhZffPFGcnAX9XvMYx5TjBnoAb797W93kaXzMAJGwAgYASNgBIyAETACRqAjBOaMw8U973nPbJ111ske8YhHZMsvv3x24YUXZmeddVYtmJ71rGdly+YKHuh/+R9KJiYwdelBD3pQ9spXvrKX/Lrrrsv222+/3u+qExTM+++/fzG5RKn1pje9aWgF8/Of//zs/ve7X1WRM65fedVVxYR25513LjDTTSZu//nPf/RzIo6vfvWrs/nz52c4hHz5y1/OTjnllImoF5V45CMfma2x+uql9fn3nXdmV1xxRXbNNddk//sfrasbGkXb6aZmzmWcCBDZwmQE5goCtOcHPvCBc+V1Wr0HStTVVl11xrOMHL///e+zG264IcOhc1LoVa96VVGV888/PzvssMNqVQuD3otf/OIi7c9+9rOMP9P/I8D3B5/LLrss+9rXvvb/NxqeETFmp512yv7xj39kRxxxxMTJdLwOsifGipQ222yz4tKVV16ZHXDAAentWf89DdiOA6T11luvcJZBHv/xj388jiJrl7Hhhhtmyy+3XPb73CH1O9/5TuVzGPgeseKK2e1//etQ/a2ygAE3HvKQh2SHHnpodu9737uX8tGPfnRrh4u2/JU51kYbbdSrAyc/wuYThgAAQABJREFU+tGPxu5wsdtuu2X3y+ewf/rTn7Jdd911Rn2qfnTZH5/+9Kf35vN/+MMfsh/84AdVxc7564vSWDTnP2bNF+yyL9Usckay3XffPbvXve5VOFy8/vWvn3FvUn8gx0AXXHBB9qEPfWhs1dx2222zVVZZpdAt2eFibLC7ICNgBIyAETACRsAIGAEjUAuBqXe4YHK45557Zk996lOLlZZ6a4zbdRwuUK6kSh0mLn/84x+V1ciOL33pSzNW00Ao3bbaaqvs+OOPL34z4XzAAx5QnPOP+uBsMIjIE0/7OvTYfDUVqwgngfq9L/dQnt7tbnfL7n73u2fbbbfdRDlcoHTG0aWKqC/t8S+33ZZ9Ojd8dKHA69d2qurR7zrYsqpM5C0qhMRkHxelbUQwBmAUYOWlFFzj+jqUvfnmmxeOafAgiHEDo4DoyCOPnOG4xvVTTz014/q0E2PKqrkTwHK5AevGG28sVuDWGY+avvei1J6rsMEBNDV8xbR33HFHYUD83Oc+Fy/7fI4g8JrXvKZYYb7SSitlZ599dusV1ijjMSZDN+SOOpMWuYzIatHZgugWt+W8/b65sfU+97lPUW/k+9kiItfB63E+Th2wJx3bcWGGcQyMiIyw/fbbD10s0R2gLsaBl7/85YXh/q+5I0U/hwucmx784AcX33kYB6e2L7/vvvv2nC2YJ2Dk//nPf942u1bPwWvimIOTFrjdfPPNrfIb90Puj6NBfFEZi0aD3nTmOm19iehALLiCdyIbm0aHQJfj8+hq6ZyNgBEwAkbACBgBI2AEjMBkIFDPMj8ZdV2oFqwCOvDAAwtv+IVu1rjARG2vvfaqkXI0SdLV6fE3K0cJsyz65Cc/mRF+e65Sv/fFsMdkGqcACMX8tBF1XzIPk7nPPvtkRx11VPb1r399qFeIbYWM0t9NM8dh6e1vf3vvsUsvvTR797vf3fvtk+lGgJXOhJomTPWkOFk1RfThD3949tCHPrQw+jd9dpj0e++9d7b11lsvlAVGwehwwWpAjHSRiLg0SdS0HYD5xz/+8YwoTpHgyaw872fIIj3GrD322KN4FKdBnFZM9RFgrMPgi6yC4yHE8bnPfW7hAENUrL/97W/1M3TKiUeAfkIEqzvz6FjDfNtf//rXvXf95S9/2TuflBPasOhLX/pSduKJJ+pndtxxxxVGlN6FWTj5xCc+UUSfK3Pwm3RsxwUXhnlFIxi2zLXXXrs3H2OVMKuF5zohLyDTQH//+98Lh1IwHTc973nP6xVJ35ukCIK9ivU5cX/sA84QtxaVsWgIiObco9PWl97whjdkbEMEvfCFL5xz32NSXmhRHJ8nBXvXwwgYASNgBIyAETACRmA6EZhah4sll1wye9e73lWsrorQ4+GOEYxwzIOI1VkxjOug9F3fP/bYYwtDFqvDMIKOYnVVP+XduPfmbYsfqws/85nPZFtssUWx0hDcJpkwkMkpBIVqjDiC4wXbz9yShzm++OKLW7/GONpO68r5wYlD4GUve1nhDPDnP/95ah0uZgvULbfcsiiacYXtpn7xi18UxlD2GI5ElBtFv/jCF76QMUZNGjVpBygx3/e+9/X4F05v8GJ4Gg4Ag5xJeH8ikogiH9Q1H/sj8La3va1ob6QCdyJyseoUuYVoIzi9vPGNb+yfie9OFQIHH3xwhjPxr371q1pRzapejogWbAmATAzfnzQiqgAEXyES0KTRXe695bWadGzLa939VRylH/vYxxZb5g2buxyqySeeD5vvJD9PPxcR+a7ffE3pRnFUX8SR8qtf/eooihhpnu6Po4F3URmLRoPedObqvjSd323UtY5jcjwfdbnO3wgYASNgBIyAETACRsAITCsCU+twsf/++/eMW4BP+FNW4l5yySW1vsUjH/nIjK0gRkkYRVBGskd5mSKNqAQHHXTQyKqAIvsVr3hFZ/nzPhjZWHlJyFvyr0OEhQZvVk6wYqYNfetb38r4q0sqk3oOWiWKkfQJT3hC9pvf/GbGivW6ZaXpzj333KIt6vo666xT7KV+3/veV5eyjTfeuNLhAuXn8ssvXxja/vKXv/SeiSdN2w7Gusc//vHZ7373u8LZI+blcyNgBMoRYPUpzgUQzgfnnHNOecL8KmOQaBTbbSjvcR0x5uMkAZ9nxfHJJ59cGIC5Rrj2q6++um9V2JfeThZ9IWp0E2eXiy66qHAmPSz/HsvmDhfz5s0rxpKq/ZtRjBItAeeXa6+9tucI2KjghomJ9MKWAKlDUsNsijGQcZB6d7HFAGGnH5dvo0a0h6pxNa0jcgRG0WuuuWYhGQ6+AP7kSx3r9nm+B1FKrr/++koZatCWAsgS1AsnMOSqKlmsjlMtkY/gc9SnaaQs3oUIB8i4OJo2IWQSiJX96ZYddfIBd+RKcL/uuusqMUjzAnvJQshDbakOtuRN30NurpoHpOUj/6m/Vn3X9Jl+v9u0+7ptAuzpG4MIPgTmjJHD8oVBZY3ivvCg7nXmMHV5g7bOoc60j9ki9UXmqYP4GDyR9szWJ3X7AO+lOQiOZLfl2ys2oTp9qE5dmI/Db+Iq/jr16Lr9CsMmY7LHov5fapixKM25y7zSvONvjePw0LLtMOA7/CEPlN2PeXHO2IZcgHxTl8+W9cs6fYlxBb0JDuh15Ab1Id6DbQkH8Zn03br43XTsj/Iz36BMjzdsvdQGBslydcuBTyAXVbWpuvlMSjraJ20aWQgZtY6syHbMyOaMNXWcjduU0Q8ffdOqb9C0X2u86HrMZX7V1RwLPSoyHnrUMsylD78h396wzvyrDS/jm0wL9v3aj+8ZASNgBIyAETACcweBqXS4QNmz4oor9r4CEzjClg8yrPceyE/YN5fJ1CgIBfThhx+ePfCBD+xlz0TtsMMOy9iqQcTqsE033VQ/M7YNQVG366679q7pZLfddsv4Y/UB0R7GSauvvnrhMLBUviVGJJRmH/3oR7Mf//jH8XJxjtD71re+tZj4RaMbk2xWchGuGUzYr77O+7JiXPnEEM8YAlGOQLQD8iVyCcK6iHoSDQXFQKSHPOQhGUbF+J1wJvlqvtpyq7CFAHiDe1s677zzihXJu+yySy8LDD+RmKwQHv5pT3taz8DLfYwYP/zhD4u2EyeaZW2HLWd23HHH7DnPeU4va7YFYZX50ksv3bvGO9I+zzrrrEIJSgjhtC+wkvqEE07Ifp0rmPd6/et7z/pkehBgUp8SvCleJxJLlfKbfkGUA1bSs1L6iiuu6KskI28m1RhHpYB70pOelME/MHKeffbZhbNWWid+szcsbf+JT3xiYdCATw5SGMIrCXOKcglHu6uuuqos68bXyFdbaFAfEfwjYofhpSulYVOsUcDQRxkH+YbwCIyOZRTrrPuD2gHOiBg5oHe+850znN3gH5/73OeUVelx/vz5GdsUUTeMmmxNYuoGATB93/vfn733ve8tMiSySupwQRveb7/9spVWWmnGeMKYe/TRRy+0FQzbOxB5CXrLW96ykPHv9fkYsNZaaxXtfbvttivSxX8o33GwoS9qLGHs+v73v599+MMfjkkHnrOHOFFlNN7zADyFMYuxtA7Rfl/72tcWSRn799xzz8IxQM+C4RFHHFGMgbrG8ctf/nJRf8p5ylOeUmwpwXW2zvnUpz7FaYEnYzX9T+/KdRTmONCW8S0ME9tvv32hBI7vheEB3Ih4JUImefKTn1woll/ykpfocnHEURNnJ/isCEU0il3ky2gMpl1QJkR9U/nnxS96UbZZvsUPymYRfRunMmTRlITNSXmUn4fnfIf3V0Qf0uKABdaDnGNoD9pGgeeQFZE1IHAf1F5wSHjzm9/ck/t4DgxQ8r7nPe9Z6D25D4EF8qb2Ieca/PvCCy8s5EbkR+4dc8wxM74rcq/qh2zJt6rCljZFengxW2KwpVLEt18bQabj+wpT3gmDAbyd/sBv+kY/atvulWfTNnHUUUcV34+2RRuDYh3Ypg75foUVVuhhCubI0xpDmCcw9kdiq0f+aFNxq7uYZtTn8FC+yUYbbdT7JpQJX0OWOfLIIxcy/vBMHd4AX07fa+edd874Ax/xWDBirEZ+InR+SuqTOHl/5CMfSW8P/N2kLyLHUT/JBWQOFnx7ZITUGKm+wBzi9tzRBmMM/BJjrnjzoAputtlmtfpQVX8kf/ofPBVnC/Fr9XvkLngzfZq+nRJyFnPMfu03fSb9zXdbY401Cv3EF7/4xWIRROQJt916a3ZQHtWIsSCSvq3HotGNReAtnJuMa236JXxhtdVWK8ZHnoe3IDeJcEY75JBDCtmLqGWrrLLKjLGDNsp8njEhJeZojIlRL0Ybx0mAvhnH5EH9sl9folx4APNC+ID6E7oJcCzbimjNNdcsnoGPKT35wDc++MEPNnLa4jnRZz/72Yz+GUnjNPqik046qXerztjfS5yf8G7IvMxfY53BkbzrbgkLz2RLSsYFZCt4jIzRTWS5WLeqc8ZdxtrYprQwJ8p+yI7IOBDvoXFY+fK9qDPEIgPq2XZ8bloWukER48XrXve6hbYQpR987GMfK53vr7rqqoW+Kx2jkN9p9ym1KSPNY5T9elRj7rBzrPn5/J5Ii9D787koW5VG/TDzK7YJJFoW24iyJWt0LpWutmzbuCa8bFqwZ44Dr0JeYk4Hb470jne8o5hvcg25t6lDaMzL50bACBgBI2AEjMBkIbD4ZFWnXm222mqrGQmZWGEsQNl/93xi8/PcC/r0008vvKFnJFzwA2EzGtkxOEYBveyZJtcUnjU+w8QDAwhROM7KDd1QVLrwG0U8E7N+lD7TL20X91ZeeeVC0RcnncoXzAh5fsYZZ2RMfkUotlBwxYmf7vF+KJ9wOGByGI0PShOPet+Ii66RLj6PkwWT5JSoJ4YQDBUorSEmWgceeOAMRSrXyS86W+gax2EII0Z0uEAAj4ShYF7ukZ8SyneUG0yKmazLMzxiwDPCIcWcNpcSaZksYRT4/e9/P0OhsFDaYIxJ7/n3ZCNQpvzCcKMtMqg97Sk66HANxRh8ipXqkZgsYuSt2vqIiTdGdhSCKKXoi7GdopRDmRcjQVCWnotlcY5ini0wUkU+9zBk0YbFl+AlKBdRYkbHJNI2JSbEOLelhLI8EkaRMuNqTDPovCnWOILAC+QQEvPn+4BlGhK8TTtQZCScGJtEFqI+fPO35+MChLFCxqPigv91ggAK1JtvvrkwXGO8ph9obKMAFPNsVZYScggOeBj8+DYiGXn5Hc91X/04jsO6xxFDQkrkQ3QnFGgYVesQsl3ZPtwYwnGawLky7Ydl+aq+3Csrm3ES/oEcGBXz4ifUu4owYCA/pEReH/jABwq5Ijp/ybGzDFech3FaxQCJIhlS3VOswaXM4E6dMRricIGMIX4ZZQHJB6ozhvVUzuEe6TbccMOCj1MneIpI2GyRjyFp3UhDHVCAgk8/ukdeRhWV5RvTorRkDKIdR6Ju4I/zCobwlGfxDPODlCgPRyLaqGQlvWealt+6V4WtcGZFZjp+8jx1xClFjjBcg8qcDigLA5qMaCr7rifK/6vtKM80VVW7J12bNqH3jeXGc2Ts9JvyGwcvVkLieFHWL1Rv5a/f4zwenBvBmcukRH3pI3wXtRmlqcsbUkz0PMd4T9hETGNatYmq+zFt2XndvogDGI4DKk95UT/aOU7ptOFo2NO3W2GBQ7yeqXukr0gOic+U9aGq/kj9cNRLDbNgTL8X3bNinhO3RFPatP3qetVRzv/M+ZBPU1oyd9CCPxG1E8c5kbD2WPTUYnwcxVgE1sK5ybjWpl+qHSDLlM0vmAvAP1jFXqZDwnFaY0eU9RgLMYxHgybvRTuFf336058uHB4wckKD+mVVX+JZDPEY5FOC/7z0pS8txtgoV6YLQOJzjMfUG2Ot6hbvDzrXNyhLF+81GfvJi/dHluJ7pMS3Q9dIBIVBcigytngm3wvZRM4WTWW5tB7pb9pwmRMbfA/dEgZdRSTU9yePsnEjXiNtxDItN+aV3uN3vB/zVdp4LaalbdAX4lioZ+gHB+T6Rfil3ol7yOQ4KqXPUP9nP/vZRdvEmVzUpgw9G4+j6tejGnO7mGNFHrHPPvtEOIpz7qNvxWEkXVxGAjDDsQAnw+hc0JSXTQv2l19+eSFv0BaRHc8888wZmDF3gpi7RTxmJPIPI2AEjIARMAJGYCoR6G/dn9BXenLudR4Jg876669fKMBQ7uDpzSSD1TEpsdIfb1vRxRdf3Mk2EsovHuOkWNe1ilS/0yPOH3jRR+UCafCO5zqT8SbExL3sjwnjIMJgg0JRComq9BhsJTCSBiVVFMh5l2hkJQ1KsxflSv+u35e8ywjBHE99EcaWdCJZ9r2UfthjatSO35eVbvMSZ4vUA5r6M8HskmiL1IN2RfuKRPlclxEo3vP5dCCAMw3fjz+1bVYe6BrHaBjUW6FIkrGI/vmb3LBLO6G/wA9wmuhHODgxCUeZgvMDq2won9+RLzC5PjWPJoOTBkSo5xvycJOs0iY9fKtM6YVihohG1CnyQ4xcOF4MS9p2B3x4fxFlCTucQeI9pWl6bIo12MrZAmcIVr6CGTjzfVjllhop2rQDDJAQkUNQ2qLIOi6PhMOKWIwGqVIrvjd8aon82+KMkjp/xHQ+Hw4BHC5EhIUV8a3kbEH7YKzDUI/iWc5IGJvSVWt6vu2RdobDAU5SOBFoTEHhhvJwEFEnHKkgFNMo5FBMY2RQXltsscWMCAWD8tT9733ve8VqOWQTVoOLyD+VA3QPmQXDPe8ipyWwlLPFT37yk6KvIX/iYAbPol+QRgSPQ9FOGdynv2OYgI/yPMQ9HFf7ETKY5FbGZoyI5INRWOG/MQZgvBhErNiXswUKPpTx4ICDHPwNQqkdHURjnrwjUcaIgkEasJE8Ay+PSvT4nM53z/GhPJUFH+M3f9FYo/Q6ghMrYsEUOit3XN5hhx2K9gau4AtOGHmUhnS0K5TrEGWirKc/8F3lnMJ4hwyLzKO6sPIc4l11jTZeh6gHbZZ68U1YXSkZGMMYcxQRZasvgiNpUVbT7mMfV/omx7rtftg2UVUn2gpGZByeaV8xQs02C+ZhGFbAN0Y2weDFtdShoaqcrq/zTeRswXfDgY35Ct9GxkHSPOMZz+gV3YQ3EDGM9yNfEXmrnenaqI91+iLRHZij0KbhPThXgAXtWlt40ufLDC+qP+2a1axECcKZty7V7UNV+TEWydkCPoMDEH0L3qXvWPWsrg9qv0pX5wh+rC6HR+GcRvQPiH6yWz42VZHHol1KoRl2LIqZdplXzLfsnP5AP6Id0B80FjK3Yd6DnMYWfsjy8E3GIIhxbZNNNullSZ/EyZoxhfGPKB30Tdq4oqnyDOWUUZN+yZgpZwvqi3yGDMIYp77EWEtkMAh5RBFc6ce8J3WDl8hRnTTpfKWsnmXXcFqEX8aoCOKfinTRZOxXGchzmneyKAW+Bn5gC8YQRmuwryJkRBzQlIaxDZ4Pca0rWS6WT92Yb7EwB+cLIlJCBW8pWUAQn+13PhvjM2Mp9YZwymSsoR+gr4XAkOgXIjlh8AxtjT5BWyAfRX1jPJecxXNNy1BZ/Y5d9etRjbmjmmMRKQWdDHMJnAtEzP1olyw443vRj3Sfbxj5Er+H5WVd8NRRYH/iiScKkhl6aC7CL+VsRDQ7kxEwAkbACBgBIzC3EJhKh4v7JNEBJJjHT4PwxkQuDWWOAk/pMT6i2BsFodBhgspkjQmAiIkxYfCriBDcTJYRUCNJCRsFt3i/7BwMUCqX/eGQMoiYTEdjBHsMs/qbSfOVV14543EmLxDYRsx5d57BuM/EPBLK+S7fl7xRjoEfhgCMTZHkaY1inVWnIiYEKAP0vWgXwxDOJEy4+WOCg4IBzCKpbihDWAkhQiGHEpZJP0pqJnAiVsMS4rIJoahjAs63TMPOgwH5g1dU/JI/ygGuo6A0TScCRLLAQMmfeBBhHnWNYxqmmmvafuYruYKJlajb5IoLlBf/zI1zkPp6FSo4c9GOUTjNnz+/ULoRyh3FiQxcPIvhC4UbRIQcHKJop4SgpDwcCWL7LxIu+IcShbq94AUvyLbZZpveFiZS8MW0Tc/pJ8IIBYKIPqnrKMy0bYruNz22wRqjAQpG+iardjBQgxn4cg/id6Q27UAReGgLRNSgrvNypzBCtqIkIYIU/Cgl+BMrOOCps2UsS+s0V39Lac37aVstxmsiIkEo6enfGIn5HigrUZJzDg3qx0Wimv9wlmL1I9szoHxHfoljR7qivyzbqHiHd2ilD2ORourwfvTDJkQ4YbYaY0U9fIPQ+1LSo+iC16TEO6BARO7iXXBqQJ7CsReCjzE+c4TXESUDfgXhrITzF0R6Gf9JA09FvkCRz/MypDAWSy4tHkz+LbPMMj1ZjEg+rJAiH7Zzg4/qm6rc5PEZPyWLUG/agJzuaE/85ltCG2ywQc9YGTPAKYF2xBZmOMbgiBVXGsrZJz7TxTmR0RS2GOMtMhs8j28Frkfl21tAtBG+nYjQ7BiwwAvMkV3Bi++Kw58oGs91re2R/CmLeuGYh+MO5yI57fCbEO0iHJZIC8a0e/qU2ojS1D02affDtomqOrHnOs5EOBfRvjA8SQa4XxIOviqP2bhOmxGddtpphfESWYRvo3Ds3GdbHagNbygenIJ/zN80D2S+jBwHFrRrnMk0F4Tvlc1t1RdwpqJNRl7R7/X1XJ0+VJWPjNPwOqIKYISkb8G7cEyski+VX9ftl3kW7QnZkWggbNeo/s1iEY3jKp+jx6LxjEXjHNdwfqUf0Q5wHKQfRWIsO/744wteCd+MuhM5gpEeeVzO0T/96U+zL+Q6Fto070Jb07xPckssQ/2rbr9kvgUxliInIJ8xptI/ka9EzEUgxlPKJ/2xxx5bvCd1o//H943vozy6OrYZ++PYTAQOVuHzncA2GoulT0rryrwoRnbCCHz++ef3knUpy/UyzU9oL+CMMwzyKnWQQxdR8OR0Gp+Z1HOcjiB4H/gx1tAP6Dea56JnEzFGyWiNPHrRRRcVt5j74LgqYt4salqGnut37Kpfj2rMHcUcizEdHQELVZhL4KAjvgNW9Bl00My/6Ef0KVHUww7Dy8hvkrEn6qsW6KBHiXO9uBgvzhGEkY9GwAgYASNgBIzAdCMwlQ4XEqwFPZM4FM8oYVMFSgyzx6qyOOnAKYIJYz/CmMfelGV/++67b+mjKGlQ6EBM1mQsUOKmRnM9N+5jNKihsGICx+QZjOOEmXrhYQ6RDlwwtvFHGHCusQIqDaPGxLNrYnU1ygYMATFUOOVoFbCUpCqbtoPSA+J76by40OIfDhSsPOUPr3x+S2FJdig6jj766CJnQu5FYgWgVqagpNYqBaUpU2jqXtmRlbdMwGnnKHEoW6SVX/rtoxGQMRPnClYTi5hMH71g31ccKrSKSffTI0q82I/okzJQkpYJp9oyCnuUKpGYnOM4wJ73ZcRex1K8kBblJaSVSWXPTNq1NljzHeApjDGRUHCwmhmSs0S83/RcoTrhXRiTGFtRqmhVPm0gHQMoQ9eoS1rHpnVw+v4IqP2TSlEF4gouFI8poYBU2HKM13zbLuiyyy4rlKMxLxTrMiZJuRnvp+dy9EJJrBWfShMjpSDDIW8QrSL9S7eb43mNp8qLI2G2RWUKf1ZuR3xJG/fzVl9THhwxxooU8UvRe5CBkCFTQg7gXYmeo/dP0/CbNJJtcWiIRgGcSHBowRGqSiZVnnxvouRAfDMUoJGQD+TUS9roDKp0rMJKsYmRC1ghNgqS3EYd2TYkJVbZyZgfjSE4ZqDAZjxhrIiE45goKvB1re0R+VOOLMojyr9R9pXSGUy1glPP8M1xzmlDddt9F22iqn5lCmTxnygTVz0/W9dlWKN8jPaxbdDP6Wv8IVNDbXhD8eAU/NOcGV6Bg3xK9C8RDuYp0RfklJHe6/e7SR8qywc5SOMi8yjxBqWFFyjqjK6lxzrtt+5YBN/SKvdYTiyjTK72WJQVcsqox6JxjWu0g5Q3o3dQ+2SuHmUJ2gpzKZ6D4tgRnQQ///nPF/fjP+kP4LVy/NT9Jv2S5zWvwFFRdVFezA9YkIOcwlwPwsmAcZc/xuZIOATofUc5Z2sz9vMtRMiX4iFcY94p3n/ttdcqWe/Iu+DoorENmU9zUyXqSpZTfhz5HorCFq9/+YQTej/rRJnrJZ7lE0WlYB4qRx9ViSiWfIO4PRPRpiDkpbStYewWn5eekrRNy+CZftRlvx7VmKs5Rp05Vr93jfdSmZV7UWYlqlUk+r3mhbHvD8PLpgF7OV2h+8KZXaQ5IvIVTkUmI2AEjIARMAJGYG4hsPg0vk40EqDIZl8+GXcwOLA6UqRoCwjuTJ5EpI9KYl1PjzwXy4v3ZZSK1zinTpGYyLNCWFTH+KC0IzsumLxX5Y9QGLcd+WNuEMDbXITQzCRGAjMTTLBmcgO2nDMhYsUl2whEj17lUYWr7rc5RkVAnDiTlybB6SqiMuNJm7LrPEPbwMgiBWRcScfzKDMi4am/8sor9y5FQ0vvYp+TiAeKHCakclgaBf59quJbU4CAJuRX5aulUkIxrC07aIdS5qXpcMoqU/7EdChI1P5ktIj3B52zkj6S+rradrw3qefDYE10C1ZGsLoNHgyW2q6Fc3CIq0yGwQB+JQM1hk4cZ4hiAY9HCS4nDFa9YZji+5PGNFoEohzxl7/8pSiMVUKiMkUY9xh75BAwb968YqWtnun6iGIdx44qWUnloWCUjPDgPNpDXEWuNDqypQ5yBdsgpIRckjpapmn4zWoj2inK9GjAKEuraxFbyo5KM6XRUXKnFKdEjUjlQtIig9aRQ0mLLIBBEzkGZ04MG0S7wDiDwaMOPfGJT+zx3Sr+TfQPrYSDT0tR2C9/rd4ijb5jv/Rt7smJgvdOHUWUH0ZUHFLKnEnhmURPoj3y3UdVT9UlPVJv5DH4cyxbfSN1Bkmf7+J3WbsfVZuoqq+MH1X3J+E6zmI4ezKe8ccWPmwxg1yE81c0KFDfNrxhEt6zTh20hZmi8qXPYEAUL41jUpqui99Vfags7xjtR04+ZemaXkvb77BjEcZ3GQ81bgyqU5v25rFoEKoL3x/HuKZS0a/gFBH1LLrHvL1s7IjOokTSTCk6CzAuSu+Qphv0O+ogcKwoI/RwZYQzGg6hOBYyR5EepiztqK41GfuJQMP8hjkU+hkcl3F0x9lM0Wmq6hmdguCX2tokTd+FLJfmWfY7Og6meq+y9JNyjchjRCSCiI5LZArwJJoCf2kfkSMFclWZPkEylo7k27QMnmlDbfr1KMbcpnOsNu+qZ+RQwW/kg5SYpylane6NgpdNCva8I/ozOQ8RBYh2TJ+UI1yZM6uw8dEIGAEjYASMgBGYXgSm0uFCE09gvz03NMjZgt+sIMHQJMMbR4RwVgXHySeGKpRokFb8FT/yf4fm223cmU9wcdCIBmvd17HfPaXhGIVPfqflcW0URP2kOE/zR0HWjwhBKIMo6f6xYNVCfIaQktEBAAMiDhdMVjVZiukn5TwV9GWsGlX9aI9/y51TfporcfH2jqtDwTmSvO51jYl53Etdwrnu+2gEukSALY+gskky7Va8F0NtFVUZw2L6uNomXQkc05WdlzkSSAETeVbZs5N0rS3WTNwHGTbYqiU1DDR5dzDWeMk2NJGIXgKPh3BwxOECZarC0hM+dFDkqJifz9shECMJMO5CK664Yi+zOM70LuYnsW8TxYrQ5qMibU+BDMZfmdMBZUd+gEK+3zjHPSJ1lK0G4npdkpFQKzcHPSeDFemi4rbsOcl4clodpi8qf/odRnm2UUKupY+DG39EciNiW+qwqWd1lKMNv4mqUUYRw0F8puz5UV2Tg5p4fVk5MpBFow5jAtvIxHdhHNM4orlCWX7juEa/gNRXRl1m2u6nuU2MEiu24iNiDEY0vtGSuaPOmmuuWfzRzg444IAeD2rDG0ZZ967yps+pfapvleVNn0ReEN8rSzPua3Gel87Bu6zLsGNRHI9jJJV+dWzT3jwW9UN0Ou/J0Ezt+8lM3I9p+d2EolyJE21dIqpUXGzEc3IeGce422bs5/1e97rXZW/NHUgemkfrIg9kB7Zm5A99I5FU+8khvCeY4ahCBNWUupDl0jzLfse5eF3H4rJ8xn2NCMGMN+gRGVNoKzgM8YdzGoukFDkB+V3yHt+qXz/QWMb7NCljnO8/qjG36RxrnO9MWZE/9fuGadou6zkq7KkjemZ4C7yEdkxbfN7znter/qBFSr2EPjECRsAIGAEjYASmCoGpdLhgooOyGXpALowjZEfnB4zbKMdEKMfjaheuKzKD0sRjfBZj0xlnnBFv987rKkhT4bEL5XuvEgNOWBHUhvDoj6TV0/Fa+l4YQMA6RhIhPRNUVlNiFGIV9GwToTQjsQKjarVnTFf3nPCfMcxuv+dYRTcvGK+lFNMzMjLodz+lp9L4aATaIiA+Ck/tR0pXlqbK0BvTxuelLIn3F4VzYdAEa5yvZDhkZfzJJ59crPxhTFxnnXWyN73pTQV0w2LKuIEBBX6T8hx4FnWn3lL8s9pfyixWJPEnkhEG3sb2WuSHItY0HALa8gsFtpwGMaIrEgBjdpnjy3ILtv+i9HSl9nA1WvhpOTPQXqqcLXgqjsms+C1TUit33hGZAifaYUgORXXluMjXiMAB7lWkFdWs5EImSmWlqucGXWcvd/6e+cxnFlsyoUSVQhqnC5y40hDWMU+cZEWprKHr4i/8LnNqUbpxH8EfLPsZamRklTMFdUTm1DuxOveII47oORnBs1KHsnG/F+0Ifs27jYPSdj/NbaIfXuqf/doLzwt3jcfKk+fZ/x28iGjD9n/wVvgqfe4DH/hAttdeexVOUG14g8qZ5CN8WWN9vzmz5uNVW8DNxjtGxzE5t46iHsOORdrqkrrFcbBfXdu0N49F/RCdznvI/cgWjHfHHnts35dgC7G2FPVB0TDaLz9Wb+McCiHzEyWP6Fkitijsx1OUbphj27EfJ6i9cvkSvkZ0DOZWOFAwTmMsxbmVbS3KiEgMclB585vfXESFjI4PemZYWU759Dtq7kWaurylX37jvEdk4J122qkwxD//+c/P2HICXonMxniMboztW+Broltyh+uvhW3idF3HdA5Stww9P47jqMbc+P3rzLHG8a6xjHHxslhmej4q7FXON7/5zSLaD20YnYkiVSE3RcdLpffRCBgBI2AEjIARmH4EptLhAqFI+x5j9CHsn/bEZPIZHSYQxvUnZWyTz4bSLQqqdZ6V4Ulp020jmqwQUB6DjHJK19WRVXBM4qWsZJLNZFNKTOoTozMwkUFoXGONNWZExmDyyaRTVNfhYpTve1Pu+IHBQsRErmx/dd0f5fGGfHWx9iannLXXXnvG3t9M9COB5zholPiPo/4uoxyBQd8V4yOGuDKlmrauIOdhV8VHByeMhoNWZpe/Tf2r7I2tsM08RVQGFH6jIhlvZMwpK6cN1uyHDOHUFbfO4prCkHI+iAa1A5wCCctfZajQ82XG6tRJTHXhGe6NWsmq8ubyceutt+4Z8Ql/L6Jfsu0EhNxBhKSUHv+EJxSXGMtlUI+KSKJ/xTzT55v8ljEJZVo/+mnYwgjnkXQf5n7PtrlH25bhOY0qVZUf23dIbsB5lGhqgwglGnKneKf4gp6jz2LIhc4888xSBxnu8U0wYPDNcEbBcCHjxXrrrVdEuCDdppts0tfhIuIM3033iiePuJeyyuD6bBMGVFaA48SDIaTMmViOFVHGVjh0jJRVYc9n893oG/DZB+fGhFFTWbuf5jbRDy/6HgYnxmDmZJHHxee0/Ux0hMeoRr+FF+GUhhOTHJne+MY3FnyAPNnW67Of/WyxtU9T3hDrMOi8ahwe9FwX92mf9LeqkPTwMM0T5WjWRbnD5nHDDTf0sojhynsXJ+REe7hTHY3Hg6rmsWgQQuO5P5v9kjeUfAEvwpgn/UzXbx/7NYuXmH+khO6H8RkdBfM75luaJ+y5554zInumz47qd5uxn4hG8DMcEXE0YQsp/hhHiJTFOzJmsN1a6rAMz2F8QM81f/78QsY86J3vLJw39I5dyXLKr9+Rea9IUfCiM2rVXE3PDHtsUxY6XLY5g2h3tHHm6vwxn/jwhz9c6CL1bRnXGaOKuXY+x6wzd2haxrA4NH1+FGNulPPGMcdq+s7j4mWD6jUK7FUmPJrtceDXm+VORLJJjFr/pfJ9NAJGwAgYASNgBMaPwF2xbMdf7lAlXnLJJTOe32GHHXrKc0IBRpKBmn3ov/CFL5T+pSt4WYU7aLVALCM9Z9WvPFcxXL7whS+ckeTaa6+d8bvsR6ocjEqZsvSjuHbzzTf3ssXZIiqr9957756SjUQyWkjhrQfjClv28YykyTjXxvm+lyWGknl5hAlC40N8r3XXXbc4H8e/i5O2jOe+QjzTjvDsj3TxxRfHn52dp/izQiN+n84KckazgoC2EJIio6oSWqEYw08q7XbbbafTQhHS+9HihFWBMj7GaAgtsqr1CFsfYRDR3+abb17rubaJFHFAfbksnzZYy7ARV5wp701yY+sgqtsOLrzwwiIrjNLpO0SDrMYy9iNltVHZn8aGf+bOj9x/Z66ANLVHAKc8yRT0IaItiKJsVLadGAZIIjpBf/rjH/VYEX1KP8g/EsqhQQYrlJ9pFCyekUIprjaOeeucviDlLOOvImPoPkcU4Wl46ni/6vzRufE0pYhNNCak6eLv6GCxy847x1u9c+onWYKLclxBftpss8166XSCMyr8DxmWNFXEStH99tsve9vb3lasuIzpUNYJu2VC9JKYRufwJRSKEI4eWpmu+xy32mqr4icyQdV+7TH9uM61Qhe5pGzMwMCBIh2KhhC1pTLnt+223bZX/VTe+d+CO/2+S+/hIU4UYQJH8XTcpWwMO22obruflDYheYB3LftWTTFAxoD4rnFbvpgP/VVjqgxS3MdASH875JBDFnI+Peqoo3pZKHJiG97Qy6TPiVZGw7fTvpo6Y/fJZqhbwgVDo4xcMcOdAy+M409MMxvnOGSJ1yGzpOMTc9VxOn/SDhURLOKxZd4GRTgC16E27c1jUR1k66WZhH5JTfVNkdHSyKLcF+9r4ozNcylF+YxxNiX44Bve8IZiXMYJDYrOKPCOSDgCaFym7l1ROlarjLLxpGrsR88F7z/00ENnVAteEg2jZXNp6cyIcEq0BWiF3FE2yitdyXKxcnznuD2B7r1wm210ml1++eXFOQvQpO+JWwIroRyA9VvHNuNzm7KI3Af+/KFnjMS8VzpdvrWcJTUfRn8X56d6FseSXXfdtReFsU0Zymscx1GMubEPdz3H6gKTcfGyQXUdBfYqE/0LzpIQfEGEQ5fJCBgBI2AEjIARmJsIdDfTGSM+OEMgyIuIdnHccccVoZbl6KB78nYmdNxJJ51U+ifDl57B4WIYAYjJD4p0QgZ+4hOf6Cn0yJ9JG3sHDiIJfUqHEYTQx3jPj4sOO+ywnlGUMjF4UAf+WM0QCc9/KFUYoSzm2/CXOg9ohSnPjfN9EezZC13EhJ/V4vpeUtrr/iiPGAaiwYdJ5EEHHVQ4Br33ve+d0XZY/UQ7HgWlEQtQ0PCdtU/mKMp0nuND4LZbby0Kw3GrTMmimuCUBqGcjhEUHv7wh2cve9nLins4qF111VXFedt/KHzYhxUiTDehuSOxmpL+GEOixvuTfi5jD4rG6KgS690G6zsWbBG16aab9pwMyRNHw6oVqLHMuu3gyCOP7D22zz779BRVKDDf/va3F/dQwJ177rnFOQovxs2yPymn7/jXv4r7dca/XuGL+An9DiMNhi6im+CwQl+RYvn0PHyu2hpQMUZoDGYl3cEHH9xTbKMU/+hHP9pzpPtizt9F0bDOOM9YzfjM+fve976e44TSp0cMV4TYJz3yD3JYdKypE03mK1/5SpEt74bCWnwKpeo2ueIYZwO2oomRatJ6lP3eKo8GgmEVnkbdcFaR0YAVoSq37Nl4DZyF07I5tozP4k8Y75DNqB98U4ZJ5B45OXGP8NQQ4ysKYBngkH+iTBvL5Zx+JcJZZMMNNyzaANigzC8zGit9evz85z9fXAJnQmOLbxDZiG8oJbacrtLnZ+s38rtC6fP+OPDyDnzTZz3rWcV+39QN55MTTzyxV005fIERSnzel7bFljS0DRH9JZIcIWjbRDygnFEQW5yI4K1rrrlmURaObrQxOS0pTd1jk3Y/CW0iRr3i+8J/IuY4AjGfUpSnQTggP8gRCUdmvrcMf7R1HAWUF/JIlHW///3vF9lTPnwHvgYx14xGIG191IY3FBkO+CcDHsmoB22Xd4CfpYsLBmTV+nacB9J/FEEJfrrbbrv1DFz0M409rQvr+EHN/zWmwG85p4/RtzgfJ+HAo4iGONDQ3xlLIMbuuhEu2rQ3j0XdfelJ6Je8Dd9UTkXINLvvvnvPsYjxA73MxhtvnH3sYx8b2onttNNOKwCk3X7oQx8qIiFyAX4AXxBp7I06hX333bdo94yxyEG0e/H2YZ2e4sr9LbfcsqiG8m4z9t94441FHsx14PWSj8ATLEVyANXv9PjWnF9r/Hnuc5/bG0O6lOVimchD2+YOpIxt/IG5jLpE/IrfQ5EJkfUYBznCG9mWTpGaYt6cDxqf0/T63bQs9HOSmdFXEM2P+sGr0YPOyxdIQWCruSXtW4QcjpxNG+AZ2if3kRGRb6E2ZSj/cRxHNeZqrgMuXc6xusBknLysX31Hhb3KFB/Vb/qm2rGu0YZps6meXfd9NAJGwAgYASNgBKYHgancUgRDD0IR+9VLYSLhOkJPVIsLLrggXhrrueoWCz3++OPjz8pz6o1iPXr/cz7s5LSywJIbGAHOOOOMjMmiKNZH1wgvKe9kFEF4oGsPS9KkK4v0XFyxNe73ZbJx4IEH9toPdSr7XqrrKI9MAgmTGB09ZEBRuUQKSVdc6F4XRwwZGGPjdjz0qbhKpYtynMfsIHDSyScXYU7pi4TARqGBwgKjUow8gzKI1aAYBOn3KPEItb3MMsv0eBFG2y4IxyImlLQxjKCs/PnjH/6Q3Tc3cKFgof1V8Y4uyh9lHoxPYAe/xDCyxx57FM5rV155Zc8w2Abr7+W8lhVkGHpxWEGhCH78MS6CWT+q2w5uzXkBq7nYroCVXDhJsLUWxh7xJoz9qbNiv7J9rzkCKEDLiG/NNlhSbsc0tD2UNbQJDMusyMagGMfuE044YcZqPYz9tE1W2PN94QmRL8T8q85xOpAzTkyDk0JU1sZ78Zx3wRCG7ICyG2eRtN4opqh7U0LJz1/aR8hLyt06eTIGIzuwYhIFNY5JaR2RhWSIxaGDNKw+BX+U2+xLHfspK7ExYPQjHETZ3gNlOGVj6CTPmA9lvec97+mXTXGPrRHo10QgQZ6k7PQd+GaD6jSwoBEkoE4Yd5DVcAriL35TzpHrtOKRKhABhrkChLFTBs/iQvin7W90CbmW/gDGkr0wekcHWaUd5oghhBXrREbhvaJBf5h8ebZuu5+ENoEjJ/2bsR++xVwJAzSOEhDGJPDB2QBnRb51PyIvHIoYe/mGGF74i+2F5/mNsj9G4Tn11FOLPsKKWbZOhK+lzzH2xq0Im/KGfnXXPXiHnOTAZDb6JLiccsopGcZM8Od74PQXeQ/jByvcB30Tvde4jjjdYGijTeG4hJPFbJKcvtK2BP89/PDDG1WtaXvzWNQI3r6JJ6FfUkG+KfyBMQP5YoMNNij+0vEcZ0U5ZvR9sT434blE1YEn4oTwmc98ZiGeyJxEhn3Sr7/++oU8iaNFdMqIxSDPwEva8g6i60lWxbmdP7ZKw5GxzdjPc8xN6avIo/yl/ZWFMoOco5gvwa+1SAoHCJyFu5TlIo5gyDxa0e90j7aAzBoJuVdRN3BOkCNwTJOeDxqf0/T63aYsHEB3yKO+8U4vetGLir/0GzBGi2hzfHPegzFKcjb3NU7RV2izoqZl6LlxHEc15o5yjjUsLuPkZf3qOirsVSbOvOjepEeBf0ViXimnpx133DGbNMf3WFefGwEjYASMgBEwAoMRmMoIF7zWpZdeWhgQWWkQJ2qca8+/6EneD4r4POmYoDShND3Ky3SbEgQsjOpacUP+abnxN5M1JgcIoZHSsuK99Dzml96Lv/ulY2Uqq2rj/sZ6FiUbE8p0ModSumylE4aIqNRkYqTw5k3eN9Y3nqteOvbDDqU5K7fLvpNWRSifuC2KrsVj+k361Sk+p3PenYk4KybK6owhjPtxX/K0DP1O65L+Vpllx3fnxhqtINV95avfPk4nAhgv+GO1Cd+U1aM4+KA8SwnDxlV5m4Mw2qIsQ5mHYXL//fcvnLDSZ/gNj2tC9CvC7GubHJwrHpIbN1idg5IEx60yvtOmTTbpB/EdBvX9mDaew0PYx5cj9QU/+B3vFqkp1qyQVJQbMMIRhm+E40Pc8imWEc+btAMUpF/LV7WpvdAOUBLwG0MT44KpewSq2ipjA/3hvPPOK9pWmbMFtcHQiFGfMVh50f4g+ujJufNVNBQWN/J/GOvlOKlrHGnDg0LFY5D7dW4cjUQ7QbmUtkvVibTxnN8Y7chLvCTWGyU3Kzi1XQ/p6xCKWBkbpHwlfxTrWvGV5pPWS/eRFxiLy7ClDIz0qdMJzkpgoOgyqgNl3HDDDcU7ReV9VdlEGsGIgYMGpHw45xvBG6I8E/OJ56SnPrx7ijPfjHdDhquiNC/SxWvxvCqP4npeFkSZdQlHFpyQkIX0nHCg3eO8mrZhxheMmaljDb8xyCuySOrMTPSe1KFMZcV3jOeqk45V7xWfIc273vWu7Mwzz5yBI9eRlxVVhd9NqGm7b9Mm9J7RzS/KsOl7Uv+ya3oveJry5Jr6P+eaO9DGYxruVRFOgxgj4U16Rt+Q3+SJISyNaEibYPxmrFUf0XOUxTdJ+3kb3hCxUv3iu+A4xLxRddA9MGSlpJ6PmFad69nS44C+iNzAeK/VyhELnHaZS1XNHcreq7QOCy4qvY5VaaveM72OYxoLAWJ+nDPfknwZOZAwpdyYl+pRdk33+h0pk7GN5yN+4IaslfIt5VVVXpv25rFIqC58LMM5Xovnw/bLhUv//yuxnP+/+v/jZGyf3L/ooouKLZDEH7kmvkn7Rs6JTqrqBzqSPlIsP56THvnr7LPP7vEdtWP4JQuciEAkon3CI9MxlDwxMqLXEK2wwgo67fXTOKb0bpacUDbOqGXUZuxHzoRnMGbo/fWe/EYu6CcfxXpQL0VyZM6tMaOpLBfzjOeqH7In+sJ0nIBfM66nvAU9JH9pGyAf5gei9H6/8VnPpMc2ZfEMEfLiWK9vQB2JcowzXSTaObhKniM9f2CEThgeGx2/25QRy9O5voF+Vx2r0gnjtF+PasztYo4V3yWtN+8f75fhoXdO7zXlZYPKUf5V6VSP9B1Ghb3qo/5I+SxqjIRDlurTVvaP+fncCBgBI2AEjIARmF0E7pavMI66htmtzRCls3UFCtOoCB8iu04exbiGQwFCEwrxNoSRDo9XjF3s/RZX7rXJb5hnmDCyyoo6EcZxkDESAyqrKFnBwERnUHrqNs73JUQkEzEmpYQMRnGI4YPVbnFlPSv+cYoYF2EEpz3jtR+dLMZVPsoP9rikbOqgScm4ync59RGIoW3rP1UvJQ4ZbA0A78HwgHFwVISCkP7I3r5/yKNcsOI3VdSNquxJyLcp1nyTVVZZpeCX559//gxD6yjeh3GMb4OjGorSVLHXZZmsKDZ1hwCrEYkagQMTY9wgfs54TV8kHYqhOuO2asv4TVQAnpFSSfeaHoniwjhIpK1oTKiTD1sIoDSHUMKi+JY8Bh/ralxlrCSyB++aGhzL6okMRcSYYfHhGxFuGecL5EIpmcvKHHQNnOnf8FsMk6ljwqDnZ+s+ynTkUb4rcgqy3CBiSwjkaWTyOunJD1mI70wZcSu6QWW1vU+b553gsxgXDsudmgkNDs998Ytf3Dfbrtr9bLYJxkJ4CG0b45ccjHhxopAMMweCF/I9keeZwwzihQIbPKgTfIiQ83X6SFPeoLKqjmq79NGu+FdVWf2uw3uQBcAA3lOH7/XLb1z3GJvgmfDKa6+9tvj2GO24Tt9WFJyu64PBE1mNtoaDLcS3pB3Sx3EU64KatjePRV2gfte3ZEyZ7X7J22hMxDEa/ibDXTdvOjMX5iBstXX55ZcP5AHwT+lbwGkURFRG5AHGB/pzamQV/2wy9lNPyc/w/XSBVxfv0aUsR33QH7F9YB3ewrybtEQuZJvQOryo3/jcD482ZZGf2jRRihhv6ugFwBTdo2SIfvVqW8agPLu8P6oxl37Zdo7V5fuV5aXvPg5eVla+ro0CexzA6XPMyXGASYm+Aj+rO0dJn/dvI2AEjIARMAJGYHIQmDMOF5MDqWsyDQgw0WDPZoR6QguyaoOJJ/tFohgQoZxjaxeTEZhEBEbpcDGJ7+s6zX0E7HAx97/xqN+wzPA86jKdvxFoiwDbNGg1cswDIxERDpBTb8mN/bvnURf6kdt9P3R8b1FDAKcCIjcRzSfdXpQt8xRWn8hEaaTGrrAqc7joKm/nYwSMgBEwAkbACEwHAvPzrWaJngYRlYVIdCYjYASMgBEwAkZg7iKw+Nx9Nb+ZEahGgK0RtIdev/3qWT1uMgKTisASSywxYwXopNbT9TICdRCgPZuMgBEwAosKAuutt1621lprFa/LCl3C/rMKl9X422yzTeFswc3j8+1kTEbACNRHAEcmojtxXHfddYvtAG699dZs/fXXzzbYYIMiI1bCs1WTyQgYASNgBIyAETACXSNAFKTVV189e8ELXlBkjYP1t7/97a6LcX5GwAgYASNgBIzAhCFgh4sJ+yCuzngQOPXUU4v9SAknW0Xf+MY3in0xq+77uhGYbQQIsxlDbs92fVy+ERgGAdqzyQgYASOwqCDAnvDrrLNOse0A2wxo1X18/0suuSQ777zz4iWfGwEjMAABQnez7QHhudkej79IbPNxzDHH1ApTH5/zuREwAkbACBgBI2AEBiHAlo0HHnjgjGSHHnpo7S3tZjzoH0bACBgBI2AEjMBUIWCHi6n6XK5sVwicc845xd6ju+yyS6GQW2qppYqVhH+57bbspnyf+zPPPNMK7q7Adj4jQ4CQyezZyt6rdrwYGczOeMQIENkCZwvas8kIDIvA3//+997+5ZybjMCkIoDR95BDDsk23XTTbMMNN8zYUol9o++8887sz3/+c7HlXbodQtW7uN1XIePriyICt+Xzud122y3baaediogxyy23XIaT/R133JH95je/Kbbruemmm0YKDXX4z3/+0xuPRlqYMzcCRsAIGAEjYAQmBgGiaImIsHXKKadkV199tS75aASMgBEwAkbACMxhBO62xhpr/G8Ov59fzQgYASNgBIyAETACRsAIGAEjYASMgBEwAkbACBgBI2AEjIARMAIjRWDJJZfMFltsscKJeqQFOXMjYASMgBEwAkZgohBwhIuJ+hyujBEwAkbACBgBI2AEjIARMAJGwAgYASNgBIyAETACRsAIGAEjMG0IEOnKZASMgBEwAkbACCx6CCy26L2y39gIGAEjYASMgBEwAkbACBgBI2AEjIARMAJGwAgYASNgBIyAETACRsAIGAEjYASMgBEwAsMhYIeL4fDz00bACBgBI2AEjIARMAJGwAgYASNgBIyAETACRsAIGAEjYASMgBEwAkbACBgBI2AEjMAiiIAdLhbBj+5XNgJGwAgYASNgBIyAETACRsAIGAEjYASMgBEwAkbACBgBI2AEjIARMAJGwAgYASNgBIZDwA4Xw+Hnp42AETACRsAIGAEjYASMgBEwAkbACBgBI2AEjIARMAJGwAgYASNgBIyAETACRsAIGIFFEAE7XCyCH92vbASMgBEwAkbACBgBI2AEjAbYTisAAEAASURBVIARMAJGwAgYASNgBIyAETACRsAIGAEjYASMgBEwAkbACAyHgB0uhsPPTxsBI2AEjIARMAJGwAgYASNgBIyAETACRsAIGAEjYASMgBEwAkbACBgBI2AEjIARMAKLIAJ2uFgEP7pf2QgYASNgBIyAETACRsAIGAEjYASMgBEwAkbACBgBI2AEjIARMAJGwAgYASNgBIyAERgOATtcDIefnzYCRsAIGAEjYASMgBEwAkbACBgBI2AEjIARMAJGwAgYASNgBIyAETACRsAIGAEjYAQWQQTscLEIfnS/shEwAkbACBgBI2AEjIARMAJGwAgYASNgBIyAETACRsAIGAEjYASMgBEwAkbACBgBIzAcAosP9/jwT9///vcfPhPnYASMgBEwAkbACBgBI2AEjIARMAJGwAgYASNgBIyAETACRsAIGAEjYASMgBEwAkbACEwlArfffvtU1tsRLqbys7nSRsAIGAEjYASMgBEwAkbACBgBI2AEjIARMAJGwAgYASNgBIyAETACRsAIGAEjYASMwGwiYIeL2UTfZRsBI2AEjIARMAJGwAgYASNgBIyAETACRsAIGAEjYASMgBEwAkbACBgBI2AEjIARMAJTiYAdLqbys7nSRsAIGAEjYASMgBEwAkbACBgBI2AEjIARMAJGwAgYASNgBIyAETACRsAIGAEjYASMwGwiYIeL2UTfZRsBI2AEjIARMAJGwAgYASNgBIyAETACRsAIGAEjYASMgBEwAkbACBgBI2AEjIARMAJTiYAdLqbys7nSRsAIGAEjYASMgBEwAkbACBgBI2AEjIARMAJGwAgYASNgBIyAETACRsAIGAEjYASMwGwiYIeL2UTfZRsBI2AEjIARMAJGwAgYASNgBIyAETACRsAIGAEjYASMgBEwAkbACBgBI2AEjIARMAJTiYAdLqbys7nSRsAIGAEjYASMgBEwAkbACBgBI2AEjIARMAJGwAgYASNgBIyAETACRsAIGAEjYASMwGwiYIeL2UTfZRsBI2AEjIARMAJGwAgYASNgBIyAETACRsAIGAEjYASMgBEwAkbACBgBI2AEjIARMAJTiYAdLqbys7nSRsAIGAEjYASMgBEwAkbACBgBI2AEjIARMAJGwAgYASNgBIyAETACRsAIGAEjYASMwGwiYIeL2UTfZRsBI2AEjIARMAJGwAgYASNgBIyAETACRsAIGAEjYASMgBEwAkbACBgBI2AEjIARMAJTiYAdLqbys7nSRsAIGAEjYASMgBEwAkbACBgBI2AEjIARMAJGwAgYASNgBIyAETACRsAIGAEjYASMwGwisPhsFu6yjYARMAJGYDgE/vnPf2Z//OMfs7/+9a/DZeSnjcAsIXC/+90ve9CDHpQtscQSs1QDF2sEjIARMAJGwAgYASNgBIyAETACRsAIGAEjYASMgBEwAkbACBiBdgjY4aIdbjOeWnzxxbP58+dnd7vb3YrrN954Y3bttdfOSDPJP57ylKdkD3nIQ4oq/ve//82+853vTHJ1XTcjYAQWIICzBfzGZASmGQGchfh7xCMeYaeLWfqQyyyzTLbKKqsUpZ9zzjnZHXfcsVBN5s2bl62xxhqFvPCXv/wlO+2007Lf//73C6XzhelCANl1/fXXzx796EdnSy65ZPbnP/85+/Wvf51deeWVxXG63sa1NQJGIEXgsY99bAb//vvf/56df/756e1F8jd4gMu//vWv7Oyzz14kMZjNl376059eONr+7ne/y37yk5/MZlVcthEwArOEwIYbbpjd/e53z6655prsl7/85SzVwsUageEQ8Hg2HH5+ejgEFhUZf5rHi2mu+3Ctc/RPG9vRY+wS2iMw5xwuMAagUKo7eV966aWzVVddNXvoQx9aTPxP+PKXs1/ddFMjRB/4wAdmL3nJS3rP/OIXv8gOOuig3u+qE8rcZ599CgU3RosDDjig1MhR9XzZ9Wc/+9kZq4XrEJMbFOovf/nLs2WXXbb3yFlnnZX95z//6f2ehJNXvvKV2VprrZXhEHLqqadmX//61yehWkUdVlxxxaINlVXozjvvzH76059m1113Xfa///2vLEmra6NoO60q4odmFQEiW5iMwFxBgPa8wgorzJXXafUej3zkI3uOD2eccUb2j3/8ozKflVZaKXvMYx5TjNeMi8MQstNWW21VZPHzn/88u/7662dkt8MOO2TrrbfejGtXXHHFnHW4QN5Ye+21M74B79mW+J7gevnll2ff+ta32mYzsueWW2657O1vf3t23/vet7QM5Bbu33zzzaX3Z/NiV99oNt+hi7K33Xbb7MEPfnD2hS98Ibvlllu6yHIkedzznvfMmKPgWIdjzx/+8IfCYfSCCy7Ibr/99pGU6UzvQoA2gkPVf/O5nR0u7sJkiy22yBhD4XF1HC6mld9Mar2RKdBX4OD3hje8YU531a6+waTLE+P8iLQd9FcsPDjmmGOG0lt1mdc4MZgLZb3sZS8rXuMHP/hB9qlPfWouvJLfYRFEYFEaz+by553WsWBRkfE1Xlx00UXZ4YcfPlVNUXX3WNf9Z5sL2KKPY06K89RSSy2V/T53Rr8xd0LFLos9sYw23XTT7D73uc9Ct5jXordDn4uupYxe8IIXFM6u2Cn5qyKVwQLfH/7wh1XJfL0PAnPC4eLxj3989vznPz/jSLQJGs0ghwsmrRjxH/awh82ABwbe1OFiRgYNfmyzzTZFh+KR5ZdfvniHr3zlK0UOKCYf8IAH9HL705/+VDgb9C5UnJAnGNShRz3qUYXDRZ20o07T7325t8466xQRRPCCR0k2SQ4Xa665ZrbJJptUQkR9YXwolFEKXHrppZVp697o13bq5hHTscKVkP4i6lq2wln3fZwMBBalbUQ22mij7NWvfnV26623ZjvvvPNYPwBlb7755gWfhgdBu+66awZfFh155JHFff3miBGc64siMQ7hzIgAiZCGwRmHuX60KLXnKhyINCDHhksuuaTvii/kHhwuoGEdLqrqw/UnPelJvTrxGwX33/72t+w3v/kNP+ck7ZjLh4vlfR3j8B577NH6HXfaaaciIsiTn/zkDMPypLXxvffeu+dsgZyC8Yu+iwMGvA7ZoK5M2RqkPg8i/1GHf//73wvxj66+UZ/iJ/4WcjyTYQis3v/+9w9V58UWWyy7xz3uUcisrPzvil784hdnz3rWs3qRAMkX3oWjF4rCb37zm9mXc4d3kxGYVASmld9Ma70ntR20qVdX32DS5Yl73eteBTzj0B+gLF5ttdWK8oiMMEx01i7zatM+Bj0zTlwH1cX3jYARMALjQmAUc5J+eU76WDAu3F2OETAC40EAfvTa1742W3nllWcUiOPF2vkVdCRf/epXs6997Wsz7vPjhS984Qy9ykIJ8gvobI899tjs+9///ozb8DpoXh7tsZ/DhcpA52uHixkQ1v5RzzJfO7vxJWQ112abbVasBG267/sGG2yQ4QmFEnc2KVW8Y8AQUT+cDESf+9znsnPPPVc/59yx3/umRroulcDjApK2hgPNa17zmmIV4plnnjlU0f3aTpuMMajFFUY4LB122GFtsvIzE4gASjqi2Jx++ukDndEmsPpFlR7+8IcXkYgw4I+TMEhuvfXWCxWJR2l0uMB4hKEqEsbaSaKm7QBD64477phtlwt791piieJVdtlll+yqq66qfC2+08c//vEZDlwkho8fcMABQylFKwv1jZEiwKp00YknnjhRDo+qV9fHf+QTFJwOcPAahojawpZteKcTfW2SCH4lfkoklTe96U2FIw11ZCKmydhs1lkrHpnkwVcidfWNYp7Tdo6DDI4yyJhdRCHZfffdM0IjQ/D+LmjPPfecoUhg8k+9GUOJdEHdcRqhvzHXMRmBSURgWvnNtNZ7EttA2zp19Q0mWZ5YffXVC0d0MGLcZhXnKOm3v/1tL/ubGkam7T244KTLvNK8h/09blyHra+fNwJGwAh0hcAo5iT98pzksaArTJ2PETACk4EAergPfOADvd0J0OdgD2bbZvQj6EXQxRMpFz3iN77xjdKK81x0dEavogVL2MlZqEp0fC3sL83EF0eGwFQ6XDzhCU8oFMNtUHnGM55RhCBMn6VxowBk3+pxEau52I6ELSnwLGKFV9fULxz5tOy9DoP5/Oc/nz33uc8tVjlO+io4QvbesWBlIIw0rg6FAbL9DEqTyy67rPXnHkfbaV05PzhxCODQRFuExw2K/jNxlZ/lCm255ZZFDXCuQFBhyyh4UqrgI9qAol8Q2h1BadKobjtASHvd615XRF2i3USK/Cxe5/yZz3xm9r73va/H8xAAWZlOHnjwTpoDSlp//y5HQEZ5vmeVsF/+5PRexUhMJDTC8Q1DH/zgB7N5ufc4smXqPDpMvl08yxYDoh//+Mc9Zwtdm6QjslNKXX2jNN9p+s2YDq8m/OQ45y91MSICnFZtsFXhRz/60RkyCCs43vjGNxZjxrrrrltsd3HttdfWzd7pjMDYEJhWfjOt9R7bhx1DQV19g0mWJ+IYHc9HBS8RLYich5L5tttuG6qYLvMaqiIlD0cs43lJUl8yAkbACBiBIRCY5LFgiNfyo0bACEwgAujl2cYIwsniwAMPLGw1qip6dSJqI/sRaYKdGND7pMSCG7b/jcQz2DCe97znFc9jR73wwgsnUlcU6z0Xz6fS4QJjUBsiJB+rcyP96le/KjzxRxEa+973vnehsMdAV+b4QJSCYcP/xndJzzGOEFGhK+J92IIFY+MNN9xQrKqrkzeMBEMbzKCMSdTJ43vf+17GX11SmdQzRg4pex4jKUrf3+V7JbWtX8z3+zkz+8xnPtO7RMjkl770pYWXmi7Onz+/0uEC4xZ/hOGv2te6advBSMo7sr931V5OqpuPRsAI3IUA3qA4CkA4Epxzzjl33Sj5H6POTJphtaS6fS/hmChHExIiBMYtrqoeJoIFvIax50Mf+lB28sknF0ZmrrHX8tVXX131qK+PEAFkJiKwwP/5a0pyuiFCw7Btm+hkeGxff/31tWUInll66aWza665ZqHyeTccIxgrm6zwZzxESV/leMp7DnK2YBsuoldg6O4nOyCH9CMmRfAa+th1111XOCn1Sx/v8SzfFjmnyfuTR5Slf/azn8Vsa58jaxHVBifSKizLMsMhDXkSOSfyzrK0VdfqfCOebYqR5CWc6qpksKo6VV0XTnW/b5M2wbcfJOdSL/EB5jv92mvVO7S5zlYiokMOOaRwWNRvjrQ7tt1iuzAIxUCVw4UwbNrWyHeZZZYpHNwpj/EppXm5UxREaPq6PK7rPMVP4BdN+wT8Q3wVx5ZpotjWefey+XL6Pm34PvOq+9///o3GnlhuXX7DM11+DxZl8E3LHKqQTx/3uMcV0daq+G+Tesf37XcOjtQLHlnX2M32R0S3aTpO9auHeEJdvkpePIPMwDNpW2vTrsizC3mC/ouuhKha8OgyPkVZg+QJ0rTlJU3HSspqS4Pkujoya1WbT+uEbIW8UaWPI33dvJqOo2qjyJOjjtCKrE6/pO3wrlVtKMWn6rdkIXgP88CUiJzJH+8WV1em6fR7UH5K19URPsz3Qs6sg0XT9xlUz2F5d8wfXk9+fGPwriunoOOkL7Fyv4xXo9uFNyP71JF3h2ljOHkzjxyFzl1Y8c3pc/DJJv2t6Zjd9XjWtK225fHg1GW7JD/GDcZUxtNRflvK6kfizW11Hcq7zlgwDP5N21oX82W9W9kxyuBNZKmyvKquteVf/eQEldUEzzb1kFzEGIfMW4f3dj3WjbO9Cdey4yTMe9ti22beUqesOvJlGZbI/NrNANsqkebT+TuR4lZYYYViVwfa4cYbb1x7+1VknpNOOqngz3K6YNvq448/vqw6ra9F/sG4m86rWmc8hx6cSocL4Y+CkdDmDA5Rqaf76fEFm28+I+Q7zhbveMc70mRD/6YDER4GA4EIJQMhFuPqcozwG220kZIUoXQZCLbffvveNZ28Mt9PnD88L4877jhdHssR49vL8rouma+gi8TkC0XpFVdcES8X52Dw+te/vhDqYFYiOv+ll16affazny06JB2/zvt++tOf7q2aZsJA3tDBBx9cKLY4ZyAkHDE4ab9LrlNPVoUwmYjEIM7KuvidYHis4GW1uojoGt/97nf1s/ERbzLqE98TQT0SEyL2b3rqU59aMEbdg/Gy8pS2Q91EZW2HLWeInsE+2SK2Bdlhhx2K1Y+6Rj5HH310sZKQb3P44YfPKJN0K620UvGNEJzf+ta36lEfpwgBFAcpMQmN15mMlk3AeY7oO3hWoqT+0Y9+VPTzfkImeTNxh9dp0s5WNYRDpe+dffbZM9pwrBvhrp72tKdlT3ziEwvDHTwijSAR03MOr1x77bWLSd4ll1zSd5uL9Nl+v8kXwRaiPiKUVxE7jD798NBzdY5NsUZoJOw7k2a+IeH2GQfLKNZZ9+u0A3g13x1HE5Q173znO/V46XG99dbrRfUg7be+9a1eOniOQ8X34BjbyYte9KKMMTaOh3xX+gtOgYOUURhIGSdFjOuM3RDjGuNyP/pQPu4iNxDBCwPiM/I2u1g+1kHUAxns3e9+9wxFLSviCX0H4bDDWCyHj/e+9709px0mfazsR4kuIk8cOXBkLVP+sp0ck5Xll1++N+YJD2QZorGIWInP+8K7DsgdiUTwBzzSWY2viDbcI7LV+RdcUOyTGMdqtukgKht546UeibxY+fqUpzylVx/uw0OJkpNuIxexATfGdr4Pkx2Id0FGHDSZevKTnzxjCzGexSGKP/J41atexaW+pGhx0RELDG7M8QL/sgkX3xHZDX4S5UKwOe2003r7U/KdqEsk+B1tD2wIBwuVfaNhMGKs23fffReSl774xS9m22yzTcY4xeoCZKZ+hKMz+DBHOeWUU4r9N9WGeQ6Z9AM5Rr8qCYPetE0wFnz4wx8uqoPsqghwqgP9APkX+RK+L6Lvg6fCvn/kIx+ZcZ906utM2Mv2DlVeVUfapspElmQMLSPqwHZXtIlUNiZ907aGsx8KSowSGHfXWmutXl+lfaNMZYyi/9I/H5o7TYkvUR6OgbSt2IZHkSdlQYQK3WSTTXp8jmvwEPZbLRs34d30eb4JipiVc3k91h+HFepbxgPJG4p9DEfSo446qriuf+BHu6EceCpzrSpS20Fm23///RdKpvqmYwa8A0ebxz/+8T0exsPUm2hiZVsvtuH76Ac23HDDGW2AutZxUoovU8ZvuK/3G+Z7kA99/4gjjiiwoC8zbmCAF39nPsiKfvDGwL/7brtlD8i/k+7Ttr/97W9n8KtIZfX+5Cc/WcgFPMMcL4bRRu6XAxQO+vQREXI6407k+9SLNsQewSnRp5lnw/NjPeGjTUk8rSlf1feh/T0xx1S6jNju27SrLuQJMEBG22677YrxRZjwXZDpmftH57h+8gTPNuElw4yVqidHxnR0F5GQdfjDwQ1ZJZbVT65rIrOy1R3pIWQ06XgkdzLeXHzxxYXzeBx/wRMdXXT8qcpLba7uOBoxWG211YptuaL8jRwMr91jjz2KpGyTVrUndh1cVR6yC/IwhicRbQjnHeQDYaN7VUdhx3hNXdVvGTORjURsN4cCP8pxYIRuiX6WEvNQnk/1bci5ZYThATmVcTBdKEd6ZEzmzczD4S+R4I20CxyBY/2Yb8ALyxYdNX2fWB7no+Ldyhv5Db2ceCjXy9oxOhHJ77Qt5iqM5SLkPmRSxhe2cWN+xdZuIr4hMofkQl3n2LSNqe/wDdEHPOc5zynqT7tEbyyewbdMtyllnia9PnMDeEY/Qtbca6+9Ch1NxAhZGzk26t7JR2NC0zG7y/GMerRpq014/KjapfA79dRTs1VXXbXgO8KdeSCy62cW6Ap4T6hpn5ZcedfTd/2vmpPUHTfq5Fk1FqgeTfDnGWHVtK3VnS+rXm2OTeabBx10UDHfoD8zttOPI8FLwAaK4xpl1OVfdeUEyqC9kW/d+U+TepA/xBiOLgJdkNo31xlPP/GJT5Q6aTYd68ivH42rvZXVYZLmvdSvLbZN5i2DZCDdbyJflmHLNeYQalfnnXfeQs4Weg7e8bw8OsXd8r4U7RK6P+jIGIq8BpXpWAY9X3W/zRy+Kq+5fn3xaXxBBDMmnRKaY1jkfu+zeh5pQMRAgaAAs2aCgmIN5RzXmq4sUp46IpSmhKIWYZCB9/zzzy9u44kZCUGOAaEfpc/0S9vFPQwBKLfFEGKedLS99967UIpFBT+dme9TVlfyQXlKGoSvOBmKeetceUTDRnwmnjOplZJIz3Oknvvtt1/xHhIQaDP75ZO/qKQkLflFZwtd4zgMIXxGhwsG70goKZkcpsR7Y2hgkgimMmQLF6UXDul12lxKpGVCxmCBF3DZt9Uzyle/fZweBJhUp0TUgjRyAZPgSBhIEJZRtERCqYrBk4G/jJg0M4FGqYESBWVRVHJhVKNvRf5KWXouzRMFMMqCaPRQGibiTObVdhH+4d+062g0VfomR5yWdssV2SmlSmwUpIOcQtI80t9NscYRBGWIHEJifnwfsPzqV78aLxfKlRkX8h+D2gFKSoR8efmnbSHNj9+veMUrissow6OzRVlaXxs9AiigcchJiT7DJBIDAxPoftSP/8cxuSqPu+djDVQ2QaAe1A/FN+MUk3golhl5VXFzwT8cu3i/qCjkFnkytjNJJM/oUIIiMjXi6xnwoI0jk4hUj8jDuIcsUSZzIkvghIEDSMRVz9+9RLZ729vels1bsLJe5XJEXsRxFPkLw5hIdeI3ymvxP93nNw6XROvC8aKK+smZaZ5leWAILJMLwYBVTjh6vutd75qh5Ke9lX0z8gcj+A1tChm8X/3iPeEhjMlL1zhvghFtkXCMabsmP8YhUSxL19Kj5DDkPJxjU0ImPSAPG4lDE+NWpKZtIuIR66Y6IBeX4cB9xk2M6cylYj6xPpynmKT3q37Tr0Sa9+h3ejzxxBOzh+d956/5+BGpTVtTG6Cfpn2V9o3DFdiDDX0tJcrEeHXooYf2bo0iTzKn3adzDq5THvwEp1W+H+O7SH1UK1Z0XUciHjC3RR6oIr4H7Zq8mGNgBIyEwUPlIA/0I2ET219Mr3zifc7hEelciOf4LshhOBNFQ0sbvs93RNkWifqUzbdimrLzqvfU+w3zPVSe8sIYlhL9kHeBj1J/pVU6fmMswBAXtygtqzfyLHNSnqGtyLGeMhh7RNG5jL5E2rRcnkFxiHPIwcExB55CG4TfReJ5Ij82JfG0pnxV9a0qs0276kqewNDLX0rUGWMcfAo9i+ZB6kNl8kRTXqJ2QdllYwR1qCNP9BsfVIaOlFUl19Gum8isag/kGfOX3Dkvl62QR1LC6P+Wt7yl5/TA/aq8dL3uOKqyotFO1zgy55OzBb/1PTlPqQ6uPEOeYJeOZXw/3pWFZSwcqhMlVtgRua2KGK/K2iwY4RzBs5FvM67vn9chfR++WZlMTrnCJX1GddL31lHXMbyjKyt7Dp6J8w9tHUcNUdP30XPpUXymS95NGdS3bA7Ot2WugV6G6H+QcOMcHUlKtOdtt9220MOmshFp+YbIhehxcLoRtWlj6jt8I0KZR8LZTQ4XOJumDhfwV9FZZ52l09IjOuWy+QiJGXtwakfWQNYV6Vs1GbO7Hs/atNWmPJ731bt22S6VZxkfYB649jrrZMvmtpD3vOc9grzXNsv6JonUl3WsOyeB99UdN+rkqXYb66SXGAb/Jm2tyXxZdWtzbDLfZB6Agzffh4V0qWMdju0QDjcsmhM14V/69jxbJScoXxyDy6hq/tOkHuSbLmCNZdHe2PoB3hL1TG3Guphvej6u9paWq9/6Hl3Opcm7zXu1xbbpvGWQDKT7TeRL4Zkeo4PsGWeckd7u/causdOChWi9iw1O4uJQxvguCFmj6Ry+i3KnNY/Fp7HiKOblbFG3/ggH0bOa33HSQz50HlbpYgCoCmlbtzzSYdyXUKLnMBT2UzzijYuH8T3yAS06A/DOKNziJEF59juWOX+Qnsm7jPdVz4PHXvlgkr5Dmp4JOQOxQlLvkK9+iQIL9WZVYlSs8S0YTDFYdvm+ad30GwYzf/783oST1XQRX9KVfS89P+wxRp0gr6g83WeffRZS/qV1of6k6zIiC20Rwwj4IwBrYKV+lI8Q0bSf8axpMhDAWK6+i/DOOd80RrRIjT3UHEWseCVp/54bQJbLDRS0EYyNUJXTBfdYTUFbZWKDkEDfZ7LO4Bz5AkpOjGtSEhFmkjqjZGflilbHStFI3hDtFN4NT2T1Du8GIVShKPjYxz5W/G77D2Oltl2gvlodQl+gX0D034hj27KaYk1d5GyBY4OibDAJAt83v/nNxersY445plelNu0AbOVs0ctowInGGqInoCjeYostCuMAuLG6BEeRKPQNyM63cwToQ+rDZYBU3WMiKgUEbQRHTxRyrB7AAEzfQxHNd9K4XZY/ikuIKCe0O9ocBpc2xLOsgCVqCgZNnJoY13CaQAEYnTZj/ij9aFP0SxRmvDMTXZ6jP55++ukFH4EvkCerwOApvKdWh/OeO+64Y5EtPAknBiJHgdPWW29d8BB4HsrfslW6qg+YSUnJ+7Aa+corrywMozhg8T6koQ7piirloSM8DBkLQg5i5Q3fCoMajqP0ZwzWeL2zqjklcGAFLI518EGUxjIobbbZZn0dLsgPPKinnDJ57zoKeZTpOKZQPvgfl0dcI3oR8h2yH/Wn7ryf2g91Bx85yIANvA8eimwEryC/zfJ3YEzAWUQOI1rRhAKnKW9vghEyoRSBN9xwQxG9jW+M3Lh5Hh2PvNoQGJ1wwgnFd2RcY4wCQ/LjG8jQSd7Dtomq+lEWCm6MsIyX7AOKYxDXkQNx6KVs1QEDPKQ+U/xo8U9jM48Ock4sc9Jr29ZiVWljGJvgf0QUxME0jusYp3FSpJ/RH1Dc0w6IukCbpg2k1FWeOFTI2QI5iZXI1BMlDA6r8Fz+cGYUL4t14ftRFyKQ0Kdwktg0N14wt8FRA57IWF5GyIIYVRgnkM+Qt2KUAznL0H7VF8vyaXtty7zPa06I8/dRuXzw55yPYaiUYhps4G/UgXdtyvfn5fxVzhYogY/N2wHO73xb2j3v3CUN8z3K6oEegkgf4u+EnqUMje2M3fBLjhitUGJC4BYdLsryhmfD23CSoJ9h4EI3AQ9nHIPASnME2iHyJeXTpnDEYGU+fRxFNryNhRQY0TReUR85W+BozYpAvjUrYnH2UTll9Rt0rQlfjXnRn9FXMHby16ZddSVPULb6P++D3H5BHiWL9gk+yNRgxDmyRj/qgpe0lSfk2IX8oWgEtI9+UUxSua4rmTVipLbK6j7aO4ZZ2iR8B1kEeZg2XpfIb9A4Sl6MH0TEEmEwho8tlUd7Q5bQ+Kr7Vcc6uFLWQXm0Js2jz8/HsS9+6UvF3BueINkK4xEGsnQ+XVU215nnIncRjQD5G+I7ic/Al5gb8C3p98wNGHNYifn1r3+90C3xDIYCyVbwE8ayLmQr8o7EvIbFS5RFfwJzIjkg6yDnMyZyD/kVhxuozfvEMqvOu+Ldr8plRDlb4JTAYhh0djgwoEOlTbLQJMrasU5EiSLqEfyZeQEYQMxjwIg2Qf+APzPv4D55Mn9S++uqjRHpkPnfn/70p2LsYByhvTAfjET5cogkLTJaP5LjKGn45sgrtAXaKTyJ/JDv9c1jXtyrK0N1OZ61aavD8njeu6t2GTFktT+LrDhiQ2E+D64YvgfpGGI+6XmdOUnTcaNOnmk99HtY/Ju0tSbzZdWv6bHpfBOZEgcb3gMH2+hwwZwKR3bo2rBt47D8K5UT0nes23eb1gO5SxHo4VOK3ATfZD7GHI00tHXml6Iux7pxtjfVv99xtue9bbBtM2+JGJTJQLpPP6BtDCNfqs+Qp+wOyr/LI/1VdEOu3+qCms7huyhzmvNYbJor36TudLo6hKIYRRcdaRhiQoEQ/I5c+KdDipjk4RlYRSgCMBpckEwCUYZzPV29XJUP13kHvEvL/srCvqZ5MWGMTgkYO5hME+6bkLuReFcIAxHGPxHvjoKZiVj0eOc+gn2X70ueKAzAiW+YKnhlKEEAjEyOSQcGKX2v6K1Ink0Jww1l8YcwyOQu9dTUXrwI3ZoAUQ51wQmCujDZQUkoYgKCIqYJMallIsY3YNIfCWUjgwl4KSS17qMw4zqTadN0IkCbQ9nCn3jQl3JFjK5xjCu6eUuuydkCRS+T+m1y4wwGmn/mTlpQ2aqJ4saCfyhYMaxjSEKhi1c9RjUUH1HZc0BYkYNRDWMBk3wUUpSHUED7LCMMk9QN4R8+JeexMg/+suf7XUM5IYyigxMTIF1HeaMy++XV714brOnPhPrEMIxhAqMBmIEv9yB+R2rTDuLzdc9lPKH9MP7xfvNygwfKdQx3GMZR7pvqI8A4zdhU9acxLc0R5SeOBYxlOJAyXjO2oMynH4pWXnllnY70CP+BH9B2qRPGQcYl6gQRUruMMAjyHLIDdedZDGgy5KI8wtgIn0AJydgpXqfVFuQrJQHnB+crwlD6UTYGAbYWUD1knCNdGWGQFaF84D0om7FVWzlwP6ZT+nhEgSml+2250prvLIeuyy67rHhn1anK6M2e1Kx+RQlLaGy2d8FoC90vNyiMiuB91B8i3DnbrYEBzsI4jUg25BtFWRe5kDaJAhV5A+Mu4wGTVYxwEPJm9PgvLg7xry5GlKmtaagfbQJMUTBg0JTTR5uq0Cbpcyi0UUjSnskXwtCp9+2iTVTVDwfJo/IIBiivkO3gCSLqMCqSsZX8JfM2KattW1MZ8AL6FoZh8OdbfjdEfqGPsSIfYxxtmL4XV1qW8dcu85ThinrAD7VKlbbHb5xQIQztOEWkBM9jhRpbD9GmiBKCslM0aLyNTi4x0hnKU/FYeLB4qvLt4viYfB4mwpGK7XX4RvBzfQPmsAp/2obvK+oW5RyW8xy+M2MIfYBoNuqHqsewx2G/Rywf5Rtzd5wpOEeminNa5D1Wa4MVfJU+Dn6QHNtifmXn8AHaPYRMCY/WuEn+yB0i+iLGMYi5gbZBYNwiopQIBbQImR5iHkvYf8YGMMKxA9k6zm/1TN1jXb4a86NsnEPk2IBTcZt21ZU8gV5KYyn6Fdon3xIDN9F1JAPgxDmIhuUldcfKQfWoc79MrhuFzAp+tHFkDOQTHEo5F5Xxd90rO9YdR5nDqq9glKK9UT7jP7wO+bMrYn6lLXLQpxHGn74Ln+NdcWyFaGfS09UpW9jhnMz4gqwNxf7N6kZkCgieqvEEOU46L+QbGc/hFTwTZavIY4qMhviHA40cT/hWvD/9CfkSfZr4Pfo/rXRv+j51qtcV72b8W2tBpAdke94BmRn9Cu9HP4IYq5lrp8R3w5Gd+iBb8Hwcyxk7cORCFmfswJlDFHWkXbQxHHDQJ6Jf0dih7ajRu0c9KHpT6eCZ9/UjZBX0qHxnnOjRkdP+aWvMiegHkOSZNK8mY3aX41mbtjosj++qXUYMGUPR5dG+aJvMi6NzIDqqUdIoxo2q+g6Lf5O2Nur5cpv5JvUXz5FcLqww6KrPaqX+sPyrTE5QeRzr4tmmHsiF8Er4CgsmkFmRlRkH0XOI5AzH767HunG2N71P1XG2571tsW0zbxEGVTJQen8Y+VILOuO4rPy7OmIX2S7My3Aa7oKazuG7KHOa81hkHC6k1IwfC2UWKydZoRgJrzVNFpg4VRk7CCVURkxctfc2SiRNQpS2qdFcz437KAU05cJ4CFsHU2DQYUVcpGUWOLQwESDEnf7wKOYak0+UCZHwuO6aUFAxCDOxwsAXib2foNQYgtCvqCN8L1a6DUNMHFCq84fHOPtQSqlCvmCpSbCMLiqPyTlGHIjJ0FW5R3gkJiJNCMUYEw+EBjyQKVtUpsDVPR8XTQRwKoBwrmD/bhGrW45eEDUBIwqh7vsRCliMkCKUBfAEOVyg7FDISPhvqnRBiYPjAMavMsLQyKQaIq2MyNPUpttgzXfAmSyGxgQD+LJWp8vxgevjJMZNCP7KBAdFCUYC8TPaTQzRPs66LWpl0Z9wsmP8iauWwSHKI3KuaosPyg7Cj6d/6TiFcxIK50hcY8UThMINxVlKGEhTik4iTIRTUp6MuSjiIMkyKIcY4yOhaEQ2wYmLFXv9SIZA0qBgiPjR/whfz5/G96q8kAlEJ+ZjdEqM2Yo8woRMioyYLhoOdF3PREdZ3evqKCMuuKHgTyk6J2iVPGmQBWmTRD+Kcgj34krYKsUo6ZpSXYzieJbKjZQp+bBp+bwnhoiUUJaLtLqvizahPOOROmDEjoR8LOPsKMfM2G6Ry5tS27amcnjP1DHyG7lCWIQhJl09Gb91mTNKV3mCjRxSGCP1PVQ3vpvaCWlj+1AaDHeSg3Qt9qWyea/ScWR1twzuq6yySu8WDnD6dqOIbkFBUtxyvkMeVUEGSn5jTBcvlazThu8rggXYyrhD/hDvzVy9Sxr2e8S6sHggpbgaH8NVSnJ249vVkQPBhXkhxPiLo5m+O0pl5u4iKdjBLS0bZyq1X83r4SuM69Dl+Rw77f+MxX/P5xmR6soTTfhqzL/s+7RpV13JE4zzcjqZlxtMowMAfIkVqPQDIrv0I77ZsLyk7ljZrx5175XJdaOQWZHn5MSmukU9VBNZo8k4yqIekfqXfnNE79gVSZ9F/cqis9FX5Ygb29eg8sFO/CSmlczLvBuZOZLm4VxTFB7Vj2tl332QQZ3n6pKM9mBRVhYLTqgzegUZOpq+T526dMW70RWLH5fpJTXnp06xzamOcmzQb44aTzln1XYk9DM4gENx/NA3bNvGeA5n0JQizyEaiyg64A+K1IRDBfNc5hbpwjHy0/tGHazK4Vg2JpTJUG3Gs1hOet60rXbB47tql/Fd5Cwfr6HHlrOw9O7xfpfnoxg3yurXBf512xrlj3q+HOcTTXQQkv3oT1HPI32uHJp5h2H5VxkPJ19RXTzb1AMeAE/hT++scpFdpcsu45OkK6t7k7Fu3O1N71Z1nO15r8agptg2nbfE96+SgZSmC/lSWwMyRqbEYgocdNM/nMbLiPk+DrL6Y0EU/BGnUukEWfQmPWFZHk2uNZ3DN8l7Lqa9a7nCXHyz5J3k9azLKKlY3S3vVzy/NWCQhs6NkhIlhARePatjmYGAe1FJwW+8buP+dQq9zr3ZorLOHeuCQZTQ/iImKcKKaww2YKjBhs6MRyaKF1amc47BlJUZVRhW4aoy2xzje0VmQF7yaE+VkFHB2qbMJs9QP4wxmsiiYIoUFWpcZ8IUjQHRmzI+V3Ue8cDpAmVZVGxWPefriyYCUj6kjj6ggfMOwieEAJsqsIsb+T/aGWEd+xHtWP2flbdNKYay41kpzqepbQ+DNdEtWJHKWIIiACw1HnEODqP0mB30vVDksLoEOvLIIwtnmw033LBY6cTYKieMQfks6vdZKdJvZThhUqX8L8OKCDO0E5TxVeNw2XN1r7HyOhrV9RztEsF+ECH4S/GEcbXORCAqjdMIPZQnIw/n5MlYK1lGYZG5F4kViHWI+mEIoe/yx+pJHElY9cCqjjLlU1m+0biJ0qCMMBQQkhVihSCrIwdRanwdlL7NfRnU4mrrmI8cPPkOcZUcabhGRCIUNazChk9pHIh5jPK8DCPkVVGZg4TudXVkTqBIRCp7VG2iqs5Rnq9KM+z1aGSlD8ooWzffYdpaVRnR8St1xuAZlCiium2zTZ70beUvJzGVqyPyv1bgMpeKhgClSY+xLprzpGn0m/kB/BHlK3KEthXRXBhjcJmhR88Pc8SQQshceADzILYgYAUmTlzcS9tKG74vJ9DU6XCYejd9tsn3GJR3dEBOjZ08GzFT2xqUJxGKMHAxxuiZMqWcooTSptIFF5QhHYuOOBCI6ozrpB1Wnijjq6pD1bFNu+pKnqBOl+R9nPEQAwaLNOCZyBFn5Q7rdWQo8hgVLykbKylvlDRqmRV84Xu0dbX3Yd6nbByVIwdz4bIxZpjy0mfVfnmv2P9jOvgf/REePwzhRCHMls9l/BgRIc1XY/cKuRFANGrZSg6atNtUD0sd0BtE3UGb99G7ND224d0x4h5jpcZlla1vwW/JkbpXdYztEVk9pX/m7WjJ5OKo2hh8jm+FHlmOxxQtPSftti4PYnxCpuZZxqBhdEFlY3ab8SyBccbPpm01Go27lBfbtMsZL1Lxg7k2Muu9828xDhr1uDGqMbasrQmvUc6X2843cRrYIXeQRl5hyw1kFM7Ff6JubxT8S9hUHcvwHKYe9DsWx6HLuFduD5Thuqz8Lse62WhvZe/U71rEOo4reqZsLt32vdpi23Teorq3PTaVL+/M59hQ2XiFHrUsWmGqV1NdkQc059U1HakXdplBDoxKX+fYdA5fJ8+5nGaRcbiQh7c+JgryOFHCgy0Ks+y1CEWDtZ7Vsd89peGIZ1gkTdbjtVGcUz/2Iy6jQcY4FG9RmE/xI0883CUY8xuPcYxDTAxY8TqpJM921a9soNC9Lo5gjbcvSieMy3ECka6gi8IvZbN/5vbbb9+rhlbs9i74xAh0iIAGdxTfKdFupaiKk880XZ3+FL2r46rxNK+y32W8C2ECijyr7NlJutYWaxxftHKz6n1QOFQp36qeGfY630XGblYSRSLiCQ4XEJOfOCmL6Xw+EwHG036G9rJxmRzoB4Qbj86d9F31nTLhfmbJ9X6xYqbM4UPhhwflEtsoK2HqGGY0gSLvQeMhaXE2EV9IV7MPql/ZfUL9s+oUR0jyJX9C7vLHBJRIYIRM7kcRsygPxGeiMrSuw0V8fhTnMdpGPz4PP4YXRFmXb0GbjG1PbXKxHMd+ioxRvEvMMxoiIu4xTZfn0Vgqx7tpbRP9cIF/ySGLNsycoS4N09bqljGb6eKK1NgeYp1iW4y8PKYZ9pwoGpLHcM5jjvKwBQ5I/8femcBtN1X9/5BKg1cTJcrTnOaBSBFC9Zoyll4KEZpJs+FJUVKSKEWRoUGIypS8kmigNNH0rzTR8FYkSgP/8z09v6t17+ec6zrnXOea7vu3Pp/7Puc6Z589/Pbea6+99tpr/yQ/5oA+Ogpil9gb3/jGbN999y3kGXgpZdxss82KPwz38VioeXpTvg+fEd+P48woyjLrcXIGNXUhSnc+syCGUh0C037jrjCP7TXVgSid9DqsPBH7kfhqmkb6u2m76lqeYBcai1P0PdosClMWH/nDoJb+OGhn5LTwkhTbJr9pN+OQWZvkqW1YGb+Ld7WNp8530mfduuQ4ubJvJKupD5eFqfMsLoojr/XjAzK8umfwZBsXaOqk1zSM5Djtrh/0fZvyDIqzy/fyEkKcVQspSg++NCoaZRvD2wsGf8wX1lhjjZ5HZMpS1/U5/I9dvxp7+BZj0dty2YU2H5/zrg21Gc/6pdO0rc4aj5cHgFHP68Y1bowb/1HPl9vON5kPyEhb3gMwlFUf+2x+pI9oWvhX23ywOSRulqZcbFoFg6jHUHm7HOvG3d5UhlFf25arDbZt5i2jLn8aPzIRfZ3+Q36jPhA9uox3+W7zzTfvzcPSePjNPDd6Y6GdMrfAsDHqEsq+bfOs6Ry+TRrz6ZsFY3CR7jyMDJgKTRXkmphgEfSFL3yhtM4lUJS+DA818dCj2KH0bFRXLUQ2jZ+OFEkTyPgsLRfKVMLtkls/RmL3+ffz4zF+nS9CNDlDMsbR5X20uiNeLO6qLIbbpIvHDNz41CEWgFBEi+ICBc/ukRuxRKqruIrf+N4I1EVAynUJz1XfKVzZ+zr8LX4vXlsW13x+JgyaYP2Sl7ykZ2zBztNPf/rTxYI8fJ5JD4vB0CQwZfEfpQk8KuVTGJJRXsrKrgfTaBFgnJWC6Cc/+UnhaliGG+xQxetIF4RwHwX8pnFGJWHdCQFtHdkD45GyI0ViHthRF5W8Mb0Yrsk9E24MiJhwr7/++tmTn/zkwhU4sg/xc3QSO1X77apmYUi7xugz7IRMKbpiTeXXNOy4ftOv1Y9lMFaWtmTDKGuhEJWSArfeeJDTQgC7k174wheWRTWWZ5FfUYexzYwiA7FuhdGstol++LBoLoLv99ux/epXv7ow3kJpsHjx4mIMadvWlOY0X6PxSSr3K99xJ0s6R1WYYa940mHsps+y640j3qQkj8dPDZtO2fe0eXgli0kc0bTOOusUxh6kvyjfkc2Z8xi3QU35PuOD2o/4UVke/CzL9thjjzkwvOxlLyuw18Oo62Cc7jfmMz5CUYfQb6xQGlyHlSfK+GqMv+y+abuKY0MX8gR5Qo7njyNG11577cKDIHEzXmJ0QfvFE0kVTQsvqcpfnefjklnr5GXYMCz4q/6GjWvQ96QF/1wulyOrSAvmMriuCjfoeZSTMJpPj2OO38v46U/hWFAMNCIvieG7uOcoVLCoy+/blKeLfNaNIxqOnHbaab3jv8q+r2OsXvZdnWejbGOfyRdodYQIZ83DjyHG7jrHmTGf5XhvdAuMPcwJ4ZVq63hBlEFpnbJWhWkznlXFxfOmbXXWeDyLhxD1OEoa17gxbvxHPV8eZr4pI230jBjUoweBmLvFI1uniX+pDdblo3hCxwgWQubDCyobYEV4eVMb17Mux7pxtzeVYdTXtuVqg22UNerOW0Zd/jR+xhXpxPH0GD1wpd73GR/76faRZ+IxXWla/X4PMujUt5rf6XeTOby+WajXBWNwgWJXyhcqG3d3CGgSBqJ3C97LjTeNKwrlvBtExBspnj3E8yi4xXDTdI+wyp8U5Fhg0dHV2Shj3GUNjhgPsPgQyw+O8fxRhKNJE4pLFBsidlyXnbel96O8sggW2wfKlnjm6Nq5AjKS2mV8Nor7WIejiN9xTgaBQfWKgIyiKCoulVMs8vX9sAuA8TgSJsN1dzIoL02v7EaPvAdl0QknnNA0mtrhNa70E2LaYP2CF7ygyAPuhlmoiBR36sXnZfeqx7J3bZ8x2WLhqEq5rjTjJKxtWv6uPwKPftSjigAYPx1yyCH9A0/w7aJ8UU2kY4H0u+rKxAkFMvIIijXJJFXheY4Sj74YFzBjeIwfmPSAV3qsVwxHfuGPyJPwQNLXQgjnrSNX0M7x5vKxj30sfjrnnnFf558y/pedtSzvYezUGtVi65xM1fzBrk2wTI9m0+fsLJbcKCUwSlG5mEZJn+6g1reTuka5iiNu4qR3FHliJ59IdTvLbUJlSa8Ye4kwCEw9H+kdfRllA30nugJv09YU57RfoxcgdtoypqcU5wZR2ZeGG/Y3ca+77rqFy3l20UDM/8r4Ullaknf67XhOv0Puo95RwOFR7fzzzy/+MFxjpzt8BJkTvgyvbcv3WXyr4vtpnhbi72222aa3i0pzfnggc3nVP31SYyh9tJ/BhTC8NhhbMb7W+Ubftr2W8dVBcbVtV13IE+xeYxwFX+ZE9EP186c+9ak9Qxhcd0vOKCvPNPGSsvzVeTYrMmudsmBgjn4MXjZqIwPaL7ySeRdtUgvWMZ8yvi7zXBnDDbqP7QwZuE6f/lWuAxTBV8RT9KzqKjkAflNllJx++3+5Ad+KuXdiFsL4TuOSwoETfA3C6LdNeRTXOK7wUOkqkVFHfSRLVZlG2cbQG7Nog/4COUjG5xxZqPuqfPGcuZZ0Dsy5Lr744n7BW7/rejwbpq1OWl6sA6J2ZsdFzzZ9elBa4xo3Iq8YNf7jmC8PM9+MRtrIJqvnR01B6ZGH08K/2uSD44kYQyB0rXU2ErYd64pEkn/jbG9J0iP92bZcbbBtM28ZaeFLImdDP+t+0Lbbbjty3VOaBXQsyKkr5x6Gq+gBq63W6wtxI1nTOXxV/Avl+bILpaCUMypVYaS7LPHEwIRoq622mgPFMC7POZtNZ0YhdGy55ZZz4o5KyDkvwg8JJnqkc871exzX2LFQjO2zzz69ZDmqREp1HuoojFSxFV0qcg5WpGiWMs7yppMWvJ2g7IUQ+lF0jIuuuuqqOUlxHItcLpGvTTfddM57KWPmPOzgR4o/57FJ2OggekcxYQQ0cY0KybIsqR+X7QiI/TcaBZXFM+jZT4Or6nEcP8Q5fCxw6i/lyYPy2/S9dsExMauiNliL5+ImLKVnPetZ6aOlftdtB0t9WOOBFilRjqXllpKLaKLAXSNaB2mBwF2X7C5BAZvSc5/73N6jcfF4FGII9ZH4jSEURLssUxTH8LrXIn4hw4XjtvSe53hLQLkqkqKZI7ykfNY7ZBs8w2DMFHmc3scrHmbYib///vsXskJ894lPfKL3UxbrvQfJzbe+9a3ek7I0MeqAZ0F/zBWS00QoQiHwVf3F/EVPFd/+9reLVzJw5kfZbn48XIhQNpWReF/Zu2GfxZ2a6VyAuFmMbkO0xdSbHvFwbIJIR2pNY5ugbwxDKKlUPhZBtJifxrnTTjv15M1ojNmmraVxT+tvFqzE89bMF4HKeLXwYuEImWlUxC5TkVwN4za4LkkZCd9Ky4HXijLaJ+ej8NIDDzxwzmvmjNHoTXywDd/Xbip4leZVSoy2rXPU9WyhXRkLxYvwcvLa1762cMUODox1cczWGMocORoCCTOMIDn+UvwbA1zJmywapvybtO+a617aUBO+Oij+Nu1KWAwrT+Cumj7AsTp4eIlEH8AABpKxYnwf76eFl8QF7th2Yl6r7qdNZq3KZ53n4p200+23336pT+J8aKmXJQ/64Sp9FmnJID9GwWYyeXz4aTCAjGHq3rM4rjYJX093+BIPuoPohl354x3GXSmlm930nkV+UTqGsCHk7kvmOArDVX0Z3l42H8YTAhjtuOOOBT9qU56Y3qjvoyy08847lyYH1tJflgbo4KHqcFRt7NJLLy1yie5AxhP9DMxikeJ8IuWTGGzKk2D8ps191+NZ07Y6LTw+xS49Fpv3tEfxBo2VPG/Tp/kuUjon6WLcSOOM6el+nPh3MV9Wvquuw843ZTiHh3B5xMPzRaRp4V9t8hGNx++RG/FFQo8uPgVPFIlP8rvJWKfv43Wc7S2mO+r7tuVqi634T915y6jLn8bPejBjC0Qeo+yUhh3Fb61DYKhaJUfsFGSPuPbTdA4/ivzPUpzlms1ZKkGDvH7gAx+YY/HM4vbxxx2XHX300VlkqOyYTF25NEimUBziBpW4Oc87KhpQsEm47BdnNA4hHBZQHFPBLspx0Qc/+ME5eGH0QR74SyeMx+VlhaRcVR5ZeOCMUv7SCVB0gTjO8iLoxgVLBkyMSSjD4Ycf3vdcSpWrqys7tzi3VoTgx1m6H/rQhwq3yrHtsBNyGEMgpVF2xdo1EgIfbudx6WuafQRuvOGGohAMqFJgl5Xq4x//ePEYZVn0oMCxNyyKQHj8Sft58aLBPwx8tBMBgR2lYySU/ixgyhVqfDcL91ocoR+VLahShjZY65xeXIuhnBAx3mihRM/KrnXbAd8SP5Nm/uIiChMRPZdynfDxmIr99tuvp3gn7AEHHECQYjypM/4Vgf2vNQIoEiHGD/oWuyhRPO29995zFj21C6V1QjU/pP3gaQNDPoh0D3vHO3qLrE083Jxxxhm9hcqn5bvmd9ttt15fYFGN3dEs4B922GG9BaOPfOQjvZxyXIEMIjiDlPFWfSku9PU+CDdXXHFF8QuZIbqqZTcj2IriBF/P4pWxXDwULN70pjf1FFSLFi3K3hGw4Vi7aaIoF746V2DLUwcYYjz3+Mc/vsguEzkZMqBo06IBBghY8sPbcUd68MEHzzFKSD1nsBAI0X5Z0I0KjuJFB/8wLpYMhNEwC4/kD94Fr43ekZomh3GOFijpB7Qb9TsWhOXhYlraRDSI02KsMGfhGl5OH4oe7vphgiyrukcJxfEFUtKC8Z577tlzKc0CLf1b1Kat6dtZuOpIJBSWzD3U9llEoF/onG/xnVGVCa+Lkg2UxrnnnqvbgVcZNhCQ9k05aCsoj9LjKhTZL35xYGyKAABAAElEQVT5y+KWPoYBv8qOPCgX4wTQnKcN3z/55JOVXNGnmbfSlhknaMOzKl/2CjXkDXxOfZv5L7L9Zz772SJW+DkLlKIo373yFa8oDAT4ljkrYwDjLfXGkVoi7YBHDjk814WwU4rw8H3wl6Je4Ztc6/LVQXG2aVddyRPxyJ4ddtghQycFPvR7FoY1/9cY0a8s08BL4tGslIX8q331yzvvpk1mHZTffu/hnTI2QhZF3mFOjaEA/JCjm5pQP1xZ5JLBG5g///nPL9oQuNMfkY8hDCXUt5uknYbVohrtFDlVC9q0WTYyYDy03XbbZewQhmi7v1zC6xn3GR+ibKX8penEjWnIDWxiQ35iQxRec8t4B31ZuGPoAvYQYxHGYDJ+Rd+onfdNy1NEOKZ/1157bc/QEpkRnokMDGGwhj4YrNFflhk/d5XNUbexCy64oCcjkme8+tXVE8S+sckmmxTjEvLTxhtvXMwFZWxEfxB2bXHpcjxr01angcen2NGnXpHLA8IWHSO/RdHTY5s+TTz95iRtx41+cSrv6XVc+A8zX07zXPV72PlmNNImDfKceoOfFv7VJh/SB1A25GDm8PBg+C36Tck1zF9Ebcc6fZ9ex9Xe0nRH/btNudpi22beMuryp/GzBi2ifdHe0E1CyDy0PdbiuIdk9Fr8GPIfR+yIXpWvI2yxxRa9NVB0PBxtpM0KGIZEQ8imc3jSYRMJug5k4oVGyy2kAqMUOu+88+ZYEKVCO4IeCwPpwNEGpzRu4kDIqkOcdczESUydb7iPzL1OPMOEYVLCGXoIrqKYHz3DOEXCCwMbu9Li4l/VToe75K5eReMuL0z4jTkjiXXEBHISdMwxx8yZGJAHKVqUH3Z9HXXUUfrZ+ZUJO7vyJTSTAHUtK87OE3SEY0XgzPx8YM5lpi+iLEQpwaBNH0cRIWJizc42WVqisGCQRdDU4jpn13VBKGbZuUIbQznCzuI/5EL73XLFDRNm2l8V7+gi/VHGceSRRxbKHjDDGALFCItOLEBqYbYN1hfnbsc5VxCFFQYruOIEP/6Iv4w/x3LWbQd8c8QRR/TcmcY4eC4688wzs3e/+93Fzxtyox4WzjnPEQtwBDMmwxidiJ+dc845PW9IisPX7hHAdb+UHgjrWvBNUyo7OigN09VveAp9Pm2nKD6j0D8oPQxiGb9ZpKO9c1QBf2m8tDV52EIuwQML/AYFHIvGaXjkQ85R70e4vcfbAWVhMoLyOI0HQ4M6R5RhhIrCmr7L8SHw1TQu4rn88sv7ZWns71CssKDAYjzy01577VUsmkfeQ50edNBBRXmUwS9/+cvFghK/+VaL+Xqvq4xh9BuLeow4kH3hq9R/1SKuvmlzZVw8MG8XlAn+9Z73vKdNNEt9A+/D6CmtW36feOKJc8JPQ5tA0c3cA8IbDn/w8lNOOaUwmlb9bL311hlG7IMIuRKjiz12373AlgUT/srweO9739tbPCLetm1tUJ6m5T24ggWLVixYve1tb1sKF4w3aRejpstyPqPdNWwM0C7tOunSNmQkBi+jHIMIYwiM3egfa665ZvGXtgkM0lG0QW35PgYbjH+kgwxs+jcCLGIyjkEshMjbIop05H42ocAHMVJhNyMKaNorLtzhkey4lhG2eD/6E9qCCPmQsZl5JTuo3pIbEXVFTfhqvzTbtqsu5AkM/fBaiQcQlKkYLO6yyy5z5HgwhS8OomngJfB65ovwMvgAfB+5KhrvV5VjGmXWqrwOes6GgtNPP73wpEDYfvLOoLh4PwhXDBMxfqVf4hWVv8hLuUdhr92eddKsCgN/wGAK42lkMuo2psV3tIG4IMcmLWRudGx4wKgjW3HkB3oB5GPmu8yjBxF9Gf6jPoS3NfiU+BPfM7bF8bRNeQblo8v36P0wZoM/sLiNDJzijf51kJH3sHkaZRujTjDKkUHMT/NxP/W6W5V/5BTkRHRU6Iuo7ypvIHjeRNfclrocz9q01Wng8WXYYUDGX9ou2dwoTx5816ZP812/OUnbcaNfnKRZRuPEv+18uSzfVc+GmW8ylqDz02blqk0z08K/muaDvo6uBzkT3pJuChSm8GXGF9o+1GasU1zpdZztLU17lL/blqsNtm3mLaMse1ncjN8YpuF5i7aEvksbl9Lw6BcPPfTQ9HHr33i6YaMZegjkR/Q6/KW8nPGKeYjaOQk2ncPzDes8yIHoGuhjMT7ez2dadj4ULhXM+lUgkyAWjGQRrvLTmFDsHJbvwrg2V843oTR9jBSYIEVicZPJJ+f1iNLv4m8MPpg4kK9IMUx8Psx9P7xgAgj4KV6kh1KdARsmGIkdptq9GZ8jeCEYi+jc2m3ftrz98p5iFcOiYDowXxAoqye52FE+ZTGv3+n19nxyHSmmE59X3VN2JpO4TEK5Eom4mFBg8cYuNFFaNv3WtSqcnpddy+o5ja/sOz+bfgTox/zdcsstxQDH7jU8FZQtuLLT6prcMABC2cFOCgwH6Ae4f8ZorYyaWl2yGIo1pXZvMlleJd8ZiXIWoQNBCcVNSk37F9+3bcdasE3zMOg3hhAo97mSX/BDyIgGTcTRFGsELbnyAyMmAtQRPItd8oOoSTuog9md8nYUiQWUz+U7JCkzbYy2w4SF3yyqMzaY+iMQcU/HlvTLqr7A4slHP/rR3m4vfUcfPuGEE3q7u6IBZ0w33vNtVTqKd9CVMY6dSMRDuxWhjGe3QBxjY9rxXt9wpQ/Q1qI8oXjhGSeddNJSRg/IXzxXn1Z4+BY8CMWx3sW04j0yD8ePcFSG+J3iIRxyRdrGVYZ/T8f/Exv5ZBKPEZbwVVzEjcFIarihuIgl3itWxaPfg64xjnjPd/F32g4xHEZeYDyBlG/uWUTC2CKVGWl3KGXSPCKDyWiL79MxCQyENe//03r4tTTFfMd7hUzT13PGmwPy8S2VCZHJ0nrQN4OupIVxCteIEdhgfBSVkcTVpk3E8sT7srLH/Maw8TltPD26TsaW5Ffflcn4MZ54z9m+b8j7K21D3wsPftNv6FdlcbZpa0oj5qHsvixcfBYxjM/L4tKzsnDxWYyTbzDw/2w+ZqqNR1zgDf2UKzFepR/njDEt3ad8SN9FuU5eJfRu0BXlK/xVZVB48oeRmuY1ygPvMaaA9zMGqByx7Cxop2Vvw/fhU1/MDVWVhvLGfKruLlp9M+iapkH4qvoYFFfESmFj/PG+7nuFY0FcBm/UTWrMH3/vnhtKidBJsBsLHgFRX/yRF2Tdg3OeFnccUwa8aFDXMb/cM4bqyKD4Tmn1uxK+CV9VXFXptGlXXcgT5As8UTyy6AipD3CPXH9EbvgXxyS1i7J+3JSXKC7Sivf8hqrw+vfb8v8sYMfvVJ4Yf7xXLF3LrMQb86F04jW+j3mquo/f6j7GoWdc2Q1fxhPx2MViWlOqwpV4WGxnfIWnKT/CHZni/e9/f29TVN10FU9ZeIwn6H/i90qL3/R1+jyuw0WFbJV/E9sx7+CN6GQVT8Sd9/D/1PMS+dIiO2HyAhcX/YOnY/CntJQ3vmNRn7zJiE/fNC2Pvqu6puUgXMQz3iuO+CzeUw70f8hGeq4ywTPY8Iaxo0hh+B3v9b4sb3pX9Q3P27SxQWnFdGOfkCeJ+L7fPd7AoqdghUWXHz0EyqBD77mWYVQ1ZlOeLsezNm21KY+PZS2rj1j+eK/v4rN4r/f0RcZ+SO2ScMyp07kwYdr06X5zkjbjBvnoF2fEKd7z3TD4l+FX1dbazJeV17kckVyXU5v5ZoxJfZZyRW9dMUxT/qUyEEe8j3HqvgmeTfNBeNqvPKjENOm3tHuRPDbyu+1Yp7jS67jaW5qufpdhrHfxWhYuPkvrsk252mLbdN6icsX861m8Dvs+xsXaMJhQxpRIB50Rc2LGn7RNKvyg/ChcesW7IRu/4QeiyMvZ9MFcHT1NpDZzeOls/5zrhNvmN+Zhlu6XyXf81eXNIylXPH9tJAn0iZSFICxeaWRNjSz6RNt7Rdlwj0pjreogvcAVNyzSISSihKZxd2GhXpHUwMfghWsZ8sSuw7hIUvYxC27s3GIhFSXMoPDEMc7yUhY6PxNgjktB8cdEDCOSuLMed30sGI2LWER9UH4Uy89//vM5RhbjSh/hgSMkmLyTh4XGFMeFcxfpxPO0uogvxoFBBjsPWTRHITkKHqn0WNCBF+MWkz6J1WVq+KSw8/HaFGvqhB0F8EsULuPkT3Xxh6dSn7RRFo6kVBv0vYzwBoXz+3oI4IkBGQJhWYqRel8OH4qFGxZ3kH/wBoEQz9jGMxSIddtEv5wQJ7spkU+wFI8KjKrvMDSB3zC5GUamwoCKeIgDZe4w5cGlPp7BWISKi5BVZZiW58hKYADujBGpoUWaT3j96quvXni+oQ1o8S4NF3/D56hjjMtoxyhDRknwY/gX8iB1QZtFKQ+x0MAiQT9CZsS1LrKTjiOhH7IrFH4YJ7b94plkm8ANNzIyciD9RAoTsKE+6pahrHyUCyyY02gCXhYufda0raXfT/tv+AnjH7IPsvcw/KRpWfFkIA8QixcvLlX81IlT4w28gLZTl9TW4aPRMKfq+zZ8X2MP89FxYltVhll+Tl9kfs/8mX48iOAZ8FTGB8K3mVd2xVf75bVNu+pKngBTMGIhlf5TZ2ysKsskeQljBHyMcqD/kjFJVV7T5+Ihk5BZ07x08RudDjIP8imGCBwXI8+xHI2TGgBUpVkHV7Vf9I+MIaOW+Wlni/Jj8ChDnbFcshV8vu74IF0q4yL9oi7vYE5AO8SQOjVurcK4aXmq4hnVc/Rz6IPpG4Nk7VHlYRRtDE95HE3FuIyX1TbEbnPmCRALonXmgm3S4ZsuxrOYdtu2Oil5UcdqYUyN9xPGLvKCPFCnr7Xp01VzEuHYZtwYFKfiLruOY4xtM18uy2udZ5LBR6mDmAb+BRZN8kE9MxdmLGX8qUttxrp+cY+jvfVLf1Tv2pSrLbZN5y2jKnO/eBlbWINDz4+chA5qXETayKqkjbyFIaN0P4PyIP4xaA6P/DKM3jUa8w7K0zS9X9AGF9NUEc7LeBGAweNikYkD50nhthtlHLt+MJIRITziutxkBKYRgVEaXExjeZ2n+Y8Ak3bT/EAgNbiYH6VyKeYjAkwWOYYHt4ks+EZiVwHu9SG8cWBA1o/KFgb7hfc7IzBpBPAEwbyIRRwdRzXpPDl9IxARMF+NaPh+mhHYID+W52lPe1r2ztxrbtxshM4JuRgjnWiQOc1lcd6MwCgRYNFb+lhk6+jxbpTpOu72CKQGF+1j8pdGwAgYASNgBOohMKsGF8vVK55DGYH5hQAKdCyKIc6r1pnVaSmx3jUZgWlFgJ3iw+w0ndZyOV8LEwHas8kIGAEjMG4EONKCBWeO+uDoE47VwEvbc57znGJ3C/nBs8YgY4tx59vpGYG2CDDeYuC4ySab9I47G+S9pW1a/s4IGAEjsBAQgK/uvPPOxYYeFo8vvvjijGOa2IG97bbbFsYW4IA7fJMRWKgI3Pve9y7Oqt98882LvoIBEsc+moyAETACRsAIGAEjMF8QsMHFfKlJl6MRApxXvOuuuxZu4ao+vOiii7JTTz216rWfG4GJI8CE1QYXE68GZ6AjBGjPJiNgBIzAuBH4wAc+UBx7gyHuhhtuWPzFPODq+IgjjoiPfG8EZhoB3NnjOlSEK9BLLrlEP301AkbACBiBhggwJz/jjDMK4wqML7bYYoviL0Zz4w03FMfXxme+NwILCQG8v+DxRXTB+ecP5Wpc8fhqBIyAETACRsAIGIFpQcAGF9NSE87HWBHgCBF2Kr7oRS8qziu6xz3uUaSPqxrOomSH41e/+tWx5smJGYGmCCy//PJF++VsORteNEXP4acFAZSSGFvQnk3zBwF4EmctzqoLuPlTEy7JIAQ4nmu//fbLdtlll2xRfib5iiuuWHxyyy23FOfQH3vssdlf//rXQdEU7/GEwfnRozxDulZGHMgI9EFAZ7PSTjl3m7O4TUZgWhEwX53WmnG+UgTOPffc4vzrrbfeOltttdUKrxa35Xz2L/mRTeifTjvttPQT/zYCCwqB22+7LVsmPzP+1ltvza684orstPx4Z9NsIIABOsYyntvPRn05l0bACBgBIzA5BJZZZ511bp9c8lm2wgorTDJ5p20EjIARMAJGwAgYASNgBIyAETACRmBBILDssssWbu6vv/76DHfeJiNgBIyAETACRsAIjBqBO9/5zoVh8+9+97tRJ+X4jYARMAJGwAgYgRlHYFaN/OzhYsYbnrNvBIyAETACRsAIGAEjYASMgBEwAkagDgJ4uMCjn8kIGAEjYASMgBEwAuNCAM8WNrYYF9pOxwgYASNgBIyAEZgEAstOIlGnaQSMgBEwAkbACBgBI2AEjIARMAJGwAgYASNgBIyAETACRsAIGAEjYASMgBEwAkbACBiBWUbABhezXHvOuxEwAkbACBgBI2AEjIARMAJGwAgYASNgBIyAETACRsAIGAEjYASMgBEwAkbACBgBIzARBGxwMRHYnagRMAJGwAgYASNgBIyAETACRsAIGAEjYASMgBEwAkbACBgBI2AEjIARMAJGwAgYASMwywjY4GKWa895NwJGwAgYASNgBIyAETACRsAIGAEjYASMgBEwAkbACBgBI2AEjIARMAJGwAgYASNgBCaCgA0uJgK7EzUCRsAIGAEjYASMgBEwAkbACBgBI2AEjIARMAJGwAgYASNgBIyAETACRsAIGAEjYARmGQEbXMxy7TnvRsAIGAEjYASMgBEwAkbACBgBI2AEjIARMAJGwAgYASNgBIyAETACRsAIGAEjYASMwEQQsMHFRGB3okbACBgBI2AEjIARMAJGwAgYASNgBIyAETACRsAIGAEjYASMgBEwAkbACBgBI2AEjMAsI2CDi1muPefdCBgBI2AEjIARMAJGwAgYASNgBIyAETACRsAIGAEjYASMgBEwAkbACBgBI2AEjIARmAgCNriYCOxO1AgYASNgBIyAETACRsAIGAEjYASMgBEwAkbACBgBI2AEjIARMAJGwAgYASNgBIyAEZhlBJabdOZvuummSWfB6RsBI2AEjIARMAJGwAgYASNgBIyAETACRsAIGAEjYASMgBEwAkbACBgBI2AEjIARMAJGoBEC9nDRCC4HNgJGwAgYASNgBIyAETACRsAIGAEjYASMgBEwAkbACBgBI2AEjIARMAJGwAgYASNgBIxAltngwq3ACBgBI2AEjIARMAJGwAgYASNgBIyAETACRsAIGAEjYASMgBEwAkbACBgBI2AEjIARMAINEbDBRUPAHNwIGAEjYASMgBEwAkbACBgBI2AEjIARMAJGwAgYASNgBIyAETACRsAIGAEjYASMgBEwAja4cBswAkbACBgBI2AEjIARMAJGwAgYASNgBIyAETACRsAIGAEjYASMgBEwAkbACBgBI2AEjEBDBGxw0RAwBzcCRsAIGAEjYASMgBEwAkbACBgBI2AEjIARMAJGwAgYASNgBIyAETACRsAIGAEjYASMgA0u3AaMgBEwAkbACBgBI2AEjIARMAJGwAgYASNgBIyAETACRsAIGAEjYASMgBEwAkbACBgBI9AQARtcNATMwY2AETACRsAIGAEjYASMgBEwAkbACBgBI2AEjIARMAJGwAgYASNgBIyAETACRsAIGAEjYIMLtwEjYASMgBEwAkbACBgBI2AEjIARMAJGwAgYASNgBIyAETACRsAIGAEjYASMgBEwAkbACDREwAYXDQFzcCNgBIyAETACRsAIGAEjYASMgBEwAkbACBgBI2AEjIARMAJGwAgYASNgBIyAETACRsAI2ODCbcAIGAEjYASMgBEwAkbACBgBI2AEjIARMAJGwAgYASNgBIyAETACRsAIGAEjYASMgBEwAg0RsMFFQ8Ac3AgYASNgBIyAETACRsAIGAEjYASMgBEwAkbACBgBI2AEjIARMAJGwAgYASNgBIyAETACyxkCI2AEjIARmF0E/vGPf2Q33XRT9re//W12C+GcG4GGCCy//PLZCiuskN3xjnds+KWDGwEjYASMgBEwAkbACBgBI5Ai4HllisjkfnuuMznsnbIRMAJGwAgYASNgBIyAEWiLgA0uaiB3l7vcJdtwww17IX/84x9n/JmMgBEwApNEAKXY73//+0lmwWkbgYkggIERfyuttJKNLiZSA6NJ9AlPeEK21lprZfe9730LQ7Lrrrsuu/rqq7Mf/OAH2W233TaaRB3rvERgxRVXzJ71rGdlD3rQg7K///3v2SWXXJJ985vfnJdlnfVCPfvZz86WXXbZ7Pvf/372s5/9bKaKc8973jN76lOfWuT50ksvLfjWTBWgJLOzXB8lxfEjIzB1CDzlKU/J7nOf+2S//e1vs2984xtTkz/PK6emKoqMeK6TZR6PJtcm56N8Mzk0nbIRMAJtEFh33XWze9zjHtmvfvWr7Dvf+U4RBXNGxgaIZ7wzGQEjYASmDYGZNLhYe+21swfnCtSUbs8fsPgIw7322muzW2+9NQ1SKF7Xyb+vQ8T3yU9+MnvIQx6S7brrrr1PYOpvfetbe7+n/YYFKQxGPvWpT2W3306pBtOaa66ZPfzhD89WXXXV7P/+7/+yE044YfBHDmEEjMBYEcCzhckILGQE6AP3ute95g0ED33oQ7O18vE3pX/8858Zxgc///nPs1//+tfp65H9Xn/99Qv54ayzzsq+/e1vjyydZZZZJnvnO9+ZLVq0qDKNj3/849mZZ55Z+X5SL6izHXfcMbvqqquyz33uc5PKxsTTxePM7rvvnv31r3/NjjvuuOxf//rXxPJEu33pS1+a3eEOd+jlYbnllrPBRQ+N0dy0bQMvfvGLiwxddtll2ZFHHjmazI0o1ic+8Ym9OeIf/vCH7Gtf+9qIUhpftKqPyy+/PHvPe94zvoTHnFJX45vHgDFX3DxIbq+99iq8tP3xj3/M9txzz6kpkeeVU1MVczLSdq6z0UYbZfddeeXsd7l+9KKLLpoTZ/zBgtbqD3xgdtNf/jJ1cmyT8aitDBKxmMT9tOZ7Pso3VfXbZR288IUvzFZZZZXsxBNPLIzqqtJcCM+7krPAqsu4FgL2kyxjl3XFfP7Od75zsca3zz77FMViU4XW584///zswx/+8CSL22naGJLcMzcwaUI//8UvMuZs8LHNN9us9NNb880n6BF/9KMflW4OYM1w42c+s/j2C7m8ULWpM6bx1XzOO2sbJUrB8UMjMCIEZtLgYocddsgemE8K+hGGBddcc032wQ9+MLv++ut7QWH+m2++ee/3oJtpUu5jZYzCGMLivd+kGK8cW2yxRcZE6973vnfxzdlnn11qhFK8XPJvt912y56ZM9o73elOvcc33nijDS56aPjGCEwPAvCBhULwJRSUN9xwQ7bHHnuMrNibbrppET+GZnvvvXfrdMjvlltuWezU16IfSlWUq6Ljjz++eK/fXOHTPF+IxPiGsd/KuXKQCcF3v/vdgV4N5lsf2HjjjYsxuF/9/yVXiGIE+aUvfalfsE7eadH6wQ9+cPaiF72okzjLIqFvRGML5Bt2Wt7tbncrJtl8wwRvUsTRNfRjjAjIV6SXvexl2WqrrZY97nGPK7wo9JPN4nfz7R7ZHKU9hNEzCpBhqB/m/eJF/oV3i+9SZyyE4yVlIVBb3LrApl8bQFmGYRXeRuytpgu0HcewCHQ1vnkMGLYm/P0gBNjNiW4G/VbZhqJB39d931SmRm+Etw50VOQxnTuxKHLyyScXvD/mYf/99x+pEW9Ma9rukWXxigReLHz89Kc/HZjFpvWiCHfeeefs7ne/e8a8oZ/BBUbD97vf/QoZd5YNh/vJIMJkGq+zmu9pxLJtnrqqg4c97GGFDp58IPcefPDBbbM0ku/GPUfoSs4CjC7jGgm4jrSHgOuqB0Xjm5122qmn+6r78W9+85vC4II10m223XbgZ6yPYlAfjSXQY+nb/8v1JhdeeGFpPDGNu9z1rnPiKP3AD43AAkZgJg0u6tQXSr1HP/rR2bvf/e5ike7Pf/5znc+mOsyxxx5bTM7IJAp9JrmRmLixyIdV3AMe8IClJrcxbHqPgprdpUy2TEbACMwvBNh1jNXqOeec03PFNmslhKfd//73LxbjR5l3Fn1JB7za0r777pttWyLs3jUXSqPBBbsimfhGWn311ePPid83bTsYTTA2PS9ffL3z8ssX+X/JS15SGEBWFYa6PeaYY3rGgQrHotzixYv7KgkVdj5eWZiUlwAWj2kryDYoT1/xildkGEOO0usEmOKtgPRiux0F1ijsRfSfX/7yl8VP+uH73/9+vZrYlTzgzrLM4IvFfAwu/pl7Ibn55psnlsdJJxw9r/wi32kxLPXDvF/cLGTIOBkjiwMPPLC2d7d+8c7Ku7a4dVG+fm3glFNOKZL46le/WszNukjPcRiBYRDoanzzGDBMLfjbOgi85jWvKQwbCLv99tvX+WTkYU499dSMOVMkjkmJhNykjT/xedmz+H6c98vncxXtmj366KP7bmhSvijXfvvtl6233nqFcSfy3wYbbKDXpVd0dG964xuz5XOdWySMKbbaaqvCKCI+931zBPrJIM1jG98Xs5rv8SE0+pS6qgPmyxjGMV/XXHb0ua+fwrjnCF3JWZSwy7jqI+aQbRBwXbVB7d/f4FkilZEwuNVGEjb+IHNE+t3vfhd/FvfoENElitCNSO+MB57DDjus0JEslA0pwsFXIzBOBOaFwYWYTmQiAhGm8vrXvz5785vfrEdzrikjmvMy/6HFjvT5NP7GSo2FwjaEYUq6wAgjZ0HnW9/6Vpso/Y0RMAJTggCWsvDCP/3pTzNrcDElUNbKxtZbb12EY9J9xhlnFJa/8NP0fEG8LUl45rgEdoJNG9VtO0wEXvnKVxYepCTMqyxa/NTveGWh/fDDD+8tkKKkYEwnDowIp80AJeZ91PfsAIyW52CC+8RNNtmkSPrlL3/5SL29kAiufNmt88Mf/nCkxcWTBcTC1TQqqJbpU/q3ve1txdFz5Hsh79zHowXyIrtvGWuGpX6Y94ubYwBFp59++oIytqDcbXETZsNc67QB+LrJCEwDAl2Nbx4DpqE2nYdxIrDWWmv1jC2+//3vF8dQMO4jw0VCLvrv//7v3qNzzz23dz8tN+i/5P2WuVg/L2X3ve99sze84Q0Z5WdBVTRoXMN4Xe7P+Qb9IvIicj0GH3i9wAuFaTgE6sggw6Uwmq9nNd+jQWMysXZVB/BA+jrHnc7afHYUyHclZ5G3LuMaRVkd538QcF39B4umdzIAjd/t+Pzn97xPYChRZ8PVeeedl330ox+N0WRssiZ+jotChnnTm95UeLBF/2oyAkagewTmhcEFnhlkFIBww6IP3i1E7J6toksvvbTYWVv1vulzPEQwGWORpIlXDRTELErhVjB1V103D+kiV93vOGcuGlswCfzUpz5VLBTWjcPhjIARMAJGICuM3qR4w5Cg37EPUbk26wu1T37ykzMZmtAOGP/+67/+a2CTwIMFYx+CPkaDn/70pwslJM9whWur6/9AiGzwoQ99KANrZJ1B+CITPOIRjygUPhhPpoRXBrxXIK9UuaimXdYxtmDSRlq06dSwKE237LcU13GHUVm4qmcY/DzoQQ8q2s7/+3//r/YiO26wkRHBoJ+SvSpdPf/JT36i275XYf7jH/+4lkEvxi633HJL1haXssyg2MeQCVfWcedDWVieNcEWl5Z1COMy8gAO7ILpknDhK/re976n29Jrk7KlEai9V9UNRkTI9vSfsv6F3M0fbafsfZoe5SLN3/72t1N9JnTdNpCWL/3dtK+k3+v3ID7InI0/+kMdt+3qP7TdOvWmfLS9ggN1z/ywjkKsaXkG4dMm38KoLo8hDXZbsaOL40BTeYjy05eQK5qML4985CMLr0RVbbLO+EYfZTMD6aaLyRGbQWMAYxx1Ce9rggtpDDu+xnySPvmg/dbh/6pLjoqowjHGH+/BjjqFB5a1XY4qo2yMv2mdx3jiPe0E2QcMy+KMYbkXdvRVjqprkk5VeyT9RYsWFbJVXeNCxnLGuibtNy1L3d/D1FndNB7/+McXQakDjntMd1sqHvAukz/1ftaueOyTRzbKRh/CYKIfIa/vsssuRRDGmFe96lWZZBPegR9y3rSTZBo2EyD31Ol/kxiP6vKpLuVQYTOMvFc333XbCboI+BRyLvyyDu8T7+hSviH9hz/84Rme7+rqxgfJJU3bFZjVGfsG1QH5Qhah7ffT2ePtcJDHQ2HdZmztsu32a0+D6kFy+rj0CLThUegkVM4mbbQfbmXvmrZZ8ZQm/JZ0m8pIk5Sv28pnZfiO8tkwugLN3ZH9qMtJE3LooYceWni2R2+GAQY8Dd1Zl1SXV3aZpuMyAtOIwLwwuIjAwsiOOuqo7IMf/GDv8aCJUC9gyxt2KL/uda/LnvCEJ/SO/CAqDBe+8Y1vZEceeWSpEQVHfzzvec8rzihnwBExMT3uuOOyr33ta8Wj4/P7FXPXhZEQ0jCKYILLuYsiBBGsaVnke/aznpWttPLKelV5fc5zntN7hwD51re+Nbv66qt7z3xjBIzA7CGAojMlFlfjcxRFVYowlEAolVbOeQgGbSiH+k3WiRuhDWWSFi4f9ahHZWuvvXYxyb7kkksqFXLwaPjnGmusUSi0v/nNbw5USqJIeNrTnlYssl555ZV9j6xIcWjyG7exeBRAQMVArwwv8iLXb5RBxAQ04o2yvh+G+q7OtWn9MGY86UlPyjh3j3pnbKoSrmOelZc6bYfxg7aCoQnHpQw6t3T99dfvefUg7Oc//3klV7SVE044offbN/9BgDZI/dPu+FObQm6gvf46n9TdlBs+sDiLbIECiSNIICbiWLPTr/lWdOMNN2Tv/8AHMvpepBNPPLGQUWjLyDkQ9ab4DjjggGzPPffMVl111SIt3pMfdgrVqb9PfOITPS8vfMv5kcg20Lve9a6BZ1tj5IoXM5Q+ItohiyDveMc7ioUcPdeViTMYgE/0voJBCx4RzjzzzCIofOmkk07qlYuH4Kv8cT4pbh8xGsLIl+9f8IIXKJnstNNOK749M/dy84C839H/5NGGQBgTHXLIIUst8jJJJU4WaCQbgilHMVDvLCKSLukPItyQr7POOoXiD6wxsCV+EfX+1txDBwtRKTXFlh2iL3rRi4poaCu0GUjtEn5z+eWXFzJrzANyO3Inyoi6mBcRJ/9YtMBldyTKDKV4NS2bcETm5nzzLbfcstf3kOMpLzteGf9o9+zsoZ2JMERCwYES+7WvfW2xsyRiQP7e/va3l+6GA9ONN954zqKO2gOugVlIHAY3jlx57GMfW8xZmE/Qf0QsquFpB+IaFZ3wD3YDc73qqquK8qVtgDa8xx57KLriilxBH2JMpT1Gor2DZd2+Er/VvdpbPz5IWM7rxkgw8gDqj/njl7/8ZUXXuyLL4FUIrEXIOsgFZQRvhJ+l8zSF5ZhI5Ia0bfKePk69L8oXS2L+6KfsbOKblJqWB+Uv4y48RURe6/BtheeqvsHiQl0eE8cQvuEINvUHeJ/moIxT8HfkFhFtH+MG8k59pbTppptmm222WXFEpsY49ReOLotGBmXjG/HxHX0YfhJ5NvN6ZNnjjz9+zry+agxQXG/MjxGgLSg/PKf9s/Psoosu4mePIjbDjq+KFPmPRV76I0fbiZAl3ve+95XulKO903dZ2BFRfvg62JP/SOp38Dj0EM94xjN62MFTkEOoS9ozeCEzRGypc9p2jFdxMv9goY486RvivPbaawt3yGXtgKOlyD+yq8ZR8kv+jzjiiDnGIxHzfu1xzTXXLBbHU0yoQ/KaEm0a/spio+qetnjZZZfNyVP6Xfz9kY98pPB+EJ9JBoH/Sl7hfdM6i3HWuWdMU9nVJ6kvDFdFyEEcvdYVYZhJuSD0YmWySkwLGZe+RvuizTE/LHO1TTtUvuMxKPDDuFCKIUT8TVrwyQsuuCB773vfW8iSGww4SgR5mTZI3XMcTFx04R7ZYJqJOTAG8MzxRfQ/5AF0nGWGaJMaj1IZpI0cqjJWXUch75XlG5mQuTTEWMWxsCL6IbIK/BC+jEGP+CC8RnJU5H1R1lY8utLHmsg3+i69Rl7K/IZxBx4sYvyFV37xi1/Uo+IqXt+13NZk7CurA2WS+SIbOpFJIiGLcQwRhqIiDPI+/OEPFz8/+9nPFvNIvePalE8LmzpzqJhOvK87R1Ba/ephknqEMpkttrmmMhNzQeQZjQVgBn9HNmM+D89jvIbPtaWmvLAJv1V9tZGRJiVfg2MT+awJ7pKX4InUH2NupIMOOih7zGMeUzx69atfPXAzS1tdAfNyPN8h86b8j3kIupBJ0xe+8IXe/Jy5fpVOuGk+m/DKpnE7vBGYRQSWm8VMD8oz1lqR6u4+iN80uUepj1IsJYRgFIsor1CMR6telP248ikjhGjOhWRwZ5C/Y1DapuE1gec5Cmt2vmlw2WijjdLgS/1G6IvKPNwToVD4n//5n2IHCUoTlInTMDAslXk/MAJGoBKBs846a6l3LC6kXgiiwRUfIBgiDGqSr0gQXvEmxGJTGbE4yqINPAMlIO7KpEAnPEo4JrPRqwNp6bs0ThRlHGcRla8Kw6LQy172sp7CkgVfFPAoyEmnK0L5+/SnP70XHUrz//3f/82Y0EVCqN97773jo+Jei316wcLcsLvbmtYPCzqMQTIIUV64Uqfg/5nPfCY+ztq0nSuuuCLbZptteorNtP3MSWDJDy22ocyMxhZlYf3s3wiw40Feu1CeabznrcbyVYPxQcSNhXf6ZZQb9B6jTtwkc/waCyYixRn7crx/y1veslR8xI8L6euvv74wvFBcZdeyvCicFlb0O72iSIMnRSUwYVAwojSn/7IwFtsWxkS0+bjopHgpF7yFMmMsobj0Pr1KkSk80rLo/XNzvpu+Iy4WVVGKouwRUWaUqJQtEt+vu+66vUd3yvNah9hZAdFu4I8pUe9gyKJQXExvg200MFC7IT3ds4OijC9QVyhmZawh3NK88rvfu37tRXVEHG3KJhwpy3Of+1yimUN6j1KzbCyAb1PP7GRDgZMS7VIYRIMH6iad0/Ct2gMKM8YlqB82/d5hZMXYDX7MS6LRFYbhImSF2EYwMFG71jdpG9B7xRGvZfUV23gMW9ZX4vt4r/ZWxQcJy1jFwldK1B8LBBhwxfEbHMr6D20pusuP8QmLKgyWy/GGYtvkN8rsxfmCdBk+LD6yQM4CXjS6aFoe4oE/pmmAXWogQ576kdp+Ex4Ty/z83E1uGcHXMd5MeTV4YjiAtyfyGr2MbJAvfJbln29oW7Qj5EWR2krMD+9QlJJGSuDF3JrFZvU7wuj7srpm0QxPDilRPozEWBzGu5dIcfF72PGVOMgzY140rOE5hL4BQyoWjqOREQaEGNKkfIO44OEsJiEraDGTuIQluKXYEQ/tmg0xtJd0zOZ70kQGQSEuUpxSkOs5V+KENzJeclxDlP132223LJ3b6Fu+oV3xjdpOxLyqPaJExlgurWMwwciHeNHtiAj3gdwgLt0ww/P11ltPwQZeib+K4rs2dVYVb9Vz2gntNRL9M84ZWFDdcMMNY5BW9xipwOsYOyNh5Ab/i3Iq7+mXtB/4UErMO1ksjeMXPD32YX1DmpG+/vWvF3KznmHkCO+Mhlt6V3WFL0EYpEdji+LhlP9jnGTBMCX6H/wUXSVeP+JcfZLjkcZd8iv+Ee/ryqFpeeNvjXldyntl+QZbeCY8A30Ihl0yqmAhT/2fObyek09kTfhVSowBHCHNuBINBNrIN2nc+h15adlx3pQT/Q15icZiqqsu5TbwaTL2ldUB5YK3g2nK+3mH7I68xhxKHjlVL7yPePC7DZ8WNsO2XfpsFemd0qqqh0nrEZS/iGu8byIzUa/IZ7G+wIc0orwf46/Cr+p5U17YlN8Kj6Yy0iTl66byWRW2Zc+/+93vFrI+dYpMgFFBJMYsiPGqyjulwg+jK2CMgGeoXylOeAyGHhg3lBmCKtw4rhgWicp4m941uTbllU3idlgjMKsILDurGY/5Zhc1ij8sHJkM77vvvvF1Yd0+50H4wUQO5WfZX8okw2e9WxbeFiXGFnEBhIAwXQQxEcwoNbZgMsjiVyQEUggFbRSkFYZnN+U7PkQsbqRp613VFcwiscucRVGUJex+wviCBRomsSYjYARmBwEEORTy/GkBBwWRnnGNE26VjEUGLYqx++36664reBPCK8op+EM/ksEYExQUoCjHSJ/fcTKLsH/22WcXCz3Exy6ia/PdauyUITw8OVW0EY7JBbsw4JfwRhET0ahI1/O2V/KLsQUCKUYkf1uymw8BngldJAzdhGv0gEH+9BwDkvguft/kvmn9UB8ytsCwAXeJ4EzdUKcobWT4oHy0aTvg1HTyoJ0i7EBjzGH8PvXUUwvlP5PdriYAKtesXdlxgVKKP+QcxmIWFzTBZoddFdE/MJRkFzUGVFDE9JOf/GS2S74jCjlDCy3IPJI7quJNn1NHKLEx+CR/iotw2+W7lgcRilwUDOJR3/nOd4rfPOtn6EnbZZeqFm7YLUV5UErSR4iP8jCxVxjyQlvXAh6LxCjheaZvCIOCBELGIh/84QkCYuemntVt72DEdx/IPYigmGZxQvIeC91RmUP+meRD9Fd4DTsL+VaLQ8XLFv+QD/HYASYYerCDCSJ/e+cLf6K22Or7qiv1AZ8Aaxa72JkjAzzqBHl0GMxp59QNO9BFLJ7xTIuwXZWN3UQYssWFUqVJ3bIgCc7kiTEAot8yrsF7OTqJdkef0W5g2umzcs90IhaImS9AxLE4V+rSX1gQ0uIGYzUKpGFwizvs0zkBymGRXMjrt4wj6GsXX3yxHs+54ulG/UUvWMDiGYbdZVS3r5R9mz4r44PkW54BMchH+UV+MHiRAgqjGhZTIPqHjIH4jQEXvJQ+9JWvfIVHnRFtQIYQ4EpfASdkL3gjRBuW1xF+Ny0P3yBDEQ/EwiXtEN6EoZl4cfGy4b+6PCaNFl50Ru4JiLaNIhJeIcM48oOXIPoyvFDGPWBFHxPRD+T1hz4GjvQXFq1+n8vDEGOpeIG+S6/0KRkMwJ9QyJM2/Eo8mDAc7TWIkGlkbIHsxfhKnjCkIo8Q9cfcu4yGHV+J82258QjlhpC1wAxZmX4vnUFsD3gGQLdBHfAeXkb54dl8DzFmsTGkiujDLOyRFm1Ki9N4iKLeWHTGYIZ4wULjIXJO2YI56TAewm8ZI9noAs+DGDtoFyL6rQzF6M/wYNKhTDJ4Jkwq9+p7rml71KIa9UGctE14BvWp3f20mViP8BgZW9CO4N/kk/yoHcU0q+7hPaQF3xTxmz95uuiizhR3vysu9DWnEf70Tz3jqkXHfvEMesfcgHanOaDiJy3kI3axav6guPAuSNshDHMtjPCpb34TD/FhxCGK85xoBMG3So+r+K6+o77VnvVs0FVzXxbG8cyIRwvmOrTjKsOgQXGO4z08AO9DELyA+QfjETyFOS1EX4I3iKZpPFKe4rWOHBrDD7rvSt4rSwfdArIihPyIMSiEblZjFG30Yx/7WPGcf/AkGVvQduFzbPZgIwx9AR4W53mjlm+QDZlnYVwYvYHBvySD9DK/5KYLuY2omo59aT70G7zACUKmpb0jM7HRBKJNUcZBNCyfHqbttpkjlNXDNOoRIu7UU12dRJR7GNskBzOu0leGpaa8sA2/jXmsKyORzqTk6y7ks1jm9B4vpSI8hUTCKEX6M7z89qMudAXgjJzNHJP5JXMAiOfoqyZNcb6PoUoX1BWv7CIvjsMITAsC88Lggh3bKL6weMejhCY2gIzCHiVJFSG0ouAp+0uVi2kcKA2ipT+TERQzCLYsPkiBwHfsJkKRAKULlueee2626667FpOYOAlHoYGShF0mTNKlGCEOFjF5tnviqpd3TUhKmEHfoFjabrvtBgXzeyNgBKYEAfgiiwb8aRGBRVY94wpvicQzudVD+c3Oze2WKPZkcBAn6vFb3eNKEV7FzoYNNtigUHziDp1JqhaJCIvyEcEbQnmGYIwiB1ftTMQxCog8tAi45B8KL/K21VZbFXwJfghJybok2NAXlKTkB2XtJvkONrmyxehCikASufDCC3u4xt15jAXCG6WV8tk2Y23qhwkYilrGC3bhoQQGZ+qEdxC/I7VpO/H7uvdSrNPmWLykfItyA0bGZRT1uE9l7FyoxCIbCk7+WHhn8q6dVcg1cXdQxAhFATIIixNM9lCA8x0LEyzyMNFkUkr9o3Rm16IUyBhaNiGUFCz+odhDuU1c6ud3T7w0NIl3UFh22bB4AyHnsYhBeZCh4F0n5u53ISbNKFVEeAcBA3gIym4MVckv38idIt/EI0r0bdsrii4m3HjHYYEXRXtclNCCHPFrwR0eiqcEFvb5nm9ZvKviiXXyhnyKe1v4EDuTXx0W+9nNpDK3xXZQHtQuwZpFDRauuRdJSazfo7h2UTYMZuiPyO4c85ISC4iMd+CMIRALv5FomyjIaXf0GRbVRVKi8xvDbNoqfZP+jMt9MOTIQIwVRXUWfhW27Eo+ZPQRDSzgvcxzRIx5cZFLx2dhWBjnLgrf5tqkrwyKX+0t8kG+iQutyCna5cTuY3nwggcwfkMskEtJx+IBvBePhTqaQIvQReAh/3EMgzCHv9M/qH94E21A9YS3AC0ANC0P/ZxxFoL/syufdghvQtGMe+y2VJfHxPiR9eBF9APaNm0JGUBt7fvf/3728fwdvI/2QRqSacFLhNyIIhNi7KReaAN4inx9vmmAe4i4+1HcEAG/xMCDtOFXGKyJOPamH9GG0ElA1BvyNniTDxZqGBOUpyq5etjxlbYkA2righfBl1hgxhhTi/jkVXwEj238hjBWgZdRfng238fjXlg8Tom6oazwRtKiTRGHiDJTP8jNxAsWcVFbOxAVnitxstjIWE/7QIYBM+GHPCuiHISHd5588skFDyYdxtzIiyOv1bdcy9ojmIgHMH7ryFfqE0W6CDlbxLE2EGkzloMb7ZcxAWMVnndFw9ZZ3XzgGURzGu0cRe7SM65lHp7qxq9wtA/4G/XLhh/Fj4E4z3hHmEi0b/oruDM/1EIzfAGCN0RZkLaveGWoRTju9Zwrc5NhKMrUzMGQD+Bb8GA8nSA/k4ba1zBpdf0tR62IF2DAQp0zHuENlzm8+h8bHkTTNB4pT/FKnhlLu5JDu5L3Yh7jPeMiRhUQYxdYo++GKEvkP7RxjYnIdZSTK/MJ5Al4G8TYqjobpXzD/BOPMMyzmHPhrUNjDu1dfbPI1JJ/qp9h5bY2Y1/MR7zHUBpi7MFwi7EQmYm6lx6ljj59WD4tbLpqu7GM6b3SivUwC3qEujITcrCOxaJtMrZIDsZIlHY7LDXlhW34rfLYREaapHw9rHym8lZd2SBH/4QYYzVP4nc0boy6B96l1IWuAENx5GzmmMwvMQAT3f/+99ft2K/0Y8YQzfdpOz/60Y86yUdXvLKTzDgSIzAlCMwLg4t+WDIxiMy2X9im73SmpL5jZ6d23qA8QFEeSYqJU045pZgoMlnkj98IyQifUvjrOylK9LvrK7ufU2K3EwoBCZF6Lyt3/fbVCBiB+YWAFhgwrmD3uIhdFh9domjGoKLMdZ3CcmWCBg8RoWTUxJ9n8GTxQ5SQTGAjMTnHCCDuOorv2R0k/kRYKXOjEUQM3/ae4wgkuKOwkDEF+Z+EAVqb+qHusNpnEhoJAVu7kmX4EN+P417GAxguMgaiTEfxKOU7bS0qyMeRp1lJA5fN8oSQ5pmFMy2K6B2KIvoUCh8MDVKSe2YpV9P3Vb/LJq1y29w0rqo0yp5rsQulEP00JRbDUTRCcVcji1xgwG4rvo0UvXNEJXkM0+aexSHxK30f02LXE0Q/lLcL5EflX9/A6+QRQs/YUUtZ0j+McyJRVib8KcX6E19vi20ad/qbdpl6VdKiDWHjOerpt139HrZs4MiCWxXxXvMAhcFQT3XJnCQecUMYxkq1xYgBRkS0VfotdR8pnuVdR9Ebvy27V9tgTiCjdR2VwRjIeAHJYJy+LYOnq666qizKVs/q9pU6kZfxQb6TUSm72LWQofji8VryLiKlFHXEuc4paZdj+rzNbzzeQMgbOtYoxkP65BkjF5VD17rliQYF2iEf08DooQ2Bj9pR/L6Mx8T3ZXnQ4j/hmCOnpPk17VAGKqvnx3xA7LyWcay+Y+GfBX6wq5IrFTbu9MIALvYv+i7GoPzJqE/fpdfo7aCMZ7BYr7GSvoQMlFLETu/0TZ3xNeIYjUUUF8bOeP8AF3l+UrsHszIPLvAlUTrO8Jx+F49Q5VnsV+g50jqI8wWMiVIiPsniescztQPGTcmTGNjAN/lDDohE2xAvrpovlLVH6WIwkkjjRMGvcRlPGBCymcZy+gRzoEjkA69+XdGwddZVPrqKR+0WeSHuiqduJdsqjNI877zzCtk2bSeMnXhqhGRUqm/GcVXdkBb9hbEUwz74GjwAQkZlnjZtBF+QYRCGwdEolkVKvK/AC6MX3GkZj6qw7FIO7VLeq8ovz9GfSEZE/yFeTTuSwSjh2NincUTze56Louwpw7Y28g1eDtI5B7/TMSmVhckHno1EZUZvXcltkT/UHfuUr/RKW4cYYyQXKwzeougDYDKIxAuGGVvHNYcqq4dZ0CPUlZmifFa2eSXKJIPqtep9U17Yht8q7SYyUuwb45avh5XPVN5+V9KA0NXG4800v6L/YVzTj7rQFWAoHok+JVkR/eY4CCMTDI/1h6cj6jx6t8CwmjlnF9QVr+wiL47DCEwLAstNS0aGyQcTV5gnhOv0qBzZIN9hzSQh3cldJz0Jt1Vho9KKMKmSih0Q0UuGJiowXCaEWM7DCJn0V1m2j8pYRGWSQkC/UeZphxdKVxi08kAeUYSkil9966sRMAKzjYAmB9fkOwpTYhKjIzvgZVJ0puHYVRbP803f8xvlpZQCg5TWZd+nu4qlXK/io2Vx1HkmV54Ky6I05YNvauKsd+O4DlM/7KxivGFnC2MO+GthjXuw06LaOMqSpsHYI0UMC+gomPAkgkcCDDJkhJF+N59/s/NNZ6QzDrPjHGUPSlv6EAsfKDwHySoRIxYEUA6hbMPDTNd9hrQ0oYzpdn0vIwoWMiT/pWkgqyD/pYYptHsWscERIwcwED9K4xjV77goIBlLO85IU4tqg9JHmVC26IWshgHTIEIhKkUhfQ0aBttB6aXvqT/aL/gLhzRMl7/HWbaYbxSVLAxzTYkFjX4YwLvxtMSiLGPPKHBCEc98iXqgPaFsfPKSHfy0EQxBUFaxY59FWq7qMzJ4TMvV1e+yvtI2bsZt4Xe/vI+UKeIVt47iuveS4xgwlkkNpxS2q6vkChZjyxRgGGpFY6025dGuPvLcpbFMFQZlPKYqrJ7HhRiOgkgpzl3h8SzC/teSDQRVc9R+3i5j/HhCwCAAXQJ/eJjiSCnkYgwH0o0R8dt4Hz1pVBnlkG8tfC3Kd+NpvI/xpPdNxte4qBC9KilO9BEvzT1FRFK7l/vj+I57FgUkB2s3Wxom/R37cGqMQdhogCG+ksZR9psySYlOX4hlZPER+YixkDE/XQwsi6/qmQwp4B1lcxYZe+hKmxTFPOlZ19dR1FnXeawbH3Kp6ood8inxDONQwhA2GrMgy1Hn6OcYs7QwLRlQxllpnKP8rbIoDfInTwMcFYe3KvK6xRZbZHgQmTZCl4lMQDnYoQveeLtAZkhlzFkYj8rw7VoOHUbeK8sfYxrtBL2x5Bd4Ziq/xDHnmc985pzFxjReyftt5Jsqb6LojAcRY4HGj2hg3O+7Nu2qzdhXlQewl+cePFLjyYjxEV7EX5lcXxbXKPh01223LN/ps1nTI5TJTGr/lK3MUDgtc9PfbdosaTTht3XyVCYjNBsu+wAAQABJREFUTVK+Vp67lM8Up67oq2UYhfcz+ijGlhr/ywyJ9a2uo9IVwCukg1Vao7wybqcyiNLDOAJPLl3qV7vilcqjr0ZgPiAwLwwu2B0dB0sUJLjw0aSdQZVJcJlAhBUcYcsoTuLK3qfugGTVpbAMmpyJKxKj5ze7x7WrUe8ncUXojRR3zaFcxAIwKucYpKuUWTEe3xsBIzB7CEg5hUI1JRYatCiEYriKqhY/Y3jtqOBZaq0fw5XdlxkFiLeL55d91/QZix1labE7DmV/2S68pmk0Dd+2fph8DFKMo7gsm5Q2zWOT8OCrhROOu4mElxQMLiAUJ11OCGI603zPGMyfiEV4/uiHeIhBpmAHbt0FTxZ2Dj744J5sRLxa7GVC1mX/UZ5HdZXxkfp+WTpa5ImTTRRFuLWNhib0dXCg/DFsWZyjfCaPAaShowMGpUd7iDKawuOGvw5FXi9j5bbY1klv0mFmqWy0R9pq5N30fY1LsQ0PiyvGhMRLnCyu4DJ8xSVH9jAvIA8sbKIwxkgJd6sQ/Y8d3rNCUfagr8d5WVoGvbtrXl5o0Jww/b7Nb+16qjsWtymP+jn5E49sk9e635TxmEHfaoGbcKqHqm8Ii2cWjV9x8b7qm0HPOVaAXdsYe7LARV946lOfWvyB2eLFiwfukIt8ucpQJ2KDQWUdg4tBeY/vxTs0xsV3ZffwRy3o9Wsb9HtktzIvmWXxjupZNN7AmFjGDRhUsjgZSbJOU74Jv5NcQBvr1x6FXZwf1B3LY16b3M9anQ0qWzRWKRtb4jMMj2X8D+bs3tScoiwd1WPZu1E9ix4I4OsytlB6eFRhMZe8Mb6mukSFm9SVuRh6P47wpO8wV2Tc4Q+35BiNaMPZLIxHk8Jx2HQ5hg7DW/GYMg9YLPKKZPyl3+lVvLuNfMM4lfYz/DOlOuU0Tf2WwQW8tQ61aVdNx75++eBIR8ZD+im40Q/gU/xhsI43kaq1BMU7X/j0fNEjyAiP+pGnIdVVF9c2bZZ0m/DbOvksk5EmLV93KZ+VYUCZ2YwND6CPwjN1xBvhB20KJMws6QrIbxVhIB6PvUSniLEYXo/r6Our4q163gWvrIrbz43ArCIwLwwuUvBRtlyXn5fEmdQQE2TOtIuu1PQNQl9bJRrpLAoLj1KUKW4xa/2W8mKbbbaZY2wB88NgBDemWCTHOPXtqK5M7OLAy66A6AIOd/RRaaQFv1Hlx/EaASMwOQRYzIGkuK7KicKVva9SLMew8ftJKMBiXtreo7wdNwm3JvWD0Z8UD+yMxWsHwjYK86c//enZ6173uqIYk6gHxl6UNoyNGh+FKeMr5aWsUYmk9wv5iiyjI3kwgqxjcMGEkyPMwJO2i0vBCy64oKcgYxcxi0uzQvAZFIr9Fk9kwKAFasr2lre8pfcNx1mgoJdCAk8Ce+yxx8QgiEqfurIW7s1TF+dNChCPTmG3M9QW2ybpTirsLJXtZfnOc/FuDCLYoa8FWfpzaqQ2LKYoZlCmwlO0OwgejQcp/uAbjBMYebE7Cerq3Ndh8173e7VxwjPXwbCkiji2A7ol5zUsDMgjVFX4Lp5j0Alf67eoG9NpU55okEA6OmIhxtvlfRmPGRQ/8gl5g3cP2jWLl44oP2ghaVAa/d7T1g855JBCPmFezhGi7HijDRD/u9/97ozjqfptQKD9aJcc30XjSaW98pIjKPhd13OGvq1z1eIt/IK/Mq8pMR7ak+SuqiM3CM+iKxTbUvFgzP80xpOsxk92MrI4DNEu8Jz29a9/vfjNP46t61e2XsAlN7F/cPzK53IDtCoSvrFd1F1UrIpz0PNZq7NB5Ynvy+Y68Znw5huOWmA+Qd9lnoPin3rg9+tf//pCZo7fxnRGeX/dkuNMSEPGITG92O8ZV+MRKjFc23vKD/WTlXmvBXrNM3km+kTuGp0/PFsx92AxUQvPGF0grzIPmYXxSGWatStGgPBwEV4WWOiPfSDqX/B+obrXN/EqL3pt5BvpDWJ8Te5lrFH3WKU27arp2Dco/xx3t/vuuxc6c47W41gGZBvqBBkBnf/b3/72ymjmA5+mrPNFjxDbFLwsypCVldjgRYy/7lxD0dfltwrf71omI01Svu5aPqsqO/otvEnRZvEEKu8/yKzR0Lnq+1nSFVSVgecYIZcds1P1TTSa6ye7RoOlqGMj3mF5ZVXe/NwIzCoC89Lggsq4T1Bi8Luf0Mn7NnRtbuGrM574nklI3K3NYlYkuefEQjkSrtO1K4MdZHUMLrqaNLJTQO5MyRM726LBxRprrBGzWnqe65wA/mEEjMDUIjCIbzD5xXAsGmGpMNEFmhZ99K7pNSqdUNxod0zTeOqGx/2s3ObzDd4SULr2I4R0lAJR+CS8FkKiQrVfPHXfScklpVfZd23qh3OsoS/mLuLf/OY3z4lW7i3nPKz4MajtVHzW9zG7vRDaqxaXlWZdpUzfxObRy7jwl7bPqmLiAlY4cyRAmQFq1bfT+JzFFXZqMyFM3Uorv1qsZqcDRJ+WC1t4AK7ip4nizsfo8nOUeZQ7dtLQmaZtsB1lHruMe5bKpiMJUfy86U1v6hKG0rhY6GE+wFiPkToUx2rciLOAzNmvWtRmXJklip5fMLSqY6z0+3zhfKV89zx8hvEZZWUd0rwTvlO14J7GgyIQBankLckFCseYzeI/hMFYm/LoCDbiwMgOb4yjpDIeMyg94QB2KE6FZb/vqBfqR3w/DctReBzbhNzRT+ZkRxx1QPtgMZSFRBk1vva1ry0WHckXR7QxllYRcjJzaojNDGU4PyLvbxDlE/8tHnT0j7pWHig7hluRkLEwoKI8GK4g14IjbR3FeBnRBrV4q0W7snDjeBaP4dL4iawv2fFVr3rV0McAsaCptpVHXItnsHtQBM+M3kP1vMvrLNWZyi2jHf3WNRogsOFH57HrfXQFL5yRl2TchFEtLsQjpRug4rtR32NoJSOm6F1I6cZFja4X/UgDXsp4DW+kn8cFeuWBqxZQonclvMbAB+BPGCdiuCTjJeQAjC2gZy/xtDcL41GR4Rn7R/veID/yDZInMtrNy1/+8sILWvEi/4eMhlEMhH43en8uHpb8ayvflERV6xHtTAYXMooY9GHbdtV07CvLBzof6cIZ7+hP6I/4w+Dive99b2GILHm9LA49m0U+rbxznU96hOgpCRk1HtUXy9z2vk2bbcpv6+StTEaapHzdtXxWhQHzBozSGPO2yA2kZHjST/aPcc2SriDme9j72G77bXaTvEV6ktm65JXDlsPfG4FpQuA/prLTlKuGeUG5woSAP1wGsfMkXbSqI3Q2TDa74sor53yChauMF2BSWMBG0hmuUlTonSY3KDGiYor3UhoorK4snGjhT8/aXLGOjoRwKmUV517FXSAIiqOYDMb0fW8EjED3CGhRVpPGqhS0Wy26wlPY5z3vebotjjXo/Whxg5JMCwmchzlqQtGOEkJ/qdFbVfrbbbfdnFfsPpKiQALmnABD/NAue40hZVG1qR+NN3grSglF+yCq23YGxVP2/qtf/WrxGEzTcrN7RDRru6iV71Fdd9hhh17UcUG097DkJnrgktGBgqEAG9cCv9Ic9sriEISMVMZDUE5KRlJfpdySqaRcjvlA5hEpnH7/2/dP1nMtruddXvEmgJwF0f6jYQ3PkM2iTMazukR5yibPWwe36zq2pw22dfPRJNwoMJ+WstXBQQsx6XyGb58XeEBXbfWSSy7pjctaoNJCM2leeOGFXAoPfaTJGJ4uhhUBBvzTmDQg2EheM4ZqN856661XGGylCWGEEI8juPrqq4sglBlXuCmttdZa6aPiNwo7UWqAj6L+7jnfTUnG93gS2WKLLdLXxU5t+N0uu+xS8KI25Ynz4R2f//yl0tDCzlIvBjwAn7o8ZkBUvU0IKEv32muvpYKTFt67otGoZBx0AZrH6kPwPOigg4qx4oW5ErYfsUjPLk52zKfGxyeeeGLv06jI7j0MN9GN7wtf+MLw5t+3LILKU8wfc2+To6DowaUsDxjkogCnTak8WohgcbhsESl6gYplHEX+FSe8MOWD/JZXLuRUeSuVYSnfpgvcGF+Lr9K26pLaFu0hyqb6Hn655557Fsp9nuGqWbIz8w7NGxSe9hnzqed1r6lHummss6qyiP9yRE8ZYaCgMJtssslSQfQMIwDVeTziNxqU8TFyYFwcWCrC/IHmX7yr4udl39V9JmMqjLlSekoYP8T/0zDD/JZRinhmWVyMdxqX1ZYIh6cYeOH++++f4QEuEgtXqidtcpum8SjmdZbvqTcZ3CJzYfQnQwVkmDh3jmP7Syq89VHXHNMpaivf6Pt+14eUtPc4DtU12GvTrtqMfWVl4agv+gB/++6775wgjAvaTAlPLptXxg/UtyY9tradW80nPUJsH1GnovrCoGwYatNmm/LbmL8mMpLGmUnI11Hu6Uo+izjoHvkLAzRIHu+5/8xnPsNlIM2SrmBgYRoEwBhHBu4Y90uPFqOg3UR9GR76oS55ZUzP90Zg1hGoP9uc4pKiLODMK/5QQsUjMMg2zEPCaZfFQIkfhUWELbxV4KL6ne98Z2/yQppMtnCxA5GfSEcccUSGEodzEFPGFoU3KeL5FmaHuzjcTqXfxLgH3bPbRQMvYVEKvO997yviRXkQ6Stf+Ur86XsjYARmBIEbb7ihyCkGXRgfVBG8C2KhL3pDYEfRTjvtVLzD6Cp68ikeNvzHDhsZe6EIwzVzJBTm8Dbtoo3vxnnP2CKFPsqog/OdUxDC6Omnn95pVqQUYwISjVtiIm3q59Z8ERdiZ0JU+r7yla+s3MEY06zbdviG+Jn0pRM/xig9j0ru448/vpfUfvvt11NWE5YjLiAUTF272O0lOuU39DsWsPjjrGoUzUfmco6MI1BMy5BzUFE0ISIchqkoT1GecHQAY77kCJR7k+53g8rC+zPPPLO3c3WjjTYqXEcig5F/JoKctQuhEFZfZQFUu/vAlMUmFkpQ/GOoGxcL4UGRdA43Bg8ozUlnFKQd95TlmGOOKfLEPXlEruS+LbGAKK9s7C6lj7FzH0JG1aJAG2zb5qnfd6PAfFrK1q/ceqd5C2MPyl7aJOP3Pvvsk22z7bYKlrErKlJb3Jhj6BgN4qPvRKUkCyzqP7zHc4wUM/weRHLNTxngMaPqQ4PyIfeq6mOSiZhvYWTJ4hKGFYz/EPxDC0t4NXh+bqTAYi9GE+zwlavaNN1oKLjjjjsW4eh3KHIPP/zw0r586qmn9hZqyYMWuZBDmJOJR6G4F55Ny0M/v/baa4vsooiED8AHGXcx8sB1eVuqy2MGxQ8OmvNukBvPkScZoLHAdNRRRxXj4dFHH91biH//+9/fixZeyZgJMV4yN5f8c2l+tFo/0lyX9klb0KL+KqusMmfBJfaNsvjAWUZs9NG3ve1tBcaExbiBcVd94BOf/GRZFEM/Q+Esj3TgxjFF4ED7ZeFNRj20b+3wPPLII3uGV/Ad7RIGf8ZVGRzAn1S+oTM6IALyi45H3g0wfKDuJU9GjwYqL1G+4Q1vKMY88Kc/0daFeRPjRdISseBJvyQeeAj48B65AzlCJK8W8G/aJsroYcbyuPNw6623LpJRWaaxzoRDetXGnXVzmUbeetIw8gbD/FAGFoThXgvMUfaNhsfs+hfRZsFexgR6nl7Jk8Y2jv1NDa3S8PBxzWli3HomeVrf6fgvwkaDJXjUs/MxBcIFfdmxQ4pDV/JHmeS9UM+rrsylNX6xMQz5QQtdzAHIj+ICg2OPPbYX1ec+97nePQvlyNq0YcZKjLRUdi0kE3iaxqNe5mf4hrFPvAoZjHHlsMMO65UIHic+iB5BXoyQ7RkHNZ/DyAveBR9EvyNjurbyTS8DfW6QUxln6Ifwqu233z5jPIeQHdVWigcD/ilsXbmtzdhXlgV05DKeQ4e2bV4m2j/5wLP1oiVHi9PHMLTrR9PCp9vOEeaTHgFvXpIVkO0wyI1ycBxHYp3iQQldHPLIIGraZtvwW+WhiYw0SflamJPvruQzYZBeP/vZz855xJx1UB/VB7OkK1Ceu7qy+QKCx7E2uc466xT3jDPMh5ARJONg5CdM2/JKxiVkaNIxGYH5iMC8PVJElYXCJi4c6nlXVybXuBMT4yFeTUCUBhOoKByzyLR48WK9LoRQJmllxARdxIQytbyHGUrQVrimVww++JNAz/fEGwmlCsp/kxEwArOHwJn5ebYoWpn04gKZySOTQyZdnHEnQtjXrkEWYpkY44GHneHiMyiJuyAU4AhXWDszCcey+w+56+675QuaTGaZnJPfSRJ8/ayzzirOhmbBQwp7hPg6irEmeWciDt7gjDEEkz2MDdh9osXjNvVzce7ynUUilC4YuaAkB3P+iF8K26q81m07fM84ogXdGB/PRUxipJS+ITcEQoHEAhTeVzhzGaUjykCNoyit2SmwEEnuesvKjmIUuUKLUmVh4jPaEQYHLDzQr1CyRsVvDIuHm8svvzw+msp7FB4sCCGv4FGMv9imuUc5ot2pFOKLeX9AaQyxaKGFi+JB+KfdvnrEd+BCf5E8x2JcNLpV2GGuKMdZuIEH4gIThWlXRJ8Cr4gRcdOW0uNV2mDbVT4Vz6gwn4ayqYz9rhhV66xs+GoZb+V7Fv4jDYMbu3q0yC/PMIqbdsLuYS36xwUvhel3xVCTxVrmO8yDULhjvDBuYoEBAyaM88kLC+GUTTIO+UGB9KlPfarIGu9OPvnknicdFO78DSKO/MClLWMtffn1r3/9oE8KTMAGrw7kBx7NueFxnGZXd1T2Ni0PmWDBjvPG4Z0o0D70oQ8NzFudAE14TL/4aBvImuwoBQfOYOYvrSfkCY2BLLBgNIA3EWQ3ypfyOhar4LH96Oyzzy5kEhZd2TnPIn0aD3LUaaed1i+a4h1yHYpE2gCGPSfmmyvSMtDOkINGRchftBfqZoNcxuQvEmWL/B85AbmXsZH2wQItRtGxDWLs85rXvKbAJcY1ynvqg7Kk+JEX+qeIxRCORKK8yDuMeWXEAgVlovyDiEUCjmGDN4KJ+iXfCRfa7Ic//OFeVOSDNovsTf9/17ve1XvX5gajEs3XMMrmjzwdd9xxhWw3jXVWVk4U+MhOy+d9lPoEN+ijH/1oDz9kLMpD31+c68vwOgOxIAbRBjDuEtEfWUxhURk9GWMg8wtwZ96W9l99F68sJrIIzbhA2vBZvoOPv+Md74hBi12yqd6OdhGP6mPeJoMkeAoGCswjd9lll8KwD77FXEft55BDDpmTRtUPdmOTFgvZtLFB7ZexDMyZU5IWBkL8pZjwm4W46JmJRUmOEMFLC/2FMjE2Kc/kkfqL+EzTeFSF4aw8Z8wQv6Y9Uo8Q/Ig5GvVIO6RuMUKE6Dvoa6kvZDXkiZRnsjAmg0HetZFvisRq/MPAg7+0vTHuyZChRjSF4WsTuY04m459Vfk45ZRTin5Lu0dm5S8tD318EE3L2Np2jjDf9Aj0J8nBeL+qIwczBiFbMLYMoqa8sA2/jXmoKyNNUr4ehXwWMYj3GE+j66a+oGiYG8NV3c+KrqAq/22f0y8em/cHjPYYX5D1ywhD1VSubcorGaOQL6Dddtstk+fjsvT8zAjMKgLLzmLGEXL6EcyViRYTJiyyWcARIVhGGhQXYft9Q9zsgkJJqUmj4uc7hBPe6wxx3vEMJi5XiAqP4EmeI2lnDc8QpuW6LIapvE9wqiorZUChV1YGFlsRzFgcNRkBIzCbCHzsYx/L+LvllluKSSIKKBTSZbt4UOZck/MoCCUxCkuUXvCnAw88MDvvvPNKQYDvNiEMFthdp0UbFoFXyZXb7LhhUguv03FLMd4qPhbDpPcpD0/fx98qB/lDeUbZUeLJ2OLTufEKu1OrqK0hBgpDjGK4UkbSRakWXTiSZtP6QSkp70rgivEM9YoRg9yUVpWF503aTh2c75S3vUgowz+XG7BQZjCmvTE54jcLGkyGFxL1w5B3N998czFWM2ZLmSt81Dd01XNd2U1QZiDArijtwCOsFlS5V1zRn0OUdcryW/aMuOqQ0lPYGFf6DoUhRinIV3onRTBKZgx7ogcv4mQiyaQ7xstzPLlEOSddxMbLSmr4o7TSuIgvUtn7+Cy9R6FNnahMxMU9Mpp4Yn8pOKb+73u+R74kLeWbN7Qn+mCKUxts03IoFyqHrnqeXuP3vOuHefpt/D0onWHLFtPSfZp3PU+vVeGU59i3GBtZCE2V0vymHcvDQTSWJr22uPFtPEKkTDnFfEAUw+pZLF+85z38XOOrwqfX9Bvex2fxPv1Wv4WlrnoeryiQ6A/KD+MtxG8MTdhVGt3M43mGeVtaF9QBC56iNH8Y/DMfjUS+pLiOz3WP4SFjs7xLqb8S97W5ZwryhuFApKblYcGGhXSlobhofyy6CZe0PApXdqVcdXlMbOdVabDLnYXWuACoeoIPgruMYpQfNkDwXHKYsKM8LFBRZhlo8I3aSBzfqFNkMeQm4aB4+IYdxBhhRKoqA+OQxmqFURmIG3kyNdwYhI3iien3u2d8xJCaOld5Cc89bZOyxH7NO+Q+ZC/mDFAsP4baeCRj7GhDMQ9l35e9J59sOuGd8OPbX+f9AM8vqm+eoQSmTOl4DW7wNPqeaNVVVy1uB2FOINoVsr/4LpjwR7x4LmUcjZ4WeE5fhZ/EMnFP25I+J75TvsqupMvidxWNss7K0lTfKHvX7xlzSAyR1LaY5/AXxzHmQXhVlP6ORS4ZW/AMQzbCRGLRWbo25hLMb7kiJ9dZDMW4ET6vtoQXC+bJ8nIY06pTZ5oz8h1tAe9JMmKkrMRL+9HcWp51Yjpl9+KHtPM6+SAODLowXqO/6Bv1aX4TJ/ODMnfrtHkWyaSz1HfESx0wxyQvkSY5HoG1KN6r3LoqTHqN36Tv9LtOGMJWhVMeqviOvoPPijCSjOEx5FNb5WgReeWjLtA70+4Vj3gmYx+8Ph2/2so3ylvVFR2Kxlu1G/gGvFS7//WtMNFVz+O1abtqOvYJL9KM9+Bz8MEHF+1c+VN5KB8GK9GQM34b74m3DZ9WmroSTxmlaZWF4Vm/OYLS0DWNY9J6BOUrymyxX5RhUPaMciET0aZS/kV8qVwmHO6ajwmQ5uJ6XnVt2mbb8FvSbiIjEX5S8jVYN5XPyG9Zvcd6jfeEF0m3wfdV+muFTa+j1BWoPGma/X5HvU+/72N/6BeuX1ovzedAZ55xRm8OFMMis2DczrxC/F3vm/JKjIyUX3lnUly+GoH5gsAy+Q7j2H/nS7kmVg4meLgIZBDXxK9fZlhcUniYTh1i0omLVJQdTN5SZlcnjn5hWGhYtGhRIaxLsdAvvN8ZASMwGQSuu+66kSWMoglX2fAolIMo+kdFKANwE4uFOS7NcVGWKktHlfageMFhg3xHIPwWhVi64DLo+1G9b1o/1OMTn/jEQrF52WWXLTXBHFU+m8TLeea0AYwCUIrXVejG85ubpLdQw6JI1pnW4KzJzizjgfKL3WAYKCF/pUe3pWWD53A0CEpvFJN1ZR28jrFIQxp1ZbY07bq/WYTAhS1543gCJs4o9XhO+vJ+0C8+Fm7p93yrc2pxn0o5qHsWBAdRU2wHxdf0/Sgxn3TZ6mJBnWEIhUJiUNtWnKPETWk0vdJ26afsmqFNp4rOpvF1EZ4d6MzDcIuuxax+8TKWwjvq9h/igi/hxYkFKjwx1FWCsWjHdyysSHHYL2+8a1oeZAl2diPj1Zm3pul3wWPSONPf6qcYY3K0Qp0xizaGPEG5opejNO5Bv8ET70a0DTy8DCMDsijGDnoW2zFcqNsOBuWxyXu8N7E7Ezm7Do7slAZHyk3bbWto0SSPCnvCCScUC/HMBzCsoB3QV+lPjNuD6oK6Y24Bz9SxfYp7mCuYoIdhEVqL6P3i01guvc0w9Y7MAg+lTSMHlC00DFNno5xX9sOo6h3l1Q5IFokGzQ1pH8hNzCXZLTmojVSlO6rn8HTKgyE/RrRN2qXmOujphuFp8CHkA4xX4Kd12yPtCmxp9/CCOnLzuMejUdXbrMbLfIW2hvxQh3e3kW8iNhxbg9E4xOIxRmLwa+b317aUMWL8um/arviu6dintOJVsgheCOkDg/hR/Da9H4ZPp3G1+T3MHGG+6REkBzMPQDZjHNGGHwyJMURmHMdgBv0Bxpvx+KU6+Ddts3X47bAyEvlWmx63fD0q+SzWBZsW8CSFzI3xS1sSRnV1TG3Tmcbv6BvoDDEUxdifeVAdEmaDeCX9CTmvrm6jTtoOYwSmCQEbXExTbTgvRsAIGIEGCEybYqxB1h3UCHSGgJSQnUXoiIzAhBBAGY97ZnZ/pce6cMwTbqkhdqnVOeatbDF0QkVzskbACMxDBMxj5mGlTkmR0sWEKcnWvM6G55XTW72e60xv3Thn/0agzODC2BiBaUQAwzM2LmBYkW6gOOiggwpDU/KN90sMPDnygCN6IeTeadiRbxmpqI7Sf2yWw1sdhFedeORX6Qd+aASMgBEYAQL/PtRoBBE7SiNgBIyAERgtAliYy83naFNy7EZgOhGgD5iMwHxBAJf37IDmiptgXL/iKpQz6TkPHmJHKy6eTUbACBgBI2AEjIAR6AoBzyu7QrLbeDzX6RZPx2YEjMDCRmBxblSxYu7ti+MC8ViBByWON95qq60Kz1igw7F7GFtAePeBLrzwwqkwtigy439LIYA3yLXXXruoR15y/At1ZjICRsAITAIBG1xMAnWnaQSMgBHoAAHcdNngogMgHcXMIkAfMBmB+YIA7i911AlHOvEXCdfPJ5100lBubGN8vjcCRsAIGAEjYASMAAh4Xjmd7cBznemsF+fKCBiB2UTgiNzQ4oADDsg4SmPTTTct/mJJONb2kEMP7T3iSIqNN97YnhJ6iEzfDUcXveUtb5mTscMOO6z2sVlzPvQPI2AEjEAHCCzbQRyOwggYASNgBCaAAO7nV1pppcw7XyYAvpOcKAK0edo+fcBkBOYLAjfeeGO29957FwodXJz+61//Kop26623Fucf77vvvtk555xTu7jERxzTdo557QI4oBEwAlONgHnMVFfPTGfuz3/+czF+0cZM40HA88rx4Fw3Fc916iLlcNOAwC233FLwbOYd3JuMwLQicM0112R77bVXduWVV2Z/+tOfCu+RbGq4+eabs6uuuqo4QuRnP/tZL/t4l5y2YyksI/Wqp7ihjkR4Bz3xxBOzH/zgB3rkqxEwAkZg7Agss84669w+9lSdoBEwAkbACBgBI2AEjIARMAJGwAgYASNgBIyAETACRsAIGAEjYASMgBEwAkagIQIrrrhituyyyxZGNA0/dXAjYASMQOcI+EiRziF1hEbACBgBI2AEjIARMAJGwAgYASNgBIyAETACRsAIGAEjYASMgBEwAkbACIwCAXtEGwWqjtMIGIG2CPhIkbbI+TsjYASMgBEwAkbACBgBI2AEjIARMAJGwAgYASNgBIyAETACRsAIGAEjYASMgBEwAkZgwSJgg4sFW/UuuBEwAkbACBgBI2AEjIARMAJGwAgYASNgBIyAETACRsAIGAEjYASMgBEwAkbACBgBI9AWARtctEXO3xkBI2AEjIARMAJGwAgYASNgBIyAETACRsAIGAEjYASMgBEwAkbACBgBI2AEjIARMAILFgEbXCzYqnfBjYARMAJGwAgYASNgBIyAETACRsAIGAEjYASMgBEwAkbACBgBI2AEjIARMAJGwAgYgbYI2OCiLXL+zggYASNgBIyAETACRsAIGAEjYASMgBEwAkbACBgBI2AEjIARMAJGwAgYASNgBIyAEViwCNjgYsFWvQtuBIyAETACRsAIGAEjYASMgBEwAkbACBgBI2AEjIARMAJGwAgYASNgBIyAETACRsAItEXABhdtkfN3RsAIGAEjYASMgBEwAkbACBgBI2AEjIARMAJGwAgYASNgBIyAETACRsAIGAEjYASMwIJFwAYXC7bqXXAjYASMgBEwAkbACBgBI2AEjIARMAJGwAgYASNgBIyAETACRsAIGAEjYASMgBEwAkagLQI2uGiLnL8zAkbACBgBI2AEjIARMAJGwAgYASNgBIyAETACRsAIGAEjYASMgBEwAkbACBgBI2AEFiwCy0265CussMKks+D0jYARMAJGwAgYASNgBIyAETACRsAIGAEjYASMgBEwAkbACBgBI2AEjIARMAJGwAgYgQkhcNNNN00o5eGStYeL4fDz10bACBgBI2AEjIARMAJGwAgYASNgBIyAETACRsAIGAEjYASMgBEwAkbACBgBI2AEjMACRMAGFwuw0l1kI2AEjIARMAJGwAgYASNgBIyAETACRsAIGAEjYASMgBEwAkbACBgBI2AEjIARMAJGYDgEbHAxHH7+2ggYASNgBIyAETACRsAIGAEjYASMgBEwAkbACBgBI2AEjIARMAJGwAgYASNgBIyAEViACNjgYgFWuotsBIyAETACRsAIGAEjYASMgBEwAkbACBgBI2AEjIARMAJGwAgYASNgBIyAETACRsAIDIeADS6Gw89fGwEjYASMgBEwAkbACBgBI2AEjIARMAJGwAgYASNgBIyAETACRsAIGAEjYASMgBEwAgsQARtcLMBKd5GNgBEwAkbACBgBI2AEjIARMAJGwAgYASNgBIyAETACRsAIGAEjYASMgBEwAkbACBiB4RCwwcVw+PlrI2AEjIARMAJGwAgYASNgBIyAETACRsAIGAEjYASMgBEwAkbACBgBI2AEjIARMAJGYAEiYIOLBVjpLrIRMAJGwAgYASNgBIyAETACRsAIGAEjYASMgBEwAkbACBgBI2AEjIARMAJGwAgYASMwHAI2uBgOP39tBIyAETACRsAIGAEjYASMgBEwAkbACBgBI2AEjIARMAJGwAgYASNgBIyAETACRsAILEAEbHCxACvdRTYCRsAIGAEjYASMgBEwAkbACBgBI2AEjIARMAJGwAgYASNgBIyAETACRsAIGAEjYASGQ8AGF8Ph56+NgBEwAkbACBgBI2AEjIARMAJGwAgYASNgBIyAETACRsAIGAEjYASMgBEwAkbACBiBBYjAcguwzC6yETACRmDeIPC3v/0t+8Mf/pD95S9/mTdlckFmF4G73/3u2b3vfe9s+eWXn91COOdGwAgYASNgBIyAETACRsAIGAEjYASMgBEwAkbACCw4BO5yl7tkm222WXb66acvuLK7wN0i8JjHPCajPV1xxRXdRuzYphYBG1wkVbPOOutkK6ywQvH0z3/+c/a1r30tCTG9P1ddddXsUY96VC+DV155ZfanP/2p99s3RsAIzC8EMLb4+c9/Pr8K5dLMNAIY/vC3+uqr2+hiAjX5lKc8JVtxxRWzX//619k111wzgRwMTnIW8ji4FA4xbQjc7W53yzbaaKPsAQ94QHbHO94x++Mf/5hde+212fe+9z3LwtNWWc7PWBF40pOeVBhC/va3v82+853v1E572WWXzZ75zGdmD37wg4vxnDHlwgsvrP29AxqBUSBwn/vcJ3viE59YRP2lL30pu/XWW0eRzNjifNjDHpYtWrQou+WWW7LLLrtsbOk6oelCANkd+Rj6yle+4o0U01U9zo0RMAIjRID52x3ucIfshz/8YfaLX/xihCk5aiNQHwHW1/bff//szne+c3b++ecX47L1WPXxc8i5CGy77baFjvyRj3xkdvLJJ8996V/zEoGZN7hAiYSl0P3ud7/sn//8Z/arX/0q+/rXv14oWdvU2K677looavn273//ey2Di2WWWSY76KCDCiXvzTffnB1zzDGFsNAmfX3z5Cc/ueiM+t3vyu72Sy65JNt0002z9dZbrxcUPC6++OLe72m4IX877rhjMWh9+9vfzo466qhpyFaRBwZSrBfL6Pbbby+EPxSV//jHP8qCtHo2irbTKiP+aCYRoO+bjMA0IkDbZJJiaoYAY+RKK62U/f73v88uvfTSyo+Z7K222moZMscFF1zQC4cMw1h2/fXXZ29+85t7z6fpZhbyOE14DZOXHXbYoZCPP/7xjxdtqm1c6667bva0pz0tO++88woDhrbxjOq7tddeO9t9990LZV1ZGixkvfzlLy97NfFnXdXRxAsyRAbwjLTzzjtnGJGedNJJ2b/+9a8hYuv20zXWWCPjj3nApz/96crIH/SgB/UWgeknf/3rXyvDjvvFLrvskoExRvivec1raiXPvPqAAw4oduLoAxaFbXAhNEZzNT8YjCubY7bZZpsi4E9+8pPspz/96eCPpjgEdf6Qhzwkuy3ne9HgYprHXfgddfDd7343+/znPz/F6M5O1h73uMcVOjJyjMHoN77xjdnJvHNqBIzAVCMwzeMJwO20004FfqzjHHvssVONZVXmph3jqnz7eTkCzJtkbMGcTnNT67HK8fLTwQhcffXVxRrvhhtuWHgoP/fccwd/5BAzjcDMGlzc//73z/bZZ59ix06sAYwvnv3sZ2c//vGPs3e9612dLo7HdOI9g+sDH/jA4hGMGYOCxYsXF79ZUMe9uuimm26qtRNjq622KhZT9F2/K4pkDC6mgQaVF6suuZp/whOeUCzIsRN3Gui+971vtvnmmw/MCgMueJ922mkDww4K0K/tDPq26j07JNjdCaG89lETVUjN/vOFVLfsstxrr72yG264Idtjjz3GWnmkveWWW2bwCKzvoT333LNQiCkjxx9/fPFev7meffbZGc9nme51r3tlj370o7N73vOehSEhY+ttt902sEgLqW0OBKNBgO23375YGMOQop/BBYrulVdeuZj8RYOLqqTYqcy4wKIhxqSm+Y8Au9KRh6E73elOhUzcttS75YY8y+a8D88102a4gGvGF7/4xT3ezKLVH/OFZWRNvF4gl2KENElS+ulO7C7raJLlGzZt5jxrrbVWEQ072y666KKholxuueWK9oByDOPzYYg+9NjHPraI4qyzzip4aFl8z3jGM7L111+/eHXVVVdlP/vZz8qCzcyzV77ylT1jC8YNeYyZmQLMYEbnKz/osj/OYLW2zvKkx91+9YaB4yqrrFLMDy6//HLrGlrX8nR/6LnDdNePcze7CPTjr6Mo1aTHk1GUadriNMajrZFx95n99tuv0B+w2RbDi2kypB8t0o59VAhwLM0jHvGIwsiaddFvfetb2XXXXTeq5BzvFCAwkwYXLHi98Y1vLBSpVRjinhGDjHe+851VQTp7fuONN86Ji0VuEUd8xN1EeEg48sgj9XreXQeVN13owVhk1gjlPgpYFl/f9773DZX9fm2nbcRHHHFEscDA9yx6ojQ1LWwEUIyxa/6cc85p5E56mlDDTTyGdiwyj5P23XffDIEopbve9a5zDC4e+tCH9gydFJbFyWmiJu0Axf+hhx5aeG6KZWABC2Ozo48+Oj72/ZQj8NKXvjTDIxi02267TXlunb0uEGA3OwulGBwMO5n7ay7XYryAwdu00ZprrpmhhIHY7fz2t7+9ZxTGDn124k6S8L6BgR7Eri12b4m6rCPFOYvX3/zmN71s46lwWDr88P/P3nnA21IU+X9E1sUAGFAXEHm4u7iYWEUUePAIKjlnUOApS47qSpD0QESCgARBReAhooCAoGAASQLCExSQFURdBVnXBV0XzGFX//Nt7u/86/admTM9M+fcc+6r+nzunTkTOvymu7q6qrr6lLC1EjI2c0GnNAToT0S4gJinve9973NFYxqEjZ6eqfzA+2Oj5pBN97hb9d2IYofDBQ5t46jLafZFFr63fO6w8H1zr/FwEKjir4MowXSPJ4Oo06il6RgP9osMs88sl0eR1YLqCy+80LcmHeynXahSP+mkk4I9GFvCrrvump144okLVf0XtsqOpcMFK41R/Fp64oknMhotESZE7I2Dga6tolnplR3ZH/qWW27JUPoSxvv8888ve7TxdTzrylZp/eIXv2ic7rBfPO+880LIsCUWXzy78aabRnrwwlAh5xk8/LVCUZixf+zuueHq/Asu0KXk4zDaTnKh/IUZhwBh+ljdjjI3Zf/uGQdEgwpttdVW4S1Wd1555ZVh1Sq8ODYKER1H0S8I30+kmVGjuu2AsjOOsSoeIqIFClXGV+pIFCccL84999xRq6KXxxFwBCYQgN/jcPn85z8/axtJ7KCDDgqOCzg0jBpZhwpCM9aJwDPMOuDwIrLnXOvyGymPcTwS0YLQ9EQAiR2Rm9QnxrlJGgvzO7ZP3fvtb7uzxZAaw0zlB94fmzWg6R53q74biztm5VsMIVuM2pjbDG1/yxFwBByB4SFQxV8HUYrpHk8GUadRS9MxHuwXGWaf2S3fihFC/3vXXXeFc//nCHSBAHYEohNjYyBIAFGkmf85zUwExtLhgoZpCUXdJZdcEi4df/zxwclC9wkD29bhAmM7q5fx5ueviNhzmL9BEauJUUZ2QRjMll122eC0gvI8jjpRlgfGNlZsg2dTpkA4+mOOOaYsiynXWWXF92Y/+zqOJUz+/y9nYo91sEKOAZZVXSJWfO+2226TVnyvnG+LUkYYLV+We0fSZuzqvfj51LaDIhRjJ2GXnRwBR2BwCOCwB/+H8Kr++te/XpqZ3UJj3JWP7E0oZ4uvfe1r2Qc+8IHg8Ad/nT9/fnDe2XHHHd3horQ1jP8N9hPHyQYn0pg0tj366KMDCyONgxgrC3B8JDQ/x1EhJvyMw4SWLMKnrJxVmC6eO6FSXxy56hqcwQj5CFnA8h+bP1vT8FdG1AU+t8QSS2SPPPJIqWEVntbP2aLNN4PfIGeDZ6p8KV5FHZs6FLL1H6t1waAMyyIMwQ7ZmPfqytJxOv2+kZ7nW4ERz9eZ10h+pk2xnWEXRNQDHN5/9KMf1eqTKW0Cx/k6RFtFtoYvjFt4V74JvIP+BP8sc6S3ODThDcxXcBiv005sXjonkp/oR322RrE85Ic//GHSVp60J21XVlduor+DIW26af1Ut6oj/ZrIanXrhKwID6fNwyvr1iceF+ryA/ohc3LKV8R7llpqqbClKf2k6H5c9ybtjDS67o8aC5j38zcIairDpPI/yk57gG834cN1xl3yYBwCN3hKHVmpK4wZ9/pR07E1dbxTfyAKF3JEHRzKyt4UH71XV44Rj0nRxZWVmetEsuSP9OLty6re6/JezM9s2k15DLyM7S3RIRZ9V+amELJwHb7bNU7wffRyRY7NjAsrrrhiMNrVkXGajiPoduEz6BuL5hCM6cgFYFRHHkyR3QL45l9VGzCPtT5N5XtNeREFJS/JvnzrKmoi51Wlp3tVuNaZi9QdT8gvpb48n9qnND+hz/zqV78iiVaUmr8yS62n3is71sW4SvZt0/eayGMaO2eSLGnnJcgpqXNF2hP8Evr85z9f9rkrryMPpMxVmpRZPI1+lKo7iQtPu+unU7LvtGmnXbc5ytV1mpLPsOPVGbstNnX64Ve+8pVsyy23DFFosS/O5B0QLDYL4/lYOlwgsFuy4Xm///3vByFB95fMFXNNCaH30EMPDfvsKA15JLHSWQRzYosTEXvxnHPOOdnHP/7x3tYOuve6170uuyCPiMBk7IgjjtDloRwJxb/ffvtNchggYxQx1157bfiLCwLzIhwvkwmEIxETnm/nq56oC4MY9+rU94Mf/GBQapMOaey5555hkrLzzjtnb33rW5V8YDpzc89CVmaKwP6iiy7K7rjjDl0KRxj+IYccEgZGBiuItG+99dZs9uzZQdnBNaJJsCKjKaFgxuh65pln9pKAGYORNWjgrbb++utPiohBeVAMnnHGGZMcR4raDunH11m1yX5PDP62jrfddls2PzeAQjBqGLwlysc3Ajuwdlp4EEBYjIn2YK/T94sm5ryHcuNNb3pT2MIDnkb/qVJkkDYTepT8msyzxRDh1Jng0x/LjAuLLbZY9s+589JKK60UHJTgLXEEibgu8Gf6N8LsPffckz344IPxI41+ky4CLER5RCitLXYIYFV46L06x1SsGQPZHgK+zDf81re+FZTuRXnZMut+v3bAtxDBM/XdmLSQ12qrrRZ4PmNKqhCqdP04HAQYT/jelhgToKuuuiqM+8gFq6yySvjO119/fbbRRhuFcYZxa/fddw/PMs4iC6DQs7IA0be++MUvFsoP4cXEf7QpojKgBBFRDpTojJ/wEhF7a8JjUH4xvvGc6DWveU3GdkAQcod1FqCPE22LsRRH1tNPP12vFR6J9sKz11xzTYhkRtk0Dv8lz/vOO++cEumqDqZkRl9D1rFjN/XBueviiy8uLA/hB1+fv7dE7tSpcvAdKB+yggg+AWYQEzu2AhKR39577x3kCqXBPZT0yLc4Wlli+zRkHfCfN2+evRXGiLrfjBeFDXnBXw444IBJbRSeRhu1sv2kDCd+gNucOXMm3eK7QvBn6zA76SHzY+utt8422GCDnpzILfgd35QQokWEouzggw8O44HFDqUh5ZbTB/0Fp29LbC3CH4YDtj4p+0arr756tscee4RXeY66kq/yo63jbP6Zz3zGJh/O6UOHHXbYFPn50ksvzbbddtuM8XbBggVBZp/ysrlwev5tlsxl8Iceeig4oaySjzmLPPOZ4Qnyf+yxx0Idigw7Kf2YBJGZceKDaF/q5yoD4+/dd98dVoPAi0QomE499dQgXxOFjrmXMOIZDKvid8wT6jhuK+0ujyjK+e4YjizRTj/5yU9mDz/8sL0czlN5A3yZNg+PFgZ8J751XXr1q189aRtM3ttll13CH2lpPOA6fJTVfPBa5cd1ZECifDE/sWTbNApMooLpW7L95/e+9z37+JRzsIPP4GwjokzMzT784Q/3DIzMwTbbbLPwCHIh9yzxG5kLgq/de++9PZ7EXO7qq6/Ott9++17ZeI6+fWr+XpEzPzjAw5jfWxxs2yQNSLwPHlM01pbxA9InqiJ9jT7/9re/vecUS7qUm3EMLPbff//Ad4Qt92lnzBGLDIIp7WyQ/ZH+v/baa0+ZOyPfMwYzLrShVBlGdU3hf7aN8z3g4Vb+og6M67Eeo6xeVeMuegIwwynIymTwZd4r4nV1MK7LR+GnRJJF9tCWWbYeKWOrxS11vKPN7LDDDmFcU/7wBYxHbOGVYoSog4/yUF9uIscgb7PFo42ciqMnckcT2mKLLbJNNtlkUjugXOjMtDKX+SILnuBR8At4KTiJ9tlnn2zVVVcNP2mfK6+88qS2yw2NpSlzB95L4jF5v2HcRmZHb7bGGmv0okdSXuacxx13XLhGG1wmd5SVXEJejCO0/yIDWx2cSKOM7NwBmZr2j9Ob+D6yO3MK6fH2zTG1cjrlv+GGGzJksZhSxhF0HxqLP/rRj4bIwWAmgs8wjlFGtkBmrCUKtIi2gXxbJGOnym7qB0VjGnojycCMu7Ge5m1ve1uImEm5mEfWMWw24XspvIiyaM6HbpwFiivnY7ttY9ga4O/gaKmOnFeXv1bhqm9fdy6iMpaNJ03rS7qpfQqdFPMTHG1FtB1kxiaUkn9qPT/xiU8EngofOvLII6cU7/3vf3+Qt+nXjPXoBIswtuNbleyb2vcko9SZH6nwM12WTNVtCJf4yLwH4ttqDI2fKftdd66i91PLzFhBxOK11lqrNzaSFvqoO77xjSBj0qfqUl2dktJLbaeDaHODSFP1Qz7j+1u9HNg+muu/GMdi2aJJPyQvZGfmbIwbjJPYUOK0VSY/jjcC/9+CPkb1YPKLACRigoDyEqLRWro7n6g3JSawGLktcY1JDcwUBwPITnT5zaQe4VsCONdiit+J73f9GyXOscceO2lypzzwwEMYxbh69NFH63Iw7jOZ4X5M1A2GhAPAe9/73tr1tfW2+MR5oMyOiXcRMhEstKoJrFG2WoUG75H2OuusMykJm/ekGwk/mBAzUcXwIEJBqUkLSjomNzFRHtosezYhjGHAhuIySUGmrQmUzsYbb6zT3pE0MTagVGFSEKfVezA/idOz9/x8ZiLAZDsmFNH8iVAiY1y1RF9iAo/S3hKKBJTitLUiQghBYEDZx8QJY5PaM88jWDDpt6uHyUvvxWmySgOBskj4YEsLJqPiISj7UM7AH8inDeH8heIpplhBgoKvn1NInEb8OxVrHEFQksghxKbH9wHLL3zhC/ZyULpMupD/6NcOcAhEqcFEA35nScrLonv2OT8fDQSYmJWRxgWNv4whRWMN8s683AhqFXZKkz6O/EBaGPzbEP2BfDAIW6Kfo5xBWfzpT386u/nmm8NtFJs4XJA3vEeGbm6ut956vSRw5rQOFxiuxDvuv//+3nNlJ3oWxU5MKOFmr7lm9uLcyG33YOyHKekgrzJpVPpKm/qsu+66QZFL1DZL7KfN9nUx8R0wpqNUx8gA2W9veTHnOKFYOUbpoQyEByIzWuWn5AubDu+kfjPeETbkheItrj/34elMRIuMRqQBPbOibS+aY9iPaLeMSTFRVxQZtC3KB28VIffyDeIyc5/JOQZosKXs6l961x6FZ9k30n3eKcKI/GnXjz/+eHC8UNp8/6OOOmpK3qTHeCqKv6Ou2+Mz83cg63io++RPXsjfyOtWudOmTZC+rbvKMCtfwYpzZUzwBZSeGJmhou8SvzPs3+BEGYvKxljOPAveoXks5UvlDbQjxn+rICId8sRBsi7Z9hi/E5cfBTTfJSb4N1GycMSw247Z72rl0Pj9ot8oouYVjEGUCawwftAOZWiCf9IO6cPM4+XQgiOGnC1w6sHZAhJPgifizBATuM7L59AnnHDCpLGE5+ifsbzMddom0cGQm5W/8gGLorHW4m/7qN6DZ4JtTJSbchCZEWVoTLQzFnkgNyO7iVLb2aD6I9+WfhIT3xcdDzIIWDalJjKM6prC/2wbZw4UE9+ReQpto2wuZd9RerYtcB9DG3yjaIzBAQOnBdoDjjaiFIzjvq407FFlKhqHU8dW1ZP0U8Y7ZLIiuYzyM4ehv+J4WzSPtHXhPAUfnrd9sqjM3C+SY97ylrcU8hj4FQboVEKGKcIAXoEjMpG7kOXgdzKAwy+YR8thk74nZws5BSEnl5HanTAo42e8n8pj1BZ4jz9LfNeXvvSl4btSv3iuwLM4QeBMgr7NUl2c7DtF5+obRbo+cMG5hLZEP9SzSoffOJcyjyacuCXaUN1xRH2P9+HpMfFd0Ecir8YY8izY0TbR1zDfF7WR3YraAI7jcrjAsTl2uMBxRHTLLbfotPTYhO+l8iIy13dD369zWygiljB3Q+YS1ZXz6IdFaSodHfv1rZS5iNJU37Lth3sqT0p9eS+1Ty2XO8senc/jxT9IA6JcMnA/faXe/9T8U+vJt8LOAQ+lz1gHG9J6xcSchHmYFmAVYaxr1KpM9m3S9ySjzKo5PyJ/tSvqM9NkSdp1qm4DTIpI8ijf1uoAip6111LmKrzXpMws8i7i6+ij0F3glF5XXk7RKVHeJu10EG1uEGlSP+SHIh0P2K6Q93cc12lj8AZRk36od3HA5FvCT5iryj6o+36cGQiUa+JHuH5StquIKB3xdkbwQcAVMTBinB8E4ZxQZPRSXgy85G+VkNxD0cH1KiWy0rBH8kKJEv9VlUHvw5RgDgyulqzShesw6O232673yNy5c3sDMxcZcGLjG0oDhIeu69srRMEJk0QR5zB/S3G97L225yhtYiOFVngziYonYHFZYKisKo2/Rd1yxenxHpMYCEWbFQbDxfwf1xRxQNf8OPMRoF0qJK/aDYoUXeMYT35BBccCTfqJfvGz3LObvs8ECSGPCU4VscqClecIkTg/0PbIn98SkHgfoRQDrSbjbF/wyCOPBAUhzzOxjvs27zFxwbhCmSwfRWBBgdCWEK6FkY3+QV66XhayMzXvVKzBVjwfXozAB2bgzPchIhOeypaatAOtNIBfxZNDhHkIZ5N4PLD5+vloIEBfede73hUiUqlE/OavzEECp1baAKvFIZyL5GyBUwPGQ5R8KHHFWzbrw0NdjwYAAEAASURBVBeUd9mR9vuBXI6TAvWO228PCi3GS+VDe8QZAN4B2S1+WEFiiUmTCMOfJSmWKfvteT4pRJ9DkUv9L7vssl79UcCh4C+jGFP6Mf2VOiEn4uTGN8GIwlgOoegRf+Q3SnU5W2BIwYAGzwMfjf3IpkUGIt4XbZWHMJQcg4x8TO5oi4IaA5C+J3yeslVRk28Wp0cefEfqgtFUTmxct7Je/B6/z8+jSYDZN/IVHSJWGXHt3RPRTXQ9PsLHNJaxIp9vynsYkWWk4hvF/BSnBeGCUyNKV76ZVsBwj5WrEHMS0mSVlAhHba7VVYbwHmmyWpf0KJ/y4p5W8nMOkTffBWJs4HkMf/R1fdtwM/EfvB5HHvojCge1N/gCin1RF21CadkjGNBPaOsY1lklrvGHMtD/KRPY8qcQxYzhumblBZv2oM8xsKrNEJWE8vNdZOznno1A14Q3YFSQswVOrRj5cRxlRZ++VZ164sQGXnxjEVgLQ11jXJk14WxBn6UPUE8cyuX0Cp+1/Evv6oihh1WtRPjAQamMwIcFA3xn2jB8in5O/eRkx7ghRwmegZeI5ECLPLn55puHy8iPOAsVEe8TDQieiOFMBinKAQ6Wds9/S15GnmZcoA+yApx0eAdcyigeF8qes9cp+yX5NqqUj+8rfoVsjI4A/K+77rpQFtrZU3l0KAiMcEQRNWlnepd6ddUfGbOk3KYutF0wo13IUI6is2p8VbnKjm1lmLr8L84f+QJ5iYUplm/TDsWn43f6/Ub+YXEM79PG4InIAYwpmtNxjzxFKRi35aNNx1aVlbZVZ7zjOY3h4EA0B3Agapb0MuharKOh8oiPKfjE7/KbstSRY3Cooi2KbrrppuCkCZ8hkksqUW54P0QUOOQoeBT8T/rHTfIFO9I5sT2xxgMcP9DhQcgxIqKEoSvoYu7QhsdQHsZvZGN4HTIM5YKYC8PPcFzguzMeMPbAGyEMF5Jx+Z2KE+/UISId4NyELE9EJ9ohBD+jTeBEidxGu2RMEKnd6nfbcYSIdJQBOVY8gLTRi1AmIqfAh8BR9ymfxkye7Up2s2MaETHVDu2cjPzIXzp75jxazMG9ImrC97rgRbRBFrogRxNBkJXOEM6c1pDOmEWdoCo5ryl/tbiSR8pchOfrEOWvW98mfepf8n6qcY9FEG3mJ03yFwZ160kUMojn4ZeWkG8V9aSOs5B9N5Z92/Y9ytdPHrP563ymyZJd6TbAR+OHXawj3MqOfIeUuQrppJYZWVjOFsilzNUY/9ieXmM7zxBxrx+l6pTatlPK01Wbs3XrKk0cq7SInHGTBV5gy5xdjhDYMpCNiqhJP7RzX82DitL2a+ONwFg6XDBQofiTYMsnwFlAq1b4DdNhNWRbQpGLIgwlilXW0amqlMF0fpQ8CuescqDM4jpbU6QQSl9WQMV/KCb60Zr56ktruIRBE3YW4TBeBb/BRHQGJoU2iggDORMGJmVM7i0hdHZdX8qIAo88Y0EGQ6xIxj/9RrmBsotyYhRtQzBVBjX+iGIB08WxxxK4oNSGYsU3gjkYI6TbVf0YnQlbmUK0dQZV0mPCbEmGMBQwtC3bL8iXawwWTgsXAhjK2RuMP014MRDqGkerkAMdrkkBQ1h5VuBtmzthbZf//SHfOgiCF1YRSn8csFD8rLPOOsEJCac4QltKecr7KJhkXCVMKSt7mPyjiCQ/+hV8pYhQylI2hEVWdcuhKHZ4Knq33zW8TYWRHUNQkun6Ntts08uzX3pl95tgDV8kmg4rAXDwYgwCM/DlHmQVKPxu0g4wYsgYBO9gnMBQyLYwjCXwGK2iJw+nmYMA4xbyCf0AZRmELIARB6UYMg1jK30ZY5mcWlE82G1AUhHBkYDtCyC2DsCYTptGwUo+ijDDhI9xEKIMMib9k4lGxioa8RaeY+KMs6QI5wiI+kiBq3tVR5T48C1WK5M3K9S0hQXvlcmERZjCQ6Ssg9cKa+RMayy0xmz6OcS3QD5CFuYcfOz2F/E2G+El8+8fjGMI8gRh8pEVUAhbZSwOH1XU5JvF6WE8nT9/fqgL8rE1gjL5HRTJSAEvA0utQCd6Gr9xAISs/IzshtIXzImMQjQh2ijfDKcKtSXb1roo/6OPPhpWdPJtKB954SQCPS9v2yL6n7ZboG0jr/I8ClSMFQoHrufrHpEfGM8Ze6gj4wMYSdYkpLuoizahtOyRvGgbtHWcKXC851wkBZR+j9JREQeYl2Iop/x8FwxEGrdfYLZPbMIbtDIaYwDzO8Kqkx+h4ZFjZCToAhd4MFuaQfBf5h70Ab4RcgNtRW0jdlBQ/qys5Tnmk8yz1Xd03x5ZMaw+hYELPoVsSP2YF0m+JfS8iHFJ2zYgkyIrsmqJskPIwpIb9Y6OpIm8Ck/EwY5y0ocgeJLGOfQAa0ys0KU/YlhjXED+ha9RR4iyz5pwTgkXJv4VjQv2ftk57QaDDuWjjmdObBul53GWZEyhLLSzq8yc3faTJu1MeXTZH3HKgafSBujjtF3Sp13wHURscdCU2sgwKfzPlg8DPDwXeQljInyb7RIhxn45/9h36pzjXCb5hnYGHwQ/2jxtUG2VSACKmDIMjFX2JmOr3uVYd7zDmK/+jNKa+Qk4EMUBw7N4EMaHftQWn7pyDHxIch/6KhT68CH4DA7OUur3K6/uW/mQhVVyDkOWkrEQ2VyO8+AjB1D4F4YDxg6whDDqShZVHnWPRfysDY+h3zG2UB54HTLMTTnfE/F9j88jwPHdGQ8YeyS/8ozldak4KY+qIwswFJmKc2RwOQzzHmM7zhiUCdxpI9QDkt6O87bjCI4eRCqhDMix8ACNiaRP/sxT4EPkjwOLCB4h6kJ2K2oD9EcInSr6YhEGc+oOWadp3Y+PTfheW16EjIFTABjDV6+44ors+xMRtSkf28mIUuU8vVfnGOM6qLlISn1T+xRykxxskBfhV3Z+gvNoCqXmb9OuW0/mPOpLNhoLacl5FT6E41xdKpJ92/Y9ytBkfjTTZMmudBv0L8kWct6s832bzFVSy2wdKdBBMR9n/LsljxBkt421z5WVPVWn1LadUo6u2pytU1dpIq/ou6Pjpl+DLXN2tgnTtpfM6dguPaYm/RBeKLJ2V13z48xAYCwdLoCexv/XXKlRRgymUkjyDIIQg3nRH8qVIkJAZoUFgy2Ki7PyzmZJShd7bRTP49WddkWMFMYqN8Ivq0hQGLFaQn94RnONiSKTG0vW0cVeb3OOsggmxDdAeQQTE8l5BMWXGCP3mEig3OBZJjqpwpvS1xElHYo2/jBMW2Ffz2hCy0RC3pDcwyCMYA4hpFMfS/FWNfZe0TkTJq3kQmEjhQrP8s2ESdG7fs0RqIuAVt7gXMEqIRFRHy7KvWch+kXMU/ScjhgMEf5E8GJ4CXwUQgmoyct3v/vdKX0VpRGOAxiNiogwsTJU8KyUsuPUD5pgzXfAgct6xIIPY5QiP1k+VIRd3Wvkg+EbYs9Nvjn8H+ETpzb7feum6c+NNgKMnRq3bEkZ/3F+JHKNHYt5ZsGCBb1HZRSj7xKq0v7NnTt30njde2niRJND0mdFdUw4gEims4pUKfPYJ5lxGHrrRFhm5EQpS3BQgpAZtNcxSmkIhbMtq85x3LAk5xJ7jVWrMs7TT2Iqw1TODPQn6mbppz/9aU8xK/mKcqtvk2f8HVAMsRID2QP5t4pkCOQZvosMAPxGHmYVHH8xn+G+pabfTGlQB7vqj+vINlJKD4qfIzMxjkHIVcovXMj/US6U4xDP4nALYRAkwgN9IXam5r7wsnIp19uSdSxQWtp+QiusuG7HZVa4xyQDdHy9328MQvQlS1zDOAPR71BQQW3bREik4B+rd+UUo9t2LiLeo3ujdNTKTVYZyzFC5WNuQV87yDhFp/IG+ol43wO5cSPu/ygMfzcheynfNkf1B9K4IprbcI25m9onvJY+FBPGs7pkDe2f+9znprymdki/U/QjHmI+KDkR47ZW2GIUY0VwEdH3NS7Y++IHXFM6zONUt6JISZLJeCeOzkA+RWMtz1YR72kuqOdwmNPYCI+KZTOMWbwHaTzhPLWd8Y6oy/7IXB2eCm+NF0pojk2+cgZXGVKOqTKMTTuF/9n34u/EPVYhiqwco2t1jjJa8k2L+hHORMgBzJ8k6wwDY8redGy19a473sFn5Eg2a9asSQZ2eC7OBPBWVpz2ozb48B3qyjHS/fAO3ykmObrH18t+q08wD+abW9K8mGt25SR5MO+GVsidUbQACH0bRoUmRH2K+FkbHoMsSN+z9BWzDQfyuMZWPWNlHOuw2wQnpVl2JApLTESSEMVyPddlsKGfSJ5vM46QZpGDjGRR7hMBxBJ6GDmqqwzcbyu7lbUB258VkZf8rKMuhkNkOM297FHRQFL5Xhe8CAcoyRCUGbJzXmsHUFusK+c9nVr//0W4DmouklLf1D6l9kWNi8atOk43Fq3U/O27KfWUjoHFnprnkJbGb/iQ9Aw2j7LzoroLG751iv5DeTSRx8grllHGXZbsSreBPCGKZVJdLzo2maukltk6FeL0o35AeZhzSH+jRUpF5eRaE51S23baZZtTvbpMUw506ISk/1Y+HO2iFUXKtfeb9EPeF/+wDpA2XT8ffwQWHccqsK8gEykpOqgDEwWUxrqGMpVVmhgIENjtvbjOVtls79GJLTEQMbmTgpM9rseBxEAoK3WKPegRFqyi9vX5aiKUZawwx9sK4wmTMgQN4WvrXXTN3m9ybrHn22KUiL+THRDJI1bGNsk35R0mOZpgahDS+9+bUETrN8aQ3XbbTT97q7V6F/qcWDx4lImoFCn8lrKVcydHoCkCEtwejNov6eE0hFIUQkGgSUi4YP7RX+PIOeZ2OCUEs/jG/Hx1cyrZ0Ly8y4ooKOYR4eKI/muDNcbjjTbaKDgSYmwBS00EOQcHCXBNqv/8fLUtK69URib3rMBi9TQr6/D8ZZVMkfGjSX7+zugjwBhDNBlWJbE6izamPhyXPg69qfu0l1h5pXtSXmAsjA3geoaJL+O+NcTfnDt2zc6jeFEWyobCVZNelAkYmFDUsSKbVWAcVW5WCUP0Jdp8TKy+Qe7rRzhCISM9O+8bdUkrCnE+wzs/Jq1g1dEaOYsUvbzPiqE6hHKT6GB8Q1Z2Er2G1XFMMLlXhn+cdtNvFqcT/4bfDJKIcKI2IGNtnB/ynVZQ8W2tkpVvh1zMOMb3mY5xp6gf2dURRUbjuI5tfzNPkBKceQa/B9UmisoKr0A25lvqexY9N93XvvzlLwdDAuUgCg4RvHCqYgU8f3F/S+UN8ESRHB30exBH5uCieD6p68zHFEmIVY3ID01JbYr346hsXLPzH9qhjFq0DQyIbIWn9sEc3kbR4f06REQb+jykfsZqNhH8VE7EuqY8+a13dK/rI30BXlTEO5k/i2yZUtuZ0ig7tu2PRMRjLEZ/U6ZvKMu7zvUUGaZOekX8r997OK4xR6Is1vml33v2vnQ6jAEshImJ+VE8R9Izg8a47diqcsbHovGOZ+7Jx2nkPowHLI6hDaLTwukIvUsqdYlPUV/UN+deWZ3qllnbVvD8S/NFZTZyQZyG8tV1ZE54o+1nOJ2AX5fUNY+xjp+xMwblxuAhEq9rg5PSqnu0i0RiBxjSsGO9yjeIccRiY1fQqh5/yL/zkvoxcdQ4Sxuw5bSPFc3B7P2ic/ojbR3nDjkr8py24iJN7nMvjlrMczgT4vCYyvesI0sTOZ+8i8i2QUUQ4rlUOa8o7dRrw5iLFNW3SZ9aNo9wIWo7P2mSv/IuOxbVk2dxGKKP0l/XW2+9sMALnb/mfdYptCztftcH0feaymO8N66yZFe6DUVi4buhG6lL+o48X3euklpm5E6cu9DP8sd8hrZL9D94EPy2DjXRKal+XY8RTdpcvzo2SVNyko1UZfPRQnDk97rOEZSjn56CRVvMe4r0kDZ/Px9fBMbS4WKTTTbpKU+AHqM34bYY/HCwkJKHDsHgiDdhbLBu+sn+kitwFpl4WXsiNk0r5T0mUkUGzqLJdpyudQyxihc9h3LKOlw8NzfgQQi+eBmPKsUr2rTKdFDlRVH3+1zwZ3Lwqdxj3BpiUMhb+vVE2EBdw6Mcpqs20/UKSOXjR0egDQIKc1kkYDIhltBgFfxxfnaiH9/TbyvoWW9d3a86FjkS0LcgKTCq3h+Ve02xxvHFbqtUVB8mS2UKk6Ln42usCJOzBUZcxlcI5cLl+aqspfOJ80EHHZSxqlMhbOM0/PfMQQClDqFxpWCgZvAC+uIiuRJCTqiqMcY15K+YihTQekYOhH/Mx9gyEm+x4ycruSgHZUPxjpyk6AU35PuvviQPmYtRmIkUCj9CIkLwDIyeEDKQlHnhwsQ/HC7qUC9yT670r0OUQ3WAZ9lV2fH74mnaKoL7Rfw5fq/qNyveMUK+5z3vCbyEPIgCh2zNH862hEqu+l6k3/SbVZVtGPfsavMipThlsEpqhQrmOu8edthhk8YaZEPmBnxTfS+eHTZZRyRb/kGVw44xRHdBETSubWJQGJGuwlGzvQa8CV4Fv2FrMPbh5v78CcfTJrzBtk8b/W5QdbK8qMxoaNtfW4cLGe2oTxWv5L59lt+0SfidMPpuHi2wCUaWT0g2Qukv0txOv+OjxqT4+nT9btLOBlVWeCbyhb4R+Ui+4NzKHfxuQqkyTJ08ivhfnffkcKE5QJ137DPi8yk6j2FgTBnbjK22jnXPcf7G4RVHHdoJ/RDDLX9E4oOv1lk5PSx8xL80Z61bz6LnrPEaGVxpFz3LnNASsh3RGBRlgLbcxEHFphmfjwqPaYNTXKdB/B6VcWSQsts999wT2hrzwpVWWqkXMRk8cTqFGGOL9Ama76TyvWHzohQ5L1S45b/pnIs06VMvyOfgIuvcoGspxyb5p6Rvn7UOQ9hFiBykrRjQPXTBNwfZ92xdBnE+KnyeunWl27A4Ub+6ZOcfVeMx6enZJmVmS08iWWC7Q3ZhfoFuiz/61sknnxy266kqt53HicdWPc+9cW6ndeoGlpB0jUXvILsxjlnbatFzKdfq2HJT0vNnRw+BsXS4sMIpg52MQZxfkq/KPTbft1hEyBccLhDi2ItenUn3OfJeE2LSPCxictR0goZ3sARVKfltuXVP12C8eL3PzUNNW2IV+UO5suqnuRFCe6jb+8M+jwcIO3h0URaEf/ZCrkNM+C0VDbQW+36GDJuWnzsCw0JAjmlFfNKWQc/ZazovU8DrPkf7vu0X9pmZfi4MUrDec889e84WODuw/znGbcaGNfNV/gjhUFtMFSEAoVPjK+kiFH720kuDoZZysz9q1aoq3nFKQ0CCdz8jgyKaqB2l5ZL2NAZmlYcw/oRP1oSEFYG77rrrpATnzZs36XedHxgPUJYvmk9kykiTvVhmQyGC8onwxQrZT5/AKZI/HE3pE4RfXDF/DmL7DZH2tNbv1KMm5HW/hRw0yAfDZFHoYZVBTrJW3tFEXc80OSLfsCIUzMFltdVWy16WRzRDcT8rXzHPPtBM6KuozTerSnfQ96xSt2zSbFcvyPEGhzMczeB9fBcitrDHp9ojK1qsM+Gg6xGnbw3JKGDaKjXj9OPf1ogsA/u4tom4bva3+iDXaC9luFq5/3+j+SHRdpiD4ihOhCrGWJxUaEtz5swJK1vYzqcJb0BhJ2pqxNX7dY7wDq10QvFUNBe22yvVXXFVlje8HIMh/axfVK145STROKwhHwUloeYtDyjL11639dEqamvwZu9k207su5zj+DFK1KSdDar86BP0jRiXCamtiCjwXLZ2bUupMkyd/Ir4X5335Ixqv0Gd9/QMWz4ybsdGdN0vOg4DY/K1/SplbC0qc91rzIP4I3oZ+2qzsp1vg8yK0wU4MU5X0bDw4ZsjL6oNVJWp3z073jO+aJuQovfg2ZbQ+zFnFPEbI2LZVkt6LuVo23ddOTcl/brPtsGpbh5tnhuVcWSQshvbV8u5Z8MNN+zps5kzKdLgI7mjN3OSMkrle9PBi+rKeWV1rHt9uuciTfrU/5gtgpGVLX+oW2891yR/vdvkSPRHdB0sdoJ3M8ZAqQvGyvIeZN8ry7Or6/Y7TiefV3260G3Ai0ToAqrGVj3HselcJbXMzDXYuhsZh/njKqusEuZk6AWRfdjCG17KAuEyaqJTGud2WoaDrsNTGI+Yk1fNoyV3ax6o99sclabla23S83dHD4Gxc7hAyJDiHzhZXUnnkKJ7sXwQt2QnxGVKMvu8PSddSyi5bd4yONhn+p3HafZ7vov7hLiTUwX5EwGE0EOiWEFMuGrCTNuyshLU7oPJ5LQO2TTqPJ/yjB0Qea9rh4uUssTKNAljSgMnIdt2nKkKGT8OE4F+/RFhCp5plcsqHzxE77dVoNtoPfAfrXBQXl0fUbJbnsWk+MILL+w6m156Go9QipZRE6x33nnnkBzhcmPFRIoRVt+xrGxSBsZ8jecJf8fKeMiG3QsX/F9rBJh40QeZOCHvyAEjTlhj+m+jaErxc21/UwaF2WPSGe8H3DZ9vc9EnZXDTHToN0xcY5JRxk4UeYbw2ThcoMheY401wms2hCyyAgZC7i2x5NOBdOuseozzL/utaFtW8VD2LNf5ptSPetIXqxwulI7dRmRW7hBh96rWM0y6wRB5zdZf93WE5+KAgkISLFmxwx9tjpXGpEH7InJXFa9v881Uluk4WvmXlVLw05jsNnHf/va3w20i5mkizvY07Jc6SqSILZSJqC5lYeW7KjPtUKRtvca1TageRUfqprDfyPZFe7vynt0z/j8mouegWNZKS4zJ4EPb4Q8560MnnBCcnDQPa8Ib4G8i+FwdfqLnmxwxhhNNCKKfFO0hr3DhRH+Rw1KTvHgHzHC2g2dhOK1ybLB5IMdoGzzJZPBbHKOIhplCrMoVqT7gjpEXou/Fzh56fhSPTdrZoOrx6pxXQThr190WK6Usg5Jhivhfv3Ixrkq+ttsP9HvP3v9FLiMumW+BhrxDe1bb1jOM38gCEA6yOEQNGmPl3XRs1fspR+SuZfJoe7Rl5pSM0xqrV1999WyPPfYIybHFXT+Hi2Hhg3xPuVGwI2+1WXxjsUYfmcL34X9yzIefcr7jDjuE1dqputKybzYqPKYNTmV16/L6qIwjg5TdCIFP20dPgcwtJ01Ct+u8H6apfM9+9xQ5v185iu6nynlFaaRcm+65iMW2Lu+RTEw9mZ8UyY11MWiSf920i55jW5F1cocLxlsif2sM53oXNMi+10X5qtIYFT5PGbvSbcjhlzSL9OFcL6Imc5XUMiN3oiOk36GfQbaRfLP//vv3ts2FRzDPLKMmOqVxbqdlONjryGPo5ZAriwjZWra8Iv140Tt1romf2MUTdd7zZ8YHgUXGp6hPl1SMXeVmNR6TKoQdJjHxSss48oDeq3OkA8jARQeM92Oq8hxT+pTXEvu4MmAPk2LF+7777ttzwMDj2BrNmLijFLSr+yirnRTukE/KLNnaDLO+4G8Vb3wv9piHYIiE6x0WURatciRPvGA32GCDkD1t84ADDphUFDvQTbrR8Q8UMuTvtHAjoAmtVRoXISIFoJT/9hnb79mfuw2xDYCUhMPYtggjCQYC/W2++eZtit/3XSmsbNjD+KUmWEvQKxrXxG/ifOzvuu1Az73KGBmUjsXuKbNfru77sR0CKN8g5IRYngk38n8bb7xxT+gn4lQqSdFa5z2cLSSzFK1YRAkhwrDRlGSsIi/JXTat2bNn91Z0/shEp+AZnA/ET7QHoiag3JdBnXGZ9Hl2wYIF3Eoia1DVizinMs5CsSOInik66lkUkNa4r2cxMO62227B6YZrKCwlY9iViXp+Vj4J32+//QJ2GBiq6N35SntW2x999NGTHkPOI8y0KHYc1XUd23wzpTEdRxQVcuh5Y26YQr6PadNNNw2XaCuMV5Bt/3JCCjfyfxjStOpf13RU2+Q3RpZBkV2Fs8UWW0zJRs5IU270uYCTSVxufmsrQsYL4TkqbUKYp/C6MhjsKrZtttmm8DHmdvxBOFMqfxzB6Wv87b333pPehQdICU055USXyhsIB68xGwcAyQnKDEe153Q4D7jvvvuUdGblQl1EGSje8cucb7UlKbbg3XNznhgT1xkrUYZZIkKP2i2RMcTz6bvbb7edfbR3Tlo2iqZusNWSSO3BOg6XzTcZqxkjRpFS21mbOqg/FPXH50yMn0V8eMstt+xly7dpQm1lmBT+Z8s3Kx+TY9ph++17l5rqAdQfwLJI7icKEzLUTjvt1OMFTTGu+m69ipiTpmOrSaL2KX0LvooDOFG6LCHHSF6Kx2r7nM6b4qP36x7Zvg6iLUtfZd8lIk9dsjIhEcokh9r3mcuDkyWwEo+jLbEtC4Q+NdZz2vc4L+q/8TP29zB5jM3XnjfFyaYxyPNRGUcGLbux5QaErlaOy3ae1g/jVL43TF7URM6jvqn8VRg1nYvo/bbHJn1K7Yu8iY4aE3P8utQk/7ppFz1HfjgMQfBaiAUWNlJmuNjwn7BhXEjVfzTMstPXhsnnq/pMV7oN5lOyL6UsZhOP4jvWnauklplIx8g9Rx55ZG9bEn3MS/MIxCIWzFSR7UN1dUrj3k6r8OAeDoAQc0npN8KFiX9WJ3v//ffbW43PkakkVyn/xon5iyOLQHPt+DRWSRMWFYHB7+yzzw57FknhpXtFqwB1r86REHvnn39+du655/ZCues9y9h0LT5aLznuMfEjPCbhmodFKJqkDCVPlGFnnnlmdt555wWFvi0H4QQZaKRQ0j0YN5My/uIJvg0BPuz6SoBXOZlYfjKvFyHCNaHUvUEfr7766klZoIgEY9qmHbBRAnzqU5+a9GyXP9hCRsSgT8h/yuGOF0Jl4TvKMI7iV4rwIhQ++9nPhssoqW0EBZyy2GscIjpLzB/CjYR/OGZpdTARdxAeLTF5hb9qCwF7bxzOZaCD3xcZJKhDE6z/ONG3Cckpj1jSwrBQJ8JP3XagyRMRo6zCm5W6KHFF199wg0792BEChEaWophQgfvss0/PkISSBcOOjH5MPOfne1TXIbsiRMYjxod+hEe7JriMqeRNv2S7tuPy7dvsOFvmFd4vD+5fe+21YYUr5+yTuuOOO4ZJCGXEMfRd73oXtwI2X4hWleAoIAcmPWOVmCjfVQfu40WuyTS/6xJ1xXkSGQqCn1pnyqrVBHEeNkz6gXmaKMGpKxMvHMNOOumkUG9CQ4qILgNhmDr++ON7DgA8b3ko4Xur6CePPRZuo6DHAVffDV6ssL88QCSgKmrzzarSHcY9bU2AkeGUU07pYUAfo13L+G2jGVjnZbau4ZvxPPMEIoMoLCTfUW2Eutj3aNsYxOv0vVQccPyVDI7TNFvi0Vf5zowZNspTStq0N1aea36Fc/tJJ57Yq4ONUDUqbULhpKn7rNzwafGm3/K9MNTZ62WYoESDD0I4L1i+h6xEO8B5SWmpbfE878oZglV9m222WWhb9HPC38vhHZ6P4wTUhDdodTNt65R8/97lchmKPODT8/ItnmjnXRERHiQD0hbe//7394x9YH2iaRvxvKhJGa688sreHHZ2HgafsUDyDzIJ3xLHP3imHCwwXMpxGEU5EXyYy2suvEHeH4oc6Cgfikw5wdH2MUJST4h2ZSNcSNbjPjir39NOWG2GUfXd7353ofIuJDiN/5q0s6bFreqPKH4h2i7jGOMRzmvIPnJ8476+Aecp1FaGSeF/tlyUHZ0EbRXegBMc7RdC/mi6Opb+IJ6yXe44RNuHUBLjpCmZjKgrirrVFOOq7xYyLfgn/pcythYk0/fS9ddf33tm+9yRhbEVnsfYjdFKjmfqr72HC06a4lOQVOUlvrnke+SGrbbaKvAsVtGyeEyRlCoTMTcZbyHqDd+V0ycY4BzPGAcPevvb3x6eQ16RQY/oQ2eddVZYaS4+xnhEuSw1nTuQxjB5jC1zfJ6KU/z+IH8/kjvZC//pHEcGLbsxf7HzMNpfrMOtwrkJ3xsWL2oi51HXJvyV9+ycImUuwrtdUWqfgg8/NjH3RPZCrrLzE83x65YvNf+66ZY9R7QoS20idNh0OB9034vz6/r3MPl8VZ/pSrcBPtoeu45uVXg2maukllk6CWRK+pDmOSwoQmYWWR2YrsXHVJ3SuLfTuP7x749//OO9Merg3HEZ3RqEDM/iUG23jb7RLnCJ00n5zRxdJP2NfjOHZF6riHW67sfxQ2DR8StyFgzY7HVrvbml6LL1YZJwS0GoYPtMnfOitPHyqhPhAobNamcpYciP9OTdWyf/ts9g3MTgzupHWxcmaJYwQsiJhAkAnlZ2oJEiy77D+bPz0IiiYdcXoyXMyraFLhWLqled45e+9KXAnKXs4J0YYyYbhGS3EUPqpJ3yDA5J8SoJytFm9XFK/v7s6CFwVW7Epf/Thy+44IKgrEPpg0IOBZ0IYQrvWRyEUBSiyMMIgBJA7QcFTReEIRFnOXghSkOUkf+dGzWemyuKUArBq8p4Thf5DzINxiewAzOcIRCa6PsIaBKIm2B9cz6ebbTRRmGSisMKhgTw44/0LX8vql/ddnDUUUcFRRnpYbRTWG47jjG+djnhLCrvwniN/sZ2N+w9Df6Mb/zF35ffKJNkCOyHFYotnBggnGj4Y3XRpz/96X6vZrfffntQZvMgzhpy2Ihf7OdRHz8f/2aywySHMXz99dcPf7benOOsKocg+z7OARg+oXgbDGQgFD0am++d2CLCvl/3nLGVP1su3kXhxl9dYmIF/oR9pL440sipTf0YhaT9PldddVXgmfBnjFJnnHHGlHLwreJJW1ymiy++ODv88MODQeKNb3xjxl9cHzCsY6ho883icg3zN9gTdhwDBcYJHFhiDFCCa/UnZUO2or8xHjI28c3KVrYT3eib3/xmqBJzAPo1+bDVAg7BKI2sU2NXdWd8Pzrn37QpIlqxz2sXRJtjzI4xwqB3+eWXT8piFNoEzvZ8A/qSIrngNMKKNIxzOKTwR0SIOuMYSg8M+xjxmBdhXC8ilFyxYhY+jaMiZcHAxl+M45e//OVeck15A6uUGKPZbuDY3GlokES/wMCH7EGbRi6M63TNNddkXWzdhHEahS7OYWBIPfmL87vuuuvC3Iq+KZmFZ87M+SREOoytRBohHZSVRVuLyPAfp8/v2MGRxQu0DYzyjC/IfvF7yEp1lJ+D/F5FaTdpZ0Xp1LlW1R8vu+yynuMiji5ydonTTQntHL/bVoZJ4X82b4zd/MVtAqdIGd7t83XOacfIBXPnzg3tmFV3jEO0aRGORXbsaopx1XdTXvGxydgap1HnNzo4thCBh9P/UIgLE72PDIWc1I+a4tMv3fg+sijjpZwecMDjrynRjpgf4AyJHgyZIm5ryB5ywoXnSS91dc6fuQfBx5AVaEPx1iJt5g7D5DFVGKbiVJXWIO6NyjgySNkNnmTnYT/K5xj0h7rUhO8NixdRh1Q5j3ea8FfeazoX4d2uqEmfwukV/RI8CENxm/lJk/zb1B0HP2R3jbPiqW3StO8Osu/ZfAZxPkw+X9VnutRtsJUkzvnME1mwKufVKvxS5yqklVpmnMeJVolMipMFY3o85uMQwPyrHzXRKY1zO+2HB/odbHnoONGhMFdkLqk+z/u0g2OOOSZg3i+9OvcVMYdvaAMKMJ/UlpU4zNbRU9TJz5+ZHgQWmZ5s2+UKQ4PBsGqRyVRMGLNhIiiD2hCKuVhxT4dAmWaFhFhg5BlLKGDkKafr8Tu6rmOcRr/neS9+xv5mUnrooYcGJ5E4bSb9CBKHHXbYJAaCclGrmFQujhgVrJEHpmRXzVfVN85b6dqyci3+refiI6s8aAsMjDZtzuVJq3doN1UU37fpVb1n76GEZZCLFSmkhXEUQRNhQRTXU3mWXdd78dGWHWW+3cs7ftZ/L3wIaM9whbrGWxMBskiBiTHiwdwxAEKZzko9HAfoaxgurGHAIhm3eXuv6Bw+jaJJ3rooyZfOjYgYDBBuEOClDLLvq4/Ya/3O4/7U73ndb+oYRV/HwYUj5QU/JpjWYYE8UrE+Id/vXUIXGGH44xshXLPKtB/VbQcIfYccckiIZkKalFtlpz4oMeQ40i9Pv5+OALINYwVGWbV3Cfz8ZvzF+MnEqy4xSdD+1npHTlT9+gdGKlaxqyx6H0Pyqaeeqp+F/KR3s8YJRqnDckcAnD+Vl+oNLzjnnHMyu9rOJkmbFNkV97qGwUV0U+6s1IToF/RpSOWinPAw5CVL/TDlWYwmRMDSRJ40+SNN8jku/8Z2JRPXcYDCiCnZV+UgDRxmMbiLhCG/7TlyLYbGsvZ11113ZfCaOtTkm/XDxpa1Thn+WqG0VVo62vQwwNsVp8KSZ3GOK8KA6AZFoeBxUrar+eXco/xQztky2Lz0jL1vMbLnRc/qGkfGzaPycVrbWuke7aWOAkbP2yNRrWiHlE/l5j7th3ak1dZ6p22bSKmv8rTYcY02rFXLekb8TqtJeUfneqbsSH8kVD/bacR58Q5zPPjkaaedNiUJIgfiKMY30bvCESMEBjgiG1lK5Q1gBm+gbysP0uOc0KcKVWrv2fzic/sN7Lmegx8TjYB+ojRVJ2RBnB/i9mbTsedKs+qI3IOTmJ17Kj/KQtRA5cdKcTnr4vT02ESYWNLnN/NFiAhkNoIC16gLCjeOSp/rfF/G3Nipjm9Ku2CuHOPAt2W+Z3UR/eqtNFQWjlC/9/LMK58Tj4zTSW1nIZP8ny2nrtljfL+qP957771hIULMR/hNn9L4aBdW2HrYc1sGe95Ghknlf8r3ltxBmjYAqS3RN1Cwx9EtVIfJ2iOlNPWIERwnQfF5pQ/u6D7gBdZhsgnG5Fr13arKnDq2Ki3ytOf8huL29PTVpxdgoe+LceY+86LTcicCYaR3io5N8Ckqp027rMyMBzjDxO2d6KS0DVG/9PUccwV4lubgagv8ZjygLbC9AhGVJJcwNuL0LwIj/UanZyO3tZk7kH4qjynDTWXVseg5ey3Gry5OSr/fMU6f523+9lxp2Wv2PHUcse/ac+VTVDbd41j0Dtfbym6kUUV2HqaoXFXPx/dS+R7vp/Iim2cRTlbfanFuIufV4a+2PPa86VzEphGfp9SXd1P7VJif5Pwq5slgesUVV/R4mMU1LqP9nZq/3k2tJ++hD5RdAf5pZVGlW3a09bHn9vkmfU/vF9VH9zja+2X5954fY1myS92GxmLGUxYA1aWUuQppppaZ8Rj9LPO6eMwnPWyXsT6K60VEu0jRKZFGk3Y6iDY3iDSpH1FKsGNiL4EkT3GOky/OFrFNl3uQ7WdPX5n8v+g+URohvqfmOvxm63CNNXX1FLznNJoIPCP3rKk7vxtIDVjJ3JYISfWKV7wiDIY0Sttg26bN+xgn8cRk8oaw0JQIoUW4PowJsYNA0zSbvsekC2Prww8/XGjUtOlSf1YBosBC6RpPEu2z9nxY9eX744GIEpwVfZQPpRhhYVcwe1ih1EwxUNm6NDlHOYQjCoIZyvgiRtsk3brvgAvfjUGDftHUeFw3P39u+AjQfwdFOGSw8hmHCwRI2vCgCEMIq1HZM41JDEYN+O3CQqlY801YZY8TBwp9FMKDIvg43+X5+apZ2htG57q8xDriDap8C0O6RDNAdnjyySeDw0GbsYSw0wj4yCHIM30nLQZg+unyyy8fDFUYmLqWtUxWYZLDymlkROQlOTrYZ4Z1LieGBQsWZHj3IwvRtlGQxwa4pmUiTcZr0mQCXodwuOJ70CfLJoB10qF9sWofZRITyqbti4npqHyzOvW2z+BQxjdl3KG9SZFhn7HnrKilrhD4a2Jsn4nP4fPkgXEImUxGovi5rn6TH9tYYHjDOQJ5GAUlhIEGBWcVseqSqBzIsDg2831Jg2v0/34YkfZ0twm21sCRE15noxLCB1H61vluRRghX/P9eR8s6o6J4AH/ZX6ATAW2/SiVNyAX8N3hCfCSpv25X7nsffEQHDusI5d9pqtztSkiUeCA1/Qb2vKw7Qer2cBKW++weoyV43XmyUoLeYm5NUrPNjxZ6Q3zmNrOmpStrD8qLTBHPwF+gxjzU2SYJvyPbS2ItADhTImTKzIM23UxviJ3dU30A8YVeFAdeaQJxv2+W1WdUsfWqrSq7tF+4XuMq/DWpvJpE3yqylV1TzJcCo+pSg+sZ82aFcb8FINgVZq612buoDSGwWOUV9VxkDhV5Vv33iiMIxpnu5yDsWKYMO3IjkRTbUOpfI+8hsWLUuW8Nvy1yVykDe5l76b2Kc1PuhoXU/Mvq8coXB9E3xtmvYbB5+v0Gc1Lmuo2iBiFXgZZFMeEVNJ3TJmrpJaZdo/+nMiv1LPOvLysHpJH6uqUVL8ux4iysk3Hddox2DLHRKbsek43e/bsMN9k3snilVgfwHwFuWsQc6HpwLOLPHEeHkeaEQ4X4wi8l7k7BE7O9ytmkGBVKw4VMCjCARGmh8FAxCqkce2oqoMfHQGLwCAdLmw+fu4INEEAJbCTIzDuCMQOF+NeHy//zEUAZQ2rUwmjbh0MqDEKI5ySISLT9NuDNDY4hhf9nyMwAxEocriYgdX0KiUg0IT/FTlcJGTpjzoCjoAjMCMRwHBEpC/0ssieNjrijKywV8oRcATGGgGcOrQ9I1GptE3oWFfKCz8yCGiOgYMLtkyn/giMqx130f5V8yccgdFFgD3pcbaA5syZE/6KSsuqknHtpEX18WuOAAiw0rRo2w1HxxGYbgRom06OgCPgCDgCw0OAUKOseGH7A5yQWWFNlLqNNtooRFagJER26OdsMbwSe06OgCPgCDgCjoAj4Ag4AjMNgRe96EXZyiuvHLbvwtmC1bxsAebkCDgCjsAoI8B2hEQ2mJVHjSJyGfPmrqMcjHL9vWyDQ2C33XYLNhwfDweH8SilvMgoFcbL4gikInBHvi97P4MzIZYIC+XkCMw0BJjIOjkCo4iAt81R/CpeJkfAEZjJCJx77rkhpCjbSqy77rphK5ADDzyw52xBuNHTTjttJkPgdXMEHAFHwBFwBBwBR8ARmGYEWLn7jne8I2xLSlG+mkciJvy9kyPgCDgCo47AKaecErYnY+ueD37wg2EBw6iX2cs32ghsscUW2dprrx0Keemll06JRjrapffSNUHAHS6aoObvjAwCeB8efPDB2S233JI9/vjjvb2r2LuTvYu/+MUvZsccc0wne/yOTKW9II7ABAKLLbZYtvzyywcvSQfFERgFBIhsQZukbTo5AjMBAYzU7OHoUbJmwtec2XVgmzH2Ar3vvvuyJ598MqwmZAUFq3IeeOCBjK31fvKTn9QCAWdmb/e1oPKHxhwBor7Q1v/85z+PeU28+F0h0IT//eEPfwjtiLaEHsLJEXAEHIGFGYG//uUvofp//OMfMxbJXf65zy3McHjdHQFHYIwQQI47/vjjM2Q7oke6bnOMPt6IFvV1r3tdKNn111+f3XDDDSNaSi9Wlwg8Y7XVVvtrlwmmprX44ounvuLPOwKOgCPgCDgCjoAj4Ag4Ao6AI+AIOAKOgCPgCDgCjoAj4Ag4Ao7AiCDAyvAll1wyY2tnJ0fAEXAExhGBZz3rWWFrzmuuuWYci+9lHiEEXvWqV2W0JxbGOKUhMK4L39zhIu07+9OOgCPgCDgCjoAj4Ag4Ao6AI+AIOAKOgCPgCDgCjoAj4Ag4Ao6AI+AIOAKOgCPgCDgCjoAj0CEC4+pw4VuKdNgIPClHwBFwBBwBR8ARcAQcAUfAEXAEHAFHwBFwBBwBR8ARcAQcAUfAEXAEHAFHwBFwBBwBR8ARWDgQcIeLheM7ey0dAUfAEXAEHAFHwBFwBBwBR8ARcAQcAUfAEXAEHAFHwBFwBBwBR8ARcAQcAUfAEXAEHAFHoEME3OGiQzA9KUfAEXAEHAFHwBFwBBwBR8ARcAQcAUfAEXAEHAFHwBFwBBwBR8ARcAQcAUfAEXAEHAFHwBFYOBBwh4uF4zt7LR0BR8ARcAQcAUfAEXAEHAFHwBFwBBwBR8ARcAQcAUfAEXAEHAFHwBFwBBwBR8ARcAQcAUegQwTc4aJDMD0pR8ARcAQcAUfAEXAEHAFHwBFwBBwBR8ARcAQcAUfAEXAEHAFHwBFwBBwBR8ARcAQcAUfAEVg4EHCHi4XjO3stHQFHwBFwBBwBR8ARcAQcAUfAEXAEHAFHwBFwBBwBR8ARcAQcAUfAEXAEHAFHwBFwBBwBR6BDBNzhokMwPSlHwBFwBBwBR8ARcAQcAUfAEXAEHAFHwBFwBBwBR8ARcAQcAUfAEXAEHAFHwBFwBBwBR8ARWDgQcIeLheM7ey0dAUfAEXAEHAFHwBFwBBwBR8ARcAQcAUfAEXAEHAFHwBFwBBwBR8ARcAQcAUfAEXAEHAFHoEME3OGiQzA9KUfAEXAEHAFHwBFwBBwBR8ARcAQcAUfAEXAEHAFHwBFwBBwBR8ARcAQcAUfAEXAEHAFHwBFYOBBYdLqr+etf/3q6i+D5OwKOgCPgCDgCjoAj4Ag4Ao6AI+AIOAKOgCPgCDgCjoAj4Ag4Ao6AI+AIOAKOgCPgCDgCjoAjkISAR7hIgssfdgQcAUfAEXAEHAFHwBFwBBwBR8ARcAQcAUfAEXAEHAFHwBFwBBwBR8ARcAQcAUfAEXAEHAFHIMvc4cJbgSPgCDgCjoAj4Ag4Ao6AI+AIOAKOgCPgCDgCjoAj4Ag4Ao6AI+AIOAKOgCPgCDgCjoAj4Ag4AokIuMNFImD+uCPgCDgCjoAj4Ag4Ao6AI+AIOAKOgCPgCDgCjoAj4Ag4Ao6AI+AIOAKOgCPgCDgCjoAj4Ag4Au5w4W3AEXAEHAFHwBFwBBwBR8ARcAQcAUfAEXAEHAFHwBFwBBwBR8ARcAQcAUfAEXAEHAFHwBFwBByBRATc4SIRMH/cEXAEHAFHwBFwBBwBR8ARcAQcAUfAEXAEHAFHwBFwBBwBR8ARcAQcAUfAEXAEHAFHwBFwBBwBd7jwNuAIOAKOgCPgCDgCjoAj4Ag4Ao6AI+AIOAKOgCPgCDgCjoAj4Ag4Ao6AI+AIOAKOgCPgCDgCjkAiAu5wkQiYP+4IOAKOgCPgCDgCjoAj4Ag4Ao6AI+AIOAKOgCPgCDgCjoAj4Ag4Ao6AI+AIOAKOgCPgCDgCjoA7XHgbcAQcAUfAEXAEHAFHwBFwBBwBR8ARcAQcAUfAEXAEHAFHwBFwBBwBR8ARcAQcAUfAEXAEHAFHIBEBd7hIBMwfdwQcAUfAEXAEHAFHwBFwBBwBR8ARcAQcAUfAEXAEHAFHwBFwBBwBR8ARcAQcAUfAEXAEHAFHwB0uvA04Ao6AI+AIOAKOgCPgCDgCjoAj4Ag4Ao6AI+AIOAKOgCPgCDgCjoAj4Ag4Ao6AI+AIOAKOgCOQiIA7XCQC5o87Ao6AI+AIOAKOgCPgCDgCjoAj4Ag4Ao6AI+AIOAKOgCPgCDgCjoAj4Ag4Ao6AI+AIOAKOgCOwqEPgCDgCjoAjML4I/PnPf85+/etfZ3/4wx/GtxJe8oEjsNhii2WLL7549jd/8zcDz8szcAQcAUfAEXAEHAFHwBFwBBwBR8ARcAQcAUfAEXAEHAFHwBFwBBwBR2BhQcAdLqIvveaaa2ZLLLFEuPrUU09ld9xxR/SE/3QEHAFHYDQQwNni5z//+WgUxksx0gjgkMPfi1/8Yne6GOkv1W3h/uEf/iFbccUVM3jFDTfc0G3inloSAm9605uypZZaKnv88cezb33rW0nv+sOOAAhsuOGG2SKLLJI99NBD2Y9//OPaoCy55JLZBhtskK2wwgrZn/70p+zWW2/Nvv3tb9d+3x+cWQi84AUvyFZfffVQqdtuuy047c6UGjbtI3H9/+mf/il7xStekf3ud7/Lbrnllvi2/3YEHIERQeDv//7vs1e+8pUu547I9/BijBYCLv+N1vfw0jgCjoAj4Ag4Ao7AwoHA2DtcoMBeeeWVs2WXXTb73//93+wnP/lJcJL493//90ZfcN999+0Zo1BK1nG4eMYznpGddNJJ2axZs7Lf/OY32Yc//OHswQcfbJS/XkLJ8+a8bqJv3n131rROSsOPjoAjMLMQILKFkyOQggBt5oUvfGHKK/7sNCCAXIGBFCUyTjJPPPFE9r3vfS+7/vrrk0qz/fbbZ69//euzv/71r0kOF3PmzMnWXXfd7Oqrr87uv//+pDy7eHi68++iDnEae++9d4gy88tf/jLba6+94ttTfu+6667Z0ksvnc2fPz84aUx5wC8kIbDeeutlL33JS7IncifFG2+8sfTdNdZYI1v+5S/Pfp3L89dee23pc9NxY/fddw/ZfuMb38hOP/30WkWgLzG3eeYzn9l7ftFFF3WHix4agzshqtS//Mu/ZL///e+z8847L/u///u/wWWWkDJjwjvf+c7wxn//939nCxYsSHh7tB9t0keKarTLLrsEZ0W+mTtcFCHk1xyB0UAAOfcNb3hDspw7GqX3UlgERlXuxXl9p512yu69996ByYWDyMPlP9u6/NwRcAQcAUfAEXAEHIHhITC2Dhcve9nLsve///3BEGHhwvlis802C4aJD3zgA2Ell70/iPO11147rBojbZRrc+fOzQ455JCQFUYTVjSK6ob+f8tb3pKtv/76ei1bPI+60dbhgrIRVh76y1/+kqFkc3IEHIHxRWBh2kYEnojB8sknn8z22GOPoX00VhNfeOGFIb9jjz02+9GPfjS0vKsywmni1a9+dcZK1Ycffjj7wQ9+EPh61TvcW5jaTD8sRvU+K2sPP/zw7DnPeU6viDherLXWWkHhd+KJJ4Zv3rs5gBMZaHH+3G233Xo50B+e9axnBcX2H//4x971rk/K8u86n1FN7x//8R+DLEv5/vZv/zY77rjjWhV1WN+tVSEH/DIG1Oc973nBMbrK4QKl+t/93d8F4/ioOVykQvTsZz8722effXrOFhiPkf1x3nLqBoGqvoUhEAce6JFHHsm+8pWvdJOppzIjEGCLNxyh6JdEoXJyBBwBR2CUEJDesKu5Y9V42bXc2yWO++23X4bu+XWve12IEDaIBS9d5+HyX5ctwNNyBBwBR8ARcAQcAUcgDYGxdLhAOYEzBYrTMsJggUPGvHnzyh7p7Pr//M//TErLGiFe+9rXZkcddVTvPiF8P/ShD/V+D/MEI81L8tV9ou22206nfnQEHIEZjAArLFklf91112Xf+c53xrKmyy23XLbMMstM4mHDqAjjDatOIPjnIBwuUr4PBvATTjghAw9LKOwvv/zy7Oyzz7aX/XzMEEBBdvTRR/cibeEc+R//8R8hKgkyD3/IFKzitbJG19VkRTZ5EY3B0nvf+96MyGLQIGWIsvxtWWbyObgTlQSn3ccee6x1VYf13VoX1BPoFAG2jSCaBYSTBbyFduXUHQJVfeunP/1pLyMiMDo5AhaBc845J3v+858/dEdiWwY/dwQcAUegCIHZs2dnBx98cLhFRC0ia7WlqvGya7m3bVnt+ziq4nBBNOXf/va39lZn513n4fJfZ5/GE3IEHAFHwBFwBBwBRyAZgbF0uEDJHztb/Nd//Vf23Oc+N0SYEAqs/kU4xlgxSCLcNnujr7baahnKNTd4DRJtT9sRcARSEXjHO94RDLg4h42rw0Vqnbt6fhjGqbrfh31Yzz///BBhgPphjGd/ccZDHENYmY3jxbnnnttV9T2dISPAN2TVK4SBFKdRvimEowWrq4h4wMrpiy++OFwfxD8cOlhtRvSU6aDpzn866mzzRPFKyH8i2XThcGHT9vOFBwH2thddccUV7mwhMIZ0JKLFfffdF5zjYuf8IRXBsxlhBJ4xwmXzojkCjsDCjQAOvyJ7rmtdH0dZ7j3++OMz5Cnkcebeg6Cu83D5bxBfydN0BBwBR8ARcAQcAUegHgKL1HtstJ4ieoUlFFoHHHBA9q53vWuKc8U///M/20cbnRP+jjxZIV5Gn/jEJ0Kck/sJAABAAElEQVT+GEQef/zxsscGev2lL31pKKeMNW0yo84rrLBCCFlP+PA6hMMLxiBW6KYQ4QrBl1XkKRM6nuU9Qj87OQKOgCMwCARYzbLttttmO+ywQ/atb31rEFnUThMDrPjx1772tWzdddfNNthgg+ztb397Lxz1jjvuWDs9f3D0EFA0FUp2wQUX9Jwt+E2UKjkArbjiilxqRGwvJseNsgRQKA7C2YJxm+gsr3nNayplhTr5Uw/SwQEllXBeSpFXlsi3deN5tvCpSzis4PTblFhFV8fZgvpTNpwzuqCmdV122WWTsqfcr3rVq5IxYnud1LySClbjYcm7fN+6cisyOt9JIbr7ZYMsT/umrTYl2zf+7d/+rTIZxhawpd3WrZMSbPJNNGdhvjFoUh8hzxTSe236FgsCunS2AC8iXTH/qYtdG15ZhhdzYspQ1lYoIwafumUkPbYFpax1qWkfacLjisrUhA8UpdPvmh03JQP2e6fqvrB+0YteVPXYpHvwOr635SmTHmj5o6tvomKgw4gjwekebZJFOXX1B036HHnhCM0YVyY3oC9hTKDudWjYPLpOmewz1JP6pPRh3k+Vx/hujDllvMeWqc45+dMe6vYt8dO67ceWoWu+SdpLL710p3jY8tY951vAH+h3dXl+Udp15N42+Ke2NVtGtnb+05/+ZC8Vno9KHpZX95P/mvDfqvG3Kc9UO0qZO6X23yZ1LfzQftERcAQcAUfAEXAEHIEKBMYywkU8kbvjjjt6VXzwwQcnKW/LJrm9FypOEBaPPfbYMFnWYxjfvvjFL2af+cxndClMMNjiRHTPPfdkp512WnbJJZdMmQy+4Q1vyD73uc9lP82jbhz87nfrlaTjZz/72V6I4B/84AfZj3/84+wtb3lLb49mEiPsPStjCct92GGHZausssqUPCgHhJOI9nNGCOX52PmBvRsvuuiiDCNfTOxPzB7RVon81JNPZt/Nv4X2LsZIxD7wlEeEEmL//fef5MjCc0899VQwLDGxEYEvEzmI1b5XXnllMILyjfgmrAp2cgQcgf+PAEqdmIiEYK+jOKC/FREGBrYOYBsNVmgyWa9a1UHaKA/hFdrblD7+5je/OSOU9q233hr6alFe8A6c41ZaaaWwvzxbL/WLTETfJ9wpyh14Lry/S0KRIGUeq26gsj22KQuKa3gTIVHrlM1+B5W73/exDoSMMfA+6JF8b3icQYiyRPh4vtkTTzyhZP04RgjIYZGx8NFHHy0tubYJKH2g4MacOXOyvfbaa5JSmb7K+IocYWn+/PkhahjXDznkkOD8EctekiGQSa666ir7+pRzFGLvzmUeeIL6FQ/BL3j/S1/60qR34vztTcLkstexVSb+5je/CZFd3ve+94VHTz311Oyuu+4K5+edd14I2/7DH/4whES2UUR4gD4LBkU8541vfGO29957TzJ6089vvPHGjHRjgm+wbQMOMfABCL6JnGrrHb8X/0YWI5oNhMz5qU99KpwTjpl+znYyrIY79NBDJ0V8g6d/9KMf7YV+xmmn7ndrUlfkTGugp67gzviBzPbzn/8823fffUPZ9Q/+RLlf/vKX61LACJnvuOOOC21CN1RfeN21116bbb755gFX8sEJbtj0tre9Ldtll10mOQvRV3FO+shHPhLGr7hMRKPZaqutenI792n3H//4x7Pbb789fjzDKQAcrJGf+l944YVTni27QJtlXmDp0ksvDT/jb4LRiO9hFdzUCScBnLxi3tD2m+yxxx5T5iw/+9nPsoceeihbb731wjhqHQepN2MjcgR5x8RWWvSt2267LTvzzDMn3Wbe8da3vnXS/ERtlO0c7LZMqleXfWvTTTcNcx8KBR8VlirzpMJGP5A3dt55595V+AlpMI+0vKSKfyF/Mc+y8zN4PlilkHgoc06cwNZee+3enJO2glMJbYhxCZ6AQxTGZtF3v/vd7KSTTpo0B9S9nXIn0c3yfg3vFNHev/71r5dG62raR1J5nMoTH5vwAaXBt4Cf22/ItiIaT+GX9FGIb3744YcHI7bGE64zl2ZOzjhUl3ifyFGxvoDxDPn8k5/85BQZF0Mu27PCs23+zPHPySOpIatDGL8ZjyAWwWjsChcm/lFn5JuY/7T9JpQL3gaejJUYzpkXCF/qd++994b2x5hEP0ce0X34AfIHeMZE2nX73DrrrBPkEtL48Ic/nLFVIN9VxNh82WWXZV/4whfCOLbNNttkz3nOc3Q78CJ4UtG2DV3yaKIcai6B3BNHPdxkk02yuXPnhnKha9G40StodIKTAm2ENmDlUvgXUZVi2VC8pIk8htM5TubiLfAexgXkv1RCLjrooIOC/GK/A3Pis846KyN6bUzwU8Yv2o+I9gVfZ8y2Oi7uq65d8k2lyZz8V7/6VZhjWzyYDyKDImOINt544xAxjd98K8pjCdkcfZ3kqiOOOKLXRvQcW4vwh74QvaEIeRxMGKPVp7gHJsxTGRugOrJomdwbEsj/NcW/SVtTnjoyrsFb4nFZ32OU8kiR/1L4r+qKDvvXeZ+T0xPfmIWPUArPZE6q92hTzE+RHdSOaI+MJ0Wyb5P+m1JXfXc/OgKOgCPgCDgCjoAj0BSBRZu+OJ3vMcmwilomCXIYQPizdOedd9qfSedMHDEOWOIailOUDyhXITvB5DeTT4RFCYxci2lRo1iK7/X7bZUeKLr5i4mVRQivTKz6eeyr/BgvmBzZiaTSRUGEIMxqO9Wbe1tuuWVYXa3ndFwyVzLI2YJrMRYoQ5gQapKo93gOBcWHPvSh7GMf+1h20003hVu2DryDAtvJEXAEyhG4+uqrp9yEd/EnQlmz0UYb6Wc4ojTBYGdX2nMDpdLJJ58cjF6TXpj4gYLxta99bVDGY0BFgWMV6CgpMD5YxRh56b04TSbwbLURK7B4DoMpBlfxFXgTxjqUyeTTlijXV7/61SnJoKiVEdfexCiC0xlGAvhWnbI1+T4YpeD3KBnjPWS1grboni2rn482AhgwtGp+/fXXD8omlRhFs9q8DB261+/Ie1Js2WdRWmFUPeaYY3pyFPclF6gPx2O1TaPqHs8xfiM30K9iQrZAiY6i1Sr24/z1njVg6hpH0pazBb/1vj1ntXXM17iPYfuDH/xgzzDKNQh5kjStzMV16su3QY5BxhLx3Lm5wQT5xxLX11prLXup77nFVN+Al+RkwhEFv9qDEgRrlOIof3G6sunoGR3tvdS68i4OA7EzB3W1st+zIlkXg9spp5wyydBEeXgP3ka0OJT3MoSrvnxP5M3pJLYzLJI9+QYY8mjje+6556Qxa+utt854LybaPcYe+rpt98svv3wwDNpvw7vUH1zqUvy+fc+2J74f47ocvfQcdaJfYCTHEHv99dfrVq8NNvkmyP3ICTFh2OUPoi1YUl1sue199YH4PvWij8akNso8DmO2SG2ty75l5y6WJ6nMyrvoGONAf4/nuLzHd8LBjAUC1vF0ww03DDJRnDbfHANcCqnsRXNO6sK3w9kF7OK2RD4YqnDmZ5yxhLPF1rnhOSbyWy93vqGtMG4hf4qa9pFUHqf84mMTPhCnUfX97T3mwsznYwJjjGpEEzj99NPj24W/j88dIor0BfQvsEavYvsDjn3I8XE7JHHGOL4nhlmMtzic4VBAe189fy92uIA/ql3g/CDq6psIs80220xJ947UD0Mb/IC2E9eH38gVOFbj1Gcppc/Zvv6v//qvNplwzn2c9TAaF0Uoo+8wduNoy/a0oq55NE46crgAr9jhAmcqkeX7umaPOI4zh7MOC7oPP2auRl/GwUwkXpIqj+HQxXe0xHfnm6YSbYJyW6dGpYEO7Mgjj8zOOOOMSQ6R8DDmgGprep60kCtp8/QHOdVxX3Xtkm8qTfRxMVE2xjxkMxx+NB+mjCJ7rmsaO9U3ip7Rs8qf30QWjnUIeo5yIOtRDuS5qjR1T0fSUJmUXhv8U9ua8rRHlUcY6Z7wGKU8LI4qp46qB79T+a/qumxF5L4UnmnLgvwSY8tvZBV0HzheiKhfav9Nravy8qMj4Ag4Ao6AI+AIOAJNEZis1WqaypDfiyeACPsomzB02YkXAj5K50EQCuWiFcrKC+UQ3uUY4Czhrct1rV6x97o+Z4LHRB2lO3liiLPENf5+97vfhQkkE6MiZwv7DivKpfxBOWBXoem5OB9d1xHcMG5UTQiYNGI8rXpG6fXLT8/50RFYmBCg38Nn+FMfQSGqaxytcl7YYPyRUZKVPj/7z/8Mym76IspYFJNVBA9B2chEGmUPqynJn99WIYny9ZprrukZX+BDj+Qrc1B68jwruooMtEz4WbEJj/3FL37RKwrKDhwvuiDyx4GBv7IIIDYfKSFSytbk++DIAsEfreMM12TQZZV+7IzBfafxQAClkvorDkcomOk7KOkVyYn7RQ5B/WrIe6yuZAUtRiyFmEWphcNQFbFSHEPTN7/5zd5j/OZPK3N7N6ITIhGoLyOTwR9Q1F6Vr55UXTFM066rCB7E9jmiG264IShzWYFqy6X78ZH0kcngcSiBWa0lBzAMBqy2EiGnzMtXtIEN76Dco644UyniDTKWDBe8x/eRswXp8j4GFhzY5ECg9Ls4Uh+MJxhpkKlY6Qlxfe7ECtU6361JXWmbyJcQ/AZlKXU9N1/1XFZXyiXjDN+d748MyXtyIGJcoG2UEW2W1W51jYxl6aRep+ysSIaQ4zFo0BYxYmoFJ04UtCsR8wT1WcYSvhNtiG+luQFOJLwnYmyT3IshE4MnThwYrNRX9GzVkTZHXqxcF4E11+S4QT44WcsQesstt4R2w7elj5Af9eZ76BmlZY91vwlGVzlbMH5j0MKBhTrGK25t+k3OwR6DD4SsQ18kL1Yuy4kTOYcyFRH17qJvFaXNNeoM34r/iBwgksM5v+E7GAwgDKS77rpriPCCTMB3gk/xjIjf9H0R82bmVOTXZiEC6T2Zl5E5N+2CdolcCeEsTzsh4gaOU7Q3jNxylmABA1twiIi0IGcLvgnOGLRPsOGbQfAm2r+lJn2kCY+zeeq8CR/Quzoy76ae/Ol7g6muIRtCOPtpvg1v5/vShsFUhlTauR2DlEd8pK3L2YKxCUcOvg9joPg1z9homLQX2hFEZAbGFMqgqDxgYducttxjDARvS0RNEBE1AerqmyhdHbUCn3ZCHxbfhB9QH+4T2QH+LZmad9k60BJ1S+lz9l3OiZpBGWjXDzzwQO82zhaUiQguBx54YOhHui9+q4cHwaNxGtf4gxHbEvlLj4acQ1+uIviQnC0Yw6kP1zR+8C6yXRGRV115jPmdnC3gJ4y/jFOMpf+Zz1FTiXFbzhZESISXMX+kvTC+Q5bPsOqeRUyUmfs4V9B/GO95H0JOL3K0CTfzf13xTaXHEdkLWQgscJyGt0B8E+SqpoTRHH7EGC3CoZRrcspCbsGpD+I7InOACTgpWhzP0B6gOrJoeLDgX1v8U9paQfa1Lo1SHnXkv7b8l35INB507+QHteGZ8GYc9+DNyAAaZ0h328gpM7X/tq0rZXByBBwBR8ARcAQcAUcgFYGxdLjA858JhibRVJqVGXYvUiYdVROfukChrGT1MhMGKUF4F8Ea5UMZIYgy2UGpYYnQ/FxHOd0Vff7znw9KGBRpUpwobRQsCMPkKQWW7nGNP7YfYd9crS7jPgo0HDCod7yNiIyaTPCkGNY773nPe0JZEL7t91GeHFEYMTEVoazmWzG5xeAqwjjL5K6MCGmHsH/zzTeXPeLXHYGFFgEM8hhz+JNyDaWprnFktY4lrmkbJpSirCzYNu+D9MM/TGwHZBWs9l2ds1IdhRQrfdZZZ52gkCGkN4ZkGTp4FgOIDE2EGiVEMwpQQsaTH7xAinqlrSOKQMq2xRZbBCWptjCR8kfPNT2ixMKxhD/ySKG6ZWvyfTC0aHUgxjuiZKB4ZJzCoA3Phd87jS8CjNMok2j7ODWyqo8tzBgjGRPpy6wSJzpNKpHOxRdfHGQBxl3kEMZRaJlllukZKFPT7fe8jBY8h1zBCk767Gdzo641NBSt+rRpwxfk3IQyDqMeDlGsKCRdKb7tO/ac/oEyD97GexghZfzhOVtO5D7lxfZwCxYsCEkhB6LkFyFDiWRU4tvhwEIYfWRRDNl8vzJ+pvdTjzgs0N+RiZEtaTcivmddalJXoq1A8HrqitGdumIkxlBYVFcMJkQVgNg+gu/Pc7yHrKxxyq6wDQ9P/IPf0WYxZBVFGrLPdn2+1FJL9eRdoikhFyMnE3acsUzyLoYhkQwN/GY81KplvpVWUiNDa2sUol3MmjUrvE47I3oKhgucNXBqOvvss8O9rv6xgl0h75GlkdsZ+5hH0C/mz58fsqKMyOdFlPJNMOCKMBrTh8GNOlJXVjF2Ra9//euDUZpvRJ+nL5IXRk4cPUXWwKxrHLvqWzZNe06d4Vv2D4cvOWxhRIS/Qcw31SeQoagPR/oe4fqRlSD6ltof8yzxL+ZIGNYZM8gPJ5t+vDIkWPCPPqpIX/Bw2qVdeQrGGORwhqNv33333ZNW0FsHF4xzEPVArpQDMNjwGydcaN111+05dzXtI014XMg8+teED0RJ1PpJn2NLPwhDLZjDE8AXTJH/OIf6yeQ8Q38Qse0GxnG+D2OgtqviPtvVQMgeGG1x7MCRgq0h4A2UASOsnGzY2kVkx1LkeEvoGCDkGxnxu/omNp/HH388GHxxquCc8VGOiDyHswkGYWRp6kD/sU6XSqtJn9O7HDHc4xhIGWjXGLA1vnEfuQfnL3ge/Qj5RWR1MYPi0YxBELoYoqSIcOCRk82tudzSj5ZbbrnQRpj3YPCnPvAm2oIWPNGW6bcx0X7rymPW6QpZgfGXcYp6oHeij9QlnMK0qAD9F1Gc+Aa0S9qLnHcpt8YH2iq/IRwP4Hn0H+RI3md8geDBLEyKqUu+qbRJkyhZjN1gQT+FF4gvMO8eJIENZYBHMK9AzgUT+h6YiOTopd9Njm3xT2lrTcrHO+OWRxv+q7qii4fX8c3b8kz6IpFl4M3IAIwz0hk9b8K5G5yb9l/JQ3Xnc+Tl5Ag4Ao6AI+AIOAKOQBsExtLhggozyUFJU0ZMPiSo8QyrpVmJU/T3yYJ9uHmHSQQKTo6khYLQUtEE0t4fxjmKAowoCL8o0uI9J+uWcdVVV51U3Ouuuy5MOqk3Bj2rKJCCxRoneBnlAnv7Qky8ylYdxEYVVjxigEExESuUyyZqrEo5OPeARthHkejkCDgC7RGQ4QfnCpTyIvrmRfn+yxAOFUWhTPUsR/olPECEQU1GAq6h0JNSCkVVHH4YpR3OF1LMKh0dTzjhhKD85TfPSuGvVfR6bjqOgy4bKz9QuEOs2uBboEhA0cVqK4v7dNTf82yPAON6mXyDPIJyWMTqVkKLx38ozi0hIxRtY3N5bjATxasddb3tkfFdRDmtwyX9hdWF/H3/+9/XY4VHa6wr2tO338ptDNcy6ikD61CKMU0khTz9CgO/JeQcGWnogxDRHlQvjADwPEs4uMiAaK83Ped74rBgifqpXPDpupRaV1apq644WlhZmzzhySqHLYOMF1z79Kc/bW+Fc9KCMGzEERWoL4rS6SIMhbQFiFXnVv7F2MTqTdowYfZFcl7EqSl2eCbSjEiRGKxRtChqDM4CXZKMq2DLtiEx0e71bWO5nWdTvwnzMAj+pYgm4cLEP4y5XRHOIxgUkCNoj5aY34i0ylm/OXbZt2y6VeeM44oexnwLw4OIyBAYM6AiB3Mb9VE8Uryculx00UVKqneUDNG7UPMEHhM7+9m2jJE1ltusTCJjMvVRREWcSO2YRlEoN0Z+iGdlFG7aR1J5XMi44F8TPlCQTN9LNmpFEd+jr7AaGMJpSu2jLGE5NnIfZznb7mk/GoPlZIUOhb5DH8KQHpMi0sgIzX3GeXQzEI4CIvib+DnGOVFX30TpcRQm9pqN8mP7vp4RNmCoCCxN+pzS41jUv+SAwP3YMRo+K6cBO48ZFI+2zjHiO5QLx3fRF3LHnH6E4w9tBLmOPmvJrlCX3sjeT5HHxDfgE7Gei3EZY21dsnKIdTbS+ywA+Hnev+jrit6hMZr8i+RMrfAnjVj25lpXfJO0RPBh9Td7TXIUMhqOU4OiO+64I3x7vn8sIyPvSnaw7blpWbrAv67s37SMKe15FPJow3+pq5yMVJe2PNPyJKUpfm7HmSb9t01dVRY/OgKOgCPgCDgCjoAjkIrAoqkvjMLzOAewgs4qGDBCIJDJMx9FDqGNmQQyKcEgZZ+39fibZz3L/uydx5NHlAlM7CT4SVnUe2EETmInB3n09iualHR6jn09tVqTa6oz51KcvPAFL+Bnj6zhonex4EQrHHULg0sZxc/qudtuu02nfnQEHIGOEJCB6MF89XFMTIYV3QZjk5Q68XPw4iLDrn2Oya/4sRS89n6/83h1swy6dfldv/Tb3B9k2VCsY6jUd2KFHqv3cKwjWghKXBR/Rca6NnXyd4eHAMokolUhy2gFJs6Ur8zDUG+eR1th/CWcu1Zts/q3SMGLgpqVb/1Ixgaeq+ug2S/N+D4ratkjnv6JwQwDEk5cKK65Fxvb4vf1W84N8JjY6KdnUo84RiDrwY8kP5KG8uJaEY+SIltHhX7nXVZ7TRdhKEPBLf5apxypddUqetKWQrROPtaBllXGMcmJg+vgGSt04+eH/ZsoJ/Q15GGiidB2iHaBwTLuaxgI1J7+Lu+LRYYdlV/R+YjUJ1IkI/0exFFOFNSjrA/irMC30PYxbcqhvhI7QLRJs9+766+/foiaxdhJ+9I36fde0f0mfasonfgaRl4ifIi04lq/FUqf32zDAc8vI1acQy964QvDkTGEyASDJGv0K+LL1gFDfGmllVbq8agyWZKV5ooSg8yIga9pH0nlcVV4pfCBqnSq7tlvXmS85134o+bus2bNCosuytJkTOI74GjBHwsp2M4EWR+HGesMYNMAN5wxyAcZs5+MzTci+hz9Db6GM5oM+oyz1uGhy29iyxyfUwaR3YZQ16xzoPiDxb9un1N6ZUc5VHA/dsDjGgZqcLM0KB7N94YvwHusA70cCdEl1eUbRF7DOYexkfRoI+rnti51zsvkMUVDjHVcddKMn7HOTEWyGsbkffNIEZY0RttoKfY+3xO5lDFGjoX2ftF5E75ZlE58jTpp6y7kkKI6xu+0+Y2hHYdT5hy0BasvbJOufXcQ+Je1NZtv2/NRzqNr/jsInml5s75Fk/7bdV1VFj86Ao6AI+AIOAKOgCNQhcBYOlwQit1O5lDeY+BjokOobSkg+E2I+dS9j6sAs04YUh5WPT8u9ySMqrxVShUpJJ6dhxsVla3G1X0dMRbFaTNBKyOtNim779cdAUegOwS0mqdIGYjyTYZJlLtlVGa4sc9r9SXX4lUn9rmicxttR/cxhEB2XNC9YR4HXTbC6cvZgm0NtKoInnx5vl3M0vk2AoSYZWXZMI1aw8R4pudFKHi+J86dbNUgAxYrwr+Wrw4lChQKTe2VjMHbGqGED1s21CHbX22Ehzrv1n2G1W7s7X1EblRcJt8Lm36KUhpZjj9WJyK7qR+Xpfu3E7JCv+fK3q97HblDSmPKKifTovclD2kFJs9Yw0rRO6N0rUldrVEopa5WzqzCFHzss6OCF5Gb4KtsM4UcixGIsYy/Aw44IDh5KwqFHeNoS1X11T276twaYwZVf40lVf1J5VB/aFoW5mMany3PaZpev/fI68wzz5xk/EJ+0Rgdz0P6pTfI+zjvgA9EtC6F+1eeWt3L737zTi0EeE7OwyAMPqNImqdTtiIjONdtxBMZMZv0kSY8jvzLKIUPlKXR77od08sM31ZOX3755SsdLshv3333DRF4iBbCuMX2Nauvvnr4o5/PmzcvhHJX2fhGbIWhfst15BL6EfzAXtc7OGbjcAGxrQiRqBSlAcdotceuv4ny7+rYpM91lbdNZ5A8GodXtp2A9+B0gR5HfNFGIrHlic8Zp+Gzeo/7pEM7oX20HTdIr+uxQ7xE5SSPKuIbSM7TeFj0POMoZRUPLnpmGNc0ZyAvFi0N0uECRxu2IrUkHmHbhL2fej5u+KfWbzqeHwT/HRbPTO2/g6jrdHwzz9MRcAQcAUfAEXAExg+BsXS4sEIdyjOtpsa7nLC4bFEhQpmAwwV7JxNuXZMm3efICqAmRH4zhVCCSOlLnVhpUeZEoeu/z/fXlbMEuBIyklWrVWS9vfVcmTKJ+12sZlA+fnQEHIFqBORQVqRItW/qOXtN51X9Wc/Y97tQyCndmX7UPtgYrORsQZ3hyWwvwF7GfLutt946RLqY6XjMxPphOIFYvWoVp1zDwILylBVlCpFKO7BtgedSyCqHWdk3KKLsbAOGkZpV52uuuWZwFKH/s4KeiGSspK2i3+YyB0YiGSernm1zT6GQSYPQ0teaLQjidCUPWQcnFHzjQk3qag2hctKrU18MEsiZyO3s+V1Fg4jwgCEA6mcIkFHbjlMq66U5n+XvTW96U9gWC8cK+hBp4nQBHhjNbV/CWSoOg670OMrgbCMBgJP9Nvb5rs4Zq6lrFR5yrpGjQtO8mS+BJ+OTVis3TavOe+xlL8U82x+w9SCRgiDmK5flDoqjQO985zt7kYXYeibeXo0yWpmKSClqx0XlV8SZ302sXtccrejZ6bzGnFxUtv2Rvh/Psac71KSP2H5Ul5+HzCr+1eUDFUlU3oInKLoB37BIT/GSie2sSKgsQoXNhHaDoy7jJ1Eb3vzmN4c8SB8eRuQstohgLKOPHH744aG/8h6R1b761a+GVfykSYQibfNi80Bm4X0cEIl4AC/UlgJf/vKXe48O4pv0Eu/gpEmf6yDbKUkMkkezZQ8OFxDOMXKGgU9rm8YpBYou4ASu8YMop2z3KrkVOW+PPfaI3kj/accOq6dKT+npNxTxhDbOn2S4svQYyzV2qS0XPatxzfKooucGfU1jNvlYWa3rfImIh/MphCPKJz7xibAVsfLB2aoKLz3X7zhu+PerzyjcHwT/HRbPTO2/g6jrKHxDL4Mj4Ag4Ao6AI+AIjD4CY+dwweRIkzvgRXnHnxSj8WTMGhOqPNOLPhXpWsKT3+admh5pxWna9KfzHMcGraSgHIRMtXtSco2VRexBrkn5L/NJKMYPEWFuUUJVEd8pdu74yEc+MmVFF8oaa8CoStPvOQKOQD0E+vEf+jfK76LVxTZMvQwX9XKd+pQNIY3BSquCpz7ZzRVWb+2+++69xL7zne+ElXe9CyNy0u/7yNCs/bNtsVGG43ABKay4ve/no48AYfvlgFQUSpUaaDU6sgjGUv1uWjsbTvqxxx5rmkzlexhmKC9GNpwyCWHOH+VndSSyBXXHiaTKcISibZk8igsGokEapFHAg2swvOdyYB2HFruHOIYyGzq9Epxpvtmkro888kiv1HabkN7FkhOcbjAGIMfDr6oMxyVJtLpM/swJ+K5VhhZtn2H7ICtFMTBQZpwn2O6AP2jOnDnB2YLzDTfYIBirbIQZDFB12pC2xiId+gxy+CAJYwx9DwchjEWS7W2eMnoTpaYtSfanDzehFOceOSdiBLDbdTTJd1Dv8I0VDQCj4hFHHlmYFdvW4OADwaPjCBhFL/08N9i/OG+zfNcuxomiPNpcs/0DGZBteWKye7WrrzXpI014XFwW/U7lA3ov9YiMra3C2IariBe8Mo9AAcGT5JBSlg9OjfBeeBFjLAZ1GdXZopX2BU/caKONsgsuuCBEB1V/43fR9ynLi2fZYoD8dtppp/AYZbz55pt7r3T5TXqJdnjSpM91mH0vqUHyaOQpxkTme8iBWkREHyty8OkVauKE9qKoaMyp2KZmUKSxw0YSa5oX9VPfYnu0eD7FPGyDfBynfjh+ootCHoSXlm27x5YX0g/K6a1p+dq+Z7d8k6xGfxN1FfWCObXmrERWtAZ35dXVcZzw76rOg0xnEPx3WDyzaf9Nmc8NEntP2xFwBBwBR8ARcAQWHgQWGbeqIiRapSDGCVaVoXxn0hh707cx2mPcYvURxETryEgZVif6gp3kkA5hQjVB4fcwKS6LFHiUIVbgrbXWWmGVdBBQ8/usRj3nnHPCChgmoVA8qURxqH0W2cuvbGIc74HJRG327NkhTWGOEYYVak6OgCPQHgEp0tg3u4q0MseGQ9fzO+ywg06n9P3ejZonGCflJCceW/PVRo+xLzH8Tn+s5holqvt99NyrCr6jrRN7czuNHwJELpERuqyvYjiBWHGe4myB3LHJJptMAWW7bbftXXvggQd653VO5BzS71kMnqyWPemkkyY9Svmts1VZnfWSHLWoyy677KLLveNqq63WO297omhdyJXW8Kd0cVDda6+9glKea3w79U/4jJyj9DyGaxmwdG26jvF3S60rMrjaHtjEq+ipa9HKRoW2Robce++9p1Sf77rnnnv25MgpD7S8IKcY5VOUHOGxZTixDkis5KQNMw9g5a4l2rAiQCyVtxeIsVTXkKeLop5gcLfhuK0cvtOOO9oswvk666wz5VqbC4oiAh5F4zD5yYm9yhGqbhnktEHfsVtK6H0Z7/RbR21BgrMMczFLzE2KSHhrDmOf2SHftklE3bukuG+VpY1Tz2GHHda7feKJJ5YarGy72LNkxTjtyO5tToQkiPoR9j2mVVddNb401N8Y/sVDiLQQf1cKQ6QuiLmrjKIWi5Q+ksrjQsYF/1L5QEESky79deJX3G7uueee3nO77rpr71wn9AUiXUG/zA3n/Yh5NvzrhBNOmOJQPX/+/N7rMtbaqCNxv6TtVjna4UwnfQNRRiF4v2R+ZdbVN1F6XR5tO6vb57rMX2kNmkffdNNNISvkFckndZ1raBfin3JSVLk5KnoG53qO8yakiDg4CMZjB31HcnGdtG20qaK+tfPOOwcHfcZE9QfJAuQvZz6bl9U92r5rn+n6nDEuHt/4jVwBIY9KX6ryc136Ns4h5LGy/mz7bJyX2gtpgIslHHg0BktnaO/rPOZ7uh4fVf5Rwj8u47j97pr/DotnNum/Xdd13L61l9cRcAQcAUfAEXAEpgeBpy3n05N341ylSFICKDMvuuii4BBg9z3l/q233qrHGh1xIiD0LOGP41VZVklRlni8EhyHBNL72Mc+VvbKwK4rDJsyYFULESkILcq2LHYvbiZBrEyh3mzJgrKGa3jGH3HEESEJQozKOMQFFLPUizQPPfTQniFC+enI/rdSxnANxTxhTMHlM5/5TG/FF8perf7Su350BByBdARkgH/ta1+b4XxQRoSDhTCgqZ/zm4gJ73jHOzgNoUMffPDBcN70H/1fq91YDU7/t8QqIviIjVBk78+087rfh9Vo0GI5r7WGOpRlWknI/etvuIGD0xgiIJkBoyTGXRmiGF/nzZvX6xOsJkolVp1unxsbMabwh8Fv2byvQRhDlXdVunZl8lZbbRUe7adM16pkFLBEYdEqQRTnb3vb23rZybjQuxCdIKfIqYH3UIyjBGY7MxxvuzQinn322b3ckZUwslNP5CBWR3IfgwJh2EWKaoHBHgdVtofheYxOJ598ci96iZ4f5rHquzWpqyI2UD+ioa2wwgp963rJJZf0jKzId/vuu2/PWYO2gKMt35XyxMr9IqwwyIIz7aAOMabICQK59935FjcyFNAfMJooLcYoK6dfe+21vSww0qy33nqhvhiaMMwUOWlceeWV4R1hpLGXd7bNHZ3o3xjDFX2JVepakUq/JGw/fIB+s9lmmwW8eoXo4OSqq67qGfmpD/yBstLOadv77LNPyAXMCD/fllgpLzrmmGPCqmp+8w34veyyy+r2pKN1bgcz+AfvMAYeeOCBk57VD813+C4YmnkH/PnmW2+zjR4Lc5rej4YnVX2rLMnjjjuu55SF0RPeS7uI//gWOArJ4YCoFfASyUY4N8GfaEfIbDIG8r3U1olasGPuwGN5JU7x003MISHaHFtKaVygL8JXwQK66667wpF/TftIEx7Xy9ScNOED5vUppzIkMw/GaKyxlHoSNQBi3n388cf3DJgYgc8666zes5fW2B7nzjvvDGmRPn1IRlkWRigyGg/ImGWdL3HUZPzjuzAnJ285YpGe2mLIIP/HGB3LJ/CamLr6JnG6Xfxu0ue6yDdOY9A8mvZsjerodG688ca4GIW/ib4hXQ7jP2Mn4xXyDv2XayL1bf1OPbIllIixAuda2h5yA/zQbqOh58qOtE3JurzP4h4cTuCPjCmMtRD88/bbbw/nRGIVTownipDBXJlxUk65jDvqt+HFAf6jvOjTFNEQ52D6lBwc7HfU+EFx6PubbrppqPP/Y+9M4LWbqj9+QnOiNEn+aSKkCBkyZkiJyhRKRIQ0IWXsNVRkloqiTFGZp2QoM8lQiAoVoUKKlGb9z/d4f0/r7vec555znuHe597f+nzuPec5Z589/Pbea++91tprc3/ggQdW4icjZ75jjgBO4lHCkHesJd74xjcWvIqxiLmLwqXGt23Gy8mIP+UeZeo3/x0Wz2zTf9uUFQNW1iSMl2rLo1zfzrsRMAJGwAgYASMwfARG7kgRIGJxcMwxx4zZQVc2GWJHRV1L/W7Qa/ESw8jNYHxWdo+LPZRp8egN8hotw8u+G8QzhHrpznUEXRKcsPOFPwmOyUOKK4vxc889t8geu5MwxoiKPl4QZzdiQcrZjpzXHuNPcQa3Mjeq3eL2OyNgBGZF4IwzzyyESgiHUHogEEWYhLAXJYsI4Zt2GCNYRSmGW3V2Mql/ImztB+27776F0AxeuOGGGxZnwT6cu8F+di54RtAOb0h3Tvcj3TpxYPyFcBmKPAqhtxS+vMOrRPzNszZUt34QYjH2kSeULOywh5RX7u+4447sxhtv5NY0gggwBnMWMuMwyjOMHhl347iKu2fOYm9KtBv6Gn+REJqnR4jF9/EeIa54Bl5v+GOeFQXiMTz3vKO/UyaE8fwhvI59ix3047lFJ58o7bfYYosiCQw+ZPRRPOjjP4TJlAtFE9ijjP/gBz9YpKB8Uy/HHntsJ1UM1jhaDQUUCoCDDjqo826ib7rVW5uyYryAUh5eTVlReoxH4MX4gYKP8QSs+KNeNb4QB0om7X7vFifGQ9QNShKwl0Kk6hs8JaDY3WGHHYq2h9KEv7Qt8pt2Fs8/x1sexxrgvQRFB0oWvHSoLZAm5cNTgQilN20dQ3CMJhg/0rKSp1NPPVWfFAYkn//854tyoQyBFwySUNigQAJHlDD8RTy433vvvYujgHrNB2syDOZZh8ALUJyleJSlwZgnBTNGE+R5PDrhhBOyXXbZpQiGIoi/MsJYq1fq1rfK4kb5GBWQKLL4KyPKjQcVvAPBo2l7KDLBJMUOfKUw5x1jhzyXrJ8bmfA3mYgjLTiOB4NRlHIyxo+8AEVhWt8YWTXtI214XBlWbfhAWTx6dtlllxX9AT4iD1AoePAgiZIRRRFzZNo9mzzSOod3RC9Rije9nn322QXWKGXZPMJcMvZzwrM2Z00P0U/hfxh7MA9n/Iu7+ItAM//Rn6+55pr4qDgybKeddiqewcvLlND9qpMxCffxR9M+18ekx0Q1SB6NB4S77767YxzBPIw2Vpdov+Jd3eZj8hRRN940HMrcm266qeDjjB1qW2m4ur8POeSQgq8QF+tc/iLRN+IRKfQFDH4pI2MlhntsFIjj/9/+9rciX3w7LKI/U5aUL5AX+L+I33HsZQ6vebzClF05Opk5CvM8eBCbopinU37mXCuvvHIxlsMnmEeUEWMWOAmXpuMlcU5W/MvKOyrPBsF/h8Uzm/bfNmXFiyIGifzhhSsafo5KHTufRsAIGAEjYASMwMQiMNvEJt8udYSaCDoRMnCfEsoIFgIIFHohBD2pG10WNZdccklhmKC408WpFhV6//kSV7FpGIXVdbw4FS69PpHgEeMBrzLBjMIwIUU4h2AkxZXf9+eLLHaRRrdxCMYRCKZKR4wl0jNAlQ55RtDGgg3hVYoF3yE0/FBex9qlFr/l+/Q3z0xGwAiUI4CQhL/HH3+86G/sUsHQCmFNSiixbp/pjhpBL4IUBOD08b322iu74IIL0k+K39pNWfqy5CH9nJ1E119/ffEWoe68uSAY4wGEMxw9hLFHSim/SN+X/W7KL1DCkA/+tMuSeMFMz5XPmF6bvPF93fpBoYISCSEYpLxwT9oY1WlXMs9Mo4cAwk3mN3iRUXtCwAvxmx1n1DEC1Dqkto/SA+OAtJ/CEzjyg7YVSWmnDvdJF8VzE2IeRZmYQyg/ElTz+8orryx2EcU4q9LHi8Thhx8+SznIl7zmxHi4V1y6pu/1W3nTbwxFMPAV1uSZP8LhbQYBc9wByHO8NlDemBb3GEHpOLX4Tmml15iXqvv0G34rbJrGePXWpqzUKYqQmBb3GCSLd6eqB4xo8ZgWjRmkYOUb8hENEFSesrIqDvhhzENZWD1jDozBB21R36gt8ps42a15zjnn6JPOlbbA2kJuuvUdAZirYiwl3qyPUAyhqFG/U1n5TTuhvXC8goh5OHNjeT3Sc+bgGIEonm646BuuKmN8Fu+ZazOvx8ONwqpc8CJ2Kqe8oW7aMR3dz5gxo+inikN4gB9lLyPcQZf1eeLAAFzrFcVJHMwrUJilaxN+Y3SjPh1338bvy/Kh98JJYbr1LX1D2Hivb+teaVd4QmF9pniEHbwdxWe65sULDcraFAPySz8TKT797uWaYpPGlb5n7METjNq1ykQ4yorxQUpt+0gbHpemze82fKAsHp4x9ukoP4WJ/Q8jv7I6B68zc0NqGUjo26ordc5OfsYhYa10+AZ5R9p+4IPp0aGEhedjlCyKngz0DOWU0ulmANy0ThR/1bWsLcc21+R90z4X4xZPivmM7+Nz3cd86hnXQfNoeIdIXrr0e7wrvBQFelo2xi+MbEXRsE3l1FVh0msaJ0ZWGMGmzxm7dDRKGkfVb75hcwG8JOaDe7y90hciLsTDOo08MGeGYv9h88LOO+/c8RhVBGjwL+ah7LOy9+ST+SfvxDf5lrkNxvipDA5j0HQsJzxjb7djUDAcjekrLfoHOKX8i/qhTURvxNF7Vdvxsg3+yreulLeM0jbVJIzi1rXsW55NRBrj5akp/1V8uqZlbcozI58sw6fsGWm26b9Nyyr5P3lgI4vJCBgBI2AEjIARMAJNEXhK7pYvlYc2jWPCw+PC8NWvfnWxIw6hAZP5fhKKQHaadRMI1kmPBQcuppkopou8Ot/3KwxKQ3YUYXXO4guhahlx/AmCFM5O1Pl3ZeFw7YgChnrgeAAURShqccUmQkBddua63uMSEcUuk9qq/Cisr0bACDyJQHS13W9M4BO4naZfIjBlF9SgCAEOrl059/UPuZcLjLpSIc6g0h7VeNl1AV7sLkcoDi9PBWxVZUuPx6oK5+cTiwACXXZCMz6irB/PA0Td3GJoxY5DBKJtx1vmB+x4Y27AfKZKMFaWJ8rErn+OGoGHVQnvyr6Nz1QO5hworfGahft8CKV1v/AiPuZLzJuYy0gQx/MqwkiGI5zwcpYaYFR9M4zndeqtbVmZezOHoz7xgAEGtA15GkjLR/umDbHLFDfTUfiahq36jSKn2/y06js9py0yL//Tn/5U5KFuWwQj6pf2gIvjOusOPJ+wVmFOLWMR5aPsyhiMlxvGXtYNgybVB4Z81JuOsBpUuvAg1g0ojcAR5TrlpQ4w/Cwjxj3WJSh962Kib1gfDrJMdfpWWZnaPGM9yXEijPvwmPGIeRxHVvTC88dLo9f39I9FFlmkmPtRv6mhSFn8bftIUx5XljbP2vCBsrjgQdQp/Y6NCGWkcZO5AAreuryqLC6wxjMFfIhxuBvWHGvG2h6i/bTh02V5SJ/1q07SePv1u2mf61e6MZ5B8GjmSnh6wkAm9Vga0+52zxoO/gIPxECoznjYLb7x3jGOYixHe+zWdseLR+8Zi1hLsfas075pq6y/SJvxvw4PVlq9XvEQS9lZI2NYQZsAD8ZtsB8PD/LOehv+UXfdCJ+FX2j+yzUS/IQ4GV/h3XWol/FyIvGvU7ZRDDMI/jssntmm/9ZZz9FGMWyqwxNGsc6dZyNgBIyAETACRmCwCEwJg4vBQuTYuyGAe2Vc26O0YTcZi70VV1yxcF2rs7H5nkUxO9tMRsAI9A+BQRpc9C+XjmmyIWCDi8lWI85PXQQ44mOV3P0z84loYITQGUE0Rzdg/MFRJ6bBIYCXJHZMsjs9dSfPcVQ6yoBdonWPqxlcbh3zKCBQx+BiFMrhPBoBI2AERgEBFIoc0YPBBPKb6JViFPI/HfOYGlxMRwxcZiNgBIyAETACRsAIGAEjMNkRmGOyZ9D5m7wIIHBnZwSE233cKVYRrm1NRsAI9BcBdp6lO036m4Jjm2oI0GZMRmAUEWCegYt1jCsw8LzwwguL4yvYwb7pppsWxhaUq5t75FEs92TMM3M/vJRwxcgW1/jsBONM71VXXbXIMoYvHMFhMgJGwAgYASNgBCYHAngHW3LJJbP11luvMLZgrP7qV786OTLnXBgBI2AEjIARMAJGwAgYASNgBEYcARtcjHgFTmT2cVvImelrrLFGZTZYxHOGcNMz3ysj9AsjYAQ6CKCAtMFFBw7f1ECANmMyAqOIAJ60OMcZ4wpcKq+//vrFXywLSv/DDjssPvL9ABDA4EUuxDl6ir9IuKs+4YQTfDRUBMX3RsAIGAEjYAQmGIEjjzyyMLRQNs4777yejuZSPL4aASNgBIyAETACRsAIGAEjYASMQJbZ4MKtoCcE2BFx1VVXFed+cr6s3HlztiTnTp922mm1z3PsKSP+2AhMQwTwMsNOJRSRNryYhg2gQZHxbIGxBW3GZARGFYGzzjqrOHeas8bxsIDhBefr/iXngVfkXhZQ8psGj8Cjjz6abbfddoXHkcUWWyx70YtelM0+++zZP/7xj+x3v/tddvjhh2f33Xff4DPiFKYMAjor+9///veUKZMLYgSMgBGYbAhgEAmxbvzhD3+YnXjiiZMti85PBQJ//vOfs2c+85kZczCTETACRsAIGAEjYASMgBEwApMTgacsu+yyT666Jmf+nCsjYASMgBEwAkbACBgBI2AEjIARMAJGwAgYASNgBFoigAH23HPPnf3+979vGYM/MwJGwAgYASNgBIyAETACRsAIGIEqBGareuHnRsAIGAEjYASMgBEwAkbACBgBI2AEjIARMAJGwAiMNgJ4trCxxWjXoXNvBIyAETACRsAIGAEjYASMwORFwAYXk7dunDMjYASMgBEwAkbACBgBI2AEjIARMAJGwAgYASNgBIyAETACRsAIGAEjYASMgBEwAkZgkiJgg4tJWjHOlhEwAkbACBgBI2AEjIARMAJGwAgYASNgBIyAETACRsAIGAEjYASMgBEwAkbACBgBIzB5EbDBxeStG+fMCBgBI2AEjIARMAJGwAgYASNgBIyAETACRsAIGAEjYASMgBEwAkbACBgBI2AEjIARmKQI2OBiklaMs2UEjIARMAJGwAgYASNgBIyAETACRsAIGAEjYASMgBEwAkbACBgBI2AEjIARMAJGwAhMXgRscDF568Y5MwJGwAgYASNgBIyAETACRsAIGAEjYASMgBEwAkbACBgBI2AEjIARMAJGwAgYASNgBCYpAja4mKQV42wZASNgBIyAETACRsAIGAEjYASMgBEwAkbACBgBI2AEjIARMAJGwAgYASNgBIyAETACkxcBG1xM3rpxzoyAETACRsAIGAEjYASMgBEwAkbACBgBI2AEjIARMAJGwAgYASNgBIyAETACRsAIGIFJioANLiZpxThbRsAIGAEjYASMgBEwAkbACBgBI2AEjIARMAJGwAgYASNgBIyAETACRsAIGAEjYASMwORFwAYXk7dunDMjYASMgBEwAkbACBgBI2AEjIARMAJGwAgYASNgBIyAETACRsAIGAEjYASMgBEwAkZgkiIwx0Tna84555zoLDh9I2AEjIARMAJGwAgYASNgBIyAETACRsAIGAEjYASMgBEwAkbACBgBI2AEjIARMAJGYIIQeOyxxyYo5d6StYeL3vDz10bACBgBI2AEjIARMAJGwAgYASNgBIyAETACRsAIGAEjYASMgBEwAkbACBgBI2AEjMA0RMAGF9Ow0l1kI2AEjIARMAJGwAgYASNgBIyAETACRsAIGAEjYASMgBEwAkbACBgBI2AEjIARMAJGoDcEbHDRG37+2ggYASNgBIyAETACRsAIGAEjYASMgBEwAkbACBgBI2AEjIARMAJGwAgYASNgBIyAEZiGCNjgYhpWuotsBIyAETACRsAIGAEjYASMgBEwAkbACBgBI2AEjIARMAJGwAgYASNgBIyAETACRsAI9IaADS56w89fGwEjYASMgBEwAkbACBgBI2AEjIARMAJGwAgYASNgBIyAETACRsAIGAEjYASMgBEwAtMQARtcTMNKd5GNgBEwAkbACBgBI2AEjIARMAJGwAgYASNgBIyAETACRsAIGAEjYASMgBEwAkbACBiB3hCwwUVv+PlrI2AEjIARMAJGwAgYASNgBIyAETACRsAIGAEjYASMgBEwAkbACBgBI2AEjIARMAJGYBoiYIOLaVjpLrIRMAJGwAgYASNgBIyAETACRsAIGAEjYASMgBEwAkbACBgBI2AEjIARMAJGwAgYASPQGwI2uOgNP39tBIyAETACRsAIGAEjYASMgBEwAkbACBgBI2AEjIARMAJGwAgYASNgBIyAETACRsAITEMEbHAxDSvdRTYCRsAIGAEjYASMgBEwAkbACBgBI2AEjIARMAJGwAgYASNgBIyAETACRsAIGAEjYAR6Q8AGF73h56+NgBEwAkbACBgBI2AEjIARMAJGwAgYASNgBIyAETACRsAIGAEjYASMgBEwAkbACBiBaYjAHNOwzC6yETACRmDKIPD3v/89e/jhh7O//OUvU6ZMLsjkQOA5z3lONs8882TPeMYzJkeGnAsjYASMgBEwAkbACBgBI2AEjIARMAJGwAgYASNgBIyAETACRsAITDIEbHDRhwqZY445slVWWSV7ylOeUsR2zz33ZHfccUcfYnYURsAIGIFqBDC2gN+YjMAgEMCIh7+Xv/zlNroYBMCTOM63vOUt2eyzz5794he/yH7zm99M4pxO7azNNddc2Zve9KaikNdee60N66Z2dfdcuuc+97nZqquuWvDsf/3rX9nVV1+d3XLLLa3ipd3R/u6///7s9ttvrx3HbLPNlq222mrZK1/5ymLc4NuLL7649vcOOFgE2tbrYHPl2Osg8IIXvCBbYokliqBXXHFF9o9//KPOZxMaZoEFFshe85rXZP/85z+zyy+/fELz4sSNwFRH4I1vfGNhKP/AAw+0HvunOkYunxEwAkbACBgBI2AEjIARGDQCU87gYtlll80ef/zx2ouM5z3vedlSSy2VvfSlLy0WKKd+5zvZvffd1wj35z//+dmmm27a+ebXv/51tu+++3Z+V92Q5s4771wINB988MFsxowZPQtPll566Wz++efvJHnhhRdmf/3rXzu/fWMEjMDUQQDPFiYjMGgEaGfzzTffoJNx/BUIYNS5+uqrZ/flc5Of/vSnFaFmfYwR6IILLpi99rWvza6//vrst7/97ayBKp68733vK95cd9112dFHH10RauxjPKJsttlmGYZgJ5xwQvaf//xnbIAB/5ro9AdRvNe//vXZJptsUkT9xz/+Mbvxxhu7JrP88stnb37zm7MLLrigUVvpGuk0fomCc6WVVioQQMH5hz/8oRQN2t6aa65ZvLvhhhsmxEhpueWWy7bacststtxQSoTRVFuDiw984APZ05/+9Ox3v/tdtvvuuyvKrteXvOQl2Z577pk985nP7IRD4WqDiw4crW762a/b1GurTE/Rj/pZF00hQsax3nrrFZ/98pe/zH71q181jWLoKdPUhgAAQABJREFU4dddd91s8cUXL9K1wUV9+NvOZ9p+Vz9n7UNutNFGGWPEKaeckj300EPtI/KXlQhsscUWGW3gT3/6U7bTTjt1wk0k3+pkYhrd9AvvfsUzjaB3UY2AETACRsAIGAEjMCkQmBIGFwsttFD2jne8I+OKYuJnP/vZuALGV7ziFRlCp5e97GVjKgLlQlODizERNPixwQYbZHPPPXfxxYtf/OKiDKeffnrx+2lPe1rGTjURgvYnnnhCPyuv7373u4vFrAKgnOnV2wY73J761KcWUaJI8dEFQtdXIzCxCEynvsiO2W233TZ75JFHsq233npowLNb9xvf+EaR3t577z0SAu5u4DBGYmT4ohe9qPCOcuutt447tkyndtYNu2G/W2yxxYp5watf/erCg9Y111xTS4mOUmbjjTfO5pxzzo7nLYwfmhhctCnrO9/5zgyjTwivGN///vc70TCnwQCEXfd15jKdDxvcdEu/QTQjHXTLfF6Lwh2vNDvssEPPZRlGvfWcyQFGsPDCCxd9kCQwPKtSGLKWYB0CcQTTySefXNwP6x8GDqxpZGxBf0fhctdddw0rC0U6H/3oRzvGFv/9738z1i533333UPMwFRPrd7+eihgNq0yjVhfTnYcPq130O52285m23/U7/2l8eDxaa621ise0yYMOOigN0vg3BoHQKHh6aVy4Pn/QT77Fuhi5IGM8nmtMsyLQL7z7Fc+sOfQTI2AEjIARMAJGwAgYgUEiMLIGF1jIr7POOoVrzabny+Nul92bOgJkkAB3iztVYkVPFORvhRVW6HyOwu/KK6/s/B7mzSGHHNLBijwjUDUZASMwOgh88IMfzF74whdm559//rjGaJO1VHjuwSsQhgLDJHYIo/CGSHsQOwqb1g9GE1vmO5nfk+8We3qu3IO22Wabrm7fwe9LX/pS4cmp+GDmP5TfM3LvSlE5Ht/7frgI4HWLHawYxUiY3CQHtAMMLiJh5IDic9D0+9//vpME3jgiHXXUUcVPPDTQDgdB3dIfRHqTMc6/5Uaxz372swvDtH7kbxj11o98Tvc44BeMC9Cdd96Z7b///oUyZJi4kD5rMwhPg5/85Cezv/3tb8PMwpRNq9/9esoCNYSCjVpdmIcPoVEMIIm285m23w2gCGOixAAQBT2yt34Y/y6zzDLZhz70oSIN2viPfvSjMen5x1gE+sm3tt9++4yjSyDWoqZZEegX3v2KZ9Yc+okRMAJGwAgYASNgBIzAIBF4Ujo3yBQGEDfusXfZZZdWMS+55JKFy+v0Y4wdWAxyVvGw6Dv58SUcR/J///d/hVcOjv8wGQEjYAT6jQAGXOxGgce1dS/e7zyNSnwICAdNdeuHXWEYvLGTWl6HlDcp2/Q7Xjmz/cADD+wo5CgTSnjiYKcSu+FNkwMBDEk5EkL073//u1NvelZ1/fCHP5wxx4H47tRTT82Gec47Rjt4TGG34aOPPlqazUEautZJvzRTU+jhxz72sQwPbrib7ycNst76mc/pGhfHdojOPffcoRtbkDbtTvTjm26ysYXA6MN1UP26D1mbdlGMal2Yh49WU207n2n73aDRYf3J+gXPrv2QtcX2HO8HXY5RjX9U+dZ0x9v1NqotwPk2AkbACBgBI2AEpjsCI2lwgdKpDbFblN2fke69994My3jOKO434eIXAeSvf/3rUsEj3iL64VKx13yTR9wP4wK8VwJjDEhQ9tyduxGuo6zkjGwMT3B93MTVOO7S2bXNmdoPPvhg7azTftixTt0/9thjtb9zQCNgBKYfAvAyjn/C08UDDzwwoQCgTOfYKNGf//znMUdP6Xl6xYMFBhnw40MPPTQ788wzC17Ls8022yz7+c9/nn7i3xOIAPWEJ5Xvfve72W233VbMUcbLDuOhdpzRLj71qU/13c0ycwWMKbrtTmwyFo9Xpvgerw0YBnGkEPO1qrlFnfRxbc3O+6bzPoT6zB0w0O2GgfKNMRPzIQybMICoM7/h7G3mNYRv46qZNOoaW+AxCFxpa8wBe6FhlhVvTfxRzrquxMGV9ss8c6K8LtB+wJzjApkf18kH81XyzVy1W5uL3nA4VnEiiDWP6Ff5umc8mmeeebJ55523wCL1+NftW7xo4AnoF7/4Ra0+RVx1+UeaLmmpj1TxnPhN3fqK33D/mte8pjBSq+Jfdfq1+BN9Ag9DdfhNmo86v5VOXT5YJ86qMFof4rWlDH8ZGrF+rVPefvCOOnVBeejrtId77rmnNO9pmbU2feihhzL+JoLIM7wS/lRn/Gnbr5qUTXwCJT1K+16o2zjQpu/SnjAgqDu+N817FT+I8TCPh3+AD3M/qM53hGMs4jisKjkVYSLh5Y+5JnOGsv4Yw5bdwzP4G4/6zWPa1C15fNWrXlV4a6qaK6r9M68o6y/wL9ov+Ja9T3Fok0/msxz3221+QDp1+JZw7+cYQnthHsyYVGWIneLQ7XfTMZm4us0Z2mDOnJ4+x7hTNXepg3cd3lYnHupNc0vaIhsq6hLlZ11DG++Vv9ZN0+GMgBEwAkbACBgBIzAdEBhJgwtVDIu222+/vRCgbrLJJnpceX3nuuuO2RWMwv0zn/lMZfi2L1iAHXzwwYVAUHGwGMKwI+4uf+9735utttpqCpJxbAhC680337zzTDeczcwfOxe++c1v6nHtKwuDXXfdtRMeRc5CCy2UsVBjog6xeObYkuOOO674fdhhh82izENY8fWvf70wqIjGK8SFW3wWDyLi+3O+y/XwI44ohDd6riu7uldaaaUxu3cR8rCQmW+++YpgZUeYrLnmmtm73vWu4pxsxUVafMvxJ3Ex/+Uvf7kTDjebKGvwkAINqv6VJ1+NwEQigCAwJfpvfI4AqEoAghEUnhEQsP3kJz/JfvrTn3YVaBM3Chd4nQyZFllkkQy3rwglLr/88oJvpHniN8dCLb744tnCCy+cPfzww9lN+e7Y9EiC9Dt4JZ4AUEbdcMMNXY/TSL+t8xs+JN5InqAqIQZ5gfehtOTohjp5i/Wg/NSpH3gd9YHHCoQk++yzjz4vvcJj55prruIdYS+66KJOOIxJGHdMkweB008/PTv55JM7fQVhWB1i3kB7pX0cnJ+NXVcRPV7cpL/XXnsVxg7qD0/k7fxH11+fffWrXx3zOWPzxhtvXDzDyAdhNQY9kTAKYQ4Bn8At8Xi08sorZ+95z3s64zjhKSNCReZUUUCYph+NSFFKYISSznmuz8uB8pY5Ev2cYxCg5ZZbLtt6662L+89//vPZFltsUQhthQF5YD5GXaVE///IRz6Svf71r+/wEMKQV+aGZYJxjKmYQ0XFOfOfa6+9No2+6+8vfvGLhYKYslMHomOPPbbIy3nnnVfMr96Q52223IhMdMcddxTGWLQbjt2rW29tyrr00ksXbqjTsjL33GGHHYoscewMx89E4mz6tddee8yckfwef/zx2Q9/+MMYNFN5eb5wPuebK1eKQXh8IZ1hEkqtbbfdtphzq/2QPnmnv19yySWzZAdFDbuBUYaJaHMoujDUVv+mXcLjI33ta18rfqo9r7766tmmm25aPNtvv/2KOGJ48sZYT/xbbbVVfFXrftFFF8122mmnMWFpP/yVxcmRSW9961vHrMcYi2jr6XgU+yGGgtG70xe+8IVxjQWb8I9D8/UD7QSDFfrekjmvUh+hHKwZ4AXCPha4bn3Fb+hna6yxRvbiF7+4wydIh/nMMcccM2a+UdWviY/+BNasPWP7ggewBqqrfI15033Evy4fZB6oY6Muvvji7JRTTlF0xZX8brfddsX9kUceWcz3+IExKHMVlNfwyOWXX74wdOUduFAO5jAYv+Ll8qW5sY7qhzAYjoJTmSFTP3lHt7pgHGEMxGiOMUdE2+E7NgikRHjaaeSHagfwsTqK2jTOJjwcZeTHP/7xYm0Q2w/Ke8bqKLdQOk36lb5Jr6QFP8LoCoJXa07BuIKMYMUVV+y0AcIw97j6mmuyE088sTNH4nkV1RkH2vRd+ht8l7YowiCbcZQ8k88Pzpw/8P6IXA7C/J51DfOplGI+hUHVfEZ8CgUpfIp1AFjSPz796U9n432H8p95D8bbrHNE3eYnyKtWWWWVTnlpn/RR1iKMyfweb+xA8X744YcXyX3ve9/L8PIKNeUxn/jEJ7LFFlus+Fb/OFqEPwyz4FOiJnUrD3GMRayT3va2txW4qmzM6ZZYYomC/zPvA5M4P0f2BA9jjGYeQx4jvozHyNXKvHs0ySdlg7cwV1Xd84x8XnfdddyWUje+VXcMUTuOCcAjoDPOOCNjfiliTc/8hPmPiDUyczD6bx1SW28yJsf21G3O0BRz8vv+978/WyIv13PzcUq8ErnA2WefXRjIxzJV4d2Ut1XFQ1rEhQeM173udZ388Jz1FeNuehS12jhzGOSltGn4koixhvr08TxCxFcjYASMgBEwAkbACLRH4H/SgPZxDP1LjCwQtkhwgVC/Di0TzjVnYcIEmckmVsEIaBDy8IwFbC+EgjIlFIoINFhUX3311cXruFDjAQsoJs/dKP2mW9j4LgoFeP72t789vi7uWTwgQABXFk1RWJQGjvFhuf7JnXceI/giPPEhvNxzzz0LAXec+LNQRLma0gLBLTLv0jwgnJRCJ35LWiheWezuvvvund1BMZ8IlfgT0QZMRmCqInDWWWfNUjQEbKmHBIRKkVh8IyxHkBMJQQkKjihQie9RAiFgQrDMQh+hWBQ2IZRAWRL5K2npuxgX9xhIIXAtE55jYIfggH4PIWiDfyPwqzKKKALW/Ee+yo54QqmUKvaIEmUWCgQEdSiB6+StTf0gJEVZJQVKWkdlxUNABCEMjMYWZWH9bOIRiAaDTXKDch9CycaZvyhZMS5gp+zNN988i5K1btwImFNCybVsPp/CaOizn/1s53Wcn4w3nxlvrkOkKMn4S4l+j2Lrc5/7XLbjjjt2eESavr5jHoBwMQoWeUc8KJpFkV/FuQdKDPEaheU3GKNkwfAiEuHL+iaGHfvuu2/BR9mdL8LwFuF9SuSXOU8TUr5jWfhe+Uc5ovsY74ILLljMh+HH3eomfde0rFEZFNOnrDK24Hmaf8aOsraAkhLjX5R2CNdFKiPtdCKJctBHUIanRN4ZO1BExbyjsJ6RG8s861nPGvMJZWK9wzyX9QTC8dm7rBnmyNs9pDaR3hcv83/CWpjped1r2ibid2mcjF/UZUrkEUUlRpq0KXlciXmPc5f0+7LfTfnH7HkeoLK1CeVgrYPBFNgz1oua1Je+wVgUpW1KpIPyC/4RjViEg+pK39F+4ENlRH733nvvQiHTRmlPnEqX+7p8MK670vymccb4dU8bT9f14IJhCjyffsOaOiWM6TFSOuCAA8a86jfvUD7TsrG+RDYRy6+MYICBIhgMZcDLO/o59ZSS2gFKQcaMptStT8Z3GPph+Eh6KaEoRZkH/0KJLGrar/RdesXwQMYWrBtkaEA4NoikbYDnzD3gExii1cFF5aoaB9r03Z1zeQd8KiXaJ3/QUxK+XNVmFIfyGdtU5XxmJp8SdopD1/G+WyCXsyAvSYn5yW677TZmHCZMmYED+WVjjDbHKP9pnPF3bHexnMKGsHV4TFn/UjoxrqZ1K9yIo0xGpvfwHzZApcQYT/4xui+TA2KUj3yK9WGUPzXNJzgyT4uGDOSFOqhq57wXNhF7njcZQ2Id8m2kWC/0XeSrabsgDMZgeKvbLze2Go/ajMkqJ3FXzRmaYk5c8MmlllqK2zEEnnjBhI+z/hcpHyneTXlbVTyks8cee2T055QYH2mjGGJ85Stf6byObbisr/EeeQr8XjL2zse+MQJGwAgYASNgBIyAEWiEwJPSpUafTHxgBF1NJ4JM+llMivgdhbs8Z9KKwQECNXYp9EosqNLFBopCGVyUxc+OEiyPn5ov+OLOHcqMADIKasq+b/qsLI/sPEOpyqKRxRGLy0jkTzu8tICMeY1huQcDlAnX5LtSKAPCzDKBZvpd+hvBUJmxRQzHwoTF7IxciDUeSaA7Xji/NwKjiABKefEfhLbcI3SPHi0wUkjpW9/6VodXEvbxXFH/olyICC+Ql5wqowviYociAkkEMxg/sNMCZRpCBy32CYfAAwM3Cc4ff/zxwpAA5RPeNRBe811qcEEfh3fDE/FYQ9kgBDwICtgx2SvBF7VznnLIQ0RVvBKINMlbm/qhzDK2qMpL+lyCP3bNoqTGOxA7jxhD2bnIjmJclppGFwH6ptog8xwMoyKts846hQCN520Ub7SVb3/729mtt96aMQ4jyCM9+hxKrqojaTBEkDGCdsHhvaZOH4VfSTFLfzzhhBOKOQTetDDEol0zN+FeO/pjmeM9wlB4CYRBC7u+EShibIGwOZ3jxG+5Jy941MBICp5DviTYBluVkbBbbbllx9gC42CM15gvIcBH+EtcGIahmIPgL3jwEP3gBz8o+CL1SDplAl6FbXMlffg6uxHp/xh0rJXP+ZjDoUSiXuvWW9Oy0k6pC9Fll11WYIpL9nVzD3Q6EkfvdaWeUNRD4I93H3b3YuCHUJ88r53ji+c2zU31LVfqHGM16pC/YdK7c34rYwt2Fh+X89s/5WXA8ETGL9QzbUvzcZTkGFvw+/zzzy/aA2XEqA/DKsZM5tTw7mPz3Yj84R0FjwAQnlmGOb+FL2yZt3vyhjECxA7WSy+9tLjXPxSl6tPMC9jtjOERRu8o9VhP8IeRYOrpQnFQ74xlGDpFJbDe69or/6DNUAZ2cMPjwB4+Qb1stNFGHc82pNOkvsgf4zB4QcyRUIhgFEc7X3/99Ys5Df0fg4xuO4HJj7wkMjeQpxf4MhiCK2HI70knnVSk18s/ylqXD/aSDt/Co8gz7YMyYhjM/FFzMeZn55xzTnbVVVcV7Q5lGPyF8YH+JsPFYfEO5rMYEJAH+i39mV38GAZQp/BW3mFEg1IbIm8ytmBtz4YMyssObfo3caIYp72wc78J1eXhjJ/UK0Se+Y504beMcbyDtyjP/FYf7mVcZvxD6Qoxv6APiSgzbRiiHhnfOVoN/sFYSZsmDPymzPuG4kmv6ThAWdr0XRlb4MXimLzO8CqA8QPzIuU7TXtQv+HzzKnwQFj3yEPKDb8499xzC8+DzOmob/oN/I32J89a4CxvEpT3m7lnB2Q5GGgiz4qbWPpRRvI2Ho/B2ACifcrT6tFHHz3Gu0Obuk3zj1cF+D+ysJTAnbUydf+GN7yhWFcxdjFOMzeFr2PgzpwEXs6mJDYgMXZjcMA8D2qTT+pKxhZsYGA+y9yCuSL9mf5Rl5qOIZKbctV8TWOZ0gQHvMmpnVE3eCtjrY6Sn/U9xuC0K+YOdanumJzGl84Z2mCOkZnm4vBqDLjhW2uttVYxtwdH+DmePLsd6dZP3kYdLDDT2ALPOXgfIW+s7/FahswF403GyDKcwQFvI2wuoW423HDDYrziOX0bzxomI2AEjIARMAJGwAgYgfYIdHen0D7eSfclC4A6xAQVwR8Tzl4IYSFC9c/kAhgWtiIWs7jYryKEwgj2rkncSCN04zkCpn4QghJcG5LHVPlBHiGER6RJWBGLO55JqIryLlpvowykzCy22LEiQlCGQB1iQRiJnewYSSAkZmFQRRhbxHphAcduJpRIUSmLAAtBYxkhMGBhyiK5bKd62Td+ZgRGEQGUe/RP/sSDUJrqGde4g5Iy8gzhEISrc5SEG+SLcBbif8+9AEH01W6EIAgFPjt5Vsld0CKQYAcmwufYT2fkRlEytkAZi+IPITN8gvTuvvvuSqURQgXyhhAEBZ6OMCGtfhCCHYTK/JFGE6qbtzb10yQfCitlH/XKuEQdL5ALaRAeIShDoSfBt77xdbQQwLW6SIJYxm3Ga43fCDjpk00JQyh2UTHeYqyBIB6Ft2g8I0iFa3plzoaCCkKxiiATITaKBXYwq1wIMMejt7zlLUUQvkHRg0AUxTxet1C4MC/oRvfcc0+xsxoDCtxosxMXhTH0nOC5gPnJ8vnOdYj3KAbgefBDjNQ0J0K4SR+E4C8I6SHmPygZ4Wc6DgCBfz+JclOflB2l5mmnnZbdEZR5dXlBm7LC21VW5l8Y0WBkTFmZh1aVFYWxiN3WCNAhhMjy2oPBSNluRsqLkF8GO00N1pRu2+urc2WpiDLemwvG6ZcYvNCeILCkf0IIy2VEiOE34VDuUA7m7BrLZVxRfDQi/2Q0o34oLy/0KfolvAZaYYUVOgZSsWj0H3gY3kBQ+nUzHuuFf4Ax6eBWmzRQ6pI/8RyOUxC1qS/6vNYy++XeC2j3xM26hCMzlA5xdyPek1f44qmnnloY89NWaDcoX0Rl3nb0rsm1Lh9sEmdZWMrE+pMxh76CYe4Pghch8GF3NGMC5f3xj3/c6UvEF5Xew+IdKKk1n4XXo8ymXlhvMg7AayE8IGiXOApHwtDG2OiB4SJlo20zXxah0B0EsS7HuII8YPCDfIG5L4pExjj1L/Ej8tBLv1IZWLfraE9wYTyKRr/y1kV4lIH0P+r5stxAT8dQ8C6G43c3KhsH2vTdKL84IldIMo5RZ/Awxqa6Rg/d8lr3HenSbjDYYjyvu1FI39FGGX8xjONeFPuPPOTx7ku5Yp+wYMnYi/dStWt92+u1XzymTd3GvGMowTyXI5HgQymhjMY4Cf7EJqojZh6VonB4eWQNzfyPtnFG8L4V8W2TT3k9Y96Kt1j4BnVCPjgmebz5rPLIdRBjCAZmmueBgfCDr+CdSxR5s55VXZuMyTGOsjlDG8zlRQpeyVyAOSj39JtoHJoe7xbzwn3kWb3wNtZGMnh5NDfgZbwEX/o24yHzF+6h1CCmeJj/Y5w67rjjirLQn+EloirvOXrvqxEwAkbACBgBI2AEjMD4CEwbg4syBTzCPXZKsXMiEpbKEtwiIGbXSdkfrjbLiAWjjs9AuCqBsMKyA2eiCUGvdoawOyIumhEEajfoePmMC0fCfmmmQBk35sfMPEdacSgsbshFLAhws8qiFIEKiteqxeLz8t0BIhZf7BxlsctiM91JJ2GOwnMlrc/m7mhxQ4rFPQtpkxEwAv9DQDutMa5gB4cIIeLxuXIMQqGLm8puhFAF4agI5SP9TgYXCJxxqQ3Bf+GvkRBmYHxRtrOIcLiVRjAMEVbC6bp8q/hwQP8mW9602wlBD7wdYT4CIvF/6jN1wT0gaBztgBCYP3FJjhCQnX8oNvA2o76CW3P1XfoXOzLj3xZbbNExclBWEcRJ8aJn7LZFyAfJg4re9euK8FBzAYwTNH8gfnY3s7uL8sWdsWVpY3Ako1DmPeJBCovB519m8hI9S69RGaF32nEcvXsxt5Mitcx4NM5T2LUMaT7I/ASDuJQQnvaTUO6qPSheFL2isrmy3sVrm7KqzMSDQiIl5uNlJCNAeD0GbZHE+3mm3eLxfVl54/tB38vIhnToX1JE8BsDCtowf/LWEJWrKNFT0u5JBO4oS0eF6BcyBmPsYe4eifYvz1mEXXTRRePr4h7Fe13qhX9g8IQiMhLPhD38BGU11Ka+8HoAYfzDGjESuGBIQDvHm0s3ot/i1Yu/dD1D3OJ1MrrsFledd3X5YJ24uoVhPSojWoX7Xq54F2HEIA9kehY9R0Zl0bB4h7we0I7L2im8nTplTisvHcx7qTt2IzMORYpyA5Uhvu/HPeM6aZMHvM2kJJ4kw0fe99Kv+B4FPgpPSMac6fxChmiEwRtALD9jqHgmHgbqUtk40Kbvar5DP9UcOuYB2cewCP5Q5V2sWx74TsZuCgfPEUUDGx2RwpwhnYsgs6Ev9pP6xWPa1K3KQR/GELWKeJ/WPXxcRri057j+JR7WXXwH4eFB1DSfrHE1n701Nz7G0CISfP/xfP1elwYxhsh4lPaRjkv3339/Z+yPOIyX3yZjcoyrjBc3xRz+pzFUBlYxDQwz8RYKf0/rI4bjvl+8Lc6PTsuNWlKCT2uNwnijdYnC0RYx5o3EuKt52WSQpcS8+d4IGAEjYASMgBEwAqOIwJPb6kYx5w3zrJ0n+ozFI7u7tdDH04MUgIRBOcVkFKFaOlFVHBK46beucacGz9g5Es+D1IJd4SfiqoWf0maiLSEQz7Sg0/uqa1yYE2b3fKdKFREWLKPAGaFmKlgr+37+XEAZFRvEEc9K1I4hfVsmeMcavd/CAaXnqxGYCghIsHl7vgM8JXaqIJiFULax07yM6Ge4Ju5G7LgUX2WHRVNKvdNg5AZF3tI0zn6Fn8x5w+W4zsk+5phjCiMYdv+jiGfMS4WI/cLE8QwWAQnFSQUDSnaAi1BMYZzIriwIrzP0XbmiVzhdUfKmCnm9i9cHc8UCLpJl0BPf9ev+hnxnIW56EXiyYwthJmM4wmyEnHUoemzo53ESZRhJkUS+cH8e55Q8E8/jXmefS+jMXLQsTsIOmqJyOZ1LVaXdpqyaLzJG1Jn3kTZzOeH24txVN225ioRl1fuJeM4uRtoCYxM72jH2RSmHNzveScCtvEXDotQDFWHi3Jy23UbhprSGecUFvepRhgtp+uyE1a5XPNdEQ6A0bJ3f/eAfMR0UGFKsgz2/29QXx6ZBVbvh8cbShJiPYSzLOPD0fM0a10pN4mkTdlg8K/KoMt4RjVPUzobJOzTOgEcqAwBX5oXp3FB4MyZzZAoGSd1kDgrf7yteKzDAZF6OrGS8eXQv/Yqyig7Yf//SMY9+xbyF9Qh/7Lym/vHgcMEFF/RtHd+m70ruU9V3VbZRuzK3Qi5E31H/oQya3w3bM1TErw2PaVO3Mc0292BI/5FcMcaB8YEo4ts0n7FvSqGueHu59nMMgZ9AzCXLjqWQPFbXXvJdNiaPF19TzNXnibdqDYF3mzrUL962xBJLdJLDmKyMMKpi3gWxxseT3HhU1nbH+8bvjYARMAJGwAgYASNgBMoRmDYGF7I8Fwws3OPEEivsKBznTGkoNUzQ9+O9i+Gi9wieS9gWw4ziPbvr4uKPMsSFSVomjioRrnqH4L0OvXbhhWcJ1i2taDwyy4d+YASMQCkCOk6obJcWQi8J5BaY6Q6/LJIyYXgaLu7OiDs+0nBlv/Fuk5J2lURBVhpmGL8nY97Ik5R06Q56PJHouAUUqDa4GEYr6X8aUcGDK+SUUMrSDhivZZyB8E3tIoaP86L4PL3X7mn6HILVmIc0bNvfGFWi2EAZRd4R/uO9ij/OlcdYi52D3SjOBdK5WLfv2ryLhp5SVFTFo93+8lIgHlYVfrI9b1NWzdnqtjHKHL2VoUgWXmV49EOAXxZvL89QVO26667ZjjvuWJx3T3/B6Hrttdcu/jg6a/9c8ShMpKwgzW5l5X0My+/JTNG7SeqlRPlmV6aoH4bp/eAfyg/XaByDpz6UJ7EO6tQX/V7zlNRLQ0yr7j1HqkWDfr5DucdcLV2f1Y1zqoQbJu/QjmAdi1MHQ9oBHh5jW6feNI8cRv3RLzlySW2SfONZ6ok8Hxg6xucqU7/61Xbbb5/ttttuinbMFQNRPFngkYs80G84Bo8/jC84SpSjGnqhpn2X+hAekRf0kofJ/q3K26RdT4YyNa3bicpz03zGeWW/5rP9HEPwBCGPOLSdbmOi2lYv2Md+qDF5vPiaYh7XEGWykfHSS9/3g7fJSxZxVxkkxflUXYOLNK/+bQSMgBEwAkbACBgBI9AegWljcJF6NojCYuBLF+5aMLBT+5JLLilFWAqH0pfhYSoErpoch09G4hYjFilgleFuZcNlatyFxDdxIaM4yq7p0QKk200AkLpnLYvTz4yAERiLAP0KGk8QonBjv37yVzceoPDxe/FavfO1vwjAp1GsI5xLBXTwVeqC+mZHsWk0EbgvuKXHc4JcgcfSoNBHYSAB6IwZM+LrxvcyzqL9DMLYQhnCWwd/nFe8zDLLFN51UL5QFowumF/94Ac/UPBZrlHoqDzPEqhPD+KchLPm467GNAntTmQeGY89ScNN1t9tyso3qru65Yo8C4Ow9AjAGE+VIj+GaXof61BupcviiO+kMFU48oWHFpQluMhfdtlls5fl/RQDkgVy48WDDjqoUC4SXrtkiaPsSBHFyZXjfkaFOA5GVGV0LmMwwqVrMn3b9Nor/4jp0XZF4itN6yt6aojxKd4mV47/wRgNIl48Y+DhSMTu4tgu9Xy6XIfJOziGj/6drve7YY1nTRlb4JL+xBNP7OxCxogRL2SDJNLgaFTmf/A5+A1jqfgXHnaicXTMS9t+RdwaB17ykpcUnjW++c1vxqiLe/KDQTDj/EorrZQtueSShTcZjPboNxxRCE/tZa3ftO+Sd82Xo+J7lsxPoQcY3zBOjVp5m9btRFVZ03xG2WU/5rP9HkOiXJQxMj1SJOIc51bxeZP7OIZqTB7v+6aY4/1DFI019KzptR+8jTmlPHWwvi/bvBaPb05l4E3z7PBGwAgYASNgBIyAETACzRGYNgYX7LrWQhmYcD2MkIFnUPRuwW/OGYSYGEehTfFwnH/EGwlX7ZEm0jVjzEev92CHMk8KHOLDXX0qBEaoEoUiCC0QokAsFNL3xYvkX+o2+b9PPFGcTc/CKVKduGJ43xuB6YRAypvSsksQGhfqCsMOPn3f6+I9HkeCQPeKK65QMgO5sksO4bYIxd03vvEN/Zw0V+HbzwyxAwgFV5VwTmlGBWo/03dcg0cgurllV++VV145S6JSBKXGi7MErPlAPEI782t+VjsYx08gDMaYA36BIlHKxOWWWy7beuuti7g4GqWbwUV0o6uzpWtnomFAvBVgGAIxh0znQmXRITilrNQPyqRB4VmWdi/P2pSVtsccjXIyb4zC+aq84I1OxDy+mwBf4fp5jenr2ICy+CX85h3YiBjfMCrE4IDdkd/73veKPzBgdzsu8xlbMXhjXEVpgCEy39Cu+6GUiHHQ1mKZlM9BX2Oa8KjL8mOBUoprJfX1NEzd3/3iHzE9jGNEOsasTX2xbkGBGQ1MFC9X2hLtAePVa6+9Nr4ac88xEBq/UT7XMXYdE8GAfsT2lno1HFCSpdHGNjdo3vGHnI9zxBYGLtSJZAvKGP0cowHo8ssvLxRkiy6ySPGbeqvrkr74oE//8G6meeHJJ5+cXXrppePG3Gu/+tznPlccF3LggQcWcgDGb1ziR0M6+hmKVOoMnggf1Bi/ww47FGMsGJN/8t2W2vZdxmrGsSak9hDlJU2+n6iwf895FW1EhkETlY+m6bap26Zp9CN803zGuQXjRK/zoX6PIczXNb7RR3vN33gYwytEGpP1u+raFPO4viK9q6++epao4e3weOb9VUem8RHf94O3sa7huEWIeRPHsaXEEVEQRlP9MmBN0/BvI2AEjIARMAJGwAgYgWoEZqt+NfXeyIiCkrEQ2GKLLYpCsgB+5zvfWdzrXy+u1RHK6nxrhBPrrruuoi2u7GQZj9Idozo3eLzvBv0eYVIUGERMSXubbbYpdqFyj1HFJptskiFg2WrLLXlUUOqS70Mf+lDhkpyXnENcdv4wAqloXEEY3DRLgYLAGoEjaWkR8mRq/m8EjIB2PyxccjRPREfK2LJdbfRNEWeD9kLswJcA8gMf+EAvUdX6lh0q8AX9pTy5ViQDDFS3ftpkQeeGY9wWXWwTlxQA3EflBL9No4MARqE6No02Tl1HWnHFFTtufqM3jBim6h5ekMbHuCvvVOl4XhWPnsvYUr+rrrjJ//jHP14cxYBXgEgoIbULF+PZbsS8QXOHN7zhDbOUBUXCc/J5TT8oGpJtttlmpVFSrsUWW6zzTsakzElx7ZxSPKs5fTfM32m99VrWDTfccJbsR36klxy7oLrGM0TZjn3aaHqsgr7v9YpwHoE1hDFNnP8qbnaKr7LKKvqZxWOyPpG3YdrxXnvt1XnPDYY1UZmuXZTyfFKsUTbffMw3/OD5+9///kK4P8vLigdR2J7Oj8n7K4fg3QjlqfrhUrlyomzH9Dve8Y6iBMwNyrz0VBSv9HEv/AMFIwYxkfiN4SbEeK2ytKkv8cx55513FkUmhja4HN90002L9VDMQ3of22Jq2MBcT8p02swwCUMqze+k9Inpl/Xz+L5f98PkHWoH1N9b3/rWWYqAJwnqlDWxeOmzZo47ZX3hXe96VyeOftWf0lXE0dNMOo6ypo5GZPqml35FHCiMma8cffTRirLw7hP5OnIEeOYee+wx5sgePvjWt77V+Q6jpF5IddaE12rDDP0tHpOkfCDzKSMZQ6FsTeubcW2ykjwTke90/UBb77UOeim3eAxxpPy6Td32kpe23zbNJwb0Wi8yH0n7NPPZZ+UyzbrUjzGEdhBJ4xveIKIRpcKwdtg8n9sw96hLTcbk8eJsinkcR1ZYYYVZol9ggQWyD3/4wwV/x4CsG/WLt2GkJoqyGT2jv2pO+cd8Dm0yAkbACBgBI2AEjIARGD4C9We7w89b31P8yle+0hECETlKiGO+9rXsyCOPzKKwit05ZRbMdTPE4p2zR4mbc0bjggghXdnu0zTu1JABV9rHHntsxu6OYZMUOaRL2b70pS9lX8vLxkItxRShCQYU5BVvF2ussUaR3TfnixTdn3TSSWOKgIEK8fFNmaBKgXGXGwnXighk+PaII47oCIdIn52xJiNgBJ5E4NFHHiluUPRpEV6GzSmnnFI8RniFAZOI8z/f9773FT8RlkaFksI0uWJQpt10Cy64YCFcjd9zPimCVSl147upeF+3fig7ym/4LH9RcAs/1vMoyIpuqXfeeeeOkIuwe+65ZwEngss649JUxH6qlOn0008vioLw8wsHHFB4TeAByi0UtBD1jCvwJoTiBffdKLUZ/zEm5cx3kXiGflddNY9AiYMwkLi60UUXXdR5vdFGGxXzNcpGflBcaV4VlcmdD5IbHQtXYJPPyZg7cL/00ktnM2bMKDXyTKKo9RNlkhTFKF6Im7JCCMKZv2FU8YlPfKKjvD333HM7BgWrr7569u53v7tQHuBBBC8eMt6tlYEBBKqqtzZl/e53v9tRFmCgsP76648pa5VxyXnnnVeUjDrbf//9O3M92gLGczvuuGOBK7s1xyN2IcL3qJu6u5SvvuaaTvrM6elT5AU+izE0R4LIgwxeTeK54r+5997iW/jt9ttv35mbMu6tvPLKnezKyJt+LGU+8+Ytc2NlGTyh4MMrBtgdkPfxVMnUiSy5UZvkMfllnk3/oU+DAzvzh0E6IgWDaXa4a56O4nefffYp+jb5uP7663vOTi/8g3EVjwMczwTRlw/I2514VvTI1aa+vv71r3fKB/5SWmLIhiG56jsa5HQ+CDfRew8KfZRb5BUew1iv/NL2hk1SMNNHMT7jCt+Fp8kL0DDy1E/e0S2/tAMpQjEmo49C8BuUizoKgLW9PPugyIPoixgY0B8YH7fbbrtMxke8r1Li864OVfHwuBOb9TmGjfRFxiH4jHga7UjjWC/9KuaVHdlXX3VV8Yj2TrsXqf+TbjzWBH4NNqJo9KdnTa5t+m48/uSTn/xkJiN26pnfVWOKDBfIH2WirvkGAxZ562qS92GF5ZgbEflmzkS9MBYVY0euPJ8oiu0XeR79SDyvTd1ORDna5FNeIyjvgfl8ZP58vdx2Ptt2DIkG+muvvXYBnbCPa86PfuQjBV/hHXnE4JO5C3Mf1hV1qcmYPF6cbTC/8MILi2jJx3777VfwSR5QHni36JxzztFt6bVfvI11j+QwjA+77bZbxxh5gdwAhHmy6oOjsXsl1i7U27CMJXvNr783AkbACBgBI2AEjMBkQGCOyZCJYeWBBe8FF1wwZidc6k2BnWwI2poeI1JWhjRuwjDRr0M/+tGPso033rgzYeYbJs8TIThjB2YqCJewGYERLj1RgGhyr7zGcnK+8A033FA8YpFMnHG3RPw2fhfvET4y2U+FdeQlErvv4xEm8Z3vjcB0ROCMXMnKDgwUNAj7EQyzaxjhL8JgEcJpdmCwMwVBIEJjlEcs6KXE51zwfhDCFnZ2sXMFATVehh7OdxM/OxfMI/SFJ9RVKPUjPzGOb3/72x0Bc+RNCFokVCc8yr74O8bR5L5u/RDnIYccMgsP1HOlecYZZ2QHH3xw8fOR3NgGBRHnYCMcxjUzfJsdjQjsoPPPPz+Td5Pigf+NHALf//73C6MEFDsoUFEMY2AR2y/9m53mTQljAYTtKaHIjULv9H38zbiMhwnmMIcddlhxVEI3RQNjOMcKMN4j5MQTzhZbbDGmPMzXDj/88JhM6T1GJgh4UfphxDUjV3IOijD+RDBJnqkLyprWA8JqKYswPvvOd75TzKHI0zrrrFP8DSp/TePtVm9tynraaacVu7zJB4J6Ceu75QshNooeFOC0H4wBU0wZp8YTdpMGxgZScGPcgtHweMTxU/BOxkHSZywtI+a5GCRHQmGFMhFeu9RSSxV/ad5xmy/DIQy+UVhgnEHfZUclf+k38Oy6x8+g4NWcm3ywI7JsV2TM9yDuGXs4DgilMn2R8TQtFzzlqKOO6jn5XvkHcyDmKGn+wJL+KmpTX3fnhll4nmL+g1IbA6A0Hdar4xnHMc4vv/zyRduibUbFj/LHFV5EWyKNYRGGZHhzgFDkp16KhpWPfvKObnmmHbCZQGMURo4YmsTxF0Oq2LaZZ34kV0hCGMuU7QbnnY7v4r4NVfFweAIefGg7zLXJb5VnJtbryCV67Vcx/8fma5GF8nhJHwMEZB4YWnPsEu2aPogBA3OPtH8wXz377LNjdI3v2/RddsdHXoqRRZq3sozQNqQExesLvG8UCIU8RoQY6yNriQYvE51/xlvGfcYSMGWTD3yT+UGbup2I8rTJJ3yfOQFGUMz1986NFdtS2zEEA336K4Q3Hv4Y32nntBnuOfIHOSg8RRs2xA+Zu6ebr8YrQ90xebx42mLOeE0e4FWsO9J+f1VuQBYNWMry0U/exlgCT0GGQvtHNpPmCR55zUyD4bL81HnGOkZyV4yay44vqROPwxgBI2AEjIARMAJGYLohMNtUKHB6/AYTzipC2IvCSrtvFI4JOALPA3IlBcKwJpSmj+KDhWAklJssBrXTknfpd/E3Bh8sRshXpBgmPtd9Wnb9Tr/Tc32XXmO65Dv1uBHDU148TTzwwAPFZD++QyCMYgGBiXbz8B5lEErANB/pGYwxH3yHNxIE2mn98Y5nCKGJOy0v701GYLoigFEUf48//njR59hRhkeEMkEuu8lvv+22AioW8ihbMbbAsAC36BitlZHcvpe9K3sGb0C5qB0fCHznzQUZ2v2O4CLuFFYcKc/Q827XpvyAs9XJB3/R7TKY6bnyGdNtkze+b1I/dcrytORICRR+5+UKEPJH3VOnKN74jfKI3YymyYlAbFP/zZXz3QhDAgShOgJBwk0UPbjwHk+BVxY3XgkQYkciTxhQpkqD2DbjPd8i+Is8ort/iydTY7xHIKwd/yoPb1G4HHLooWPmWjHN9J45CPOLMXjm5UCZoPlEfJd+/2SO/vc/hv3f06zID7vN2X2mMMo35cB7GkLSSMwLEZ6mxlvsTI47TGOe4vdN7pWn+E2cZ6VpdKs35rlNy8ruTOaUsS2QF8qKwLqKUErTFvWdMOU3BgsovsqMidLyojDTM+0QrEozPueYBwyWlH58R72hQMfTRmoEQd7wNkAfUrrKO7/5jqPwIiHQhmejDBXpG8ZEvL2lysbxeAMKArnSVpxc6UfRPXV81/Q+tp14H+PBoD16dVG5wOK2fN6RYhHjifcxzqr7pvxD8bD+wpCMPCl/vKMOqcu0n7apL/oA9aj2onRoX8yJUBrqnfKVXul/jN1xbUUY8s04gGJYxPElbShiHu8VF2mVEf0cvpa+hweyThPF9/Fe78uuZeHiszSf/eIdZXmJz8CcMVHrf9Upebs393QDj5JhFd/9+Mc/zo4//vhZ2hPtCyMvecKIGy1i2eJ9zEd6342H41nmrrvuSj8p5CBxZ7Q8dBCwab9S3egaEwMv8dQ111yz2K1PueG3N998c+edsORbjmVtOmctS5u42vRdZAyMVYpTeYOXVilcOWahbNwjDpSwmrPFOq26J9+Q0n/y1//+t/1OMaTxHprPsy6//PJZ0mN8it6T9H3VNcYb73vJLwZVMS7VBXloWrcxH2VlGO99npHis6pwGqPT923yCS9hbhHLzj19RscGxndl5eFZ2zGEPopBdCRtyuAZ8kv4hHgY9cIfeXr44YezfXJjxrrG2sTXZEyO+MZ74hE1xZx8gznGC+qramuUEUOx6LlK6aTXfvI25oIYWTJvUl0rT/BUxtl0nliFh/KpePSbK7JdrRGa9PcYh++NgBEwAkbACBgBIzAdEXhKbrFbLi0ZEhpRmTWkJDvJoHBi1waT1qZGFp1IutxQNtwGM0FNBWJdPhvzih0FCDpQjLK40tmIYwIN6Qc7Q9mZhtKWMlUJA9mFiBU4YcoUpsourvjYMUP52G2N8Pttb3tbsdNdYRAQVwlWwIb8cCWchDb61lcjMNURYOfaoAjjAnbkopxHODEIHqm8I6iBF3NGOkI8FEAIL039RwCX8uBM20FQU5dvdjuKpv+5dIy9IoCCjZ1Y1HO3cbhuOoyz9FHG/TLFbZ14iIOdWBhyoTSRYqrOtxhk0XZR2MGLJMit820MQx6IR/MYBIwcS8ZzlCUYrfSTqAfmb5RXhh3d4me3L8es9aveuqVV913demtbVjx+YCyBpzTc2UMY8UblZMwrxm4L5G6TeR+NEmKYbveMbZSpbb/ge+aeKEJ/m3uJuve++7olN+YdfZIjs1DAslu8TMAdP0CATp9hvQJOEnzHME3u6UesS0iX+FLjgSZx9RqWemRcYazHGKruWNQm3Tr8A48t7JZmvYaBFtjjDYVnrE/q5K9NfdGO4K3wn7ZrPLDEzT/KrEHO1Zpiz9yOvsrxCZOBp/XKO+qWn/5K2647XuLJgbUw4wR12G8aj4fjBQU+A2GoU5fP1OlXvZaFOqN/0Dfgm3X6YZs02/Rd2jZH0qI8Zm6C0R3za/jrVlttVZoN1TX99MEHHywNM1kfwg+RbdFGaNsY0DHuUyd4R5wIYjymr4E/cieuKbWp2zSOYfxumk/6NfNZ5papAUbT/LYZQ+DrjDu0Y8avMoU+PIL5Eka15LEJ9WNMHi+9ppgTn+bp9IM68/qqPPSTt2luicFNNPCtSrvJc8Zx6noQY1OTfDisETACRsAIGAEjMD0RKNtYNQpITGuDi1GooKmaR86lxiUiwiV2WLM4WGuttQphO4szEVbj8cxYPffVCBiBrBBgGwcjMAwEbHAxDJSdxiAQQPmFdx48FGDkGQkFP4p+iDPlcXNuGhwCq+THVL35zW8uPJFFZT9Cb4TrKJ+7KasGlzPHPN0RSJU70x0Pl98IGIFmCNQxuGgW48SH3nbbbQvjxPQICAxHMLhg7MbwEa8kJiPQTwQ8JvcTTcdlBIyAETACRsAIGIHRRGBUDS7mGE24netRRoDddRhbQFi94zq5jNgx0evZg2Xx+pkRmCoIsPOy7S7dqYKByzF4BGhnJiMwqghw7jheBVAccA4zxzjgophz4jUXQcl/xplnjmoRRyLf8BHO80ZBc/DBB2eXXnppdsstt2QobtZff/3C2IKC4GrfZASMgBEwAkbACEwcAsyR8EYK4cmAY3PwIoFXBY6EZCyHOPrNZASMgBEwAkbACBgBI2AEjIARMAJPImCDC7eEoSOAS1DcCuKasopwFz5jxgwrk6sA8nMjkCPA0T02uHBTGDQCtDOTERhVBI4//vjimA6OLlt88cWLv1gWjC3wptX26LcYl++rEWCsOv300wvjCowvUNjwF+nRRx7JjjrqqPjI90bACBgBI2AEjMCQEbj22muzZZZZJltsscWy+eefv+MNLGaDIyAxYjUZASNgBIyAETACRsAIGAEjYASMwJMIzJ7v+psxkWBwbqhpeiGA54orrriiOPdwrrnmyp7xjGcU51PjXppzINnxeOihh2aP5IJ3kxEwAtUI4CofxRXnLXOerskI9BMB2hbnM8OjTUZgVBHgTO+LL764OHv8Wc96VsaZ35xJzHOOMzvwwAOzm2++eVSLN1L5vvPOO4vz31/4whcW9cARck/k49djuTEGHi8OOeSQ0nPAR6qQzuxIIrDiiisWbRL3+JdddtlIlsGZNgJGYOIQWHTRRbOXvvSlGfKM888/f+Iy0seUMabAje/cc8/dkdcgx8FA9YQTTrB3iz5i7ajGIuAxeSwe/mUEjIARMAJGwAgYgemIwKjqup6Su1f+70RW2JxzzjmRyTttI2AEjIARMAJGwAgYASNgBIyAETACRsAIGAEjYASMgBEwAkbACBgBI2AEjIARMAJGYAIRwPh7FGm2Ucy082wEjIARMAJGwAgYASNgBIyAETACRsAIGAEjYASMgBEwAkbACBgBI2AEjIARMAJGwAgYgYlEwAYXE4m+0zYCRsAIGAEjYASMgBEwAkbACBgBI2AEjIARMAJGwAgYASNgBIyAETACRsAIGAEjYARGEgEbXIxktTnTRsAIGAEjYASMgBEwAkbACBgBI2AEjIARMAJGwAgYASNgBIyAETACRsAIGAEjYASMwEQiYIOLiUTfaRsBI2AEjIARMAJGwAgYASNgBIyAETACRsAIGAEjYASMgBEwAkbACBgBI2AEjIARMAIjiYANLkay2pxpI2AEjIARMAJGwAgYASNgBIyAETACRsAIGAEjYASMgBEwAkbACBgBI2AEjIARMAJGYCIRsMHFRKLvtI2AETACRsAIGAEjYASMgBEwAkbACBgBI2AEjIARMAJGwAgYASNgBIyAETACRsAIGIGRRMAGFyNZbc60ETACRsAIGAEjYASMgBEwAkbACBgBI2AEjIARMAJGwAgYASNgBIyAETACRsAIGAEjMJEI2OBiItF32kbACBgBI2AEjIARMAJGwAgYASNgBIyAETACRsAIGAEjYASMgBEwAkbACBgBI2AEjMBIImCDi5GsNmfaCBgBI2AEjIARMAJGwAgYASNgBIyAETACRsAIGAEjYASMgBEwAkbACBgBI2AEjIARmEgEbHAxkeg7bSNgBIyAETACRsAIGAEjYASMgBEwAkbACBgBI2AEjIARMAJGwAgYASNgBIyAETACRmAkEZhjonP92GOPTXQWnL4RMAJGwAgYASNgBIyAETACRsAIGAEjYASMgBEwAkbACBgBI2AEjIARMAJGwAgYASNgBBohYA8XjeByYCNgBIyAETACRsAIGAEjYASMgBEwAkbACBgBI2AEjIARMAJGwAgYASNgBIyAETACRsAIZJkNLtwKjIARMAJGwAgYASNgBIyAETACRsAIGAEjYASMgBEwAkbACBgBI2AEjIARMAJGwAgYASPQEAEbXDQEzMGNgBEwAkbACBgBI2AEjIARMAJGwAgYASNgBIyAETACRsAIGAEjYASMgBEwAkbACBgBI2CDC7cBI2AEjIARMAJGwAgYASNgBIyAETACRsAIGAEjYASMgBEwAkbACBgBI2AEjIARMAJGwAg0RMAGFw0Bc3AjYASMgBEwAkbACBgBI2AEjIARMAJGwAgYASNgBIyAETACRsAIGAEjYASMgBEwAkbACNjgwm3ACBgBI2AEjIARMAJGwAgYASNgBIyAETACRsAIGAEjYASMgBEwAkbACBgBI2AEjIARMAINEbDBRUPAHNwIGAEjYASMgBEwAkbACBgBI2AEjIARMAJGwAgYASNgBIyAETACRsAIGAEjYASMgBEwAja4cBswAkbACBgBI2AEjIARMAJGwAgYASNgBIyAETACRsAIGAEjYASMgBEwAkbACBgBI2AEjEBDBGxw0RAwBzcCRsAIGAEjYASMgBEwAkbACBgBI2AEjIARMAJGwAgYASNgBIyAETACRsAIGAEjYASMgA0u3AaMgBEwAkbACBgBI2AEjIARMAJGwAgYASNgBIyAETACRsAIGAEjYASMgBEwAr15LcEAAEAASURBVEbACBgBI9AQARtcNATMwY2AETACRsAIGAEjYASMgBEwAkbACBgBI2AEjIARMAJGwAgYASNgBIyAETACRsAIGAEjMIchMAJGwAgYgdFF4F//+lf22GOPZX//+99HtxDO+aRE4BnPeEY255xzZk996lMnZf6cKSNgBIyAETACRsAIGAEjYASMgBEwAkbACBgBI2AEjIARMAJGwAhMNAI2uOhDDaCMWmONNTox/epXv8p+/vOfd377xggYASMwCAQwtnjooYcGEbXjNAKFEQ+GPC984QttdOH20BcEnve852XLLbdcEdeVV15ZGIv1JeIWkbzpTW/KXvCCF2QPPPBAduONN7aIYfp9YsymX527xNMDAcb5pZdeuijsD37wAxvxzqz2tdZaK5ttttmyn/3sZ9mvf/3r2o1hrrnmyt761rdmr3jFK7J//vOf2eWXX57ddNNNtb8ftYCTaWwfNewGnd9XvepV2UILLZSxZrz44osHndy0iH/55ZfP5p577uy+++7LbrnllmlRZhfSCPSCwGtf+9rsla98Zfb4449nl112WS9RDe1brXkefPDB7IYbbhhauk7ICBgBI2AEjIARGH0ERtrgYvbZZ89e97rXZUsttVS2wAILZI888kh2//33F5O43//+911r5zWveU3GYunVr3519sc//rFYMF100UXZo48+2vW7spfzzDNP9oEPfKDz6q677sp23XXXzu+qm5e97GXZXnvtVSzYyO8uu+zSs4ALRcYCL395J8lzzj03++tf/9r57RsjYASmDgJ4tjAZgUEjQDt7/vOfP+hkHH+CwBvf+MZs8cUXz+abb77siSeeyG6++ebsuuuuG2kjqyWWWKIzX3r44YeL8iTFHtrPbbfdtvDgwhzwQx/6UN/TXWmllbJVV101O+uss4q663sCExBhU8ze//73Z/POO2923HHHFYYtE5BlJzliCCCUX3nllYt2A9+75557iv7zk5/8ZMRKMlrZXXHFFbNNNtmkyPSdd96Z8WfKsq222qqA4ZprrskOPfTQWpDA+7fffvsMOYVojjnmGLrBBR7KPvjBD2Z/+9vfsq997WvZf/7zH2Wn79eJHNs9znSvzo022ihjPvnf//7XBhfdoar9lv799Kc/vZAffuITn6j9nQMagYlEYCJ55WabbZYtuOCCxTg0KgYX22yzTYbxJDoGG1xMZMt12kbACBgBI2AERg+BkTW4wNBi9913zxBgpLTeeutlt956a/a5z31uFuHCG97whuzTn/506XcbbLBBdumll2ZHHXVUGuVAfr/3ve/N2BECIZAm3yeffHLxm0Xcc5/73OKefygmEDyORxtvvHH20pe+tBPsx7mAsldvG+RROLPb2UreDry+MQITisB0OkZktdVWy1D2sejdeuuth4Y7Oxu/8Y1vFOntvffeGR6MJprYVYVSinGDXRe33XZbgUu3fHE8CIIOdpewo/+nP/1pbV4+ndpZNwyH9Y7diDvttFPhWSSmifHF5ptvXswHPvnJT85Sf3jbQsGDUoWdjKaJRUAKN/oc9TbdCMPmddZZpyg2c9p99tmnJwjgxU972tMKpdE//vGPnuIalY+nU5lf8pKXZIyxqXHfYostlr3jHe/IMEz/whe+kN17772jUn3O5zRE4JnPfGa23XbbdYwtGI9Zw/e6Fm8DJYp2NpdAd999d/a9732vTTST+pt+jzOTurDOnBEwAkagJQKjyCuRXUCWQ7SsdH9mBIyAETACRsAITBgCs1orTFhW6ieM4o3diE95ylNKP+L561//+my33XbL9t13304Y3ILtvPPOld8h2CRuFFhnnHFG57tB3aSGC/E3O2rYGSn6yle+kuHidSIIAxSwgcjjlltuORHZcJpGwAi0RIAdbriLPv/880fW9en8889fGJO96EUvaolCu89QYOMJCSLtQRhc1K2fTTfdtNhtKQFELNHvfvvbbJ98vEtd2+LSGp6NR6WU2Dm8xx57DKRMaVr+XQ8BlI377bdfx8iRrxh3+dPRLnjV+vKXv1x4xfrd737XiZhnGOMM2yipkwHfjEGAXcXPec5zCi9qY15Mkx94DmFHLXPyfijJMUJiHg9tuOGG0wLF6VJmjl34/Oc/31FSY2D+pz/9qTiKAb6H0TcGGRhcsOMwrpemRUNwIUcGATxNapMCRhZ4soQPTgTh9VP0m9/8RrdT6trvcWZKgePCGAEjYARmIjBqvPLNb35z9vGPf7zIPd6l8DJlMgJGwAgYASNgBIzAqCAwkgYX73nPe8YYTfz73/8udm7g2eFZz3pWB3uMLhDi6czVHXfcccx37DpBCIwiL7r9ZEfIMAwuTjzxxAzFCbsfUZKdd955nbz7xggYASPQLwTe9773Zex+R4GRKuT7lcZUjWcYgvK69bPwwgtnMrZAIcW54Po9bz7+felLX8owyojKTY67isYWeD6gLUAvz4+fwnsH3p0eeuihqVqFI1UuXBNLWfPDH/4w++pXv9pRLqK4xjhnzTXXLOodQdSnPvWpTvnKTVA7r30zZAQwnGVH2S9+8Yshpzw5kmNXN/wHI6LIkyZH7pyLyYQABvJah6GknjFjRsdDIQbfMjyBN/KO3yYjMBkRwEOV6LTTTpswYwvygEcLjuLBIxDz/6lIHmemYq26TEbACPQbgVHjlXFjZbzvNy6OzwgYASNgBIyAETACg0DgSbcFg4h5QHE++9nP7hzDQRIYTXAe3a677lq4bL7vvvvGpMyZlRDGFxLm8ZsdoJwlh1turvG4DsLpqA/CtiXcipIu1zJihxYeOBBIY7k7DMVeWT7YvY1hSj8I5R+u7omz7uSYXeN8Iy8adfPBkSvgy663JoRra76LR7Y0+d5hjYARmD4IYNCHQQKGfjfeeOOEFvzaa6/NzjzzzMKogvPW8ciEy36eQfBQXLKn9Oijj2aHHXZYtsoqqxR/HD2FMh9CgcXxW6bJgQBGMBAKkoMPPrhjbMEz5gicw45rfUhhix8N/2kcfPGLX9zoS32Xuv2vioQz5DkCju+aEHMwxmm+r0sYEpEW5+2WEcYP0fioLEzdZ+y654g6jGariHnleMYWynOb+Qjl7DbHTPOlOVOT+W2vmP31r3+tZWzRtF2lZUt/E98iiyzSqL6ZSy600EK1566kCc/FaLrpHJZ05ptvvjTbQ/3N8Sz0lyZtD35Bm5OhXz8yvPrqqxeeeYiLXfh77rlnx9iCZ/SjAw88sHNs1v/93/9VrqtYd2BET7koXxNifUnZqngVfZ42VfW+LC3Wk3xT1ee0TqxbB5SJtkO/rLvGUr6a8gt9N1muqh94eN2yN22v4sdVY0gdLGL74Oi2btRLfdblIcwX6hhbkG/a/6DH9qZ10g0/vas7ztBu4NV15wFqD3X7p/JTdW0zryGupn23zVhWlee2GLSZb7Qpa5t0VKayfq42glysqVyqCsOq5xwL2XTOURVXt+fMozmSsEoeybdN89KGd4E7/Y8yc1+H4EtN53Ld4m3al7rF1e1dv8f+tjik40RdXkk9NZGvwlP5Jo5/3fDp97s2/bbOOq6XfLZp772k52+NgBEwAkbACBiByYXAyHm4YPFzzjnndFC88847x5xVfsMNN4xZSGuyuNJKK3W+4eaqq67qfMeOX9yxzxdcriMIrSOgGBPpzB+4kD766KPHCC1wLY3C66abbup8wu7HtdZaq/ObY0MoH8elpMR5sPyxW+XYY49NX4/7m0lwPF7lrLPOyhZddNExhhEoczi2hCNEoGNyxc5cuXvySCzaTj311Awl5CabbNJ5xWJohx12GHPmPPGh6Nt///2zX/7yl52wutl6662zt7zlLZ3dvDzHXT8KQASqEEYp6REmnOWMF5K4cEQgy7e4YmcxITrhhBM64X6b1zF1Srkh3OlzxIzJCExFBFhIpgRvis/xkEAfLSOErrhvxyCKHXIIjqNhWvoNcdMnOWdT7r7hC8sss0yhRLn88ssLvpF+x2+UNwiD8ODADgz4ZGo8l34Hr8TdJEIx+P7tt9+eBunpNwtlCfXJE8RYUUbkBcUrBoC47KyTt1gPinO8+vnud7+b8ReJ9A466KCMo0Pw8CTeqTAf/ehHi2Oy9Jsru80xNrzssssKQ8RX9sngLqbh+3YISElY1daIlf5BfUMoexlj1VZ5xrEijNPQ9ttvP8Z7yeabb56h4IwKU/o1BjgcSYKhh4hd5Msuu2zxjLEVbxq0URH8A68qZW5e6ffMCWI68IUrr7xSn89ypezsdEdAKC8fBAILdgqnnscwPqGs9+eGto/95S8dwTUKpo985CNF/PRjXLovuOCCHeE55b366qvHYDZLZkoe0K+Zt2HoFA146ffwt2OOOWYMjzjuuOMylIR4Wdtll13GxMjcdJ999hmjiGVedfzxxxcGVfBS8si8EVJZ77rrrgJv5l9RYA0fYI5XxjeXWmqpbNtttx1jiEKev//97xfxjslY/qNfmKEI0Xz13HPPzZiPQU3b1de//vVZDG/Uvk855ZQx7YLxinYa+SD1zRwUvMvOgaZO11hjjU6dMneFR2Jg9+53v7swdGLOGYm2QJ1i1B37Xlk9qLzUL57s1l133aItki8M+cpovDIzD2Y+Tj3i1Yi4In3mM58pjA54hiccdt2rT3z2s5/NPvaxj83Sl2ljjAllRPnBIvZLsGStw3qqFwJ7ER59qoh0KDe0wgorZBdffHEnKPWB4T0KY+5FrL3oU7T1SNTd0ksvXbQHvDzRBsR7CfeXnJ9giMgak7FyiSWWGNPf8AjFESjRc8squUHjhz/84SIZxmS8EcGfRPDLb3/728Ualjaw/vrrj/HKCO+FB5fxU/gF7ToqimmnrGng//LkqLR64ReKg6vaYd12Fo+wiPG8/e1vLzYX8AweD66R8Oy0/PLLF+047RO0DzZGxDUfZceYDf6o+VmMr2l7xQgA/hCNDeivtI26BI9lbIj0rW99q/hJe2EsFjWtzzY8hLToL4z5EG1e7UTx0eaGMbaTft06OemkkwqlHTwN3hWPTaON0FYgjn+lv1WNM8h9xPMw4kK2gmxH/Jr4kamU1XHT8bnIUMW/tvOaNmM9G3iYG2p+Qj/BiA1+1pTaYtBkvtELn2qTTre5IkcBIZdijqs2Amb0mUMOOaRj6NwUR4VXWVlL//nPfy7WxrGe7r777mKuGucobfnmd77znaIMjJkYH2ocYhxExtcmLypHU97Fd8zpWYsyP4sEXzzyyCNL1+9t5nIxbu5VziZ9CV7BPCKVcypu8GO9H3n6IMf+JjiIr1fNNat4pcqG98S11167MLTQPAo+yfqQtR5zmEgY6TCek0eF5/2j+abGL+cy7Sjzjt+Nd7/77rsXMqEYjrGAPzygUUeipv2WfDZZxymd9IoMB77AGhc+e/jhhxdrNsK1ae9p/P5tBIyAETACRsAIjD4CI2dwgcCeoziqSB4t9F7CQwwJoiA6Fb7Nne+mFDFx+tnPfqafja8sRlJCUIQwkAmr8hSF5YRHkBknrGkc/E6/KQtT9kyLOr1717vepdvOlQUmwiKEGCg2nvq06t1hMZ8oPFFopGkQH4s8hJIsUKgDURQG6xlXlEeRonCX5yw+JTyK4cgPXjVQeDAhf+CBB4rX8XuOnOFPlAqo9dxXIzAVEMCoKiUUJvyJEPq87W1v08/iirAJPkV/ioTAnfPTq44+QsGw2GKLFQoIlGAIRSO/QmmK8DcK/khL38W0uEdpylEbKExSQtmIoFVCMQSpKNRYRHdTVKfxVP0mXxdeeOEsrxFmyDNEfInCC4M4hBzwujp5a1s/Md14j+KHRT71FAl+XkbwPwR8KOK68fqyb/1scAigsEWQQxtEKRcNTJUqCgIpCRD2qB/ofbzGd/TfMm9WjJ8oMhCaMU8RaacSV5RRMS7CoEhgvEWYGdsZhqT0xZRQEDOGlxFlhhfEY+EUDj5Cn2c8R5As0vgejWX1jivl+kquwEwNR3mOh5imhGKKneUpMffBeBQlf8RP+Yt8kG+pA+ZF6ZyJ8BG3+J3ior+mvJk4URSiSE/nR/AEFMaUORJpI1wlLwhMRf3ELJYvlqVpu4rxKJ+6xnfMs/GEkLYhykS9ocxHoRKNisoEu7Rz6lJGG2m7J236A9imRD3gmQZPQzICVHmpw7K5dxoHv2O50ve8u/XWW4s+yz1t75JLLhkTDCNriPETJbh+84wyp0RfZtwi/6lh03rrrZdtuOGG6SeFoBnDDYwApFieJVCNBzIiQNHUzSMMxobwRShV7NOf0vUD4WgTKMJRoOBJUKQ6gX8ydqdEOtTxH/7wh9JdnvAr9TfWjFA02Cgz5uY9hgMYo2EAlhJ5gp9iDB7LB9+Ed0eDA76lXVJfBxxwQLH2ueiiizpRtuUXnQhm3jRtZ+n3+h3bc7zXe/GHlE/R7lJjJ76h7LRpDC622WabMfPEpu0VT1FgmOYLDOEXdSn9Pn6n8vGsTX2qvTbhIaQV26TaBM8VH9dBj+2k16ROMJCiTmkLn8qNRD4+08ACfKPRyhFHHEHUY+ot4hzv4cdp2+I38xEMOjC8ELUZn/Vteu1lXtN0rMcgCyOESPSTNp7Q2mLQdL6hNtm0rG3TqZorsrEnXQsLR7BgXoEBXZw76H3dq8qKAURK1BPpYMBIOlrHRp4S7/W92njatokPwjCxjNrkhXja8C7KBY9J80h89I8ZM2YUMkQU6aI2czl9G68qZ5P2JZ5Zll/iniPnQ5Cw517fcN/Psb8pDuLrlLtsrhnbUMw/+V4lNxgtG+/AgfUh423cEIgxPnKeMpxYc336058u5pqpcSVpjUcxn2lY1SnP2/Tbpuu4NH1+Y7jCPF8bCpCLYSAPtWnvxYf+ZwSMgBEwAkbACEw5BMZKYEeweOygZiHP4hyPDBKQUhQEjbfddltRKgSfKLj0px3YvMRIg12IInYMpUorvWtylRAufsPug27EbnOEjmn6KPJ4jvCvn1SWR5Q8EGlFS3uly7PHckUtJKFjt8kxCz+UCArDYrNswan4q65M7rfYYouq18VzJuIoRetQinGdbxzGCIwKAihA2YHBn/o5uxP0jKsUQrFMKE6k0IMf4f2HvkL/RZmoHabxm3iPu04EDizmERrBa0mf31EogSDh7LPPLow0+P7xxx/P7s4NANitSHgM16RcifHTx9k5T54iP0SgEoUB8Zum96TPOMBflQeQGKcEAE3y1rZ+Yrq6xxOJFMFlBiEKl17h31DZDtE0rH8PB4GouEQ5h0IJQZgEqGkuGI9RSvHHriKII9P0TIYQCMwQBEH0/Rm5kBNF1he/+MWOsop+HxWzReCZ/0gfQ1UUgiga2TUJ8TyOywjfotIfJSDjP7trORKnijgaTopydkWxG45n4CH+xVyviuAH11xzTWHwhMEYhJGGjC0w9KLMYMr7poJzsFEfIy4UvBzNww46xUWYJZdcsiqLnefwL82H8MyF0JI5LF4bVNZO4OQGvJkPgguCedKXERv4RW9uEmZTJ3yDQQvtAsW6+jxlwruQqJ+YKc5u1zrtivZEvn/0ox91olL7lqcL4pHBDhiecfrpRf1Q39plx5gTPaZRXyo77QcsCU/7xiNaFYGfjC1uueWWop2yKx9DQ9IGb8JUETtcMZiKBgBp2PHKjMcXUfQQwTPm1xqTqo7BuvTSS4s+hjFC9DoDrmqbxAXfoE1AjIf0f8KAEW0KQrAvwXPxoOE/5TWuy8qigG/Rd/mLcxcMimRsAV8Ce3gbRgpSXFEO1XUaN3WPJxbaBnGTDkS+mIcQB8d2wY/oq/BXiPYkT0PFg+QfBiL0dQzMMVwQYWxBO7niiiuKOiBdvacdxzZKXbCLkrSgy3IPJPBbjFHFG/WNwigdrryryy/id7rvtZ0pnjZX8o4XEAgDUZSR733vewuPDDpWi3YHHxS1aa+RH6McEj/GuG88fqx0udJ26Bt4OxIxRvBMiqxe61Px1uEhCjveFZwHObY3rRM81zAuQijIV8nnPxC8SgpF+k4346zig/APnkx4vEBRv9ErzwYz25iCx/bQdHxWHLr2Mq9p0ndZ/8jYAn5GX4FHjDeWKZ/ptQ0GbeYbSrdJWXtJh/TSuSI8RN5m4ZX0Y/otu+i1UYsw1GW/CE+sjP/UER6KJGtjDsccpJ/E/JB5OHP9MkP/unlpy7sYj+l/EIZN8Gv64PXXX188o+6Z74v43XQup2+rrk3aV1UcTZ73Y+zvBw51xwnWfTJmY76DASJzKNafD83ctIFxp8YxsGBdp3rFcxfzEupavJX8d5sHd8MTAx3GTbxGiMgLz2TU3qbf9mMdxzyLfGm+xZxM3vvIa9P2rvL5agSMgBEwAkbACEw9BJ6cAY9wuZgQIgxE4CjBOsVBIMaEfjziPE2EdZHOP//8+LPVPceDkDcUjxJKEhGLKdzgVxEKCRZbCBMiSRAchV/xfdN7hFcoDMgjlvuRpPTAcIG8RE8QCER59sGZu374PlpJIwSjzCzWUZ6KULQyUYaYpEdCsM1ClgUuQuAqIgwTeBGKRQSTKFHiLniUStoxp7C6stBmNy6WyFHIrPe+GoGpggCeLFCE8CcexKJYz7imxkk801njp+cKK3Z/bZD3W/ru32d6mhhvAY3lPzyDXbQIShFkcYQBgpbYT+m3LJgh3FbDwxGmY/BFevAP+msZoSwkb+985zuzDTbYoHOEiYRmZd80eYYACsMS/kijCdXNW5v6UT7w1IMbVpR2LPYR3CH4QFDCWFGHKBt1BUlAUuc7hxksAoz97JaRogcX2PQ5lLnszGF3dBvCJT7tA6MrlA4Yo0rph+GTqMpgAAU23lvYec0RQ+RFFD1HMSeQApXxnPaIJx25Zeb4nzKaf/75i/zRfxBAs+sUfgEfYsyGEPiWje2UgzLRD1AcaaccrnEh+Ai72Ckzgm36DPOUKv5SfJT8Az8Rx2OgxOd7BNlR2JZ6WdM3upJ/GQZTVnalItRHmY2CjyMFupHKCi4Yg5E+9yIZAvAbzzuqi29+85vZddddVwTDCAdFjCgK+PuJmeLvdq3brrrFwTuUTXhogfBQd0pukEL9UN/MdTUGrrzyykUY/kXhMbvVwJLwtO8dd9yxo1jvfJDfMAdVHLRP2h1Xxjw8Q2jeS15QgqWEwoPd1gjkmxjHpfHg0UjGgAsssEBH8E24uFM3tg3FQR+hndHHaIPsFJcxC+1Fc3XCRyUTY7o8L4CRvF3RL9NjIJRWnauE9jJkqPONwpA2BocQ3zOnoX3TT1DoYCDCPVQ1d8Ewg/kJ6xt4A8qGSBwNdPLJJxf1TF+NRnEyworhuQdjxme87WEcggJBbZD3GFigAKMOSDeuw3DTLcLQXO7gMShDGcj8BCMv6pa8QeDAuiulJvwi/ZbfvbSzsviaPHvBC15QlItv8GCGFxfGr5tvvrlY96leYz9r2l7hx/QfiHaDtx/xY4y5mGf1k3qtT/LSLx6ictXlwW3H9qZ1Qr6YX2h8hk8zPxDfpf3TD5oQhhN77LFHhoEc9YvCTOuR5+QeZES9js+KR9d+zGvqjPUYbIoY7+gr8IhuY5nCp9e2GLSZbyjtJnyqH+nEuSJzXngz82M86DIG0PaYR8axoIrXqwx1r6SFZyj4OXWEUSRjk/gZ6+V+EfEzLjAPZ20hQzXF3yQvbXmXvP6SFwwbmbfQBxl36csQynxRm7mcvq26NmlfVXHUfd6vsb9XHJqME8z5JF/FoIF1GpghK/1U7qlCbVNGXRi+ISumz9B+kU1Tl4yh8FYdPcJRXYOiNv2213Ucsmzmy9oMxDowHYuatvdB4eN4jYARMAJGwAgYgYlHYOQNLqogZELPjuluhIAKwb4E0oRF+BVdeKPMQwhe9oe7tDJiYa/jM3ANK6GkwuKVY6IJq2ft+kPQGgWdTLpxG1iHUre4WKVTZoSMqaBKi1VNRomfSTy7CBB8sMBFCCwhS5p+XJCxSERAjqASJUrq/r/MgwZpIXBhMYGlNAJvkxEwAv9DQEoTjCvYVSmiPx9/wgnFT5T0Zf1LYbkizEJoJUKJJcUUz1CwyPCM/osQJhJ8GOMLjlcoI85Wl6CGsHIHrEVw2TfDejaMvLEbBcEB/FcGb4x3GIcgyBqP8EIiQ0PGSurLNHkQwKU2injGUgm6mK+gTMdQAG9eGGI0IYRCCKrpV/SZSNHINI6zCkMeUGBHwkBAnhVkuMP7RRddtAjGN5QjJe1qS5+jGCV/7GJVmRUmGgSVCfDIC3wkEnMY9Q2UDvCgSAiex5sjxvDagc4zdrVHnFDUY/zJnxSg8dt4H3fZp0c3EC7yzfid7ilr3N3P83icBEpKEbu5IOZU6XwHRarqT55u+o2Z8lF1bdKuquLQ82godNJJJ+lx58qcF6IfaWeaFNuMJWm7BDMZ+nQiyW+Yv0swXWYgTFsQpd5iKC+GL/0iuTBmPF111VU70XK0F8T8uGw80Ny/80F+w3ErIs3V+S0DzPvzcUWeHxQurpUwdO6Vqub+3eKN/akMWxQA2gmP4YLqTnFSJyke8F0pY1EcxDrlO/qoeFTsb4qTa9qeeBbbE8ZrkUhP67A4j5EBF+lxZGJK9GvlNV2PEbYJv0jj1u+27Uzft73S3tQm8GASjckwFMILDDw3rsWbtteogJG3nJjfdPNDfNfmvtf67DcPIb5Bj+1N6wRc4V0aS1FyIVtQ30VuEzeC1KmHMsMz8QXGBFHkJ23GZ8Wja6/zmrpjvcYycMMgKRJ9SB5D4vOq+7YYNJ1vxPSb8Kle00nnivA35p78pfMk5onir5Evx7zrHtyYv6Z/eHiJhAGyjCX1nGeaozBvlScXvW97RXGutXJZHE3y0pZ3washypQeKYhXSnh43IjVZi5XVrb4rEn7it+1ue/X2N8LDk3HiZfnR+hBtHfmP5HgKXgdYjyWTAbjGdaS9Bn4cUo6RiTy1jRMr7/b9Nte13EYxsoA9o477iiMudNyNG3v6ff+bQSMgBEwAkbACEwdBOYY9aIweUJIzEIoCsA5sxIlHpN5JospsXA/OF/Ax2+YQMpVmcKzQNAiX890rVoQpYIArH/ZOS6KBgd6Nuwrk/FILEY0ieS5FBUxTNm9dhTqHcrGKiIsWEYDFxadLPjGI+ozTtyJIwpXtUNO8WjHkn5zxRI7CjzjO98bASPwP+XK7fkO4ZQQWOrIDgTfEg6l4ehnZW5LYzgEZuKrEqrG9+PdpzuDJSCIvGW8OAb1fhh5Y7cnRn0IohG0ooxgtwkKA8awKjfylBleyc5bsGIcwBNUOmYNChvHWx8BPEJgXIFymKM0OCpC8xW8eaGAYMd5E0E6qa+55pqFFxnGe8b5dOysn8Os2J3H3Et9mW/nmblTDUVlN0FvWTq0Z4R4CKg55o02GuMu+6bqmY4Y4L08XlSFrfOcOBA2Ugf84bKbI1zglSie684t2PEqwhCkH4QxCX0ZrGJ9ypCCZ2V8VnNYXfuNWduyMRdP29V4cUUjAYx4U4pzWsqJ0kXlTg2Q0m/jb+3w49lqq602xtAhhuM+1nX6rh+/GZOlwGBXLDsr2Z0sg5JuR/ik6TMXZ+wGJxkRYESh9vSSfJyJnlzS7+eZZ570UePfqo8mH8b6KFN0EBd1LeMX1gbw1vGINgiOXFNCgVnW39Jw6W8ZVPA8NV7hGYq9uA7jmYwo6ONla1nC0H5p03UN5av4BXGVUT/bWVn83Z7hlYfxgPUfXg/IO/MfjGDYIR6pTXuVtyHi+fGPfxyjG8j9IOpzEBkt48FtxvY2daLyYEgNj6XPig9R5/0Yz0lDBodKj2vk2f0an/s5r6nqu/IW2O0orFjObvdtMWg63+iWB95VlbXf6SgfGFNixMWaijqLMieF6XbF6DE1riA88aW8qiwe2rWMJek3/WrnZWmN96wsL215Fx708DAHcawyHtU4+ov5Cn/pGNtmLjdeecreV7WvsrC9Pmsz9g8LB8r23HwTBlQ1F67ynElfxGCG+RU8aCJkME36Le267TqOuZnmZ2z6YwNfGTVt72Vx+JkRMAJGwAgYASMwNRAYeYMLBEH8QQjHcNvK4hxCcPj/7J0HuCRF1YYbxF8MiAqICMgqiGIgI+CuLIjknIMgScISRQRFFHYBgRVEEAQRkBwkiQRJBjIGBExIzkFAkKwY4O+32NOcW7d7prunZ+7Mvd95nnu7p0N19VvVFU6dOsXggp0PB6f9w50ya4OaoEBjoCoeIIgNE+x6tq3O+et8Q5vjzC4eDQLvuHFNJ7VIGECxASO7xtzO2e+ibd6M+lbPskZxUXg6LgIiMJyALSeUNxhA2WiDDFbGDg/h9Zlpecf9MZsFz7F4Bpe/Lm+fjm4sprCpOzgbh1f3d6/ihoGJH1REoYfLc8pYXOBS7xUZUbB8i3kJwEDOZvnVfWfd110CDMJhXMgfxposdYAylroX9+d+/fpWMeHbwBWqN/jke7Y8G9flrcJqde5taR5EUGZWERR3xM/HgzxM24y4V1V+802YxG0wO151yxrHzKZecMEFwwAQhi9LL710+GPAevLkybkeBfxz/KAos++7JZQFxgx+Ngif9zwbzOoGs7zndeOYDcIQdqt35bxda+9dxdMJ355JOwOBbrf1MVZmRiLfNAPuvI8tCUMc2xk+2nvY1gwuyDuIr6fJS624tjpn4Rdt6QfQnreZ8EXX5R33A+Zx/82u9+0ZjLfLGFzYvSO9NSbWxsmLj82Wtu8975pOjjWdz6rEBe9bDALhvYu6gUEd8iV/u+yyS8LyneaFok5+9X1S41glflWv7Yf0rBpnu75O3V4nTex5bJk4g3c8k9gzjB1vatt0/dx0uybvPdF1Wd+nyCgr776iY3UY1GlvFD2/1fFuPQdDXz8xijiYYZ1vk7aKG30pXx/ZtSxxVkb85CMmKI2kwUVeXOqWXUwOoGzF6II2ETxpr/CHZws8hfnv2tpnMGvXrvDXlmE8SNf4d+smB9LEyg/zYFGGE0YW6NztXu6xb4a2iD9eJrw619T5bpvox5GH6XvnGaJUze913lv3iIAIiIAIiIAIDAaBgTe48JgZmMCVsLc6RRkeG1xw3lsOo9Tfb7/9wlq1Pjz2f/zjHyeXXXZZfDj8LqukjRvKebMqch/Q5we9dbhFtUjhyXlmXsSNeevA2f1FW3PRZucZKGrFv8hK2+7XVgREYDgBMyJr11G264aHkAwzWsu7xt/frUGCvOeO1mOUd3T8WQeY+oaZSHnKOga0re7DhXzsPne08hmU98IQxtKH2drxIBuDq3vttVcwTGBwHEUZA1BljBvIG2ZsgbtX8osNPDJQS1unCXk5NcxCKd7KIDLvOVOmTMmMLVgi46yzzsq8X2FAxDruVcS3AWwAucr9edeiTMRYlwEOZt4uueSS4VvjXUkLljnDhbh/dhwO3sRMuKdbg3zmBptnPZUadlxy6aX22GFbM87y8W6K2bCHdekA3wplHwZErMPeSmwmO+lJ/dPOcMKH5du4eHwgjCLphTEby+kxK5dvmBm25vGBtrY3NCiKoz9Ovkasbe3zKstuxK7q/b1///vf/c9K+3wDDC60c9mOgp/vC8GbE7Njea7NvOU7zDPifm8atklZTzR2/UhvyW/kz1aDfmZgbsZz3Yhzk/msavzOTpez4u9Tn/pUWIqOQXzKTphgdIGhMN4Q6uRX3yel/PDlZtV4lrm+X9KzTFzja+rU7XXSxD931zR9vbAUHoN83RIf3ybq56bbNXnvjaEcfSr6bbG+Ke/6dsfqMPDfTdn2Rrt45J3vxnPwCoVBF0JdRN+IpXZN8AjYrm7iWvpTnfSprBwnrG4a4xJ+O8mLSydlF14XGaCmnl999dUTlsugv0O7hbY0usCDDz44RKtOW67d+wzi+V5x8H0QyrwyQroxSZEyhzYwunfaCJRFCBNCMEzvptT9bjvpx+HV8B2pV236DfRLKSfy2sVV8ns3GSlsERABERABERCBkSUwcAYXWKBj0WpCY4c11YrkbakCxQvKuoUWWig7hKIZBXqRYpSGme98Zje22KEh6sWvEctxBk2qSrsB0Krh1b3ex4MOPgM9voN/xBFHJLEbTgaGvCIfpaApD1Hwxufz4ubX3eM86cY6mfFAU5mw8sLXMREYCwT895v3vgy0vPOd78xmAPtrvIt3G6j156vs++VIUJ7bDMUqYVS5Fg85fo3YP/7xj2FZjSph9OLadunTKg4+TZg5FBtc4I7b1oQ955xzklNOOaVVcDo3AgRQRK688srhyd///veTq6++OjcWfD/UdQguiItc6fubrd2D0hTPGN2Sp9IB0NnS2XkYgjBQGBuN5D2XNpMtY8C3yXIdnYpfaoUB2UtbGByUeRbfFEpoZv4xaMsAH38Ig0AMBvIeq6yySoIXmSJ5+OGHs1Ok3fXXX5/9bnKHNhLsgzFBqhQtMxDQNLMm36ddWBgXkD6kAYrfVoYQFhZ8GKx9X6r4LyssZ0BaI6Rl3N4tG05T1/GuuOjmvddIyw8bKKlapzKr2QwuzMDZz8wl35fJQ3Xe69FHHw1tDvoFKLFZLiJP+LZs6RIzJqHeMzfu9LVYgiKWj6SGGgh54pFHHolP9/VvBt7wwoABVJFxnRnS1elbln35TvOZGXXxvLKzt7mOQRXSjUEN+vs2EMoSWxhbICuvtFIoi+vkV1uOjnAYIMrLP5xrSvolPeu8T526vU6aWNw22Xjj0Jbgt+kNqDOXWmqpJF66z+7pdNtk/dyNdk3R+5kuxtqFRdeVOV6HQZ32Rpm4xNd04zn0Da3vtdtuu5WaNBDHq4nf8847bxbMAw88EPbrlJtZIB3s5MWlTtmFfnCBBRYIMUHPSr2NAQt/GFwceeSRYfDa+idcWKct18GrDrvV2o58v0VGnMNu6sKBXnKwvoK1JeLXYRlZ8gQTBmlb0k81j6j0d4rabHE4Tf6u89120o/DmHfntM2x8MILJ3vssUd4la9+9athMgD9aqROfg836p8IiIAIiIAIiMCoJDDUMmAAXjEeRGI2lynbcPW7/fbbD3mLB1LX6ybMkBw/frz9DDMCcFfK4AUNa/9nna/s4go7xMNmmWHNvcEGGwy5+6677hryO++H72Rx3tZ1zLu2l8doYHsDC9Zh9EJn1RijvGW9RmZVM7vWJFYKYgQDe4SZenkz3mnM+oEbrmGWi80GRlmMe3yeZfnBnqetCIx1AjbrwBQfRTxstp93A2zXbrTRRrZbaKCWXdBmh4E983JBGdFtQVnAIJn9rbnmmt1+ZKXwy6ZPq0A/85nPZKcZwPLCMgjMfkbw2ISSS9J/BPxMmfXWW68wguRnE28s+tq0g3l1qHksyJvNv9GGG1pwmeI5O1Bx5y9/+Uu4gzaUN461YJZYYgnbzbYYW1iby7uztgs+97nP2W52XXagYAfX2vZd8d3bYLJdjmLRFIZ2rNWWtg0zumhneFe/3HPyySdnt3pFdXbQ7fg03tBxt0sYSGxKnnjiiRAU8TVjKx82swppM1v7q2lm/llN78d53PoGvAvGuLGQv7bbbrtswJ7zVk6yNExc5xH+fPPNFwczxMBiuwKvKxiGo5RtWuJ3JnzyOEYgiF8m8aKLLgrH8v7NmxoPxfKFL3whO2RlCu0B85pA/WJlSHZhusMgdeyK3Z8vs8+MYmsPUGbkPYdywQxdGBDBMAu5+eabs0f4d7CDzNhkjW/kmaeftsMDszVvLOTfvLbSsssum/XJuum9o04+85D9IK71Ee0836z15ewYW2adU+bilRJDHC8M+ljenHWaB5M6+dUbTDHAHwt8m5R+Sc8671Snbq+TJsSN+nntddYJ0cSrAW7gbSB01113reSVqMq7Nlk/d6NdU/QuVpdhnIUnIC/UGww0lpW6DKq2N8rGJ76u6ef4dqBfYojnYqxv9ZG1k+L4VP1NeHE7nN/mEYCy1iYT1Sk3q8SnSlzqlF0s4UUZzh/LIXohHU2HSB61tn+dtpwPt9N9711kwoQJQ4LDSAQPB72QXnKwbwoDx9jogrTBCzTtjy+kxr0IE3NMzFjefpOOefW5na+ytXYh98TfTJ3vtpN+HBOS+C4x9rPJEPQrv5VOZjGpk9/tXm1FQAREQAREQARGH4HpB+2VUAT6gXc6QLvvvntwh/3tb397mCLcZjXSkYkVNiiwsFLFlXb8l7cuW1lWhIvVKy5QjznmmMybA/cTd9Z3aye+k8W1KKiIIzMpey0xb9wo824YXmCw4o1DmAWPAQVxPfPMM5NVV101RBelle2zJqsXFAGExz3M8C0SlLJeMGxh8IN7sbC2Bj4NajoNEhEQgdcJ4AYRwXDLD9a+fvaN/7jxR5jVsc8++2Qn5p577mSzzTYLv3E/efvtt2fn6uxQZrBuK8Lsc3MTbmHx/fJdl3VvafcN6rZs+lx44YWhvou5bLLJJokZkaCs8wpTBh/XWGONgIbBqaOOOipwJQz/N6jsRlO8SR8zekLpdfTRR4eBW1P0cgzFl60TzWwjv9ayKd2ph6lXaYuY2Kx1ZpGj/OQboyyg/bSuM+5gVnEnct5552UDYcxI3zgdxEJRhqKSGclmjOqfgYLT2hHU65tuumlwMcyScCzTwTGTKnW7tf94Z9piKMNQHhIu7UX2y8pNN90ULoUpA4CmHGdGqVck+28vL2y8fZk3Gu4lPTF8QPHNd7rzzjvn3VbrGPnHhLYjbWDiz3tjmMp5jFlgbNIkMwuzqa2fLb3OtME4y+NnnHFG1jegvckAHfUYwgAUxrgrrLBCeGdT3Pp2Pi6QyReEx/XkD/MW4eOPsSBL8iB4cuE6K4/5PuGM0QD1p5+16cOost/qnS2ciy++2HbDFqNmjGeKhO8dIwn48L4YhcMMYVDTL8No++QZvO5Y+wGl+vrrrx++Bd7Xe5Bad911w/fGd1xGmMlphhMo0Y899tiQFsSPso8Z7aSfecbD24IJHivM+IKyC09ONkCG8RP1neWRs9M+xqDJBRdckM24/uxnP5sZpfNOfLuTJk0Kr4TxAWVvN6VqPvNxsW+GY5Sd9PUYrGAfL5V539oll1ySBYExDe9PPiTvMfhj+cH3l6vmV/KPzSbHYIlywJfHlCNNSj+lZ9X3qlO384yqacI9++67b2YIyDeMp1HL3+QbjIi7IU3Wz91q1+S9t6/LaFNQZrary/LC4VhdBnXaG0VxaHW86edYe4xnkq8WXXTR4IWHeo3ywOqPMsuKtIq3naP9ge6MfjWCQSzvZO18lsoyqVNu2r1ltlXiUqfswmiAPimC/gFDcspvynH0muPGjQvnqL+szVKnLRcCaeifnxRH35o+C96lMIamriLuvZBecqB/ZEKb1oyN0asecMABmcH6ddM88nmvw6uttlroW2CEgZ6X8tom5vHtWPvYwq+y9d5Qqf8p++17rPPdNtWPoy1shjm0G8wYtk5+hwf9BsoAym2JCIiACIiACIjA6CEww6C9CtaurInJMiDW6OIdrKPi3wflkM3IyFPm+Gvj/bzw4mva/c5rlGOEUEZuvPHGBAWTjwf7TXX4ysTBrqHBG89K5d2ID4M4uAbceuutW6YHA4rmqpXwSBc/o5C09Olpz/ZbZjSxZrrNcrNzMWcU1I899pid1lYExjyBC37yk+BlhgEMjJNQgKDgYIAWrzImKLhtFjAd52XTQRgGdZnBYGURnekmhE48nUsGWBjwYTbj0+lyBG9PB4tRyFAe2IBZE8+rEgbGXzaDw5dLDOaY8ojwMHLwv6s8w19bNn1IBwa5+CP9+LNBKQsv9l5hA5OcR3FU5Bae9PZruVp42vaWAAaDeG/CyAAjBTN8ou3j8yIGCpMnTx4SuauvvjrUq1w3derUcA7jAAxVMZTca6+9wjEUyvzlCc/sRIjXaaedlimgULC28tZhzyLuKNQQ8qzPt3YN23YeJPy1GJDh2QWFH23Aww47zJ+utP/Tn/40KFxRjr///e8Pivg4TWgPsVxPO2FAmfWqabswgzI2Jm13f9nzKCRx9YuhBc/CyxvraCOWlxhg90awTTIrG8+y1zEQYfUVHpf44/0YbOI9qJswfqGuIt35Iz9a3cVzGDQwI2L4MMMdbxTw8YYzreLEt4XClcEKvtMTTjhh2HNQvLYzvmn1DDvX6p3tGpTI1AU2AO0HbOyaeMtgEn9xHj733HOH1GkMcmKIgpEXhgzUgTFTBkq4zwTPLfDEqIP8xDPaCfUW5RmKfpT1RWlBmtHn8MJShiiraUtgEHJy6nEmjiPxq7rMin/GSO4zOIeRHEwxVODPpxv79Ittlmq34lonn1lc8FJg/T7yKd+xfct2Tbxl4JclROjz8a1hXIIBqZVdXM93f8ghh2S31smvDDZZeYwBSLfKY4tkv6Snxafstm7dXjVNwlIi07yWMOBsS6YRDnUZBjHUm/QfurG0SJP1czfaNXnphSHgLbfcEtp1fF/m8j7v2jLH6jCo094oE5f4mqafQx01ceLEUH9itEdZmyeUQZQ9ZeqzvPv9MdqRhx9++LB6inKS9rNJnXLT7i27LRsXwqtTdp1++unJlltuGdhhgM2fr78Il/a1SZ22nN3bxPbnP/95WKaN9gT9BibQjYT0kgNe0ljeEI8etL+oD+M0wjiRiTAIdTkGB3wv6CDoW/CXJ+h60WnXEXQStC/RCdG2Q4dOPJgoUOe7bbIfR9/aJlWiP6GeQr9dNb/ThzC9Nrr0btRpddjrHhEQAREQAREQgc4JTN95EL0PgQ44MyVxn5rX8WGGKI1FBhhMaLhWERQLZSW+lnW944ErlKEoFP1gVxx3/5vZHCjB43jHz4rjWHS+ajj+emaWmdu/+Hn85n1p/KIc8+/AOda8Q+m8faoksxm2HEexilI4jq9fQ5zr4vNYlzNowiBwLCw78pN0YJmw4/via/VbBMYSATqp/OESkW+UWQJ0qlG0xMJgye3TlgVA4UCHmgErDAuYdcaSFHlCGVdFKBuY0W3KVDrtc6QDmRg6oNSizMn7zuMypswzq5YHDDoTD/7o6JvAzI5bPO0c2zpx476y6YNSxMpmlKrMurHBRDwdMOhCGeil6rv7e7XfewK4LMUwAoPRZ1NDRctTNsjEb5RduNX2688T0+uuuy7zkGExt/v4zo477rghg6lcw3eNch3FLuKNOtvlHTtvcQwBpP9o56CYjY2ReIafiWn3cx9xyGsTYKyJcZaJNwix59rWrrEt4TNDOW4rcv3vf//7rF1TdL+Fw5a4szQa91lZZ2w5T7uU2ZBeLNw3/Iy8fpYBAwZE4nYi33aRwYaFZVv/HL/vmXIc3rSbLH2JM39ch2cBBhf8LLImmfm4FO37uNu+XRu/K+/AAGyRYNSLwZLNPOM6Kx+pS2DhDQM4j/E2CnZ7JscQwvCzS18/+vp/0g2PDnhWsPvsORhzMMjm84Jd48Mou9/unS0ccz8Ns6I62q7FSMWMTiwPk6fhY7PR7Vq25FW8K1m+t3flN98W35j3tGP84RSnoQ/X7xMf8iLPMXfq/jzHMKQwozF/DoU8hkR56UEcqRPj76psmhRdZ+9l9THx8df64xZXf96O+a2F6Y+xTx+KPi+eS+waSzfeHQ81lv52r11nWzseb32civb9PfYcwm2Xz/x97GMYYff7c/QNzcOJP84+ZRcDK5Yn7L05x314OYzL0ar5lfKYPqx5GiNshDRklrHle8/n9Svy/7djXic9yz47jpG/r2g/voffdm38LnXqdsIrmya0t9dJPeQg8PfGNBwzQ1L2zRuUxZVjft9/g/441yF5xzhep37mvjzpRrvGnhPHH70XZXt8nHKjjGdVC5dtXQZV2xuWv2zr4+D343dq8jmUH9TX5l3OnsszaZPS3jaZc845bfeNsjg7Um6Hdj1tLt7Z6lLufDQdSGaJN/rGXuqUm3Z/zM2O27ZqXOqUXZQZGJH79oCV49T7GJjYQL7Fq05bzu71W8tXtvXn/H7MCUN32HghDDM08MfZ9/f7cseu8+ftmN8Wxa8qh3bP8ef9PnFBR813ZfnP0oj6D4MJ6khrN3I93mBs+Tl+m6DHZdKKCQYFJvEz7XirLYZ2no99M3W+2zr9uPThIXpx3NHT0881Ma9LVfM7unPLM0V9DnuGtiIgAiIgAiIgAoNFYLp0hkD7qUd9/k64mGb2FZ3KBx54YEjDdySjzoAcawfTgPLGBlXixIwmGqsMejLY1u0ZTK3ixqwS3Mth2ICS1Te8/X24SSS+uOVDGVgkuLSmEc/7zTLLLAku6pgx7tc1RznnFdc+LNgQHwYeafTHgzv+Wu2LwGgk0E1PLhgX4BGBb5lBRsrWbgkdaNy4M2vt76mXC2Ydx8qvbj17EMNlGRYrZ+ms49Wn23UDs/olI0OAWd/UkSjBbTCzVUxYOgPFMNeTP2JhKQvqXdomDLp3Uyg/WN4ERWWr9oDFgbKA63lfBlDNUMDO193SXsClsbVfvAKvTph4zWDmFumB4Uvd9gflLEtP4BYfj0OkNQMnCIPPDPg1JczQpM3E4CVtuHbSNLN2zyt7nrzBbDfKPPJ4rAglHJTFXEP7kPLRFJqtngF72u3kVdq3R6TKVNwFo3DGtXSR8K2xnAjtVfJXN6TdO2NMxfrzGCoyuBnL8ssvH7wDcJxBbAxXrI9C3U7/qYyQ7+FEfm1VFmEY1UmdRF7le8VIlLxqgwBl4mh9QljwTXX6rZd5Zq+usXxN2pH3u11+x+/VLp/F1+f9Jm1p75EufDNl09byBOUX/eEydUPZ/GrxtPK4yjdh99bZjnR61omz3VO1brf7qqaJ3TcSW8sPndbP3WrXFDGhjMZ4lrqsbtvEwq7LoGp7w55Xddvkc8iblE2Uq/EEoKrxiq/HMxNpQt8Wwwq+fWtz0NZtl051y804HvzuNC6EUafssnswrKIML9PPt3uqtOWIXxNCPbvAAgsEHS7xHcm2RC854M0MfQz1YLt2HBM/0EkglDdl2tpV04YyiP6W9V3MANPCqfvdcl8T/TiLR7y1NGuX36kfaOP3uj0Xx1e/RUAEREAEREAEmiUwKgwumkWi0HpBgBlxuHtmwAdPJChFMbbALZtfRuCUU05J/Dq+vYibniECg0KgmwYXg8JA8ewNARlc9IaznjL6CTAgzEx9DCtigxjWX0fRieDZA0W8pHsEmLVn3i/8UzBKYsYfCtOnUqOaHVPvJv0qy6ZLf+F9BWGGIrOcY8kzuIiv0W8RaEWgTD5rdb/OicAgEFD9nCRi0HxOjY0cmn9C+RD7KS7lY60rRUAEREAEREAEREAERGBwCMwwOFFVTEcLAWYPYGyBMNvSuwv378iswmuuucYf0r4IiIAjwMyC2NLfndauCDRCgHwmEQERaIbA5NSoYuZ0bWjc0eKyGrfBGJqutdZaYXYlT8G9vYwtmuFdFMoyyyyT4GkNwRsGbtcxAsazwvrrrx+MLTh3ZrqkQT8KXmqWXHLJkG+IH4YjV111VT9GVXEaYALKZwOceIp6ZQKqn9NlX9VGqZxvdIMIiIAIiIAIiIAIiIAIiIAIGAEZXBgJbXtGAPfbuAjGlWKR4Cp2zz33LOWCvCgMHReB0U4AN4UyuBjtqTzy70c+k4iACDRD4PDU0IKl0nCRvOKKK4Y/HzLGpt866CB/SPtdIHDdddclEyZMSBZZZJGEZXi22mqrYU+5+eabk+uvv37Y8ZE+wHKFU6ZMGRKNqVOnjqjL6yGR0Y9RQUD5bFQko16iAgHVz0kiBhUyjC4VAREQAREQAREQAREQAREQgYjA9NFv/RSBrhPAmGLvvfcOa0iyBrENGLN+5aOPPJJcffXVyaRJk9quG9j1iOoBItDnBN785jcns802WyIPBH2eUAMaPfIV+Yt8JhEBEWiGwO23357ssMMOCYP5//jHP5JXX301DJS/9NJLya233ppsvfXWCW0jSXcJsB73Qalhy4lBaE8aAABAAElEQVQnnhh4v/LKK+GBGLywljIeSDBi6Echz5g8m3pDOfnkk5M77rjDDg3bvvzyy2FtbdbXZl8iAmUIVM1nZcLUNSLQzwRUPyeJGDSfQ59//vlQBz/33HPNB14xxH6KS8Wo63IREAEREAEREAEREAERGAgC0y211FKvDURMFUkREAEREAEREAEREAEREAERGOMEZp555mT66acPRjtjHIVev4sElM+6CFdBi4AIiIAIiIAIiIAIiIAIiIAIiIAIjCoCWlJkVCWnXkYEREAEREAEREAEREAERGA0E+iHmbKjma/e7XUCymfKCSIgAiIgAiIgAiIgAiIgAiIgAiIgAiJQjoCWFCnHSVeJgAiIgAiIgAiIgAiIgAiIgAiIgAiIgAiIgAiIgAiIgAiIgAiIgAiIgAiIgAiIQEZABhcZCu2IgAiIgAiIgAiIgAiIgAiIgAiIgAiIgAiIgAiIgAiIgAiIgAiIgAiIgAiIgAiIQDkCMrgox0lXiYAIiIAIiIAIiIAIiIAIiIAIiIAIiIAIiIAIiIAIiIAIiIAIiIAIiIAIiIAIiEBGQAYXGQrtiIAIiIAIiIAIiIAIiIAIiIAIiIAIiIAIiIAIiIAIiIAIiIAIiIAIiIAIiIAIiEA5AjK4KMdJV4mACIiACIiACIiACIiACIiACIiACIiACIiACIiACIiACIiACIiACIiACIiACIhARkAGFxkK7YiACIiACIiACIiACIiACIiACIiACIiACIiACIiACIiACIiACIiACIiACIiACIhAOQIyuCjHSVeJgAiIgAiIgAiIgAiIgAiIgAiIgAiIgAiIgAiIgAiIgAiIgAiIgAiIgAiIgAiIQEZABhcZCu2IgAiIgAiIgAiIgAiIgAiIgAiIgAiIgAiIgAiIgAiIgAiIgAiIgAiIgAiIgAiIQDkCMrgox0lXiYAIiIAIiIAIiIAIiIAIiIAIiIAIiIAIiIAIiIAIiIAIiIAIiIAIiIAIiIAIiEBGYIZsb4R2ZpppphF6sh4rAiIgAiIgAiIgAiIgAiIgAiIgAiIgAiIgAiIgAiIgAiIgAiIgAiIgAiIgAiIw0gReeOGFkY5CrefLw0UtbLpJBERABERABERABERABERABERABERABERABERABERABERABERABERABERABERgLBOQwcVYTn29uwiIgAiIgAiIgAiIgAiIgAiIgAiIgAiIgAiIgAiIgAiIgAiIgAiIgAiIgAiIQC0CMriohU03iYAIiIAIiIAIiIAIiIAIiIAIiIAIiIAIiIAIiIAIiIAIiIAIiIAIiIAIiIAIjGUCMrgYy6mvdxcBERABERABERABERABERABERABERABERABERABERABERABERABERABERABEahFQAYXtbDpJhEQAREQAREQAREQAREQAREQAREQAREQAREQAREQAREQAREQAREQAREQAREQgbFMQAYXYzn19e4iIAIiIAIiIAIiIAIiIAIiIAIiIAIiIAIiIAIiIAIiIAIiIAIiIAIiIAIiIAK1CMjgohY23SQCIiACIiACIiACIiACIiACIiACIiACIiACIiACIiACIiACIiACIiACIiACIjCWCcjgYiynvt5dBERABERABERABERABERABERABERABERABERABERABERABERABERABERABESgFgEZXNTCpptEQAREQAREQAREQAREQAREQAREQAREQAREQAREQAREQAREQAREQAREQAREQATGMgEZXIzl1Ne7i4AIiIAIiIAIiIAIiIAIiIAIiIAIiIAIiIAIiIAIiIAIiIAIiIAIiIAIiIAI1CIgg4ta2HSTCIiACIiACIiACIiACIiACIiACIiACIiACIiACIiACIiACIiACIiACIiACIjAWCYww1h+eb27CIiACAw6gX/961/J008/nbz44ouD/iqKf58ReMc73pHMMsssyYwzzthnMVN0REAEREAEREAEREAEREAEREAEREAEREAEREAEREAEREAERKA/CMjgooF0mGGGGZJll102mW666UJoDz74YHLXXXc1ELKCEAEREIFiAhhbUN5IRKAbBDDi4W+eeeaR0UU3ACtMERCBnhJ45zvfmSy33HKhTPvPf/6T3HDDDckf//jHnsZhLD3ss5/9bPKmN70pufPOO5OHHnqo9Kv3QzrNOuusySKLLBLifO211yavvPJK6fjrwmIC48aNSz784Q8n//73v5Nrrrmm+EKdEYERJkBeXWqppZI55pgjef7555OLL744efLJJ0c4Vr1/vL7Z8swp2+D18ssvh/ZF+TsH48rR/n6DkQrtYznzzDMnn/rUp8KFN910kybltEemK0RABERABERABESgUQKjxuDizW9+c+gUzz333Mlss82W3HzzzaU7OhMnTgyzeCH72muvhQ71f//739Kg3/Oe9ySbbrppdv3999+fHHDAAdnvop33v//9yVe+8pWERjEd+MmTJ3es0FtiiSUSGJhcccUVyUsvvWQ/tRUBERhFBPBsIRGBbhMgn80555zdfozCTwl88IMfzAb5LrvssuSf//znqOWCB5XNN988wXDs1FNPTf73v/+N2nfVizVHYMkll0w++clPhrY+38djjz2WXHXVVck//vGPlg9Zeumlk2223jqZPjUAMMEYQAYXRqP57WabbRYC/e1vf5v84Ac/KPWAfkknBlrXXXfdEOd77703ue+++0rFfxAv6mVZvPbaaycLLrhg6G/32uBiww03TN73vvclZ511VvLUU08NYlIpzj0isOWWWybLLLPMkKf9+c9/HpMGF2uuuWay8MILBxa9/mY//elPJ+PHj09oD8O/34UyZt55501eTduzGHTWlX4tq5p6v7pcdF85AtSxm2yySbiYPvwtt9xS7kZdJQIiIAIiIAIiIAIi0AiBgTe4QEm03XbbJR//+MczDxOQwXCiTEeHBukWW2wxBObVV1/dVnE75IaaP9Zff/3kXe96V7h79tlnT1ZfffXk/PPPD7//7//+L2GGl8kzzzyTvPrqq/azcLvOOusEZZJdQOe0U28bGIRg0IIwMKKlC4yutiIwsgTG0re4/PLLJzvssEPy7LPPJttuu23PwE8//fTJSSedFJ43ZcqUvhp0wbvS4osvnrz3ve8Nnk7+9Kc/laonqsIbS/msKpumr8cA1JT8t956a4IB52iVtdZaK8FIFGH2+y9+8YuOXpVvlbYK7T9mT48FoQzAaABjlSqGwoPIBiOLSZMmDfO2Qzt+5ZVXTv76178m3/nOd3LLwLe+9a3JVlttlRlbwAsDjXvuuSdD8Za3vCXsy5NBhqTnO2XSqeeRGgMPbLos7kdkH/rQh0I5QdzoYx922GH9GE3FqQ8IfOxjH8vaYUQH3QeTVx5//PERiR35FS+qeGUqowsakUh26aFbT6u38bS38847d+kp/RWsyqr+Sg/FRgREQAREQAREQAREQASqEhhogwtc9n31q19NTEla9eVRzjOAN1ISD2J5TxTMCpswYUIWNQb8rrvuuux3L3cOP/zwzJiFOO+66669fLyeJQIi0CGBL37xi2E28KWXXjqws3nx3INXIIwLeikMZs4333zhkTy7G7Ncq6YPLL7//e9nnpmMB4pYPCW1G7hm1ospLpn5wuw1iQj0msDf/va37JGPPPJItl93Z8cdd0wWXXTRcPvWqSeDsSCHHnpo8JL23HPPJbvvvvuofWW8HlBO2tJ9GNW88MILwfiCwShkgQUWSKZOnRr6BfGgFIZpGKcgd999d3LIIYcEw5xwIP2H14ztt98+/MQTAx4ZJL0n0C6deh+jsfHEpsvifqSGgRXlBmUIXnEkIlBEYMUVV8xOnXfeecnPfvaz7PdI7Jh3oN///veh7T8ScRipZ/4zNXZ5+9vfHoztRyoOvX6uyqpeE9fzREAEREAEREAEREAERKBZAq9rH5sNsyeh4f1hn332CTP7/AOZmcYM6DIuglHIzzjjjP72nu6fc845CcuRfOADHwgz81j+QyICIiACTRPAgIuZ3yhxypSNTT9/kMNDQd9tqZI+rMnKIKsNHhI/Zr2RvhgRMgusleCxyBsaWjit7tE5EegGAQyD8MpCuw2DAUl1AmaAUP3OwbnDvB7Yu/76179OfvjDH2YvwHJH3/jGN4Lx9SyzzBK81plXIrsIA22Tiy++eIixBcct7Hjf7tG2NwTapVNvYjH2njIWymLav0wYwLPko48+OvYSWW9cmoAZdtO+vvzyy0vf1+0LfT3V7Wf1S/i77bZbWGqPZZ3GiqisGisprfcUAREQAREQAREQAREYrQSmH9QX+8pXvjLE2ALvEN/73veCu+G99947uTpdFqSVYOTAjLluCkpi3FKyzRO8ReDSFAXQscceO0wBnHdPN46xZjw8mhC8jXz4wx8OneOyioFZZ501mX/++cNgYZU4zDTTTIGvKUbK3stsSNKF+yUiIAIi0IoAbvpZ/mmjjTZKmF020oIHC4wkUATjfYjlJ5Zbbrlk2WWXTU444YRgvNcqjswAl5FFK0KDf45B50984hMJS65VFbzIUIfj2aWM4Pp4jjnmKHNp7jVPPvlkKWMLq7ff/e5354ZT9SD1P0vRYYBUVuq8K/H+yEc+ErzzlH0O17EGeCdcqzyr6FqMuPAaUaWtNNtss4X2VV3Pc3lx2XzzzbMyi6UCvbEF1zN4+uUvfzlbUgXvcOb1wsLz8WHpkU6kbpo2nYervAMzhGn38n2XbZtXTUvqFfKLXw6xShy5tko6kT/5Tvguy76TxafJ78vSFV5VpFUcelnWWJzLlsWkb6u+rYVnW/povGuVNMJ4FOMb6iL2mxJ0BWWMLSxNy9Y31LXkfe5rQqiXqJ+q1OHtvr925ykb6Is39Q6eA88mLckH7Hcixrpq37/d+/s4UbYgL7/8ctslPHoRHx+3dvtV806TaVMUN2uTlv2efDh4qyprbFG1/eqf026/bjq3C7fo/KCUVUXxr1OewJil4/L0pvb9VmmPErc6bf2id+J4N/OYf6612YrKY3Sn9C2KzvuwbB+GH/3oR0u30erWw+973/tCfZhXd9t7wbFKm8DeQVsREAEREAEREAERGBQCnfV6R+gt555rrmSu9M+E2ZFf+9rXwvqadqzdFov5bjX0aEyyjrTvWLL+Jy4h/ezyz3/+88nyyy+fRZUZeTROt9hii+yY7bD2NH/MQjrjjDPscOktig4MUUxwj0lD3SsqGcBj2ZKTTz45XHbEEUcMa5TTGfrRj34UFNvbbbedBRfCwt0znWoTwns+nbV6ZGoI88ADD9jhbMusbgYL6QCYcB2KDmYsInlLmODqc+211x7inYRncS8DkH5plmOOOSa7Dpe5eD+hs4E8/PDDyX777Rf29U8ERhuBPOU/368//u9//7twsBPvO3hTQKl52223JX/+859bKh4JGyUJZR2u3hGU8rhqf+ihh5JrrrkmGxCLWeNpaOGFFw4ddJa4uOWWW5J2SwxQVo4fPz4Yd918883J7bffHgfb0W/KIasjiBOCJ4k8IS6Uff/73/+SZ555JpTj7eLm08HCbJc+lJc2QLz//vsnV155pd0a2MazurOT03aWTY0yUGaR7k888UTC0iSS0UNg3XXXTVZaaaVQh9pbYTB00003JXl548QTTwx5/JJLLgl17kILLphM7wwt7rrrruS73/1u8EBh4bGlzmY5t7j98Lvf/S60e2hv8M3sueee/rZh+9TlG2+8cTg+OTUkopxAdtppp2SxxRYLz6VO32WXXYYMPJF/aYfYsg8Y2/LteOE8csEFFyS8nwnlzJZbbjmkbcN3e+211yannXaaXZZt674rylCMaX1blXYKSxJhaEu71cTel7Tim15llVVCunD9NttsY5dlWwaladtY+cQJygV7Z9o18OQ87Z6vf/3r2b22c9RRRwU33cRj0qRJwQB52223DadJc/Y9U5jDB4OHPFlrrbWS1VZbbUh7jrBPOeWUBI8UnciCab5EXk3T6fTTT88N6p///GfI55/5zGfCe0+cODG56qqrQlpTbno5/vjjw0/yKEsLUCZ6YWkR/lh65OCDD85O1UlTGJTJw9lDcnY+97nPJZtuumk4c+CBBw5b1gqPRdTVefkFDhgLem9+XHfPPfeEPgkzaWOpmpbUZfTBfJ+HvHzWWWfFQRf+5ptslU6+LKFNwreFwt6Ed6J9f+SRR2bliJ2r+n3Zfe22lF3w9UYixIP2CGUr34xJmTj0oqyx+MTborL4u2n5O3PqEeL+++9PKN/XWWedIfUL+Yf+bt4SHSxd9tnPfjYz3oMN7TrfR4vjQVuK8p5v3pdv8XOYJEA5xzWER34gfBPKtCWWWCL8pMwiPRh4I38geC3AyyRiaVPnW+UZeMv0eYB+K/1oW7aN5d/KGOvS5mRZKJaw8/1i2p145fH1GPG2tHn88cdDX5n74IHhDN9ju/OEwcDYl770pdAv8Lyff/75UJ+YzoJ4WTlJ/RW3t1dYYYWE9EaI609+8pOwj4EFZSllpxfKXgyE77zzTn+45T5tAozvvEEXdcKDabuBOFEHeCnz/v569g866KDAxI6jz7F6Nfas1O34YEjN+3phyTTiQz+LJdRMquYd7msibcgz1ElmHOoZ8S2j56FO9ga8pNkNN94Y2hPUE+3E2iq0D2nXmFRtv2KoyXdFWYVHrFhoJ/ENUY7Q/rFlyaqmcxwuv6s+m3zXz2VV3jtyrGx5YvdbGpJvFkh1c9Q1CO1xylCE+p7yDM9EJuSbs88+O0yGoG3zm9/8JjnuuOPsdNhWbesPuXnaD4tflT6S9Ueo6/bdd99hwVqY/luhzltkkUVCv+DMM89M0A97QwrqONrl9B+oVyiL+eZNKE/R2RYZE5Iu3G/6A+6jXuFZ6GZiKVsPcx+TF63vQLm/+uqrZ3H79re/ndxxxx0h+Dpt0The+i0CIiACIiACIiACg0RghkGKrMV1tbQx5+XSSy8NHX0UMHTqGHhH0co2T1AmesUgigXfgc+7p8qxvFkXdAhQatDQNoW1b0wTPh1BGrmtJL6n1bX+nO/scnzVVVf1p8M+HWcUnn//+9+DYscrfOKLfXhw3zP1OOIHarie8Og8ffOb3wwdJ4w5TFCeMhsolnHO7TPn4jig1LEBGn8vz8JTBx0Klpp56qmnwmkfTzoc/Jl45Zwd01YERguBCy+8cNiroCznz4Syj8E9LwyyoSBG8eSFQUk6z7HS165B4YkSAEMmBlpQ0HqFAJ17OuIoo014lt1nx2zLQCHKuliJynkUuyjJ+e4RFLrMgGJwssgoIlxY8h/xylviaY899sgdPGQwDAU/SiAM68rErU76fOELXwhvgPLFG1uUeS3S4pvTlIyUkwzCSUYPAYwt+L5ioQ5F4Y3xE0pLvmMT+34YKLd9O8eW2a4oAvlGTahTGUD2g/Gc434GfU38t2/H4q1vz/i63o4ziEWc47hxnm8e5SPtlVbtJt8GYICB94nD4xoGN1iOh8EDk7rviuHZ5HRg4G1ve5sFFbY8lzjw/dEetAFZe18Y5LXNhgQy7Uf8Dv4aykyWaEFBTZsH5b0f5MSglWOItZM9f8ruWIgj5Stt57gOIN/Rro6F9MMwl8EYG4CLr2n3m3xmHO9P2/QMihbJ+eefH/I651Fe0w94U4s29Qxpuvv8EYfrmdRN07J5OH62/+3j4fftGvvW4jxBmuSlC9dhFMXgIp5BfB1bNS0xgN83HfiOORLPeLDQ4pu3bZdOdg/5gW/LG5BwjncibzIIj1HOr371K7slG7ggTmW/r+zmgh3ikOcZkHgwCM8A8wEHHJDd3e4b71VZk0Uo2rH4cdjnsTelzJBxad+MPlYsMGeg0owL7DwGEAx4eYFNOyNPyvu47UkYPAeetEEZpGfwFSNg2pyUZbQJGTxCSBcztjBDMY77esK+GY7bu1f9Vr2RCuGYkEc9D/8suybekl/IU1bW+fPcT/1OHvnpT3+anbK0scHu7MS0nXbnGUhm0J50iQWdCBNTvvWtb4V6lgFQM7jAqDM2uMDA2OTqaR5GSQfyRl74GCjvtddeySGHHBIM2+zeoi0TJfLiit6BfMlgI3E1o03Caff+ec/yeT8+78u4XsTH59c4Lv5cnbzTVNowoGz5j76f9z7FJB/aO7GQZrRJMUb1ZWR8nf22NIm/I8tXZduv5A3zHMS37tsShPWhaeUbxuhmbFEnnS3eflv12T59/Xv3Q1nl38vvVylP7D5Lw6WWWsoODdmST9Eh+m+PC8gT6AdMPCOOVW3rWzjx1uJXNo9xf1F+tbAtTB9nn65MrouFOo66kQkdeTpmylN0n+ge8nSbeOmMheczwY9+gq9XuK5sPcy19r7se/0Sv03qtEXtXm1FQAREQAREQAREYFAJvK5JGbDYm4cCizYNPGvAcozOH433c889d9jam1j3rrnmmnZrcuutt4aZyU0aXFjgNHp9vDiOUsgMLuw6v2UAlE7gm9POhDdgYCCPgRKsmJuUvDiiTEGhTsOeTg4dUy/Ezzqq1sj3cfXXsg8DrLVvTGc08A4YWuQZW8T3xb/pzOUZW/jraPjT4ZicKq7aiR94anetzovAoBFglpuVPyjk2Ef5zECcSZ6bVmaNoNxGuPbldHD/vbPPHsoC85ITD7hZeGwpY1nyCYURxg/MxEIBTefelApcxwAWnXwbOMF1L3FmFiLeNRgo5D4/GMR9fOMosykTmdHKuyEoWBiEPfroo8PvTv5RLtrMX97DzwrJC9cUDlXiVid9TNHCDFoGzPD0w6AGg87MRMSLgSkK43iiGJ0xZc6sm4suukgGFzGgAf6N8tqMLfjemBnHoBQzwBk8p57mD4OdPE8XlA1863iDIB9h2Lhy2g6gXsdQg3zN94aguOO7RBjEx9MChg8YW2B4FLcXwoUd/CNuDPZgAMW3vsEGGwRFPcdpTzH70Qa32DIDFGHWsRfeH68c3Me7MBuOWceEiXKRMgdlPINKf/rTn8Ktdd6V8KdMmRIGzihHMAimnIMhRlnM3KbMo02UlxY8mCUv8CpEGyxPaH/Z+5knMtLPG0rQzkRJjDAw6A0e+G1SZLh1/fXXJ3hC41kwN4U47efLLrssM9wh3RkMRCiPDz300IQZ13DEuIX3Xi018LWw7Lllt96Lwd/ScFsJ7Wdr09psyBPT2cD84YHt05/+dLid2Xhx+4/3M69t5A1mTJp0mqbc3y4P27Oa2vJMKxNgcuqpp4Y2OJ7tGKigLuFbZd88ftRJyy+mLG0whPYEeZpyYdnUmxJ5hXiUkTLpxHMOSD07WZvhhjSPnv3jH4d2Bv0W6kOeRznE7NG47WDxaPd92XVFWzgxEITQJ8OQnvKWmZ5817RtGASmjsZLSp7EcRipsiYvbnnH4Eq5ifcCZsTSH+O7ZyAIIwHeHU9KyLhx4zJjC2azn5YawHCOvEeZ7Q3f/bO2SctsM7ZgQB/DX8ofjGSsn4/RFwP1CG09ZhOTj/EWSblEu41yx4S8bYZtdqzVlvcs862SF/0gFkYGGNFS7pDvrR5q9Sx/DgNYM7agDqYdTpmOdxvL12ukhm3xwJiFQXmGZziMUBgwjiXvPN++fZ/EHQ+a5F3SlfKQc5SbGE1QV5L+lOexDobrzJCGOsvazqSVhU/Y5B3aDuutt14wiOMcZa73XhPHm9/odDB25nrKMrx8kgfJe1umnnFoA9O/oP63vBGHk/f+8TX8tvupx2gzUJb5/MQ1vYoPzPhDzMsGaRz3cerknSbSBlYYqSL0QWj3mFD+mbEFDPkO//KXvwRDC+LLN8s1tIfMi4rdW3VLvijTfqWtgzcorqe8oE1igoGW6bHMYKiJdLbwqz7b7mu15T1GoqwqilOV8iQvDPIJXpTwvsUfQvlj7YsHUoNbvOK0a1/UaevnxccfK5vH/D119ymrKP9pgy600EKh/OedKHtpt6FXIT+Rf9HVMOGNyW20izAc/+Uvf5n7aL4z+v7oHlZeeeXM+JR2Iv0U6+NVrYfjh9H+R0dBPUTfEHZV26JxmPotAiIgAiIgAiIgAoNIoLU7hT59IxQCXmjMxcKxDTfcMFuaws6jkLbrUcIwG7kbgtKRDu1+6SCXNWJ5DgoVXOwXCZ0NlPI3TlNc2XW4cuY4jeUmBKUFinriGHfeTenDAB3P5FoTZqdzjNmZCIogb6VNQ553ZmCD2Q4mDLSaoQudMi/MZMdIAiU4Sv4iwdjC0o5rUAAxi4oZT16xiiLUK+l9eCj/cI1LRwaFrEQERisBFNR8n/xZGfTjdHDCjrFFiemFY2ZswWxhFN3rp4NtDLj9a5q7Xr7VVoLxGoP+zLZg0IWOPUpjXDj773RyahRlAycoExnkZbCCcoLnoVxB8ZAnDHIQN2ZNoPS2JUx4VhOCQgcFAX95M4RbPaNs3OqkDwpmhDSijiG9xqWDG4svvngYgEVpYgpQH0cGzXHtTVluRjP+vPYHm4ANeJO+KMHNTTeuk/mNMRMyYcKEzFjCvzGDWrhYxgsViuvzzjsvucsNFPo8RT5C7FkMHHI/96Jwp45tUjDuOjl1LYwSD0MI3NeboBAvKwzyoLBEKNvMxTsDBXicMKHdaFLnXRn8MSMwlmTBiIVyDEa0uawstsF/e5ZtUaIy2IN3BoujnauyJRxruzEY6sWW6CAuGB3HghKfMpm2GYNnzFploAeBobXl+O15McOYdEJIKzPmYCCD8q6O+KWXHk3zczsxD0fWjm13fZnznaZpU3m4TFztGhT0NlCB0psBStgwIDt16tQsbzDoZVI1LWln20Ar3xHpT5lDGcLAMIYITQr1nLkcp6+EkQZ1NX05BnMZpEB4b/o2edLE94UxESx5LuURLrP51jAqp51jwmBJnuTFYSTKmry4FR3j/XhXOGPYhAcR9k1scJXf5omL/SNS4z/yHqwoE5itTP6Ihb7dp6d5ScBo0JaIoC3J92P9ScpW2jwIaWAz6rmfAXfakeR9hLqpahla9lulDLT6hL4kBk1wYSY7fWoM5qoIXod4HwwWMJik7KW9DGP6rAjlaF7f1tLm2GOPDfUw9Y6XvPP0ydGl8Mw//OEPQbfAt8R3DFPSC7G6jH3KDoQ+P21KEwyQrG/ON2BiBsLUfRhJwIfyASNJnoW8Ox0obCfU3VaWobNhQJE6lfAwuDGX9cQ1T7+S9/7tntnqfL/Fp07e6TRt0L2Y4Q3fM+1Hb+xtbQw4YizLYC9phjGDLeXDOX8dv+tI2fYrS9BZ+8t7ZOGZDFQj5BUbsO40nUOA0/5Vfba/t2h/pMqqvPjUKU98OKQhhs9mGIoukbLOluSjXGQZTd++MCMkHw77ddr6cRjx77J5LL6vzm/KRwyt0LdiOP29actgWVh4EKUPQ/0AjwumLd/EeV8P2/VsMfyk/0FbkHDp4/385z8Pl1C2oktA6tTD4cZp/6in0f1g4E1dQD1Spy3qw9S+CIiACIiACIiACAwqgYE0uDAlh0GnE4cigA5NrOy3deW4FgW3zUriN0p8lA2tBKUKSsO8P9xt5smDDz4YlB6cezidTWxKZ7uWWT4jLcweslkFKNK9AowGt81gbRfPuHH//VTRxDuzpMcJ09bJtjDsWq9Ap3PLGtl0HEhHOlBxGtr9XjFDp5nZT3QcULZ498Fcb4oAu5ctz/pW6kIZF5bMYGRAQyICIvAGAVtmAuMKlg0wYabCKalCGcGg4hOf+ISdyt0ygIlizQQFOt+dGVzgNcIUXsx6igdmGLTD+KJohjeu0E1hy7U2yFG23LJ4dWPbzbiZ9wCUlJTTKDQwvLCynLRhMC0WO0Y5icJFMnoIkA/MQxf5gDrRC/UeilmEaz/+8Y/702GfwSH7nuykn+FvgzwY/JiBJW0I+57tHgaJXpw2kGLHOtkSdwwWvNBWsXes8r3jvQKhnRHX/ax7bGHi6QKp+65+kBUva7EwCIig5IyNh3lfFKFNCGljxg8MRJmxFnnFPPbEbuHtuVae2G+2KMJNrC3HbzPQ41mxBzYrl7nOt735XVZ8ex+ldzuxARXvkrvdPe3Od5qmTeXhdvH05xk4tbb0uHSA2qcZRjQMTjNo5mclV01LP1iWN/PeD776uNXdt+fxnWCEHgvfNW0NxL+vXdfU90V7BW9azJamzPPi+3vG05/Pi8NIlDU+TmX28V5jhnx2PYYUJn5g3jxYUKbaIL1dR/lLHzkW+sXUT0ie4b3v4+E5xASDMdqQCMZD5gWRvj2D8VWEtCn7rfo4MAAWCzN8qwheJMhTeIcjHl58Xew52zWkjRkd2DG/zTvPQBj5l2di4BGLtRPN0IHz3sAGjzImEydOtN0hS/GZpwvarRjCeMHYm/Jnt2mTN/y5eN8MPslPGFrF4gdebSkZf03e+/vzVff7LT518k4naYNBFUaICMa8GFuYgY6x9G0LjBl8Wci3TNrzZ0Zydl+dbdn2K2FbeUQZ5T0uWn2BcZO1ITpN5/hdqjw7vjf+PZJlVRwXftcpT3w4eWno9QxMJoilyFtw1bZ+HG7e77z4+XLZ+kh591Y5RrrG7W90qtaugbPXrRA27SyrM6z/Ej8zb4lUjDbsPsv/dethe15eO7BOW9TC01YEREAEREAEREAEBpnA69P9BuwNTClDtGksMquK2dAIM4+8W2VrBNOxYq06ExQ+ZTwccJ9/nt3P1nfW/HFv5c9xZo/4dYNtZoG/p9f71si25zKIYUp4jtmgip0v2sbKn33SjneRcC0svQKdGSo2O73oPo6zTrS5e+Q3YXjvJLFyPU+5jwLOZgoRhkQERGAoAVOK3T5tUNCfpXOOchahU27KI38N+3xnuCduJbiNtnIVw7eqEpfdpsD3ZUvVMJu6vldxO+WUU7LZnbhZxaCFWbLMOGZgypQ2eCRBCUO6lFkvuSkOCqc3BOaff/7sW7LB/PjJzPK12esMSnlFYXyt/aZuNrH61RTQHDeXv3ZNL7excr/Ms23WM+/CDLJYzNuObeu+qykuCT/2IMQx37biGa0Gyri+E2GW3Oabbx6CwMsQylC2JnlKbDsXb8kPlCHE35S6tLOsHJ89dXWMEWyR2D1F54uOm6KZ85aGRddy3NrlxLUp6Uaa1snDVd/n5vS7Z/Y5g6bMOsRghTYwCnsM1L3UScs50xmoJrYMj/3uxtbSgfcwA6n4ORhAYGBSxRgrDqPsbzx4rbLKKsHgrVVfsV14g1rWkA70JSkDrBzgXc0wNDZGacXBBnC5hiWyzCDX7vHhM6PfC+U5xhU+DTCKKWOg5cMp2s/7Vq3vSzlTpg9bFLY/TtmKxza+WTz00J717+2vbWqfMhXjZtrk1H2t2tCUHRhmYiDkJzXYMjCktzfcZImXrbbaKkSVpWTwXIdxIx6U+Cv6huN3s7qD5fDyhAE9q5tmT5c/7Lb0W3x436p5p5O0odwzmXrIIUPS3I4zox6jDvqU/OEdhzYE3ld4drd1MXntV+KG0RBlDd8V/SWMQukvWb73BnNNp3OVZxvHqttelVVF8apSnhSFYcd9OV+lfWHtxLJtfXte1W1RHqsaTpnrqcson/PSFyNGkyr1BWESHvW15fVO6mGLQ962Sls0734dEwEREAEREAEREIFBJDD9IEbaGwug6DBjC96FRrlZp/ObThSNbpbB8IpulCV0APmbK1Le7LfffsGdKff7Z/HbS6tz/jrvPYLjM800kz89sPvMzrROqr0ECi//Z8fZokCydbXteFml+EcXWMBuybb+OXE8vPFIdoN2REAEWhIwN+x4qIkFRaqVeQxoFEkZ5bOfZe9nQhWF6Y/78t2Om2K9irLB7m1y2+24+fBZHsaLXxbBlCYsuWAzPhmUyFPW+DC0P3gE/Ezb2MOAvQ0DEiadGHz6ejVu11j4/bhlgMhm6lJG0HaJ/6zssG3ddzVlLxziZ8RtJn9tN7gxA928HNgSJgzmIZSZDIpUEWuvWT3hB90wiM17XwvfDFnsd9mteeng+naDaaSdtQX9wF/ZZxVd59Mp7x3tmdzvry0Kr1fHMUpmkMfqDRTrpBkz21k2wPIE8amTlu+e5g2G+/3gA7+7IfZNvjLNi0XeM6z9Yd973jWdHiOfHZIONDLTG499ZmAAZ2Nd5Rn2XtxTpVz1ea1f8iXfgpWhZQfUeW9vJA/P+H18+WEenbgPoV1zk1uGk+fGBkWvX9ncf/qfSFNtKtISgzU8QZAfTF9BfrIyvLnYvx4SbQeW5KS9iIESacezeKa19eNnmucO4rdA2i/H+NrKP4wovLDMGG7srWzgOoyLMAKk/Nlyyy395bn7sLD8ZN923oXWB+i2fqXf4gOLOnmnibTh2ZN23JFNrrCcHTo5y0t8tywLxbJC5AubEJV7c5cOmtEQwWPYhZgRKvneyo1upHPZZ4dINfiv6bKqKGp1ypOisDjujSZ9H6bVPXXa+q3CG+3n4jZ9J/VwK1ZV2qKtwtE5ERABERABERABERgkAgPp4cIscgFN55rOuHXoOIaLQ6+QQXkzLhogpFHOX574e5mpbevcxdfG7rTj8/bbK4o41qQi2J4xEltmHsLdlCHt3o3ZL7j29EKntozESwvwXFuXPu/+KjOr8u7XMREYiwSsHPXfdB4Huy7vXJnyzd/fzYGRvPgN8jHKXBTdDMrEAzOUkXAl7fBigODK17wTMNPQZhtyzspe6juWnCA8ZjpKBouAH5AuGmzwA9Ws+VtXvNLTBt3rhtXL+3xbjXeIlxTxcbHZYnXflYEf2nwo7/OWFPHPqjJrz99Xdh9va3ffc08YFGNgmJmmtqQbnteqig0CGk9fBuFRx1z754VbZAyUd60/5vM33ntaiZV7XJNnNNjq3lbn+ilNW8Uz7xxrafO36KKLJksuuWTIC5T5DH5+8YtfDHmVNevrpOU/0jrHhAFyyxd2rOktbX76czOkdWCRWL3G99ct2WabbRIzXLv33nvD8iYPPfRQeBz1LR6nqshoKGvsfW2wnnZI3Pe1a/K2vj93zjnnhKWf8q7jWGwoxsDchAkTssv5zSBqUd89u7CDHdMzmLFBB0GFW7/2ta9lhgsYyrG0iRkY4FEA454mhXzKsqikE3UedRXlgH03eGfyhtH27IsuuiixJURWXnnlzIsIbU88KsVCvfCldNkQJrmsuOKKCcszUQfx3GWWWSZMwmDwvUgol6xd26rNYXkt1jEUhVv3eL/Fh/eom3fqpg15xPI/S3PQbzjjjDOGISVfYQjON0JaL7bYYmGpJwwAqIPwuIfnpV7ra1iWhm+KuNOmwWgI8cb/3UrnMs8eBrLDA5ZWTZVVedGpW57khWXHfJuE/GKGW3Y+b+vbIGXb+nnhjJVjcZu+k3q4HbOybdF24ei8CIiACIiACIiACAwKgYE0uKBDbQMIdNpZRsTcp6P0o2FuwgAVDXC2poizc2W2dBh9o7/MPcTJi607bMeefPJJ2x3oLUoQuMLchFkr8SACnVrfoaazbh0/GvvxeQvLb2O326+lAwmsdWuzWuzaMmHZtdqKwFgjEJdN8fubYsYG5fx5lNh2f6fuYP1yJCh145lx/rlN7LMWLIMkJtQXJ510kv3sm63xLYoQMzcZVC9SPNv9XmliYdlyMfbbttzDOT+byM5p2/8EcNFswiz1q9PlAmLxbZBbbrklPl36tw0qcoOtk1z65hG8EMMD2goM1pLfWxlcWDTrvitKXtqaGJIxgGUGHBZur7e477YBBQa+rIy4NDWyqiKUD6acNQNYn/cYHCzDtcozuZYZeDBlwI5Bbmbg+bTx4W200UbZTwYtm5KRTlOfh+DguRe9I9cxg5i8T33Ld2/f/tJLL51su+224dbll18+5FMfZtm0fCRdHsDkYx/7WMLSRd0U0oG6ivqPbzlu//NsM4Ro0uAmfqePp++KYFzKkpadis/PVcrVkc6XRe9tBkrWTy+6zh9/IF0WFKMghGUn4n6kvzbepy9ohrt8K+xvnJYFzFYvM0gXh1fmN2Ug/U0Gjzs1NmKw0ly6Y7TGcnHdFpZTsHbkmWeemfzqV78q9UiWicB4Dq8KtDdshjTLfdg+AcHEvG9hlERe5Tn80b84+KCDwjKheUYdcURskk2RRwTKBNMpxMY4cVhN/O6n+NTJO52mzUFp2pEPDj300MCdOuS2224bYnA5bty4oIujLqG/SFuIP2TnnXcO3zptEfIheaKXgtcnDC54Pkbo1q7huJdupHPZZ/t4dLrfZFlVFJe65UlReBynHjChfREv12nn/LZOW9/f38Q+ulHE60abCLfpMGhDmfcTvmekk3q4KH5V26JF4ei4CIiACIiACIiACAwagekHLcLE99Zbbx0SbdYGtc62KRHtAlvz86yzzgozRpg1Ev/FCpkrrrgiYYZNXcFlprl0p6G55pprDgkK5UM7odPghc5GPwheQXwnwneIiN92220XZtGxT5qQNnTOt9l6aw4FiRWh22+/fTYLG4U5rqljQbHplatcs/fee2eDPgwGMFOCZ5nL7DgM/RaBsUrAFKG4AG4lNpCWpwT1g1l33nlnq2Danrvvvvsyr0Te60LbG2tewIAj5YL9xWVyzWAbu61s+pjCCQWhdwFPRJg9ZmKDZ8w4PPjgg3P/bMb5v1KDRK7Zf//97XZtB4gACm2rGxdP8wBKtFhWX331cAhFIN9eXeE59ixmqpqi2sJjsPMdBZ7D7JpebW0Azp5n7Q4GirwBip3HSGKLLbbI2iJ139UGfFDmb5mGFwvHma1cZAAVX9/utyl34/e1+zAuY+AAMQ8RtKceTgfIimRcOlgSy0Ybbpgduif1moGgpLUZ0UsttVSu1zjqklVXXTW7t86ODdRw7y677JIpiX1YGF7PN9984RBpZ0bY/ppW+8aRa0wJbdf3Ok3tubb1Xmni9i0Dbh+a5tHIrmcLcwxsvvzlLwdPR/4cyy9YutlAb5209IPi6667rn9E2B8/fvywY50csOfxDW266abDguJ5NtP9vhL9rGEBlDzwtmllXF5Zu/baa2ehEM8yMihlTZl34RrzSkMZZ4Pudi/lFH3kWLwRLktO5Al5mu/cC168zA063ymuyxH6iHhp6JbYJADSeIMNNhj2GN8eG3YyOsA3aHklz0sVg8MmfO9NiH+OlQEWLv3peeed134O27IcBUL9b0Ybvozm3FxzzRXKH8ogljDyQl1sxlrkh3bGvqbHIT9hPB2L9/5Rx3NTHF673yMZH9N1WRzr5J1O04ZBWSYiHXfccRaNZNdddx1S/6MLIu2/8Y1vDFtm6+yzz87u816psoNd3qGus/4P7RaEiVmxbq4b6Vz22U0iaLKsKopXJ+VJUZjeY9paa6017DK/JJo/WbWt7+9tYt+8fDL5L24jWH5r4jlVwsAoKpb11lsvq3cs79eth+Ow/e+qbVF/r/ZFQAREQAREQAREYJAJNNNz7zEBXF/iWcGEWTR0/E44/vjM0MHOmUtRlK+4Tc/7i11QXnnllcnll19uQVTeojih80l8WB/Vd5BRrJmyolXAsSEDroBPPPHEMDOg1X3dOOdZ826sM3t8+m4YXhx77LHZwCnPxiADAwriircL1qNFxqfuXm3/9NNPD8fsH8o3wuOelVZayQ4P25566qlDjqFkozPPvd/73vcyBRHPL5oJMyQA/RCBMULguWlL+aCsttnOea+OYRrCgBMGTCYM1G222WbhJ4o273rVrqmyxaDMZtTNP//8QTHn70chiFKujlciH86g7JdNH++qnFmdpnyn3GVdZISBQ6tjnnjiidw6j3qQgXrklXQwlt+xwjyc1L8RJcB3QD1X9GdtC1u6gkEmZh1a/YcSFEMaG9DAnXGnYm0qBkpo3xA39pdYYolk8uTJuQaTnT6z7P1maMT1q622WrjNBrL8t7NrOmjPQB3niDuD2FOnTg2u0nFzbVLnXc8///zMKIV2z9apsakZpjD4iHETA2g8Lx7Yt+dW2drgJmXAuNRQwt7XhxEPQrXzRICBDkpS4k14KLt5F4QZ5H4mKGUHAsdDDjkka4eR5zBsY8B//fXXH7JcETNcef+yg5K0x22ABIOZww47LDBEoY1HAAbcvPeOOjPE//rXv4b34B9ru/NtGctep2kWkWk73kgK42vaycQPYxa+uZnf9a74loR+jMmGqbEM70QakS4YK1jZ4Y05qqYl9z788MPhMXPMMUcY4KbOJi+y3AB5v0khfjaYwftsvPHG4Z1IJ5Y5sOdhTHJRNFu5yXgwaIbAkHxHecsA9aRJkxIzbuM8BvdlZRDKmrLvctppp2WX7rnnnuE7J40o/0J+zVlKkkFcy+dw4zrzVokhH2UG5cjuu++eDbpTv5nhzatpuXTUUUcFLysWDu1WlhbphvzsZz/LPDpQnjN4RXmO9wYmfiyyyCKlH4v3BzP4oj4lLL4j6lTqb46ZWN1uv+tufXlH35z6EJ7woo4ywyXSzdLBnsWkFIsvx2BvbU67BuMXMySmzFpjjTVC2UMZhD7DjP/4VvHc1krQ79jzvpQug2JGZ9RPGGxj/IlgMO4HaVuF2cm5kYiP6WEoZ0gPq5vq5J2m0oZ2xA3XXx9QkhZMgjGxtibx9MvT4BWGctLED/DasV5sYw9YeW2ibqVzmWc3yaDJsqooXp2UJ0Vh4hnXvD+h56Uu8e0L77XSh1Gnre/v73Tf2uSEQ96nzMZYjDZ1PCmw02eVvZ/JNtShxIVvlfLYjDBo07PcB1KnHm4XhzptUXRV1EP0H6ysa/ccnRcBERABERABERCBfiMwQ79FqEx86HgziwWluXlDoEE2XdqR98KAHS5FR0osbv75KG7LCPFGmegbmuyjyOy1YB0fK49QmjDYh+IRd5AoveK4+njiReTmm28Oh+iYEaafoe3v9ff5fWbloaA3t7N2jrh4Yfa9X8LEn9O+CIxFAheknemddtopKIR/9KMfBUUoik4Mu5jVbcKABjOTGNRCOYAiGWUoCnAb3Eep3YQwsMlsD2bIMUOQQb2nU8Xz29MBIRS/lAlNDEjWieuPf/zjTMnsy6YDDzwwUyITLgOKplSu8xy7p2z6YBzI8iush4wCBSMJymBmudkA2qWXXhoUzxa2toNLoJ33F9pBtBXIBywTgDKeAVXyKe0kn3cZhLLZv50QQTHH4CbPQfnJwFi/CIM+tJsQZprzBxuMPFHcso/rY9pmzKI2IzLjxMCRNwit864oL1H47rjjjoH/hNRQgb84PfhOzfNEJ/xuuOGG0JbiHfbdd98QFMsc2Iw1Dlx00UVh8M6eYwPr9jtvy+Amf3G8Ccu8I3CfhT3nnHOG9imGevE91CFchzB4aG041n7PG+gIF0b/8F42ZcqUkO/IexhZ+JnNdjkD1+YJyI6V2dJGJZ6EjacMDIZRnPM+vU7TOL7MvrU2M+U83qa8x6n4en7TBmYJEVgzy5KyZMsttxxSJpDfjzzyyOz2qmnJjRhKY+xHOxwDkO9+97tZeN3YYRCMQVe+4RVXXDH8+fzGPgY5Nsu1G3GgfYCnFQRvOXkecziXtzQbx/NkEMqavHjnHWPQhkkOcCG/0vYsIxjOY4hFfqWcOOKII4aVJRjV2SAtg1nW/7vwpz/NBu4Jh3xImditpUUwGj7vvPOCF0feDQM/M/Ir867xNdenA9cYESGtwmrKIwDlCYP1tO1pZ1MfFnkWoa/udSlMHMHQygxB7kuXjIi9cvIeGILi5ZJ0WGeddcKf/1a5hiWv2gnxZNAYLnz3eMxgYoXV29xPGbnffvuF/NIuvE7Pj0R80GtgWIIOiO+COskGb+vknabS5sS0P/mRNH+QjxjMpf2F7g0jSTwQ0JfEyIJvNU57DGR+mn63IyEMApMnLQ9Z+8THpVvpXObZPh6d7jddVuXFp5PyJC88O4a+Yt+0fcF3T5+3TPuiTlvfntfElj4ExsfkLdqS9Mf6QWgLWtvbx8cb5HC8aj3sw8rbr9MWxUgYIxv+iHPZfkLe83VMBERABERABERABEaKwPQj9eBOn4syZ8+99gpKRTpxJuwzEw4jAG9Va+fztv5+zucpDvLus2Px9bhxj5cpQUGNAtdmMeU9x4fDLHIa7XSqvfhr/HHbj9/Ffsf32XG7L9765xLv2OOGv573xdMEs6njcBlQQDlGZ9tmhXEvM2MZOIyvf/DBB33Qw97/6KOPDh42bJabv5hjDGIQdvy+/jrti8BYI0B5yN/LL78cvjlmOOChJm9AgI7u7ek60gjGEMwuxNgCwwIG9IoUpH4QrgxfygZmWdhMKJS+c6QKO5u9hdIkb+ZbXGaUeVbV8oBOPvHgD+MPE5jZcYunnWNbJ27cVyV9mEV2STp7l2eRjqQPgxr8ZiksZoVIBpdAlbzq8xuD7HgesO/QFMlcw6xPBqyLxIdj1/g2gI8T+9Tn1NX+PvZx+W91sz9nYcbbOFw774/bMb8tCptBFwaZvZihGMdoU9GG4DoERvwRHu3G/VMjMD9Tr+67ohzkO0Vhb2LpQZmGty4/0NDufS2MvC3GBb5txTX+nflN+42yH8Gbjo9XOBj9u/rqqzMvHRZv8hUz1713C7uNAXeUtnHe4zfrtzMz0Tzq0E60vGUz0S2cVlveEa8+vK/d76/nPIPxlKV58lq0TF/eNQy6+Lxl7861Taepf05eXOJjGEbY0ib+HINWt912mz+U7ZPXWUKRAVLEvw/3HZ4OSsd9lSppSZjU09wTh0MaMSBteaJsHm+XTvQnvpZ+W08++WSWVvZefFvHHHNM4j3dEMeyz+ZaL/4+v8+ylnhRiY0t+X3SSSdl5Ys3kPf3+2fYPufrlKtV86U9L976+Pl9u65dfo3PMyhMORIfJ91ibwj2DPLQbqkxDR7U7D5LW/IwxmUMZCF4SbABf759b0RGOPabgTozjrEwud/v570v15j4a+0Y26uuuir06y2P2zm8ETAIXkXIN3l9Yt7lO9/5ThZUXpu9KH52U9F5vGfY8lB2LVsMZi688MLskHHODqQ7/v3gkCfoOzB+4h0sDj49aa/azOq8+/0xJquQp6wes3C4hgE9jC2s7eHvY9+eHR9v9bvdPb2OD+0Fn8/8YkV18k7VtDEetvXsGFC2uGEEN3fqmY021l6pjg7vWnbOpxkGoU31VfLi5NsIed83/U/zzkT5UdQmqpPO9rw3NJOeVhIMbds927+T37ewh4b4xi9/7RtHmy2rLA7x+3VSnhTFO7QvUr0DZYgXjEV9G9qfY79qWz++P/6dF7+iPIaxJ3pTy/cWFmFgiETcEeMY74eT8b/03lbXWbupKEyMKOLykfidccYZw8pgWJeth+M4+ef7V6jaFrW+Acxs34enfREQAREQAREQAREYBALTpTOM4zZzT+PtB7M6eTCzPpiZxsBCUYOvk/Dr3Mu74S6fxiIdujrC7B2UHShZUFx3c9ZWu/gxm5UZtCg8eKei2ZnMdGRWA9fkDZjac3ALyqwZ3o8Z2ijZVllllTDT3a5BwVzUKYcN8WHLdXHnxsLQVgRGKwFmPXVLMC5YfPHFw4A+Sn2UsN0SBgiZRcf6zCi+GEBiQEjSmgCummFGPqDu62YZ2Gopmtax1NleE8AYiPTiG8Iwolv5grqXPGhtApRjLPHFcRSlk0fI+wXue3Ffz+Ae8chrE2LgRfuBwTHaVu2k7rsyyMAsN4yiGAj2Stp2z6xynkEODNZ439jDFzPGGYgmLih8GeiKhdnV5lEF5SiGK9aGZXAAlmWEvDcuXdqE5SaKBjEo70kjWyakTLjxNRiasRwdhhzkcTOiia+r+pt6j2+HAV7asGas4MPpVZr6Z9o++ZZ+Bd8a+Ske9Lfr4i338a3yPtTlZXiVSUv/HNjxjCr5xd9fdd/SgXxKHugkP1V9tl3P7G36MAwgNvX8fi9r7N3Lbq1/jjFblbqIZWro+8I2Hiwq++xeXccMf8ojvknKJLw+2nImTEjw5v7SDwAAQABJREFUS/e0ihNlI+FYn7jMd9oqvDLnqB+ooxBmqpepo/AyQR+e9MQrXjvhW6VOxgiJ8qeuToTnUJbRXyCehDXSeaNX8aFcIJ0whOebiAeh6+adJtOmKB9Ql5Bm6LCoH6qUA0Vh9vp4r9K52+/VVFlVFM865UlRWP64tS8oS/E+Rr2CsSeCwS8GnnlCulVp6+eFUfeYtQ8op8q2oes+q8x9xhAj7LifUHR/0/Uw6VGmLUofgTKuTH1UFHcdFwEREAEREAERGB0EbPLWoL3NqDG4GDTwYz2+rLWMm22UBij/6Tyx5jMKKhrjJrimLOupxO7RVgTGCoFuGlyMFYZ6z3IEZHBRjtNovwrDATzdMIPYuxnnvam/GWhCWNsbd9ODLKPlXXfddddk4YUXDknBzLW8DkuewcUgp53iLgKDRGC0lDWDxLzTuC6bLrk3fvz44FXRGz4xgM2MYowLMIzaZpttOn1UX93PQBieK3hPDH29B46+iqgiIwIiEAgMalnFMjV4KMLDV2wggOc0lhlBKIMoiyQiIAIiIAIiIAIiIAKjj0Ce/nIQ3nKGQYik4ji6CDA7D2MLBKtzXG/nCTMgbrzxxrxTOiYCIpASwKtPKy8ygiQCTRAgn0lEAAKTJk1K5kq9KTDDNfWQFpZ4YAk01uu2ep1Bpgt+8pOBBzbI78pyQ8wAXHrppTNjC5Z8GdTOysBnJr2ACLQgMMhlTYvXGrWnaBNtvvnmweiAwb5f/epXCUudMqN5vfXWC8YWvDzLz4wWwXPlQgstlKy++urhvannWR5LIgIi0L8EBrmsYlkavKMckC73x5JLeF6jbYs3XDzmIHhBkLFF/+Y/xUwEREAEREAEREAExioBebgYqyk/gu+NSzvW4mYwoEhwo4o78pFcQqUobjouAv1CAHf4uNKWiEA3CeDiesYZZ+zmIxT2gBBA+YmHC1ye5wmDMHimKlrXPe+efj02yO+6xRZbJBMnTszQMgObmYJFS8HJw0WGSjsi0HMCg1zW9BxWnzxw1VVXDcYVeHrIk+eefTbZMx0wHMTlE/Le58QTTwyGFnbu8ssuS84591z7qa0IiECfEhjUsgrPinvssUdYki8PLWXrgQceGJbSyzuvYyIgAiIgAiIgAiIgAoNPYFAnjb0pnak4eSTxs9afZGwRoIOEpTrrrs4888xhIA93ugwIsMYhs4S++93vJs+myiqJCIhAMQG+G2avsMZl0UBa8d06IwKtCZC3WL9VxhatOY2ls6+88kowpphpppnCWuIYULJ2OMdZGuzQQw9N/vCHP4wKJIP8rgsuuGAwasUAhnT54Q9/mDzxxBOF6TL77LMniy66aHCBf9111yV///vfC6/VCREQgWYJDHJZ0yyJwQnt7rvvTu64445kttlmS6gHWQ7z1bQt/sKLLwaPF4cffnjy6quvDs4LtYnpmmuskUw3ra7/za9/nZx+xhlt7tBpERCBfiAwqGXV008/nVxzzTXBcxD9UNMZv/zyywlLqmJswTUSERABERABERABERCB0UtgUMe65OFi9OZJvZkIiIAIiIAIiIAIiMAYJMBAIEtO4TFMIgIiIAIiIAJ1CTDYySQJJkZIREAEREAEREAEREAEREAEREAERKDbBAbVw8UM3Qaj8EVABERABERABERABERABHpHQEuy9Y61niQCIiACo5kAXlhkbDGaU1jvJgIiIAIiIAIiIAIiIAIiIAIi0ASB6ZsIRGGIgAiIgAiIgAiIgAiIgAiIgAiIgAiIgAiIgAiIgAiIgAiIgAiIgAiIgAiIgAiIwFgiIIOLsZTaelcREAEREAEREAEREAEREAEREAEREAEREAEREAEREAEREAEREAEREAEREAEREIFGCMjgohGMCkQEREAEREAEREAEREAEREAEREAEREAEREAEREAEREAEREAEREAEREAEREAERGAsEZDBxVhKbb2rCIiACIiACIiACIiACIiACIiACIiACIiACIiACIiACIiACIiACIiACIiACIhAIwRkcNEIRgUiAiIgAiIgAiIgAiIgAiIgAiIgAiIgAiIgAiIgAiIgAiIgAiIgAiIgAiIgAiIwlgjI4GIspbbeVQREQAREQAREQAREQAREQAREQAREQAREQAREQAREQAREQAREQAREQAREQAREoBECMrhoBKMCEQEREAEREAEREAEREAEREAEREAEREAEREAEREAEREAEREAEREAEREAEREAERGEsEZHAxllJb7yoCIiACIiACIiACIiACIiACIiACIiACIiACIiACIiACIiACIiACIiACIiACItAIARlcNIJRgYiACIiACIiACIiACIiACIiACIiACIiACIiACIiACIiACIiACIiACIiACIiACIwlAjOM9Mu+8MILIx0FPV8EREAEREAEREAEREAEREAEREAEREAEREAEREAEREAEREAEREAEREAEREAEREAEKhGQh4tKuHSxCIiACIiACIiACIiACIiACIiACIiACIiACIiACIiACIiACIiACIiACIiACIiACCSJDC6UC0RABERABERABERABERABERABERABERABERABERABERABERABERABERABERABESgIgEZXFQEpstFQAREQAREQAREQAREQAREQAREQAREQAREQAREQAREQAREQAREQAREQAREQAREQAYXygMiIAIiIAIiIAIiIAIiIAIiIAIiIAIiIAIiIAIiIAIiIAIiIAIiIAIiIAIiIAIiUJGADC4qAtPlIiACIiACIiACIiACIiACIiACIiACIiACIiACIiACIiACIiACIiACIiACIiACIiCDC+UBERABERABERABERABERABERABERABERABERABERABERABERABERABERABERABEahIQAYXFYHpchEQAREQAREQAREQAREQAREQAREQAREQAREQAREQAREQAREQAREQAREQAREQARGQwYXygAiIgAiIgAiIgAiIgAiIgAiIgAiIgAiIgAiIgAiIgAiIgAiIgAiIgAiIgAiIgAhUJCCDi4rAdLkIiIAIiIAIiIAIiIAIiIAIiIAIiIAIiIAIiIAIiIAIiIAIiIAIiIAIiIAIiIAIyOBCeUAEREAEREAEREAEREAEREAEREAEREAEREAEREAEREAEREAEREAEREAEREAEREAEKhKQwUVFYLpcBERABERABERABERABERABERABERABERABERABERABERABERABERABERABERABGYQAhEQAREQgcEl8J///Cd54YUXkn/961+D+xKKeV8SmHHGGZOZZpopefOb39yX8VOkREAEREAEREAEREAExhaBeeaZJ1lggQWSyy+/fGy9uN5WBERABMY4gYUWWih529veltx0001jnIReXwREQAREQAREoF8JyOAiSpkJEyYk73znO8PR5557LrnhhhuiK/RztBOYffbZk8UWWyx7zd///vfJE088kf3Wjgj0CwGMLZ566ql+iY7iMcoIYMTD32yzzSajiwFN2/nmmy+Zf/75E8qKq666akDfQtGuQmDeeedNPvKRjyjNq0DTtaOSwEc/+tHkQx/6UPLyyy8nV1999ah8x6ov1Un5sOSSSyaLLLJIMuuss4Z+0fHHH1/18bp+hAl86lOfytKP/u0gyvLLL59sv/32yUsvvSSDixFMwE9/+tPJu971ruSRRx5J/vjHP45gTF5/9Ggp70fDNzrimUERGEbg3e9+d7L00kuH49ddd12YrDPsogE5sOmmm4a23ZVXXpmoHTIgiaZoioAIiIAIiMAYIzDwBhd0SrBynXPOOZP//ve/yUMPPRSMJO69995aSbnjjjtmA0v//ve/SxlcTDfddMnUqVOTcePGJS+++GJy2GGHJbfffnut59tNK6ywQjLrLLOEn6+l/88++2w7lW1nSc+vmF5nctfddye9VJ50473tXUZyu9xyyyXrrbdeFgUMcPL4ZxekO2ussUbyjre/PRx6KVXsXnTRRf609kWgKwTwbCERgW4TIJ+95z3v6fZjFL4jQP260korhYFzDF6efPLJ5I477khQLlWRDTfcMAyQvfbaa5UMLpZZZpmEuvDCCy9M/vCHP1R55EBdiweXL37xi8k///nPoLT73//+N1Dxz4ssab7ooosmZdN8rKR1HqteHHvLW96SrLbaaskHP/jBBIU3RpL0Ua699trk+eef70UUxuwzNt9882Bwxnctg4vXs0HV8oG7qI/o237gAx8YkpdGYqADI8JNNtkkufXWW5NLLrlkSHz0oz2BHXbYIXgue+aZZ4LRQvs7+uuKT3ziEyHe5MnHH3+8vyI3QrH5whe+kMwxxxzJySef3NMJIujMqN8wuNh9991H6O3feOxoKe8nTZqUvOMd70gG9Rt9I0UGf2/mmWdOxo8fn2DMgz7w/vvvD3VPPxgYVaWLseRWW20Vbnv66aeT3/zmN6WCeOtb35pg5PbhD3846ALoj96d6pyvuOKK0M/ICwRjrHmi9kJ83e9uvjm55557ssMYg35qiSWy33k7D6Z6/htvvDEYeGFMu+KKK4Y2NX1ViQiIgAiIgAiIgAj0E4GBNbiYa665kq9//eth5q0HivEFg98MTBxwwAEJRhPdlokTJwZFKs9Beb/lllsme+21V3gsCgFmApmUdf1Pp5EGrsm5556bxAMBH//4x5N1nWEAjdZeGly0em+L91jZfv7zn0/e9KY3hdd99dVXOza4qJtvxgpvvefrBMbSMiJ09lEUP/vss8m2227b11lg+umnT0466aQQxylTpiT33XdfX8QXownqDQb97rzzzqAwobxqJ2Mpn7Vj0YvzKPb23nvv4C7VnofHgs985jNhoOmQQw4J6WfnurFFkU6dhkJriy22yB5B3v6///u/oGR75ZVXsuODusPgI4pB5IEHHhiTs2WL0rpumjIAQxuG9neZ8qXucwbhPpTbK6+8csJ3Y8K3jDc92vmXXnppcuqpp9opbUWgLwlglOaNLWiHvZROMBgJ2WmnnRJ0AAsuuGByzTXXDPQs3ZHg1+Qze90e4HnofqhfHnvssWSfffZp8nUGMiwGQdF7IdS9+++//0C+hyI9MgRYMpK2PjpGPOFJ3iCwRDr4v8cee2T6Pc7Qh1599dWDnnny5MnDdLNv3D069njXzTbbbAgD+qgYauNlAkPMPOMTjMCYGNhKZk6943iDC55F27iV4HEYg4szzjgjpAXlH/G4OTXewPBLIgIiIAIiIAIiIAL9QmAgDS7oGGBMgfV3kdAYpFNOY7jb8o9//GPII/wgxCc/+cnkm9/8Znb+lltuSQ4++ODs9yDvtHrvQX6vfoj7aM43/cB3rMUBZTmz5BncyesYDwKPueeeO3n/+9+fvPe97+376FJHMQsTIb7dMLiokqYMmh900EEJDL2gYDvnnHOSo48+2h/W/ggSwNBy3333zTxtMWCNEgljGdo8/NGm2GabbRLf1mg6ynh8sBl2PmyUj3gWQzbYYAN/aiD3H3300SzeeEgbi1KU1nVZnH766eHWX//618l3vvOdusEM/H1f+9rXhixPB+dn0lmFb0+/YdywM3jIQBnrUP/gBz8Y+PfVC4xeAuaGnDf80pe+lPhys9dvzcxcDC7wasmSEpKRI9Dr9gAGkgwQ0y6iHYQXp7EueEGAA0YoDz/88FjHofevSOCYY44J7ZFBmMxQ8dU6unyeeebJJs8R0FOpV4cX0/qGuocyCD0zfbX99tuvo+f0880Yo3uD+7/97W8Jy23D4O2pV1/6q0wO2G677YYZPtKuNSkqp+NJkX6CYtE9vt8L+xNOOCG0oVliyuvb7dnaioAIiIAIiIAIiMBIERhIgwuU/LGxBY1AGn94mDDBCplGYbctXnG3zdroSy21VFBCjZXBq7H63pa/tBWBQSHA7AQUBBhJDarBxaCwJp5FioIm36FsmuIO9cQTTwxeCXg+imrWs6cOxTAE19wYXhx77LFNRk9h1SRAevCtInjq8jOoUCYxq5dZjAw8nHbaaTWf0v42DDqYOYQnlNEsl19+eXLbbbcF45XYiHQ0v7d/t26ltffq4J83FvaZ/bfYYouFV6V8PfTQQ4d4oENZj7J4hhlmCK6aWe6C710iAv1IwAZPGHQaSWML2Bx44IEJrscZXB7rHnT6Ma90M07MgEaY4azlmF4njQESnpQwypXBxetM9L88genKXzqmrsRDgwn941/+8pfh54wzzpgcddRRwUhlgQUWCMuMjNayaOeddw7vTD1Le9W3Ua0/ShsWb20Y7njBEyJyww03JEcccYQ/VbjPki1I2aV08MjCEs4bb7xxWH4TjxqUhxIREAEREAEREAER6AcCb/i47YfYlIwDikovKMx32WWXZOuttx5mXLHwwgv7S2vtozTmmcwQL5If/vCH4fk0QHF31q/CrGvWkS4jrAfKEi24ny+Ssu/NDGusxetKlXjTYGdQ6n3ve1+px5G+H/vYx9q6visVWMmLGFBjHdpWeapkUOEyOoDkUTgxy6WM1E2T2WefPeQLb9xU5nm2nAGDhRIRGM0EmHm5/vrrJxtttNGQQbaReGcUsab4+PnPf54st9xyyUorrZSwDJK5j0VZIekPAuYZhdj86Ec/GuKulqVEzJhn/vnnrx1hym4z3CgKBAVbvxlbULdRz2FIW0YwwuU9ub5VvYjBbjtjC4xP5pxzzjKPHXJN1TjTHqFu5j3LGizQ1mGZilbvOCRS0Y8qaQ1L4oaxVqdS513Ju7SdqrYjaLeQF2grlRWeRR/CL+9X9l5bJ5vrv/GNbwyrB1Bco7Q3WXfddW132NbeuWyb1gdAG5P0Ksob5DUGr8vmNcJuOkzCo6/Be1aVJvNj1Wd3ej1pgtcp8nPZPEa+p79Stgwkjp2WD4Rh+ePxtKxsJ3Xza5Xv7d577y21ZCj93dizl8Wfd2JiRpXvyvJb2fLH+no2kGTPbre1fmyr/ne7MOw8dVeV/MJ9Vm/Bz9Lewqu7hRllMGVxHcEbkHFH99BK6nwnReFZfrZnF13XrePoYtrV73h6adrYok6d2S0GhMu3QP6pU080Ea+qPMq2P8vGjXKqVV0eh9PkNxCH3envqiwpg6q2i4mjlWNVyz/upV5G0OmasQW/WWLTyh/Cp69fVUibOmWh3Yc+rYx0UnaR38z4/7rrrhtibMGzfX+UNqQX+gfWR6B/VVasnsTbSlm5+OKLg+ElaYGnDYkIiIAIiIAIiIAI9AuBgfRwEXe2sJ41uf3224coFjpRVtDAnzJlSlBuWfgMpNG4O/PMM+1Q6ACxxIkJ68gdfvjhYX05GoBeFl100eTcc89NHk1dhH9p9939qcb26ZD5+Fx44YVBqeQH4xm0oQMRuzHG/T3GK3HnHoU8s0CxYMadHBI/h/eeOnVq9h4M8jE71ytzCecXv/hFsuyyy2YNeTxlMGMpDq9KvHkoM1+Y9esVlzwPd/6EH7uepWH/rW99Kyh/LJ1wVdfkIBNGQKusskrGhOVkdthhhyFGLOSp4447LmGGI50b1iW0+NiNRfkGxSsW6N5wg7QljegMoZT0UjVN/L277rprWOveOlGcI+50xLD+t4FA4uIt3a+//vqQ/+xbxBq9mzOzfZzH8r7PE8YBrwb+OO4c7Xu2a2xLh56lAygT+Pb//Oc/t5xNSNh8eygjXnjhhRAM+XPJJZdMcNXPWtvklzxhEIyBLWaLMDuBpZfaeSaifB4/fnwwIKPsoexvQpitwXuQn1+M1ijnmSjReA/cw8fC92vfrs2yMKOG+FrCYjYGs5+ZzVHmfXzaWXjt0tQbHVIvWRo88MADYRAQz0y8M+n8ZDp7VTKyBKz+Iv89+OCDhZEhzaoKs+5xu2oGONzPt0p74f777x8S3MknnxzyOsf32muvYPwRt71oyyBnnXVWcsEFFwy53/+wmVDkPTx4xEI7hG/hqaeeSnbcccdwmrjSFkG4n3hj8GDfF3U7xrYnnXRSuMb/W2GFFcKMK2PJOXhStzPTyr5NjtNuMJe5vKfnwPc8OW3DMGDln8tSGZSPtFmaijPfP8+nrrdnET/KBtInrzxkUB/jKauTeUfK2rjcIpxWEqe1XctyQ8TlgvPPT+b+wAdC3OxZXIPRAG0oyvwVV1wx2Xbbbe3WsKX+II9QVvrZgnXelSUNdtppp2zAjQfwnrQ99txzz/A8li8hbbzQJlxnnXVCGWfHiS9tLtomXux9OY6ynWU/ENqscVvZ3xfvM0BGuYzQ1vdrVPtrmaVNHudbJo/FQt0JU7wUmVBfkEf333//YXXQ8ccfH+J89913h8G3iRMnDskbKL6/+tWvhueRr/mefHr+5S9/CW14X7d1I0x7l01SQ7811lwz6wtwnDLi2muvzfW4ZOlTJj/aM+Ktz6d56Uo7lbxBvocjS1MWCWUP6cw3x9IKsVh8aSN/73vfy06Tnrun/T/aR/5bJ19Slv7sZz/LrrUd6mfS7gPpd2hCGUgbn7zAvbE0UT6cffbZQ/IIg0RW7rN2+29+85vssVXzq/Gp+r2RdzGUoG3F2u0IZQpxhSd9dM5jLGB8+W5uvfXWkL8pt0kv0sHOwxLup5xySvY+tsP3TD4gDXiOyXPpoNAxaflDezUWBqtIF+v3cJ68TfjEmbopb+bv4osvHvqI8TdPXuVbLCvUXbi7xzDT4sw78kx757ywKGcpc8jX/jrKHNqPNniGMWjZ9gD16+c+97khxm7EhbKavqJ3EZ8XJztmRmnU376MsvNs63wn/n6/X7fO8WFU3bfylv4Ws+b5pqyMpn6n3U66+u8dXQZe7BDy/qmnnhpmfK+33nrh2J/+9KeQF8OPaf+szcXPb3/728nvfve77HSVOjO7qc0OZdGqq64arqI952fKc5DvhTKSPEd5cOSRR4Zraavy7aGT8m1evv3zzjuvZbszBJD+41uDCcI3HrcZSecvf/nL4TyeqH7729+GfftXlUeV9qc9o9UWndGyqc7M5wOMazDkzPsOynwD9Llh4r9x2jtWttMOJ19QDjz22GPJbrvtNiSKxGn55ZcPZVrcpqfdZ20y8vOVV16Z3VuVZZW2Yid9hiyC03Yot63cjPMDl/C9UKeQJlWMOaqUhdRR9M8pH9FhUv9bu5I4oL/5/ve/H7z98NsL5Qa6QW9gTF+PtkhZ8Ub9eXUc3yAM+C5jYzTqTBPyT1mx+Po+Wrt74UAbm/gussgi4XvP+y7ahaPzIiACIiACIiACItA0gRmaDrAX4dER9Uon1pizzhudMi833XST/1lpn0YkCjEvHEN5S4fGXKT5TiDX0kGkE+M7Mj4M9mdIlSHdEuuUWfhrr7227WZb4kZniQE2GyjB4px3it+Hm+h4MBDAjDwGPmjMxtf5QRz2UVr6zoGFQ2fUi4VTN96ERUfeBk182MQbQxPW+GPdYfM+QmeKjgpKKS9mPe6PdbLvmRAOax3GwvszkECHgfQom29QJqJ4iblxPx1njDtQqphlfp00sbjSsWcGYizEnRnzDE7YQFkcnwkTJgy57b9pJ03SfQIYLMVC2cWfCQo9bxDEcb5Zvg0/057jdKxRwFxyySX8HCYo3z/5yU+GgR4GDRhQ8N8XnXMGN/1gIM+y++IAUeyybEZexxkFD9+MfSuUSQw84Bqf53QiPBOFM8pxBqy8rLzyysk+++wTBm/jfM27XHHFFf7ysI/SJB4E5ARK90mTJoXn8J2WeZ86afr444+HwTyUtbHRmc3qzzs37EV0oCcEUGyhwCNvMziIUYEJg+uW5/MUYHZd3pb7zIDBn/9/9s4E3JaiOtstYhiEmCAGlRBv1Gg0EZxFVMCLIIoMIqAQ0YsyCCKiooKAXAhhCCrKoKKg4BhGRUblIjggOGcS1GgCEWIUHEkQfxX/fpv77axTt7t3d+/e5+x99ree55zu3V1dXf1V1apVa61ahdEE57w0XKzGZfXhlK/HPOrukU7joBSY8VnOV18ZLUHv4lo8x/E1fZbfjPu074gRW86h1E2J78fQhozDKijxFZWN9PpmzvkmZJjUqMR7kTlFfxBkiK5lJi+Mc6n8ynUcO3AkAIPoVIbyFeNcJL6xSyQxfXcsP/mqre2Ujxkp/twHT5xEKHvZfdJAafto+63RKebeHO/9D8+VYp8r+g6lwUBHe0gJpS4GBPoZRlqRvjfl7brf9Bjbx7W5o2Ed4WBLncVxkfQYjBk7VCblAZaMzRjYGIuig5C+H+eN1IGDfFCCY9RCzo3OSMqbdx566KFz9iQfR568D2eLnVcaBPV+jrxv6dKlhSwBv0LuEAmLJu1Rz6RHHD/33nvvAleMEqkjDTxF78Ehpo7UrtN+o2eUT7wPv4EH0XZTol1imMSAGtsldYUhUNt66Dn6HPXMaltklmi47os/NO3XXdqr8Gnb34RnWjblRySElKgr+CUyLP0tfZbf8BkMPVHGxeCFLJumJ/8H5PMs+gv9EOccEXMz5l9qH7pO20ZGFek79Bv+Dz9L30U+yALkW+cApHx4/j25IwPli8T1Zz3rWfHSnPN0gUC8ybtpg/Qd2ln6bTFtvAfePJsSZYFPokspmxeXpVef+frXv57eLn536SelGeUXu445Vfk1vS5+q9X18TnaN1gil1APmutEvNWmzj333KLNIL8wL0OXJfkBRwwcXCHGj+hs0XbMjOWrO0dGk8MF/VM6Oz3DNfVfzaNwMGd+mPI9nuE7mQeCF45bdSRM9VyaVphxPabld1s82sqfvKOOkP/Q1UUCJ3SgtIOU7zftA+QnvGPeOucejoS0G+QG+itOUiLJnuCFg0V0SmAhhCjqYNtiSR5tZMVYj23mDCprPD70oQ8d/GSOUUYY+sF7vVyf2ITa8kI5MXAEh7S+kCXQa0p3qDKgp4jjjK7DC9QHda3uiOMrf1WEzlj9Jd1mLDqh4BzEXAF+jwM5i+yi3BrzV37oanHC2jJ3NKLtsRUu/Cu2wfjcZZddVjhcgBGyCItwTEbACBgBI2AEjIARWGgEVlvoAnR5f/SW5nkMhiikUZxFZTNKgaqVZV3eG59BcCxbbaw0KAlZgYDRLhLCItdZFTnfhFEtpR3y1WUivKEl7HKNcrKqMgq4TC5ST3c9H4/Lli1bRaFY9v74TNV52XOx3CjEeF8d8V0or0UYaOPkjOtl71H6+TiiaG3abmh7rCyNipa0jEw8mHQpTdc6YSVDmbNFfB/lQYHehH4XJu1N0jtNNwRw3oHP8Ke2jYJA1zhKARffgKJfzhZEv/hhvjqBdkk7QjGKIrKOWJl3yCGHFP0LhSCrKng//S0aN+ElF198caEMJL+77rqrWL2Fwpv0TLalYI3voy/DqyjTHXfcMbhFJB369XxQqvjgnZQZBwb+qqKGxLKJ17b5ni51ivMLRJmjsw3XpHyHz6fOGNw3zT8CKKbVX3H+QbFJ38E4qJVk3JdSuk0JeY4IQzjHYczEeRVCoYXzTx3h0IgyOSpW+c2fVsXVPT/KPcpHdAoiPWD8ipEJdglGW9q4VnUit6CQZuucY/PVYVqZi1ETY8UwAns5W9A3UOCyTzERFaJhsyqfpmXmeZyt5GyBYpFoEGxHRN+lzsiLNCJ4nRTe8EG+k/IiE7RZTab8hh15PyF++XacVXD84r0QxhzaJ+1W7UH50Va4Rh2I2n4r4058/qqrrirqD0eP2BaVv47I6Oov8GQU05QFjCSX44ysFXV6TkccIJhr4GRc5uimdGVHjIiiYWHeMe7i4BhX1hN5glXAtGfaMc4VbPtEu5UiGcwZZ6uI+mJehBEVgxRjP4QzLmMvim8M9eSLIUD1iYGFKE5l1FeeGJDkbIHjE85e1A19G7kEQqasCg/dpD2WlZ9r9N2bb765uI18EVdicpHVzlBXHls8XPOPfi25hvkpdUgdEbWDd0IYpiRjcJTRkfuko87gRXK6oz7JQ9Qnf8B5jbpR2eBP/OZPDil9tNdR+pu+Ox4x6NKHkBWJDqHyY7Cm/XCf8QTeIhmJ59Pw8MyhSA9hxGYeBQ/TGET9RN5MOt6peRcRFmnXtGXGSZWDdJFo78vzyB28C/5EnYMxeWu1L841MWJZfD6ew/fkbAGu5Et7gc9UjV3wQQx1EO8nLe0MDBVdiTSKVNREHoAHgzdEv6YctCd4qhwemWtgjBtGS5YsGSSJDgK62KWf6Nn02HXMSfMZ9Tdyx8knn1yM7TjFKqoFDgjUZx3Rzo477rhBktfnbRBCpqFdQfB8ZCPRqGOm8ik7YrTWNgFEyUkJoz1Eu5AzBm1NzhbwOqJsco05qvoRvHJc1BYP2mBf8mf8JsZuZAC+ncUvwhG+r/5I+jZ9gLYkPk6kHoh8dY25pqIhkK/kTdLhBBIj8OAIHkn9mXwV7bItluTXVlaMZYCPNpkzxGfieXS40EKteJ9z8dJ18j41jEblhdQB4xhyLDIszjAQ1xmTRHx3XHyGDMsYhrwcnV+UfpRjbHvpHBD9jQjexViLrp7xFnnznTlf0/YhShfbFHomxgn6E3oLZMSzzz67cqyIDo9LwlihvH00AkbACBgBI2AEjMBCIDCVDhd40jIJ1YQL4PD2lsc+v5lM1CkjSdOEWA3FSmQESyYgolTI1XUdmcgyIWaVSyRC83Md5f18EQpbyoGigxUqkTSZ5ZoUI5zzDEI8iqJ09ckjk736SJ8SK9QiXXPNNYUBgTxTT+iYLp43LTd1Q32IWE2O8hHljpQ63OP78LrG6Eu0jkhscQE+TEqkjI/3+zpH+YWxi0kHhoNIKH6bthvKisJdhDGJ9o6iT8pk7vGtUq50rZP4HH2OFZn0CRycYh8kNHQVMTHFuIeClrDVpvEjwCQVgxJ/atMojHWNY3RCokRcUwjkC3PFPqshdlmpXL87V4RBqXK5uBj+MYmm77Lqb8sttyyUuIQTxiAX+yP9U8YuwhMT+YZ+gTMVbZZ2LCNQyL44RQFN2XbcccdCQS6ljhTGafr5+I1yFCUBf5SrDTX9ni51ioGEUNoQyhqMhxhoGdsw/NCH01W+bcrutP0igGECJThtn5VNrFRmCzP4O/ycvkxkI6LTtCXyYazjHYwZyCFseQChYIwyQNu8x5keoxWKZtoyxh/CTYuXRGXn+uuvPzB0EfFmxYoVhaGZFVXwG41XGCSHkZTI8DKcURi/kCuJGMUq5CrepHyblhnZRZF0+CYUkxx5L9HH4IMQRnyVOxqike34TsZY5EtCY0shXzzYwz++G97Bt+O8gAwgowjZs7d2E+ryrYwFck7DyImTAA5trJBDnpUDQvr+qAxmLJLcCUZawY5hDQN4SmCJLEU4bFb4yVknTVf1OyqOpRivSlt2HflKBluiITB20t74brbtkwxFm4irSZUXPEKRlRgbUYaTh4h+gFyPDEq+GDDpWyIZTPSbY595YsiFaOPIE3L8pG/zG+dLiOhpcnoqLqz8N2p7VP2THTKPCH4rZxn6nVaQ634fRzlWkRftl22jqKOP50ZEQv9D9BOF88bQpTLddNNNRTrqDAzo+5LtxEN4fr75w6jtddT+xjdHwkCmbQs4R76J/ZB5GPdp8xgz4bNcg+KcmPbAb9oBURXYwgA5D10AY5CcmFjpK2KOqQicyHWM37Rr+CaOT3G7RT3DEQzF5+Cv2qqFd2FgEw0ztJNuu+22K5LTThi74Be0l2vzbSuRI7ie0pOe9KSiLfGtyAikJR18Pm4VmkbOSfOJvwnvTn7gxLhGOeA98FScrUW8exjJCZx0ZU5sXfpJ1Tu7jjlV+XW5Tr9mcQtzZvoH7Q/eKBmGOdUwwqGLeoRwwEFvwLigsYUtJaIcOcqYWbxkyD+VhXlfbEcY8LV9l9o9WW200UZF+6EfYbTFaQPZiLmpFlPxLXE1/ZAitLrdFo8+5U8VlDESeV/zZ5wI0CGJ70f9TJ99gPfTT9Xeopwh/qIyRnmB+pAO4Z+CTNEWyy6yosrDsan8HZ+J5/B+kbDWbx3FR9WfdL3sOCovxNGScQw5Fhk2OkpF5xD6uMYR9K7IsPRx5GW2hKqSl8vKXHcNByk5SZG3+qOeiQ4XclikLYs2zMdJbRuka2X9WBiTBgcjIn3gnJiSHHW5Dt8wGQEjYASMgBEwAkZgEhCYSocLgEPxGIW3FEwmqFLIcw/hD2VH2d+ZFfuioig47bTTigkfeeGVG6lMOIz3J+UcQ4FWQrEiMCrjmdRIoSklJ+VGQGYFLE4ATFzwLkbA5+/4fOJbR+m+0CiyUDIxcUNZxSrJJtS03EzWRUyMWNWHAhPlTroKmDCdGAf4bhEKLVb9QkwcojJWafo6spKKiQEKKLy1NZklf9VDk3dJGau0rIZCcYtykTYbCcVG1zphIh2xQgmNwZa+gbc97xThABInqbpO3yHsJcY9HKVkLNB9HycHARmfcK5gci6iXZ2zcg9cHCrKwt0qLUfqWco1fqPslSGR3/AXKXBoD9p/mHsQijWcL1iFW0as3IKXQKSVMUkrR8uemeRr4/4eHOe0KhBlBfWHUgZlBqumY11NMk6zUjbGzCr5Bt4rByPwYMUrUYjSP1ZURWKsKVupf15ujBURinUSCQV7SiieoajsZGyVgo5xPho3Udqz8gtnTMLA1xEr/OXQiBwSZUmeg+fIQFeVT9MyE1FAYywK0pRiRDcptrUqn3aAM0kkvh+ZrU/C2CN+q3y1wpvfyBdNqMu36pvJP917nWtVq/ak9MehKCpjeUbyHudlTkYopdPvJW1TUn2SnrGvLalM1G/Z97H6XJT2c65j3I2GNK7Fb0Y5no6tcQxQ++I5UV95go0cUnAEjLyMd8GnMGxDpC1bDT1qe2TlrviEjAa8DyOm6k4yBdf7pCgzw7PFZ3gHcgD8ib/vfve7xWujMfojH/nIKkWBP0HwQQwSkOpvvvjDqO111P5WfHT4p7EhXCocTPWb8OMpRWcXRXhBj4AcijMEBt+UtKo2jkExAoW264zPxX4Wr8uhgHZ5+eWXx1uFg4HGmzJjU0zMPFJtCsNcyn9wHotzfT173XXXFd/Jt6bv5xmNgW1kbPgU+YEhY2akWAdxDh/TxPMlS5YMfjKWp9Sln6R56HfXMUfP93GEf6eR8rim/l41307fje5FbYfoLZLxcEBK63mUMTN9b9lv5E/pPGKU0hg1McpNOHnSfuCTek75RvkjOjzpfh/Htnj0JX/GsqOvw3k4EnMAzeeYx4lf9dkHeB96qjtymRpCdhMRVRaSnIkjuPjXU57ylMEYGhcVtcWyi6yo8nGM7UjXNS5Efq174z6Owgtp+zhkRkIeU7+OkSLUv3kmRk3Ts2o3+t3liO4bx26I8SpdWMh1HPWQMRk3iEhDlA30Szg6akxiLMFBRAR/Q16nfTMX4h045+JAqsh9yGd6t57TUY4xkn903UcjYASMgBEwAkbACCwUAqsv1ItHeS8CPSsMpRgjLwQ0hGh50qLQw7DPRA0hjklJTB/ff798slBG6QQPRRnCpYR1KQ3Lnp2ka+l3IKhrNQHllHKGlQVxhTgGUf4QmFHQoiBB0TmMtApT6aQg0O+mxyblZgsZ1Qf5Us+sDhKpPeh3VNroWlo+KWJ1v89j/CYms7yLMkNV7bPs/VrxpnsxdKiu6UjarnUSldHkB34RX5Vd72LSnSrD8MiXsk7pfJxMBKQUuTFfSZkSCgxt2YEhM+03Sg8vLjPs6j5H2onaO45HbYkoNpFkxEjbY0wzyefj/B54PYYa1S18B2UrShNWmrFqBmVQGhJ0kvFazGVDaUqkJcYu6gqjDY6Aj37Uo7Id8sgpGNVwKtSKUVaBlxldUTop5HsdXjI0kWZanEgpq5SNnEdCjgEP5AIcRFHuobDGcaEJHuQVx0spaeM7up6XlTmGamarBeqzirRyS5GBpISsSj/O69EYlMpZVe/t8q0yMDKuIMs3IQzAKtOD837ASt4qipHxqtK0vS6FMs+hDE+dCoblpzLFVfnxGQw74IHsHlcSxjTpeayvMhyjA4bG5jSP9HeXPB/zmMcMxv4qGQLHcK2IRVbAGDyMYllU91XPIIfj6IkzB0p/eCUGYUWJQC4vc36qyq/N9UsuuSRjVTKyCqtekadxaMWxhntpW4krwTFWpKT5G9dxMuO75ps/jKO9pt856u84L4lb0SnfyJvT9gMPwgkGQzzY1smZ4tHki8NDUxKf491lMrGc2XWsyjdGG4pRiKrSp9cxdOKYSJ/AkBrn12napr+32WabInIdsijtNcW3ST7ic1Xz8y79pOq9qos2Y05VXn1fp07ZxgtinBtWx/A6IpQgL4qvgyGyUaT5GDNxYvyvXB/A6vbomCQDPs4FaTQp2iAOO8h0OBbQ9/Qdsfx9n3fFow/5s8m3oJPT9leUlbG0zz6gMnwt1/mxFQR9F94D9uofjF1ETCEKEBEnTznllEGZMH6rbXbBsousqDJXHSOPr0pTdr3P9tYHL1QZcQhEfonle+DKBWjMHUdxGtY70iN6BJwPGRfgLUTpQqec0rV5ZB3+UqJNELFFCxjZ1pSFkBCRiw5eufVRfI78cbLAgYQ2GMe4mI7vRS+/Xl5GkxEwAkbACBgBI2AEJgGBqXS4IKx6FDAR+jHwMZFHkNPqBH7jQIAwFw3dowAf8xmm+BjlPQvxLKvMWWmSGtkx8DDB5w+DBavX60iTMaUpW02je6Mey1baM0GvIiaN0RucdF0nYVXvGPd16iNV+NV9M0qKrnWSTmzod3Xv4j1RsTluLJx/vwgonHK6Ipi3MJmF/9EGloTVZmkJUoNBep/fWoXBucKJc96EtIohpkXxAMVxId6f5PNxfw+RZeRsQWhqrWpD6X1evsXMQ/KtJAhdzIqxdBXiJOO2WMvGih/qBqU44cBlHCVK1Yo8qhARjFB2aX91HAIUwjxiQvj5JhT7KyGRp52QT2jHbOvDOImBDH7DH1G7cMQlVHIdISeIYkQwXevziDJaNEymRJmIXCs+F+tOeUzyse238i1rrJTnxOObfF8cX+grWvlf9mzdvbL0Ta7FkPc4BWs7kybPwqtlkIxOBOmz4EFbmBbHb5Vf8zN+lxm+uR63b5Shlet9Eg6kip4Br2CbLfFRIhfEuV6f78WgeNBBB2WHv+Ut2UPzyDD0Zb6ReS1/rBpmHqv2HmX3YW2VtPPNH2ahvRLGXDyXtsDYTPuAt8Tr3IuRCmM75l4VMUcjL4j86upZvKEqr7i6t+3YhWE7brHDO/St6Zyz6v3xOt+CETb2YXCTzNs1z/gOnbftJ3qu7NhlzCnLZxzXJA+SN4spZNSuexdp4DuqB5xsUyPpfI2Zl19xRRHxErkMZzqczVR3qYGW67Sf2E6I/EabpG2pz9R9e9d7XfHoQ/5sUuaot6LP43AhHHm+jodwP6bldxXhqIzDBfTMZz6zyBfs6cNsyYRTGc4wOA9CioSBk7ioC5ZdZEW9r49jxLdKxlK7bLKgaBy8sOw7187HEig6/Zal63KNPkvkU81T2HqqySK89F20DfSEOGrGuVaaLv6mzxOdgzbIGIgeN/JC0lZFhYz5+NwIGAEjYASMgBEwAvOJwFQ6XERBHKFfq6lZjXDmmWdmbK8gwgMchwsUnoROL1NW4AnchXjfuIgyxQkTE+VUaRvDZVOOPhwb8FYGXxR/T3ziEweCtb6TiRVK4A984AO6tMqRCXQkKTHjtb7OU+M+ypw6HDDExJV8lINJxDQREym+kwmcqM6TnVWwXeskVfgz6ambyKVKHJXPx+lAgHYFxbZVVnKlK7tX1xaVPj4/TqWZ3tfXsWz86CvvceWzySabFFljnJWzBRdQThCmlJUj1PfOO+9cRLoYVzmcbzMEMNBCrFROFUo4QqE8R6mJshqiTmO9Fhdb/IvKxMXCvwlhyx/Oo0TpQuHLd6IgxekCx7K6LQOioUxOaC0gbZU08ksiMTDGVhHONcidGv+jjFj1zCRdb/utlP1/77qr2H8eQ3JTiu0YR6V025WYT5XRP6Zpe65Q2zzHqtO6yCqHHXZYRp+nrxPZhrKrfuvC90tuTeXZtmWd7/RxHpM6P6ssMgzy+9Y8xPQ4CEdPDCX0oac97WmF8UiyyDi3FeRb4OOs5KQOWfGKEYF5Eu/HyRmnMCIqQDheUEbmuhg46ogtWuabPyzm9oq8R/9EPoIvEymMbSo19yfiiJx2VC+R9zDmpHMopYvHaLC7Pd/i8tKSLU+UfphRKTrNaqsBPVt3JLoVjkcQZX7f+96XEWlGxHZOdfxI6eLx1a9+9cDIjxPT+/PtW2WIBdtzc4ffpsR3seiD53D6T/U2bftJ3Xu7jDl1+fV5Lxooo5xS9w6iwkaeypyAbcAiL47tdpxj5ooVKwreBq/bfvvtB2VgzJMuT9+Cs7iM2jzHlqySieGbbFU6LhoFj1HlzybfFMdOtYM++4DKwPiLzoexCv2fHMqIsAERlYnrihSl+UR0au6CZRdZUWXu46iomeRV5YiuuUETx+c+eWHd992VL4yB79ctjKp7vuoefJfIihoDkJGo+67EGIPDRRu5PuoxH5ovFBEvUBkkE/8sj5RjMgJGwAgYASNgBIzAJCAwdQ4XCH2agAEgihD+ZMBLFdAS/knbRPFBOhH5RsIjPL67bX7kleYZ84/nKBdi2ZnQpCHf00gU6T6PMb9h50ze2L9YhJMKnsysRmMlbfRQJ9RfncNFWg4ZkJR3n8cYDp18UUaxjUzqFKCQwaSRoYpzKK644zdtbNIothvaOt8X2/o73/nOVcLXxm+Oq574tqZ1wj7StD3RT3Ov9ANyJVokJkwogRQVISp2YjqfLzwCsR2VlQZnJXhB2eoXJtp6XkrTsjyaXIuhxOEtUTnT5Pm2aYiEwx6iIlbmoEAuIxk8y/gAk/xJI9VJVbmk0NB+4zEdxgPthxpDYcc0Pp8/BFBmyugXV1jFEmjlM7IIK430O6Zpcx6jRMWV+W3yGJY29qkyY8mw55veZ8UnhiPeh5Edg5GMRptvvnnhbEFe2z73ubUOFzfffPPglTFM8+BijyfIS5LlwL9JGHqN/+m43mOxxpJVl2/FqRa+S7tB5onGyapCxuguKGVHcUiqekfd9bgNDVvElO2lzfP0dVaGwsPVR7hOn0Z5XLXFD4pqzUXiu3h20inWDWM/K2hTinvRq/+mafr4Td5sI4Js86IXvajIEscGwsK3IRlemjyDgZ66w9iJAeFTn/pU8QcvZzU3UQYZB5inYNRCrka+Rh5hvI7tpOp9880fFmt7JUKm6pY5b1lbTesgjqE4CBA5bBgxbwXDYuVwzgtG4VfR2etR+TZkbAXahJCPJUsS8SwaPJs8X5ZGzr7k9ZY8ossoFMdknAXSOUiXflJVni5jTlVefV+P251FTKrew7h58MEHF7dpZ9QxfzgLoSsRRb48zjGTMjBm4TTM2McCHwh+GNsc/E6GbuZrRCDqSvB0kaL96XfVsQsefcmfVWWK16Ncqj7fZx+I70IPxLjFOxXd4Oo82h7EGCXeRTsTD4nRSrpg2UVWjGUe9Tw6eqaL28gbWVRz6yZOr33ywrpvu/2OO7IH5fMg5Mc+5od6F1sQ0b6hL3zhC5UyLffhOfRX2gLjT6q7Jo3027QdEduM8A7qni2QUtL7uR4dYpSO90LptkS676MRMAJGwAgYASNgBOYbgcmzLA9BgMlaNKajsGTFIsIvRsLU4z2u9hiS9Sq3Eab32muv4jrC6xFHHDEnTZP9sylvJFYxaUISr6fnaZhIlIH77rtv8Y0o4t74xjeuEoqNVQldCcF89913H/yRP0Q5CEMfSYJyvBbPwTwqBcGRUKUQ59HwGZ/rcs4EPQrstAfCv2oyiuLyuOOOKxSZchxAUI/1Qp1sueWWxesR6LfbbrsuRen1mVg+Mk7bTbq3NwoyVvJCarcob/Gqh7rWSRoukIkceWrPZhw3WAnFu8qM9MXL/W/BEdCKPPZPryMpDqKDldK/+MUv1mmhMBv86HCCgkhOcuKxHbJp/AgKE4ya+tthhx0qnxVfR+EXnZp4IBqCKjOYpxtN61TpHltS9xGHX3hVyDzVXPVrWCmlsbOqr2qbJ5TIceyrzvXeO8gdZWPbrrvsMng0dWAc3Kg4kXNIxe3BZa3A4wKruSNtsMEG2Tr5ON0HsUKXFcnIaqyAjIRTlxTv6+eyYh0hYwpb+rwUeXoGp0Kt9NK1rsfoYLFvxYpNwrzHPc+1MhXjbOowSp2ojXQtU1/PySlA+XX5Vjnn0X733HNPZTU4av/3wYX8hHFMdc0e0WUrvTEgpOHzYx6jnCOXYiSCeDfRg8qIqHuaD0RsZLSlfqWoj8/Hec7Xvva1eGvizzHmqW8RWUKrEmPBhRdycJmjYEw7yvkFF1wweBwZGyKyUFPSylbmROl3pHxOeWJ4hkedeOKJulQcwSQ6nor/ay6IPBINpHqY9sPcUDI51+ebPyzW9hpXkcv4K9yZW2qeqWscYzQdtgdLCce/MtLqXeZRZXImhuL99ttv6IIA2qRkPuRd5oORGLvkRBKvx2vwnUg4ZYqH0g6rKJUH9IyMtPG5FwdsxAPj/fQcI5yozNGwSz9Rfumxy5iT5jHqb7BLceO3IqpQx1EXVvW+N7/5zQP5he135QAEv4jj6XyOmZ/4xCeK4jK/Ul1eddVVcz6B/qZ2QV9LKS4QUro0jX7jpCmdSpnxnHEopS549CV/xrLgbCenFF2nnxGBFkLO0TjUtQ/cG9fyXgdQvSMeP/vZzxY/qS/6P1jGsUr9RXInDkuxbXbBMspDTeXiWOZRz+lfipaL7J22sZ1WRgPiPU0cNPvkhXXfJvmF8krvGtMT7aYtoQ/WWIdci76vjog+BK/im9MtwHmOPi95hbYhYu7LM/C4tM2ThsV+EOlSx2v6hMYfySNFYv8zAkbACBgBI2AEjMACIlA9c17AQg17tQRKpUOhygqyd7/73YM9eHXvc5/7nE47HZ///OcXYS8J5Zqubj777LOH5pmuwkDIJIzme9/73tpniTARBUoEya233rr4xuOPP36wIlKZ4GWuyZautTniGR8NbnwrK8Dxamablkjypo/X0nNN0HQdxTZhFj/2sY+VCtJK1+WIwT8SgjpOFryPVUmaKOCUwIpBJlKpIwFOBKQ//fTTB8qJmOd8nw9rN+wTKgUCZcP4w+oC2hYY026hLXNHEp13qRM8xW+44YYiL/0jT9oveLF9D+/GsMJ2NKbJREB9mxV3ZQonlZqQrRAGxsMPP1yXM6IfvPSlLy1+E9mHcNyjEG33mmuuKbJgFZ5WYClP+inta5hzl9L3eWQ1jwj+J2MrK2HLHFGUdr6PTesU3g6tmSvLooERvoiTnegzicJT132cXwTE+zGw4DggQx7KzuXLlw/6RDRANC3hy1/+8gwjEIYk/g499NBsw7yvQfB6vbsuv7haDWUalCoj0+djn6LNoTjjuzA+MW5IUZY+1/Z33ArgZS97WbZ06dIibxT2OHbJAaCJQk6rjCkbcgFyBedsU8dKrL7KjDwlozIOjeQtvodxDGUnilP4sYzvhGYXHXXUURlOB9QBzhc8H8OOK918HiW7MtbwLWofXb6VMOMyICID77HHHoUyF0cdnK2rFMgXXnhh8cmqP417tIVdcicj+ha4NnEARm5H7gZbGYiG4YlSWjIabZ6ysjIbom8z5sloxPcht4mIWCaHRIzzchZmLNp///0HBlkMG3Ls0LPTcGRrBoi6YfsMRfKAJxG2Wga2VPbs+9vgeT9PHA1lDGzyLjlnkpb2xHdgrGacPeigg0qz0MpMDAtEl9K303dp3yK2B4EwkspBBdn7gAMOGMgkPEM747nTTjttYKCdb/6wWNtrdEDEWREnPtooc6pTTz114JALfxPPxrld4yi8Av5Mf6e+2ULhwAMPVBXPOVJ/Ing+7yJf+gj9n/vwC/rHMFJUC8Y79CI4xpNP3dilMpM3cgEGXfGMeIMAAEAASURBVBYgwCOJhiAenjoa1skD8CeIcsDHaOvw4dfl2+nsvDKiDPfjymV+l1GM5lAmh3fpJ1V8veuYg2GW/ggvEF58C1tjMLdi3t6UMFiSXpHncMShDcjhRREG6vJjbJSDBvMAoukgy4if0B41JpFPn2NmXbkwpqsMpGOcJHpPJJx0NX4iezHu049ow/QBronEQ/W77CjjOWMLDoscyYNxWRHG0ufa4tGn/KmyUN/MQ+H9OE/xrdShZNlrr71WSTuNFTwsBz36Nk4Tse1y//rrrx/UBb+J/qC64bdkZc6hssVfbbHsIive+/b+/l95xRVFZshdOEjCwyHa4E4r5z44F8Q6KBKU/OuTF5ZkP7iEE6mcjZ/3vOcVEYrhJZKX5bQweGDICfMm9Q/aCWM9fafsLzr3aVzgGovgiGgDwc/Qz4qi06t0QtzDMZU2T1tk7ov8zRH66le/WhzjP+pEFMcyruHAyzgIDzEZASNgBIyAETACRmA+EVh9Pl/W17tQ0OMEECf+6QSBd+GA0CQE6LByaYIb06EMaxI9g5VuGMYekHupiyhrXE2i6/GIAhahFAMLipI6YiLJhGxUOiVXIKEU0UQOfKWkVt5MktOIF7oXjzijoCTSBIV7w74jPt/mHE97VihoUqBn0/cxAZCCFIUkypE4QUjTK5+FOA5rN0zecIhhn+fY9tO2StuT933XOmGCxQRfHunCI8Xryiuv1C0fJwyBi/IVRTgVoTjACQn+wqScCTRGWBEKI62WRKnMhJetDVhtpLaForkPImQkhkJ44a677lrsH/2TPBzm/XO+w2Sedi1nhz7e1zQPjLH0L9o75UOxSX+kTDKCleWFsxPKeCj2SXizDIbcI6pE/M21LtS0TlGWM15SJhT5rJKEVFbOMYinTmhcN80/Aoz7OBEyDmNgx9mTFT2R36LkazIOp6WnDdDX+IuE8hQe34ToD+IZRL3hDzkrGvnSfNh/m9WU9HWcAVh1OQ5CJmObAGQBlIwYp1kVHvsjWJ5wwglDX4/DFwYu+j1lxtg+LkKZC/6UGSMA/ZU6Ec/lvcizWj2NMhqlNkYx2skb3vCGcRWtU7445LFKG/mPbwFztqaD2n4rOGBMW7ZsWfE8Tj5y9CkuVPxDkYsSlsgFlAM+nGLKytCycMdpli94wQsGW9HxHU0MZzgmYnzDoEPfxbmIP8aQ2B75TXtkjBFhbMLox3fyLAbKGK6bdDi1UO91Y5Lym7QjsiJY4PTHPEMOxLG944TUBOdRvw1jiRwRmd+kDv11+dO2kYeoT+ZKTcoLn0T2od/SPvlL2wQO9AppTt/hHThngA9b1PCXtuWLLrpoYMScb/6wWNsrbYFvwyEAWRRDbYwuE9sGTgBf+tKXiks4EWEgou8SHSJdFBCf0zlGIsZRHC14jvcQAQcSv6AtnHXWWXqk8ohxnzaCEwhjF47xw4hncCqmXfK96ALKiDGK8ojv1MkDH/rQh7I3velNRTaMVVqVn+aLMXAY0d6Zi8AvmO+n8kaXflLF17uOOcg4ONnwRxnlMIajALi2dYTEyYKtXdO+Du9HLqwj6kmO7NSVIuqAE8ZHxhTqMW4t0ueYWVc27jHfkCMh/I5ypQRvxmkWqhv34zYraR76zTivaIr0Mf6GUVs8+pQ/Y9ngPczf+YtEO0CvI+rSB3gWnOFftAe1E5yGtF0Z7Q/nRC06Sxey4fSJPoE2DqXOM1xriyXPtJUVeaZPuiB32t0m334QnoNcDtZpX9QilWHv7ZMX1r2L8sEb1NaJjqzt0uqeq7qnBVvcxzmrbjtpoq2p/TBfgkfjJIFjKE5nKXbIKdddd93g1Yx/6JyQC+GVtHccTDX+kRAZLTon6mEWXkK8QxFXdI9FBoypyHnUl8Yu3ffRCBgBI2AEjIARMALjQmC1cWU8znyZVKBEx9BeNknDGIFQxURyFELhx0QwEsIcxoPoocu1SKkwd3yiTCVtmiY+r3MU7Ky+Q8mevoM0THBQXC7LFdFRWZtiUvas3sFR6Zk0sSoLRZ+uxXTgwcoXhQpM843fRB1g2EOgjtc5vznsjx7fn74zzT+WJT7HOU44KJXK9r0HG1atLc+dV5Tnz372s0KY1+pv5Q2mqXJMzyjNsGP83vTZ9HddXsPaDXWP0oRJfnwneYI/7Wa/vJ/Is75LnZAX9UJ/wwAAPpF4LysEmWRhoILSb0zLFp/3+fwgwOpZ/nDOoj5wNGIiXLYNDJPTG1eG1cZAivIVRT9OAm9961uzK1au+khLnraN9H76m/bICiutVkCp9JA8sg6OAEyw2TanrD93aU9pm0zLkv6OfI5vx+gKz0BRWUUojSk7f6QXgbOu69t0j2OX7+G5pnXKOILSGwMgpLJwzruJfINh2jQZCGAEht9itFbbQFkE8RtlEvWlKALDSq22j6IKY03aT+EJrCainUTSu+8TL+bnvBenhrZEhIZ0NTnvkFErzS/KA/qGmKbsGveRBZD/JKdEZR1jIbKb+gLpYz7pOfVQJsPgcCvepHDM5NW1zJQHWQ8ZTGWQ8Zl6QyGeyrMY9FBQKj3vh1CMp9Gs7r1T/b+qrvVE+g6ux2vxnHtEaEvbGdehLt/Kiu13vetdq+RJW4yr4u59w//9xyEhyi3ClLIh26PMZYuLlNLvoW8Io7jqPX0u/Y0yGZkaR1/lqfZIfsjUKJXLolTA36ljrczVc7wDR8lDDjlkjtyfvrvut76lKs2w+2XPDXsmvQ/PYdWr2onqhnTggcGnioRlvB+vVZ3H9DqnfYjaOh2yDURZu+T9l1xyyYAfxPLQ7uArt4VVwqpb0rE/evrtOE0ToQ/jv0h4wYcwbKSOQ33yB72TY1qPujdKe434KL+647D0ZfdjudvcRxaU4TGWiXEBJ1sRBjkRzhPwnjjOcI/xAd5YRdQj45fGdtoFf5SXuSpOEKkxqSwv0sPbaGvxuzmnjWtLyniPsjLGxBDv5E1eOFVER6QYFaFOHkC2P+OMM1ZxMGYugVOKvhODZhPSKnkcScoiDbXtJ3V8vcuYI30RmMWoXmuvXJktmaHJtyIrUdfUkfo6z8E30K0wfxLxPpHOiaQih3UcgRRZh3T8pv1COJZrCyd+tx0z1YZSOZG86ijyKyJvlBFthLanb1IaFpLgtCaKDjtpWqUhCgN/Kq+uI1/FqEbp/bZ4tJU/VY70qHLQjqiv9LuQAWgHlD9S2z7As4w5ab/XmKS8o8yfbv9CGs0faJexrel5jm2xbCsrdpW/YxnjOXwKjJHTVB/qi+COg2WMahKfTc+78MK0ztM8dV9l033aOWVLF3bAb6Ojmp7Xc6MeYznABx4Uxw1hRz2hRypzvEf2QbepulQ7JG/aGI6IaZun3NqCDUd0jSv6HslNtKdYRt330QgYASNgBIyAETAC40LgPvkK3qgvHtd7xpovqwce+chHFkIYgnEqbI36ciathGVEWZ+GKmuTN0oKQnsqdHdbwQ9DGauoEDZRAJUJnW3KMywt4awJL8jEjlXfbYVz6oWJMBNGVvkwEaPcGDyoLxHe2FUTbqVpc8Q4hYc03va8L510pHmxEoT6RSnOt04aNW03hOrDOA7e2tMz/ZY+6gQDMvjSz+hvpoVDQBFbxlEC6pnwk7QplLSpo1Sf72QizioI+MQdeZQLQs6mCqA+39ckL/gHEQaWLFlSKKQ0aW/y7KSmQUkNxqwegTeiwIiK27pya3VTXRrf6xcBlE2EEIa3YyTRqudR34KjFasCUYZVjRXD3oGiHnkEoyNyUVP5ADkG5RjyFNuitJWDhpUr3mdsZxslnC94V1fZEJmCfHie8ZUy42DIdb5dq3jju0c5Z8xH/qJ/RmfaqjyRpzBaUZ/D5J2qPPq+Dja0D6JLgFlqfNT72n6r2i4OSThLEOWL0MkQDqhVfQQjHTghy3bh5YyHjAld+wvlU1+mLbYpA+0Yvk3d8myTNsH7poWoG0JOM+ZjCJzPNkwUKwxBEP246xyPsRWjO+VnjteUaBNEYcFIhTw3jB8yJtCvaItE7ZNhou59880fFmN7ZQsstr+D4LNNcCctfAM5Er7D/JK6wBkGwtmH6D1lBIbMsxi7ZMgvSzfsmsYueEbqgFH1LP0ReRwnDxnmq9Lq+jB5QP2DOWO60EF5NDmyHRHY4IRYF5WraT9pwtfbjDnggLOE2gf444zEHAfngWHbyRK5krEcXoixl++gzSA34Yg2n7xx1DGzSX02SQN26KLAFgy6ynG8i7yQfdn6CRmizXjeFg/aaR/ypzACA3Q4TdtB0z6g/NFPIo8xBjaJ4KvnuhzbYsk72sqKXcpV9wzjO7wAp9tR2mBfvLCurLqH/oZ2M8pcT3l1PdIOwU76YC0CG5Yf6emrjJtVTjzksWUeFQPHZWQnnFnLdEfkxVzVZASMgBEwAkbACBiB+URgUThczCdgfldzBFCGIOyjZLj44osL4wRhIQn9hgAuYmVn2SpD3fexPwRcJ/1hOQk5jdPhYhK+z2WYHATscDE5deGSjB8BogCx1QOrahUqXm8lzK5C9g4z/OgZH7sjQPhvlKrL8yhl0UEMORIDFU4dOPywvY3JCLRB4Mw8qgBbPmKQXpZHCzQZgVERwIkG5x0cK1LD5VFHHVU4T/EOVuljPDU1R4AtnQiRD79n+8MqR77mOZan7GvMiQ6BRPUZtkghdbgoL52vGgEjYASMAAiwzQlRRXEqYY5gMgJGwAgYASNgBIzApCCw+qQUxOVYXAiwxzvOFtBWW21V/JV9ISvB7GxRhkz/11wn/WO60Dmy6k6h8xe6LH7/4kWAdmYyArOEANESWHnOESdRwi6zcpV97p/97GcXUGD0abqH8yxh1+e3okjde++9CyddwtOzPzhburBKcI899iicLXgf+0ebjEATBGhT7Fm/3XbbFc4WPFMVaaBJfk5jBCICy3OnCpx4COvOggPC/BMpc8cddywiR5CWbRHsbBFRa3bOlixsRQiebFPWd3QpStHnmEOEA4htGIY5WxQJ/c8IGAEjYAQaIUAUIPg10S2YH5iMgBEwAkbACBgBIzBJCDjCxSTVxiIqC6EJ8TSu25v15ptvztgfV6E3F9HnT+SnuE4mslpGKhThZUcJzzvSy/3wzCBAGFVW/JuMwKwgQMjjE088sQhjXfbNKPjOOeecjL3eTeNFYKeddiqcK2JktPhGHGEOOOCAeQ23Ht/v8+lC4NRTTy227FGpCVd9yCGH6KePRmAkBNge58gjjyy2fSnL6Le//W1GtIOu29eU5TlL19ju5Jhjjimc8L7xjW8MtmjpE4O+xhy2sHjOc56TfeYzn2lUPEe4aASTExkBIzDjCOy6667ZbrvtVqBw9tlney424+3Bn28EjIARMAJGYBIRuG8e+nL5JBbMZZpuBAjzeckll2QYLdZee+1iH1sUD+x7iHLzmmuuKVb/DNuveLpRmKzSu04mqz76KA37AxN9gJXWKHFNRqBPBGhb7BlsZ4s+UXVe04DAr3/960KBJxkGOQYZhuu33nprYfD5+te/Pg2fMvVl/Pa3v13sm/3gBz+4kCVZ3Yyj7p2//GWxcvjYY48txsCp/1B/wLwgsO222xarImlDN910U3bSSSc5Uti8ID8bL8EJesWKFRnbsK211lrZGmusUXz4XXfdVYQ9P+yww+woPUJTuOOOO4qtWp761Kdmf5RHEvnkJz85Qm7lj/Y15qDj+P73v1/+kpKrS5cuLXQmP/7xj4uxrSSJLxkBI2AEZh6BPffcM1tvvfWySy+9NDv//PNnHg8DYASMgBEwAkbACEweAo5wMXl14hIZASNgBIyAETACRsAIGAEjYASMQI8I4DiFMfy2224rQlH3mLWzMgJGYJ4Q2HDDDTOiibBdh8kIGAEjYARmB4GNN9642FrK2wnOTp37S42AETACRsAITBsCdriYthpzeY2AETACRsAIGAEjYASMgBEwAkbACBgBI2AEjIARMAJGwAgYASNgBIyAETACRsAIGIEFR2C1BS+BC2AEjIARMAJGwAgYASNgBIyAETACRsAIGAEjYASMgBEwAkbACBgBI2AEjIARMAJGwAgYgSlDwA4XU1ZhLq4RMAJGwAgYASNgBIyAETACRsAIGAEjYASMgBEwAkbACBgBI2AEjIARMAJGwAgYASOw8AjY4WLh68AlMAJGwAgYASNgBIyAETACRsAIGAEjYASMgBEwAkbACBgBI2AEjIARMAJGwAgYASNgBKYMATtcTFmFubhGwAgYASNgBIyAETACRsAIGAEjYASMgBEwAkbACBgBI2AEjIARMAJGwAgYASNgBIzAwiNgh4uFrwOXwAgYASNgBIyAETACRsAIGAEjYASMgBEwAkbACBgBI2AEjIARMAJGwAgYASNgBIyAEZgyBOxwMWUV5uIaASNgBIyAETACRsAIGAEjYASMgBEwAkbACBgBI2AEjIARMAJGwAgYASNgBIyAETACC4+AHS4Wvg5cAiNgBIyAETACRsAIGAEjYASMgBEwAkbACBgBI2AEjIARMAJGwAgYASNgBIyAETACRmDKELDDxZRVmItrBIyAETACRsAIGAEjYASMgBEwAkbACBgBI2AEjIARMAJGwAgYASNgBIyAETACRsAILDwCdrhY+DpwCYyAETACRsAIGAEjYASMgBEwAkbACBgBI2AEjIARMAJGwAgYASNgBIyAETACRsAIGIEpQ2D1hS7vuuuuu9BF8PuNgBEwAkbACBgBI2AEjIARMAJGwAgYASNgBIyAETACRsAIGAEjYASMgBEwAkbACBiBBULgzjvvXKA3j/ZaR7gYDT8/bQSMgBEwAkbACBgBI2AEjIARMAJGwAgYASNgBIyAETACRsAIGAEjYASMgBEwAkbACMwgAna4mMFK9ycbASNgBIyAETACRsAIGAEjYASMgBEwAkbACBgBI2AEjIARMAJGwAgYASNgBIyAETACoyFgh4vR8PPTRsAIGAEjYASMgBEwAkbACBgBI2AEjIARMAJGwAgYASNgBIyAETACRsAIGAEjYASMwAwiYIeLGax0f7IRMAJGwAgYASNgBIyAETACRsAIGAEjYASMgBEwAkbACBgBI2AEjIARMAJGwAgYASMwGgJ2uBgNPz9tBIyAETACRsAIGAEjYASMgBEwAkbACBgBI2AEjIARMAJGwAgYASNgBIyAETACRsAIzCACdriYwUr3JxsBI2AEjIARMAJGwAgYASNgBIyAETACRsAIGAEjYASMgBEwAkbACBgBI2AEjIARMAKjIWCHi9Hw89NGwAgYASNgBIyAETACRsAIGAEjYASMgBEwAkbACBgBI2AEjIARMAJGwAgYASNgBIzADCJgh4sZrHR/shEwAkbACBgBI2AEjIARMAJGwAgYASNgBIyAETACRsAIGAEjYASMgBEwAkbACBgBIzAaAna4GA0/P20EjIARMAJGwAgYASNgBIyAETACRsAIGAEjYASMgBEwAkbACBgBI2AEjIARMAJGwAjMIAJ2uJjBSvcnGwEjYASMgBEwAkbACBgBI2AEjIARMAJGwAgYASNgBIyAETACRsAIGAEjYASMgBEwAqMhYIeL0fDz00bACBgBI2AEjIARMAJGwAgYASNgBIyAETACRsAIGAEjYASMgBEwAkbACBgBI2AEjMAMIrD6DH6zP9kIGAEjsGgQuPvuu7Of/OQn2f/8z/8smm/yh/SPwDrrrJM98IEPzNZcc83+M3eORsAIGIEpRmDWxtFJHA9mrQ66dJdJrLcu3+FnjIARMAJGwAgYASNgBIyAETACRsAIGAEjsBgRsMPFGGt1rbXWyp75zGcO3vD9738/+/d///fBb58YASNgBEZBAAPFLbfcMkoWfnZGEMAhh7+HPexhdrqYkTof52euttpq2dKlS7P73Oc+2be+9a3sv/7rv8b5OudtBMaGwCyOo5M2HsxiHXRp0JNUb3/xF3+RLVmyJLvrrruy6667rsvnzNQzYLXppptmD3nIQ7Jf/vKX2SWXXJL9+Mc/nikM5utjwZr2+f/+3//LPve5z7V67ZOe9KTscY97XLbeeutlt99+e/bhD3+41fOznHgU3KcBt6c+9anZAx7wgOy2227Lbrzxxmkocq9lXH/99bMnPOEJRZ6f//zns1//+te95u/MjIARMAJGwAgYASNgBIzAYkFgKh0umAxjNErp97//fXbHHXcUiv8f/OAHxUQ7TTOfv5l47r777oNXYpR4+9vfPvjtEyNgBIzAKAgQ2cJkBNogQJvZcMMN2zzitPOIwJ//+Z8PFJrxtb/97W+z//7v/86QbX74wx/GWwtyvu6662Z77LFH8e6rr746++hHP7og5fBLjcCoCMzyODop48Es10GX9jsJ9bbbbrtlj3jEI7J7fve7mXC4WH311bPnPOc52cMf/vDsj/7oj7Kf//zn2c0335xdddVV2W9+85vaaly2bFm2+eabz0nzr//6r3a4mINIfz922mmnbOONN87QCzV1uMB59Oijj87+9E//dE5B7HAxB47aHzvssEP2+Mc/vkjTFPfaDFvc3GyzzbJnPOMZ2RVXXJHRt8ZBe+21V7bGGmsUMvjhhx8+jlcMzXM+vrOqEDiM7bzzzsVtLyKrQqn+OuPmgx/84OzjH/944dBVn9p3jYARMAJGwAgYASNgBKYVgal0uNhxxx1XmRCnFcAk+zvf+U72oQ99qDBSpPf92wgYASMw7Qiw2nFWaKuttspe9apXFUruffbZZ2yfvc0222Tkj/Pe/vvvP7b3dM34zDPPzDbYYIM5j1988cUZ15vQLLWZJnhMWpottthiFcNMWkbqEGXd9ddfn97y744IYEy7733vm/0uNx7i3DLrRAST+93vfoXBilXCi5lmmSdOyrdPSjmQMw4++OA5zR1+8MIXvnDOtYX+MSl4LTQO8/V+9A7bv+AF2Wr5GBHpyU9+crZz3jau/PSnswsuuCDeGpw/9rGPnTOmE83lf//3fweOkx57BlAt6Mmee+45R7f0i1/8oojesqCF8ssbI/CK3BmC/smCrAMPPLDxc9OWcFa+c9rqReWtk51x1tt2222LpH/wB3+Qve1tb9NjPhoBI2AEjIARMAJGwAgsMgSm0uGiSR2wUuEv//Ivi9UKhxxySHbnnXc2ecxpjIARMAKLDoG99947e9CDHpRddtll2T//8z9P5fdttNFG2UMf+tDsT/7kT8ZafiIT8R7wmkR65CMfWRhCY9nKIj7F+z6fTgQwdN9zzz1F4aXEQ7ZZZ511Cqcg5JpxreSbTsS6l/qkk04qQkVjZHnd617XPaNF8uQBBxyQPfGJTyy+5hWveMUi+armn4GR9P3vf3/zB/KUGOy8bWAryBonPuyww7IX5AbvYfQ3f/M3RdSBYemq7rMNAVsJmIyAEHhlzv+eEbYHxSkPh4n73//+hZMeRt7nP//52QMf+MDsjDPO0GODI068IpwyLr/8cv0sjh575sCxYD9wnhERvWASIompPD4OR+BXuSMTfZLIM4uZZuU7p7UO62Tnn/3sZ4UTM/M4b8M4rTXschsBI2AEjIARMAJGoBkCi8LhglCerEBilQgr8iLx+6CDDsr+7u/+Ll72uREwAkZgZhB46UtfWvBGJvvT6nAxM5U15EMxOrESHyLKAfsJmxYnAscdd1z2n//5n4OPQ8ZhG48tt9yyuIYh6HWvf/3gvk+6I4AC1GQERkFgzTXXHOVxP1uDQNP+OWp0GiJFMa5CbB/xevPXmlpZ/LdwvJKzBZEziZoZt0pgCwMc0mifT3va04qoU6mMLSdhnr/yyitXAa1p217lQV/oFYG111qryI/odna26BXaecnsta99bcaWfGx1sZhpVr5zMdYhOhh00mxJddttty3GT/Q3GQEjYASMgBEwAkbACKxEYFE4XJx22mnZv/zLvxSf9Md//MfFyk+iW4jq9qtfK59gs18nSjr2YkUh0oQwcvEc++iyr/qoxGpqwsRThqahYnlm/fXXL5751a9+1aoITEpZpRONOa0ycGIjYASMgBGYdwTi+KDoB/NeCL9wQRBATsHgs8kmm2TIOn84xNmGFbcPechDWskVGH+I8PKHf/iH2fe+972he9MPA2LdddfN/uzP/iy79dZbM6JHNCHJV7fccktjeYh8KTNy2X/8x39kbWWiJuXqmgbHXyLTgEGTaGtEMwEznsN40Gc/j/WLvNkHTkRcIQIR8vCPf/zjxjDhQEREARTPv/zlL+c81wUDtXfyQ7E9Cn37298uVq3HPJ761Kdmy5cvLy79/d//fXbttdfG243qds4DU/Yjtp22vIE9y+FZbPU4ansmmkAZkW+T/lX2rK7BY8WniGIwq9SVB/eFF/Nb/uB/v/71r4dmy8p2In2xuh1jedO5/LCMY3Sfd73rXas4LF933XUFryGSJrRs2bJVnHS0EOSuu+4aue23xUXfx5gORkTgYe4/XxR5RtPxhlD76Cjoy01XgePUgqzB93Wt+/vk4y70ox/9aCg8Xcc8nuPb4J9tx170PUTf+bd/+7fSb1ySR+eD0Os04bFt+zjjNWUnb2SzUZ3bisIm/0YZwylXU2eLcfaH2ObbjJNN23DT70Qe5jvBhIVpw4h+h5x6++23F3/D0ne5r/qFF8S57LC8wJS2R59p6gzVZe5RJ5NSBvBhPEKWb9LHyr4LuWKYbNGVv/C+NvOg2Fab8ueyb/I1I2AEjIARMAJGwAgYgVURWBQOF/GzULISBvjtb3/74PIaa6wxONfJk570pOyleejZB+RexpFQ+rLCqSpMN/v4Eh405snkHqUAyhhWRrShfffdN3vKU54yWLHMs0xib7jhhuyDH/zgKpNqJtSEq1svV1zGvWSZTBGm9OKLLx68HkU2YXhF3H/0ox+dsYcgQjZE2b/whS9kZ599dvHb/4yAEVgcCKCYTYlJfLzOlgUyLqRpUexhYEIJ9I//+I8FT6xTMJA3DmzsTy2jB6sDWfWHApBVgVUKOlYGP/7xj88e85jHFEa7b3zjG4VCIy1T/I1BjtWFKGG+9rWvZTfeeGO83ds5K1G23nrrQtEDr6zCSy9sixvPdXlG7/Nx9hCgf2G8ZBynH6T9cuedd86e+9znzon4Rd+7/vrrC7miDDHyYeXcX//1Xw/kA9LRn1nxTdtvQ/RnjE8o/0QYej7/+c9nH/7wh3VpcMQoxVYeKDRReoqQbS655JLs0ksv1aXiePI73lHIbzhXfPWrX82QzWTYIgGyIHJgncEGOe7d7373nO/FCPGBD3ygeMdRRx1VGNjBGcfat7zlLcX1+O/UU08tDFkoYffff//s6U9/euH0S5qTTz65OIc3iuC5fD+GupSog9e85jXZxhtvPKdMTb4lzSv9TT286lWvKmRAyX+kodwXXnhhtmLFiuKRU045pdiyJj4vPC666KI59YAczTYasY7vyev4lpzfszd1alBSnaEwR9lOXVMWnDQOPfTQ4pVtMSA9EZye9axnzZGjKcd1X/pSgXXVuBO/MT2nT6W8PhoI6IPp/TQPxg7aJGnpR5SVci7J5XicxBnnRIyBpKW9kzYShhDaKnVF+ykj2hjjNY46rLBnzE75QtlzTa5R7ja8IfaBT3ziE8VWIOqbOKrgzDIKDcM9zRsHfOY+GCwxVn79618favBI82jym29kPsccC8xw/Pnyl7881LCEs/2mm25a8JGvfOUrhTG2yfuq0hAFiegc0PHHH198c0yLTMd1+h5zzfe9733FbcrfhgfHPHWODHj66acXP6+66qpBtBDdBx/4JMRiidgHuLbjjjtm22233ZwxgHZ/zjnnFGUlTaQtttgie/GLX5zF6DLMazF0vve97x3J8QqDHbIZhDNZGrlC5UD2ZO5P+6LP8xx9nghVOBqJcHgQL2XMYguLyIvj2POmN71pjj6hDS5nnXVWkS9jJgtONsnHk6gv+O53v1uMTeA6jDQeYGB861vfukpyvSu2IxI1HW9ihuDH6m+cJkXUJU4UjCdl5d19992zpUuXDng/6SnrMIOm8ud4Zq4zivj81V/91aCeaMvwC1HbMS/i85icD0nnhBx0do3eBdmB9oCxHBlms802m/ONjJnHHHNMcY228tDcsTZ+AzwW2SQdg7v08Uc84hHZfvvtV7Rv4cCRPoG+DCe6YUQ7P/bYYwsHYNLG9tLXGC5ZjPnm8pWOkbxLddBHfyC/Kmo7TioftsHaMo9ap8iFtGHqnDEcXsjvV77ylUpe1Cu8JP1OEiAHoFdkDFp77bUHz9TpNl/ykpdk8NFUr8m8GuyqZI5B5g1O2s5JVGfoNOGTOI6IVyLbMZc5a6Wcnr6+zdyjiUzKmIWcC+YqA+8Ef+YPcjIWr4zlEb+X7MzYgK4YItrReeedF5NnbfmLyt92HtSFP88pqH8YASNgBIyAETACRsAIDEXg/7TaQ5NOTwJW2kVK93PEoIDTQhSclR4hlBCyKJ8/9rGP6XJx3G233bJtt912zjV+kA9KjRNPPLGYCDFJakK8h7KkhLHhmfl+sRgf3/jGNw5uY/RjYlRWbibRKGSYlLznPe8pntHkTRmUrQojr80337xQ7KQGDT3noxEwAtOHwCc/+clVCo1Rkj8RSpjnPe95+lkcUdigZMQYFgljKcaSKj6BQvRxj3tc9oMf/KBQsqO4hy+JMCSxHUY0WvEuPad0OmLgxJCWKgy5j5L11a9+9YAXogxEMYlSivf0RfB0eLEIB7bPfvaz2ZFHHqlLg2MX3Lo8M3ihT2YSAZR+jPMQhvjUqIpik36WEnIFxl6coDBup6tcjzjiiGzJyhWS8VkMWXvttVchq0i2iPfLzlHQ4ziQyirIJM9+9rOLlcgo30UYWlCQRwWx7sFD+CaejQ6l982/B6LMOF2lhEMKDhIHHnhgemvO77SM8Sa8B+MuRjQMZ2AfDTnIfVyDbs5X7EHRWQQemBLGc/gU5Ut5KfWS8l2eJ+3f/u3fFvy3iXEjfScYsq2eyhrvo2THQIsiGOM4RoMqijIlRuwyORqjD/Xxzne+s3gnSmmR6oyoK1XUFgN4Mu0tJcpBe8d4B3YLQRdecEG2Zm6AZiymbWMEj/gyViLTQ6fmji6PzQ19tCMMMJHoKzgXotiP4zdpqDcU/Y961KPiI0X/rhuv5yQe8qMtb4h9IC3vkFf1ehsnEd4f5RC9ACMuhv8oj+helyOyyj777DOn/ysfnNXkUKRrHHECkWFV15FrMNbDP3EO6ULIKHK4wPEuzYd5rPjeNddcU7yiCw8uK1vkEWW4x7YRz8mLcYt5bErwKIyI8A14lIi0Zen5NhYc4PDAPLtMhlQedUf6nChuI6Jr8XhtHu1ml112KS7hcPSZz3ymtC3oGfiA6kDXqo5tcVG+GGt1HvOGV9C+kL2HkeqorC55VvnH+5w3HW/0fhx1ymQA8oe/008OPvjgOcZfnDMwrkYifaoDivfLzhXZouxebM9dxjzhg0NVGxLufHs6vpEnTlq0b/pGdDbSOygr+DCHEXXp4zjwIUfpO5QXR6IV4OxxwgknrMJjYjrOcdbRuM+4Jycv7vU1hguz2BbJX2Xvoz+QXxW1HSfJBxmReXMkyotsyR+k8itN1XfSVo8++uhCXlRaHaXbBHecXUT0Oeo4Jd6JowFtZlT5qcucRN9cxt+R7djm6UG54yBtLxJ9pc3cY5hMGp0X43s4BzfwRs7AKSXKdmla8ZGYJm2nXfiLyr+kxTyoC39Ov8e/jYARMAJGwAgYASNgBIYjcK/Geni6iU6B8oAJCJNOvINTJ4ZvfvObg/IjlB6cC8cS5gc3khOUVaxAkaKKqBapswVe5zEfzllBiPBdthIjvmLZsmWrlDPe55zJLBMVPKOhXXfddc77eAfvRIEvYoL0qU99qnZvwLTcPItSLlX+K08fjYARmD4EMM6IP6E04RylQFwdWhZ+9R/+4R8GChvS3pWHv/yTXLmHwkARc+p4BauyCK+MYkGrdXEsYJIfeRUKVgyoUhYSbpkyY0BiVSEGTp5LleXweoyorFrGmY5vg1C04HjBqsk+iPLibMF7WJH9oPw9GM9YTYeRm9Xvkbrg1uWZ+E6fL24EMPRjfINYlUzbI/qBFK4ylgkFDMxytmCVPCupMNDjoIFiF5mCv5e97GVzIl3Qn5bkshHE6lAMuKxexJiBTENfQLb44he/ONi+rUhc8o/83/zmNxf8hr5zxhlnFCtE6acYHenbrL5Dyayt4FihLGcLVhHTL+A9yGE77bRTkdf2uTEuOlzo1fA13kMUDIxiyIDITTgXkCfGL1bDlREylELG4yCAUpr3RkcJIlGgqIeQA6PBj98iDGxlBGZEF+NdyHAyvOywww7ZFVdcMXB8eeUrXjFwtmDFNE5vPIOjLEZjvhNHDQwcbemFOYZytmAl3Nl59LSf5byT8ssIQbvBMUAOKhyf+MQnFq8SRnovhpM3vOENRZmQJz/60Y8W2PMOZFvaDW2GPKrKi8MPq9uJJqcQ7m0xwLFDxigcYYhu961vfatwtKBNYYwiDX2manW6vmmcR+pcK93vzp147skxo20yprQhKe31DHhTZxpD6bPwCww14M94zVhF++tKffAGxk9Wy1LPODrMF9F+wYG2hqzw05/+tHCeIsoXPIi+zNwndVprWz7eo6gN5EW0A5xZeQ/yEFtdpAQ/xYhMv6YP/XeO0e/yZ+HVyECsjH3Ri140WD2bPl/3G2fVX+Tfy2p6Vuun9IQnPKG4xBihOe4oPDjNv8tvorPAtyHq6qSTTirkLsYJDGiMedvlvFC8FNw01oEfW219KY9ogxMLzi+Ml/R/zuELXYg8RDevdKjT7/TIuCnSc+J9fAvjIjyKb0mpauwhXVtcYt5gxHiGDgH+x6KNbfP2jsESx0swZezsm9qMN9JHYLiEJ/L7sssuK8Z6yke/gn/D43BEI/IntCSXV+RswYr3D3/kI8U4T/3jkC1+2+TbFD1Aq+oZQ2KUVPLoY8yj/tErEX2Fv6ZEHX4k/z5kua222qpwkmcuBW+BcLxF74OsAVY4QjJWgAVjhJxEu/RxsKEdQVdffXUhZzEvgzfBR7iHM1RcHFQkDv/oB+KB8EbqWjSfY/g4+0OXcZJvl7MFbfij+SIveBg6zbZtGDxxjME5F2LhF2MI4x8yNHNZvp/6pA0yJioiFumRHWj/tDFkZvoac3TKiPOaxgnStqGuc5L4Dpx2ibLHkQViLH7jW8Aplq3L3CO+J5VJGT/obxB8UlGWkDmZQzFWk4by0D9pAxDHKtm5SFDyb1T+Ah5N50Ft+XNJcX3JCBgBI2AEjIARMAJGoAEC1UvZGjw8KUlQGKPEYHURQm406jGxQBAWsQIFZYMI5R+TRZ5Nw9xqEk7a7bffXo8UR5Q+3EcxH1dI8W6tWJvzQPKDSYgIBcMF+Uo4ypFuI4IyEIpGFn6jwEQRgTEkVWBKmUa6SLwHxQ7lTo2SMnbE9D43AkZgehHASIeihT8pVc8999zBNa5jNIvENSlsCDOPsW+X3EiIoRBDEcQKzDrCaInR4fDDD8+2zMOk4qiG4ZTwmdF5Ynm+skaGIhRDKINR8mCI5H0ouFGAlBHKIcrG6hd4uozSqVNc2bNtrsHbKQ88fevcOMm+xRCGb5SOoi64dXlG7/NxNhBgRSeKf/5wYsBIh4IPYluK1PFJBivGepTcioZAeGJ+49QEoXxV+0UxL+UgRjpWIqIUJw+cVenHnEOp4b24mPxDES+HEHiIwnGTJwZGEUpKEQZinLMwiOIkgsEQXoETBQ4CEHKbInvoOY6UDXxIi5ETJxTORTLI63fbI7Kevh9FdCTkMgj+Gh17lYaw4fA2vgejCKsLFUIfjOAtEMrSzVaupsYIyspjvh8+Sh2zIhTCaWVJbmhqS4/MFeYiZL8f5MZBeBuGOG3FRBkwQjch6ljGf8L2s6IeXg3+OOtIlqa8bCmVkuqMiCms/ifEfRcMhD/5f/rTny6MipTj2ny1eQzVHNOlZZmP3xj/qH/Gka3ysZCxDuPXlXmZRyEiLTGGgifjKe2JMZRxUGGuGePjqso27+uDN9B24SE4N2BM6iM8OU5QZX+p0Y8+SRtDDgGbZbkzEOOu5j/Me2jLo5KieFAP8GB+v/zlLy9kFOZbGItSgs/S5pGrcApAzqJNsKIWfkKdESWgK7GdDsR4Efs18p0MteLNpBuFB/P8qBTHA76bOS6EU56c2RgDhDXGNfEg5sA42zGG4MDFqn7xbAyGXQmHRxHyaB2xfYwoPqdrXY9tcYnvwWGPVffaCg89w3dD1BQZweMzfZy3HW9wnJDjNGMB4xJ8nPKjs9D8hW01RBg8Re/MZQbqH95Ce4Ev4qTQJ4065vEtOJzKMUj8eVgZ+XZ4BX2VMRun08/mjg8i2jkRkPh+MIPnaUwnTZR/uvRxOQ9RfhwrGeORJ9m+Q44cfxz6icqlI1E2WLkPUSe0x+jgFsfmcY/h4+oPXcfJ2IZPz7emQHaljF3asJwjwJl5KnIY7QW5A72i5E7Kuskmm5CscPaAZ9JvkKGR22hPjNPM10VKr99tjl3mJDF/+gmyDXMZZGLaSHSgwzFF1GXuoWf5bjCIMil8if4HRueff34hc9DH4FHgKyqLSqd7TY+j8heVv8k8qC1/bvoNTmcEjIARMAJGwAgYASMwF4FF4XAx95Pm/mIiEZWN6d6ghNxFoEaIZgIZaf1coQPhIa7VgfzG2IfiAmICiVEhEqsK6giPbBRtIhSSKPUpB4qRuFKGd+PEwUSIsH76Y/9diPvs+RuJSXUZMQnXKj8mX1EhQXlkgCl71teMgBFY/Aig8IcwArzjHe8YfDArU8/JVxBCOFSkUYQGCVeeYFjF6CXCiAjvksMFPFnhmllNxsqaSCjbMRxhgC0jQulK2UdaKYf65mHsTyw+iZJQUS0ov8JHU74uuHV5pgwLX5tNBKLTBAgwhtM3IcZ5lK2RUMjJQYO0WvmsI2kvSGQZruEoodVtGOqi7ML9lGTcQ6a66qqr5tzGKKVyEelCxMo8otMQGYdyRvryl788+CmjzOBCfsJqaDmW6DrGB1HZM7rX5AjPkvGPvCQLgrUMl9HAEfOUvBWvYXARyRiCzChcWaWaUoxkgvzYluSwwXMYneUQw28MWhhF+Eudd7lfRjLUUZc4NaeEk4kIJ6GUqDM5ZeheFwwi7mxVI2dB8gQzfRcRUxaSaNM4K8V6QM5n5XtXYgyCB0AYpGNfY7yVcxMOGeyB3oX64A1lUWm6lKXJM6njOG0bh/to4CMfjCe6xtaNo5IM7Mzhbr/99jnZ0c5ZfR5py9wBRPzvyNyYGo35tBHJTjJUxmebnhM9R7w0bhuHs48oOqaNwoOV3yhH9V14LXPsSJLvuKbw94xLrAqHluROaOKl/MbIyCpj+n9cTc+9NhT5pGTXqucxRIvic7rW9dgWl/geVrlLTtb1OJ6WOTAq3SjHyOeajDfRoEvfTOmmm24qLmEsxrAMKYIFYxBONpGQPeQcHa+Pcj7qmFdWF03Kw/xDDuVKHx31cEilvUfCGU2kbTz43aWPK28ctyLvID+c+ehjr80dg8sIhwJFIcHZF2eL1OFuPsfwsjrooz90HSfZFgaij6YOu7RhORuXYZtei32IhRUpMQ7CM+Gt6kPMu5G7WbiFU3AkOblxTTwo3m9y3nVOEvMuw4AtUeQ8ThQpUZe5h54tk0lpG+DDX5SveAZHEI0JmhMory7HUflLm3lQW/7c5Xv8jBEwAkbACBgBI2AEjEC+3fRiAAHBV0p8JgZxcoBRD0GWFQIoKAnVKmLiESd/CM9MfCQ8s5oG5wVN7PXct1dO/vUbhwdWM4mGKfjTCBTsN8oqQRFOFJGYRKC0Y+KhcNm8A6WOlPQxPd9ZRlK+6R4TeRkMuJa+V+l8NAJGYDYQEO+8MeFxfD2OZSgeIIxjqZKzuJH/YzUIYc7riBUh4l1nn312XdLSe3EPWhJIudqnopt84/YB/MbwzPfBK+PKyS64dXmGMphmBwFW+hJGF2Jcx2GUbSAwYtP+cBgl4gxjO+F11adkoEiRYpWkVszyPArFKI+gkC4jHBrIH0JeUZnK0rLyGKK8qRMr1xXVRkeuQfQpnJgIc4zhtEq+uTd1/X9WCYIJeAiT+ifq7xJKe8899ywSEa0HIzJHESHQmxKGOfEQGV1llCAPop/JGU15xm+ocqhV2rIjqwLJF0wJYc02LxiGcZbgnuTnsmfLrqnc0Tk4pkOxr2+UUSHeLzvvggH8GIMQvJQ/ViiCLysQMTiXKevL3j3uaziyNF3R3LQssb/jeJGOVTEf+EXqmB3vV533zRuq3tP2ehpxUM/LCKPfHHGG2D83KDGPWi/nTek8R84S8Zm258hGRAkib5x7cLBYsWJFZZ3Htp5G5eDd4o3wUMrd1BEqlpu5LEY0DK7RQVYOUEQzSttknzw4lmXYOU4U4nEb5Nt4sJ1SFYn3cP9r+XjGeIEhnigq8H36PA4rXdp7+s6oH4CPsbK/iuK8H4enPqgrLnXvjo4hVbqCuueb3Gs73kRnmTTqHu+LfRZ9DvoQRfpKDcVNytcljdpdn2Nel3LwTKzD1BmD+xhfRepX+t22jzOO7rXXXsXjRBMg+iCOs0Tv4q9OdtgydywTnXjCCas4/3BvocfwiGXX/tB1nFQbTvmwMGtzjDxeDtLxefR92uIoXuecesIpDydiFnilbSZN3/R3lFHazEma5M8iEOYwa+UOpaKucw89X3VE38ECCcaANXJ8YpTkqmfaXh8Hf6maB7Xlz22/xemNgBEwAkbACBgBI2AE7kVgUThcfDQPc6i9wPksFK+EZNakAQU1kwgUIrpGujKlCKtrYng4HBKiYY3n7kxWjuKogWCryRPKnzpiNU4kykT5qkiTCAwrOFyYjIARMALjQEArRNNVmrwLBb6MmCkPi2UpUwDG+5zHFUFxhVOaruw3q0hTgv9Ckb+nadr+ZgVs2bvg9ygt48qxLrh1eabtNzj9dCOA0Zo/0fe///0i5C1tk60aMMyxsp8tHWLkg3SFsJ7HEC5SqOgY9Ys+XkbxuTqHC5xVJf/QF7WSrizP2FeRcYjaFR2m4DX0v9XyfMah4CwrU9U1Imb8TR7qn3IQ1hyHCwx9ELynTMFdlRfX5YwgHqBV29yTHMl5GSmKSdm9qmso9A877LDs9a9/feFADPbUP9vx8ccK+xNyg0g0MFblFaOc1PF6cIFPRifnqjy53hUDjAisssXgwHeBDxEd+MOYglNSnaG0rkx93YvbDfSVp/Z+Jz/6nRzFy/KXMr/sXt21PnlD3Xva3quKfJXm84IXvKAI4x95TZomGnPTe01/X5sb+DH84pwPf2Suxh8OIES0YfunSFqJyzXx4Xg/nmPk6eJwQR44feAoBk9hHotcp/mkthzRuxaSB8dIHvDYunFDziiUm4UKGN4wFjJ28J3kxd/ee++dnZ078xIevyvFcY++UMdHIv9q2j6HlasrLsPyHff9tuON2iTlqqt77pM2OmPWGfxJ3weNa8zro2xt8ujSx7UdDRGaGFvBHqcX+ApbIXGffjaM9j/ggCLCRlm6aRjDy8qta13HSY1LZY6CyrvpUeMIcjPRMZoQ70fu1rM8I7mb8yiP87stdZ2TNHmPoktobtB17jHsXTiBs31pJPAFp1HxUZ7zzV/a8meV00cjYASMgBEwAkbACBiBdggsCoeL9JNZ8aaVPdxjUsGKQSaGkcqcHKIyh7Q4YERlANfKFAIyMnB/mNI6VVITFvVXNSti8EzH0SI6WyDss8qDcPwo5Fi9aDICRsAIjIIAfAWSIqgqL6Uru19ltI1p4/ORd8Y0k34elVr6nja4dXlm0jFx+eYHAQx8OFxArA7F4QJZRVRl5EZWEMl4hHOGVphifIwOHkobw/bWRQ2QEpTnMFalYXiVH8fYf9jbXMpLnBvYw11yEqvv4l7XMY/5OsfB5d++970isg9Y4NQrTP7pn/6pdTFk5BVeUeF+3nnnzcEmzbytc4eep55ZBY5REiedTTfdNPvT3BkZhfWS3AkYJ2UcF4YR8ii8C14nh5GyZyRLx9W2Zel0rSsGtCO2z6D9bL755oWcTHtGvsdAxFZWfPd8rYTW98TjqAbYsjFSW2Lwnte85jXFquP4znje1SjZJ2+I5ZmPc9rD6173uqKdwkvOOeecImw73wR2GAlxRCnDtkv52IOd6ENEO8TJnz5O/yBc++b5/GyfffcdZKu6g9dqa7HBzeSE8nal6Ci27bbbDhwG6L+sXI+0kDwYniJiGybmtVWU4kFkF/6IMMKYyGpkGYZxuoAPMT52oRjJia1n6qJmxIUaMWR7l/fqmVFwUR4LdaSemo43OOdRTzhYlm0pEr+BxTWk0xikcSam6ft8XGNe3+Ucll/XPk6fPDjfNoRFS/A4tq9A/kEGYMwlShDbN6VEPTGu0x9xRmObSBZIpTQNY3ha5vibtt5Fhkb3h/w1zMk2vqvqXFu/UCdE6tAYU5We66985SsHzhY4c+MYKJ5HHmypOQp1nZM0eaccTDWPlizNs23mHnXvYsslbceF8y7Ok2zHLCKCn8qha12OC8Ff2vDnLt/kZ4yAETACRsAIGAEjYAQWyZYiZRWZruhi4qc/KfZxpEDZJsU/E5W4fQiCPJOYVMGNQicSK1uUJ9ejkiSm0/n3csW9wrpy7af5O9JQf+THJFYrbPbff389XhwxZGhfapRMdriYA49/GAEjUIIAPK6OpByTMTGmXWeddQaOGHVG1/hM1XncjoRoF4SmHSex+hnlkggF4gc/+EH9LD2icCozQMvhLiqTuuDW5Zm0oFI29aGwS/P278lFIDqLykGCbRRErIzFKSOljTfeeHBJikMUrIrWwH22HUlJxiQUxHLUSNPwGyUvxhPaI7ymzuFCz9PPJK9haMMwOomEgVKyH8YH8dLLLr20VXHho3K4kCH+5jzCBAZDiGgIMWJbq8wrEsNjkXXhWaxyv/LKK4s/2hErHHEgoVysgm/C23Eqpo5RSJcR+UkmTuXnsvRc64LBktxRBGMOBnXKjWFVxtUDDzywwJR6Wrp0afaxj32s6tUTcf13ed+ByhwA1D9iQWMboR5Z6d839ckb+i7bsPz22WefwogLT8KpIZ2X1TkLKW+Nr/ymPTOHrCP2vecPeu5zn5u99rWvLbZtfMxjH1s4AMkZn4gVzAHJcxz1pjLy7XIUIyKKojDgfBQdY/vkwZpPU4am27XEsYu+3GTcwPgL/+EbkScZzzSmPf3pT8+of2irrbYa8ITiQot/bLmF3AgPIbIRBrfYJmJWbOsDcb/OMSM+M+y8Cy7D8mx7X98rubfJ823HG/QcrPKG98G/Yxuqep+cNKITaVXaPq6PY8zro1xN8+jSx6lzRSnAIE89MY7yxxzx+OOOKxwGYsTCWJ7j8vvo0E466aSC19EX2bYuOlQthjG86zh5dy4rMw7FCBMRvzbnOHlJrwimaVQkeBiOtrQD+CVjwF/l4xLEWMD2hX1T5F9t5iRNyqEtnORo0WXuMew9OAhJzsd5LI6Zw55te38++Utb/tz2W5zeCBgBI2AEjIARMAJG4F4EVlsMQDBZQfHC39Zbb50dc8wxq3iMy8AXV7kxuWcFlOiAPOShlMRckzKcZ6KiDacMlGkQE1JWl0XCoaKO0hWRTBxemYdrREkNbZSHLn3HO96RMVnVpEL3lK8mGUwG0nB3SuOjETACRgAEZJRllV4dieeVKdDiSszvfOc7ddkMvYcySIpc7Q889KEREmAoxaisvx122KFRboQTjfTYXEElY2nk811w6/JMLAvn2n84hp5O0/j34kNgxx13HHwUka4gDFUYIaAn5xGxypxwCLEP0fekkEUBLop9XNcwaMvRAOfQYaTtiHBojQ4eeg7DCqvAUfxCGJPzJ5K0AABAAElEQVSl1CyLzLFlHuFCpGf0u8+j+FGZwZv34KQlgynbBkAoYH9w663Fedk/FN8pvXi33QaXxEMkn3KDUN1lhJwXt5EoS1N17XW5gwhOIm9961vnJOF7rr/++sE11fPgwsqTFBPtY49cGvcO13MxIkkq7ypNeuyCwb551AC+64gjjlglEp0cknkPjiSTTlq5X2ak/rOV7S1+A21HbXa30KZimlHP++YNo5anzfPa8gvjbepsgRzQZGV8jFTASu42xD7pRFeB4G/RKV64cj3y8jb5N017+eWXF0n5XhmnU2e8Pnkwc1O1SznqxbLGSI26jlFWc2wi75StGkYmjXNdzun7bJOEITESPE35lTkrxbR157QdOYwh9+23336lyffIt5vSeMu42sRhIGYkvFI+2wWXmG8f5zIyIgfoG5UvdVVGbccbYUx/WJbLBilxnTEl6kHk8Mw1OQXoOXBk24s+aRxjXp/lG5ZXlz7OVhn0Mf6I1BMJOe/W3DkUAm8cNlPCiRLee8YZZwxuEUUr9u/FMIaLn/ORbWRotWH6VjqHA9M2ckuUn8rKQAQmtoCBVy1ZKZeunW9FBqX9mms77bQTh4Lof12o65wkvkvjeLyGHKw2pPkG93XedO4R8yw7j05mqVyGLkVOm3X4pDy97D1cm0/+0pY/V5XZ142AETACRsAIGAEjYATqEVgUDhd4IR977LHF3+67757F/RT5fBSZKC4gJn5SbvAbA9pZZ51V/KWKoPe///0kKeiTn/ykTosjExrun3baaXMUvSh5WAVTR+yfl64ifUa+Oubtb397dmae59G5wwiTV5w/jjrqqCKrdNUhSrrTTz89e//73lfsGRzfp0lAvOZzI2AEZheBX/z858XHo6ioMqqR4OMf/3iRjhWzrOgQYWBEWQOhQLvxxht1q9OR1SjXXHNN8eyjHvWoQqEXM4KHYzDDOLuQxOpGbSkFPz7m6KOL4qBQv+CCCwZF64Jbl2cGL1x5IqM5ytQyJVua3r+nCwH6AauS+UP5usUWWxQr0R7+8IcXH4LBXKt6uaBw3IQpZlWhIhDgyIAjqpTiX/3qVwdAELFC/RkHz7e85S0DZSaK2RNOOGHgEJHKQYNMwkkMQ3xQ7oyKMQyFJIpHDJ0nnnhi8R0yRrJqUjIZ34limH7Paj3KrFXZvELfE17X26mU3yhy+e4yJWrqPJDKcWlhcHDBMIixjvyQ25D1IHjIJZdcUpxjmFBfpg6WL19eRG7gJg7FRGvA+QsHYTk4kNf7cvkvGjOKzEr+/We++hHi23AsFo7wXtqUCKcSUVyduN122xWXhUmUow/OV/FTrxDfiQMdIcchnMriatbiYsW/LhioHVOuN7zhDZkcBXGKjlHhojGi4vULfpnvh+ir0YHijW98Y7Zm7tidEmOoDOfgz9wnEuMVzjsf+MAH4uVW533zhlYvHzGxnJloky984QsHucFTxXsGFytOMASLN2EYTOeWeowIhWxfESMPcU8Om+Rx0003KXkR0UsONhgzFd1GCeB/hP/X/E/XuxyJhCJHPJ6nLIoCo/z65sEy0jPe0AY5wseJOpF+q8pw6cpIQYwTjDkK0c+zOMjiWAGezPchRRLhnP6CQwvPkh6jIu0fihGZMM4feeSRBX+N0SyLhBX/mOMT2Qmin+G0hq4AYxwOhW9+85uz5zznOcV9sCV9W6obe9ri0vbdw9KrbKSDxzJ2gCPjmqKIpHm0HW8uvPDCQRtlfHxFvgCFfgvhTEEUJhwvkR3Ux9j+QASPpE4YB0i/PB8/+547jGPMU/nn49ilj8P/5KyPrmz77bcv+hf9jMiqcjxF71W3bRVy0nVf/GLxmdTrYYcdNvjkxTCGdx0nYxumbyHzdm3DyA/aDoQ+wCIueCD9hb6qRWLU1Q033FDgL70o6RiH6NvwXWQnOWeTUAu/BpXW4qTLnCRmz7jBojacUiB0GHGRW4xc1nbuEd9Tdi48uUe0Kvg9WDAOHXLIIYM5gpw/lEed7Kw06XE++Utb/kxZmYPAf1M9efod/m0EjIARMAJGwAgYASPwfwjcq5H4v9+L7gxFE84YIsI1X3311QMFCdelRFYajtddd10WhWZWCaFsicp/Jp2RULYQDlurIOO99Py9731vIbymq28wlESSYgxDB4pxKRtIE72v4zMyEMZrPjcCRmB2Ebgo3+P61a9+dcE/MMCgREPxAj9ktbkI5S6GBXgIShqUnCjSUDJodTn7lvZBGD1YIYeD2K677loYI3+SG1/vnyvMMTrBlyO/6+OdbfOAx8J7cZIDEymBMZRGPt8Fty7PpOVn32TqiLph5RhKEcYhjJzR4Jg+59/TgQBGvCqink855ZQ57RB5gXDqKE0xPCH7kC7KOBj2kT8i8RsjF32RVcn08fS5iy++OPvSl74UHys9R0lJOdjGAXkGg5uctVQODFgf+chHBs9/MVfGawU4xn0Z+AcJVp60WfGXPjvsNzIfqwwpoyJBEGaZUNqiT33qU4OwzVyTMUz3y44oZ/lL8SQveLCIukShyWpD5Ez6dvoMMqmcBzAoyaioPKqOKPYxcpD+yU9+cvGX5o1TbzROfuELX8he8pKXFFmy2pE/6pV6w3iDTEw9UcesfmX1t+qXh1jpjsGY9zSlthiwNQqh/uHNGFAxWqTfhdMHbXfSCQc8VnHDy1Hu4xhD+2AMSr9J30L/xvBFv4X37507CN6RO5hjAKB9kBeOGaNQn7xhlHK0fZb+hcMkbR7jCHjSJrXSuwrT+B7kJPEmjIvnnnvuIHoBRmE5deBgtCR30kKW+nnu3Mp2YbRH9U+2TIt9i3cQlQWneWQc+C3RqvhjJS31R1+KETZiudqe40ilcPNVERj0neQ9Kg9GPpIDEA53aQSKsvKLt2644YbF9+Pwm9YRsijpICJP4myIAwc8E0evZcuWzeFBjDPvete7Bq/D6KgxBCec97znPYN7VSe88515HjiWweuoZ2TplCjru9/97lWiqaTpyn7XjT1tcSnLf5Rr8Hs5XSIbRH1KVb5txxucDzGW0kdp92zPwl9a/5dddtlA3sHATLvGCEo/K6uTqvJ1uT6uMa9LWbo+06WPYzCnL1Mv9Bn+0nphu7VhdFY+73x0Ll8xl8Swj2yBU/1iGcO7jJPIyjjE4USAPnHUORv8h/5Jf8BxSc69qhvqLW7Zx3gm5wX6EX9lVLbFaFm6smtd5yQxryc84QkZf2m7wyFI0XFI32XuEd+Tnl900UWFfAmetFucUsqI8Yf+QfmgOtm57HmuzSd/acufmY/IURKHx2GO5lXf6OtGwAgYASNgBIyAEZg1BFabxg+WUFtVdpSUrOhGIcwkPA0ni0c0ymytwon5oJBj4kTUi5SWL19eKG6jkpw0lIfVSqycQXEiShWdsdwoGFACUsay/Cg/yudP5IZSiHJhoFTIPL2DPNnvVitwuK6wsXXv1/PxSJlMRsAILD4EtO8uhgB4Bo4DGHLKFCmsFrwxN9hDGHJYYY3hBuMDhsgq5VrKx4ahiMMCK6a0wgnDw0NyRRwrWVBeoDwpWzUV+eiwd+h+ygt1veyo76B8rKLk2zGeyNkCnkz0gJS64Nblmfhexh3GOI7gQllR3Gk1UEzr8+lAoK6tUsfILShpMcoqMkX8MpwEMHipHdOXIJ7FEYetylKin6FM5L76l54jHwwdqdFa6ZR3zBMjDSt9kVsg8uKPZ2irx+SyTFzx/cEPfrBY9R3z5DkMkET+EpXxq/QZpdVx2H2lY9WfVvzpGv0pEg5q8FAIGQ0laR0RgUCryyOeKDwV3ULP862qU5VZz5AHsiWGL5FW8CqtrpcdcaZA3mS1stIrb37z7Wm7oO5i9BTyjXiwKhk5WngoP9JhDMXZokzG5r7KwHmkthhQRqILEHkkbe/ki7MMq6P7Ir2D/LTyty7ve3Jsm1Jh2F3pZMMzGqNxsInbvsT87r777sI4/pWvfKW4TCQMojCwAp26oozXN3CSinmm5114Q+Rh8TzNu83v37d0HMHxgWg9YAQhy+CYQ9uj/ymE97AykMeKFSsGhl7GV/3p2X/N+TFtA8xx6KAOMNJA8NSyiBoYizFk/jCPMAQxZvMcjnL0JcKxxygORaKO/yLvxsBZRl14sOo2beXMScEs7efwMcYSUXqfOXScE4ungC08jEgG4CJijMEolvJY7uNo9Y6TTx5su8a1GLGkbOwkTRnRB4/Iyxa38YnpMP4fnUc/qzJEpd8Zn+V82NjTFhflX/beOM9X/Sl92RGdA5GUIu8jHXnTlqR7iHl1GW/ADqfAOKaq/uFBRA6N7ZgyMP4wxqbfiYM0Rs+ulOanfMYx5inv9FhVhibp4rOxXrr0cfrx2972tqIfKV/VC/3uvPPOG+ipKJvS6BjLizOA2tE222xTbJ87n2N4WZna9of4PfG8yzjJ8yfnPOpzn/vcADflST9Q1DNdG3ak3RMJiLlz/FbOkVeR8aKO8pvf/GbhgJHKMvymrUh+jxEcYnuK53Vl6zInUX5smcicAVK743vQG5TJdm3nHnpPxEvXkEd5RzovIC38Rds5kj5ufVInO8f3xHPyGCd/ie9qy59/9KMfDRxN27ZJvstkBIyAETACRsAIGIFZReA++QrjVFcyr1iU7dk9nwVAKUb4PRRo3/nOdxopUSkfExBC8yOIo2yJwmyX8mP8JEw4gvowgRaFHGVmMkDaUd/dpbx+xggYgYVHAJ41LoInsRoahwuUofC5cRGGClaXEy4fRRN74qIwnwQChy3zKBIYDzF8pcqptIxdcOvyTPreNr/rtpVpk4/TTjYCGPGoa/rSLbfcMlB2Dys1KxAx/mGUjEb6Yc+V3ceRiogbGD5R9NURfIC91zFaYhCTwrfumb7vbZR/N45fKK1xHIjESjZWEaL4xdiEsSElInWw2hrCIIjTAnIu23ewYh2leBNCgYuDCU4DZY4LOH1hQMYgRlj7NqT6pTx8Y50MifEeeZNyg0mZkp06hn9jvGCcKCtvm/Ip7TAMlE5H2jvlABO+TcYd3a86jnMcrXpn1XXke6Lp0dYwJjbtA3EMxdmAaCjURRNqMx6o7fTBG2LZxlUH4KKt1OApihAT393XOREA4HVEqaD94WyROvyXvWvNNdcstuFZkkdPIBIGhpzUub7suTb1VvZ82bU+eTB58U3wEOoXo2RToi8Lj2iEr3oeHsS2BxiBafdV/QZZi/l+m7LEd/IsUThwwoUn0g+a8pmYT9l53dij9G1x0XN9HPlmVjuDb9NxjPeKZzQZb0jP+EpfQj8DH4tGce6XEZFL4J04cvZVH2Xv0bVxjXnKf5zHrn2cekEWQP9FG0gN0X2UuesY3se7+8xDbb7NOEkbRlaE/+Pwj6MCMhDtmciTbQn+CZ6MQ8P6kPo28qYcHNq+r0l6ytNkTqKt0L785S8X2+bR33iOeUSMalH3Tp5pOveoy4d7lJu2Dza0/SbURHauymc++Yvaah1/hmfwPeNsG1VY+LoRMAJGwAgYASNgBOKii2lCY+YdLqapslxWI2AEjEBEYFxGivgOny8+BMZhqFl8KPmLjMBcBNi25/GPf3xxkWgUZYJ/mcPF3FxG/4XzxqGHHlpkxIrwCy64YPRMZziHWR9HJ2E8mPU66NL9JqHeupTbzxgBI2AEjEBWbMeG8xeRGSLhAIHDBU4uOJwRyWuWKHW4mKVv97caASNgBIyAETACRsAIzEWgTO86N8Vk/ro35ulkls2lMgJGwAgYgRoEWNHVdaVeTba+tYgRoM2YjIARaIYAWzuw8vDpT3/6wNmCLV0WUugnAgJEqF87WzSrx7pUszyOTsp4MMt1UNc2q+5NSr1Vlc/XjYARMAJGoBqBzTbbrIhmRQqiJ7BNBVFridTDdps4W0Bsm2QyAkbACBgBI2AEjIARMAJGYLoQsMPFdNWXS2sEjIARGCBASHk7XAzg8EkDBGgzJiNgBJohsMcee2RbbLHFIDFbCp1++umD3wtxwmpIwioTKto0OgKzPI5Oyngwy3XQpQVPSr11KbufMQJGwAjMOgJsUfm0pz2t2PJqo402ypA1U2J7zRtuuCG97N9GwAgYASNgBIyAETACRsAITDgCdriY8Apy8YyAETACVQiw9/fDHvawYl9NO15UoeTrIMCKWIw0tBmTETACzRC45557ioS///3vsx/+8IdF6Gf2164i9pjWftm/+tWvqpKNfJ29rU39IDCL4+ikjQezWAddWu+k1VuXb/AzRsAIGIFZRwCZ8uSTT86WLl2abb755tkGG2yQrbHGGtlvf/vb7Be/+EV2/vnnZ1/5yldmEiYwIMLHQkaSm0ng/dFGwAgYASNgBIyAETACvSFwn0033fT3veXWIaN11123w1N+xAgYASNgBIyAETACRsAIjBeBBz3oQUUkoXE6UIz3C5y7ETACRsAIGAEjYASMgBEwAkbACBgBI2AEjIARMAJGYDoQmFYnXEe4mI725VIaASNgBIyAETACRsAIzDMCt99++zy/0a8zAkbACBgBI2AEjIARMAJGwAgYASNgBIyAETACRsAIGIFpQmC1aSqsy2oEjIARMAJGwAgYASNgBIyAETACRsAIGAEjYASMgBEwAkbACBgBI2AEjIARMAJGwAgYgUlAwA4Xk1ALLoMRMAJGwAgYASNgBIyAETACRsAIGAEjYASMgBEwAkbACBgBI2AEjIARMAJGwAgYASMwVQjY4WKqqsuFNQJGwAgYASNgBIyAETACRsAIGAEjYASMgBEwAkbACBgBI2AEjIARMAJGwAgYASNgBCYBATtcTEItuAxGwAgYASNgBIyAETACRsAIGAEjYASMgBEwAkbACBgBI2AEjIARMAJGwAgYASNgBIzAVCFgh4upqi4X1ggYASNgBIyAETACRsAIGAEjYASMgBEwAkbACBgBI2AEjIARMAJGwAgYASNgBIyAEZgEBOxwMQm14DIYASNgBIyAETACRsAIGAEjYASMgBEwAkbACBgBI2AEjIARMAJGwAgYASNgBIyAETACU4WAHS6mqrpcWCNgBIyAETACRsAIGAEjYASMgBEwAkbACBgBI2AEjIARMAJGwAgYASNgBIyAETACRmASELDDxSTUgstgBIyAETACRsAIGAEjYASMgBEwAkbACBgBI2AEjIARMAJGwAgYASNgBIyAETACRsAITBUCdriYqupyYY2AETACRsAIGAEjYASMgBEwAkbACBgBI2AEjIARMAJGwAgYASNgBIyAETACRsAIGIFJQGD1hS7EnXfeudBF8PuNgBEwAkbACBgBI2AEjIARMAJGwAgYASNgBIyAETACRsAIGAEjYASMgBEwAkbACBgBI9AKAUe4aAWXExsBI2AEjIARMAJGwAgYASNgBIyAETACRsAIGAEjYASMgBEwAkbACBgBI2AEjIARMAJGIMvscOFWYASMgBEwAkbACBgBI2AEjIARMAJGwAgYASNgBIyAETACRsAIGAEjYASMgBEwAkbACBiBlgjY4aIlYE5uBIyAETACRsAIGAEjYASMgBEwAkbACBgBI2AEjIARMAJGwAgYASNgBIyAETACRsAIGAE7XLgNGAEjYASMgBEwAkbACBgBI2AEjIARMAJGwAgYASNgBIyAETACRsAIGAEjYASMgBEwAkagJQJ2uGgJmJMbASNgBIyAETACRsAIGAEjYASMgBEwAkbACBgBI2AEjIARMAJGwAgYASNgBIyAETACRsAOF24DRsAIGAEjYASMgBEwAkbACBgBI2AEjIARMAJGwAgYASNgBIyAETACRsAIGAEjYASMgBFoiYAdLloC5uRGwAgYASNgBIyAETACRsAIGAEjYASMgBEwAkbACBgBI2AEjIARMAJGwAgYASNgBIyAEbDDhduAETACRsAIGAEjYASMgBEwAkbACBgBI2AEjIARMAJGwAgYASNgBIyAETACRsAIGAEjYARaImCHi5aAObkRMAJGwAgYASNgBIyAETACRsAIGAEjYASMgBEwAkbACBgBI2AEjIARMAJGwAgYASNgBOxw4TZgBIyAETACRsAIGAEjYASMgBEwAkbACBgBI2AEjIARMAJGwAgYASNgBIyAETACRsAIGIGWCNjhoiVgTm4EjIARMAJGwAgYASNgBIyAETACRsAIGAEjYASMgBEwAkbACBgBI2AEjIARMAJGwAgYgdUNgREwAkbACEwvAr/5zW+yO++8M7v77run9yNcciMwDwisueaa2brrrpvd7/+zdy5wu1TTHx8VuaekKHGICLlVpIuOCpHQKaV0OdJdhEou0SEkKiVyC6dSqURXSaikO7mmRDdF90h08Xf5z3ef83usd58988yeZ573fZ73rPX5vO/MM7Nnz96/WXvvtddae+2HPnQS3uavcAQcAUfAEXAEHAFHwBFwBBwBR8ARcAQcAUfAEXAEHAFHwBFwBByBhQEBd7gYs6/8iEc8onjFK17RK/Xvf//7gj8nR8ARWPgQwNnijjvuWPgq7jV2BFoggFMSf094whPc6aIFfpPxyLOf/ezi6U9/enHfffcV55133mS8clq/Y8MNNywWWWSR4qqrriquv/76aV3Xhb1yL3nJS4qll166uO2224qf/exn0wIO5995n5E2DBbQr371q+Lmm2+ed2PE/y+55JLFy172slDKCy64IDgHj3iRQ/Gc78bhK3kZHYHJQWDFFVcsnvWsZxXMuc8555ysl770pS8tXvSiF/XG5q985StZz3viyUFgqaWWCvrVGTNmFP/+97+LK664orj88suL+++/f3IKMIVvGYS/p7DYQ3/1mmuuWTzucY8L8hZyl5MjMEoIeLsdpa/hZXEEHAFHII3AtHC4YBL08pe/vHjiE59YLLroosWf/vSn4ISAcgeheToRg+tb3/rWXpUQAPfff//e71E6edjDHlasvfbaxVOf+tRi2WWXLS655JLGBpQNNtigeEKpOIb+W/6dfPLJYaIbLvg/R8ARCAgQ2cLJEXAE8hCg3aBcGwfCAWHdddctnvSkJxX/+c9/ihtvvLH45S9/WfziF78Yh+Jnl3GbbbYpVlpppSC7ucNFNnwLPPC2t70tXLvwwguLQw89dIH7fmE0Edh2221Dm587d25woGhSyl133bV49KMfXdx9993Fzjvv3OSRvmke8pCHFK985SuDsQk5/s477yz+8Ic/FGeffXatTL788ssX66yzToHxAkdx5mUYMH7605/2fadN0IZ/iWK0ww47BEMJxq3pMA9cYoklenO/733ve8VXv/pVC9PInmNo1Jz1rrvuKi699NJGZX3Uox5VvPrVry6e8YxnhKhU8A/z3Ysuuqj2+ec///nFqquuWjzlKU8J4+Uf//jHMO9k3MyhNnxHWbfccsvi5z//eXHGGWfkvC6ZFr0GCyxOOeWUMOYnE43Zxa4xGrPqL5TFxcF5g/XXD3X/wQ9/WLlIgH77dRttFNJdUvYTo+QguvnmmxcvfvGLi//+97+NHS4YOw866KDQF9kPP10dLka5v+onE2y22WbFm970puCcrG+11lprhVP68qOOOkqXp+WxDX/nADGu/f5uu+1WLL744sHh4t3vfndOlT1tRwi0mQt19OqRz4Z+a7XVVgvlzHUEHPnKeQEdAUfAEZgmCIy1wwUOFh/+8IfDalX7PZ773OcWr3rVq4odd9yxOPbYY4vvfve79rafDxkBJjZ77LFHscoqq0yYvDBRbWJAYVIbK4sRJFDWOTkCjsD/EFiYthFZv1TY7bLLLsVf//rX0Lf/DwU/64fAkUceGZzebLpTTz214Poo0WKLLRYmj8sss0xwLPj1r38djCZdl3Ec2g3yzUc+8pEFHEMYV1/3utcVt956a/GpT32quOmmm7qGx/NzBCYVARSaGCf++c9/DqW9T2plOnjZM5/5zGLjjTcOOYHNRz/60V6ubIeEYzlOBKy2HSY973nPK/baa68C47cIB3cMERiWP//5zy9gACcSwzvf+c6ClYF8U9FznvOc4LhBv7XffvsFpxDd6/qI8YD3QzfccEOBg4LIeU1IjO7x9a9/fbHVVlsFPlcpcTxEBtxuu+2KOXPmFLfccotuhSMOlO9///uLGaWDjyUcMBgvcYL4xCc+YW91fv72t7+9ePKTn1zwzvPPP39CNI82fIexh7ZOxCfqPR2oDqPpUL9RrUMb/uuqLrSHWZtuGrK7s9TjVBmGcJJSukc88pEj5XDRBguc/qiTiLnrP/7+d/2cdsep7q+QPVjoha7xwQcfnIBvnUyATLPFFlv00vM8shV5QfFY00voJ40R8H6/MVSe0CBQNxcyyabsdCrH1SmrtL/YEXAEHAFHIAuBsXW4YBAmsgPKiCpCWGZlDd710907uQqDyb5OBA6MRAghbYgJ07ve9a42j/ozjoAjUIEAih/6wTPPPDOsEqxINtKXV1hhhWK55ZYrMMY75SHA6hIMdZaIPDQqxLfFePf4xz9+QpGI6IBx5Yflqrg6wvi3++67hyQ45mGwGWd62tOeVhxwwAE9+QYc/vKXvwSDNO0YxxQcMnC42GmnnSYYdsa53l72hROBb3zjG6HiREE7+OCDF04QTK2JUIHSH4eF2KHqiCOOCCGOh+14iAF733337fVBlIl3YkCi/2F+hWPF7373uwnO0Mjv2kICpxAiE+BIgyFc/RZzhHe84x2mxt2e8k4REQ4sOa9ZNEbvHEcZohyJ/jR/65TlyogptAf4EgckFlRYOvDAA0O74Br8xneHR5EteI5IGzjsfvGLX7SPdXqO7IHDxb/+9a/iH//4x4S82/AdoewVsWZCZmP8ow6jMa7WyBe9Df+NfKVGvIAaBykm46Idl0a86K2KN9X91Z577lmwrRpEtApLFvtYJmD+KPr+978f9MWMIUTmIlrSdNmeTXWciqP3+1OB+vi/s24uNAq183F1FL6Cl8ERcAQcgdFGYCwdLlCefOADH+gpAgXxPffcE/Znx2iDYk/E6hbC2F555ZW65MchIEDI249//OMLfBc8zRGaWGHUj/CQZ5Lj5Ag4At0hsPXWWweDO0Zb34eyO1zHJSfGQDknHn/88QV99agQCrJPf/rTvTFbq4twEMEBr59jCHXBkCKyY7+ujdvRyjdXX311Mad0OlFYfDCRYpG6co/fTo7AuCMAbzsVwYEBZ3GMy7HDxf9iRgwXKZwpNGYcc8wxxWmnndZ7IWV77WtfG+5j+P7kJz8Z7uEoJiPT38uVvBiZmJdByPWHH354GHtwFmPV87BkESJasOUScw9knhQ5r6VQmfprGstxMmQcvPbaa0OhcJ4gQgXyAHuqz5w5szjvvPPCvTe/+c09ZwvGSyKo8DxEehwT+d5szzFMh4uPfexjBYsOaLN6fyiE+ZfDd2xrwuISnJqmCzXBaLrUdRTrkcN/o1j+cSrTI8soHdAdt98+7Z0tqOco91d1MgHbNUL02WzVpb4bB5Kf/OQn4Z7/GwwB7/cHw29hfRpHnaq50Chh4uPqKH0NL4sj4Ag4AqOFwFhqNzfZZJOw6kNQYoj40Ic+FPbsZZUrxsXf//73uh2Ob3nLWyb8tj9Q/r3gBS8oHvvYx9rLjc5RIhJ2F2VQTCgr2d6EFalNiUGb0Kk5z1TlTX1QalK/ySC2d5GClvehcGXVEd8D5S2e43WEspY9IJ0cAUfAEXAEukOAvhjDF39SJnWX+2A54TCA4wCOFoccckgYAzCMYFBhy5Orrrqq9gWMMdPByUKV3GCDDXrGI1ZiIdvI2YI0fD8cVFhtDrHivMpJEedUVvhWySghg4p/jOVsA7DkkksmU/BO5IscuQk5ibLkPJN6OXISYdaRlaZC0UEEL+qOQXzYhFzEN0wRdUfGzJXxiHjDSuymJFmyihdS+eAwxbeeaucutrjL4f+p5i1hyQr52NlC93KO4A+vVvURVXnJ0Y0xwzpbkB6nPfpryPKmnC24jnOFnC34jfHC7l3/whe+kMutqAn/snVJlbNFq5eah+Apyp/CtA3/0E/Tl9HWh9Wfqc9adtllTU36n+q5pn2d2lubKIcPf/jDe5heccUVPWcLSsmK41NOOaVXYMYmEdtQQoyNGHasjHPjjTcWRM6BwFZ8HS5k/mvCdziIUNYuiHo0cbboeqxuw4/q75uM7U0xyu27xKu5PM6WAsuXEVSGSWCK80zOe6aiPnxH+iIw4XzUqE35wJH+IkfmQaYCA75bW1Jffks5FvUjdH7oIek/c6huLKrKhy3CkAnAI6d+8EWdrNmkv2rzLaiH2kLTcShV9yqZgHEHQl6wY0cqj6prYImzXQ6eqbyQsfk2uXyQ21d2wd8qf1N+atLv5/aRKkMuf/Cdhi1zUbY2c16Npam5E+VuO6fP5VHGUXhR7UNYVx2b8oGeb9qXN50L5fLAILKq6pBzBH94jnI2oVw8m+QZp9G4E0eXjdP5b0fAEXAEHIH2CCzW/tGpexJDjCWUMKxqEWGcYLuRo48+WpeKGdG+rigo3vve9walmSZFJOZZwscdeuihE/ZHJj8GSohwodzHucMKIgjre++9dxCUWWHDKhwRz+A5/YMf/ECXQvmksMOwct99902Y4PHMqaeeWnzzm9/sPdPkhNXM7FeovHmGScR1110XlFEKdWrrRBpWCxHWHWJyiiFMkwcUSHVOKyix7F6VrCwDH70rZNrn3/ve977e+/ok9duOgCPQB4GU0xbhie112rU1itgsUWwQfYAtPFgt+pvf/KZWGUHe9DkPPPBAb4sD+pGXvvSlIbwze1rTp6WIfhQDxsorrxxW96Jsv3l+KOlUeq7Rb7OXPEYKIhj99re/rUo60PXcsjXBDQcBFCvgz/mrX/3q4CR4+eWXh3rhcLD00kuH8QIPfxF1ZmLE/rIY3HnXK1/5yuJvf/tbccEFFwQnN6Xt6kj5CMeNYfeGG24oKGOqX6dclI9yUb6YUB6gfMDwhgMIhIOdlAqECbdOefDK17/+9TibCb+RBVZZZZWA42233TbB+Dch4Rj94HuKvvzlL+t0gSMrrxjrobXXXnvCvth8B/azR1nCuQjs2V4t3qIFHNljFzrooIOC86qVX+DTE044IRhe2a5l03I/bq3e4xnGe7Y6uOiii/gZiG+rbQOIfLXHHntMcJQlTwywyB1Nibogt2Fgk2zCs0TQQp5Rn0GfgCMOaeC17bffvmcgJv273/3ugtD1EO+X3BMuRP+IHrLGGmuEOmLM22effRaoB8/burP6n1U5EKu0YwdgvR+5THtHUzdkPcp8+umnh/ZGPVRPZFOihFEvZFHKRdvRffL67ne/W7l9Hm2PZ+M8L7744uKwww6Laj3v52qrrRaix6iNcpVywD/WeM51fsMzbAFwb4m5jBUoucUHpBO96lWvWmBbAMabk046KfQRu+66a2j/1O/Pf/5z4B89q+PcuXMLlFLwH469+lb0T2C57bbbTjAa3VP2TfuX3xAjbExNeSt+Tr9xOKYvAh9CVMshgfsYUtieA+Jojai8FwcGjnxfVvFjtGS+AMELJ554Ypgv6FtzHazBCiIy3B133BHO9W/jjTcO5bBGs7idKG3qeM455wT+uuaaaxa4zRhPu0JhafsBOV9Q91REOxvW2z63wAsSF3L4l35xu+22C7nQX6DEj7egsLwGn9QR+IM9fS7OO+obaQeKmNCGf3BQoVzITvbbXn/99cH5kLYzKIEDTnx2rkpfgRMCfTZtR6T2w7WmfZ2eRc6L58T33ntvkEuUpt8RDMCU47nnnrtAcvpYxhHIGt6Wmu8UiOxh66MMbi9XmItyDVk5fMecGTkJ+WerrbYq+vVx/fhO/Rv8AB9DM4cwVgubNvyI4Q7ZzTrjIbshZ4ABc4ILL7ww6Ex4T4yR3q3x4w9/+EMYS+lDm/ZdbXicMp5xxhlh+znaLm2CiDtyBEOeiCPwbLTRRsXs2bNDkU8++eRa3Yz6DPpo2gZ9o9o4YwTyepXc0VV9GEOa9nuM1yyMibdsZFz53Oc+N7T5lb5/v2Ob8lEX5DWrm+I7Y/iFZxnHYkJuYz6mxUOMZejnNGeJ06d+I3voee4jh2usRr6+9NJLe49tWUbn2biUqS2vw5s//vGPiy984Qu9dDoRX9WNRUobH5lbsF2T1Q1SP+QRdJp2rqln6cPge9o57QTS+AH/IseLUv2V7uV8i9xx6Gtf+9oCDgrCG9nq29/+dpgrWZmAPhWHfivbMofVc8y9kIH0LekL6BMsIYeT54xSv2yd/pEvkbVjmcw+a88ZY5gnwOM2H8aRb33rW6H8Nv0gfWUX/K2y5PBTVb9PXvA+95HT1EeKxxjnwRkskXOhXP4ID83/12aMs8/Xnbed8+p71s2daHs5c3qVsw2PYj9gYavlRfrKL33pS8mILzl8QLly+vJ4LiS7zqA8gL7DOj7Qv9PfYsOB2NpSjrrhgvmXI9cRPYe2Tf+n/pOsmIseUb4PXWdMuXjGz/ObdvSZcgHT8vMXVjBeaJ5POYhGtP76608Yp5BL0NPSL6Z0eKn3+DVHwBFwBByB/giMpcOFXb3AZAFhOiYMCyi5l5kfXYK1WAh1GkQIgYuQHBOTJBRxGHoQ7jBkQQjEIoSQvfbaSz97RxQOrOoirZ1skYBndt555wIhn8meroWT8p+dEOoaz2DYwPDGhLcJoejXpMKmZ4BldQ4DKWF+MU6hKPzMZz7TE3DXXXfd4rjjjgte3ii1JPiSD0rfOpo1a9aE23wTBHuU+4uW7762dPY488wzg9PHhITzfyDgWQUaRmA7EUo949ccAUegGgG7GlCpmETxJ6J/e81rXqOf4YjyH0UK/YUlhHFCM6OkTBGKJAxOrMpFyYFR0SqR6HsxhFjFFe/Sc3GeGBswotGXx4QylgmT+ij6VvpVJhHq4+Nncn/nli0Ht/XWWy+EvWb84k8TMYxUjAXyNqeOKHhxloOoJ5ig5GKihiHYEt/mgAMOsJcGOmeCL6O+zSh+Dwo8FNB8b4zeMiLrGcYWDInQGeVYcsD8EPQyOGAgtc4Weq7uyLs+NN+IyTgWv7Pu2VG+xyoICAWHNczGZca4Ds9B1pDJb3iACBAx8Z0I2Y4CGMxEVr5JyTbcR1GL4WCllVbSY70jigvkChSNKott+x/84Ad7aXVCnvA3435KhlM6e0RJjrImJvJAQfKRj3wkGAaQs3ASw1EIjJBFUMpCyCRytqAdIRPVkZQyHHm/+hw9Qz2oO4YiGfas/GfP9YywUbvXdeWNsTwm8sEBgj4YB9f4WX7TVlGap/ro1VdfPc4yyKk466AMir8ROKN8it9DOVA4gSOKJJGUc1Lw6HrVMc7XpuMd9AkYUJGrl1tuueBYYR29MGDhbAFJpta34jpjQUxLlE4K4IdzRNy2mvJWnKd+0x8z/lF2+M4q0jbccEMlC+OtfTffRVjoGfIQiVfEG7puj/E92oP6VpuO6zg/peYINh3nzAWqiG8i7K2jI0aGOlK7I03KkaPu2Rz+tf0ZfCl8U/lbrFP3uSZ8aStVlMs/OIHFspfypm0RxWiHHXZIOhAoXb8jvE5eMYEH34J2zxgvUvvJ6et4Fv5OtTecG5iTNiVkPTmwpJ6x+J933nm9JDuUTit1hJOMiH46h3L4Tm1V/KZj6n1N+E59qvIlH8vbXY3V5NuGH+EtZI24LpTb8oMtv85jbFRXVonHcw/KV9V3teVx3vfGN76RrHuEs48cLhiDY4cL5FhRP3lVfcab3vQmPdI7gtfM0nEGIzYRzCx1WZ8YY/se+834jvRfqfQ46M8pjaGMmXZhk81r2OdtyoesSx8aO/ZRRwy7GNRxRrEOWjhnIGNZ4jvmRsVJ4ag8Le44W8wqdXwxwZvMEZEncFZl7i0SX9m+UPfqjvAheraYyA+jLA4XO+2004T5NjwaO+zwPPVj/OA55qQitWG1cV3P/Ra545DFVO/UUfdsv6ly6qi09iicdYzTYkilXSh/+yz8gi6Yb9fP6YL2hQ4k5lPyA0d0HbwbRxuRypLbV3bF35Qjl5/EE3HbAD8M+bEjpHhMdX5YiYUolz/0XJsxTs82OaqOpI3nU1yDB1NzXn3PurlT7pye97XhUXT5qTELh13sAugncEIS5fJBbl9u25fFty0PWGds1YEjegI5W/Bb34TzmGIetvdtedHPoQdNpWcuyiJT+MQuyMjF077bnmPjEj+xUErOFqTBmZoxMCbKzriDDtLOC+J0/tsRcAQcAUcgD4F57sp5z0xpagZ9O3jhCW49rG3hUAajiOGPSYMMcUxwY2cLvGktMZgzwcwlJhZ2wI2fR+DLJbxm7eqRqucZ3GeXxrk6QojAMxTCMGI97ZlYIFChTEe5IcJAagUsXbfH55rwrlzH+IVygoGbQZ86IACkDAnUDccSESuoWYnn5Ag4Au0RwPjHZJ8/jPoQfaWucbTGEr2Jti6FJ45Pt5Sri1H40K9VGeD1LEccpVAEMzmiz2WVI+/nt1V60FcSwQelEkSEHyYGGAxJjzJSBuWQYP4/+jBWUlKmO++8s3cL5YNV/vRutDhpU7Y2uNHnUleNTRjqcLYAMwjMreJa+HGkv+c5Vl9ppRaTSTtpbFH13iOsUJSzBd8Gpw+Vi+v05yIMJXNK5RPEhPw973lPOOcf/IAhHMKJRs4W/MbgAxGhhAkgZT/22GPD5JB627E+JDT/GJ8fXvIQDh5xyHuTbOxONdEX1lUVoP3iGMWfbcdgKGcLeAMFD4pWFPniM5SlMiyk8seZgzZGpK5f//rXvSQ4W8CvrL5jNSTyjO7Dy3XyDSuWeQaHD1Z3ilAw1MlMSkc95GyBIQSDMnKGtjeAV0gjQokpZTorFiXT2Pbx2c9+tpdGz9UdqSNGGRwsMFyDL8T1frJXXb6pexg3kFX5DrwT3CEUVtSV+6y4I/IYGIg222wznS5wZEzAMQWnLRTCyM8Q35WV2SIZWXgPacCS7wS+WgVJe63iIfpmVqNjPIU/U8Se2uTJn+iyyy4LvxVNzRpVY9mRVZeilIMJMj2roeBJVoezegyiTruWPGgpl7fsszrnG4mQdy1ZbIl2YUlOCHzf1Kp+0tK/CytWRkE4o+iaHH3Cjfn/+G6MSRjtWUEnR0cU+3H57HN15yjFWbWOsxY4QinHzqo8WLkFUbaqulY9y/Wm/Bvn0YTX4meqfoMjxlbaj+qeyz/MY+WEAxa0kTeXxjfau6L0kCblNFNVrvg6fEVfATFWMD4zDlBuObEi52E0S1HTvg4+sA48YMPYTZsjek4XhExBP6gVrmBG1IQmRL+v8RBsJSs1eVZpRoHvVJb42MVY3ZYf+SYau5EPMS5gtGWVuMaruLz9fsN3TfuuQXmcshC5jwU29GmsaOXdkO2z+U25ZHhnDMzRUeAAiixFe0aulr6JtmfbX9f1adrv0X+pP+cZxgy+JboY1R3Zbaoot3x8Kxmx4cNvl87g9K84DcupkTmelVeZP8rZAvkFIzByEnIeEbZyiH6WsVltAHlVYzVyEcTqYjlb0B/DH6QBd/prCDmM9lRFqbEolRY8pGOD96gbMhaGN0VRog/gu4vgS/W3zBtwpqReOGbcMT9iEH1ryiFDeXBs8y3i5/vJ3Iw/YIf8KBLeilih6/aIzE465rcQuOu5OocqeAc86Pv4xshZ4Il+RE5a3FNUM/vO+Jw+Qc4W8CbtjGvkKf6JF7QpD7Bt2ld2yd9t+Elljo+0MTlb4FCNroB2SrQBzd/iZ+xvytKPP0jfdoyz78o9bzPnTc2d2szp2/Ao4w8OPhARu5nn0h7oAzUu4qQIllAbPsjty8OL+vxrygO0Sc0tyZIINvR5yKq27+jzuqLpuGp1WEQInV32N9SfaBMQ5ea3qA2eetYekfUl8yK74mglQuaXswXjB448jI3MEdXeSLPqqqvqET86Ao6AI+AIDIjA2Dlc2OgW1D1XeYIQwupOEZMPBhwU9yivEXZETK7tPrG6zpFVMgiFGA80OdJ9hGQmMuTJql9LcfntPRQnPMMgbcP8MwgzUPcjhHTSilAeMKFk8JWCjXtPK5VwWkWLok+CFPdQMthJKNeaRNd45PyVhqSHNHmf92vef8pGGRV2WPeYpCg9BmEmdE6OgCMwGAJEsmByxJ/aOEK/rnGU85XexDU5d9F3sTpxs3LCxaTrgfmRJuwEQc/ZIyEA6Vfx3J45c2YwLBDSmkmK7YfolzRxY/U5xhgmQ2xZwPtwvrD9sX0HCk/K9oY3vKHAwCjjtIwYNm2b89yyDYIb3wl8pFzBeE49ZMyJFb+qD9FJMEIyQQY7GWpwhrArAZQ+58j75XSDMVMhDrkuQ9k666zTm7iRN8ZRvjGEck8TNhQnlAceZLy0pFXS8BxKb3CcMWNGUHwyDhEVSUpu+xzjMp74YDbdPPE1FmJQzSUUCkTognie9s2EG5xQnqNAEZ9VtWOUV3wLomDBi6x8VP9BvjhYYLS75ZZbQrtjFaGIFTUpIk/C1/MMbRdHByk4cDChvdcRsoNWl9KHIKtxpJ8hOgZ9BYQDD4pFCFlCqzrAFKUVRnqU2BCGFutwGi72+YfiHicCnFWJoIGcJyIKQ1cE9hhfcapQNDI5d/AOFCXcR7lLPcGAa5CUt+GH+YdSGUco5EIUKzjNyBGKZNZoilFdjj84QAkneAnlmwgZOCb4i++DAYvvPsiq2O985zs9fqW/saT+Bd6UYcjeR64nMhtjAwavd5WGDLUpnIAlA7fhLfsencOPyt/22fRfzDtEOBHK0YxrbKMF4TwohVe4MMA/fQPGcOYSGA/sXESOS01fgcIOpx7GacYr+m3GZpzu7OqsuvzYIkZbcTCmqB+qe8bey+Ff+1yX53wfjMwoJ2k/GKva8A+8C99iyDrmmGPC2AmetBUbJUSK0TZ1wHmT/OkfaI9XXnllwJxy4+gqUjvSbx2b9nUY4dRXIBuADbIJbe6QMqQxzpRtCcMghif6Evp/xjccjjBKNeUfu3K/LnpGVRlHge+qytbVWN2GH+k/FZmTMZ0+AhkUQw2rsRnv21BO3zUojyNjMwaie1H4cMZ1CJnV6oowRkk2O7+UdZsSfQQGHWQpxgj6PuQnEdG3RMOoj/KuO+LcDtG/sQ0JYwbfEiddRZWSw2pdPsO6l1s+HCc0xl511VXF8WUfQv+KvhC5QPKsZErKbR0bSMP2v+ABPyA3aWzvqo4YuSBkWGRxOU2DO7/lBMD2kjJI23enxiJ7354TJZe+EyIaGHVjXPjlL39ZMNdVXyrZmXTI5IxtEHMs+nHS4ei2T7kyW8/ISSUkTPxr8y1sNk3HIfvMsM/hG8l0yN7IVuCJXpixVrzCfEh9RlWZ0IcyTtOHIk8xR6KfIE9FY+LbSV61+eT0lV3ydxt+suW25zjDQ7QDZETmZbTTH/3oR2HOVqUDUh5N+aPNGKd3tDm2mfPqe9q5U9s5fRseRT8vQn+naJX0gXJqpzzYKaA2fJDbl6s8dcemPECfJlkVpweiHDHWIauixxhEVo3Lx6Jd5uK0bbapZ2sgxlLm0Ogl6C8gaxNqg2f8XuQwzT/phxi7aFsiZAwR82OcvGhjzBG1XQv32bbVyRFwBBwBR6AbBMbO4SI2JPUTxmKYCIltiUFXHu8orxH2LK211lr2Z+8cRRJCIUIygqElBlcmMgxyGDjtYCcDk03POYMyRg7SoqxC4LIkxYa9Fp/bCTETSlYyomxG0Xb22WdPSK4Qq9SBMlrSxIxrCCLUpx9JiFE6vgsY4M0ffyO7nzcr7XAAEWGckyCia350BByByUFAEymcK+jjRBj9jipXC0M4VKj/0P34SP+FAV5EPyMjKddQQqhvpX/SfvVKj9IB54uqVWRsTyFFIGll6E9FxFCeTY9tytYWNyla6K+lYENBCIELJKeU8MP8o6+UownjBvhC9MU4rQxCKD4gvjvKR0sYXDWmxYZyyqAVUyhrMXLLYQLDR+ycqLCQKLZR7jFeMA5qlRC8Zg1QKoeuYeDRdiu6N12O8bjZpF424gCG8piY7Gs7A4yfUqjadCnjtRR/pIuNVtbQXNX+JGPZ96DsEPUzLOJgo7LK4UfPcrSr0eyKUeoiXsKBSE4FtDvxkM2n7hxlGIp7SxiX5OgAr3ZF+kY2P/ZWFeGIFJONNJKSM9muCCW9JQy8Ug5LEcZ9OVvBgxijLLFllOos5xV7H0zUd9nrbc7hLSn9MKCoXkTNkfFe39fmz7eS4cxet04HGsPa8pbNV+d6J+VTNCJtqYBiT4YeRQ5C1lY9+D5dEd9ABhzliZFFhGIvh6hPLOPThpirNCGi5uEgBzFnsn0T+OCIF/9p3FD+OfyrZ7o+opCV3KG82/APRiucmviL2xfjJ3wPVfWnenfdEWd68keOQkayZPsPO29Umpy+TspdnmH1fkyp8SROU/Wb+tv5KOnuKXkOebIJEbJZCm2iKtl+lYUNMc/xO37fKPBdVV1T2LYZq9vwo5U1UluCWfm/qvyp6zl916A8bvshlcWOEeqnuafoPJyf1meLVdKItN2VfnNE7yR5X/zJ9WHUh3z7EX0yhDyu8UrPEDUQ52fay1RRbvmsE9k3vvGNBYotPR9tXYZzOQszp0J3ZQk5qMt5BrIsYypE/6J5nN5JX4qBDiKtdfxRmtRYpHvxkXmX5hOsfLYOl2CLXMw3pr8UPbWMTgsxHrFVoCXKy+pw8q2aoyt9m2+hZ3PGIT0zGUdF5WQebLf60LsZB8EGJ1otYNG9+IgTPOM0Yw/1taSV8Fyz/YTS5PSVXfJ3G35Sme0ReV46fdqk5B6lQW7RXEPX7DGHP9qMcfZduedt5rypuZMdZ1PjVdWcvg2PileJBsg3tmSjiEpn34YPcvtyW4bUeQ4PWN0AeqaYuorIRr7MtZG9ads2GqzeKUd1K2+2wVP5cSTakBzgkC/oW+I5v/QEpLeRP/mNHoVxgL+5c+dyyckRcAQcAUegAwQW6yCPSc0iFgKk1GxaCOvdxzOs9rHESj4b8tdOTGw6e66VxbpmHQYQBlBMyrCkNPExFrRRWCPMyztaStn4Of1GOWkHbpSjVjhTPko/Y8YMnYaV1K8rV36yp5glykRYxiYkYwhpKTfbuWiCisBo97NThAswYZIhIr2dYOi6Hx0BR2ByENCE67fzjf72rSgitWUH/aKUVjYN5/R3is4Q39NvDHrqM9oI9lqNpvykEIqNQrqfc2xTtra4/bt0tBDJGCflmww7UkgonY5acaDffA/yAAOFE9S93KPGG7Y3YZV5FaXGR/p0lIU4ihCxAmIix4qPOkJJJSP8kUceGRxIMNIxXqBwlGGV1V8YieAzOZnU5Tuu9/rJDKl6abLNvZQxhuvIFlI8IAfgVNmPZJQnXSyDcQ1FmXiG300IAzTfEP7uZwC29SIUM6v+qkjyhe7j+MPKfGRF9TlE7WpqtFM+VUcUGhgGlXdVukGvS1FFPnYrJeVrFZOxvKc0qSMKdb6d5Tc5UpBPqn9WWh1T+XZ17ayzzuqFrSZCCQru177mNb3s6/qnXqL5JyhBZTgSnwzCW3H+9HMzZ84MvMCKaIyOq85fKcS74XMUoUShgSc5im/kNBjn2dVv+B2Znvfl8AfvxxCIwp9xjr6DaCP07zg+co96VhEGF4Uqp73b8LY8Y6ND2TyYV2lct9fj8xT/xmmG+XsQ/sFZA2MXxhD6JzuH66rMOLvggEkbp6/N/fa2HKm+7vHzt59k3iuZxT4zyDnjO0YZnMFYcUfbYfEBUTSQA2yfGL+HyAEy9sFLRFWyVBUNjYgjTeox1Xxn62LPBxmrc/hR/SfvlqOZLUeX5/36ri55HIcVvj98J6c86iJZl+0lmvBHv/qTD3ONlEN1l/XpVw7uE/FGTta0GyJXEVELmZ2/2GjTJM8u0+SWzzrwEgksJjunYq6ETKzvkLt9SJx3k99EtdK4XzWPJgKcVpzDB+cbuwAAQABJREFUJxiMByF0m8gkjDFEZqNN4QyEzKJtTmz+j53vEBI76ykNfXATavMt+uWbGof6PdPlfRmcMWpq8YHNHz1mji6TsR/jLN+Hfoc5vPjD5tvkvKqv7Jq/c/kpVXYbUcU6Q6bS5lyr44+cMS7nnU3S5sx5lZ+VL3Pm9Lk8SnrJhk8s5VEb7UBl0RG9kCiXD3L7cr0n95jiAc1rmYc0dRbPfW+cnnfiwMC8iTbYT0eZi6d9H3KDiC13U3IKiyxwkkOHxh9R5Igah84XpxrrsKu8/OgIOAKOgCMwGAJj53CBwGIdEXIdLuKwz7HChsHOhl6T9/tgMLd72jphSFiuyskqBpSmDpvYOHJhubI4XtnA6ma8Z5uQFLmkvbdcgSRnC36jjJEhkN8IHAh27FVpJ76sYGTwh+T9H36U/w4sQ+39q1xlYB00dM+PjoAj0A0CCkefMqoivKudW4et+M1yGIiv299aFcm1eCWuTZc6l2OCvSeFYFslhc2rTdna4vYfs6JF9VJddEwZYVitlFL0YPSgf11++eVtlbLOpfDhIfJSaN5UJqkVuPAO0ZVkWIMf7NYFNh/qrDEgjrRElBStisZpD4cLDFMKxUtYZuvcaPMd53PqxNgtJ56cuthIWKnJNnnZto2jZhOHi5wy5KSVwwU8V0dSHpGmn5E/lh1oRzjWsm0PhGNCSsEcbi6E/7TSFpmMP2Re9Tn0p3UysBR0w4SNyAworCgTEdFwuFhzfuQ5lMs5W5ZY3tfK/kF4K643q5Yk66I8Z6WsHJmJKoDhGKMxCkt4fo011ghZwKNEDhlVIsqIIo1ggGObBxwt+CZsa3VehcMFCnXC6cNHjFcYv5jDWcLgZL+B7sWO7LoeH2P+TY2L8TNd/rZlz+mbMLDIIVHlYVxHxuqnlFX6uiOY42RgI9eQt+SMLt7B+7WdJG2xa7Jtm/ZDVDRW7cF3OF9VGQWITKD5LP19atsxxj3JHir3Q8oTxqQmNNV816SMOWly+dFuc9BUT5BTniZph8XjrHRFXoA/0K3Qp6i99HMcblJu0mg1t8Zarg2rPuRdR0RppV/G6ULRjHBE4A8HRaKKxZHN6vLr+l5u+WRYoxx18gv3Sct3Bnuoyfw1JBzgnxyeySLlPMt126ZsH869NsR8CucJtuGEl9EpMtflj6izREzUAjR4QHj0i2DRryy536JffqNwX9HsrJNz23KBD+O0+hfyob9BFuAb2P6h7TuGwd85/FRVbquHto6CVekHvZ47xg36vtTzTee8erbtnD6XR63eC56r6zftvVw+yO3LhUMXx8VLvQok3VoXedblQT9PZFf1paSVjA/G9rryycVTz8VH7CvIyinabbfdQjQjFjIxh2eO+rKXvSz8IQfMmTOnt0Vx6nm/5gg4Ao6AI5CHwNg5XFA9BksN+AipCKxWkSoICCUoBRiKJgw1TB5mlKs6RRJK9Ds2csTKQaWbjKMdjPsJCLHjCPWVQihVVuu1jjBuw2UqPZM8hLAm4aEpn5xC8Iyn7JRB9I9S6SXFM9f4Lta7mWsp4x3XIfvsvCv+3xFwBLpGQG3W9j2pdyhd6l6Vodemtc93oVCweQ963qZsemYQ3AYtd1fPW4MVoaJTIXn1rioji91qBMX86quvnoy4wPOMP4yz8VjLWA2uYCqjFpENZORlJZ7d/1qGdsZ0on+QHwqWcSPKjUxTNx5SJybzmlCfdNJJYSUiytuVVlopVBmnjZRDyjJl3qKpXs3At4fqZBXu2z4FIxtKiyqKV0rBfzYiBrhijItD+VflN92vy9mFtkbblyGIet9ROtyekdi+RJjYvkLXuj7yDr4pK9OIsoCjhMIrp8L21r1fz5GG8L3QILwVMoj+0aZom6zslNGXfo5oDfzBu4x5hHOlTtA111wT5TLaP5lvsPUVxkj2FqeP1hiokuOox0pa+mvusTVVKrx+HHlAzzc9xvzb9Lmu0rXhHzDD8AXR3xPZiRXNIsId9+v/lbbqSAQIGepwBGJFspzr+Caxg2NVPv2u3zc/GkCdg3+/PJreZ5U3CyJwcGV70JTDBY5O2jqKdscYmZJTcAQahKaa7wYpe/xsG35U/0leyF6x/Ba/Yxi/h8XjRGiTgybRYcQ/9GNdRSIS/9gxdFj1aYI9W8cSiQjZE4closMwXtJXEFUM3Vi8vWCTfEljnZhU79Sz1olHjmFKl1M+6QjJg4g1dcSWHpSPb8s4Jt1i3TOD3pPzIvnEOkjlrb6b302dD/Vs1RFHSf6IrIXzGvo9OdjgdEG/Cn/btqx5VVWe/a7nfot++Y3CfWRkdJhd8AqLEeRsgXPx8ccf31t9z4p1tgkYlIbF3035qar81qlIi1aq0g56vc0YN+g7U883nfPq2bZz+lweteM586p4WyWVh2PsJJbLBzl9uX3voOf/KCPSYEvQNxg0v7rnGTdx9GVMYc6HHo2t3TUW4nye2iqKPHPxVDkY75iP0Gez6ApnyXi7ZtJSHrYGBgfGdmRp9EbI8DzLginkZmsn0jv86Ag4Ao6AI5CPwFg6XDBZIcSeiD2yDjvsMP0MR8I/ytmCCyj0mdjeUK5qITSpiEmHXWG99tpr61Y4ElZxKgiFLQO2qJ/3r92Xi2eoK9EgpChQPqwQjgdRVjVUCSAMuk0EfoQ17RGIgMHWLVKGMymxDhMIgvqzHs4qox8dAUdgOAjQNuuIfhIFEEq3mDAA6Hkp7uM0TX/bMKoofbSypunzuekwDCmUPM8SLSG1hyP32pRtsnCjfBAGO8YHq6zluoweVqHHdUsyjNnx0d6nb2bihhKIvptIRzm0xx579LY0eaDM6+FlHmzrgOI6Xj3GCiGUrFXKFvFbyiAfO0eqjDzDvUENVspvso98O9of+KNwI+Rvil5Tbqug0J5yOKVdYnCCGIOJ2BXTs0rZAmLS3ZUiN35Hk998d8kdscNo/DyGWpTEEJEAckKYo9iQU5eM3YRqxnhnFcvxOwf5bdslhme7UnuQfIfxrJwQ5NRL2TkP/UPZlkbBMYUwtHJOkBILLHAIyyHta8wz4v1BeCv17gsuuCA4XND/rLvuuiGJHVN4H8otonXImFEVISKV/2Rcow9lyxPaDWXjPCb1yYxDtGPr3IVRje0IZUhgC5+cNhu/q+53zL91aYdxrw3/IItobGO8tE4bXZVRW2OSN1s8DovuKJ38nlD2cTjc02eoH2nzPubmciLEEeenP/3pAtnAZ8gLKZmBPgI8IWSYvffee2h9/FTz3QLADHChDT/aiDz0qzkh9Aco6oRHh8XjyCPIVMhhzB1kJMFhzvZzEwqT+UOR46yOZlj1qSsaMj5bXEA4NlJv5kb8wePo1hgHVLa6vKru4ZwnkvO0ftujnIW5JmfgNuWjDuiWGJswciH39SO+A++SHqtf+kHuWzyY/6ZkfG2HxHusM16b98JrGJzBAUMq+SlP5BCcLaANSydQORRJBrSOH/bd6FhZNMUcrm7+3uZb2PeM4rnqJJ2I5tQqK/MyjJgQThRVfQb8qe0U0Ukowq/y6fLYJX+34adUXW644YbeZbv1TO9ihydtxrgOXx+yypnz6t1t5/S5PGr7JLbbaDLvy+WDNn25cOjiyLhOlHP0ZJQFXdewiC3rJKMyf0r18fG7c/GMn2frdmwxRxxxRJh7UQa2odF2vKQnahVjI9+YMZb+Xn0+8jJ6Fvol9EupeV/8Tv/tCDgCjoAj0B+B/1n0+6cdmRQMJpZwksApACMLE0MMDvG+jZq8XR4pcPDuw7kBYiKIZ7+lqj3TbJouzhEAFCqdcymdlHe/vYxRqllFFzgQykpCLIIe+y2jxJJBhryZUFsnEyYOVghhYI7D3qpM9hgrxmbPnt0zprzzne+0ScPeoFw46qijgjc3Ht3xX2wIYcVyv5UKE17iPxwBR6CHgBSGUqz1bkQnCh+KEiimLbbYoncpXkXeu9HwhC2HpKSwUQoaPp6dDOUQEwn9YfyvojZlmyzcbJk32WQT+zMY2GXgsls6TUhU/tDelRr34vv81moHHBJziEgWm2++eXjk/PPPL7Yu94JGyceYlgpJfMkll4S0GOzi8liFo1aAE86ZVXapPxntcfLgPuPfOBKrndU2iNCRWhHIeC4HBPDVhNqOw9r/2WKAgVeG67tL5cNk0YrlJD8mW75+/Yk11u5UseILOYWtZyzhsCIFP04PhOuEkI9iGdE+N+i5NUbFbQhlhuSyQd+T8zwGE9qhJcohp1e72kxOVhicbDvUs8jaO++88wSnYN0b5Kj+K84D510prWfMj1CHor9KLsaYre9u89qk5BGR2kxb3lI+8ZF+T+1XTmFSaJH2nHPOCY+wAolykjZnf3bFjYOHh0WUCQM6Skk7X7Dvk3EM2ULfhvv05Yceemh4lt/I+XUGGdI0oRz+bZJfFa81edamacM/UsSSj7a2UZ4YeNXn01e0JeWRcqzcYv4YTd5y/Gj7HkVAJJ9URClkgqbEYgB4jj/m5jEx7mlF+K233jrhNgZF9q0GM8ZElM9xmgkPNPwxqnzXsPiNkrXhR7sCVjKffRmG3GHTMHmc0OcQ/ZnwaWI0iescb2PLfeQUOQRbHh1mfVSuuN9jWzmcGPl7z3veo2ThiBygRUeMN7S/NoTxjzYJYYimfcdEu1VUEe5pEVGb8snBlTxT29DSVxEpRw7LvE9O6vTH8VyEumOo6oqYg0lfBx6KDmvznzVrVviJAywRigYhoinxfffdd9/gxG3zYmzGOQ1a2iy0kAxIvxo7XYDHfvvtFyIMblvO8eqozbeoy6/pvWHKR6oT72BLtZjYThO9xuxSD1pXDpwtNP6m2pZtD0oXv6vp7y75uw0/pcqJE4jaAfOMeH4C36mfTD2fc019OM8MS+ay5Rl0zqu82s7pc3kUHZb6gXXWWacng6ocHInIYO0BuXzQpi+37x/0XI7vtKVtEv2Wtnhs8554XJWcSl5yqlK+tPWUDiAXT+WnI3o/dHfMv0Tve9/7JnxLHJIZC7AHxQvr5s6dq8cWiEDeu+EnjoAj4Ag4AtkItNfmZL+quwdQZkvJo1xRrGOoIBQTe1dZJRNChMLW4nhhlfsIw/vvv38w+LMK1w6arIAj9NVk0aabbhrCvBJ6yk4EUX428TSk/pZQODOoggnPa4BnwGUSBe255549gZ/fKH5ZmWYJQ6vF097TOc4Q1lGDVQLHHntsePdqq62mZOEoz1mwZYVi6k8GTD2Iw8Vpp52mn350BByBDATu+etfQ2pWouF8UEU4PkFMfFFYi1ZYYYVi6623Dj9xhrJRgZQm54gSiX2BIQw3sYMZ/RP9llYA5+Q9aNo2ZZss3GzdMHjKWIpSWAZkxjtWhFeRnDFQOlgnGpv+8MMPDz+ZNH7yk5+cMC5yg5XbGNLgCxHfijEUYtKHcg8DCuEJoRmloTRW6B555JHhHv/22muvngEXxbPqw/jHqnEIJSBjQepP0TMeLFfAcl8K8/DgGP1DOS0lC0oi9lZmf03aJApklALIM5JVWMEnQmaRIZnVEoT0lxKf1Wh8VynuvnnCCXps6MdZpWyDooY68H62nJk5c2Z4L4r4k08+ubYM8KyUzqymhs/UN6CUY2UGxj76LK3EhHe333773jt4hogfygflj7Z8qH15i5t6B4+ipMKRlzbK+ac//eleu22RdetHUFzSFikD3wC5zDol2Yg/RCQQgS3yNc8gL2OA5z7KYLVtpW17lOzI2MR3FY/a/NQmdC0VvUX3OCL7KpodBg36E3gHop0owkUb3gqZVPxDgWxD7tIfW+MkBg7GGBEGNxmjdK3uKMU53xMjUAqruueb3iNyA8T3IOy1jGS0YZR4GnvsyjjS0850D+cSHFBQMKb+csqew7+Uo4qa8FrVs6nrbfjHRggDS/iU/po+DD4VLoMYG+SAyDiBghWZivbF/Jj+WMR7ByG2X5CinlVxLBxgvogzPyun4/lf3buQF2SA4TmU4sKC/A488MCejABfiXBsQk6RcYvxkXE0xXMaD/Vsv+Oo8l2/cufcb8OPfCs9x3wfAyzfAXwxQu6+++45RWiVdpg8jgyJ7Cmij8bhN5fQw7B9jeQVnC0wyIrsuDvM+lT1exjm5JDP/BA9FO2GtoSz6Iz5Do60ccnY6KdwaqavbxoRQu2VfJFpkWM5R6ZFJsEhW2MMTmx6V5vyoXtSP4KcyZ71jFsQzhT0D2yjixwj3RZbLongZcpH30N6O6YpzaBHbdUoPKSTQ25FruIbQHJKH+R98LIIR+f11lsvYM87cAzQXMI6CtuFbdRfUYXRI6IzRZ6FLvjJT5R18tjmWyQzanDRyiJakKDxo8HjjZNQJ7UZxmzkY4h2wbxczr7gqXaXyhwnZ8mCPEO0ZvpQ5nvwgPLhWfFHKp8m17rk7zb8VFVG6YNpB5///OdDnTkHA/iO8y5IYxV5DUvmsuUcdM6rvNrO6dvwqObh+hbSFdJPbLbZZkGnA78TLQTK5YM2fblw6OJ4yimn9Not/T/tzcqqOc7BKo/adzx3lcMg6TbaaKPQR9C3o3NAD6Oxjv5JskEunipDfGRufF4ZmRCin0YPJLr44ovDKe9FR8fYCzGOW/2cnbPi/Md4AF5OjoAj4Ag4AvkIjOWWIlQT5QpKwH5e5wizKGm0qpdnEWQJk6gBj2uacHAOsWKL5yabmHzGhGEyjvgQp+E3ily85bXyVWligZVJyZ///OcC4cIK9EyomQhTd5SIwhZs2Fv0kEMOUZYLHFFM4FWJYkHvY0DXuR7ASHfRRRfppx8dAUdgEhD49ne+E9owSiecr1AW0N4x3mi/a4qBwK+VP0wMUFaxkhgPbfVNMsYPWmyUNii1MCpjgMW7+64yPPWjSkMSEzz6DynJBn1X7vO5ZZtM3FQXFNs4oWFYQNEjBdh3ym8tA4jS2iP9NN+V70n0IRTj9N84MbK9FIRi+c2lo91zykgnrHbgN0ZE+nOMaXoXThtS0jEh43sx5pKnFEk4f7ziFa8I4w3KXJz6ZCxlqyzGLVZDEn0FJwmcNchXY/KZZ55ZxA54tj7T8Rz5ZM6cOUHJiZxiJ8K2viiRrMKee3xfFMm0K5QAc8tVC3wLtV/SnHTSSZ2sOievpoSihj94jbYtoixSXupa6og8hkIOBQlyC846cb1Q6EhRgDJB8seJJ57YU+CTD86p4DGsrUVQwtCeiBQEH9PH2n42Vb/JuIZzihyZ7PtwENHqH67DV6zmRZEMhkSQY393SN8OA1Rqf9iQKPMfDnyscKNP47uStyK+KSsMuzbagpSDuh8fwR1Dc8xv8EwcujmXt+J3xb/ZF15KeEXXUxreT2QOyd65UfRQpMFXfAfNUeB160iudw1yZI9fvgV9OlFxjj766PBd1KbImxWKKMVFKMmtYQClJn9VhCxB/9+UmvJvXX5NeK3u+dS9XP7BQROnRXgUhwf4NEX0dXxneDiX+F7MxyAcOuR8FOeDI8MgBD/jcK9IZYzx/LUlHKXmlGMf9SYSGcZ73mH5TqGQ9Y7Z5UpiGU65hlNJHSFv5tCo8l1OHerStuVH9AUY3vk2RGaJF33UvbOLe8Pkcfq2G8qQ9+qn4Tn4sA2ha+GP560chrzCn2iY9anr9zD+04Zoc4y7/MXjpnXixoFUBnjSKnKY6pE6wiurlDyC0yPjPIt9UoSuK170k1s+5AfGFuRm8Gb+wV+MP4t95JiBzotIWvST9MtV5UuVuc01ol4x78GBAacuMIzLh1zWBNt+78c5ii1E0A3STzLPI/IH31sEZuhVRThcsk0QEXCZg9DOY57AGMzCiDpq8y3q8qu7xzxVcjaLCfhDjrXOBnXPN71HnZCNwBD+knxs8aT/aPLtkOdwgIFwEpGjSFwWHOYHoS75uw0/VZUd/sF5G50PugUrT1Y90+Z62zGuzbv0zKBzXuXTZk7fhkeZYyHDP+UpTwl9NIb6uE/CEY45O9SGD3L7cmHQxZG64IjCWAfVtbeQoMG/qnGV+T8OVcj3zKHoI/hLEfM57CJt8EzlxzV0JczbeD9zMvpF7C+M44w7RLcg+hb6gLhfx/ETnYmICGbIeCyaoR21mY8oLz86Ao6AI7AwIrDIuFYaYZZVAgwK8jC0dUHYwEseJbEN+UoaDDp4aKIUJZ0lBmQGSu7bUI9ct2R/23PSxHk2GZwwkFkPXOXz7XLlJxNVUfyuOG9WTzJZxUgaE9uOYIxDmUU+GFYtIUQpNDDOFTZvDKPywrTP2HMmqzhm4Mxhn+UcoyCGIevBaZ+Nz+3z3IvrHaf3346AI1CNwHHHHVfwx77rtC0M5ihR4pBy5IBw/duyD4Qw2iKwo1TAKErI5rPOOivci//VGfnjtPymr0GZLoMTk5InlRMAvMBRXBDKNtWPxX1DKu/4Wm7/0aZsObg1warOCE35WDHGJAhjgBwg6MOZnNcRkyn6aY5gybclH3C3tGM5PjBBYzxDAcl74BfeBZ4ooOnrIRRPM+avhMPxAkW1JVbJa8UaxineKcLYdMbpp/f4En7jfZSN8R1F38JGKIHBhRUZyDoxcQ1HChnU7H1wRu4h0oX4XnjDd8gAdjLNs0rHeSy/xPf5HVO/NonSU4ptKSUpC4rQ2HBuy2LfgyIeuSxVL/JGcSlnAlZmylCCsw6KdRH5gAEE39vVpkpjj1XlURrdjzFAeW2NKUpPu4ujNeiejspTvzna/Nvch5f+VCrILZEnK14+8IEP2MvhnG+DPCn5mu/GH+9GnoM/rZOGyqfjAhnWXIAf+/WJOHYxfkE4alGGKqIM1Jeyit9IiwxMuePvksNbVe+01+0WIqlV0fCqyKbVNft97Tn3ifYTO6CpjsJeR+UXH+M84/v85rvTr9PelB/tBeI3jk3MIdSuua5ycN415fCvrZ89p0xNeK2q7HFeSpfLP6Snr4q/I/nDL8xBRWw9A9l323Oli4/IVTgWxXIEv5lTql3bKBr98tV98YPeySpVjEvxu3iHNXbpeT2XOqLAZgWq5t/wlPiOsen0UlaI+6tR5Lu4bm34Tjj/zyw6kQ+6Gqvb8CP1Q2eBYZrnLVGuWMbQ/SoeUF11VPr4aJ8fBo/b99l+GsffNkRb1lglOYw6YmCRvKJ8h1mfOv6j/RLtiu8o/NWm6N9xqLKGdcZPpbMreVWPquNu5bwDnVZqrKfvwMAfjynklVs+nsGpm2iudqs04c+8kn5JhkPSQ8w1kFUtj3GdvmiQiHnCirws0Y8h/woPlY/0jLs4UlZRXMaqdLqOLIexTPMJfV/uI5Pi6Ba3Yxy/wUl6QT1DeeFfHNvs+K962v6K/HO/Rb+66b7exzsgxhscS1KkZ7hnz/kd58O1mOI08APfT9FDhQ15M/8lqoqiqMV52d+MxYz5cZnIl4UfIusYqbLoqDTxMc6zS/7O5ae4LCor15EzcQix9eEcHb10QNbltCovmyfnNr+2Y5zyiHla76o65sx59Q4d4zzbzOnJow2PMp4ja8d9Er/R+cDXdgFrLh/k9uX2W1edx3jxW2ljTBnH6ddUPz1L36Gou7rW5Fg3riLHphzh4fUTTIRR6Sp4Xy6eqp+Otsz0T6onTpJE9aSe6P+IMK576rt4Fie/WC7RGGrlA/seP3cEHAFHwBGoR+AhpSHdyjH1qUf4LhMVQv9hRGS/dxl3mhQZIxLe+igPpORp8tygaTCAylDGhAZvWEIfE9aRAa5qf+qm70VJhfc8xisG/VgZ1jSftunAFGWeNZC0zcufcwQcgQURkMF7wTuDX6EvJawzBnCE89iIPvgb/peD+m9WyRFJASe52Bjxv9STe5ZbtmHihgIRxw7GC1ZssVKMlbKMd4SeHVYfz9YhrPxiUsdkEaOIJrRdfg088uEBxisU1ZoQdvkO5ZXaW1v3Ru3IqjTkAgzOKD2kAG1STlY3sGIFByYi2qQm5k3yyU2z/vrrB0Uaz6FEQBGKUw/fmL5kUFkLQyROQCj/MaSPKvHtkE3BnbLmfLth1Am5kBU1lCN2PKh6H3VAlkRZD/8NgygXEVno05DhY+U/sjErgFEOYXTlPCYUTC960YsC1vSTEKFSUTTRnzSdF4wDb1Enysm8hZVRwybbjzQxJAyrPG34Ny5LP16L0+f+zuEfHNnpHzDKMrYOg2gDKHVRpsr4O4z3kCfyItERc9pbVVn4TvQ7rHylT5hKmXAc+K4Kx5zrbfkRuZftvHCMQ85g/i9nWQw4rCwdJg2DxzEoE1UJOXTLLbfMKr6M+UR0wwmaMZQoboyhTcbdYdSnSb/H+Mo4zIpzohxUtTm+N7qlpmNqDB7Ps50kOiLGk6b6rqbls+/TM5SXCK8pRyWbnnPpr+jHhjWvsu+k3SEbgzfjwDDfqfkEvMg3xgjXj5DLmJvdUMrubO3Yltp8i9x3EfERHqacyEfDmKvaMqHHpW3nyNT2ec7RMzBuUnZ0pk2+SZxHzu8u+bsNP6XKSv/EPJe6M94zZ8LRi+t8x9QCg1Q+/a61HeP65TvsOa/eb2XxpnP6NjwKTvAJY7qM7ipD6pjLB+oL+o01qXd1cQ3bD5Fj0GfhRMIWpGyLBzH2N53n9BtXmbsy1kGMJ03GH9Lm4skzucQ3Rh8gm1PVuIPD1yD9fm65PL0j4Ag4AtMJgWnjcDGOHyXlcDGO9fAyOwKOwNQgMEyHi6mpkb+1DoHY4aIurd+rR2CcHC7qazKad1PKp9EsqZdqHBAgEgkOgBCRTuwqK5U/5XChe350BBwBR8AR6A4BDD8YwXCsiJ2+9ttvv2Cg5W2s1MaIOE6E4ZNobRhCKbtdbd6kHrHDRZNnPI0j4Ag4AgsTAjgCEA2QSC/xdtNsa6utyog2xDYJo0w+5x3lrzOvbGz1OHPmzGJOGenbLn7A+YMo3DiW4aDFdkROjoAj4Ag4Ao5AFwgs1kUmnocj4Ag4Ao7A5COA57RChE7+2/2NjsB4IkC7cXIEHIHRRoBtplj1RxQfOVsQ/SjlbDHaNfHSOQKOgCMwvRCYUzpVLFFGH2E7GcLis3UAffYb3vCGELWF2hIaf5ycLVj1uuqqqxazZs0KzhYYX7785S9Prw/ntXEEHAFHYAQQIJIAERg5rrPOOmHLPLYMROYniidEH8x2OE6OwCAIEEmD7VZxrmC7vbPPPjtsW0M0qa222io4W5B/vy0/BymDP+sIOAKOgCOw8CHgDhcL3zf3GjsCjsA0QYAJhDtcTJOP6dWYNARoN06OgCMw2giwum2DDTboFZJwpwcddFDvt584Ao6AI+AITA0Ch5SOFuz3zVYNrBzlzxJbcXz8E5+wl0b+/HOf+1xwtFBBzzjjDA+lLTD86Ag4Ao5Ahwhg+NZWKjhVy7Far2BbEbYPrNraSOn86Aj0Q4Dtr4gsjnMFW1ltuumm4c8+h7MPW4A5OQKOgCPgCDgCXSHgDhddIdkin/vKfccfPd/ww97sTo6AI+AI5CBAOEZWZDGRcMeLHOTGM+1ll11WEMb5rrvuGs8KTHGpiWyBswXtxmm4CCDTaK9Sl2+Gi/V0zV17b6N0Za/iI488snjwwQcrq3vPPfcEnhPfVSb0G46AI+AIOAIDIcDe57vsskv4Yy909gNn9Sjj/TXXXBMiX9x///0DvWOyH2asgZhPXXLJJcUxxxzTqgg4m4CFR2NqBZ8/5Ag4AgsBAsjsu+66a4g8sMoqqxTLLLNMseiiiwY5n22qDjvssOLmm28eCyR8zjv6n+mUU04prr766mLLLbcMkVVwvGC++PdSh/rjCy4Izj2jXwsvoSPgCDgCjsA4IfCQNdZYY97scpxK7WV1BBwBR8ARcAQcAUfAEXAEHIFpi8Cyyy4bjFbjZribth/EK+YIOAKOwDRFAKfcx5XbpNx6663TtIZeLUfAEXAEHAFHwBFwBBwBR8ARcAQcgWEj4BEuho2w5+8IOAKOgCPgCDgCjoAj4Ag4AlkI3HbbbVnpPbEj4Ag4Ao6AI9AGASJbuLNFG+T8GUfAEXAEHAFHwBFwBBwBR8ARcAQcASGwiE786Ag4Ao6AI+AIOAKOgCPgCDgCjoAj4Ag4Ao6AI+AIOAKOgCPgCDgCjoAj4Ag4Ao6AI+AIOAKOgCPQDAF3uGiGk6dyBBwBR8ARcAQcAUfAEXAEHAFHwBFwBBwBR8ARcAQcAUfAEXAEHAFHwBFwBBwBR8ARcAQcAUegh4A7XPSg8BNHwBFwBBwBR8ARcAQcAUfAEXAEHAFHwBFwBBwBR8ARcAQcAUfAEXAEHAFHwBFwBBwBR8ARcASaIeAOF81w8lSOgCPgCDgCjoAj4Ag4Ao6AI+AIOAKOgCPgCDgCjoAj4Ag4Ao6AI+AIOAKOgCPgCDgCjoAj4Aj0EHCHix4UfuIIOAKOgCPgCDgCjoAj4Ag4Ao6AI+AIOAKOgCPgCDgCjoAj4Ag4Ao6AI+AIOAKOgCPgCDgCjkAzBNzhohlOnsoRcAQcAUfAEXAEHAFHwBFwBBwBR8ARcAQcAUfAEXAEHAFHwBFwBBwBR8ARcAQcAUfAEXAEHIEeAu5w0YPCTxwBR8ARcAQcAUfAEXAEHAFHwBFwBBwBR8ARcAQcAUfAEXAEHAFHwBFwBBwBR8ARcAQcAUfAEWiGgDtcNMPJUzkCjoAj4Ag4Ao6AI+AIOAKOgCPgCDgCjoAj4Ag4Ao6AI+AIOAKOgCPgCDgCjoAj4Ag4Ao6AI9BDwB0uelD4iSPgCDgCjoAj4Ag4Ao6AI+AIOAKOgCPgCDgCjoAj4Ag4Ao6AI+AIOAKOgCPgCDgCjoAj4Ag4As0QWKxZsuGlesxjHjO8zD1nR8ARcAQcAUfAEXAEHAFHwBFwBBwBR8ARcAQcAUfAEXAEHAFHwBFwBBwBR8ARcAQcAUfAERhpBO69996RLl9V4TzCRRUyft0RcAQcAUfAEXAEHAFHwBFwBBwBR8ARcAQcAUfAEXAEHAFHwBFwBBwBR8ARcAQcAUfAEXAEHIEKBNzhogIYv+wIOAKOgCPgCDgCjoAj4Ag4Ao6AI+AIOAKOgCPgCDgCjoAj4Ag4Ao6AI+AIOAKOgCPgCDgCjkAVAu5wUYWMX3cEHAFHwBFwBBwBR8ARcAQcAUfAEXAEHAFHwBFwBBwBR8ARcAQcAUfAEXAEHAFHwBFwBBwBR6ACAXe4qADGLzsCjoAj4Ag4Ao6AI+AIOAKOgCPgCDgCjoAj4Ag4Ao6AI+AIOAKOgCPgCDgCjoAj4Ag4Ao6AI1CFgDtcVCHj1x0BR8ARcAQcAUfAEXAEHAFHwBFwBBwBR8ARcAQcAUfAEXAEHAFHwBFwBBwBR8ARcAQcAUfAEahAwB0uKoDxy46AI+AIOAKOgCPgCDgCjoAj4Ag4Ao6AI+AIOAKOgCPgCDgCjoAj4Ag4Ao6AI+AIOAKOgCPgCFQh4A4XVcj4dUfAEXAEHAFHwBFwBBwBR8ARcAQcAUfAEXAEHAFHwBFwBBwBR8ARcAQcAUfAEXAEHAFHwBFwBCoQcIeLCmD8siPgCDgCjoAj4Ag4Ao6AI+AIOAKOgCPgCDgCjoAj4Ag4Ao6AI+AIOAKOgCPgCDgCjoAj4Ag4AlUIuMNFFTJ+3RFwBBwBR8ARcAQcAUfAEXAEHAFHwBFwBBwBR8ARcAQcAUfAEXAEHAFHwBFwBBwBR8ARcAQcgQoE3OGiAhi/7Ag4Ao6AI+AIOAKOgCPgCDgCjoAj4Ag4Ao6AI+AIOAKOgCPgCDgCjoAj4Ag4Ao6AI+AIOAKOQBUC7nBRhYxfdwQcAUfAEXAEHAFHwBFwBBwBR8ARcAQcAUfAEXAEHAFHwBFwBBwBR8ARcAQcAUfAEXAEHAFHoAKBxSqu+2VHwBFwBByBMUDggQceKO66667i73//+xiU1ovoCIwXAo9+9KOLxz/+8cXDH/7w8Sq4l9YRcAQcAUfAEXAEHAFHwBFwBBwBR8ARcAQcAUfAEXAEHAFHwBFwBCYFAXe4mBSYu3vJIx7xiGLttdfuZXjttdcW1113Xe+3nzgCjsDCgwDOFjfeeOPCU2GvqSMwyQjgyMTfU5/6VHe6mATsn/nMZxYzZswo7rvvvuLCCy+chDdO71est956xaKLLlr87ne/K/74xz9O78ou5LV78YtfHJzDbrvttuJXv/rVtEDD+XfeZ1xkkUUKsHjIQx5SXHnllcWf//znsfi+SyyxRPGSl7wklPXiiy8eG8dg57uxYC8v5EKIAPLhGmusUTzpSU8q/va3vxWnn356cfvtt/eQoK9cf/31i6c//elBZv/tb39bnHPOOb37o3YyCn3kdJQdRu07T9fyjAL/TldsvV6OgCPgCDgCjoAjMN4ITAuHixVXXLFYc801i2WXXbZgooUi6vrrry8uueSS4t///vd4f6Go9Ew0t9xyy95VFG8HH3xw7/conjAxxnjSTwHM5BjF3NOe9rTir3/9a/iO5557bphQV9VLSkhwecITnlDce++9xU033VT0e64qP7/uCIwTAkS2cHIEHIHhI0BbW3755Yf/ougNOCBIvvnPf/4TxjcUyL/+9a+jlNPj5+abb14g0/2nlN3c4WLwb7r11luHTC699NLiS1/60uAZeg6TggDt4IlPfGJx/PHHF3fccUejd86ePbsgIs9f/vKXYs8992z0TG6ixRZbrHjOc54T2iiGrn/961+NsuCZZz/72SHtD3/4w+Kee+5p9Fwb/gWDbbbZpsAh9eijj54W88DHPOYxxVZbbdXD79hjj22E31Qnev7zn9+bs959993Fz372s1ZF4puussoqxaMe9ajiBz/4QeM81l133eCE9H//93/BMNv0wTZ8x9x11qxZYWz+/ve/3/RVlekY99daa63irLPOKn7zm99UphunG11jNE5197LOQ4AxZIMNNggOEY973OOCvueGG24IThG00zpijHv5y18+IQltQw4XjJkf+tCHChYnidAPjbLDhe0jmWdcccUVKnrtscv+YTJkh9rKTOObXX2nUe072/LvNP7kXjVHwBFwBBwBR8ARcAQCAmPtcLHMMssUe++9d1Cm2O8ppR4Kt29961tZyhmbj5+3R+BZz3pW8brXva7gyOT6qquuqnS4eN7znle8853vDOniN77+9a8vLrjggmLu3LnxreCc8da3vrVYfPHFJ9zDU5/nUOoed9xxE+75D0dgOiGwMG0jwoqlXXbZJSjndtxxx+n0GYdelyOPPDI4JNoXnXrqqQXXx5XY4mOllVYKSltWdKN0xeGuHy211FLFc5/73GLJJZcMq/5///vfFzgy9KPJbmvIN/vss08opy0bhstXv/rVQcF8+OGHF3/605/sbT93BMYOgYc97GFh5T7GliZtcewqmFlgnI833HDD8BTYHHTQQb0ckKeJWIIzeVNnh97DA5y8+c1vLjBeW3n7vPPOC84d/bLFWP7ud787lJu0OEVffvnl/R5rff8Nb3hDsfrqq4fnierCXEDkvCYkRv/40Ic+NPDNM57xjN788MEHH2w8p3/hC19YbLfddr2K4iA0TNphhx3Cqnvki4suumhCNI82fLd9Ob9dpGzrRNfafffdh1n0Scu7DqNJK8RC+KI2/DcMmOibNy51Q/C1pdVWW62YtckmxffOPjvo7ew9nSP7WmcLHOr+8Y9/FLfccouSBF2SnC3++9//Fjh54cwxHWk69g/+naoR8L5zHjZTJQNXfxm/4wg4Ao6AI+AIOAKOQBqBsXW4QCH5/ve/v6fAS1WPCSYrgth//YQTTkgl8WsdIsDKgo033rh40Yte1Dj0Os4Rb3/724OyPVUUwucywb7zzjuLM844o5dkueWWK3beeefa51hBwXNdrDTqvdhPHIExRICJOhFgzjzzzErHp1Gv1gorrFDQ7jFEO+UhgMEC44UllPijQihQtt9++2KLclX34qUjBbTTTjsVRHKICWcD0j75yU+Ob4Xtdfbdd9/kNlvIDJ/4xCcK+MgShssTTzyx+NznPmcvT+n5U57ylLBKD8MqhOKYVesYpJFnwIt2sN9++xXvec97Jhh2prTg/nJHoAUCX/ziF8NTrH7//Oc/3yKH6fUIbZ02j/wbbx3x6U9/uiCEMxEicGIYNhFR4H3ve98C0X0wfPdbjayyvetd76qdqyldV8dbb721l9XNN9/cO+fEeW0CHCP7g1XpLKiQ8ZSCyoDapNCMkcwRJ5NYnc42BzhCEdXRUhu+u780KNP+iPg4XagOo+lSx1GsRxv+67oebyvl9rXMlrjI3jhMwOPIujhhvPa1rw0ybioa16te9apekVhM9d3vfrf3mxPaPHooiPZH/3H//feH39Px33TsH/w7VSPgfec8bCZbBq7+In7HEXAEHAFHwBFwBByBegTG0uECJWRKgcdejigBWbnKxEuEgeaXv/xlcfXVV+uSHztGgKgi733ve7Nz3W3XXSc4TRBG/E/lljDLl4ZVuwKCVRHW4QIDMnwgQhGHYhVll/32m222mTtcCCQ/LrQIEB4ZgzuGnH5b+yy0IE3jihNtSMZ7QtRjsBsFwimS6EaUL3YIsf24LStRjayzBUY/PYsTyde//vWCft+G4ae+X/3qVwveB7GKHoUsK6/BhW26UP5+4QtfsK+asnO7GpwIHJ/61Kd6YfHZRmu33XYrcFYEI8bdD3/4w1NWVn+xI9AVAlam6yrPccyHcZp+kXDrcQSbycboYx/7WG+8YI71ta99LUQTahqJhC0FcXabTCKiBVsuMR+s2rpksnGczPqP+7vYPoVtAfSNrrvuujCux22hrp44bNpoLHVpu7p3yCGHFDiKUM6q9qE6NXnnHnvsEbbYvPbaa5skH4s0TTAai4qMaSFz+K/LKhKdQs4W6GvY6un888/vvYKtc3CkpnwvfelLi4svvniBuaqc7Xn+e9/7Xu9ZnbDlgujn5bYc09nZgnpOx/5B3286Hbv6Tt53zuOKqerDphNPel0cAUfAEXAEHAFHYHIQWGRyXtPtWzbaaKNgKFGuGEoOOOCA4IRBCO5dSyM+ChpLGGCqiEkc21qg5MklVt+svPLKPYOPfR5DDo4IrEhtShhTCJOe80xV3tSHSa4mqVXpurguQ1ZOXoRdtU4V95SreHYpvx2rdjkyqRaBpTUSLrvssroVjh//+MfDcyjZ4AcRBimMak6OgCPgCCysCLAdBoYn/qoMAVOBzaqrrlpsUoYRlsMEBr0mRD0OPfTQYubMmeGPcPeXXHJJeJQ+n0gWlnDS0BjF/u+veMUrwrYcb3nLW3qrtMljFIiw/RrrcCJEtrFjGt+PaBwyJOJ8YlcB2zqgmFp++eUrZRSbNj5nzGVLMJUlvs87GcNz5Ca+M/JSzjPxe/mNnIRh65nPfGY4T6UZ5jV4CdkK595hE9FO+IYpAgdkzFwZD8ME0YKaEt+Lb13FC6l8aId868c+9rGp25N2DfmvSkZPFWKqeUtlYuVvjoFZz8VH8IdXq/qIOL39/bKXvaz3za+88sowx8Jhs+kYQjuh74WsPG/f0ea8Cf/efvvtvT6yzTvqnoGnVllllSSmbfiHfpq+jLbO88Mg9VlEOsshPde0r1N747m2NHv27J6zxTe+8Y0Cp5+ctgCWbFEATTbfsX1B08gv/fChnTVxtuh6rG7Dj+rvm4ztTTHK7bvEq7k8vuKKK4bFGv2+xyD3wRTHMxaFNKWpqA/fkfYDJpx3RThTiA477LAJzhZcv/DCC4uDDz5YSQr6gJg0T8BZOjUG2THuuuuvjx+f8BtskW9z5CAyqOIVK2vbckx4acYPtcG68jXpHwbpj3Pb32TLiUQz4XuAVVPiGeTB1DjblidoL3UyeJPvhM4XPXS/cbZf32n5UO2lKTZNeK5pXvQdzE2mWv5vWt5+6SyuTdt3G1mwKR/0K6/udzl/tBjk8lZdu2vTb6h+qePSSy8d7CiUN0UzSt0Bf6k+IJUeeYI5VK4D7zhgn6qvX3MEHAFHwBHoFoHuZlPdlqs2NzzhLRFWkFWgIowTTNxsaOI4jDgKine84x1BaWYHZZ4lGgbhF+3+yGxfglANcZ1wh0RZsAMwYT/nzJkTDPx777VXsUS5Ok3EM8cee+yESeYRRxzR23oDZRKTSEK/qzw8c9ZZZxXf+c53lE2jI2EX3/jGN/by5iGUTgjqeEijyIUIE4xzh4gJL6uAISairJxVWf75z38Wu+yyi5JWHsmbMPB/+MMfwqrhyoTlDZS5li659NIe5tSdsMBWOcHEU0YmJkYiomJYBxtWNiusJGkwEmBwdHIEFiYEUkpHlC/2Ou1abSrGZqmllipe8pKXBEXCL37xi76rWsmbiSj76t57770hOyYprFZiH3VWM9GuU/TwchsJ9ttGEULYzCvK1UlxKPD4OSZLjAUYX376058mt5+In2nzO7dsTXBDGYFiBfw5JwoTYxj72lMvHAKYNOIcAB4i7jEhR6HPeMO7XvnKVxY4KlxwwQVD6ecoH9tEYXBlDKGMGkNULo6Ui/JRrpTBgX6YfptVZ7Y/ZmyCvwgTyvj30Y9+1Ga7wDkrvzGmWbrppptC+ODzzjsvRKx4ulnpRjp4S8QYKD6kPmxjwCps6onSLM5bz03WEYcL0VFHHaXTBY44mMA3EO3UrhbkO7CqCgWexnDS0TaJcAKvWKIdve1tbwuXkJuIiGON6/DpKaecElYVbrjhhiEiySMf+cheFqwkJ7LIZZdd1rvG+L7jjjuG35/5zGfCOX2EiDyPOeaYoGjXtX5H6oXc9vznP39CvYgIgMyn7RdQdOC4Sd3hVXjGGt5wyl199dXD66zck3o/W57hGEQd4R3eH9eDVf+27mxnxnZ2EMZCK59wDVmKb0aZhDt1+8pXvhLKzOpNlJVEbNH3QzZl1f5nP/vZIIsSHeyxZZvSffI655xzim9+85u8YgGi7REJxeaJ7HRZ2Z6//OUvL5CeC7QbDB9WaUo5fvzjH4dvZx/6TIkNMi/7qdO+JcvSnpA1Y6KP22abbSZcJmoLWMKnhAOnrtQPWfADH/jAhLT8OPzww0M4cr4N31Tfim8Ov25eblFkFYP0kwcfdFBxU7TNBHk15S3SpmivUuZnvAMfHH8tv9EO2foHwjnYGlHtd+f70lZQQGKUguCFU089tWC+oG/NddonWEHI6myfZ4l2ap3ZuBe3E5s+db7FFluEy3wPHNxyaffddw/4gwVzGcLFt6Uc/mUOJAe6OeWcDKNMHa8RMaiOmBeBPX3uymW71NyOdjB37tzwaBv+oQ+iXITUt98WeYnv3cVYBA6MKXauyvdAZqJe9MMitZ+cvk7P0kfGc2L6AVaq5xB9q8ZrZKIf/ehHOY8HHOmjIfiWtobs0pZy+I52SL+N/MN2Jv36uH58p/4NfoCPoWGM1SHj8l8bfkRmon8nGo8I+YpxiIUuyM+XlnN7bRERY6RnNH5cXxrKkTFz+q42PE4Z2W70Na95TeAZ2sRvfvOboBOiTAeV40S8pR2yNtHQoNNPP71WN6M+g74b5x/0F2rjjLu0i6/O779DhuZfV/XBWalpv0cfCc8y77DE/OPII48sfve739nLWeeMZ8xVIPKrirII3oxjlAF+4jnmkjhQW50O/aXGPvpkZLg999xzQpmoN398V8lYJCBv5EEbJY80yGh8c/o+kfrDFK8oT2Qj5Dl0Zvq+PE8+J598cpjDKb8mR+qGjEB9lR/lI2rTcccdNyGLVP+gBLRlnFxsv09/zHjFuAwh6zP/iSlXdhimnKiyqX+46qqrgny5aikrasEW+DAHxDndfj87B0GPaiMpEjVQUY9zeELloW+nP2Dxl/1OjKu0FzsHrvpOyAzMtdZZZ51eBEryp3+48KKLgoytuSrXq/pO7pFXzpzPYgNuyPlNeI531RF5IMPa+SNYwLt2jkoeyPeM9+h6UlEa1YfSxpkL58rAtpw577LzoTbtO1cWzOUDWy+dk8ew5o+D8FZdu8vpN1TP+CheQ85j/r/mmmv22hL9AjI0OiVsPrSf5UqHR/Ub5EUfQPtMRUMisjYLfNENiehf4EV4UjQu2KMfoM+C7NxF9aDNouOgP2M8RHfh5Ag4Ao6AIzA4Av8bRQbPa9JysJ7EDKh2qwkVgsGTAUOTR9IxaEp4RbiLnTB4lkEZpS8DMIOzDIcoXUTkw0QsJiaICK6kJR9LPLPddtuFPeYx8kA2TWoFI89svPHGwZCFAN+EGEylaLTpGUAxTCKcfPCDHwzh1hEaGFA1WUBQYV9MDLAojHWdfM4++2yb3QLnTJTBS0pfJu/9CKOPDCSkRQCwZJX8fL9rrrmmdxshSs4YCE/UDUUNpG/OOcrvnJVRPOPkCEwHBDA4xYQSkz8RBigUjpaYAKOIwWBmibaEkiLV35IOZRWrPlF8YNRlWwRr7GLSjcLDGtt5l56z7+IcIxvKiNRECKUnfbD6KBSFTLhQgllFR5xnzu/csuXgtt566wWDMP0af0zYoJ///OdhlSvOCxB1nF0qQmSwpZ5ggpEEpxQcBSzxbRiDuiIcDflmMcXvwdEG5SLfG+WJDHV6DoOPok6cUSqqD/jkJ8MtFOuzZs3qGZZintPz9lhlhGIVEWMrY89DzXjNsxiBcZgE69hZBCMklLoXbkzyP61oY2JvDbNxMVDAPrpUzkK0FUv77rtvMaNcwRETxg9WnGMAttun2Haakm2QaTBeY1RLje0odeFN2j5YQ8gvIvqCmMiT9orjUVWfEj+DYSfFI+Sx//77h/4JwwAGKhlPUGDTX0hZjTOGnC3k9BG/x/6W7Ecdeb/6HKXhPnWnjUr+sXW353pGeMd56TcK75iQF1FQzZkzJ8iuSqt0/MbQDD+n5DWcpmJCdqIPwQkPJb8lvjOGy/g9lANlM44bViGz6PzvLbnM5pU6V59XdY92iiyKXI0Sl+9o2y4yM9cg2j2kb8V1otfEhEw55yMfCX1R3Laa8lacp37jLIHDBfgwDlqjEv29CGcc+26+izDG2Ruy2FTxivJLHWkPtNeYuI7jigwu8X37e4Uyco5kcBR1zJdwdOJb3HjjjWH8sds22Wc5p4/hD/rJT35S3HbbbeG87b8c/hUf8C7an8Uzfn/dPaXV94nHW93nmMs/OGTBCymij/pIyacYUKxDRCpt3TX6CvKKifrQBzJXot8UCbecvo5n119//WR7QyaSglfv6HfEKUd4YxyE52hXjyod/K4u+3acM20/EOeHkZX3QiycoGyDUA7fqa0uOl+eq+Otunsqr8YO5ct1e97VWE2+bfgR3mLrF6vLIC/KjZwqsmXWuTBSGo0fyC3M52Oq6rva8jhljB3A0EHQd0M4s8YOF3axz3mlc28diYcx2sTEuMv2Gk8onVU+OV8WVpou61PHY/Ye35FxQWVWWTgyF0G3Qzntwiabpt+5xS02usbPgqsi0mIUxilG7SBOy294z9YlTmPrxDwFfK2zMOlJg7yDfoztitXnqj9M8QrPwcvITZJDuCaiD6VN4TSSs2hKEaGUD0fKx1jBGIrcLxIualO6bh0OdY0j/aId++PnSJMrOwxbTqRMkPoHFmXEBD7wME7XfD/peYUP6a3ewz6fyxM8Cz/HjkxcpxyMq8xRrAOQyhHjzfw6NZ+if8AJA6cgOz7r+bjv5N25cz6ViWdT85oqniN9Hant2jSUG/03sjwOaCKVQfXSdR0pA6T7+q37Ocfcd+m9bdp3riyYywdV9RY+Xc8fB+GtqnaX229U1VnflfzitgQeOEShe6I/Rv8REw6yOOAdeOCBE26h90qN3eSDfYR5ru3XxwF7dCKMI5QVOxfytSVkddUD3ZyTI+AIOAKOQDcILNZNNpOXC4OdBgTeimBdZWCzymBbQlaixc4WGFtsvryHdKySzCGE9zpCCRwrtuvSc49J50knnVS5El3PYwxJOVvoPkeEE5Q0TDoxjGC04zmI+mM4YKBl0iXCQGoFC123R76DjA32et05hpGqVRMo2ewkllXTGHxFrGiwgv0HS2XB9aXSnQmKBO+uN00AAEAASURBVDDSyglDz/nREVhYEMAwrT4NxTrnKJJsRAtr+BEurExT+yftfaXha5ly0oJii4khVGcgxUuavhMlGH0zqwxR9DBplgKLPOgrmXxrEkSEH8qs1VAYdngudrigfaM0os+hX5CDFZMt+i+2WxiU2pStDW58ExwFwAl8pNzH0Q8cwByjNE5ykPDjiPGH5+jHcUIERyaJ4EK0iEEJhzwZt/k2GPUxzFIu3sN3RrEA8Y0YUxjb6INZzY2nPEQ6jEcQecjZgt+UtcqBgvu5pOgtNioIeeAA9PKXvzy0ARQAjKciFFsQjiJ1hhylH/ZRyiXrmJR6J+NtaoUkbWNGabSAqBMre8ADYz0r8cgfpSBGUIzEKSKyCkZWViXi9InBC6KNISuxuoMVnpSRPLkPLyPf4ECVIt5HNDIcSd70pjf1nIVe//rXh9XvdnxPPf+2crWe+BFDCE5h5IXRhG/K+2krGAcg+gHqjiyH0Y0V9jgjaPUzaVgRJOU6v/sR78Aog0MD/Q71gN+5jlMHjrpdEQ6mODHRx9He1i4NNLxHBlSMH/SfHDEO4bgEkTblcME9eOaEE04I3x25D+U+/SnfFcWTVvxhZGF7Pt5HG2V1MishqTNtHr4gPDrGqRQP8S2RLVHwVBnaMRzIeKDVqjxj+2/kPFYYQRgRrBzKbxFGmZjgU9o5fEd5GRtQklEnVn6qT+W5XN6K38Vv+EKOZsjs1uECbEVyQtBvOf9QXsqaIvhcIdmJNIEjBGNzypFJz/PdaKMYuPjW8AcyNcYmytcv8sAMY/QkPf2AiLGHutJPyJFJ9zgybmn1Pn3q3FKxB/8OSk35N35PE16Ln6n6TX2YIxHFjz8ol3/UJ/Es30kr5miH2267bVgNTxqcZlil3oaIoKO+gv6f1aLMt/iW9NPIOE8rvzGOiClDKu2kSV+HnCe+p5xEpKBfQoakL9LWHk3rIIdD2gN9kJx+eB4jNX0L/baNKKS8ccJShCjGCNrgoA4X5D0KfKc6xscuxuq2/EhEE9o6dEM5/2ZhCO1j5syZBeM6PJRLGnOa9F2D8jhlY8U8Tjx33313GONoj4yJts8mHeWS3oi0ctTlXj/CARQZlCNyKO2a/IgwatvfMOrTb4yl7MhN+lakB3vmXptuummYk3APIxNRp9qQXSQFn9QRMqtIz0mmY16DbAKPWTmO9IyP6I0wuENETzv33HPDOf+oA/MQxj/6ljPPPDP0U3xromPxLHMo+kaitaXI8gr3NykjyUpPha5pbvncX0p5DdkEuYV30gey+IF3NiXGFZ6R7CdHP8Zgfc+qvGiPVjeGAwt5YeymTWJo60dNZYfJkBNTZeX7831pt7RTvh99GN+WtpWSSciHuTIRKJBJcZBuwxO0V8lizL9xXMdRlrZLe0FGZuzDIYMyVhFjL+M9RH0Y09i2jfko4yn1IQ18aWXJVH6DzvnAYRCei8tEeU877bQwt8f4L8c22gLtDv7KpTYycO474vRt2neuLNglH9jydzV/HJS3KFPc7gbtN2w97TlzIuRl5FzkPhaToStDBwUxZsOXzLNoV8xR6C+JTkQ/TjuEaMuaT9MHM+5QB+a7jDuMGRuVegfpM8JD5t+oYg8uLIphXsD4jo7VLtaxc9F+44yprp86Ao6AI+AI9EFg3rLaPolG6fYy0f6zCGE5hJJJxgOeYxKEApMJJ4YCQrmJmFwzEKeIyRVCPl7MsXGHPDE2oYxg4mpJBiF7TecoTniGVU12L3uEYYWxVNrUEWcL0opQkOO5yap0a7RksJVSCwWJFX6ZvCgUtvJpGl1D6Qc9Ihwh5FnC+GMJQYeJpAiPcCYvTFJETNypu5MjsDAigBGSrYX4UxvH2KZrHO0qDDDimpwtMPYxUd6sNCpiWHygNKpDqVV14cb8fyjIcSLAoIXilQk3XtWERrf90JzSQC9nCwxueFej7EIpxPtuKBVzVUZY+lzKhgc6yiVFIkp59tuyNT3PLdsguPGdwEcKOQwF1EMRSqrCYTNGoIBjbAA7KSpRasho37S+cTreL+M2zjXkjwKJ61JiohhC+SSiP+YbQyie5MiHQorywIMY54dF1FvGmdhwiQKI6CEQClmwxYiMMZKJJ9izGnYUSGO4dYxqWi6UB1Ko3lMqCojkhbGI+lF/2qT4TErDOG8iT6GwZPU6E3TkIvUfpIU/UQ4yUcfhAscHEatJUoThjjbOMyg9CNmKcR1CeUGbryMwWXP+VnI4cFEm+hL6GfgTJQKEsnPGfGcTlKEKDcvzyBTwMcoeCOV5KpxyuFnxj3dhPEb5gqOB3XO8aWSHiqwnXAZ7rSjlHAOA2jcJUQwRyYZvQT0plxx04tWbyhinKVYqUWecTDC4W8cs66xL++W7QIwDwgleYhWoKBVFAf4CF9o9vGQjk+m5pkfkPPErhmJLKMwgeFNt295Hrqc/AhcMXfC+2hTfSjJwG96y79E5/Eibg55t5g1EitA4xz0Ue/CpSNv6YcTLcf7R86mjvgHzD8YJ+mw7F5GiP/Wsrll+VnnBWkpJ0jFuWeOOnmU+pTrTP+gb6n6bYw7/tsm/yTPMN3E4Ovroo4uLypDfcmrN7ZtwfgNL2i5OQTgWIevQVnASE2kM1u+cI8ph8oenaI84U/EdKLfGafJ7wQtekMy2aV+HDKa+gnEXhTfyGG2OEOAYxXJIWw/QLjWe0+fzBzHGIUfg8BUTDkg8B7Z2XIrT5fweBb6rKm9XY3UbfqT/xNkQou8ibDcRK+ljcbiRE11V2auu5/Rdg/I44wtjIPoFjXE4CULIrFZXhBEG3oJoQ02JPoL5BLIUYwTOkMhPIqvbGUZ99J66oxwb6N+OLbe+ZczgW+JAqv5+ydJg35Yw9ouY19WRjUhqn6t7psk9eFzjGP3st7/97dDnUmdkBfoMiEivKUrxyjPM/AdHUbYqQ94gb2QzCJ5J9VWpd3CN6FGsyOZ5vgEyrPo+RbSrepbryNLqj3GMZqzie9IfU8Z+/XFO+5sKOZHvhCyHwx1jG3M7HHIkY8jhLsaIOQLP4bRL++XZNjzBeKd+4GNldCjw5N1sm0QfqHKQdx1JfiUNfQL1QAZgHn3iiSf2HrXpehfNSRdzvkF5zhQnOG/SnnBooS0QNRndNkRZ0ZWMC+W2b/giVxa033cQPrCYdjV/7IK3Uu1ukH7D1tOe0y+g72Ach++QQX5kogHRLlmEi86HdsacUX00+dg5kZ3XsoiI+T7EnF/O/dgc0N3FNOrYq/yU20Y3xjFF4yPfTONhXD//7Qg4Ao6AI5CPwNg5XCxWToIt/Xv+JMleqzuXMUJpmJAg6EIMvr8tlfCWmGSnCGUyEzWMByg9LOHtzKQdYwCGHQngpKlShqMYw8jBMyirYuOPVlbY98TndkLMYInCCcEDRZuMZHpGqzeogwx7uoeQJWKSJnx0bZhH3o3QpAkj78Ib3SoI9X6UPHXEJLPKYFv3nN9zBBZWBLRSEecKRSgAC9rgUaXiBkIJHq/SDTfMP4xyKA5EKIwIjSmHC1ZFKswsqzpYfWmJCQ7OF1VtHIWUFIGkVf+A8XxQalO2trjR7+M8Qn+NYh/CEAyBCyTDVfhh/jEGydGEcUOhR+k7+xmwTTbJU5wJIb57vEUJE1DeB+EYY4kyyGMeZzdWxLH1AIQyisnoMAgnPa2+Q+FvjcJ6H8YYhUnE8REeBivGCBwdLb/qmak8tpnwWuecb5WG8pgwmGs1M5hJcWjTyfBgr2lLG66xGtuSNTRrtZ+9z3lKhkARLLLKDl2zR7s/duxMQzor31gnIJQqakesJJJTAe3OGjbtu6rOkeNQpFuC15CxoC76HuWtlfP6zdFGJIgdULmv6BR809R3QFkUG/ThBTkJyOhCXjIQ0Dbid2EQUZ1lHOUZESuCVBZda3uEt6TsQhmkejEGadWSVZrpPXyrVOQNjMgiycBteUv52KOMdY8t25ac3jYonXwg5FG1aUXnQN5VPVLltXnnnPMNMPBZsqHcpViz9+NzVj+JwBMlOqucWeGFbKB5DdFVrKMz7Uwrcmn3/XgBJygircR/OKpYyuFf+1yX5xhXJHco3zb8g3GGiCv8xe0LA63kJPG73pVzRKYif5wTNCbreat0lYOt7nHM6eu0KIFncOiNKeUMFaexv+VkwTX6GZzEWInIn3Uaom6WWJGo/oiVxcLQprHnyJcxz82ePTsYhWy6UeA7Wx573tVY3YYf7RyAVcsx4UTUhnL6rkF5HGNgTJbH6NtE1pBbFUFKae0xFWUTvZPkfbsIZxj1sWWpOle0Dvpx+mNLOOWzcGeP+ZEj7L2m51af069dMk6K7HO61vZoHctshDvlp3kXYzILsyzRt6V4RY6+pKXvsOVlvAQ3/qz8bPNNnVv+033J7Bj5+pGVf4mqEhMRHuoop/1NhZzInNfyCHXhmr4fcpciQdp6YoCNqQ1PyMmMcRoHG0uMV8hZzOnBsY6s3MoWfXYcZj4j3iFyZh11MecblOds+VJ9I07bkhf7zfVsXlN9ntu+28iCXfGBxaqr+WMXvJVqd4P0G7ae9py5uPRhuv49sxU647DGOd23Mop1MFdbZO4ZL6iVrpE8FEFO+XEcdezRI8guooi6lBv5Rvogj24BIk6OgCPgCHSHwLwlbN3lN/Sc4sEv3qu9XwFYQWDJKrG5jgLDKhKarDCyHvnkYZXaCJn8tgpJ0sQkYVTXUVJyTQOgVUIpjT2inLSTMSZ+1mkDI6IlKyjguY8COH4H77fhne3zwzinrhjlJOzwDhxC8EqNif1h7b7Y3Meoa42TrE7hWbzanRwBR6A/Amp7seMZTzJplpKbiaWMS3GuGDNjJ644Df2q+jZWjOcSCktLrNCArMLL3s85b1O2trhZh0EZ4zRplGFHhru4DtZ4yD2+B3mAgSa08TNNf2tlGdEAbBj/+HkZW+x1DDwoJ+mLtZoFA8+wJnGMbUQAoN6MWThWyCFE5aI+rLzVd2JMxpkQ5RnlZKzEQTGliFUek320Y1nTd9sJdNVKNgyxWlWPIyc49CPxJOlw2ojpgXKcnhe0M75T/RulKX0F/C1DWVVqu1qMyCpy1lJ69SX8Jqy8JVZp4lyBElbpMGwgW3RBVt7rIr+qPKzzWSwH84ycIDhXPTnvR7eXTlBLlO3DyqiKAkLbSm2TIt7Usd87BrlPv6H9somogAKPoyhl7NO9+IgzNIZWSHwyCG/F+Z9bOhmy7QH446yNQk9KfZwP4HPkUhy/cbDmqG81rP5RZYTfNafQO3UvddQYwD1Wq1unKcYaDAszZ84MBmr6HY3JROiDaNtNogywysq+Kzxc/mN1b2zQ0D17TPGvvT/s80H4h/ETZ00iAy1e9k92DtdVuflGYMz8zvaBbfJP9XXqu7knmaVN3npGxk6iTeLAaZ00kUUIe4wzEIZq+BiexoFIWw9hJIkXQShve6zaagQZoEk9pprvbF3s+SBjdQ4/qv/k3V06i9m66Lxf39Ulj2OY4fvj7CSnPMohXRDOS034Q2WvOuLMjHPaI0r5M6Yu6xPnnfrNdms4H0FE3MCRGr0Wkcn4s7JF6vl+12y/QV9H315F1hlQkR2q0uZct4beOLIj+dh5Fk7i/RwFeQbjMvIocw90i0TNo7/CsZt7g+LGO6AcfhN+jL+2L5iXU7v/Ve1vlOREnFIUkYbvJyeVuhq34Qm21IRovymyjuSp+7pG+TAAMyfljyhUzImIvkJ7TDlq6Vl7HNacL4fnbHlS5/APfQBzDMkLqXSjdi23fbeRBbvig37YtZk/Dou3JqvfsI5Zqb7QOkVpToRtROfLllv11s1hmvLyKGGPvMzYhjON3VZEOhXk7tSiln785fcdAUfAEXAEqhGYaIWvTjcydxhAGTBEKU9m3UsdrRcj9+1AyG+FueYckvJn3q/J/W+NRlYZnirFs1deeYHLYKO/2BCpVXV6KLUfLhPHlHFFz3R9xDHCfh+8MHGYSAn+dj9o+AFHDVZAYWyzk1zysys3uy6z5+cITCcEFIHHKrlVP9qh+t4ZM2bo8gLH1MQmTmQ9562Hf5wu9VuOCfYeE3pIEyV7L/e8Tdna4vYfM5apXqqLjjbikOpC32jHB12XYtMqw3Wv6RFFs8YLjvSf8Z8c+FKr+uEdu9UC/MDeycMijIHayoLIJ/HKbt7L++VsQYQOVhRtt912YTXfLaXyF2UrhkI7/gyrvP3y1TdcojSQ5ZJWX/Fcatzkuh3Tm0TO4plhEUphSO2n6j3WQRRZCLnM/lnDf+w4Cp7WsRb5ICXvVL17ul/XilP6Tto17V99DtcszjpXP6vjMDHCsK+t/hTuW5Hn6CObKNZVPuuoov5gEN5SvjqyklX9OGVEzhY/nlM6nSkSC4o6cF5ttdXCo9QjdtxWnlN11FgP9nYlmMpjIzNIHmA7QtWXSDiMU/CU/vSseI0jyj9WksV/dUY55cMx5l97bzLO2/IPW7Hss88+BdjRrnC2AC/xz6BlB1u2Jdp2222Dc4LmkOTf1TsoI2WHJK+EHwP8E9/dVq4gTsmhNqqDxi9tJcKzONeJ3zjaPkrXKR6OhjHP8Vvjb78qTDXf9Stf7v1cfrSyn5Upct87SPph8biiACAXrlzqVnBEkUyMA0IXJP6xTlbDqk+/8uKgREQGGaioK0ZrHB3Z0oLoDYOQ5Q8ro6bytP1prJ9LpW96TUY+0kuOsUd9X+7btPyuIqIc/D97ZwJvXTX+8d2AkhRlSKXXTCpp1DyQSnPRpEmDBpU0EmlAaSTSnEJEKs0aKakkDUSGUiFNQkTKH/33d3t/x3PXu885e+9zzr3n3Pt7Pp979z57r732Wt+95vWsZ33kIx8pyhHKHr4ffSWUvyiHsNZad4yy3buqXtf7qpZjVf1N3Q1bOzGO+0WrMWm44+/4nWNa0HmaJmjbqD5JV8tHf6uesxUKymqq8/CfNuFBBx1U5Edte9fJv5ifhrnPV7Wv1ymu432vbv6OZVedfmo/0sEg2AwibQ1buZFyi0qW1M0qC+JRz8RxB13r13EQ7BW2uFgLZWzKtAWmL1T5dd6HVXkk9z6agAmYgAn0RmDkLFwQXbTeqfwQGsRodMcOXXEj/4fJdQ0yUYHstNNOhUaxBmlwJ21lPTN3PkAaBTNVEyUMDkm6DWalHVPiK5OV8iMeo4lZGEZzmXJHx5HGRxVNfz3T9Lj33nuPWZVN+BksLBuEplGrTiXvY2/zBx54oHg134uVdnEFJCuZykwrFg/4nwmYQIuAGtoaVGjdSE7kLrlc/GzX6Y9u4/Oa3Iv3J/K8Sdj0TC/cJjLO8d1RkYMtFLAM0U7arUCLW41Qx7IqVdt5tPOryXUGNWVCl4FhrDWViVaZo/wR3RDXc3KTrdQ/fDvMknda0VDmd7+vEUYGAufosj0OViow8Y+w6p9BcyaUtWqLyQINcsUwxsHIqquo4vP9PNeqQk0+tPM7tmXY35iJyXaSTsAzMRQVNPlN+0D7CrfzZ6pcl7ILZRj5IX4L2tVxYj1l0uk7pG6b/iZM99x7bzHpRdpFUUJpGIsVdUTP8YxWN/WStsreTZ6iTMLKkMyz037HWgN/MKPOQ+nr9dP3gP/1r39d5tWEXmOymxXYDDoS3vRbMxgtYaKA/kq0GsA2TfyVCVaQEBRUUKruRdL024tfTZ5tkn6YSNH+yUxysio2KvtjVYaB6V5khx12aCmbk77YZkPWjPhWp59+ei/et56lvCCsKstbNxqe0H6kf5f2zeVd7OtST/InRUnq8KOPPlpOZzgqzljKOOSQQ2a4X+fCRKe7OmHt5rZJeoxjI+R/TdZ3e1c/7w8qjV988cWtMZG11lqrpUxEHdkvS0TK3+o7wGVQ8anCHAtGe+XbhjCehsVT2szUl+SplVdeubBChFJGE1G5w7MosHRSeJUlEdxGk/787kWog5kgQ9msmyW7OhZbaHOzWIixRup0ttNi8op6c1quTHfMMccU20P0EvY6z1IfkR+jskCd56u6HbZ2InGWlI0H61481k0TsYyL74t+1jmnTcX2l3wr8tiSSy5Z9N+o//AfC0+krThem/o/Kn0+tQ9iuknjMoy/6+TvJm1B4tyPdDAIdoNIW/H7D0P/MuUW2zXUidqSNHXHb/gMSgbBXmFlUZIsgmPFhDhK8TNuNyj3PpqACZiACfRGYNbeHp+Yp2l8MhAoYZKEyZYoTDpI2YLrNIQYuKXjt9hii7WcLrvssmNWxC6bd5ailE34x/tl590m3cqeSa8xmRL96bZqPFWKeDaP67777tsaKJD/mGJNG+/bb79928EythBg9dAghXfEbVwYgGCFdLtB6Kj5SbjUkFcY0wlcFEcsJmAC3S1AaLAmTkyJGxOVKpN6naiN25FgUaJfq8YU1vRI+cJgpoSOFNtQlEmTsI0XN4WXMo5JE+q0KFJE61RvaYA31o/RDzrEDEoyCIRiYzvTqfGZeI6lCG1p8nTu12y5H0cddVS2/vrr983ELe9joo4BKoRJeFZUtxPVEelkPO4xG4rCBRKVMYsLE/CPld1MIsGfAVytik+DwpZaMmmpSSjaN1r9TzsnrgbW8xrQZuV61VXkerafR8oTfReFv53/KFSy/QJC2q4zIE47SG0CTXZvnpvxZ9A/DqC2e3eT63FymgkMzAQPq6is14pIyhQGoikfKO87KVyMV5wwsazti5gUUj102aWX1goCkz0Spf1e0pb8ikcUflG4YEJNFjm0vzjueB/9E+69cLqC90033RS9GIpzFJlVllBHxy1FCGAsK3FLfaTvMp4RSNPveL6bdzVJP2xrI1ZMqFRRUq0brzfnW9cg+I1Vp0EJA8OUcUxm0v5QOdL0fdQFKFVJiSNVGpRyBf7TR1QboM77xL7OM6nbiU53aXh6+d0kPcY2Jqb8taVQL+Go++yg0jir10nXtMNYdKI0SDmn87phTd2TZ5A4ATWo+KTvjr9p40tpmfzEJBjbXfFHGj8itxrHZEy0/Befr3J+yy23FP0v8h31Hgpm6oekz0s5lvudFDPS57r9Jl5YnKIt+J3vfGcGBcJuz5fdhwn+YRkHBcUrrrii+KMcPOKII4pyjHYu45W99pnL3l92jfKTcT7CwLeN6avMfdNrw9ZORLlFoi1G9bvdsUmaUNtYVhVTv2nb8b2pd6NlvdQd4UWpgrFd0gZpkj9k9913b203Rz+PvNhORqHPR19CYxPRMojKAC2gbBfHflxv8q66+btJW7Bf6aAfjFI/BpG2hq3cSOMc++rkzYnq/w6CfYwrCt7UxdRP6667bnGLcb+yMaP4nM9NwARMwATqE/ifCYX6z07YE5gQj4JGOWZT1ZlikJBB9ijq7Nxxxx3xcrH/ojqbWE5Asz9KXHUUr/f7nMboRhttVHjLJIRWruo9VL6dhMY9HQEJHWRMHWrii0qVgT1MrmsQFbd0qFE6kdAojauWYfqud71Lt/t+3GqrrWZ4/4knnlhY1WAAN/5pkCxOiBIgOperrrpqMYCJoooGuRXYdoobuu+jCUx2AhokjBNOZXHWxGfZ4Bp7jUvKtm3QvSpHVraqA6y9g6s819QNk3WUe/pj8r+dNAnbeHGLYVZ9oWtoqmtVE3FoJ5pkjqYTU7caFNG+jun9dr+xZLHpppsWt9kKYKvcJDGTz9RvJ598crvHal//8Ic/XCgj8CCTsccff3xHP5T+Fw4TrnogpoW/PPGELk/YkZXIyhubbLJJ6Upn6nMpIKA4oVUYd955ZyvcMb/qIgN8mrj+Uz6pMF4SB0P1zs2mpxN+35tbMOgksc7HzHWZ0E5hH+0oKKzIzCvKNkqDtI/K9vGOz/Zyrsl8/IjtLX7Tpnl1UBjm2ngIZboUXPQ+2oe08ZBovl/nTDhFBWU9xzNsyUNc+ikqv1I/mezXRK4m+mnzYjGiTGgr6rvH+5j6lmgrq6ZpS/6kR7bfUP6de+65i9saSOfHddddV1yj3Uo4ccuEVFWR31IiqvpcXXdxsmvzzTef4fFY/5C3GKz7wAc+kO2xxx6lf9HKHMqOuMOKXVWpk36r+NkurVV5Nrppkn7iBIPSiPykjSbrCerz6F6d4/OnW8goU6zccMMNW1718g48kbI//rAtRSpxH/D0XtlvDfjiX1m6o7+PUO/RliE/tUtzXFc+5xm5iyaVud5JhjXddQpz3XtN0qPaHLxrgw02mOGVaT98Bgd9uDDINI7FMIQ6U/kxluNVgx8VhPQM7RRZuFBdy71BxkfvTss9FrCgxMifLA/JLWF7MFdwRahvaHc2EfoAUnaGJ4tsyoQtqVRe0YeJiqtl7utc0/spV7bL2y6pcJ1xRG01lt4v+/2h6dzYOiQKbZU42a42d3QzqPNYHkdLg3pfEwU1PZselXbHs51IXtTkvcLDby3aoq8Xx0LlpuzYJE0ozuTrdDEXeYTtIUjHZf2vGAbGeMlzH/vYxwrFrnjv67nVRQnKG51k2Pp80cqZwk0/lvyFxPFY2vAI/VLl++JC/k/1vH7HY5M2cJN31c3fTdqC/UoHkU+/zgeVtpSHxrPcqMqEsS/6MghpUPV0fJ424SDnRXjXoNgrHljxkmgRq+oOXffRBEzABEygPwT6O1ranzB19YWVFWnFwIQ7ptlOO+20otMYG29UnlxHULyIg/s0kFFMwELGIbmJ0dgZZdA8XdXVNXA9OFhvvfWyM844o5gU0MpVvKNx2UnDWa9k1UAUBpxpzBN3TK+jeY3Q2dXegAyQqiHMPQZ+U5PqDM6lHRzc9iqsikF7OwphIUyYfk3/+L4Ig2xxv0au0VHGPRNx8dvDbiJW3hAmiwkMCwFNJDPQ12nwR5Mi5HcUtCRMcqEchWByLw5iy02dI1ruWrmPkhQDD1HoADDooMnAeG/Q503CNl7cYtwpxzVZwyAm+74i1HdsMdFOpIxBHdNuUAiT5ggDIUyKxXqR62xBhUUJTX5yjW+FJQuETit1Dyu/sFaETMtX9MiSRHFh+j/CTqeWv1h2Mwmg63Fil0Fh6kqEvbYJK+9O/6Z7XxzUwcfaRpxsQtlyiy22aDm96uqrW+cTdcKqK3W2GVyEKYoscIIDA6YoTuqbXDt9VRThpc2ivMkKygMPPLA1YAB/vqXq+wsvvHDcosgKCgYoiAPvZ4JmhRVXLN7PoPoll1zSMSysHFK6JV601UibCIOerAhjsg9rXBp4xSQ9A58Ik3OkEybz5A9pN249Vjjs0z+9A+9o56y55prF92KghrDPNX0ivk+vq+QNkyWYKCYMfIPFF1+8aC/pYZVh/Jbpfc73zCctUVzhGdrLKJAceeSRRRmAf/0QKfnSRuW7Ko1Gv9PtQzQxG93Ec8ofKYtQrqBgo1XFlEtSimmStuJ70nMmW6SAxz3K4zgQy0SMBoy5z9YcdSaWCDtC2Tgtz9NlrAoHPf4jXCpLUA6BH2UyZRB5TcpNbM2iiQtW0zKwXfanb0ywOMeNBjarBLVO+u3kn8LRKa11ej691yT9RAV6LEKRTkmbcGWxgL4p37ipSGmSeoL2FX0+4rzrrru2VrTht/JE0/dQdus7Up6iiEP7EWV+tvGknKkjrBKXaW7KHRQiSXOkPfp3mvS9LV+hh5CXytKbrsW8pWu08arKsKa7quGv4q5JesRSpp5jtfd+++1XtMFIs2zDES3KVQlDEzeDTONYPovlNG0IKWHUCSvjMCj6qL1CuclvSRzbGWR82pV7lN0theS8rULbmjRPXc9iHLXxyeMad0Epgf4GbRnqhipywgknFO0w3NKGQEmBtiz5mvLvgAMOaLXH4I77fsr555/fmoin7Rktu9IPwCLFqvk4Im2bquNdv/3d74ogkuZ322231rgafdq4Te94jiOyZaK+J/FhsjuWx3UV4Dp9g/FuJxIW2nJYbJo/37YFof46MvRr6ljLbJIm4oI/0r8UIlBeZiyZPg4SFW6KC8k/bbFJXU/binY5Qn6ijpbEtqOuxeOw9flQGKU/RnsDFpQnUsKgLmY7L4nasvyGAc9QttBXpO3QTvRcnTawnqnzrrr5u0lbsF/poB2rXq4PKm1NRLlRh4MUcqkDGTPR3An1Iu1RxrFoq2MZbFAyKPYKL/07jQvrWtxul2u0VagXteWu3PloAiZgAiZQj8Cs9ZwPj2tWtNJBY8Cxk9BxY6A9bsmBQgGVCCZQJZq80G8GTVFSGG/RQFt87/e///1Kpq9p4NOB1cpX+UGjIQqr0xksoeMVVwHSoWblGZ01TPIttNBCxWOwYS9mLE/0U+pOpsZJNzrFhx12WGtgknCVsWOvTiawLCYwlQlckHdyUWRi4IUBA/I4+R3lNVYqS+hooHGP5jmdXgZsGGRjUEP5T5Pxeqbpkck6NMiZVGYlDpOwf8zz6hx5p4bJUvJz1YGvpmFo91zdsI0nN4WZwQa01FEm4HtpoIcBDU2AyG08sg8z35XvueeeexaDI9STrFjUQA/7VLPtwsL5INBKK61U7FtNOUpdgpKH3oXShvZZpn7gezGZwYCLJjVQ/mDiBKUBBv9YAR5XdB933HEz1FmEl+uSCy64oKW4EVdWL7XUUlnaSdQzpF/tx8ngMJ180hQTA1php0FwnsGUZLdJXPk96OMpp5xStG8YzGNAWt8lfS8THnGinPtYcWCQgHzF9iHkV75vrB/5JuO9jQEDFPylYSENd0qvijPtMep9Blxpt5COU7/4hhqgZABPbZ8L8/hqsgB/UN6Ex6C2FmHiGaVgrMjQfkKxqZ1yk+I3HkeUU+CSCgoicdsL0hWreVGIxRoIVkWkcKd0xATU2WefnXrV6DdtUvaMp0zjuzIwmw64kk4oQyQaFNPv9KiJ5jSN8Puss84a47xu2hrzcMkPJlgo8xBZ15MzykXKTLW975g+caz73Y6Un6QrvoNW1jIBEVcOdvOj6n2UtVHuogxiQiBVxoblSSedVNW7nt1VTb+dXlQlrXV6vuxe3fRDfYYFANIobatU4VTvoKzjO8O5rnzjG99oTewyoSnlo9QfbY2RXq/6m/TMll5SbmOCRQqRVf1I3bEAAkUU4o6CJG1DlTu4ZQVzHLRPn+/372FNd/2KZ9P0SF/i43nbijqCiTYtiuhXuLr5M8g0ThqL5fR9+WIdtWm7hSu9z1gLf2ldhLKDlNV4ZpDx6VTuMU6C4jF5jPY1f2lYsSQnQYFUE824rVIH0P76bD5ut1eer0kv0/KxO/qkqfBe+hJqu6f3m/6mTUGZgWIE8WTrEv7SeF522WUta1rd3oU1OibZKcfpi/CX+kf9L+XObv714z5p9LzzzmspkmPVK1r26sc75Md4txP1Xvq79NFT1rS7qYuqSpM0waQ6i7gYu2AMmb5lGg4m96NiQVl4UCykDUBcpNCa+oPibqfFE/J32Pp8jEGn49CENSoD8Zv+gxYB0Fdlm9Aq0qQN3ORdTfJ33bZgP9NBFXZ13QwibU1UuVE17uprotRFn5TFZ2nepD7D3SBlEOxjeG/Mt7JknAyhvZMuZMZaLcq0/JGfh2V8LMbB5yZgAiYwCgRmHoVAloWRyoEJdxqjZXsUMhjMPt8M2qT7fdORY6KJ67iLQqVKpcNzaABK0o42DXUJz0SJ9+L1TudMONAIiULYGFRGCUKShiN9N6sCGBRlJU8qXKMzyYpZ/MEqRBQaD9KMp8Mb/UaRI05OxefKzruFk2dSN2X+xGvRPRPFrHZioiCGU+75xjR8acxaTGCqE2AVFX+sHCS/MGHOJErZYDuN7LvzyXeESVsGm5mcp2xggicOvEWuVSZNo3uU2hiYl4Y/k/Xz5SsctMKZ8lCTpPG5svwe75edx7Kj7H56rUnY6nCrwkplcRo2fhM+tuxgQpnBGilAMHDKhGUnYW9qBjo5wpJviz9p+b5TrniDFQvqMwYUeQ/phXfBE0tRGkjE6gQDqAh1B4NSUVBykNIjk+ZS3sFNlW/z3Pydkiru5VZH6nRMvWoQl7gqvjBgcrmdUoP8GM8j35cBRQaoaOukwjUULQ7JV1ilQp5hAg8FGuUVTVaR7mgDpIN4codf8Vx+d2Ne9oye5XhdbvZd8YhhYUArtW6hd41tVf3XshXtMlbd633yC78ZhGPwDmFlpia0WTUaJ+exkKXfDPzH1abFw8k/hSe53PqpsLQuTD9BKThOpug+g6iyYKJr6bHsnfE98VzPxmvxXPdJS3GVF9dxh5WYsoFOBihpT6p9DWv+eIay47A8fUYlDb2n7N261+5Ieoxl4kwlDmnzaeU7K3M6KdISBuLLUWkEL2kDk6/S70KaqJq2SoI2w6Voer5sxSVK1JLvfPe7Om0dI8N4jgMG+7USWg/E8pRr6TNyp2O3+3JHecnqJsrz9BnCwGRDylLPpseYpuN56q7d7zrpN/ofz/G7SlprF4aUgdzVTT+4R+k//Y74zyr6OPCpLQniu+O5wpAe2T6T+jttR/CbPqXyNQPKkpSVruvY7r3XXHNNoeiXvotV9ZTxkm7+yx0KS7Q1VV8rD/N+2h3Ub+m79Gx61DvbhT11n/5uku7Sugs/e0l3MUwxHvFcbhRf/U6PZc80SY/4Sxv9oPw78XwUxi7SNobuK3xljHBTFj49m94fRBqP74rldNO93MnL1JdITMf0eygDogwyPp3SH/n3mGOOKb6j+CustK2YxI4TyJT5cicrSDEe7c5Rhv1YXmeQh/V8dEs9c+ihh7ad2Cl7Jj6vtMW1eC43TBihIBHbDoon7WasxMZ0W+aH/OKIMgUWiWhXKWzyj9/U1SgsdpP4nniu5+S3fnc7klZRWottKp6hPI5pusyfbu9K749nO5HwUifQ7iQcYs11vgHfItYLkWU8x72kbprgOdiSVuinIQoHvMnXTNDqXuGg5B/1L31SLLfpO8kfnKNAm5YPikNadjbp88kv3hXP+Y2k3/m/V8v/x+cZd03Hn4nfV7/61TFlCD6xWKQsnfJuxm41Ph/957kqbWDcRWnyrib5u25bsEk6iPEqO0954SZ+z3iu5+O1eD6ItMU7m5YbCq+OMay6VnYscxevpczo29D2S/Mmv0kXcUwrvi/1h3vxPfFcz8Vr8XxQ7PXeOJZbZoVJljoJk871rI8mYAImYALVCcyUa+mmbbfqT/fBJSuZ+yEMOGIWkBVBVAxUVFWFFUZo62PVISpZVH2+qTtWsWqijMY5k1aEHxPUj+cN0Xb7U1d9H5NomMLiSAdZDYeqz4+SOwYlMX1JR5pBoMkc11H6Lg7rYAmwamlQgkIGK3ZQuGBQgsGwQQnlN6t22Q6APMyEZDTLPqj3VvG3btgGyY1JQRQ7qC9YQc1kCaZrUWZgECIONlWJW1U3lK1ouKvjxSBrWceyqn8T6Y66gnSGpQ7yDwPi3QbHFN5O2/HIzSCOKCPRLmBwhvZNne+MmVa26HnwwQfHDAwPIpzRTyyjvO997ysuMXF/e76Sn/Ye5pZZOdprW4vviAIQA5PpAF8Mx0Sf8+2IM3kHCxx1vt0gwk57kLKWNF91spw40JZkwJ7BpkEI4WKVG0p+fNN0Eo+2McpcDEozGFu2kpEtZTCDCmuZtEdRjJVK5PWq/YJRSFsL5nkaBUXau1isG7TAne/Dd4DlRKXjJuk3ZdMtraXu6/6uk35Q/KPvyqTsoNpY5AEU0MhXmvytG6eq7ulPYx2xTn7r5Dd9ZKyrMNEGH/L2RMgopLt+cGmaHmn30kZBCZfJT8ZUmLRAmLhg1f0gZRBpnDEZtr9gPAHLf3VEWw9gzY2xHupQ2o/UoVXq3UHEp0q5RzlPeUTfgvyWKoWJAd8b/6rWqXpOR56lXiaetAVpn47nuI3qM5TJaZc1WSiluOiotjbtW+rkiSqrFB6OKo+JI/1ELBFpKz22XZPSfHym6fkg24lM5GPSn/SIlTa+H2UM1+iP9iPtNEkT5BPa07TDtHVlE36Uu/iDH6SfXuKjdDjefb4Yb9UHKEpXaZ+qvKPMqdo3bNoGbvIu4iaudfJ3nbYg7+hnOsC/fosY9DNtDbLc6Ef8+SbT8gVFlJVRWa8fftfxo9/sWUgrK1Ms3qEMS4UtfuiL96N+TP32bxMwAROoS0CLN+s+N9HuJ43CxUSDbPL+MoWLJv74GRMwgalJgEFty9QhkCpcTJ2YD0dMJ0rhYjhiXy8UZQoX9XywaxP4HwGs0i2++OLFBcrBsk5XmcLF/3zwmQmYgAmYQL8IMAGAhSisOaWTaqwAZZsR5Nhjjy0sbvXrvePhDxMNWH1gEhZrYcShjqQKF3WetVsT6IXAqvmWkSussEJhzTYqRpKWUVxASSAqpfbyrvF6NlW4GK/3+j0mYAImMBkJYA0XZRIWrHSz9DkZ4+84mYAJjB6BsrG/UYjFrKMQSIfRBEzABExgRgKs7mi6wmhG33zFBEygHQHymsUETGD8CLC6nVWMyy23XEvZgq0AR7XDNX7k/CYTMAETGCwBTOIzYM82TWydhBUryuy11167sJLA21kdicLCqMg888yTveUtb8nWXXfdQtmCiWm2D7CYwCgQoJ+y9dZbF2kXJaHv5luWYS6eVf2bbLJJoWxBPNi+xmICJmACJjB1CFA/sHBojTXWaG2rO2jrY1OHrmNqAiZgAuUErHBRzsVXTcAETGDoCTA4aIWLof9MDuAkIEBes5iACYwfAcxfs2WShNWaX/jCF/TTRxMwARMwgQkicNJJJxXm/dmWgS3u+IuCWfzjjjsuXhr686OOOqqYrFZAr8y3r+plqwD546MJjAcBxgPOP//8QrmCybX11luv+Ivv/ssTT2Qnn3xyvORzEzABEzCBSU6AbaTYJlrC9jjXX3+9fvpoAiZgAiYwAAJWuBgA1Kpesh/7zDPPXDj/x1NPVX3M7kzABEygIDDbbLMV+2WzL7cVLyZ/ovjhD3+YLbDAAgPfh33yk6weQwYtUbYgr1mqE2Cvcu37SVvHYgJ1CfznP/8pHmGV8cMPP5ydffbZ2T//+c+23mivWaW7tg59wwRMwARMoCcCbGm47777Ztttt12xx/lcc81V+PdUPp5x3333FZO6o1b3P5vXOTPNMkv2zDPPZD+69dbs3G9+sxEjlE3YwsHWmBrh80M9ELj88suze++9N9too42K/iJbiPzn3//O/pabjr/pppuyc889twffJ+ZRxjdmn31256eJwe+3moAJTAIC6lPTR77nnnsytra3mIAJmIAJDJbATG9729ueHewrOvs+55xzdnbguyZgAiZgAiZgAiZgAiZgAlOKwEte8pJCmXDUJu6m1EdyZE3ABExgEhB43vOel6E48thjj02C2DgKJmACJmACJmACJpAVi3zZXooFDCxksJiACZjAKBEYVSV2W7gYpVTmsJqACZiACZiACZiACZjAFCBgc+5T4CM7iiZgAiYwBASwbGFliyH4EA6CCZiACZiACZhA3whg4eKhhx7qm3/2yARMwARMoDuB/+5n0d2dXZiACZiACZiACZiACZiACZiACZiACZiACZiACZiACZiACZiACZiACZiACZiACZiACUwnYIULJwUTMAETMAETMAETMAETMAETMAETMAETMAETMAETMAETMAETMAETMAETMAETMAETqEnAChc1gdm5CZiACZiACZiACZiACZiACZiACZiACZiACZiACZiACZiACZiACZiACZiACZiACVjhwmnABEzABEzABEzABEzABEzABEzABEzABEzABEzABEzABEzABEzABEzABEzABEzABGoSsMJFTWB2bgImYAImYAImYAImYAImYAImYAImYAImYAImYAImYAImYAImYAImYAImYAImYAJWuHAaMAETMAETMAETMAETMAETMAETMAETMAETMAETMAETMAETMAETMAETMAETMAETMIGaBKxwUROYnZuACZiACZiACZiACZiACZiACZiACZiACZiACZiACZiACZiACZiACZiACZiACZiAFS6cBkzABEzABEzABEzABEzABEzABEzABEzABEzABEzABEzABEzABEzABEzABEzABEygJgErXNQEZucmYAImYAImYAImYAImYAImYAImYAImYAImYAImYAImYAImYAImYAImYAImYAImMOtEI3jyyScnOgh+vwmYgAmYgAmYgAmYgAmYgAmYgAmYgAmYgAmYgAmYgAmYgAmYgAmYgAmYgAmYgAnUImALF7Vw2bEJmIAJmIAJmIAJmIAJmIAJmIAJmIAJmIAJmIAJmIAJmIAJmIAJmIAJmIAJmIAJZJkVLpwKTMAETMAETMAETMAETMAETMAETMAETMAETMAETMAETMAETMAETMAETMAETMAETKAmAStc1ARm5yZgAiZgAiZgAiZgAiZgAiZgAiZgAiZgAiZgAiZgAiZgAiZgAiZgAiZgAiZgAiZghQunARMwARMwARMwARMwARMwARMwARMwARMwARMwARMwARMwARMwARMwARMwARMwAROoScAKFzWB2bkJmIAJmIAJmIAJmIAJmIAJmIAJmIAJmIAJmIAJmIAJmIAJmIAJmIAJmIAJmIAJWOHCacAETMAETMAETMAETMAETMAETMAETMAETMAETMAETMAETMAETMAETMAETMAETMAEahKwwkVNYHZuAiZgAiZgAiZgAiZgAiZgAiZgAiZgAiZgAiZgAiZgAiZgAiZgAiZgAiZgAiZgAla4cBowARMwARMwARMwARMwARMwARMwARMwARMwARMwARMwARMwARMwARMwARMwARMwgZoErHBRE5idm4AJmIAJmIAJmIAJmIAJmIAJmIAJmIAJmIAJmIAJmIAJmIAJmIAJmIAJmIAJmIAVLpwGTMAETMAETMAETMAETMAETMAETMAETMAETMAETMAETMAETMAETMAETMAETMAETKAmAStc1ARm5yZgAiZgAiZgAiZgAiZgAiZgAiZgAiZgAiZgAiZgAiZgAiZgAiZgAiZgAiZgAiYwqxGYgAmYgAmMLoH/+7//y5588sns6aefHt1IOORDSWC22WbL5pxzzuw5z3nOUIbPgTIBEzABEzABEzABEzABEzABEzABEzABEzABEzABEzABEzCBiSZghYuJ/gKT7P0LL7xwNm3atFasrr766owJYYsJmED/CZC3/vCHP/TfY/toAjkBlHj4e8lLXmKlC6eIKU3gNa95TfaGN7yhaM/QrrF0JzDRzJZZZpls3nnnzR599NHstttu6x5guzCBcSAw0fliHKLoV/RAYLKWW/1K9zPPPHO21lprFYR/8pOfZA8++GAPtLs/uuyyy2ZvfetbW3XJaaed1v2hIXIhXq9//eszlKjvuuuu7LLLLmuFcMUVV8wYu6GuvPfee7Nbb701u//++1v3fdIfAnPNNVe25pprZq961auyf/7zn9n111+f3X777f3x3L6YgAmYgAmYgAmYgAmYgAkMFYFJoXDx8pe/vOjEzD///Nnss8+ePfbYY9nPf/7z7Nprr82effbZoQLej8DMNNNM2ZFHHlkoNvztb3/LjjnmmOzuu+/uh9c9+7Httttmr371q1v+0Jl85JFHWr/TkznmmCNbf731Wpd/89vfZjfddFPrt09MwATaE8CyhcUEBk2AdPbiF7940K+x/yUEFltssWz55ZfPaOf8+9//zh566KHsqquuyn73u9+VuB79S6997WuzLbbYIrvjjjuySy+9dGgitOmmm2ZLLLFE0aYchMLFsMa7lw/QlBlWdZhQoy35ghe8oEjrP/zhD7M777yzVnB23XXX4vk//elP2c4771zpWd694447Zv/4xz8yJtbIc73IZPyuvfDox7Okq1nySde7fvrT7Kf5XztZf/31szme//zs/gceyH7wgx+0czbu1+vmi5VXXjlbbbXVsgsvvDD78Y9/PO7hnawvHFauu+yyS2FZrE65NQrfqG66bxcnJq7f9773FbevuOKK7IwzzmjntKfrjLUwvvLKV75yjD+jpHAx33zzFeNFjI1JUHxB4eKlL31p9qlPfSqbe+65datQLHnPe95TKFpvvfXWretNT7bZZpuMMJx11lmF4mNTf8bzuUHU2ZQ1u+22WzbLLLO0ojLrrLNa4aJFwycmYAImYAImYAImYAImMLkIjLTCBQOjBx98cLbQQguN+SpvfOMbMzo3O+ywQ3b22WeP0eQf43CIf7zoRS/K6IwhrDCOE6urrLJKoSHPPRhst9122f7778/PkZMFF1ww23iTTVrhfvjhh3tWuHje856XvfCFL2z5+cc//jH7z3/+0/rtExOYLASm0jYib3/72zMGop944olsp512GupPyIqyM888swjjoYcemt13331DEV6UJt785jdn1C+//OUvs3vuuadS2TiV0tlQfKg8EAsssEDRvomD4YQNBQwmo3+bKyd+/OMfz/7+978PS5Arh4Mtahh4ZjI7tYD1gQ98oIg78WQFYGz7VH7BCDqcqvFOP9W6666bbbXVVmMmJmjTr7HGGuOS5pkURMEJeSCfqGdCT9Ip3cpNeuz3d6V9y0QgK2SnaruWCUHkNblyVieFi/e+970ZdfHv8xXww6RwkaaRbr81UYcCEkrtluoEOuUXc63OcSq6RPEuKlvQ9/h7vshllOTDH/5wsRCJMLMA6fHHH89+/etfF1E46KCDxihbUKdQx1G/oHDYq7zuda/L1pu+oIZ8eNhhh/XqZe3nh6HORtkF5U8pW9DuZVzqF7/4Re34+AETMAETMAETMAETMAETMIHRIDCyChcve9nLsmOPPTajE9dOUFhAGYGJi1NOOaWds6G8fvLJJxcDhQSOCYftt9++Fc4///nPrXNOnnnmmTG/p/oPFG1YDSY56aSTsu985zv66aMJTDkCDByyLQSrmjDBO4qCctYrXvGKYlXWsIefgTVWSSGsIhuEwkWdb8pEzeGHH57BMAoDf+eee252wgknxMs+n2ACbF2Boo4GaBkoR7GC31qpyEQAddvuu++e/fWvf53gENd7/YknnlgM9JcpTzEQTZvtX//610gqk9Qj8T/XUzXe/yPwX2WiOKHMBBAWXUgPtOdJ8ygZHXDAAfGxvp7//ve/b/mHUlOUTuk2uovn/f6uKJEjKBDQB7JMfgJMfmLpBYsHlnoEOuUXc63Hcqq5Xm655VpR3muvvbJYN7RuDPEJygb0mZCnnnqqUFiXIgUW0/hDGGOiXtXWLChKdBpbKx6q8I/yirYrChwTZZFtGOps0pEWUKFkAevJaH23QpKwExMwARMwARMwARMwAROYMgRGVuGCDkvaIUTxgM4k1g1Y1SR5xzveUezf/KMf/UiXRvqISVlMWr/tbW8rBgA8WTbSn9OBN4GBE2DFMINvKGuNqsLFwCH18QXjMZhW9ZtifhmTy8997nOLGLIqmsFXJnCYwGf7BhQvmLy3DAcBViVK2QIrJFjykiUI2jdHH310scULyhe4PfDAA4cj4BVDMVMHd5/85CczTF4zQD+VVvBP1XjHpLD9dDPxXDvnnHOyCy64oLhNOv/85z+fUZahPIZVu9/85jfx0b6dY9GCrUvoT6TKzZ3SbbsADOq7xj5Ou3f7+uQggBI5k6BYpbI0I1CWX8y1Gcup8tTz8+2IkD/k29SOmrIF4aYdJWFLLilbcA0LYhK235WyBddoc/ZDUDZk6xcs602UwsUw1NnxO5x33nlWtuhH4rIfJmACJmACJmACJmACJjDkBP6nlTDkAY3Be+c73zlmlTOTW+ypyQQUpua3y61a/OEPf4iPZJj17bewnQed1nnmmae216x+ftWrXlX7OT1w6qmnFlYvMAn56KOP6nLPRyyHvOUtbym2KqniGQPhMNCq2yrP9OpG3OeYY45evSqerxtnJsIwy88gQh1hwI9vzrOa/Kz6PBMMdNpZKWIxARMYbgKszn/3u9+dbbbZZoWy30SGlgFPlTfXXHNNYf1nzTXXzDC3rkn8zTfffCKD6HcHAuuvv37TzFnCAABAAElEQVShDMMlLKOgTKHvxDWsWWCeWFttMBHHJHS/BasCbOWQKrZ2ew+T4r22CTB5jXWDfglxWHjhhQtLCVX9ZPUnlkb6UefSVoEJTDv5VyXefO/555+/ajRa7mBAGKq2WyaC2cumr7il/JSyBRFgouiLX/xiKy7Eo6nwXUnXnb7DI488MoOyRdP38VyV74o75TkpW3GtqdDepFwgrmWTzWX+0rZeZJFFaud52tB8k9lmm63M29JrvGvxxRcf175DGhDSAFafiHPVPkwTrr2WJSieVVW26EcaQjm3SR8n5Vv1t8Jct67Rc03zSx2uVePSpNykTCcu/RJ4UN+xdVyZqN8et94sc6drtB+pCwlnp3JT7nVsku6b5C+9Lx6b5O34POcqNx/O64NuggXBOmMn8q9JOViVkRRGeFeqREE7TdJ0uyXSBeU+cWgnWGbrpmxBOsSfdum1nd/9aGu287tqnV0lDLFc67QFFmFpwoLymjosflPFq2pakXsdyT+0HeqUS7y/zvhWk7gqfD6agAmYgAmYgAmYgAmYwLATGEkLF0wWRfn+97+fXXXVVa1LDM5+6EMfyr785S+3Osys5mWy+/777y+UMlDakBx//PEZfkgwQaoOEiuBo4ljBs4/+tGPFn7JRCDPMXDDCgLMF2oVAZ2VT3ziE/I2u/DCC4vOCMoWGrRAWYTtLthCBDk9VxyZa+65W89wQmf2m9/8ZmFim9XIqb9Y7jjyyCNbE3xjHm7zAwWUx/JVG5I999yz2Lc6Dlwx6H3DDTcUK5/TFdsM5mDWOXboUXLp54rUz3zmM63OHqsNYcueu/o2hP0vf/lL9qlPfar4rlgy2XnnnRWl1pHJKf5YuchKb0ndOM8333zZIYccMmbCAkYXX3RRtvEmm8jb4h1x3286laxCjt8dx08//XT2pS99KWMSVLLxxhsXK871m1WeTNzSoUb23nvvroMXetbHqU2AAcBUKAfjdSY1yUNlwsTcMsssUyi3seKXgaJO+Ru/GcglXWsymHJi2WWXzTDNfv311xdlWNm7mKhh8uVNb3pTsbft7bffPmbFVdkzDCStsMIKRVlMGXj33XeXOevpGqx4B+EnTIiUF8omhMmnKttZ3YXEyfLiwvR/hB9lPaxLYHq3Snzit5Nf3b4pXCXHHXdc6xs88MADhTIIlpKoy9j6JNYJesbH8SWwetgOq531KvIhW8GwQhdZZ511CgsAnL/rXe8qVhVyjrJGOtBO22j55Zcv8jIKQVGo43iGtEB6lPwl37v8xNwCivKArqPoOnfeXrn33nuzm266qai7VFfhhnRNG4jVk+Rx2mTKH9znWdo2CHU7bQjqWAZtyTdbbrllcW+//fYryqLiR4d/l1xySfEOOSEetFPiPuywYzCd/cQpq1JBQYk2ptpCtH3I/39rsHf7GmuskW299dZjJnPxj8nTz372s0VZp/eXxVv3YMr9OOFFPJgooZymTQg7GCL77LNPYQGNdhMWFmBAOSGh7PrCF75QfDNd03EimSltpJYlCFssR6tOjitOHHfZZZds1VVXHfNdmQj62Mc+1mqz427ddddttfn333//7OGHH66Ubnm2TNp9V/Iv8b3g/POzBfOtUpZYYolW2PAH0+O0bUmj9FdQJo9C3Uzeob+xzTbbtG6Rbwk3/oknN2NebDmefoLJc/oEsW1NesfqEXkPYfuSdGJu0003zTbaaKOWuXTcEV62cIx9Kq4rvlxncoi8j7C6Wv2f4sI4/GNiiHKQ9klkRNhpc19++eUzhKIJ136VJWeddVZG35P+K99WIqZV0pCe6XREkQtrSnHikz4O6Uz9kPi9xrOuqRPXqvmljOt41TWU6VjqfP3rX9+qaynTb7zxxjFpstP34h5lmhaUHHPMMRlbzSlvcZ+y/hvf+EZ28cUXZyhzbpL3VWO/XX1r6u9UUJig7oiTrtRflM+f/vSni/SYPsPvJum+Sf4qe3eTvJ368/Wvf31MWYwygNopML7llltaj2yRKyuvl3ON7R7yzPe+971Sq3FKx03KwaqMCC+LcaJQf6R1iO7zLRG1IT74wQ9mK664YmGJgTI+Ffyh/oG1yk/qZ+LGOJeEsQ+NuaRtM9wstdRSRb2MPxL6Q5QxtC2jDKKtGf2P5+3q7DphwD/aHG9/+9uj1xlpCxFr3WzC4vd5u/rJvJ6WYjCKonvssUfhZdW0guOVV1659RzphnE06gJ9W8olxrTOPPNMBbd1ZHyS9ELbNJYrjCtglQyLvKnUiWv6rH+bgAmYgAmYgAmYgAmYwKgQmHVUAhrDGTv/XP/KV74SbxfnDCL8/Oc/LwbudZNBdAb2YseYe5pAkzsNtPM7ntOhoCOWuscdnRsmrhg80aR/fBY3G264IYcxQoeGDhkTXazoe850s+9jHE3/wTuQqOjBb4VHR651kxg2BpxZmZEK71ktn/xhcFQD+bghnkz8qzOm58omA3WvyTHGk4FgBkhToaPOhA6TGtF96o7f8bvXjTMd2kMPPXRMesBP3hmVLXSNI0K4meSMAwr/vZMVE1CkFfgy+YKk3xAFmygM5FhMoAqBOPAl90yO8Cdhtfzaa6+tn8WRiTkm41AQisJA2FFHHZVdeuml8XLrnIHIRRddtFAIYtKC/BrzHANyTGbFiUvepedaHk0/YfAIq0VSYIv3yRcMMqsMIh8xicoEdJyYi8/UOSdcDC5p/2OeJf5f+9rXirKG3yhiROGZK6+8Ml4qzpn8TCequMFkMopg5GnqpSrxafJNmTCk7mKgnNVmUTSxWXYvuvP5+BGYb/qe20/kSg6dVgYyAMrEBu0C6hBJrNvjue4rT6o9oevU6+TZ9Dr3UQJFaRBl06jAoToX60tpecFzKAMwaSylVeVX7qWie2XhS+vF9Fn9jvFlUp6tV+IgMO6IH/kBK2FMHNBWlDC5xGBwFMKFham68p73vCcrm6zAPxQkqPPf//73t8q3snjzTuLEBHa6ipR4oDgjeW4+gSfRxDlHFEvEVvfhyZ70KMpEJauJZoZiDqxpS9JmisqA1B0SlPfqCOkwnfiACYo4sI3pIKY1pe+UX3x3p3u4a/dd9dyGeX1cludII0yu8/3K7isMMc1zDfe0V1OBAUoTtGOjcmJUMInPUJ9J2YLrYiE3KAeTxlNBsYoJGPppmlzCjeLLRN5ECt+XvEf8UiHslKlMFMaw464u136WJWKvtKRwi2mVNKRn2h0pv1HOStMT7479kJg/ott4rncovGn6bVLX1Ilr+j6Fh2MMZxnXGL/4XHoe/albbhK+k/IFBOniCq6vtNJK6as6/o7h3XfffWdwy336xyg+Mz6RCnUEdQFbNMVtM6hvaO+nym18B8oSFnmcfvrpYxa74HfTdF83f6Xx4DdxbZK3U7+qph+ULdL+P36RrlZfffWiP8QEOH0HidJxk3KwKqNO4Vc4yo7Kr0pTCmt0y9gPCnqp8CxW81jYxGIZJOYR+a3nqKOoX9Kw8gwKU/gTt8pTXu1nW1NhSY8Kaxq2umGI8W/3Dq43ZTF/B6s4VdMK71d8Oad9kMab3yjX0ZeMi4mIH/13yoNUaL8xzpYuaKsb19Rf/zYBEzABEzABEzABEzCBUSHwvyWMIxJiBsRiZ4DJKk0apVH41a9+NeYSqzV6EbTV1RHFHzrRcfKQa3Q8uplnZ3IrFVaeII8//njpqktWXj2ZT452kmdzLfQqQriZzEGIU5myRfSHwW8GFiRMEqQd8bI4yf2gjwwYsZKUwXk4xcEN3k0a4TpskSZxZjI07Tx3izOMmPApU7YoAjL9HxO3VU3Cp3GL/vjcBCIBJtJYRcOf0iqr3XSNY5x40bNMNGjylDz18EMPFXmK9P+Rj3ykUJqQ27Ij6Z2BXwZxUH7A2gXv53csPxnIvSi3DoOSBoI1oQdyqwtYhsA95XXZpAiDXrvvvnsRJuVpnmcgTspu/O5FYCBlC5RSWB1M/Bm4bieEmbqIvzhR2M69Bu/qxKfJN0X5BaE8iso2XNPgPhOdqTIG9y3jS4A0pvZNTNvtQiFlgVSpoJ37TtdRVtK7WRG73XbbFUpAWqlO+tFK2tQf7lHPkm9YYctKQLWNCBsr6KiDmaDlD4sZCO0QXYsT/6n/n/vc54rJZyag459WT+Ke97M/NkJ4GAjm3eRLVoDTLiP/ykoH5c/2229fuOcf5YeULahnmYhH4QuFkYfyMrCO8H5WEiOsDsQvJiOY0ESRDKEtC6tuQhikbEEeZUCceGB9QN+/kx+EhRWjTKoRF6x1IFznG0smmhnhiNa+UKRluwc4wRLrRwhla5Nt9Kj7SC9Yg2AiQG1g0kG0EFG8JPzrJd0Gb9qekucIC9+TtjVKdWrnUTdSbzLJoXwij7CoxzXSlYT8KWWLn/zkJ0W8sGJDHUA+4F0xD1PexOevvvrqIk2Sx/C/naDoo0l46jvSFmEhfZEPERTM+XZlQtmAVUJWwJYpEZY9069r8FC7AoUj2iqUA5QRMEJQJiE/SOpy7WdZojB0OlZJQ52e597uoY+DdRXSImkDZVClx25+VL3fS11TJa5V80tZeMejriHvSNmCvHBIvpCDMh1F5yplelm4dQ3rLLSPsVRy11136XKhbEH6xvIC1h1J87pPWo91IeUCCwWkbHHdddcVdQV1EXU8/ugZueFFTdN93fzVilRy0iRvJ14UP1GUpDxTeUBZqvL3pumWQFDgk7IFSuHwxg1Kq/StEMZOyEftpE45WIcRFgkJyxFHHNF6NW0yxYEj1igklPdca2cBQ+7gImUL4ki5TxlBmlC6pW6ICsB6Nh7hQponL1Nf0Fbj/cRRlgFRio3W+fQ86W6QbU29p9OxShh4nvxMvKKCKO3QyLoXFryDspk0STnN+5A6aaV4IPzjm2CBjfYXaVntf5y8O1hy5TftWSlbYGWSMoQ+OO1N2r0IZRHlCdJrXAtP/M8ETMAETMAETMAETMAERoTAyClcaBJMfMtWP+ueBrb1u9vEt9yVHemEMPgrocPHCmVWQ9HZjKIJxHiNczogdIDptDIRH0UTJqyGZuBFnRXcMGHJtR0Tk8Lxec7Pzc2+0tmJf1ppEN1iplzcWIUhYXDhq1/9ahEvOm8abOA+JjMRzEhq8J/fdPYwQUicmFQYpNAJhAMDGJo00PtYuXPzzTcX9xlQisJAA89pMqZunFlpiKl1CVzo2BJnBmsZyC8TFFnic7jjuzO4HycWeLbTRDED2nRmGQDXVg1l7/M1E4gEmFxn0oM/TYIwkaprHClvonBN5qTPzycgWNXy7nzAiAGip/NBRYTBnE7C6lDKL1bDr7rqqtlaa62Vsd0Pg+Aqd3ieATdNyHzxi18slKYYvEP5jPehfNFuoJ9BOcK2wQYbFKaulS94V6+Cv2KARQssgKy33npjtocqeweToawW5o9w1ZGq8WnyTRksvuOOO4rgMEDKBBdlNYOATDxRnlHeWyaeANs5SDopIMjN3/K2ARJXqOlenSNKi7RBUJC67bbbirqS9EwYWKGmOu5lL3tZqbekIQZoKTOYEGcylXOJJoH1u+6R/I05/fhH2KjXJdStKgdQnBBLLJ2dk7fRKEuYPKcNpvJwlVVW0eNjJkZwQx3NJAKTF6zq1AR964EOJ/POO29rkBnLO/gFQ8wrU+6pbcUEVTfRFnqUqVjEYWsn4sFWdKwQbVdGyl8mksnfrF4mLgySS2J7eqKZESbqCJlup+3EpB8W7JikYJKDthCTAHUFdpjvVx1EWxKrbUoHsU1Y1+9e3fMtKZf5nsSPNjgT3pKqyrjwUXqmniU/ciTuWM+jPkXIF0p31LNS/GNiBasv5F/yGfmJdmeZRAUV6nmtjCd9yQIWkyzplkX4RZ5iEoZ2OW31tJ9W9r5+XotlEXFkZT/lBmVEnICWNYAmXOMka69lSZW495qGWE2u1dJMpNKnIy1SZjF5xmrpfkmvdU2vce0Wj/Goa9gCDKHspkz/2c9+VpTpKDbQp+xWpreLA98Ky2wopKFMzXdTGcczpG+UnFipTjxJ/5LYV8UCibYlYTKX/i7tAfIu9fpZ+RY3CHmcvCxpku6b5C+9Lz3Wzdvp83V+a2EN5St9Iimvo7zMbxTIEayExjETvaNOOdhPRnp/kyN9I4R2InGk3KeMIE2w5auE/l4nYexM9Q71nbZooU2H0p4ktu90bdBtTb2n07GfYegHC8b5yPu0G3pNK/fdd1+hkEq/kbRM+1/99hfkVm8kKFppYQbPYPGGMoXFCbQ3pbBJGbHkkksWj/USV73XRxMwARMwARMwARMwARMYFQIzj0pAFU5N0Ol3J/PxNP6jqIMXr1U9p1ONSW1WePOHyVyuMdGRTp4z2F4mDJRrdSWdkTiATyeprFNe5k+7awzS0NnRH52kdHKU/WGlsY4iAe+VMCDLZBxM6bwxECkhngyUpdYwmLTT4DAcGKgdlDBgzmAbA4EMIEdpNxEU3XDeJM7shR2FSRMGxhAY6by4EP4tvfTS4VeWXXbZZUUnlO/ChGccCGsXfqy0MIhFZ5bBMXV8x3jsHybQJwKaIEG5gskuCQO4X/ryl4ufKFR0W8HEAFDMF+RbTQDhCQps2pKDwea4Up37DAijfEFZViaHH354yyJDNHOqlatlz1S9xnsR8ppWDPGbybpYJnKtXzLI+BBGJilvvfXWIrisMuL7UR9SZ7DKPn6rfsXJ/tQnEC3AMCDfTaQIEevxbs+U3eddpHsGRLWfd3SnbUS0Ui3e45w6WRMOuhfbRe3aRHLb5Mhkknih4KG2FX5pgJfzs88+m8MYoS2GEB+t0NWEE+3GdN9p8gmDylWFSUtNmjFhHieCUK5iixVWA9Km7CRzzDFHS5mGMKf1P2WfLImU+cPEABPJUfhWeoayXDLRzBQO2sVSSNE1HbkX8wUTQFgsS//SLWB4DsWXKLRzVSZSFsJ6IgQFJyYzo6iNzjX2Uq8iCy+8cKs9/93vfneGR8gjEtrBiI6cl+3PjhJzmUghkT3ktZpb7i6++GKdFmbhWz+mn6DEkcY3dTPI37EOJ91EZTXqYfIlf7KQ2IRrP8uSKix6TUNxkYAU0+N7UVrrl/Ra1/Qa1ybx6GddQz9faQ4FJdrGUVBA0mR9vF7lXOVZdIsVF0mqWEt9onGI2HZWn5dymG1DUsGKhuoiKSbhpkm6b5K/0vDod928refqHmlvaQEPyszpWBPclI9wu9hii83wijrlYD8ZzRCQihdoK6mORFEuraNRzKGdSH2Qpun0FZqop41EWorCNnpqn9BXSWUi2pqDDEOvLOg/R+k1rURFafmLgioS2/+xvfjl6WMDcs+RRRR/mG5lUwvKeolr9NvnJmACJmACJmACJmACJjAKBGYdhUDGMGLePYoGy+M1naedNZkq1P26RwbcsXKBOVRWiDHYz8RhKu0mP9IOKh1HrSLBDw3CpP41/c1KRk1I4AcdYfY3lWCtIsq0adOK1XW6liqo0FlKt2VBgSNKGsd4r9fz6HccWMHf2BHs9J4mcWYv6ihlg9nxvs7jYDbXWCWvlU38jmFul44ZkLOYwHgR0ETK3SUD7AzEyBILE4iatEzDxkRWNzPhlCUqJ7VaLvWn0+8f/OAHY26rPEjLrDGOKv6YZ555Cpdlkww33HBDlk7mVfS2o7NBxoc6hklnfVsm6bEQRLmGAiOD8CiWaGV5x4D65kAJxIkWmert9MLZc6sUSCfF007Pp/doMzHZSN1F2uglPzHoTp1NPi9rJ6XvrvMby2KvfOUri0dYZclq+SiYo5awWjuV2NZCIYJBaynz1t0+JPVbv1m1iXlt6nnaYvBg0p+Jb5kll9t2R1ki4L4Gvdu5rXOdSU8m2FQG8+wwMOO7ahUt7dVvfetbhcUFVlyz5z0r8fnWTJQz4RctMsX4szJTdUK8np4zGSkT6fjdrk5Lnxv077glVdW8o+1wCBvm7llZ3U5krU99JMqPtG/V7lk4KUwvz62QlE226FnVpfo9DMdLLrkkw6IJZdtb3/rWos+DQinKJdxLJ0+bcO13WdKEW500pPTAe2QNq8k76zzTz7qmTlzrhBG3/a5rYp2qxQp1w1THvRQqeCZVjuIa5Wgch+CalCios9L8wH0EZT/qzrhQpEm6b5K//huCGf/Xzdsz+lDtCttbqe5sV2ewqEaWgOjvpGMl1d70X1f9ZFTnvdFtXGwjBdx4n/MDDzwwvVT6W/UO9UhZ/4/FPYiOpZ6Ei4Nsa4bXdDxtGoZ+sxhEWpECTAQQt3spK8cY39wtsYbZ77jG8PjcBEzABEzABEzABEzABIaNwMgpXKSD4VGhIIWbKge06ySmz7X7zSAd5j9HQeIgEeFlJQH7VkdJTRUzgNCJJ50laarLn3Yr0HV/2I5N4pwORlUdmFbnUgziQJuu6agBbP320QQmgoDyd9nALKtSNYGKclY7aTdAG92/+c1vbv1MV8a3brQ5iZZh5ESrnjUIqutNjlJ+evzxx2d4nEHmfsug43PooYe2lC0w16sVZZQ55+ZbzMz3ilcUFptYVT2I+PWb12T2L+a7KpOVWpX6eD453augZMFK3piHaDeQ51EaiNd7fVcvz7NaVJPyTBSXKVTEulf5ud07cYsChuJXpfxq51e8jpUf8hPbC1H3MxlFucffHnvskZ100knFlgrxmfQ8tj3ixFnqrh+/h4HZGmusUUSFfMCWHxImrzBxjcU26ijcYUmByS4UAFJB4aKKxIkEVme3mzyr4tdEu4kcuk1UaXX283KlcUT1Z5U4xLqbcqFT/up0r8q7BuEGCwJ77rln9tF8cvAVufUQ8j19Rbbr4g/FeqzpiUldroMoSwbBIfoZlfuYKBu0TOW6RkoJMB50md70O0o5V3mgzB8puWjhQNN0Xzd/lYVF1+rmbT1X9xgXU5T1E/AvbgmXjkXVfV8/GdV9t9xLwZXfvWwDhZUMpRnK3k51xGQfFxkEi/FKK0rTWPqVNTellbLjIOJa9h5fMwETMAETMAETMAETMIFhITByChc07hlk1wpFOm5oWpdZAoga2ABPzUTX+QgMYLKqLgoDcwzQYgIx3bojuhvv8zghoXcz+J8qR2jARG7oNKGl304YiIsD1LjThE+7Z4btepM4pwOQmGysMjAPyziYwEoi0m+ZtLte5tbXTGBQBGRFRpOP7d4jd2X3q5gLj89r8K3Mr4m41inuMdwTEbYm79TKNCaSpWyBP5Q5bDew9957F5NOG2+88ZgtVJq8y8/0TkDtmzgBXuYrdYsUJO/PtwPrRRjYZqs00j7tACyiXHnllS3LGSg1lJnF7uWdTZ5lNW3choPtT8oUJJgogg/KTF/5ylc6vooV3TAnb3ebAOjoUcnNr+f5iz8sa7GFEpPVTHajgIHSBcoDbFXUTuKkjZTh2rnt9fpEM8Nqktr1ZRaS2PYI6yt811VWWaVQuPjc5z7XU7TjliqRdU+eTtDDsd7F6kSnSRBZS/n7U09lc+UWkMS9StBje5htfDr1q9pNRlZ5TxU33RRLVJf/O2l3o9CzV77NFpPf73znOwvrKUwo0hZBKRtlKNIaUpfroMqSKjyauol9Q/KXtoto6l+n56Z6XROVlbVFQydeE3GPNE/e6rRIQMqAUhhumu7r5q9uPOrk7W5+tbuPVS1JrEN0jaMmpDmvqgCI2zLpN6Oyd3S7hhUgSbe2qdyVHWPZwpYTl+ZbrbaTyT4uMggW45VWZDGY8py/bt9qEHFtl2583QRMwARMwARMwARMwASGgcDIKVwADfPPUZliu+22y/baa68xPDHFrP1EdUMm4tOOwUtf+lI5aXvE9KwG73CESfYDDjig5X6QChfxva0XtjlhQoKJkyhsgYF561TYoxiT15I/5XuLpyYAGYhlYEUrb9m3MbJfdtlls2hOsE5Y9d5BH2OYmsR54dx8aNyKBAbnnntu12BjjUUrhXDMN8B0fxRWlmFGvpOiS3TvcxPohUDMC2X+kBYZQCwbUIsm6O+///6yxytfiwpLTEKyJ/AgZZFFFim2gtI7WC1dtmc99xkYIq5lFgbSOkX+TeSx2zfVZFqZhScm1VG4QKJZ8YmMz1R/N3UUeYIJD7YGuPbaa0uRbLvttq3rattwIbZvaNvE+rn1QHKy1lprtaxXsfcy214Mo3wit8Ch9IzyEPm4TGiv0G5hIJg03mnyWc9LQbIfeRzubNnDe5mQxkIDf8jKK69cKFtwvtaaa3ZUuHggKNLELT94tt8y0cxi/FLFWMVV37GsfpKbOsf4ThSoR1nYrkbtVJTAy5TQ0/gxafKK3MIRiltVJ9pjWYO1t6jEl/o/qN9si0WY46Rm+i62/lLdGCdIURxjIplrTCJiKYU/ylsUeGiT049iGwC2nGnCtZ9lSRqvQfymPytBQTPd4kz30qPrmv9u01GnronlDFt3XNZhwjnlPV6/UT4jH6AQglJSWf9UeS9aO2iS7pvkr3Yc6ubtdv50ux7LQNpqZe0lxgkkqvv1u+6xn4zqvlvupaTHb8bXUIBMha2/SDeUJ7GPF91RZqDcWSjL5Qq+E1F/xPBM5PkgWIxXWmHLNo0fkh7S/iV175p5+5Y2OErNWHvzd5/I1OZ3m4AJmIAJmIAJmIAJjDeBmcf7hf14HysGo8yfm4U96qijij2oGTRkxRKm06MwMK/B2jj4hhsGwBlYoIPAVhxlqzo0uCA/GfCTxIkPrmmQT/d7PbKykXhVEfYKj+Fn4OTkk08uOj3SROeI3HbbbWO8fEk+SYDiiCYaGbA89dRTi0FIDXCnExxM1DCxgNDZntZhq4ExLxvgjzgIyGsWXXTR1tuaxPmOO+9sPc8JcZTSCVxWWmmlMff1Ix3wxh2ryIuBhtwRe5KfeOKJ2bHHHlt8Hz3nown0mwCrzxD2Hu4kWunIIGIqm222WetSHHxrXaxxwqCzrEVQ5g5aWD3NZJT+1l9//bav1AreMlasUh8WqfpN5Q7FsVQih7888UR6278ngMAFF1zQeittCwawU6FuXnXVVYvLtGtuvvnmlhMmWyVpeqXuj5PMchdXac4777y6XByZfCx7Zoyjmj+ene6+jnUbVpzPP72twYrRdgpTeC0lE+KbWibjPm2097///a22DtfULoR3NBnOPa1857yKsI0Iiq9s40Z7NArKZVoVPG/efugkTGAxSI0wgSOLJnqGdmm/rIxNNDMUqSUayNdvjiivakU4ysF1hAnRaGqbZ/mmSyyxROEN36PMUkr6jibpNvWjX79jOx8/Y3vz/TvtVPqaDTfcsNV2xYEmxcgPW2+99QzP0KZPhTaC0i9tWn2T6I6JT941KJHlDL6r2uLpu3bcccfWpbht2YH5ViLkzSOPPLJ1nxPyWVT8VP3fhGs/y5IxgRzQj9ivi+08vQ7FgDIZhbpG4U7zi66XHQdZ11DOqE1Ge1QKhAoHZfqgrRnpXe2OTJAiGhNJ3dH20JgESkmSJum+Sf7S+9Jj3bydPl/1N4pmqpdZdBK3iZEf9PURxiPSyWi5qXrsJ6Oq70zdxXJfbc/ohkn3ffbZpxhDW3vtteOtGc5lLYPxk6iYIofU9TvvvHNfxkWGqc5W/OKx3yzGK61Ey1bbbLNNjFJxvuWWWxaLHOjfkzaQfse18NT/TMAETMAETMAETMAETGBICYykwgUa3Ow3H4XB1MMPPzzDlO5O+WBjHMhngCMqYMTBN/yg03fWWWdl38j3s9fe4NFvzuOAFL9Z/fTVr361+Ft33XW51JJ0AKV1o8aJOvM8wqQB8ULRRIMcZV4xYMpqtSistCRe6R+KEqxMSVcy0ZFGQYN3HXPMMcVgPgNVRx99dOHtj370oyxOzHGP7UpwT2e738omMS5Vz+MgIM8w6UT899tvv0ZxZiIC7XwJ3+OjH/1oEWcUJtp9E8xixz16SZNbbLFFYeIcCxkf/OAHi3TKN8I/iwkMioDyLMpHKB+0k3POOae4xcReTJNYP9hqq62Ke6w+TsvQdv61u84gJJZ3EAbzUwtFKHFRpmiv+Xb+DOL6N7/5zcJbBr2jMghm7DE3PixS9ZvKOtFsudJenARjEp3ySHLV1Vfr1McJJEBbQ5PP1C0nnHBCtt566xXtFPLF5ptvXiiYqo1DPR0ni+PgPhOftE9ok3BOPc4kZSp33XVX69I666xTKAmghEF76POf/3yrjqN+70ee1MQMygLkqW7tBlZdaxAfBRMmS1EESf808UHbTG0o2jS77bZbS1kBZQpWsq+xxhoFWylAnnbaaS0GBx98cKFASrhwj0JvGbfWA8nJpZde2rrCYPTqq69e1PWENyr1pm2V1kPhRCtA+d5YyKKty/lyyy03Jh2ERxqdTjQzrCZJkZm4bbrppq14kO75BkonNyTt/5bDNie02VBGJi2QF/APlpqELVutW+ZV3XRb5kev12Sam3qcvCgmKDEq76M8DS/lVSZxaf++973vLep1bTNFG1WTv+QHJknIDy972csKKyxLL710aXDPP//84rrSpNoUpO93v/vdhaIR79phhx1Kn08vEjbKuTIFj9Qtv+M2QWwxtMkmm7TKKCzUfOITn2gpTbENIlZuJKzMRVAUwboTaQEhn8NAoknnJlz7WZYoPIM8wuT3uRIbAg+Ykg5IW3yTQw89tPT1Sm/cHNa6pl1+KY1QfnE86hpZtaD8oQ+JAuUgyvR2cex2HaVPbU1A3YXiJ+EjPbzjHe/Idt1118ILFK/OO++8lndN0n2T/NV6YXJSN28nj9f6ybZrCFzYgkjlCO0mFlFQFiLpGEtxsea/fjKq+eoxzi+55JLiN+0sxn2kqIuCZLSsGtPEGA+m/6Csl1D2o5RK2oIlfnGfdAbHXmUY6uxOceg3i/FKK4zDytIldSeLtWhbUW/Qz6TPglBGaLy2SVxRqKS9jvKy2jqdePqeCZiACZiACZiACZiACQwLgVmHJSB1w0EDnMH6dqubon8oW0SrB3QU6IRhGSNKp8Y8nRjMJLLPryRdbajrGvTX7yZHVp6lg510Rhk4bifpCr527rgufz772c8WA8+yaqFneFeUuM/46WecUQxURl6p+/jseJ/fdNNNGZMciiPv51wrQZvEmcF5Bh1jPON5uziiBMSfBvZxF7nxmwkkDWTw22IC/SZwwbe+VQyIUGaxZQCTLAyEUA5GCz1MFGrlN5OtTFAxYcGqd+UnJmD7IUyKMJiPYsN73vOejFXhf3z88WyOvFxnsJJ80q6M7cf72/nBZBJKe4SBVbIbbbRRwYtJqE6CUpcGIGMeZ6JPk1o8j1WJ+LuTn53uVf2mBx10UHb66acXPBncZOUYorByzjYWqfUfrlsmhsARRxxRKBXQRmEQk/qsbBUZk/EoQUZhggmFDazUUO+Qv2Mej251jnusYaH8R54j/fNXJvhLHduLMMGNP+QTrTRnQLWd5Rwpe/FO6t12ZRDKYORZ6lTcMKFKubXaaqsVf7QDVY7hFxNLUsygjXf77bcXVg/ghgJpU0FBEzPirGBmAJoJKixtxHKBMH7605/u+goUz5h8oDxC6YOJ9EHIRDMjTigEoegHJ+oEJu/5ZrGtxcSwJvzrcCBdMymQbv9HfjkrV7iuInXTbRU/67pB2ZFVwSgMUK7z3VDCQshLtFVJc/QHuJ+meRSItTqVeyjabLfddsXz1HX8dRMm1FCKoT9EOKjj0vegBCblxU7+EU7yCYJlgSoTlJR5WKPAOiFpg/jzh9Wssjwma1q8g0lh2h7kceLAX/ocq/axoiOpy7WfZYnCMOjjCXm64TvCk/TFhHLKJQ3DKNQ1nfJLGh9+j0ddg2IzdRIKUZTpKE0OmzChziQ66QGlTf5ieuCcPrFWrRP+pum+bv5qx6pJ3m7nV7frjIlQ/qC4zNgCvNIyEIUkrvdD+sWol7CQbrHMySIlFEzOyMeCYprAbxTpNRHf7l3cZxsWFC1IX7Q1ZZFI5Tf1Gv73KsNQZ3eKwyBYjFdaOe6444r0TV3KWAF/UUgbp5xySutSk7iykAwlSv6wJlOlfdB6oU9MwARMwARMwARMwARMYAIJtJ+9n8BAVXk1DXkUKehgRysCZc8yKCCTdrrPCsa4by3X8RNzfDKrL7c6MiGQWrrgHgOYTFZI6EAuvPDCrS1MdJ3OeCehgylBoSQNn+6l/hBuREe563SUH7yTiQBWuslMsJ7DP9jSeWPQX0KHh4G5dF9X3KZ7meo9ejY9xjhzL8Yhnnd7Lr6HLQHoqKd+y02TODMRtO+++2bp3uIwYx/sKFqlyTU6mKxoJd2k4eE3kwd77LFHyxy0wij/0t+67qMJ1CHwta99LePvqaeeKvIYk7isnmfgLBVWFt893bw7yhBMwjJJiZLAxz/+8ezb3/52+kjxOy0/Sh2Fi+QTVsHceuutxVUmxObLLfSgCMCgG+Ufyh6pdCoXUrf6XTcfMXkjs+Uoo7FCmPd+K1dcaScoZBB2/rS6Dbdw1nXFLfrRJD48X/WbUj/tv//+rbJLYcEP3v2d73yntWKRa5aJJ4ASAFZfUKiI9UkaMqw3kT9TYSKf754KdVWqoCE3rGouU3hgEgVlIklU7FTa1VFu0mOa/2644YYZ2lkaaE/d4lc3/1vvm94W4vctt9xSWJGKbTMpW1Cu0HZMJ4RRdKENk4YBa2DkkzqC8gATFGonKX74wXdAETO2J9J36l1cp43Gd4gcOGcVvspImc7muXZ+RT85j/7xe6KZ0f6mnS2rPDCjPY3QXqLu2buGIozih0IZSkIpFxQOUUCT0g3viW7iOfc6pVvul0nqR+qm7H68Fs95Futo7epa0hNWJWhv6jmleeLI5BMKeFFYbX/88cfP4CeT6bJCFd3rHIWk2G/QewgbCgtYlcH0fioKl66jnKS2cbSYoPvtjihUMVGt9I875THegV8oOqVlGmEjP9H2Vljic3xj0mCUJlz7WZYoHc8UAxXOFY9wqRU3rpXdj245hwsKmdFaElx4NlrsSZ8br7pG7y2LS7wWz3mmU34p46prel/bYw91DWEkf8A8vo9zFF/V94/32oUjxlf5KLqN9+N1nbd7B0pZ9E2p++RG+YQ0gvWBsjZGk3RfN3/FOMXzJnlbHDodFf/UDVuYoPyn8lhlIO4pg9NyJD4fwx2vtzuvywh/YnpI4xDfH8/T52J48IN0e/3117f8VpqgvvjSl75UWGzRM9HfeM592l+0kXgOwR+VN9T/KPtoyyvuK/w6cq1M0vf0s87Wu3Usez/X0jB0c99vFnXTSkwnadjL4qN4UzawQINxrhhHzhkPpK1BmyNK3biSpxHCRTvOYgImYAImYAImYAImYAKjQmCmfIVxHKcdlXDPEE4mtZgIYO9HVoygFa2BWhzTATj11FOza665ZsyzPIdyBOYzGZiLnYYxDsMPJgZZ1cAqMjqEnSZEwmONTokP7yJ8dDziwHAjD7s8BA/eRye4yuAn4cOcMCtk40Bdl9eMy22+P2mCCSmsmsSVODEAVeOM2UQGApi0xnwug/WsgmOFIGlCQgcUpY8yYfKWMGFKvF14yp7zNRMoI/DQQw+VXe7LNfLFUkstVeQfBoEfeOCBvvhb5gkDleSvRRZZpFB06KT4Vvb8oK5NmzatWO1JvscsKnvWM1GKMNk9asIqIRhTR1LfMWBetf5Kt6satbiPcnipN1AaZWCf+ueAAw5oWWxisBSrTWUrv2ijkK9o11T91ljoYpsfhHo9Dsb2myGm1LHiwYBt3Lar3+9hIJ92Civxfv7zn1eKE9vGsXIVBr1apOE7sJ0Tyhe0RTTJUDeetGnwh+cZfOa7ogzLdRiiWNUvmWhmKAWS5imraIumiq1N48kWNrRbmRBr+l3HK922iyPfm/SMdQnSARMsZULeQlmQvK8tAsrc6RoKmDDHKgDKElic0FY+H/rQh8ZYfdAzHFmpT36hXRsVnKKbTufU/5RxUrTp5LbsHjz4rig9oigJk7KJo7JnWamNpQ62I6A9VaUPWJdrP8uSsjj0+xptP/o48OCbUhaguIAwgcmCgFSGua6pml/SODX5XbfcJGyU6erjV0l/TcLVyzOKE8q61DNV82nTdF83f7WLW5O83c6vbtcpAxlLYsEOypFN65Zu79H9fjGSf02OjK1Q7rIlXZX6pd07KDsYd6J9pAn2dm6bXp/oOrtquAfBYrzSitpr9N+r9BuqxpW2AQocVfysytnuTMAETMAETMAETMAETGDQBCaNwkUKig4GE2Os0EZoqGOKGZPRFhOoS4DBlJNPPrkYeMTULis86FyydzQTWhImQspMv+u+jybQTwKDVLjoZzgni1+rrLLKSCtc9PIdrHDRC73+PouCH5a7mNBAXO/0l+8w+YbiAavIWUmbbuXCtk9Y0EKuu+66YjuJYQq7wzL8BDDrvmpuCvyQQw4Zo3zHJOuZZ55ZKHWgvLDZZpsNf2QcwoEQqKJwMZAX21MTMAETMAETMAETMAETMAETMAETMAETGDECs45YeCsHF+sDWBpgr15WObAvNCszLCbQhABbKbA6Ftl2222LvzJ/brzxxrLLvmYCAyHAanSZrB/IC+ypCeQESGeW4SGAVRJMLlMXsac224FYJicBLAuwAp8jFnZYYc5qP5S/VltttSLSTIizfYnFBOoQYOurHXfcsVAkZq/1K6+8stimBktIW265ZaFsgX/ttiGq8y67NQETMAETMAETMAETMAETMAETMAETMAETMIHJTmDSWriIHw6TnTZFF4n4vC6BlVdeudi7lLTUTq644orsjDPOaHfb102g7wQwW1vVvG/fXz4FPZyqFi4wNc9Ke4sJmMD4EsC61pFHHllsuVD2ZkzQs3f6ZZddVnbb10ygI4ENN9ywUK7AikGZoNyz2267DdxEftm7fW04CNjCxXB8B4fCBEzABEzABEzABEzABEzABEzABExg+AnMklt/OGT4g9lbCIdxT9TeYuSnx5sA+ztfe+21GSv/WO3N3pPIX/O9s9mTndWlF1100XgHy++b4gRQACI9ssL5X//61xSnMfjow3vatGnZww8/nH37298e/Asn+A2krRe96EVWtpjg7+DXT10CzzzzTKFMgeIFW+TxN/PMM2dcf/DBB7PDDjssu+2226YuIMe8JwK/+MUvsrvuuit7+ctfns0+++wZ2xWhoP7kX/+aXX311dknP/nJon3R00v88EgTQOFio402yuhL33333dmdd9450vFx4E3ABEzABEzABEzABEzABEzABEzABExgUASmhIWLQcGzvyZgAiZgAiZgAiZgAiZgAiZgAiZgAiZgAiZgAiZgAiZgAiZgAiZgAiZgAiZgAlOTwMxTM9qOtQmYgAmYgAmYgAmYgAmYgAmYgAmYgAmYgAmYgAmYgAmYgAmYgAmYgAmYgAmYgAk0J2CFi+bs/KQJmIAJmIAJmIAJmIAJmIAJmIAJmIAJmIAJmIAJmIAJmIAJmIAJmIAJmIAJmMAUJWCFiyn64R1tEzABEzABEzABEzABEzABEzABEzABEzABEzABEzABEzABEzABEzABEzABEzCB5gSscNGcnZ80ARMwARMwARMwARMwARMwARMwARMwARMwARMwARMwARMwARMwARMwARMwAROYogSscDFFP7yjbQImYAImYAImYAImYAImYAImYAImYAImYAImYAImYAImYAImYAImYAImYAIm0JyAFS6as/OTJmACJmACJmACJmACJmACJmACJmACJmACJmACJmACJmACJmACJmACJmACJmACU5SAFS6m6Id3tE3ABEzABEzABEzABEzABEzABEzABEzABEzABEzABEzABEzABEzABEzABEzABJoTsMJFc3Z+0gRMwARMwARMwARMwARMwARMwARMwARMwARMwARMwARMwARMwARMwARMwARMYIoSsMLFFP3wjrYJmIAJmIAJmIAJmIAJmIAJmIAJmIAJmIAJmIAJmIAJmIAJmIAJmIAJmIAJmEBzAla4aM7OT5qACZiACZiACZiACZiACZiACZiACZiACZiACZiACZiACZiACZiACZiACZiACUxRArNOdLznnHPOiQ6C328CJmACJmACJmACJmACJmACJmACJmACJmACJmACJmACJmACJmACJmACJmACJjBBBJ588skJenNvr7WFi974+WkTMAETMAETMAETMAETMAETMAETMAETMAETMAETMAETMAETMAETMAETMAETMIEpSMAKF1PwozvKJmACJmACJmACJmACJmACJmACJmACJmACJmACJmACJmACJmACJmACJmACJmACvRGwwkVv/Py0CZiACZiACZiACZiACZiACZiACZiACZiACZiACZiACZiACZiACZiACZiACZjAFCRghYsp+NEdZRMwARMwARMwARMwARMwARMwARMwARMwARMwARMwARMwARMwARMwARMwARMwgd4IWOGiN35+2gRMwARMwARMwARMwARMwARMwARMwARMwARMwARMwARMwARMwARMwARMwARMYAoSsMLFFPzojrIJmIAJmIAJmIAJmIAJmIAJmIAJmIAJmIAJmIAJmIAJmIAJmIAJmIAJmIAJmEBvBKxw0Rs/P20CJmACJmACJmACJmACJmACJmACJmACJmACJmACJmACJmACJmACJmACJmACJjAFCVjhYgp+dEfZBEzABEzABEzABEzABEzABEzABEzABEzABEzABEzABEzABEzABEzABEzABEygNwJWuOiNn582ARMwARMwARMwARMwARMwARMwARMwARMwARMwARMwARMwARMwARMwARMwAROYggSscDEFP7qjbAImYAImYAImYAImYAImYAImYAImYAImYAImYAImYAImYAImYAImYAImYAIm0BsBK1z0xs9Pm4AJmIAJmIAJmIAJmIAJmIAJmIAJmIAJmIAJmIAJmIAJmIAJmIAJmIAJmIAJTEECs07BODvKJmACJjBpCDz99NPZH//4x+xvf/vbpImTIzK6BF7wghdk88wzTzbbbLONbiQcchMwARMwARMwARMwARMwARMwARMwARMwARMwARMwARMwAROoSMAKFxVB2Vk1Am94wxuyV77ylYXjZ599Nrvuuuuyf/3rX9UetqtxJTDrrLNmq666ajbTTDMV7/3tb3+b/fKXvxzXMPhlvRFA2eI3v/lNb574aRPoIwEUf/hbaKGFrHTRR672amIJTJs2LXvd616X/fOf/8yuv/76iQ2M3z4DgdVXXz2bZZZZijYMbZnxlFe96lXZa1/7WqeN8YQ+gu9acskls0UXXTR78YtfnP3hD3/IvvKVr4xgLEYjyEsssUSh+Pnoo49mP/nJTyoHeuaZZ87e/va3Z69+9auL9svdd9+dXX311ZWft8PJR6BpWpp8JBwjE+g/AdrVtK+feuqp7MYbb+z/Cwbo41xzzZUts8wyxRtuvvnmkVj44r7MABOEvTYBEzABEzABEzCBQGBSKFy89KUvzRhsnW+++YoBkscffzz71a9+lX3ve9/LmPSfbMIE+cEHH5wtuOCC2d///vfsC1/4wtBMlG+++ebFRJuYM9D12GOP6ecMxze/+c0ZShoSvhnfL5UNNtigGEzn+l/+8pfs2muvTZ0M9Pf73ve+bPnll8/+85//ZBdddFF2+eWXD/R94+E5g75bbrll61VM3B966KGt32UnSy+9dJHudO/KK68s0qB++zi+BLBsYTGBYSRA2px//vmHMWgjFSbqSAb0XvKSl2T//ve/s0ceeaRQZPz9738/UvGoGlgmrzfeeOPsrrvuyq666qqqjw3c3YYbbpgttthiRZty1BUuNt100+zlL395ds455xQTvwOHNw4v2GqrrYq3/PCHP8xOPvnkym/km771rW8t+g+0p2kHMcH6j3/8o7IfpA0m0ulv1EkbtClXWGGF7Nvf/nb205/+tPL72jmcjN+1XVwn4vqLXvSibI13vCObf4EFir4mShM/+9nPMiZaOgl9NtrWC+TPRbHCRaTR3/Ptttsuw9rWn//852yfffap5Dll4kEHHZTNPvvsLfdMTlnhooVjoCf9Lg/7Fdgmaalf77Y//yMwHuljPN7xvxj5DAK0W17zmtdk/8n7N6OmcEH7cYsttig+5J/+9KfstttuG/qPuv7662eLL754Ec467dWhj5gDaAImYAImYAImYAJDRmCkFS4YTNlvv/3GTADDF23p5ZZbLnvve9+bffOb3xzJwRK0pp/znOcUyYVV7HG7ADqEsiIBAxr7hxxySOF21P6ts8462Rvf+MZWsBkc++53v9v6rRMULiSsMB1PhYvnPve52YorrlhYgmAFJYPrk0HhQjzrHDfaaKNiokbPMEmAclMv0imt9+LvVHg2lguTPb6sOtxll12yJ554Ittpp50mXXRZWXnmmWcW8WJy5r777huKOKKYxaQ/k01YwLnnnnsKxbNugZtKabMbiyb3X/GKVxTtG8rHKHwL8gIKF5/+9KdHUuEN60rUpSiQpBawdtxxx2Lym3jedNNNY9o+kYPPmxFg5fZaa61VPEzb5phjjmnm0Yg/Rdv5Ix/5SJHWYlRQvlhvvfWyr3/96wNvZ26fK/LOnOcDrAHtvvvuMRjZ8573vOL3M888M+Z6ux/9/q7UR/RBUCKhzT2VBRZ77bVXUQ/KIhw86GvSH9tmm22yU045JbvzzjtLMW299dZjlC1QGmc1r4R8iL//93//V6lu1XM+9pfAnnvu2VK2IN0zgfbAAw/09yVT3LdO5Vqn8nCUsHVq34xSPIYtrOORPsbjHcPGdbKFp1MZMwxxdX0/DF/BYTABEzABEzABEzCBwRMYWYULVnsedthhrUHJMlR0elFGYOLiS1/6UpmTob123HHHtbZ6YOKKgSAJg3VRUMiwDI4AVi2iTPXB58iiH+ed0no//LcfWcYkJmXmZZddVsu88jCxw6IPZTkWjSajMAGNWXqEOA5C4aJOOmAC7/DDD59BoZFJ8nPPPTc74YQTJuNnGIo4sdrrIx/+cDEZS4CY/GGCjjQy22yzFWHEesjRRx+dHXDAAdmTTz45FOGuGgjCjSIJbZkPfehDYx7DMgrWylDEiJOSYxz5R2MCKLWSnpjgfeihhxr7M+oP7r///mOULWRZbd555y3yGda/7r///oGUw2L3j7ztPscccxRKhLrGcdlll8123nnn4hLWOrDa0U36/V132223DFP6yPbbb9/t9ZP2PvnkiCOOKNpPiiR9APpdc845Z5GPmODZY489srPOOiu74YYb5Kx1XGqppVrnH/3oR7OHH3649ZsTWWRhdSwWCy3jT4DxAixcINQ7LOaoY+Vm/EM8em/sVq61Kw9HLaad2jejFpdhCu94pI/xeMcwMZ1sYelWxgxDfF3fD8NXcBhMwARMwARMwARMYPAERlbhgsEQaTELEyvBns7NAL8wH8iPq5BWWWWV7Mc//nHb1Ud6flSOWBW47rrrMgbxGLg744wzRiXoIxlOJn7OPvvs7F3velexAo3JRosJjBIBzK2zWpVJmTr7WY9SHEc9rEyCDlqqpgMmw6lXWImDoHTGJASrwpn0R5ERxYuTTjpp0EGekv5/8IMfbClboHiDJQtZgmCS75DcohUWR1C+wO0nP/nJkeIU22dpwFHAm5abcceCR6rsmLr17/oEqANQ4J177rkLxvV9GP0nUCbT9g5sI3LggQe2lJawHoN1PNLotttuW2zfN6gYk3fZQufXv/71mFfE/BHPxzhKfvi7JkD69BPrFCirIvQxUb747W9/2/IdZRRZwMPSxe233z6D1aHnT9+iAqWeVNmi5VF+UvVbx2d83h8C5EPJHfk3tLKFaPTvGNN3PNcb2pWHuj8qx7K4jUrYhzmc45E+xuMdw8x41MMW8148H8Z4DXv4hpGZw2QCJmACJmACJmACo0Rg5lEKrMK66qqrZqxCkzBRxV64u+669YHiSgAAQABJREFUa/ahvfcuTPOySjLKDjvsEH/25ZzJJ5lar+shgzvaFqTus7j/8pe/XAyaM/jHPsL9EgYWF1lkkWJirYqf7HW78MILt8ywVnlmPNwQj9e//vUZq5a6yQtf+MIizqyqbSdsc4KSDwPz7cwG8yzpkvdigriJ1Ak3CkeYNCYtVe24keZ6SXdN4tRrWo/vhCvhZxsabbkT75edN/0mTGyStutaVGCSmud43mICVQkwof7ud78722yzzSZ8H9j35abupWxxzTXXZKuttlq25pprFhORmD1HNt9886pRs7saBNjugbYFgjlzlCmkbME1rFlQF2nLFiaPUVDot2BNhrpM6aCq/9SnvbYJiLfSWdX3dnJHHN7whjcUFnI6uYv3KPexNFK1bo3P9vO8Dk/CiuWTN73pTR3bZCgZoNDSSXqJP2mHtgnKWVWEdg9pJlWibvcs7TriCJsmQrtdcsP3vtdStuAa29X9Jd+2CiFcTYU8TJw65R8UilJli6bv47kq3xV3hImwobTVD6GtA9N0+6NOflNudWpzlz3bJB/jD/m47rt4jjYmCvsI+8tT7kZlC65/8YtfzLQPOukdpYtUZpreH3j00UfTW7V+0/6lrCdv1eljUC7wDPlyvIW8yrv5BlX6Y4SvaXrqJX70ZSX35ZZtusk888xTq68s/7CiQdlV5/vBjT5Pv/KrwlJ2VFqhn1UnjHqul2/Q7/KQ+E1EWirj2u5ak/Dh1yDaBTGMlH3kWcppvm0daVfe4k+V9km7d1VNH72kxarvoKynTdmuzqM8oU7k+1YRhblOvqONQVnSqY1R9u667a0yP+K1TmVa0/Qd/dc5ZUuTPomeT49N6tOmzNN3V/1dN85YTKNtx3N1822VMPWah6u8w25MwARMwARMwARMYLIQ6D4bPYQxXX311ceE6pZbbsmYEJewMgWzray+VYOTRigdGQbLWLHEBJLk1FNPzX7wgx/oZ/GcBn5Z1Rv3VsYfTGDjVxw8QumDlU0MvmllDINM7BEtufzyy4sOWuzA8hwmaM/KTdEin/3sZ2cYRKaBj79Murz//e8vBq+ivygAfO5zn8vWX3/9bMMNNyz86fYPc8oyoYxb/F166aXHDJDzPriceeaZhQnq6CcdTUzoPv/5z29dRsmFzup4Ct9O34GVwEzUMEAaB/q5holPfRfCx2AC6WD55ZZrrSRWuJmIgDfmpCXxPWVm0Fk5vvLKK7fCwnO8l/cwwIDErWGif3XCjT+wZ2sABvwkpKO/5ubZj8/TAe+NQh5g/2kUaZQfcH/TjTdGZz2dDyqtK1B02rXyRHHgHisO2WtdA95yz7HuN9Gz73znO4t8JNP9XIcXXFl9zaSG5MQTT2yZ+H/kkUcK0+AMjCK/+93vBro6VmFodyybLKIsidcxjZ1uUST/XvziF2fLLLNMoXBCGYNlnU75G78ZZMLUtrY4oOOPiU/KXb5RnDjWezjCevHFFy8GjyhHKEsffPDB6GSGcwZLVlhhhULh6Ec/+lF29913z+Cm1wuw4h2EnzAhGtyKWwtRBhF30okmwvVuwkm9QdxjGaT7lBFK01IUbDfZjF/ke6xLsL94FQbxe+ud3dIB30JCmtd3Iw9g9vxtb3tbUdYxKfvYY4/JqY99ILDSSiu1fGlnvYp8eNFFFxUKMDheY401stNOO6147h3veEfGdggIyhrp1jS77LJLka9Jq6kiKgOn1BWkGaVJ/PnrX/9a1ImpdZzP5GljrtxSAnXlrbfemm200UZjFOFYdX/ssccWW1fQpqK8jP4yWE1di6hNwpEylDygbRVog2l7g8Jxm39XXHFFsd2NbqNshzUHWTPgOvGGyTHHHFPUH3KrI9ZbaGOqDYF7yqJY7sttuyNlgbYGuPrqq7NzzjlnjFPaWigII2zNo7KlDs/oIZMvfFfaBpEv9eP555+foTQloS49/vjji58pLy5i3WHVXKk5xp+tR6gD1llnnYJfTDekUd556aWXFm2dtyy22Jg21a9+9avsM5/5TCnrDTbYoPBTbTjeT5jZAjC2ybmOkC4/nG+1EyceKZtSvv913f4/5Z/kF7/8pU5bx39Pb8eKQetGhZPll1++mHRXPcEj1Amkt3Sy/vOf/3xRN3D9kEMOKfoWiy666Ji3kAf4u+eeewrrCmNuhh/tvusHPvCBbMkllyy4UpbTbo/xpx4jD2rbEvoS8T6vUB694IILiu+s11JPbLfddmP6LNRN38uVWFCCT4XvzBZIaR+IsoNvSjuSOhDFhih18rHiS7q46qqrsrXXXrtIn2XlXXxH2Tl9CeWnm/O+UFq36xnS30orrlike9rZktPzMnnmfGJOwgScWNIekjKH7lPGcZ82FFu6SKjn+W6L5XlL4eFeLF/ldrm8T7PTTjsVP1HI5/tQrus5OKBU9LWvfU2PtD02LcfwkElX0i3fLgrf9/TTT89+WZLvmqQn0gpbscX4MSZQVfgm++yzzxjn9A35K0szG2+8caF8SrtNQlq7+eabi76yrnGM3+Jb3/pWtu6667bqx6OOOir7xS9+EZ3PcI6SEPHDGpGEd1188cXZeuutV/jF+AF9dIR4EB/c0KdPhTKIdn1ZHqNOIs60VcWS5ymbqLdjOy/Gq0oaY8ykSrmWloe8X3Ui552E8jOWr+Odlqq2bxSHOuETgyrtLPnPsU67QM/RpqfNFBVnyAdP5EqItBsiY56pUt42CYfCE49l6aNuWoz+lZ2XvYM+oNo8tOsYW4iKFtShF154YUZ7CoVp8nkcG6NNQx5VHRvfWyff6TmewbKSxim5Tt10Vj6OqPFKwklfLUrd9lZ8VueRd6cyrU76lt9lx6p9kqplDO+oU58qTLShGHdLmVPuVxHGnClfo7Sr76vGOfpFW4LFGum41b333ltsWUZboZtQ7tNnlHIqbXDGKpF+5eFuYfB9EzABEzABEzABE5hMBEZS4UIT2PoQ3/jGN3TaOtIBYkBHk5/cYBCdDkkcKOF6+jsOssZzBgmZDIgDqTyP0FClQY4bDd7EZ3HDlhSp8BwT9Sg/MGAdB55Tt/IvdaPw65g+V/Y7+rF3bhUkDhLKPW4wlYsGfRwAJZ4MBsZBGZ6JCgDyY9BHMeE9sOcvlWn5ijDi+KlPfaq4RWfr8MMPbxte0tfHPvaxwow7g9xIfE9kxz3YwCgV3hslPhf9qxpu/ELRZ7999x0ziMt1vgUTXwcddFCRxuM+0sSbDlwU3K+Qf9t+SYwPfvYrreMX+e0Tn/jEmEF9riN0fjH7TT4/5ZRT/nsx/9/km/AwE5dlK/fhhaUOJo5Q5pJVmRhvGEfODFJNpDAAlAoTovxJmEhlQiIKky0M1jCIHYWJFAaJKafKhMFcBlVRNGECggGQWCYxgcpAVJy04F16LvUTBRYGtsqUFJgUZaCP74IwsM9KYQbF2ikrpP53+k24GCCLg47En0kKDZowCCchnExyMNCdTqIwAEeaIT1QnkbhPVdeeWW8VJxTh5RNODKRzkQt72Ef2CoMmqQDzJ4z+UWY04lmDdyU3ZshIr5Qm4DKEBShOlkhYNKM9EAeiO2cWM/EcwVEeVJ5R9fb1evcZ7ANhTfqkqjAMUveRkCm5XUd5WMqTKJiFUqDwOk7U/f8Vvhmyetpia7pd7tjjC+ThUzCxIFvniMMTAZSlqNcEhWnmGhgoDgK7hdccMF4qet5rBfKwh7DGc/r8iQg+M93YaIsFepH0giT8QyOI7R/JGnYygatiT9tIrW702+o3yhj6Fz+c2RFIpPFlPNRqAuYAEiFMDNZyKCvwoybBRdYIPv4wQePaYtxHX4qk/ldRb6fT1JS1yMoWEZFItqxTEoi3ZT+CkfhH/FnUD4VyvmD87AfeeSRGQooEn17fYeYbuRGR7nV7/TY7ruqvwJXlFXSb8R96k/yNf2Q6E/6jhg+8hDfNfUPN0wuLLTQQmO2OuI6Ch+wiMLzKHZKxEK/6+ZjxRdeZe1Q+VvlyLaNkvPOO0+nMxwpQ7CKQJuJ8BJH2jmybDHDA/mFyDK9n34DvlvaHuMZylfaxrTLpMAQ00nZ94Y3SnlY26AO6SQxjOl34bn4rnhOP4VyP00bPEP+oh/NNlnqX3G9bnqCEWUKdVMU3olCaFVJWcfn0vCjbEG5lQpxR1ESBWOY01ZEIpPY7k6fL/tNffrRnGFU2JGfhEMSv4vO43eTOz0bj7pHHUGaKBO+5aGHHlrU/6orY7yqpLF24UnDIn8VD+6rTiwLW7wWv+NEpaU0vcTwxfO64RODaRXbWbwLhnXaBTxDuXVI3maKk7ZcJ16UNdRhbK8aFzh1K2+bhIN3lklZ+tA13FdJi2X+xmvyL6bBeE6fKxUYbLrppsUYIN82Fepe6lj6xnFLqbr5Dn9pr5SNUfDt1M7GXQzz/7d37iHXnWV+fpNGatuR6B9Who4lLcUeUDQoRFPRDwSpxCOp1j+Mxlo1nsoYNIqjMZMqjYQktTiKx/FA7BjPxhDrMQaTSJgSQ3AiKmVSLdRCO04L0/EPteva5vd6f8+39t5rrb33+6795brhfdfa6/is6znf9/08D7/Htre4p0/Ch3PLyrSx6bvvPRwb0ycZWsbwXNLJ0PqU67PMHPtVYJ52ZD3et1/Lp/Z8PTfmm/Mc2tF9bWnyLf149J3oQPt0KXkG28svv/zQ2YK0GmeLbebh+j73JSABCUhAAhKQwOlO4Kx9+0A6LrVTi+Fp2QhtDHDVEIHn/ibCSKF0LnkOShVGIlVFN51SOiFVUdy+E0NV/QbOM107hkxGLdNx4Dur4CHP3yrhuUOEqXHDjG/qc7aoz0FBhoKH0W0IBu42/H3fVJ9x3Pt0AKMEpcNanUOIR0bvMBIrnVS+D2UyBphVgqNFn7PFqnvGnKvhJswYblsFXH0e4WaE6u23375InxiFY8Cr1x3Vfl+6GJPW+R6Ufa1StQ0/syhguP7zbgT+1Diho9unyKjvQtmAwgWl1DqJ0nXddbs6T5pOPiVts4/CNHmf9/ZNZ86MIZRjCNf+VTejx999xCMW5VJm1lnmdME9jPx5A05BnUIc5wfKSPIeeauWnxgmGKUf5R6zCRFmjIMYvEi33NcqCYgDFEuU/Yy6yghK8gpKLUaMbyqVAU4pvIswjTXs1XAkLuox8kccGOBVR03V67IfZdcYBlPSAQ4zOAISZuqzT3/60wnCwrDAj7Gj/g8f4M5SAtT9SSe0BdYJbQLyT+tUsO6+vvM4DeXdOOlgjCOPUvdjwOIcxmQMaa1wjjxy4403LmayoSzlPtpGhI1RcYwEY1Qekpm8KF8w8q8TZu+IEbxeizKR+g7h/Yz8RQgP9QbvJo/ddNNNi7KGfIPDEiPF4ca9GR18TmfMiLMFbaRPdIYFwsysETh4HWU9OpQn3/q8blaztEEZAfvRzlHsL7pykXZOnCBQthOnsFgmGPgyCpnvv75zLqMdgcPEkO8nzMQn7UQcGFBE/4uuXUt7BUMk7IkjBAN7jIaU4cxAhiGC99Pu4toLOgdlZoVLu/ffdA5tUapTbxFvOIOdOHFiMbsb7x8qP7l/xhK40V7AME96f0RXz1WjxTe/+c2hjzy8Dsb/uRvp+s1u1j3KdNrLvIPw0d7uyz+5OU4p5LeMUMeRdMyI/Tyrb0sYmH2CthL15vOf//zF7C8cJ44Z3ZvvZ5tZZZJv80zaosxUwX3EKWFkNC3PxJhBXsWRmPi85557FrexXBb1OUK8MWoeJw/SAoants/DdTx/bD7mvir33nvvYnaWIeVpvY/91MfEaW03tdfxm3o2RhzSEQ4XOIAimQXm+9///mLGn8XB7l9mu8iWmW7a9svLujIzz2UWL5xhyROkWepmGPEenBha4RwjXMn75DPKgTgjMEPCOoeL9nlDfxMe3o3wDuoF4v7CCy88OPfccxfnSN9x5J+Snig/0i+ANemJ8g8nGeqyvvTUF37SJ+mbOgEHPITZWapRmWM4VMTZgjYto/1xcsEplzqMb+CPJWVSp3BfFco4ZmPD2aU6LtZrsk9dm74ejil8H21k4u8l3TtyLtdP3cIJgyJCXs7sQrSn+Ra+j2swKGNsb2VIGtukXLvyyit72zcYGElLCDzp+yHHlZbIkyknV7VvpoRv8WHdP1gTR+vaWVw/tl1A3frvOtbpj932ne8c/Ek3mIk+HH12Zk/l/ZTVOIO3/bKEsS1vx4Yjz5myHZIWpzy3vYcZw5i5jHqOcpT2DUKeoa6AD3FEucTMY5wnbLQ3kxem5DviiHo0cssttyzKdmbAYYbb1Nc5n+2U9lbuXbdty7RN0nf7rjF9knBd13YaW5/ShmPmiAhtQvQW6EioD6pTZq7p21IPpr5dVd+P+WbeQ7pKvUTaY7lp2u30W3gWem/SGvuZBbEvfLQfcJJFcLyl3RU5yjycd7qVgAQkIAEJSEACpwOB3w5125OvyVRnCS6Kj2WCAqxKlDP12NB9Gt0Z4cc9dHox7qEcbp0r0vlqn01jmI44yqhWqRaDCR7GGAS4NkKnjWNRBuV4u6UTwMjo+sco6FY+1E0Bnc5ynb6cdzKKC0UYCqMaBjrcCB26KE35jWKeKUX5JhQ1xy0YVgjLFZ1BPIr6hCmzX2AMqkKc4MhAx5h4jfCdUfDnWLulE1OFUfkY5Bnt/p1OYTFUhoQbhUccQngu6fvtXXpB8Y03egSjNp1vJEaNnEPhiyKP0cqZpSHntrndVlrHGQjldQSHAfIOjNtlRDBsIFPjBGcLOq8RDAg43DB6MPmFc4z4qjMf5Hq25AeUvhhI+mYoqNfueh9lPGmGv6RrZgPKMbaZjSdh4VicLZiKHqX+v+yMMhhm/rpbqgnpG+GT+9lSzrLkAXnqRGcMY4YHRs8x3WrlSB6Ncg8FBAY6FFKkXd6HAnWZ0wpTIhM2lK4ooLKECe/aVHhuGDCjBTOAoFRjJOm2BcMTyhL++kaorHrfUAZT0gEG07vuumvxeuodDDYY1chzlIvk7766ZVV4PbeeQF3+pS75texO2gYIBupNhDoD5wqU63fffffCcYG0SRgY5ZSRrXFuat9FemDpEJTMOChhrGI/giJ6E+E7mcq6/pH+KSci1AvhgeNEwsqMAjgBUJbQJqC+T3nI8g8RjEuR/9AZ00jrfDcGOWaOWmdwzb3b2I7h+Y86p5MIDHAmgAPfnGWWqNfS/sm17bZ+/x91xj3iEF5Dv59rmRmM2bVgRVvyh/fPEMa7osxlH+NdhFG4GfXJu1gGAsGgSNmFUN9mlhHSJPewzAnvod27bOmdxc1L/hFWOMGGOoQlCKmTkm5uuOGGg9smLLtGvXlD56BGOGmjxZmEYOC0Q/vhuARHyY92s/zBG9bk2Ujbt8rxvi2G85Q5fG+mLuebmTkmUuOZGQYR0jbKfQxzpBnSC8p92k6tTMnH9Rk47MAf41jCWM+v26dMRFL+rbq+9jdrOb7qnnXnSJvn3z+TFn1djEq0oWhfEZdp95NmzznnnFMed9999y1Gt1IOkF8oy9Nn/p2eGXFOecDEAxncQPxef/31izqB9+PQQ72CPKwskzElPWVkMekGxw2W5+B95FlG4velp4mfs7gtfamk38wowneRnnGGQJjFrPaRFwe7f8QVbWL0BRjEVqUpyojkR+o5+tiUddTP5Jerm9mC8o4pW/IY9SHPxrEWftSV1JssLxSJ009+Z7vrNEaZUut99nGUi7MFYac+iMw9LU0JX75tl+0CDMfMkomwxNOHuz4ZeZV0SlsOJ3QEnQg6lj7pK2+31T7pe197bNdpkfeR/+gXoj+hDKBMTnuS85S1GLbRBdG+wEEuUnUZU/IdfePUu+gXMK7T3iZP0PZj2bc+qfXwkPZW3zP6jvWVaZuk7/qOTfsk9VnZn1Kf0i8Pc3R6OJ2hb4A5TnDLmOedY7ZTvhkHl+gpceKj30JZzhKwzKhGmYHgUL1M0HNlcCL1DG3junzsUebhZWH0uAQkIAEJSEACEthHAptp6Y/hi/HUrULDcplE+Z7zaTTn95gtjU8MbjTYERrcHOOZNHCjGOZc30hMjtMRy9TFjGSiYZsRVDwXJU0bZu4bKihJMlqae1AWZsRFnlENwYwOzfdwns4THWaETiVG0ii5Mzqd9WGr3NYpjjItLByYSvi4FMooB1D+InSGcC6oHv8o7eHPSLdqAGJkH0pBFMCM8IjSgY7KMoNvGFTFKtejGItRGSPy+d3I3nUjkYaGu4aZ9//R/cYV9lkr+g+7sEdy7dllul3Ch7GJdEv6ZYTWO7r1Gnch20rrKCWqoDjPevc4+DCDR/J1DCVT46QqgFGgRFGCIhfjE4b4CJ1TFK1V4PvObupGHC72VTKSA+cKpv+OMILsY51yByczHCpwhKFDv0wwujD6JoKSvzos4MCWJTnIp63BDINQRq7nGXXLFJlR3HMtzhwYX/sU3fW+Ift5L/k4aYD7eAdGyWo4HPK8XV2zSwaEmVGbGKtYL5g8lXxFmYhT3rr1x3f13afzcx9UHCcwHq2TtH/IT5sISnUcDpcJijzKvCj22usYPR0DVM7RHsiMQSmbc24bW0bSo6BEKJ/TtuL3Yx/7WDYLqbOz5Bh1PaPv+R7aSeT1zGBBG6wt20jzKPMZBX0UMoYn7bYYwy6++OKFUTMGAOr7GI1TXi4Lf4wBXBdnq1zL91OvtfVxzrNF8dy+g/ZmFLm0vzKjUhzaKLsxKFahnE1dm7Zk5Y6DRSsYMPuW8mivq79J89RLfXUGdXmdEYH0i9NdKxhd6mxP3Jc2dL2WMCd/MdsF7dOjFsKWWerybvogpHcY9HHIde02zjukC9pkVVgGKc9MXwgDaZyFaRumjZz7FsapLt21TvFT8nGeyfeuWgYk163aprxLflp1bU37+dZV1w85xyjV9NH6HLgp9+JoTH8OJ9Uq1ektx+mvUfat65fk+ilb+qGUp/TXcYyoaQQnX8pt4icyNj2RVsP4nq4d2taVOL/8VVemj0nTCUvfljhI2qSeafvpfAvlAIZNrqWf3M5K01du9b2LY3XQRmZtqtfWZYnq8Sn7hLMNa54DR/IqdUhmUcq5bI86jRGOOvgEJ54aH3NPS2PDF85sd9kuSB1LWmaGl1bIw+i5cJKPfqFes6y83Vb7pL5r2f5RpMU+xz3ax8wEhrQDj8g/f9m1j9Er1Tw0Jd9RxkeYhbAVZs/pa6ONaW8Nbevw7r4ybZP0Xb9n0z5JfVb2p9Sn3IOQvvuWr6at3Mc87xyznfLNOKThXEh9fk7ndEneTDubepiZymjHpK/YhgedRsKP0yDOFoSjylHm4fpe9yUgAQlIQAISkMC+E9g7h4uMZA74jJDO77rF87dKVaDW40P3UWYxywUGObyFURpFGVaf0XeM8zTYq1SHC45HgVSv2WSf6f9jkOA5KLYZpRzJCJH8xrmijlpuw0NHKkr53NMqatpvzHXHsUWJWyWGeZSUGBEjGAIYIYVSFSM6yvuMssw1fVviOc/kPCMN2vTZd9+6Y8vC3Rqt/qDrGC0TriXuq1KV+EdBHhmiRM61Y7dtOpia1quCgTAw00pGtvE7CnH2mSVmapywPnxlRbzWvNAaNGMI4r0ROrT77GzBd0Qx82edQbIVnJlwuEBQQrRGyVwPB2ZEWCUYCFNOMuJ2rLSzh2AMRWp+HPvMXJ96A6NsKziizcXhYpcMmKKWkTxJDyhgMBL+XpdPqHPJGzij9BmzW2b+Hk7g/5UZu4iDdZL2T6sgW3ffsvOkfdo35E+evUl+wghGPUA+T15f9t6xx3GSzIxj1JetgaAaBNpZfHhXbduQn3EeijNvW/+ODduurl/Gk+UhmKmMuMKQShsPRwBGqXKuGqNWhS3fX0fqr7p+yDnaRJHUodSdSQ+P6KY7rk5tuTbbGOz/XtdGizAzw6bCslXMXMU3k0YxZqM4J/3jWIFxFQcJRpljVCCN1Nng8n4cNqrDRY63W5wMIrQ35yRTyo7UkcQpBs9WUi5lW+tMlrgYKlPy8dBnD7kubeTkjVX31PI6sx2sun7IuRhCuJb0FyfV3Jt8xO+Uhzm3bFsdQ5Zds+nxm2+++eClL33p4jGU1TjD4ojDcjb8tWXS2PSEYSkSh//83sUWY2pY97ULeSeG2IwkRz/Q9o3HhKvGZXUkHPOMsdfSpsfhmj7+32z6jmOftcs0hl4j9TfT+7f1wdzT0tjwrWO/rXZBylqe1+bPhIG2EXlvjCPTttonCcPY7S7TYsJS9T4YwFv5647p2e3B+3+PyXfRAdHHru9c8ujF4bHtrU3bOttO3zxvW32SKfVp2qC0k44iLRFpY7/5T7u6h2Vj0IcxixJ5GF3ULd2glzvvvHNV8jg4ceLE4fl3XXVV7zcedx4+DKA7EpCABCQgAQlIYM8I7J3DRasMRzGwTDKtac6vWzM11y3bovCKEmnZNXM5jpIL41gEQzsjoqtUpRXHUShVB416Lft0AjJaMucYcbFvgnGFGS1YizRKNL4BgwWdU/6Y/pgR+as6WFXByv3LPMg5t6nAvTV+rYornA8yIivvbkcV5vict+m8J4wtgxxnS1xOjZN/0o06bWUV38xM096z77+ztFHfcjPkhRhQ27KjfvcQRVCdKacao+pzlu3HCFLPo2BAan6u58fsp4zrU5wxInsOsmsGTPEeZwumoM2obQxsN3TL0vxuZzRkWSIMlXNhMod42TQMNc1F0bfqmRkxt6kzKe/AuY1ZI2oeYuTUrzqDNIq8enxVmHZ9jtG/cbqjzm3bNby/1hvJz8vCxbXUK/m+ZcaGZfcf93EcJDBCXXrppYtR5XwHbd8LLrhg8Yej8FWdInWdYT3fvy1j8TIumfGC8zg5roqfGOwf1q2VHqlOHDk2dsvsbTGiMy10HbXKOtvMDEL7iSWqcLjAWbWvnOurJ/vCUtNUytW+6/bhGGVOHF1JM6viL2mqtpdwvh0qY/Px0OcOvY54I+yr2p15VpaA4Pf/7GYE24bQF4kkveZ3u23b++35o/yNYyrxzAyLhAt+GPIuuuiixZJ/nI+j7ZT0VPv2Y9LTVAbV8budkSfPrHV3DV/Oj9nWMuIovo8llTKrUMKJzoD2/pC0n3t2vUWvEYc1ymOcgqvMPS1NCV/9vjH7Y9sFKaN/UZx+2/elb5fyvz3f93tsOPqecboeG5vvopNY15arvMa2tzZp62w7fW+7TzKlPk37JjqGynYX+1O+mQEQzELK8qeU17QViHf+mPmNupaBZOvkVa9+9cFb3vKWUy4zD5+CxAMSkIAEJCABCUhgEIG9c7hgOQSU7BnhgMKWUX3tKAe+nuNVmLp+qtDRubibrrkKo6rv7Uau/fduVoRla1rW649qH2NmDBJ5Jw3yutwIx9N5zjUYV+oI2xzPFsVPVRxznA7WJpL1hPOMPiNTVXZxHUqgTQWlOiNAMUqcd955pzgnoDCj44G3+DJpnU2isFh2/SbH4RRjd56zyhkEx6Q2fMkzuX8ftnRy0+ElvHCos3TUb4BP+81D46Q1WPKsVYan1vGrhmOf95O3YihZ9i25ru/8qnSZ6+v9Y5R3uX+X21XfXsM9NAwZ2T30+jlcl6ncqSPibEG4qH//U7eWM8ZdOLGu+aoR6nP4ln0LQ9o31djY9w2Ui1HAZoaXvuuGHCON4kBDnFK+MnMJo0fj2MMsEdVJasgzd3ENIysJZ4Q15ts2CeeoNzDWE/51s7DQduQ68jbfHyN/3rEPW5TktFVQtLKs2xOf+MSD3+tmY6N9fE43IpV1xlmneZVkWuJ1ht1VzxhyrhoQGb29ql0e4+ZfdMvARUj3mzqPZoYz6qrqbJF3MEKf0d6wQEn/553Tyqq2YO5btq3GcKYX32ep7DEy1+Ui2u9KW60ao+PU2V7b93tsPu57xibHcKjJbAOMRG6XTarPrg4X/2NLDhe1DXrDDTcsbfsSjqOY6aF+77p98jZLPzAq++lPf/pimSeWJaOMfcpTnrJwjsaxaUp6wgAUGZOecs/YbXW2YnacPqmzP7bLDfZdv+rYtsu7Ve/CgQFDHYIz28e7pQOzbCPHmMFm034+z9lUql6DNhLLd7Yy97Q0JXztN475PaZdQFlDfXfWgx609BXpT6dduPTC5sSYcDS3nrY/p+Q74igObEPBjG1vbdLW2Wb63kWfZEp9yjdR/h2F/myTb/785z9/wB/LKKPTpL2StILTBf0a+nStkJeTrlgGjNlEGJDWinm4JeJvCUhAAhKQgAQksJ7A3jlc8EnMUFCdKRj10DpcoGSuChDuy7qnrdEs0/RxzTLhfSiKIkyPyijgyFwcLlqDBOFjFHKfUpmpfaN45rr/3a33d9lll7F7KHhLM2tAFKas81nZ07ivir7K6PAhK3YIQ53mj9GrLF1QhWUkqgwdVVjvqfso/2KoQtnPWpikAUYzMrNFhM4HHSCMjH1COqKzkhFAdMi4ZxfGeN6Fs0F1PvjABz5wSrpv34/COwZtvpH4SfrP8b5vm8sxWNZZK/5Lt0bphz/ykZOCx2gwOowZgTAlTihTqvy6i/M3vOENh8/MuZZvju/Ldl3+TMcbxXgrlC25f9OlU+pyJChSmWZ6l/LoRz/6JKc4jAF//Md/3PtKFCx8a5/BuxpV6s0xLFFetJIRee3x4/ydeFwWhiiXatmea5leFIcLhGWolO0SYP1dRiah/GZWLUYD9wkG4UjaNvxOWmSfMr+e41ifUO/FcPXJT37ygGW35ih1OvGvf/3rS431tFcwDlDHoWSsTJZ9V4y7bbtx2fWrjtf31fpr1T1Tz1F+8p0YBWkbfeUrX1n80cbBKEX9SHnGNPerym2mvSYNbDo6e9131PSIQ9cqg32e9dOuvR2hjdjXns35IdvEybKRolUxz/I6LKe0ifzTMoMWDtr7LLSHySuUT9QjQ+Kv8ssa70MYTMnHQ5479BrKjvRP6GdeccUVvbeSZ9I2wDCBQXgbgvGLPhZCn7Pt527jHaueMaUco48SJ3nqMuKQOoU/2pX/vptpEUewOPBNSU9wibAUwpA0mOunbGuZRd18yy23nPIY+saR6rCQY2O2tYwYU96lr0q+pA03JB1iYEt7EKeyIQ7TY75lG9dSf1WHwWWOlnNPS1PCN5Xf2HYB+ZS2Am0Ayvb0p+v70zYYo4MZG476vtN5f0q+Y2AIOgjadkMdT2vZNbS9NZX7NtP3LvokU+pT6nP6UTgswH1Zm3Eqs3rflG8mbOgYYI9ehbon9c+TnvSkg5e//OWLVzztaU/rdbhghkAG41199dULXSbXfe973zupb2UerrHkvgQkIAEJSEACEhhO4FTr0PB7j+1KvHir0AFBEYYij07IiRMnDt7azEyAYT3Kozpaheecf/75Cw9mlA4sMxEDen1Hq4Svje5q+OCe37pl1CdM38e7uhraVz2JWRlq+OlEf/SjH104DmAMzB/PuPvuu096FA33l3VTwGY600d2S5Jce+21iym7OYe00//TOI9B8fGPf/xoA9w9neGzCkYBRrCisCMcL3rRixYjo+o1fUbAen7d/vOe97zFyGxGZ7/uda9bKKbgxPSkdbpq0kNYLHtmq3h45StfuWDM9aQLFIvbEhSuVV7xilcsPNk5RpyjEKbzRBxG6ugGruEehI7ja1/72lw2m22b1qthnkDSgXzmM5956DDDSF7WYmf5lxi7p8QJSsaqYCLeMO7FOIDCD2UkfFkrc98kitdq+On7hsz0EWV4vaaWc6tGetZ7lu2zvFMcf45imSZGexBv+Xv2s5+9LGiHMwH1sWrXUM9DMqKRNNiW1ZSLc5Gh6SDX/bNiKMw3VHb7Plo73zSn7Ze//OXD4FCm99VB1M1Ji7Rr/rRzRIskLfK7LatIn/+wq2NbqaN221mmKPuyvnd739TfyftjnP5om8WoyTdiwFsmaSNQh1/8kpecchnHX/ziF5/ENu1CeMdgmBsJJ1PiDxWctvKNGOxb2WaZ8PpuFDkjyS+//PKTXkMb9Y477jg8Rhm4SvL9jIrDqFiF76dttg1BuZsRstTffaOnqX/qFPfV0Ey7rZXkhfb4st8o0REcL0jfrZx77rmHh+69997D/XU7pKt2djnuqWVm24bue2bSDudoqx23tPk0bSycEquhOeHE2eklXb5Lm4y2VdpXzJ4Uh75cjyHvd3pmy5uSj/PMbWxpf2YWPmY6oa/YCt9IPyLy7W9/O7ujt7Xvxs21/ctyHH1CPqlO8H3XTD02pRxjKUvKI/4uueSSk15NuonzFGkqeW9semJWo7RRcEhpuZGe/nanC9iWYKhM+n1C157DIN0K/RKEvLvp8qXf79JdpK+8S78k12RLPzZC2VoFZ5e+PFbbq3FEy320geOISdm2qUwt16qjJc41q2ZFmkNayne25Sb8xoZvKvOx7YLUscQzba1WqGMz+9d/7RyphsrYcAx97r5fNyXfZWAIcfT85z//FAR97cop7a1THjziwLbS99Q+SfIeQW7bTlPq08qcJWBaqW3F9ty63229NeWbqf+paxkEwex2VWj/p63d9utyHU4o6Anf//7359DCua22y83Dh2jckYAEJCABCUhAAqMI7KXDBQ3E7373uyd9KMqwt771rYvpzVGkV0M3ypnrrrvu8Po0oHMApSHTZn7oQx86YG3nPmmVpCifWaaDv3YGhlVTMvY9u+9YlHyco3PFtO0f/OAHTzHm1Xtf0HXAcD6pgqME39X+4SjBtKztSMF//uQnH1xzzTUHH+re9YdXXrlQiNEpePvb3754LJ7P1SmBc+94xzsW17/mNa85HClTw7Bq/yc//elJM2RwLQpZFCyEA4/vqrTAiMDUuptIjUueDVvSDh7edepn4iCK+WXva9eQxShDPH34wx8+JV0se8bQ4+973/sOjTjcQ4cIBw/exWwXUfQTh9lvZwthqkGuJ93GeDX0/bu6blVaZzmD6jRCvkYBCQu+AwcS4pB0nlH3U+OEqXSrpEwhPhlRFaMjzONkVK+f834M4yjmVxnemO0FQVFRp1BnJgOcnxDio+ahxcGR/xiNkVH0j3rUoxYKg/oIlPZ/0i1dkSls67ld72cJAhTN1RnkqU996qEDThuGOoqI8jCKHu7pc15p7z+q30PTQZRmD+6MFs997nMPg4chGieAyFc75beyXQLkrbRRUHBfddVVi9mXKOMod3AYvKKbXSv1IvVXXVajGnsYHUv7hHqadHhF55h6dmdkbqUalak7UNyh/KM9xCwJUbTTFql1ZPucob9j3KcOO+ecc9a2G5ihJm0zHEwojzHWtX8xhFHvxUBGffivOyfEGHlJw3zTic4x913vetdhXv3EJz5xGPw3vvGNByiv+V6uX3DrjMhjJCOFCSPGUrbUKYw4y6j1Mc9bdu1/+8lPFqdg+epuDebUTZSrlD8RZvVZJfX7WUKG2c82+f5V74pTEWmY9J26FUY4J1CXo9xmFCiCg81P7v9O2i2Ej7qBb2ZmMuJ3jMRBie8jbmu7mfdmVgPSUNLq0Oe/8IUvPHjOc56zyD/kIRyI09aizV1ne1j2zJofmeWG/EtYj1JqncbSe0jCQH8i8m87ZwPKC84Rnzh5ka9IezjCRpiRBuEanGTJC+yTzoiD2mfLPVPyce7t29L+Ie+TvvItfdfVY/VbmZqb/EveIq1ihLymW64ny47QNkrars9Yt582MPmA8jVho6+b8pzyH04pf3EqwGma9Pr617/+gDJyFzK2HMNJJs4Q1D/PetazFqyIa/ofmRULQ1Dqrcp4aHrKrBbkjau79IQT4rr0tAmftAtJp/QVU86Sx6+8v6/M81mqclOhX5xyh7KDMoQ2JemCeunNb35z7yuYUSRCP4lyjDoRR3Vm5OzLY7U84j04UJHWSFfM8pe0SFm7qUwp16gDUn7iUHLjjTeeUu+TF0kHyBzSUuKur30zJXxTuI9tF1BuJa9T51CPkZ+If8ry1LHk2y91cTBUxoZj6HP3/bop+Q59SMpW2q8XXnjholzAmYp6aZnxP3US8TmkvbUJ222l71pWjOmT1PvattOU+pTyJk4L9EHof1EWh3naimOYLavva9iHfvNXv/rVw1e/4AUvWMyKSDxTJtYBhNUR//CGsoMu+LZuNmSEvhI62MiUPIwDIvUkaVSRgAQkIAEJSEACD1QCv+mh7uHXYwSlMztkZA+zNGDgi9DoZqmCqmTlXBQLua5uueennRIEQ2AkRrX8zvZvdUaSTQWDS9t5ohGdEWN9z//7I0Zg5jkY3lGOtt7PrWKmrv2HYh7FfuXVXt8XvmXHiB/WGF+n0GGNcYxLMaQse9664xjkGSEUYy6KmnbEEF7y1Uln2TPpIBFXdURo5bLsvinHGanAqF46UfUddZ/n4hATgwIe7hgw6gwt7fVTwrLNe9aldeIBh5go1Hh3+w0Y4VjqAJkaJ7BCmdkaw8h3VZjdYRfLxtR3bHv/c92sQDhEUWZ9pFuSBaUNSgRmTWEkagTFDE4sOKExcgKlDkpxFLApM3BO24ZgjGEUHo4NjNbBSPW/OoXq3+kUBSixieNlZew23r/sGRh5UF4RBgwsKFjgVfNQey/GQJyz4MY3feMb31goL3lGHXHT3vepT33q0IBS0zROG1GscQ95uP5unzP099B08La3vW2huCZMGJ9xMkJi7GEfg1zrsMdxZXMCrG1/RWdco42C8gtFGn+tYMTECbIKo5JTJ1FmMjNNnZ2mXpt9rseYQT4nz+EgsGxENXXdnXfemVsnbW+77bZFnUn6yswM73znOw+qwag+uI7mi9K4ns8+dR+jvagPUPymnfLkzumCP/JizWc33XTT4RTBtPFwSsDgBDfKy00ERW2ckzBIt6PPNnl2vZf2GMpRwvyEJzxh8dd+J0uJrFO4YgBglCttahi/6lWvqq/Z6v6XvvSlhaEdQzXtPpz72jBT73BdBAdLyiXChvPQkPZZ7m23X/ziFxfGX/IXbV9mrqJ9ecaZZ56UPt797ne3t679TfqiLuOvCt9H3TtESMd8P0pzZkjBoRYjXnWCHPKcTa5hKSOMbghOd/zRD6D9TFphH4do2v6UFXHITP6CZ3V+ZWZCDHd8E23vK7rybZ1MycernkkZSj3OH+28IfUX03PTLsoMBhiv+WuFcpcybIrQpsTRnLxA2c930wZBcC6jj4bhHCcVzrd5hbq4jt6dEoZl90wpx3BOoOwjLdB+4q8N880333z4yinp6XOf+9yiTKdNghMhAwR2KaR34h2nGNIwbbT2m3COoU+9DaH++oNuxkryF2mD57bva9/D7CrUlbSpyWN1GY722vyGIzO3UH9Q/1N/9gnpj/gkDFNlSrlWnQYJH/mhT2gHcW4OaWlV+2ZK+Pq+d92xKe0CRrn/fud0Q5pj6VX+appjH11NHLLXhYHzU8Ix5Ln7fs2UfIce8zOf+cxhuxJHyDhDruIxpb216nmrzm0rfU/tk6wrY8bWpzBnkFdmfcGBkL9NZFl9P+Wb0UXRRqE9QxnNIJGLL774pHYsbbEhbVmW6/3HXf+OchaHQtp/DHyZkodp/9JWR49EWt+k3tiEtfdKQAISkIAEJCCB4yRw5nG+fJN303hD4cqo9IzaXfa8N73pTQfndKMoq+DljQNFFZ6JwhnDdp8wMqpvZDcjeupUnnRWGUVenTx43roGJ0q2CArWdgmJnFv23HXPz/1s8wzeySgWPOfjxZ3reB5s6aDUZVxQUuIk0To+MLqrOmbU9+SZfVueg2IIg3kbBq4nHHREfr8bxZVpL/ue035/vjHX5jfxyzfzrD4jJoZTHDsynXHuX7ZltN6tt956Svzed999J91S47eeGBpu7sGQi/PBz372s1Pex+wfKF0Z/VnTMMvMkG7re9iHd43D8Klha/frMziX3+29Od7en9+Vxaq0zvV04JmymWlk6ThW4TkYIjA41bQxNU7e8573LOI+I33quziGgY5nt99br5vjftbQZm164gYjLlOaMkqjFYwSf9axRlDcMpISZwvyCsbRqiiv9/bl3Xq+3Se9orjIiEAMvb/bdfIzwpN4zwjIeu+6tFWvzf7Y+ELRkDIdJwoMc7y3loN5draMOszIFXjhbEE+fO9735tLTtli+OF7+eP6CHGT4+GRc2ynMOC+oemA8vayyy47nF0mYcm7Ked3aZDlPQ9kIW9QbjOKl/1lwmhylGOtoFzrq79YMqh10Mi9jNL98Y9/nJ+HWxwRvvCFLxz+xujXyrr02J5nhrJaR/G8OHQlr1azTnt/+/6+37RTqBeSj7kmxmDKFdqOGN6rYMy85ZZbTslfzEyAAXqMEHc4xLRhp86lHom05znedyzXt+dxpqA9Qz2Y+/Kd/IY1DgWRXNM+h9+0qTHa1Ws4DsOMtOd3n7T3cE2t5xOvuRfnidruTJipR/gmHL2Yyj9CfcA9KNSr8A6MEKl/2vfUa+s+7SjiOm0K2u0JA99LfqAcHCJ5J3F7/fXXH4Yl91Lv4mBYZ43IuWVbjCSVacK27Pp6bd1P2IbcV6/BgSBrged48ii/caagvcR1COHjj3fThr6y+946YpNw0DalXVzDxz5tt7S56jmeOzYfr/repGHekX3esU4wGNAPqmVJ7iH9wIk82Hc+17Ftvy3nKIeSfjlW5zIhvTPzQG3DJy2Q3jDu0p+N1O+v+zm/LAw5326nlGOUexhmCXveV8OMAattS01JT5QRlBV5B2Fnn+Uy07+v59pvq78rq7pfr8Ghpo54zjfxDvontZzlvvqcul+fuWyf73p755RU28DJX3VUc3s/YWh1IoQvxrzF9d3vCHGEbqOtj7mHOq+WgZlpon5L3c8zVzEfW67lmeu29Z3HnZZWtW/4jrHhy7fXb8yxuq3nx7YLeA76gzd3bSbaO3lW0jjpkL5MW4f1xX8N05Rw1PvX7df31/3cl+/I7ynb+oy6n2f1vTfn2PbdMyXf8SzKY3Qmtb7gOH3P79w/QwG/Wxnb3mrvz+/6rXU/59mOTd95zm9Lpd88bWqfZFUZM7Y+JSTUZzi8tfpCmOOMEMl35Pey7ar6fso30w6jjRJ9XvIs76fPd23Xrue7I0mP2eY4WxwJk7ZwuGLmqCl5OG2h/9PphfveU9/pvgQkIAEJSEACEjhdCZzRjcZt27hH+q3VyLTJizFQYQhgDVKMQ/+qMxqiQI3Q4EPB3q6vy31MGU3DGQPFkIYhxkpGuWAgRKHYNsLzzm1sGaXCu1DYoiBcZXzZxvvgwWwPKFGHKCQJHyPw8NiuiqFNwgJXwoCxlzipSvdNnrvsXkYr4SBDhwRl8BTGGL4Y9UsaZMQkytFnPOMZJ41y5FtQbG1TGCGKQZi4WsefThjfiYGizxi3zXBNedbQtP6whz3sgKVbcEhaNdJm0zjBO5+8xxZe6YRO+bZd3UO+25VQFjBiGocLjB4YXnclGHIYOc+02HTUMQqjKDhuwVGPWU9IZyizmKI0SnWmE2+FUYKMRuQ+lNUoLvddULITL9StpDcU8EPLyFXL1+w7l6MMP2XeP+iWMaMMom7GQTEzQlGeowwkj7ZCXcr097RrUJQPaaswSoo6HSGuq9G8ff6mv1Hm4WSFMX2XswZR9/FN5E84DPkmeNM2oI23SdlP2UZ5QBxus520jD0j05iJjVl3YDqkTdv3LL6f9nnyO8ZGygJYMAvSNoU2O4yYhSOK2lXPp25iuQK+cRtlLG0o3k8bEOXyJvGdcOeZm8Q530kZiiKdNl4U6nnHUWxJt/SR4Ew+7TMqUM7QVqIfBb91QpuK+Eu/hjTKrIUc5x1XLJn9Yko+bsPC9xDPQ8qA9l5+Uz6SVkizGPU3yWP1+Xw7ZRT9Hmb6qQaSeh15EEdZromTSj2/q/2p5RhxRvqhvqIN2Rr2+8I7NT3Bg/Q3tczrC8uyY8Q/eZN2Kv3GbZQZy96V8o60Rr8Hpsz4g2DcxwDbCmU3dT/hg/sQJnwTcYXDFPfsSo6yXDvOtDSkfTM2fFPjZGy7IGUt6Yj0TZrYhowNxzbeOfdnTM13OFujC6FNi56MWRiy9B4OpctmNeN91GFD21ub8NtG+p7SJxlaxoytT8N8k3YdPNfV91O+mefCm7YVbUXK8DjEcm5bMjQP005ZpaPbVnh8jgQkIAEJSEACpz+BXduEd0XwtHG4aAHRiGb6XZRXCKOQ/mM3Ff66dazb5/hbAusIsLYp05WjAGXkFiNNWVecji+dnwhT860amZTr3G5O4IESJ3T6laMjwPTGqxwuji4k+/EmHS52E084fTKjCkZxBKXapktg7CakPnWfCFxyySULx01GKFZhhh8cLjDC4BDB7DeKBMYQwNmJGbJYnqNdkoi2cqbsZh1xprZWJCCBfgJDHC767/SoBCSwzwROdMt84uzPTJvVgZoygVmYcGzDueplL3vZPn+mYZeABCQgAQlIQAISkMAhgX11uDjr8AtOsx2M3pdeeuliWm6cL1AWM3JKkcA2CTCCCGcLhBF+TGHeJ4x+uv322/tOeWzLBB5IccII7HUzm2wZr4+TwCACpE1lNwRQtLJEAUvfnHfeeYvlD3bzJp/6QCFw/vnnHzArFMIoZ2boYVYFRsux9BMKfYSpixUJjCXAElTMvIJTTzez4mJkPssQku7ShsZQ9LnPf37so71eAhKQgAQkcFoToE910UUXLdpi11xzzcG3vvWtxSAyHGIvvPDCw1nv7rrrrtOagx8nAQlIQAISkIAEJCCBfSBw2jpcAJ9pz5malqnbpk4fuw+RaBiPjwBTWjOFbUYa94WE0cekQw3jfXS2f+yBFCdMW2662n4a8ombEyBtKrslwKxJ/CkS2JTAHXfcsXDeecxjHnPwyEc+8nDGgfpclnpiCntFAmMJfOxjH1tMf86Se4973OMWf/UZOFtQlg1ZcqLe574EJCABCUjgdCdAX/+zn/3swrkC5wscYfmr8pc///liicF6zH0JSEACEpCABCQgAQlI4OgJ/I1uxNEVR//a376Rdep2LUPWLt11GHz+6UmAmStuvfXWxVrKZ5999sGDH/zgxTrxjEBmzWuWsLnuuusOft51gpWjIfBAihOm6UbxgkMZDmbKbgngvHdOt/YtMyjdfPPNu33Znj6d9MisUpSFigQksD8EcKZgur6HPvShh20Z6lOM4B//+Med3WJ/onJ2IWVN8a997WsHD3nIQxZLPbLG+plnnrlYa5z69Oqrrz64++67ZxduAySBuRFgtqELLrhgsXTAD3/4w4N77rlnbkE0PBKQwA4I/OhHPzr4wQ9+cPDwhz/8gDqUZWtZMvn/ds4YzHhx7bXXHvzqV7/awZt9pAQkIAEJSEACEpCABI6HwL7aus7opnb99fEg+81bUb4pEpCABCQgAQlIQAISkIAEJCABCUhAAhKQgAQkIAEJSEACEpCABCQgAQk8MAkwKGwf5cx9DLRhloAEJCABCUhAAhKQgAQkIAEJSEACEpCABCQgAQlIQAISkIAEJCABCUhAAsdJQIeL46TvuyUgAQlIQAISkIAEJCABCUhAAhKQgAQkIAEJSEACEpCABCQgAQlIQAIS2EsCOlzsZbQZaAlIQAISkIAEJCABCUhAAhKQgAQkIAEJSEACEpCABCQgAQlIQAISkIAEjpOADhfHSd93S0ACEpCABCQgAQlIQAISkIAEJCABCUhAAhKQgAQkIAEJSEACEpCABCSwlwR0uNjLaDPQEpCABCQgAQlIQAISkIAEJCABCUhAAhKQgAQkIAEJSEACEpCABCQgAQkcJwEdLo6Tvu+WgAQkIAEJSEACEpCABCQgAQlIQAISkIAEJCABCUhAAhKQgAQkIAEJSGAvCehwsZfRZqAlIAEJSEACEpCABCQgAQlIQAISkIAEJCABCUhAAhKQgAQkIAEJSEACEjhOAjpcHCd93y0BCUhAAhKQgAQkIAEJSEACEpCABCQgAQlIQAISkIAEJCABCYJBkF8AAAgtSURBVEhAAhKQwF4S0OFiL6PNQEtAAhKQgAQkIAEJSEACEpCABCQgAQlIQAISkIAEJCABCUhAAhKQgAQkcJwEdLg4Tvq+WwISkIAEJCABCUhAAhKQgAQkIAEJSEACEpCABCQgAQlIQAISkIAEJCCBvSRw1i9/+cuDX//614s/voD9VvqOtddM/f2LX/xi6q3eJwEJSEACEpCABCQgAQlIQAISkIAEJCABCUhAAhKQgAQkIAEJSEACEpCABI6FwFlnnHHG4sVslzlW5JpjCaEvlYAEJCABCUhAAhKQgAQkIAEJSEACEpCABCQgAQlIQAISkIAEJCABCUhAAjMjcBbhqQ4VdX9mYTU4EpCABCQgAQlIQAISkIAEJCABCUhAAhKQgAQkIAEJSEACEpCABCQgAQlIYBYEDme4YHYLnS1mEScGQgISkIAEJCABCUhAAhKQgAQkIAEJSEACEpCABCQgAQlIQAISkIAEJCCBmRNYzHBBGHW2mHlMGTwJSEACEpCABCQgAQlIQAISkIAEJCABCUhAAhKQgAQkIAEJSEACEpCABGZD4EwcLXS2mE18GBAJSEACEpCABCQgAQlIQAISkIAEJCABCUhAAhKQgAQkIAEJSEACEpCABPaAgDNc7EEkGUQJSEACEpCABCQgAQlIQAISkIAEJCABCUhAAhKQgAQkIAEJSEACEpCABOZF4Mx5BcfQSEACEpCABCQgAQlIQAISkIAEJCABCUhAAhKQgAQkIAEJSEACEpCABCQggfkT0OFi/nFkCCUgAQlIQAISkIAEJCABCUhAAhKQgAQkIAEJSEACEpCABCQgAQlIQAISmBkBHS5mFiEGRwISkIAEJCABCUhAAhKQgAQkIAEJSEACEpCABCQgAQlIQAISkIAEJCCB+RPQ4WL+cWQIJSABCUhAAhKQgAQkIAEJSEACEpCABCQgAQlIQAISkIAEJCABCUhAAhKYGQEdLmYWIQZHAhKQgAQkIAEJSEACEpCABCQgAQlIQAISkIAEJCABCUhAAhKQgAQkIIH5E9DhYv5xZAglIAEJSEACEpCABCQgAQlIQAISkIAEJCABCUhAAhKQgAQkIAEJSEACEpgZAR0uZhYhBkcCEpCABCQgAQlIQAISkIAEJCABCUhAAhKQgAQkIAEJSEACEpCABCQggfkT0OFi/nFkCCUgAQlIQAISkIAEJCABCUhAAhKQgAQkIAEJSEACEpCABCQgAQlIQAISmBkBHS5mFiEGRwISkIAEJCABCUhAAhKQgAQkIAEJSEACEpCABCQgAQlIQAISkIAEJCCB+RPQ4WL+cWQIJSABCUhAAhKQgAQkIAEJSEACEpCABCQgAQlIQAISkIAEJCABCUhAAhKYGQEdLmYWIQZHAhKQgAQkIAEJSEACEpCABCQgAQlIQAISkIAEJCABCUhAAhKQgAQkIIH5E9DhYv5xZAglIAEJSEACEpCABCQgAQlIQAISkIAEJCABCUhAAhKQgAQkIAEJSEACEpgZAR0uZhYhBkcCEpCABCQgAQlIQAISkIAEJCABCUhAAhKQgAQkIAEJSEACEpCABCQggfkT0OFi/nFkCCUgAQlIQAISkIAEJCABCUhAAhKQgAQkIAEJSEACEpCABCQgAQlIQAISmBkBHS5mFiEGRwISkIAEJCABCUhAAhKQgAQkIAEJSEACEpCABCQgAQlIQAISkIAEJCCB+RPQ4WL+cWQIJSABCUhAAhKQgAQkIAEJSEACEpCABCQgAQlIQAISkIAEJCABCUhAAhKYGQEdLmYWIQZHAhKQgAQkIAEJSEACEpCABCQgAQlIQAISkIAEJCABCUhAAhKQgAQkIIH5E9DhYv5xZAglIAEJSEACEpCABCQgAQlIQAISkIAEJCABCUhAAhKQgAQkIAEJSEACEpgZAR0uZhYhBkcCEpCABCQgAQlIQAISkIAEJCABCUhAAhKQgAQkIAEJSEACEpCABCQggfkT0OFi/nFkCCUgAQlIQAISkIAEJCABCUhAAhKQgAQkIAEJSEACEpCABCQgAQlIQAISmBkBHS5mFiEGRwISkIAEJCABCUhAAhKQgAQkIAEJSEACEpCABCQgAQlIQAISkIAEJCCB+RPQ4WL+cWQIJSABCUhAAhKQgAQkIAEJSEACEpCABCQgAQlIQAISkIAEJCABCUhAAhKYGQEdLmYWIQZHAhKQgAQkIAEJSEACEpCABCQgAQlIQAISkIAEJCABCUhAAhKQgAQkIIH5E9DhYv5xZAglIAEJSEACEpCABCQgAQlIQAISkIAEJCABCUhAAhKQgAQkIAEJSEACEpgZAR0uZhYhBkcCEpCABCQgAQlIQAISkIAEJCABCUhAAhKQgAQkIAEJSEACEpCABCQggfkT0OFi/nFkCCUgAQlIQAISkIAEJCABCUhAAhKQgAQkIAEJSEACEpCABCQgAQlIQAISmBkBHS5mFiEGRwISkIAEJCABCUhAAhKQgAQkIAEJSEACEpCABCQgAQlIQAISkIAEJCCB+RPQ4WL+cWQIJSABCUhAAhKQgAQkIAEJSEACEpCABCQgAQlIQAISkIAEJCABCUhAAhKYGQEdLmYWIQZHAhKQgAQkIAEJSEACEpCABCQgAQlIQAISkIAEJCABCUhAAhKQgAQkIIH5E9DhYv5xZAglIAEJSEACEpCABCQgAQlIQAISkIAEJCABCUhAAhKQgAQkIAEJSEACEpgZAR0uZhYhBkcCEpCABCQgAQlIQAISkIAEJCABCUhAAhKQgAQkIAEJSEACEpCABCQggfkT+P8RB+ZSRVPbZwAAAABJRU5ErkJggg==)\n",
        "\n"
      ],
      "metadata": {
        "id": "1lhjfCzgdbI4"
      }
    },
    {
      "cell_type": "markdown",
      "source": [
        "##Mathematical operations"
      ],
      "metadata": {
        "id": "ZbcipCRkq8Nv"
      }
    },
    {
      "cell_type": "markdown",
      "source": [
        "1. Scalar Operation"
      ],
      "metadata": {
        "id": "gfR8Iw4Nra0S"
      }
    },
    {
      "cell_type": "code",
      "source": [
        "x = torch.rand(2,2)\n",
        "x"
      ],
      "metadata": {
        "colab": {
          "base_uri": "https://localhost:8080/"
        },
        "id": "zYkkrscQrc20",
        "outputId": "30f165d4-0311-49f0-9070-81b23bfd9d7b"
      },
      "execution_count": null,
      "outputs": [
        {
          "output_type": "execute_result",
          "data": {
            "text/plain": [
              "tensor([[0.7118, 0.7876],\n",
              "        [0.4183, 0.9014]])"
            ]
          },
          "metadata": {},
          "execution_count": 30
        }
      ]
    },
    {
      "cell_type": "code",
      "source": [
        "#Addition\n",
        "x + 2"
      ],
      "metadata": {
        "colab": {
          "base_uri": "https://localhost:8080/"
        },
        "id": "uVunNCPGsSJB",
        "outputId": "bd6fa284-066b-4b90-e6d8-90a342a80eea"
      },
      "execution_count": null,
      "outputs": [
        {
          "output_type": "execute_result",
          "data": {
            "text/plain": [
              "tensor([[2.7118, 2.7876],\n",
              "        [2.4183, 2.9014]])"
            ]
          },
          "metadata": {},
          "execution_count": 31
        }
      ]
    },
    {
      "cell_type": "code",
      "source": [
        "#substraction\n",
        "x - 2"
      ],
      "metadata": {
        "colab": {
          "base_uri": "https://localhost:8080/"
        },
        "id": "CEqofAbWsa2w",
        "outputId": "e9c0625f-fe4c-406a-863e-fb6e95b252ba"
      },
      "execution_count": null,
      "outputs": [
        {
          "output_type": "execute_result",
          "data": {
            "text/plain": [
              "tensor([[-1.2882, -1.2124],\n",
              "        [-1.5817, -1.0986]])"
            ]
          },
          "metadata": {},
          "execution_count": 32
        }
      ]
    },
    {
      "cell_type": "code",
      "source": [
        "#Multiolication\n",
        "x * 2"
      ],
      "metadata": {
        "colab": {
          "base_uri": "https://localhost:8080/"
        },
        "id": "2LHlr8VIspPn",
        "outputId": "cb008e28-b833-480c-e60c-a4339ca1efc5"
      },
      "execution_count": null,
      "outputs": [
        {
          "output_type": "execute_result",
          "data": {
            "text/plain": [
              "tensor([[1.4235, 1.5752],\n",
              "        [0.8366, 1.8028]])"
            ]
          },
          "metadata": {},
          "execution_count": 33
        }
      ]
    },
    {
      "cell_type": "code",
      "source": [
        "#Divison\n",
        "x / 2"
      ],
      "metadata": {
        "colab": {
          "base_uri": "https://localhost:8080/"
        },
        "id": "VAjD0JJ8su1c",
        "outputId": "7992fba5-c6fb-4e6c-c9a6-763b19d86dd9"
      },
      "execution_count": null,
      "outputs": [
        {
          "output_type": "execute_result",
          "data": {
            "text/plain": [
              "tensor([[0.3559, 0.3938],\n",
              "        [0.2092, 0.4507]])"
            ]
          },
          "metadata": {},
          "execution_count": 34
        }
      ]
    },
    {
      "cell_type": "code",
      "source": [
        "#Int division\n",
        "(x * 100)/3 #for if want to after the . there will be no number the use it (x * 100)//3"
      ],
      "metadata": {
        "colab": {
          "base_uri": "https://localhost:8080/"
        },
        "id": "djdvS_P-s0jW",
        "outputId": "b73f1bd7-418a-4867-f878-7c20ef1ce7de"
      },
      "execution_count": null,
      "outputs": [
        {
          "output_type": "execute_result",
          "data": {
            "text/plain": [
              "tensor([[23.7255, 26.2527],\n",
              "        [13.9435, 30.0472]])"
            ]
          },
          "metadata": {},
          "execution_count": 35
        }
      ]
    },
    {
      "cell_type": "code",
      "source": [
        "#Mod\n",
        "x % 2"
      ],
      "metadata": {
        "colab": {
          "base_uri": "https://localhost:8080/"
        },
        "id": "kDOf3GKdtOC2",
        "outputId": "6a0520ad-ca3a-4c96-9dc1-a310539b9518"
      },
      "execution_count": null,
      "outputs": [
        {
          "output_type": "execute_result",
          "data": {
            "text/plain": [
              "tensor([[0.7118, 0.7876],\n",
              "        [0.4183, 0.9014]])"
            ]
          },
          "metadata": {},
          "execution_count": 36
        }
      ]
    },
    {
      "cell_type": "code",
      "source": [
        "# Power\n",
        "x**2"
      ],
      "metadata": {
        "colab": {
          "base_uri": "https://localhost:8080/"
        },
        "id": "Yqna0TzxtTjO",
        "outputId": "ff2d3d76-e795-450a-a44f-a6ac05b488c4"
      },
      "execution_count": null,
      "outputs": [
        {
          "output_type": "execute_result",
          "data": {
            "text/plain": [
              "tensor([[0.5066, 0.6203],\n",
              "        [0.1750, 0.8125]])"
            ]
          },
          "metadata": {},
          "execution_count": 37
        }
      ]
    },
    {
      "cell_type": "markdown",
      "source": [
        "2. Element wise operation\n"
      ],
      "metadata": {
        "id": "JU3_DffWtlEK"
      }
    },
    {
      "cell_type": "code",
      "source": [
        "a = torch.rand(2,3)\n",
        "b = torch.rand(2,3)\n",
        "print(a)\n",
        "print(b)"
      ],
      "metadata": {
        "colab": {
          "base_uri": "https://localhost:8080/"
        },
        "id": "OtGjB5swtsFj",
        "outputId": "b745ef62-b115-448e-b361-a52efb94c588"
      },
      "execution_count": null,
      "outputs": [
        {
          "output_type": "stream",
          "name": "stdout",
          "text": [
            "tensor([[0.9969, 0.7565, 0.2239],\n",
            "        [0.3023, 0.1784, 0.8238]])\n",
            "tensor([[0.5557, 0.9770, 0.4440],\n",
            "        [0.9478, 0.7445, 0.4892]])\n"
          ]
        }
      ]
    },
    {
      "cell_type": "code",
      "source": [
        "# add\n",
        "a + b\n",
        "# sub\n",
        "a - b\n",
        "# multiply\n",
        "a * b\n",
        "# division\n",
        "a / b\n",
        "# power\n",
        "a ** b\n",
        "# mod\n",
        "a % b"
      ],
      "metadata": {
        "colab": {
          "base_uri": "https://localhost:8080/"
        },
        "id": "1xnZ6TTDuFiC",
        "outputId": "da20c396-1833-42ff-db52-30623cf55718"
      },
      "execution_count": null,
      "outputs": [
        {
          "output_type": "execute_result",
          "data": {
            "text/plain": [
              "tensor([[0.4411, 0.7565, 0.2239],\n",
              "        [0.3023, 0.1784, 0.3346]])"
            ]
          },
          "metadata": {},
          "execution_count": 39
        }
      ]
    },
    {
      "cell_type": "code",
      "source": [
        "c = torch.tensor([1, -2, 3, -4])"
      ],
      "metadata": {
        "id": "cFxphFWmvj5A"
      },
      "execution_count": null,
      "outputs": []
    },
    {
      "cell_type": "code",
      "source": [
        "#Positive/Absulate value\n",
        "torch.abs(c)"
      ],
      "metadata": {
        "colab": {
          "base_uri": "https://localhost:8080/"
        },
        "id": "2vr-TTSuvsiE",
        "outputId": "4e7331ee-7a7c-409d-9f3d-a26243278b6f"
      },
      "execution_count": null,
      "outputs": [
        {
          "output_type": "execute_result",
          "data": {
            "text/plain": [
              "tensor([1, 2, 3, 4])"
            ]
          },
          "metadata": {},
          "execution_count": 41
        }
      ]
    },
    {
      "cell_type": "code",
      "source": [
        "#Negative value:\n",
        "torch.neg(c)"
      ],
      "metadata": {
        "colab": {
          "base_uri": "https://localhost:8080/"
        },
        "id": "sogpka6uvz0v",
        "outputId": "0e579ddb-d6f6-4642-9231-3d5a27fb2725"
      },
      "execution_count": null,
      "outputs": [
        {
          "output_type": "execute_result",
          "data": {
            "text/plain": [
              "tensor([-1,  2, -3,  4])"
            ]
          },
          "metadata": {},
          "execution_count": 42
        }
      ]
    },
    {
      "cell_type": "code",
      "source": [
        "d = torch.tensor([1.2, 2.3, 3.7, 4.4])\n",
        "d"
      ],
      "metadata": {
        "colab": {
          "base_uri": "https://localhost:8080/"
        },
        "id": "V3W-JJsNwDsY",
        "outputId": "349e8a56-d4e2-4ca1-e9ef-202e2ee5e5c9"
      },
      "execution_count": null,
      "outputs": [
        {
          "output_type": "execute_result",
          "data": {
            "text/plain": [
              "tensor([1.2000, 2.3000, 3.7000, 4.4000])"
            ]
          },
          "metadata": {},
          "execution_count": 43
        }
      ]
    },
    {
      "cell_type": "code",
      "source": [
        "#Round\n",
        "torch.round(d)"
      ],
      "metadata": {
        "colab": {
          "base_uri": "https://localhost:8080/"
        },
        "id": "vr4Kpo--wN4N",
        "outputId": "08ecce2c-beaa-45ef-c701-d284e6272738"
      },
      "execution_count": null,
      "outputs": [
        {
          "output_type": "execute_result",
          "data": {
            "text/plain": [
              "tensor([1., 2., 4., 4.])"
            ]
          },
          "metadata": {},
          "execution_count": 44
        }
      ]
    },
    {
      "cell_type": "code",
      "source": [
        "#Ceil:\n",
        "torch.ceil(d)"
      ],
      "metadata": {
        "colab": {
          "base_uri": "https://localhost:8080/"
        },
        "id": "8HYsW3MpwdEa",
        "outputId": "2cb7f0e7-25d2-4770-e979-39d65b6b542a"
      },
      "execution_count": null,
      "outputs": [
        {
          "output_type": "execute_result",
          "data": {
            "text/plain": [
              "tensor([2., 3., 4., 5.])"
            ]
          },
          "metadata": {},
          "execution_count": 45
        }
      ]
    },
    {
      "cell_type": "code",
      "source": [
        "#Floor:\n",
        "torch.floor(d)"
      ],
      "metadata": {
        "colab": {
          "base_uri": "https://localhost:8080/"
        },
        "id": "nv1sXGI0weoa",
        "outputId": "7c632e9f-fae8-4d20-b673-dd0bcfe3ae39"
      },
      "execution_count": null,
      "outputs": [
        {
          "output_type": "execute_result",
          "data": {
            "text/plain": [
              "tensor([1., 2., 3., 4.])"
            ]
          },
          "metadata": {},
          "execution_count": 46
        }
      ]
    },
    {
      "cell_type": "code",
      "source": [
        "#Clamp:\n",
        "torch.clamp(d, min = 2, max = 3)"
      ],
      "metadata": {
        "colab": {
          "base_uri": "https://localhost:8080/"
        },
        "id": "YbKITzU_wmvJ",
        "outputId": "029ecd6c-40e0-4e94-a410-0a68027304fd"
      },
      "execution_count": null,
      "outputs": [
        {
          "output_type": "execute_result",
          "data": {
            "text/plain": [
              "tensor([2.0000, 2.3000, 3.0000, 3.0000])"
            ]
          },
          "metadata": {},
          "execution_count": 47
        }
      ]
    },
    {
      "cell_type": "markdown",
      "source": [
        "3. Reduction Operation:"
      ],
      "metadata": {
        "id": "Sf1N7lHowwOj"
      }
    },
    {
      "cell_type": "code",
      "source": [
        "e = torch.randint(size=(2,3), low = 0, high = 10, dtype=torch.float32)\n",
        "e"
      ],
      "metadata": {
        "colab": {
          "base_uri": "https://localhost:8080/"
        },
        "id": "fubp5mwbw9qX",
        "outputId": "354dc58d-4fcf-4c07-97ed-221778d6479f"
      },
      "execution_count": null,
      "outputs": [
        {
          "output_type": "execute_result",
          "data": {
            "text/plain": [
              "tensor([[8., 0., 7.],\n",
              "        [0., 0., 9.]])"
            ]
          },
          "metadata": {},
          "execution_count": 48
        }
      ]
    },
    {
      "cell_type": "code",
      "source": [
        "# sum\n",
        "torch.sum(e)\n",
        "# sum along columns\n",
        "torch.sum(e, dim=0)"
      ],
      "metadata": {
        "colab": {
          "base_uri": "https://localhost:8080/"
        },
        "id": "ITjnMjcQw0OH",
        "outputId": "480c7ab4-71a1-4513-b5ba-214b30c1b209"
      },
      "execution_count": null,
      "outputs": [
        {
          "output_type": "execute_result",
          "data": {
            "text/plain": [
              "tensor([ 8.,  0., 16.])"
            ]
          },
          "metadata": {},
          "execution_count": 49
        }
      ]
    },
    {
      "cell_type": "code",
      "source": [
        "# sum along rows\n",
        "torch.sum(e, dim=1)"
      ],
      "metadata": {
        "colab": {
          "base_uri": "https://localhost:8080/"
        },
        "id": "qngXjAZAxvL3",
        "outputId": "595219b6-16cf-41a4-f406-45d943660ecd"
      },
      "execution_count": null,
      "outputs": [
        {
          "output_type": "execute_result",
          "data": {
            "text/plain": [
              "tensor([15.,  9.])"
            ]
          },
          "metadata": {},
          "execution_count": 50
        }
      ]
    },
    {
      "cell_type": "code",
      "source": [
        "torch.mean(e)"
      ],
      "metadata": {
        "colab": {
          "base_uri": "https://localhost:8080/"
        },
        "id": "1Vxv4xX3xzwj",
        "outputId": "07f659ed-3fa4-4f03-edd7-8b864bfb7ba3"
      },
      "execution_count": null,
      "outputs": [
        {
          "output_type": "execute_result",
          "data": {
            "text/plain": [
              "tensor(4.)"
            ]
          },
          "metadata": {},
          "execution_count": 51
        }
      ]
    },
    {
      "cell_type": "code",
      "source": [
        "# mean along col\n",
        "torch.mean(e, dim=0)"
      ],
      "metadata": {
        "colab": {
          "base_uri": "https://localhost:8080/"
        },
        "id": "vGtmyifmyKPm",
        "outputId": "615d2947-caaa-43d5-fabf-b0bd6eae0f9a"
      },
      "execution_count": null,
      "outputs": [
        {
          "output_type": "execute_result",
          "data": {
            "text/plain": [
              "tensor([4., 0., 8.])"
            ]
          },
          "metadata": {},
          "execution_count": 52
        }
      ]
    },
    {
      "cell_type": "code",
      "source": [
        "# median\n",
        "torch.median(e)"
      ],
      "metadata": {
        "colab": {
          "base_uri": "https://localhost:8080/"
        },
        "id": "rUEnKHNuyOyJ",
        "outputId": "7537fb63-185a-4199-dabb-fc4c6f49f375"
      },
      "execution_count": null,
      "outputs": [
        {
          "output_type": "execute_result",
          "data": {
            "text/plain": [
              "tensor(0.)"
            ]
          },
          "metadata": {},
          "execution_count": 53
        }
      ]
    },
    {
      "cell_type": "code",
      "source": [
        "#Product\n",
        "torch.prod(e)"
      ],
      "metadata": {
        "colab": {
          "base_uri": "https://localhost:8080/"
        },
        "id": "BRZne-t_yQhR",
        "outputId": "22cfeb8c-6f47-48b6-cafa-9eda745ee765"
      },
      "execution_count": null,
      "outputs": [
        {
          "output_type": "execute_result",
          "data": {
            "text/plain": [
              "tensor(0.)"
            ]
          },
          "metadata": {},
          "execution_count": 54
        }
      ]
    },
    {
      "cell_type": "code",
      "source": [
        "#Standard Deviation\n",
        "torch.std(e)"
      ],
      "metadata": {
        "colab": {
          "base_uri": "https://localhost:8080/"
        },
        "id": "fJoWyNeIyVbz",
        "outputId": "8a67e364-5d41-46db-fce9-390f24a99273"
      },
      "execution_count": null,
      "outputs": [
        {
          "output_type": "execute_result",
          "data": {
            "text/plain": [
              "tensor(4.4272)"
            ]
          },
          "metadata": {},
          "execution_count": 55
        }
      ]
    },
    {
      "cell_type": "code",
      "source": [
        "#Variance\n",
        "torch.var(e)"
      ],
      "metadata": {
        "colab": {
          "base_uri": "https://localhost:8080/"
        },
        "id": "3eoy4nwFycu_",
        "outputId": "2a9a54f4-0938-43de-d095-f90126a1cabb"
      },
      "execution_count": null,
      "outputs": [
        {
          "output_type": "execute_result",
          "data": {
            "text/plain": [
              "tensor(19.6000)"
            ]
          },
          "metadata": {},
          "execution_count": 56
        }
      ]
    },
    {
      "cell_type": "code",
      "source": [
        "#Argmax\n",
        "torch.argmax(e)  #Maxi value position"
      ],
      "metadata": {
        "colab": {
          "base_uri": "https://localhost:8080/"
        },
        "id": "mnmT4tIsyfKL",
        "outputId": "78404160-3800-4c93-dfd5-6ddd99fefc16"
      },
      "execution_count": null,
      "outputs": [
        {
          "output_type": "execute_result",
          "data": {
            "text/plain": [
              "tensor(5)"
            ]
          },
          "metadata": {},
          "execution_count": 57
        }
      ]
    },
    {
      "cell_type": "code",
      "source": [
        "#armin\n",
        "torch.argmin(e)"
      ],
      "metadata": {
        "colab": {
          "base_uri": "https://localhost:8080/"
        },
        "id": "BnSB5tdayuPg",
        "outputId": "4a7a9dff-25be-4b61-95af-ca6c2a277abd"
      },
      "execution_count": null,
      "outputs": [
        {
          "output_type": "execute_result",
          "data": {
            "text/plain": [
              "tensor(1)"
            ]
          },
          "metadata": {},
          "execution_count": 58
        }
      ]
    },
    {
      "cell_type": "markdown",
      "source": [
        "4. Matrix Operation"
      ],
      "metadata": {
        "id": "xAY17B9Ky7hD"
      }
    },
    {
      "cell_type": "code",
      "source": [
        "f = torch.randint(size=(2,3), low=0, high=10)\n",
        "g = torch.randint(size=(3,2), low=0, high=10)\n",
        "print(f)\n",
        "print(g)"
      ],
      "metadata": {
        "colab": {
          "base_uri": "https://localhost:8080/"
        },
        "id": "SD9fHbfyy_LI",
        "outputId": "f2958f0b-2b66-472d-d0d2-f8be4d641133"
      },
      "execution_count": null,
      "outputs": [
        {
          "output_type": "stream",
          "name": "stdout",
          "text": [
            "tensor([[5, 7, 3],\n",
            "        [9, 4, 0]])\n",
            "tensor([[5, 7],\n",
            "        [5, 9],\n",
            "        [9, 7]])\n"
          ]
        }
      ]
    },
    {
      "cell_type": "code",
      "source": [
        "torch.matmul(f,g)"
      ],
      "metadata": {
        "colab": {
          "base_uri": "https://localhost:8080/"
        },
        "id": "mVFhASb-0XZN",
        "outputId": "8086ccc9-7b64-4670-cbb2-e4e37bab7723"
      },
      "execution_count": null,
      "outputs": [
        {
          "output_type": "execute_result",
          "data": {
            "text/plain": [
              "tensor([[ 87, 119],\n",
              "        [ 65,  99]])"
            ]
          },
          "metadata": {},
          "execution_count": 60
        }
      ]
    },
    {
      "cell_type": "code",
      "source": [
        "vector1 = torch.tensor([1, 2])\n",
        "vector2 = torch.tensor([3, 4])\n",
        "\n",
        "# dot product\n",
        "torch.dot(vector1, vector2)"
      ],
      "metadata": {
        "colab": {
          "base_uri": "https://localhost:8080/"
        },
        "id": "CopN1Oe5tZrD",
        "outputId": "3f7e54e3-42a4-4195-8574-ab24efdbfb33"
      },
      "execution_count": null,
      "outputs": [
        {
          "output_type": "execute_result",
          "data": {
            "text/plain": [
              "tensor(11)"
            ]
          },
          "metadata": {},
          "execution_count": 61
        }
      ]
    },
    {
      "cell_type": "code",
      "source": [
        "torch.transpose(f, 0, 1)"
      ],
      "metadata": {
        "colab": {
          "base_uri": "https://localhost:8080/"
        },
        "id": "MRLhzR1q0mC-",
        "outputId": "d79ed061-a554-42b7-b04b-db54fda94891"
      },
      "execution_count": null,
      "outputs": [
        {
          "output_type": "execute_result",
          "data": {
            "text/plain": [
              "tensor([[5, 9],\n",
              "        [7, 4],\n",
              "        [3, 0]])"
            ]
          },
          "metadata": {},
          "execution_count": 62
        }
      ]
    },
    {
      "cell_type": "code",
      "source": [
        "h = torch.randint(size=(3,3), low=0, high=10, dtype=torch.float32)\n",
        "h"
      ],
      "metadata": {
        "id": "-YN9EFiX1AN_",
        "outputId": "5fff1a11-de6a-46eb-e1ae-9ccb89748436",
        "colab": {
          "base_uri": "https://localhost:8080/"
        }
      },
      "execution_count": null,
      "outputs": [
        {
          "output_type": "execute_result",
          "data": {
            "text/plain": [
              "tensor([[5., 9., 8.],\n",
              "        [9., 7., 9.],\n",
              "        [2., 6., 7.]])"
            ]
          },
          "metadata": {},
          "execution_count": 63
        }
      ]
    },
    {
      "cell_type": "markdown",
      "source": [
        "5. Comparison operations"
      ],
      "metadata": {
        "id": "F7aoHAvDJx6J"
      }
    },
    {
      "cell_type": "code",
      "source": [
        "i = torch.randint(size=(2,3), low=0, high=10)\n",
        "j = torch.randint(size=(2,3), low=0, high=10)\n",
        "print(i)\n",
        "print(j)"
      ],
      "metadata": {
        "colab": {
          "base_uri": "https://localhost:8080/"
        },
        "id": "5WiLVV40J0rG",
        "outputId": "c5ac3603-c3c3-46bd-866c-a191f791ea72"
      },
      "execution_count": null,
      "outputs": [
        {
          "output_type": "stream",
          "name": "stdout",
          "text": [
            "tensor([[7, 8, 3],\n",
            "        [6, 1, 5]])\n",
            "tensor([[5, 0, 4],\n",
            "        [3, 8, 8]])\n"
          ]
        }
      ]
    },
    {
      "cell_type": "code",
      "source": [
        "# greater than\n",
        "i > j"
      ],
      "metadata": {
        "colab": {
          "base_uri": "https://localhost:8080/"
        },
        "id": "z9roKO-EKWqv",
        "outputId": "edf3ad68-a28e-43f0-a4ef-00b3ddffdca6"
      },
      "execution_count": null,
      "outputs": [
        {
          "output_type": "execute_result",
          "data": {
            "text/plain": [
              "tensor([[ True,  True, False],\n",
              "        [ True, False, False]])"
            ]
          },
          "metadata": {},
          "execution_count": 65
        }
      ]
    },
    {
      "cell_type": "code",
      "source": [
        "# less than\n",
        "i < j"
      ],
      "metadata": {
        "colab": {
          "base_uri": "https://localhost:8080/"
        },
        "id": "jiCdO5FjLdi3",
        "outputId": "4b633f78-e263-4f84-a5d7-37a35671f8cd"
      },
      "execution_count": null,
      "outputs": [
        {
          "output_type": "execute_result",
          "data": {
            "text/plain": [
              "tensor([[False, False,  True],\n",
              "        [False,  True,  True]])"
            ]
          },
          "metadata": {},
          "execution_count": 66
        }
      ]
    },
    {
      "cell_type": "code",
      "source": [
        "# equal to\n",
        "i == j"
      ],
      "metadata": {
        "colab": {
          "base_uri": "https://localhost:8080/"
        },
        "id": "32nsHMXgLgid",
        "outputId": "1a2845d9-5580-49db-81e2-9328c71b5c55"
      },
      "execution_count": null,
      "outputs": [
        {
          "output_type": "execute_result",
          "data": {
            "text/plain": [
              "tensor([[False, False, False],\n",
              "        [False, False, False]])"
            ]
          },
          "metadata": {},
          "execution_count": 67
        }
      ]
    },
    {
      "cell_type": "code",
      "source": [
        "# not equal to\n",
        "i != j"
      ],
      "metadata": {
        "colab": {
          "base_uri": "https://localhost:8080/"
        },
        "id": "fXg1-kdULh4C",
        "outputId": "b82bc0bb-4541-4bf0-c565-089481829391"
      },
      "execution_count": null,
      "outputs": [
        {
          "output_type": "execute_result",
          "data": {
            "text/plain": [
              "tensor([[True, True, True],\n",
              "        [True, True, True]])"
            ]
          },
          "metadata": {},
          "execution_count": 68
        }
      ]
    },
    {
      "cell_type": "code",
      "source": [
        "# greater than equal to\n",
        "i >= j\n",
        "# less than equal to\n",
        "i<= j"
      ],
      "metadata": {
        "colab": {
          "base_uri": "https://localhost:8080/"
        },
        "id": "AnJcriNBLoet",
        "outputId": "db2d25c3-1c9d-4525-ac4e-bf5b30071d52"
      },
      "execution_count": null,
      "outputs": [
        {
          "output_type": "execute_result",
          "data": {
            "text/plain": [
              "tensor([[False, False,  True],\n",
              "        [False,  True,  True]])"
            ]
          },
          "metadata": {},
          "execution_count": 69
        }
      ]
    },
    {
      "cell_type": "markdown",
      "source": [
        "6. Special functions"
      ],
      "metadata": {
        "id": "XZrevgWALz0F"
      }
    },
    {
      "cell_type": "code",
      "source": [
        "k = torch.randint(size=(2,3), low=0, high=10, dtype=torch.float32)\n",
        "k"
      ],
      "metadata": {
        "colab": {
          "base_uri": "https://localhost:8080/"
        },
        "id": "9IpiupEcL3KO",
        "outputId": "58cff4b0-e047-4254-9c4d-eea109184c73"
      },
      "execution_count": null,
      "outputs": [
        {
          "output_type": "execute_result",
          "data": {
            "text/plain": [
              "tensor([[3., 3., 5.],\n",
              "        [0., 6., 4.]])"
            ]
          },
          "metadata": {},
          "execution_count": 70
        }
      ]
    },
    {
      "cell_type": "code",
      "source": [
        "# log\n",
        "torch.log(k)"
      ],
      "metadata": {
        "colab": {
          "base_uri": "https://localhost:8080/"
        },
        "id": "e8HTxGlvL902",
        "outputId": "6233c2eb-4b71-41e7-8ea0-5f961ffa9fa1"
      },
      "execution_count": null,
      "outputs": [
        {
          "output_type": "execute_result",
          "data": {
            "text/plain": [
              "tensor([[1.0986, 1.0986, 1.6094],\n",
              "        [  -inf, 1.7918, 1.3863]])"
            ]
          },
          "metadata": {},
          "execution_count": 71
        }
      ]
    },
    {
      "cell_type": "code",
      "source": [
        "# exp\n",
        "torch.exp(k)"
      ],
      "metadata": {
        "colab": {
          "base_uri": "https://localhost:8080/"
        },
        "id": "Kb19xCN2MEHt",
        "outputId": "35beaa1c-4821-4a46-a17f-9028973335fc"
      },
      "execution_count": null,
      "outputs": [
        {
          "output_type": "execute_result",
          "data": {
            "text/plain": [
              "tensor([[ 20.0855,  20.0855, 148.4132],\n",
              "        [  1.0000, 403.4288,  54.5981]])"
            ]
          },
          "metadata": {},
          "execution_count": 72
        }
      ]
    },
    {
      "cell_type": "code",
      "source": [
        "# sigmoid\n",
        "torch.sigmoid(k)"
      ],
      "metadata": {
        "colab": {
          "base_uri": "https://localhost:8080/"
        },
        "id": "XUM0sfebMIg-",
        "outputId": "73df3788-e54c-454a-80a9-5a3b2878087d"
      },
      "execution_count": null,
      "outputs": [
        {
          "output_type": "execute_result",
          "data": {
            "text/plain": [
              "tensor([[0.9526, 0.9526, 0.9933],\n",
              "        [0.5000, 0.9975, 0.9820]])"
            ]
          },
          "metadata": {},
          "execution_count": 73
        }
      ]
    },
    {
      "cell_type": "code",
      "source": [
        "# softmax\n",
        "torch.softmax(k, dim=0)"
      ],
      "metadata": {
        "colab": {
          "base_uri": "https://localhost:8080/"
        },
        "id": "604M_3XOMLro",
        "outputId": "48beb531-c39a-4a14-8d60-550f69e63e88"
      },
      "execution_count": null,
      "outputs": [
        {
          "output_type": "execute_result",
          "data": {
            "text/plain": [
              "tensor([[0.9526, 0.0474, 0.7311],\n",
              "        [0.0474, 0.9526, 0.2689]])"
            ]
          },
          "metadata": {},
          "execution_count": 74
        }
      ]
    },
    {
      "cell_type": "code",
      "source": [
        "# relu\n",
        "torch.relu(k)"
      ],
      "metadata": {
        "colab": {
          "base_uri": "https://localhost:8080/"
        },
        "id": "_RQLhwohMOfF",
        "outputId": "1377152c-c629-4d02-818d-60ba2cb1eb3b"
      },
      "execution_count": null,
      "outputs": [
        {
          "output_type": "execute_result",
          "data": {
            "text/plain": [
              "tensor([[3., 3., 5.],\n",
              "        [0., 6., 4.]])"
            ]
          },
          "metadata": {},
          "execution_count": 75
        }
      ]
    },
    {
      "cell_type": "markdown",
      "source": [
        "7. Inplace Operations"
      ],
      "metadata": {
        "id": "e-XoBzHkMaKS"
      }
    },
    {
      "cell_type": "code",
      "source": [
        "m = torch.rand(2,3)\n",
        "n = torch.rand(2,3)\n",
        "\n",
        "print(m)\n",
        "print(n)"
      ],
      "metadata": {
        "colab": {
          "base_uri": "https://localhost:8080/"
        },
        "id": "-BvFl2rLMbbh",
        "outputId": "d695fdce-8856-439d-a9f4-077cd526c34e"
      },
      "execution_count": null,
      "outputs": [
        {
          "output_type": "stream",
          "name": "stdout",
          "text": [
            "tensor([[0.6574, 0.3451, 0.0453],\n",
            "        [0.9798, 0.5548, 0.6868]])\n",
            "tensor([[0.4920, 0.0748, 0.9605],\n",
            "        [0.3271, 0.0103, 0.9516]])\n"
          ]
        }
      ]
    },
    {
      "cell_type": "code",
      "source": [
        "m+n"
      ],
      "metadata": {
        "colab": {
          "base_uri": "https://localhost:8080/"
        },
        "id": "2nGoSP4iMf0Y",
        "outputId": "220bfe81-0d88-4f77-906a-e122c526842d"
      },
      "execution_count": null,
      "outputs": [
        {
          "output_type": "execute_result",
          "data": {
            "text/plain": [
              "tensor([[1.1494, 0.4199, 1.0058],\n",
              "        [1.3069, 0.5650, 1.6384]])"
            ]
          },
          "metadata": {},
          "execution_count": 77
        }
      ]
    },
    {
      "cell_type": "code",
      "source": [
        "m.add_(n)"
      ],
      "metadata": {
        "colab": {
          "base_uri": "https://localhost:8080/"
        },
        "id": "V6TgmwSsMicn",
        "outputId": "0b3ed9bb-074e-47fb-ec3c-079885920354"
      },
      "execution_count": null,
      "outputs": [
        {
          "output_type": "execute_result",
          "data": {
            "text/plain": [
              "tensor([[1.1494, 0.4199, 1.0058],\n",
              "        [1.3069, 0.5650, 1.6384]])"
            ]
          },
          "metadata": {},
          "execution_count": 78
        }
      ]
    },
    {
      "cell_type": "code",
      "source": [
        "m"
      ],
      "metadata": {
        "colab": {
          "base_uri": "https://localhost:8080/"
        },
        "id": "QwB6P-v1Mvpp",
        "outputId": "5d04e803-6146-4d02-c61d-648d9cfc399b"
      },
      "execution_count": null,
      "outputs": [
        {
          "output_type": "execute_result",
          "data": {
            "text/plain": [
              "tensor([[1.1494, 0.4199, 1.0058],\n",
              "        [1.3069, 0.5650, 1.6384]])"
            ]
          },
          "metadata": {},
          "execution_count": 79
        }
      ]
    },
    {
      "cell_type": "code",
      "source": [
        "n"
      ],
      "metadata": {
        "colab": {
          "base_uri": "https://localhost:8080/"
        },
        "id": "_C6Ko_DUMyAQ",
        "outputId": "0dda9aed-2311-4ef7-c095-0a30a0696a18"
      },
      "execution_count": null,
      "outputs": [
        {
          "output_type": "execute_result",
          "data": {
            "text/plain": [
              "tensor([[0.4920, 0.0748, 0.9605],\n",
              "        [0.3271, 0.0103, 0.9516]])"
            ]
          },
          "metadata": {},
          "execution_count": 80
        }
      ]
    },
    {
      "cell_type": "code",
      "source": [
        "torch.relu(m) #New tensor"
      ],
      "metadata": {
        "colab": {
          "base_uri": "https://localhost:8080/"
        },
        "id": "Tq6P5I_GM4mD",
        "outputId": "cf226bcf-34cf-4932-d39f-23b83ea66790"
      },
      "execution_count": null,
      "outputs": [
        {
          "output_type": "execute_result",
          "data": {
            "text/plain": [
              "tensor([[1.1494, 0.4199, 1.0058],\n",
              "        [1.3069, 0.5650, 1.6384]])"
            ]
          },
          "metadata": {},
          "execution_count": 81
        }
      ]
    },
    {
      "cell_type": "code",
      "source": [
        "m"
      ],
      "metadata": {
        "colab": {
          "base_uri": "https://localhost:8080/"
        },
        "id": "5lWVWSQ_NANk",
        "outputId": "b7370b43-1eb8-41e5-88e4-9fefe1f8271b"
      },
      "execution_count": null,
      "outputs": [
        {
          "output_type": "execute_result",
          "data": {
            "text/plain": [
              "tensor([[1.1494, 0.4199, 1.0058],\n",
              "        [1.3069, 0.5650, 1.6384]])"
            ]
          },
          "metadata": {},
          "execution_count": 82
        }
      ]
    },
    {
      "cell_type": "markdown",
      "source": [
        "8.Copying a Tensor"
      ],
      "metadata": {
        "id": "8fKufm8lNLOi"
      }
    },
    {
      "cell_type": "code",
      "source": [
        "a = torch.rand(2,3)\n",
        "a"
      ],
      "metadata": {
        "colab": {
          "base_uri": "https://localhost:8080/"
        },
        "id": "swxxa-MFNRpg",
        "outputId": "a28be3d9-3b8c-485d-d3db-a921d558a5c9"
      },
      "execution_count": null,
      "outputs": [
        {
          "output_type": "execute_result",
          "data": {
            "text/plain": [
              "tensor([[0.2855, 0.2324, 0.9141],\n",
              "        [0.7668, 0.1659, 0.4393]])"
            ]
          },
          "metadata": {},
          "execution_count": 83
        }
      ]
    },
    {
      "cell_type": "code",
      "source": [
        "b = a"
      ],
      "metadata": {
        "id": "f5qwQXIBNb2a"
      },
      "execution_count": null,
      "outputs": []
    },
    {
      "cell_type": "code",
      "source": [
        "b"
      ],
      "metadata": {
        "colab": {
          "base_uri": "https://localhost:8080/"
        },
        "id": "6doPXoofNfss",
        "outputId": "0c5f99b8-f76f-469f-f7b1-eb5b898b2000"
      },
      "execution_count": null,
      "outputs": [
        {
          "output_type": "execute_result",
          "data": {
            "text/plain": [
              "tensor([[0.2855, 0.2324, 0.9141],\n",
              "        [0.7668, 0.1659, 0.4393]])"
            ]
          },
          "metadata": {},
          "execution_count": 85
        }
      ]
    },
    {
      "cell_type": "code",
      "source": [
        "a[0][0] = 0"
      ],
      "metadata": {
        "id": "WpQrIqYyNlZa"
      },
      "execution_count": null,
      "outputs": []
    },
    {
      "cell_type": "code",
      "source": [
        "id(a)"
      ],
      "metadata": {
        "colab": {
          "base_uri": "https://localhost:8080/"
        },
        "id": "f_oT94gXNucS",
        "outputId": "912196fe-0143-4a77-ee46-ceea5d0b8648"
      },
      "execution_count": null,
      "outputs": [
        {
          "output_type": "execute_result",
          "data": {
            "text/plain": [
              "140649713591664"
            ]
          },
          "metadata": {},
          "execution_count": 87
        }
      ]
    },
    {
      "cell_type": "code",
      "source": [
        "id(b)"
      ],
      "metadata": {
        "colab": {
          "base_uri": "https://localhost:8080/"
        },
        "id": "GfO35fCGNxOG",
        "outputId": "1a2a233d-b2dd-4510-f215-0e877f27d5c9"
      },
      "execution_count": null,
      "outputs": [
        {
          "output_type": "execute_result",
          "data": {
            "text/plain": [
              "140649713591664"
            ]
          },
          "metadata": {},
          "execution_count": 88
        }
      ]
    },
    {
      "cell_type": "code",
      "source": [
        "b = a.clone()"
      ],
      "metadata": {
        "id": "Yqmm28aRN4Lm"
      },
      "execution_count": null,
      "outputs": []
    },
    {
      "cell_type": "code",
      "source": [
        "a"
      ],
      "metadata": {
        "colab": {
          "base_uri": "https://localhost:8080/"
        },
        "id": "61QqAH92N7ZV",
        "outputId": "66af0d47-afba-47bd-b66d-7e1c832965d5"
      },
      "execution_count": null,
      "outputs": [
        {
          "output_type": "execute_result",
          "data": {
            "text/plain": [
              "tensor([[2.2421e-44, 0.0000e+00, 3.3857e+03],\n",
              "        [0.0000e+00, 2.8026e-45, 0.0000e+00]])"
            ]
          },
          "metadata": {},
          "execution_count": 11
        }
      ]
    },
    {
      "cell_type": "code",
      "source": [
        "b"
      ],
      "metadata": {
        "colab": {
          "base_uri": "https://localhost:8080/"
        },
        "id": "Sb4dzNBUN9EG",
        "outputId": "9f027f05-6caf-4dbe-e273-0aa25ef1a774"
      },
      "execution_count": null,
      "outputs": [
        {
          "output_type": "execute_result",
          "data": {
            "text/plain": [
              "tensor([[2.2421e-44, 0.0000e+00, 3.3857e+03],\n",
              "        [0.0000e+00, 2.8026e-45, 0.0000e+00]])"
            ]
          },
          "metadata": {},
          "execution_count": 14
        }
      ]
    },
    {
      "cell_type": "code",
      "source": [
        "id(a)"
      ],
      "metadata": {
        "colab": {
          "base_uri": "https://localhost:8080/"
        },
        "id": "LUZWxH_tN_nM",
        "outputId": "58d0c36c-941e-4538-fa04-9fa1dfdce487"
      },
      "execution_count": null,
      "outputs": [
        {
          "output_type": "execute_result",
          "data": {
            "text/plain": [
              "140649746294032"
            ]
          },
          "metadata": {},
          "execution_count": 15
        }
      ]
    },
    {
      "cell_type": "code",
      "source": [
        "id(b)"
      ],
      "metadata": {
        "colab": {
          "base_uri": "https://localhost:8080/"
        },
        "id": "uQFWltC3OB7j",
        "outputId": "58a127ca-7a08-4248-b02c-2b111d902abb"
      },
      "execution_count": null,
      "outputs": [
        {
          "output_type": "execute_result",
          "data": {
            "text/plain": [
              "140649746288848"
            ]
          },
          "metadata": {},
          "execution_count": 16
        }
      ]
    },
    {
      "cell_type": "markdown",
      "source": [
        "Tensor operation on GPU"
      ],
      "metadata": {
        "id": "LzixpZ99OGIp"
      }
    },
    {
      "cell_type": "code",
      "source": [
        "torch.cuda.is_available()"
      ],
      "metadata": {
        "colab": {
          "base_uri": "https://localhost:8080/"
        },
        "id": "lss1GN726qI7",
        "outputId": "ca33f99b-748c-4125-e341-5450d3f10f69"
      },
      "execution_count": null,
      "outputs": [
        {
          "output_type": "execute_result",
          "data": {
            "text/plain": [
              "True"
            ]
          },
          "metadata": {},
          "execution_count": 94
        }
      ]
    },
    {
      "cell_type": "code",
      "source": [
        "device = torch.device('cuda')"
      ],
      "metadata": {
        "id": "F-Gq3sXwOFaH"
      },
      "execution_count": null,
      "outputs": []
    },
    {
      "cell_type": "code",
      "source": [
        "#creating a new tensor on GPU\n",
        "torch.rand((2,3),device=device)"
      ],
      "metadata": {
        "colab": {
          "base_uri": "https://localhost:8080/"
        },
        "id": "RF38zK905Xrc",
        "outputId": "4e73b5ae-8814-4563-9efa-9f95e31e259b"
      },
      "execution_count": null,
      "outputs": [
        {
          "output_type": "execute_result",
          "data": {
            "text/plain": [
              "tensor([[0.1638, 0.9768, 0.8114],\n",
              "        [0.9476, 0.5558, 0.6393]], device='cuda:0')"
            ]
          },
          "metadata": {},
          "execution_count": 96
        }
      ]
    },
    {
      "cell_type": "code",
      "source": [
        "#moving an exting tensor on GPU\n",
        "a = torch.rand(2,3)\n",
        "a"
      ],
      "metadata": {
        "colab": {
          "base_uri": "https://localhost:8080/"
        },
        "id": "jJnpjdRY6-BY",
        "outputId": "f2afbadc-e907-41df-8a01-6e489d529675"
      },
      "execution_count": null,
      "outputs": [
        {
          "output_type": "execute_result",
          "data": {
            "text/plain": [
              "tensor([[0.2243, 0.8935, 0.0497],\n",
              "        [0.1780, 0.3011, 0.1893]])"
            ]
          },
          "metadata": {},
          "execution_count": 98
        }
      ]
    },
    {
      "cell_type": "code",
      "source": [
        "#CPU moving GPU\n",
        "b = a.to(device)\n",
        "b"
      ],
      "metadata": {
        "colab": {
          "base_uri": "https://localhost:8080/"
        },
        "id": "lvOXnmHQ72Ex",
        "outputId": "809e2e88-b0e5-41ff-8c81-94738f0ecf46"
      },
      "execution_count": null,
      "outputs": [
        {
          "output_type": "execute_result",
          "data": {
            "text/plain": [
              "tensor([[0.2243, 0.8935, 0.0497],\n",
              "        [0.1780, 0.3011, 0.1893]], device='cuda:0')"
            ]
          },
          "metadata": {},
          "execution_count": 102
        }
      ]
    },
    {
      "cell_type": "code",
      "source": [
        "b + 5"
      ],
      "metadata": {
        "colab": {
          "base_uri": "https://localhost:8080/"
        },
        "id": "7ZjiTfVX8P1j",
        "outputId": "dd468702-96be-45ab-f748-055e43119d88"
      },
      "execution_count": null,
      "outputs": [
        {
          "output_type": "execute_result",
          "data": {
            "text/plain": [
              "tensor([[5.2243, 5.8935, 5.0497],\n",
              "        [5.1780, 5.3011, 5.1893]], device='cuda:0')"
            ]
          },
          "metadata": {},
          "execution_count": 103
        }
      ]
    },
    {
      "cell_type": "code",
      "source": [
        "import torch\n",
        "import time\n",
        "\n",
        "#Define the size of the matrics\n",
        "size = 10000 #large size for performance comparison\n",
        "\n",
        "#create random martics on CPU\n",
        "matrix_cpu1 = torch.randn(size, size)\n",
        "matrix_cpu2 = torch.randn(size, size)\n",
        "\n",
        "#Measure time on CPU\n",
        "start_time = time.time()\n",
        "result_cpu = torch.matmul(matrix_cpu1, matrix_cpu2) #matrix multiplication on CPU\n",
        "cpu_time = time.time() - start_time\n",
        "\n",
        "print(f\"Time on CPU: {cpu_time: .4f}seconds\")\n",
        "\n",
        "#Move matrix on GPU\n",
        "matrix_gpu1 = matrix_cpu1.to('cuda')\n",
        "matrix_gpu2 = matrix_cpu2.to('cuda')\n",
        "\n",
        "#measure time on GPU\n",
        "start_time = time.time()\n",
        "result_gpu = torch.matmul(matrix_gpu1, matrix_gpu2) #matrix multiplication on GPU\n",
        "gpu_time = time.time() - start_time\n",
        "print(f\"Time on GPU: {gpu_time: .4f}seconds\")\n",
        "\n",
        "#compare results\n",
        "print(\"\\nSpeedUP (CPU time/GPU time):\", cpu_time / gpu_time)"
      ],
      "metadata": {
        "colab": {
          "base_uri": "https://localhost:8080/"
        },
        "id": "0ILgb4uZ8YMf",
        "outputId": "84a8991c-d5a2-4c8d-97c4-fc638905f6e4"
      },
      "execution_count": null,
      "outputs": [
        {
          "output_type": "stream",
          "name": "stdout",
          "text": [
            "Time on CPU:  15.6027seconds\n",
            "Time on GPU:  0.0005seconds\n",
            "\n",
            "SpeedUP (CPU time/GPU time): 32836.16357250376\n"
          ]
        }
      ]
    },
    {
      "cell_type": "markdown",
      "source": [
        "##Reshaping Tensor"
      ],
      "metadata": {
        "id": "QYJkbUKdLtlv"
      }
    },
    {
      "cell_type": "code",
      "source": [
        "a = torch.ones(4,4)\n",
        "a"
      ],
      "metadata": {
        "colab": {
          "base_uri": "https://localhost:8080/"
        },
        "id": "oI6Ax2sZLyrJ",
        "outputId": "081348ca-ef1e-4119-9ea1-d913f0342d2b"
      },
      "execution_count": null,
      "outputs": [
        {
          "output_type": "execute_result",
          "data": {
            "text/plain": [
              "tensor([[1., 1., 1., 1.],\n",
              "        [1., 1., 1., 1.],\n",
              "        [1., 1., 1., 1.],\n",
              "        [1., 1., 1., 1.]])"
            ]
          },
          "metadata": {},
          "execution_count": 3
        }
      ]
    },
    {
      "cell_type": "code",
      "source": [
        "#reshape\n",
        "a.reshape(2,2,2,2)"
      ],
      "metadata": {
        "colab": {
          "base_uri": "https://localhost:8080/"
        },
        "id": "rEMsyQFwL3s7",
        "outputId": "75ab6df8-ccbd-41c7-ee06-6c81f18f21a7"
      },
      "execution_count": null,
      "outputs": [
        {
          "output_type": "execute_result",
          "data": {
            "text/plain": [
              "tensor([[[[1., 1.],\n",
              "          [1., 1.]],\n",
              "\n",
              "         [[1., 1.],\n",
              "          [1., 1.]]],\n",
              "\n",
              "\n",
              "        [[[1., 1.],\n",
              "          [1., 1.]],\n",
              "\n",
              "         [[1., 1.],\n",
              "          [1., 1.]]]])"
            ]
          },
          "metadata": {},
          "execution_count": 5
        }
      ]
    },
    {
      "cell_type": "code",
      "source": [
        "#flatten\n",
        "a.flatten()"
      ],
      "metadata": {
        "colab": {
          "base_uri": "https://localhost:8080/"
        },
        "id": "-msws1sXL5pZ",
        "outputId": "dedcfc7e-1d6f-4cf2-9565-60c8dcf9bed4"
      },
      "execution_count": null,
      "outputs": [
        {
          "output_type": "execute_result",
          "data": {
            "text/plain": [
              "tensor([1., 1., 1., 1., 1., 1., 1., 1., 1., 1., 1., 1., 1., 1., 1., 1.])"
            ]
          },
          "metadata": {},
          "execution_count": 6
        }
      ]
    },
    {
      "cell_type": "code",
      "source": [
        "b = torch.rand(2,3,4)\n",
        "b"
      ],
      "metadata": {
        "colab": {
          "base_uri": "https://localhost:8080/"
        },
        "id": "6Bxjs8feL7o1",
        "outputId": "bbb0ebc0-a1f2-483d-9138-80a8296c28ab"
      },
      "execution_count": null,
      "outputs": [
        {
          "output_type": "execute_result",
          "data": {
            "text/plain": [
              "tensor([[[9.1962e-01, 4.6330e-02, 9.4130e-01, 5.4385e-01],\n",
              "         [5.1092e-01, 7.8132e-01, 1.1521e-01, 3.0154e-04],\n",
              "         [7.3520e-01, 5.7373e-01, 4.7859e-01, 9.6307e-01]],\n",
              "\n",
              "        [[8.0706e-01, 9.9883e-01, 6.7373e-02, 7.1664e-01],\n",
              "         [1.0351e-01, 2.2505e-01, 7.6222e-01, 3.2155e-01],\n",
              "         [3.8310e-01, 9.6041e-01, 4.8311e-01, 7.3980e-01]]])"
            ]
          },
          "metadata": {},
          "execution_count": 4
        }
      ]
    },
    {
      "cell_type": "code",
      "source": [
        "#permute\n",
        "b.permute(2,1,0).shape"
      ],
      "metadata": {
        "colab": {
          "base_uri": "https://localhost:8080/"
        },
        "id": "psJVUrB9QIf4",
        "outputId": "7cc77531-01db-4899-c16d-9e2dd1bce487"
      },
      "execution_count": null,
      "outputs": [
        {
          "output_type": "execute_result",
          "data": {
            "text/plain": [
              "torch.Size([4, 3, 2])"
            ]
          },
          "metadata": {},
          "execution_count": 7
        }
      ]
    },
    {
      "cell_type": "code",
      "source": [
        "#unsequezce\n",
        "#image size\n",
        "c = torch.rand(226,226,3)\n",
        "c.unsqueeze(0).shape"
      ],
      "metadata": {
        "colab": {
          "base_uri": "https://localhost:8080/"
        },
        "id": "7BXd0V-mQPhB",
        "outputId": "09bebf1f-a5fa-4c96-dfea-634ca2196c37"
      },
      "execution_count": null,
      "outputs": [
        {
          "output_type": "execute_result",
          "data": {
            "text/plain": [
              "torch.Size([1, 226, 226, 3])"
            ]
          },
          "metadata": {},
          "execution_count": 9
        }
      ]
    },
    {
      "cell_type": "code",
      "source": [
        "#sequezce\n",
        "d = torch.rand(1,20)\n",
        "d.squeeze(0).shape"
      ],
      "metadata": {
        "colab": {
          "base_uri": "https://localhost:8080/"
        },
        "id": "4zu9EW8JRFXD",
        "outputId": "5bb5b33e-337a-47d3-934c-1f2a22b7c35b"
      },
      "execution_count": null,
      "outputs": [
        {
          "output_type": "execute_result",
          "data": {
            "text/plain": [
              "torch.Size([20])"
            ]
          },
          "metadata": {},
          "execution_count": 13
        }
      ]
    },
    {
      "cell_type": "markdown",
      "source": [
        "##NumPy and Pytorch"
      ],
      "metadata": {
        "id": "q-JPf3rORqWM"
      }
    },
    {
      "cell_type": "code",
      "source": [
        "import numpy as np"
      ],
      "metadata": {
        "id": "n8GM8KRxRuGb"
      },
      "execution_count": null,
      "outputs": []
    },
    {
      "cell_type": "code",
      "source": [
        "a = torch.tensor([1,2,3])\n",
        "a"
      ],
      "metadata": {
        "colab": {
          "base_uri": "https://localhost:8080/"
        },
        "id": "CVwytX3iRuKd",
        "outputId": "46555cb4-3f78-45fe-f2c0-fbc11b870c9e"
      },
      "execution_count": null,
      "outputs": [
        {
          "output_type": "execute_result",
          "data": {
            "text/plain": [
              "tensor([1, 2, 3])"
            ]
          },
          "metadata": {},
          "execution_count": 15
        }
      ]
    },
    {
      "cell_type": "code",
      "source": [
        "b = a.numpy()\n",
        "b"
      ],
      "metadata": {
        "colab": {
          "base_uri": "https://localhost:8080/"
        },
        "id": "wbZ-rCn-R80k",
        "outputId": "64531f06-d2fc-489a-b291-e7074dc147f2"
      },
      "execution_count": null,
      "outputs": [
        {
          "output_type": "execute_result",
          "data": {
            "text/plain": [
              "array([1, 2, 3])"
            ]
          },
          "metadata": {},
          "execution_count": 17
        }
      ]
    },
    {
      "cell_type": "code",
      "source": [
        "type(b)"
      ],
      "metadata": {
        "colab": {
          "base_uri": "https://localhost:8080/"
        },
        "id": "vrePJ3bzSE6z",
        "outputId": "b3150af9-2759-4732-d130-4c60a84e1d91"
      },
      "execution_count": null,
      "outputs": [
        {
          "output_type": "execute_result",
          "data": {
            "text/plain": [
              "numpy.ndarray"
            ]
          },
          "metadata": {},
          "execution_count": 18
        }
      ]
    },
    {
      "cell_type": "code",
      "source": [
        "c = np.array([1,2,3])\n",
        "c"
      ],
      "metadata": {
        "colab": {
          "base_uri": "https://localhost:8080/"
        },
        "id": "BWPrS31qSIJE",
        "outputId": "0fc4be6f-7331-4ac8-b8db-108a0cf66ee2"
      },
      "execution_count": null,
      "outputs": [
        {
          "output_type": "execute_result",
          "data": {
            "text/plain": [
              "array([1, 2, 3])"
            ]
          },
          "metadata": {},
          "execution_count": 20
        }
      ]
    },
    {
      "cell_type": "code",
      "source": [
        "torch.from_numpy(c)"
      ],
      "metadata": {
        "colab": {
          "base_uri": "https://localhost:8080/"
        },
        "id": "rjIcx256SPpT",
        "outputId": "f69ab8ff-8c4b-4e38-a4a2-262461648ac0"
      },
      "execution_count": null,
      "outputs": [
        {
          "output_type": "execute_result",
          "data": {
            "text/plain": [
              "tensor([1, 2, 3])"
            ]
          },
          "metadata": {},
          "execution_count": 21
        }
      ]
    }
  ]
}